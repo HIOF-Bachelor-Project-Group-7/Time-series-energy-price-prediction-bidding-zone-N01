{
 "cells": [
  {
   "cell_type": "markdown",
   "id": "5b87d25b",
   "metadata": {},
   "source": [
    "## Data aggregation of energy market prices in bidding zone NO1 (Norway Østlandet) and neighbouring zones for the year of 2022"
   ]
  },
  {
   "cell_type": "markdown",
   "id": "2eb69a78",
   "metadata": {},
   "source": [
    "### Dependencies"
   ]
  },
  {
   "cell_type": "code",
   "execution_count": 230,
   "id": "5d5de126",
   "metadata": {},
   "outputs": [],
   "source": [
    "# importing dependencies to aggregate dataset\n",
    "import pandas as pd # data processing, CSV file I/O (e.g. pd.read_csv)\n",
    "\n",
    "from functools import reduce # used to merge the dataset"
   ]
  },
  {
   "cell_type": "markdown",
   "id": "21a8d1fd",
   "metadata": {},
   "source": [
    "### Aggregation of pricing data\n",
    "Pricing data is of spot (day-ahead) market prices in the currency Euro per MWh"
   ]
  },
  {
   "cell_type": "markdown",
   "id": "2af9f605",
   "metadata": {},
   "source": [
    "Importing price data from each zone"
   ]
  },
  {
   "cell_type": "code",
   "execution_count": 231,
   "id": "9bd79e8c",
   "metadata": {},
   "outputs": [
    {
     "name": "stdout",
     "output_type": "stream",
     "text": [
      "(8760, 4)\n",
      "(8760, 4)\n",
      "(8760, 4)\n",
      "(8760, 4)\n",
      "(8760, 4)\n"
     ]
    }
   ],
   "source": [
    "# reading price csv to dataframes\n",
    "prices_no1 = pd.read_csv(\"../datasets/prices/NO1 Day-ahead Prices_202201010000-202301010000.csv\")\n",
    "prices_no2 = pd.read_csv(\"../datasets/prices/NO2 Day-ahead Prices_202201010000-202301010000.csv\")\n",
    "prices_no3 = pd.read_csv(\"../datasets/prices/NO3 Day-ahead Prices_202201010000-202301010000.csv\")\n",
    "prices_no5 = pd.read_csv(\"../datasets/prices/NO5 Day-ahead Prices_202201010000-202301010000.csv\")\n",
    "prices_se3 = pd.read_csv(\"../datasets/prices/SE3 Day-ahead Prices_202201010000-202301010000.csv\")\n",
    "\n",
    "# creating list of price dataframes\n",
    "prices_dataframes = [prices_no1, prices_no2, prices_no3, prices_no5, prices_se3]\n",
    "\n",
    "# checking shape of each dataframe to see if all dataframes have the same number of rows.\n",
    "# row length should be 24 * 365 = 8760\n",
    "for i in prices_dataframes:\n",
    "    print(i.shape)"
   ]
  },
  {
   "cell_type": "markdown",
   "id": "3067050c",
   "metadata": {},
   "source": [
    "We see that all dataframes contain the correct number of rows.\n",
    "\n",
    "Printing out first rows of each dataset to see the structure and content of the dataframes."
   ]
  },
  {
   "cell_type": "code",
   "execution_count": 232,
   "id": "e6202e1c",
   "metadata": {},
   "outputs": [
    {
     "data": {
      "text/plain": "                             MTU (UTC)  Day-ahead Price [EUR/MWh] Currency  \\\n0  01.01.2022 00:00 - 01.01.2022 01:00                     129.30      EUR   \n1  01.01.2022 01:00 - 01.01.2022 02:00                     132.08      EUR   \n2  01.01.2022 02:00 - 01.01.2022 03:00                     111.44      EUR   \n3  01.01.2022 03:00 - 01.01.2022 04:00                     112.35      EUR   \n4  01.01.2022 04:00 - 01.01.2022 05:00                     113.90      EUR   \n\n   BZN|NO1  \n0      NaN  \n1      NaN  \n2      NaN  \n3      NaN  \n4      NaN  ",
      "text/html": "<div>\n<style scoped>\n    .dataframe tbody tr th:only-of-type {\n        vertical-align: middle;\n    }\n\n    .dataframe tbody tr th {\n        vertical-align: top;\n    }\n\n    .dataframe thead th {\n        text-align: right;\n    }\n</style>\n<table border=\"1\" class=\"dataframe\">\n  <thead>\n    <tr style=\"text-align: right;\">\n      <th></th>\n      <th>MTU (UTC)</th>\n      <th>Day-ahead Price [EUR/MWh]</th>\n      <th>Currency</th>\n      <th>BZN|NO1</th>\n    </tr>\n  </thead>\n  <tbody>\n    <tr>\n      <th>0</th>\n      <td>01.01.2022 00:00 - 01.01.2022 01:00</td>\n      <td>129.30</td>\n      <td>EUR</td>\n      <td>NaN</td>\n    </tr>\n    <tr>\n      <th>1</th>\n      <td>01.01.2022 01:00 - 01.01.2022 02:00</td>\n      <td>132.08</td>\n      <td>EUR</td>\n      <td>NaN</td>\n    </tr>\n    <tr>\n      <th>2</th>\n      <td>01.01.2022 02:00 - 01.01.2022 03:00</td>\n      <td>111.44</td>\n      <td>EUR</td>\n      <td>NaN</td>\n    </tr>\n    <tr>\n      <th>3</th>\n      <td>01.01.2022 03:00 - 01.01.2022 04:00</td>\n      <td>112.35</td>\n      <td>EUR</td>\n      <td>NaN</td>\n    </tr>\n    <tr>\n      <th>4</th>\n      <td>01.01.2022 04:00 - 01.01.2022 05:00</td>\n      <td>113.90</td>\n      <td>EUR</td>\n      <td>NaN</td>\n    </tr>\n  </tbody>\n</table>\n</div>"
     },
     "execution_count": 232,
     "metadata": {},
     "output_type": "execute_result"
    }
   ],
   "source": [
    "prices_no1.head()"
   ]
  },
  {
   "cell_type": "code",
   "execution_count": 233,
   "id": "5edabdc5",
   "metadata": {},
   "outputs": [
    {
     "data": {
      "text/plain": "                             MTU (UTC)  Day-ahead Price [EUR/MWh] Currency  \\\n0  01.01.2022 00:00 - 01.01.2022 01:00                     129.30      EUR   \n1  01.01.2022 01:00 - 01.01.2022 02:00                     132.08      EUR   \n2  01.01.2022 02:00 - 01.01.2022 03:00                     111.44      EUR   \n3  01.01.2022 03:00 - 01.01.2022 04:00                     112.35      EUR   \n4  01.01.2022 04:00 - 01.01.2022 05:00                     113.90      EUR   \n\n   BZN|NO2  \n0      NaN  \n1      NaN  \n2      NaN  \n3      NaN  \n4      NaN  ",
      "text/html": "<div>\n<style scoped>\n    .dataframe tbody tr th:only-of-type {\n        vertical-align: middle;\n    }\n\n    .dataframe tbody tr th {\n        vertical-align: top;\n    }\n\n    .dataframe thead th {\n        text-align: right;\n    }\n</style>\n<table border=\"1\" class=\"dataframe\">\n  <thead>\n    <tr style=\"text-align: right;\">\n      <th></th>\n      <th>MTU (UTC)</th>\n      <th>Day-ahead Price [EUR/MWh]</th>\n      <th>Currency</th>\n      <th>BZN|NO2</th>\n    </tr>\n  </thead>\n  <tbody>\n    <tr>\n      <th>0</th>\n      <td>01.01.2022 00:00 - 01.01.2022 01:00</td>\n      <td>129.30</td>\n      <td>EUR</td>\n      <td>NaN</td>\n    </tr>\n    <tr>\n      <th>1</th>\n      <td>01.01.2022 01:00 - 01.01.2022 02:00</td>\n      <td>132.08</td>\n      <td>EUR</td>\n      <td>NaN</td>\n    </tr>\n    <tr>\n      <th>2</th>\n      <td>01.01.2022 02:00 - 01.01.2022 03:00</td>\n      <td>111.44</td>\n      <td>EUR</td>\n      <td>NaN</td>\n    </tr>\n    <tr>\n      <th>3</th>\n      <td>01.01.2022 03:00 - 01.01.2022 04:00</td>\n      <td>112.35</td>\n      <td>EUR</td>\n      <td>NaN</td>\n    </tr>\n    <tr>\n      <th>4</th>\n      <td>01.01.2022 04:00 - 01.01.2022 05:00</td>\n      <td>113.90</td>\n      <td>EUR</td>\n      <td>NaN</td>\n    </tr>\n  </tbody>\n</table>\n</div>"
     },
     "execution_count": 233,
     "metadata": {},
     "output_type": "execute_result"
    }
   ],
   "source": [
    "prices_no2.head()"
   ]
  },
  {
   "cell_type": "code",
   "execution_count": 234,
   "id": "371621b2",
   "metadata": {},
   "outputs": [
    {
     "data": {
      "text/plain": "                             MTU (UTC)  Day-ahead Price [EUR/MWh] Currency  \\\n0  01.01.2022 00:00 - 01.01.2022 01:00                      41.33      EUR   \n1  01.01.2022 01:00 - 01.01.2022 02:00                      42.18      EUR   \n2  01.01.2022 02:00 - 01.01.2022 03:00                      44.37      EUR   \n3  01.01.2022 03:00 - 01.01.2022 04:00                      37.67      EUR   \n4  01.01.2022 04:00 - 01.01.2022 05:00                      39.70      EUR   \n\n   BZN|NO3  \n0      NaN  \n1      NaN  \n2      NaN  \n3      NaN  \n4      NaN  ",
      "text/html": "<div>\n<style scoped>\n    .dataframe tbody tr th:only-of-type {\n        vertical-align: middle;\n    }\n\n    .dataframe tbody tr th {\n        vertical-align: top;\n    }\n\n    .dataframe thead th {\n        text-align: right;\n    }\n</style>\n<table border=\"1\" class=\"dataframe\">\n  <thead>\n    <tr style=\"text-align: right;\">\n      <th></th>\n      <th>MTU (UTC)</th>\n      <th>Day-ahead Price [EUR/MWh]</th>\n      <th>Currency</th>\n      <th>BZN|NO3</th>\n    </tr>\n  </thead>\n  <tbody>\n    <tr>\n      <th>0</th>\n      <td>01.01.2022 00:00 - 01.01.2022 01:00</td>\n      <td>41.33</td>\n      <td>EUR</td>\n      <td>NaN</td>\n    </tr>\n    <tr>\n      <th>1</th>\n      <td>01.01.2022 01:00 - 01.01.2022 02:00</td>\n      <td>42.18</td>\n      <td>EUR</td>\n      <td>NaN</td>\n    </tr>\n    <tr>\n      <th>2</th>\n      <td>01.01.2022 02:00 - 01.01.2022 03:00</td>\n      <td>44.37</td>\n      <td>EUR</td>\n      <td>NaN</td>\n    </tr>\n    <tr>\n      <th>3</th>\n      <td>01.01.2022 03:00 - 01.01.2022 04:00</td>\n      <td>37.67</td>\n      <td>EUR</td>\n      <td>NaN</td>\n    </tr>\n    <tr>\n      <th>4</th>\n      <td>01.01.2022 04:00 - 01.01.2022 05:00</td>\n      <td>39.70</td>\n      <td>EUR</td>\n      <td>NaN</td>\n    </tr>\n  </tbody>\n</table>\n</div>"
     },
     "execution_count": 234,
     "metadata": {},
     "output_type": "execute_result"
    }
   ],
   "source": [
    "prices_no3.head()"
   ]
  },
  {
   "cell_type": "code",
   "execution_count": 235,
   "id": "cb4f2009",
   "metadata": {},
   "outputs": [
    {
     "data": {
      "text/plain": "                             MTU (UTC)  Day-ahead Price [EUR/MWh] Currency  \\\n0  01.01.2022 00:00 - 01.01.2022 01:00                     129.30      EUR   \n1  01.01.2022 01:00 - 01.01.2022 02:00                     132.08      EUR   \n2  01.01.2022 02:00 - 01.01.2022 03:00                     111.44      EUR   \n3  01.01.2022 03:00 - 01.01.2022 04:00                     112.35      EUR   \n4  01.01.2022 04:00 - 01.01.2022 05:00                     113.90      EUR   \n\n   BZN|NO5  \n0      NaN  \n1      NaN  \n2      NaN  \n3      NaN  \n4      NaN  ",
      "text/html": "<div>\n<style scoped>\n    .dataframe tbody tr th:only-of-type {\n        vertical-align: middle;\n    }\n\n    .dataframe tbody tr th {\n        vertical-align: top;\n    }\n\n    .dataframe thead th {\n        text-align: right;\n    }\n</style>\n<table border=\"1\" class=\"dataframe\">\n  <thead>\n    <tr style=\"text-align: right;\">\n      <th></th>\n      <th>MTU (UTC)</th>\n      <th>Day-ahead Price [EUR/MWh]</th>\n      <th>Currency</th>\n      <th>BZN|NO5</th>\n    </tr>\n  </thead>\n  <tbody>\n    <tr>\n      <th>0</th>\n      <td>01.01.2022 00:00 - 01.01.2022 01:00</td>\n      <td>129.30</td>\n      <td>EUR</td>\n      <td>NaN</td>\n    </tr>\n    <tr>\n      <th>1</th>\n      <td>01.01.2022 01:00 - 01.01.2022 02:00</td>\n      <td>132.08</td>\n      <td>EUR</td>\n      <td>NaN</td>\n    </tr>\n    <tr>\n      <th>2</th>\n      <td>01.01.2022 02:00 - 01.01.2022 03:00</td>\n      <td>111.44</td>\n      <td>EUR</td>\n      <td>NaN</td>\n    </tr>\n    <tr>\n      <th>3</th>\n      <td>01.01.2022 03:00 - 01.01.2022 04:00</td>\n      <td>112.35</td>\n      <td>EUR</td>\n      <td>NaN</td>\n    </tr>\n    <tr>\n      <th>4</th>\n      <td>01.01.2022 04:00 - 01.01.2022 05:00</td>\n      <td>113.90</td>\n      <td>EUR</td>\n      <td>NaN</td>\n    </tr>\n  </tbody>\n</table>\n</div>"
     },
     "execution_count": 235,
     "metadata": {},
     "output_type": "execute_result"
    }
   ],
   "source": [
    "prices_no5.head()"
   ]
  },
  {
   "cell_type": "code",
   "execution_count": 236,
   "id": "aa7002e3",
   "metadata": {},
   "outputs": [
    {
     "data": {
      "text/plain": "                             MTU (UTC)  Day-ahead Price [EUR/MWh] Currency  \\\n0  01.01.2022 00:00 - 01.01.2022 01:00                      41.33      EUR   \n1  01.01.2022 01:00 - 01.01.2022 02:00                      42.18      EUR   \n2  01.01.2022 02:00 - 01.01.2022 03:00                      44.37      EUR   \n3  01.01.2022 03:00 - 01.01.2022 04:00                      37.67      EUR   \n4  01.01.2022 04:00 - 01.01.2022 05:00                      39.70      EUR   \n\n   BZN|SE3  \n0      NaN  \n1      NaN  \n2      NaN  \n3      NaN  \n4      NaN  ",
      "text/html": "<div>\n<style scoped>\n    .dataframe tbody tr th:only-of-type {\n        vertical-align: middle;\n    }\n\n    .dataframe tbody tr th {\n        vertical-align: top;\n    }\n\n    .dataframe thead th {\n        text-align: right;\n    }\n</style>\n<table border=\"1\" class=\"dataframe\">\n  <thead>\n    <tr style=\"text-align: right;\">\n      <th></th>\n      <th>MTU (UTC)</th>\n      <th>Day-ahead Price [EUR/MWh]</th>\n      <th>Currency</th>\n      <th>BZN|SE3</th>\n    </tr>\n  </thead>\n  <tbody>\n    <tr>\n      <th>0</th>\n      <td>01.01.2022 00:00 - 01.01.2022 01:00</td>\n      <td>41.33</td>\n      <td>EUR</td>\n      <td>NaN</td>\n    </tr>\n    <tr>\n      <th>1</th>\n      <td>01.01.2022 01:00 - 01.01.2022 02:00</td>\n      <td>42.18</td>\n      <td>EUR</td>\n      <td>NaN</td>\n    </tr>\n    <tr>\n      <th>2</th>\n      <td>01.01.2022 02:00 - 01.01.2022 03:00</td>\n      <td>44.37</td>\n      <td>EUR</td>\n      <td>NaN</td>\n    </tr>\n    <tr>\n      <th>3</th>\n      <td>01.01.2022 03:00 - 01.01.2022 04:00</td>\n      <td>37.67</td>\n      <td>EUR</td>\n      <td>NaN</td>\n    </tr>\n    <tr>\n      <th>4</th>\n      <td>01.01.2022 04:00 - 01.01.2022 05:00</td>\n      <td>39.70</td>\n      <td>EUR</td>\n      <td>NaN</td>\n    </tr>\n  </tbody>\n</table>\n</div>"
     },
     "execution_count": 236,
     "metadata": {},
     "output_type": "execute_result"
    }
   ],
   "source": [
    "prices_se3.head()"
   ]
  },
  {
   "cell_type": "markdown",
   "id": "888cdf61",
   "metadata": {},
   "source": [
    "#### preparation for merging of the price data from the different zones:\n",
    "The common column we will merge the data based on is the date time column \"MTU (UTC)\". The column currency is redundant since the column that holds price already includes it in the column name. The currency column can therefore be dropped. The datasets have a colum name for which zone the data is from, but does not include any data for each entry. This information can be added to the column name for price and the column for zone can be dropped."
   ]
  },
  {
   "cell_type": "code",
   "execution_count": 237,
   "id": "b0a54a18",
   "metadata": {},
   "outputs": [],
   "source": [
    "# renaming price columns\n",
    "prices_no1 = prices_no1.rename(columns={'Day-ahead Price [EUR/MWh]': 'Day-ahead Price [EUR/MWh] BZN|NO1'})\n",
    "prices_no2 = prices_no2.rename(columns={'Day-ahead Price [EUR/MWh]': 'Day-ahead Price [EUR/MWh] BZN|NO2'})\n",
    "prices_no3 = prices_no3.rename(columns={'Day-ahead Price [EUR/MWh]': 'Day-ahead Price [EUR/MWh] BZN|NO3'})\n",
    "prices_no5 = prices_no5.rename(columns={'Day-ahead Price [EUR/MWh]': 'Day-ahead Price [EUR/MWh] BZN|NO5'})\n",
    "prices_se3 = prices_se3.rename(columns={'Day-ahead Price [EUR/MWh]': 'Day-ahead Price [EUR/MWh] BZN|SE3'})"
   ]
  },
  {
   "cell_type": "code",
   "execution_count": 238,
   "id": "d8b90540",
   "metadata": {},
   "outputs": [],
   "source": [
    "# dropping redundant columns\n",
    "prices_no1= prices_no1.drop(['Currency', 'BZN|NO1'], axis=1)\n",
    "prices_no2= prices_no2.drop(['Currency', 'BZN|NO2'], axis=1)\n",
    "prices_no3= prices_no3.drop(['Currency', 'BZN|NO3'], axis=1)\n",
    "prices_no5= prices_no5.drop(['Currency', 'BZN|NO5'], axis=1)\n",
    "prices_se3= prices_se3.drop(['Currency', 'BZN|SE3'], axis=1)"
   ]
  },
  {
   "cell_type": "code",
   "execution_count": 239,
   "id": "d6da0987",
   "metadata": {},
   "outputs": [
    {
     "data": {
      "text/plain": "                             MTU (UTC)  Day-ahead Price [EUR/MWh] BZN|NO1  \\\n0  01.01.2022 00:00 - 01.01.2022 01:00                             129.30   \n1  01.01.2022 01:00 - 01.01.2022 02:00                             132.08   \n2  01.01.2022 02:00 - 01.01.2022 03:00                             111.44   \n3  01.01.2022 03:00 - 01.01.2022 04:00                             112.35   \n4  01.01.2022 04:00 - 01.01.2022 05:00                             113.90   \n\n   Day-ahead Price [EUR/MWh] BZN|NO2  Day-ahead Price [EUR/MWh] BZN|NO3  \\\n0                             129.30                              41.33   \n1                             132.08                              42.18   \n2                             111.44                              44.37   \n3                             112.35                              37.67   \n4                             113.90                              39.70   \n\n   Day-ahead Price [EUR/MWh] BZN|NO5  Day-ahead Price [EUR/MWh] BZN|SE3  \n0                             129.30                              41.33  \n1                             132.08                              42.18  \n2                             111.44                              44.37  \n3                             112.35                              37.67  \n4                             113.90                              39.70  ",
      "text/html": "<div>\n<style scoped>\n    .dataframe tbody tr th:only-of-type {\n        vertical-align: middle;\n    }\n\n    .dataframe tbody tr th {\n        vertical-align: top;\n    }\n\n    .dataframe thead th {\n        text-align: right;\n    }\n</style>\n<table border=\"1\" class=\"dataframe\">\n  <thead>\n    <tr style=\"text-align: right;\">\n      <th></th>\n      <th>MTU (UTC)</th>\n      <th>Day-ahead Price [EUR/MWh] BZN|NO1</th>\n      <th>Day-ahead Price [EUR/MWh] BZN|NO2</th>\n      <th>Day-ahead Price [EUR/MWh] BZN|NO3</th>\n      <th>Day-ahead Price [EUR/MWh] BZN|NO5</th>\n      <th>Day-ahead Price [EUR/MWh] BZN|SE3</th>\n    </tr>\n  </thead>\n  <tbody>\n    <tr>\n      <th>0</th>\n      <td>01.01.2022 00:00 - 01.01.2022 01:00</td>\n      <td>129.30</td>\n      <td>129.30</td>\n      <td>41.33</td>\n      <td>129.30</td>\n      <td>41.33</td>\n    </tr>\n    <tr>\n      <th>1</th>\n      <td>01.01.2022 01:00 - 01.01.2022 02:00</td>\n      <td>132.08</td>\n      <td>132.08</td>\n      <td>42.18</td>\n      <td>132.08</td>\n      <td>42.18</td>\n    </tr>\n    <tr>\n      <th>2</th>\n      <td>01.01.2022 02:00 - 01.01.2022 03:00</td>\n      <td>111.44</td>\n      <td>111.44</td>\n      <td>44.37</td>\n      <td>111.44</td>\n      <td>44.37</td>\n    </tr>\n    <tr>\n      <th>3</th>\n      <td>01.01.2022 03:00 - 01.01.2022 04:00</td>\n      <td>112.35</td>\n      <td>112.35</td>\n      <td>37.67</td>\n      <td>112.35</td>\n      <td>37.67</td>\n    </tr>\n    <tr>\n      <th>4</th>\n      <td>01.01.2022 04:00 - 01.01.2022 05:00</td>\n      <td>113.90</td>\n      <td>113.90</td>\n      <td>39.70</td>\n      <td>113.90</td>\n      <td>39.70</td>\n    </tr>\n  </tbody>\n</table>\n</div>"
     },
     "execution_count": 239,
     "metadata": {},
     "output_type": "execute_result"
    }
   ],
   "source": [
    "# merging the price data into one dataframe on the date time column 'MTU (UTC)'\n",
    "updated_price_dataframes = [prices_no1, prices_no2, prices_no3, prices_no5, prices_se3]\n",
    "prices = reduce(lambda left, right: pd.merge(left,right, on=['MTU (UTC)']), updated_price_dataframes)\n",
    "\n",
    "# printing out the 5 first rows resulting dataframe\n",
    "prices.head()"
   ]
  },
  {
   "cell_type": "code",
   "execution_count": 240,
   "id": "52623143",
   "metadata": {},
   "outputs": [
    {
     "data": {
      "text/plain": "                                MTU (UTC)  Day-ahead Price [EUR/MWh] BZN|NO1  \\\n8755  31.12.2022 19:00 - 31.12.2022 20:00                             123.61   \n8756  31.12.2022 20:00 - 31.12.2022 21:00                             121.09   \n8757  31.12.2022 21:00 - 31.12.2022 22:00                             120.00   \n8758  31.12.2022 22:00 - 31.12.2022 23:00                             119.98   \n8759  31.12.2022 23:00 - 01.01.2023 00:00                             119.32   \n\n      Day-ahead Price [EUR/MWh] BZN|NO2  Day-ahead Price [EUR/MWh] BZN|NO3  \\\n8755                             123.61                              23.82   \n8756                             121.09                              23.93   \n8757                             120.00                              23.75   \n8758                             119.98                              23.56   \n8759                             119.32                              23.35   \n\n      Day-ahead Price [EUR/MWh] BZN|NO5  Day-ahead Price [EUR/MWh] BZN|SE3  \n8755                             123.61                              11.57  \n8756                             121.09                              14.89  \n8757                             120.00                               9.94  \n8758                             119.98                               4.84  \n8759                             119.32                               2.01  ",
      "text/html": "<div>\n<style scoped>\n    .dataframe tbody tr th:only-of-type {\n        vertical-align: middle;\n    }\n\n    .dataframe tbody tr th {\n        vertical-align: top;\n    }\n\n    .dataframe thead th {\n        text-align: right;\n    }\n</style>\n<table border=\"1\" class=\"dataframe\">\n  <thead>\n    <tr style=\"text-align: right;\">\n      <th></th>\n      <th>MTU (UTC)</th>\n      <th>Day-ahead Price [EUR/MWh] BZN|NO1</th>\n      <th>Day-ahead Price [EUR/MWh] BZN|NO2</th>\n      <th>Day-ahead Price [EUR/MWh] BZN|NO3</th>\n      <th>Day-ahead Price [EUR/MWh] BZN|NO5</th>\n      <th>Day-ahead Price [EUR/MWh] BZN|SE3</th>\n    </tr>\n  </thead>\n  <tbody>\n    <tr>\n      <th>8755</th>\n      <td>31.12.2022 19:00 - 31.12.2022 20:00</td>\n      <td>123.61</td>\n      <td>123.61</td>\n      <td>23.82</td>\n      <td>123.61</td>\n      <td>11.57</td>\n    </tr>\n    <tr>\n      <th>8756</th>\n      <td>31.12.2022 20:00 - 31.12.2022 21:00</td>\n      <td>121.09</td>\n      <td>121.09</td>\n      <td>23.93</td>\n      <td>121.09</td>\n      <td>14.89</td>\n    </tr>\n    <tr>\n      <th>8757</th>\n      <td>31.12.2022 21:00 - 31.12.2022 22:00</td>\n      <td>120.00</td>\n      <td>120.00</td>\n      <td>23.75</td>\n      <td>120.00</td>\n      <td>9.94</td>\n    </tr>\n    <tr>\n      <th>8758</th>\n      <td>31.12.2022 22:00 - 31.12.2022 23:00</td>\n      <td>119.98</td>\n      <td>119.98</td>\n      <td>23.56</td>\n      <td>119.98</td>\n      <td>4.84</td>\n    </tr>\n    <tr>\n      <th>8759</th>\n      <td>31.12.2022 23:00 - 01.01.2023 00:00</td>\n      <td>119.32</td>\n      <td>119.32</td>\n      <td>23.35</td>\n      <td>119.32</td>\n      <td>2.01</td>\n    </tr>\n  </tbody>\n</table>\n</div>"
     },
     "execution_count": 240,
     "metadata": {},
     "output_type": "execute_result"
    }
   ],
   "source": [
    "# printing out the last 5 rows of the resulting dataframe\n",
    "prices.tail()"
   ]
  },
  {
   "cell_type": "markdown",
   "id": "bd3be30b",
   "metadata": {},
   "source": [
    "We can se that the datetime of the first and last rows in the dataset are correct. we also want to check if the dataframe still have the correct number of rows to se if the merge was successful"
   ]
  },
  {
   "cell_type": "code",
   "execution_count": 241,
   "id": "63e9f785",
   "metadata": {},
   "outputs": [
    {
     "data": {
      "text/plain": "(8760, 6)"
     },
     "execution_count": 241,
     "metadata": {},
     "output_type": "execute_result"
    }
   ],
   "source": [
    "# printing out shape of dataframe\n",
    "prices.shape"
   ]
  },
  {
   "cell_type": "markdown",
   "id": "4759fe60",
   "metadata": {},
   "source": [
    "The prices dataframe has the correct number of rows (8760) so the aggregation of the price datasets have been successful.\n",
    "\n",
    "We also want to check if the data has any missing values."
   ]
  },
  {
   "cell_type": "code",
   "execution_count": 242,
   "id": "268774cf",
   "metadata": {},
   "outputs": [
    {
     "data": {
      "text/plain": "MTU (UTC)                            0\nDay-ahead Price [EUR/MWh] BZN|NO1    0\nDay-ahead Price [EUR/MWh] BZN|NO2    0\nDay-ahead Price [EUR/MWh] BZN|NO3    0\nDay-ahead Price [EUR/MWh] BZN|NO5    0\nDay-ahead Price [EUR/MWh] BZN|SE3    0\ndtype: int64"
     },
     "execution_count": 242,
     "metadata": {},
     "output_type": "execute_result"
    }
   ],
   "source": [
    "# checking data for missing values, if any\n",
    "prices.isna().sum()"
   ]
  },
  {
   "cell_type": "markdown",
   "id": "42438336",
   "metadata": {},
   "source": [
    "The data has no missing values."
   ]
  },
  {
   "cell_type": "markdown",
   "id": "0af833f9",
   "metadata": {},
   "source": [
    "### Aggregation of load data\n",
    "The load data contains data about the power consumption in each zone"
   ]
  },
  {
   "cell_type": "markdown",
   "id": "5ee4e087",
   "metadata": {},
   "source": [
    "Importing load data from each zone"
   ]
  },
  {
   "cell_type": "code",
   "execution_count": 243,
   "id": "b47e94f9",
   "metadata": {},
   "outputs": [
    {
     "name": "stdout",
     "output_type": "stream",
     "text": [
      "(8760, 3)\n",
      "(8760, 3)\n",
      "(8760, 3)\n",
      "(8760, 3)\n",
      "(8760, 3)\n"
     ]
    }
   ],
   "source": [
    "load_no1 = pd.read_csv(\"../datasets/load/NO1 Total Load - Day Ahead _ Actual_202201010000-202301010000.csv\")\n",
    "load_no2 = pd.read_csv(\"../datasets/load/NO2 Total Load - Day Ahead _ Actual_202201010000-202301010000.csv\")\n",
    "load_no3 = pd.read_csv(\"../datasets/load/NO3 Total Load - Day Ahead _ Actual_202201010000-202301010000.csv\")\n",
    "load_no5 = pd.read_csv(\"../datasets/load/NO5 Total Load - Day Ahead _ Actual_202201010000-202301010000.csv\")\n",
    "load_se3 = pd.read_csv(\"../datasets/load/SE3 Total Load - Day Ahead _ Actual_202201010000-202301010000.csv\")\n",
    "\n",
    "# creating list of load dataframes\n",
    "load_dataframes = [load_no1, load_no2, load_no3, load_no5, load_se3]\n",
    "\n",
    "# checking shape of each dataframe to see if all dataframes have the same number of rows.\n",
    "# row length should be 24 * 365 = 8760\n",
    "for i in load_dataframes:\n",
    "    print(i.shape)"
   ]
  },
  {
   "cell_type": "markdown",
   "id": "51cb78a3",
   "metadata": {},
   "source": [
    "We see that all dataframes contain the correct number of rows.\n",
    "\n",
    "Printing out first rows of each dataset to see the structure and content of the dataframes."
   ]
  },
  {
   "cell_type": "code",
   "execution_count": 244,
   "id": "61cde040",
   "metadata": {},
   "outputs": [
    {
     "data": {
      "text/plain": "                            Time (UTC)  \\\n0  01.01.2022 00:00 - 01.01.2022 01:00   \n1  01.01.2022 01:00 - 01.01.2022 02:00   \n2  01.01.2022 02:00 - 01.01.2022 03:00   \n3  01.01.2022 03:00 - 01.01.2022 04:00   \n4  01.01.2022 04:00 - 01.01.2022 05:00   \n\n   Day-ahead Total Load Forecast [MW] - BZN|NO1  \\\n0                                          4492   \n1                                          4371   \n2                                          4234   \n3                                          4225   \n4                                          4227   \n\n   Actual Total Load [MW] - BZN|NO1  \n0                              4701  \n1                              4681  \n2                              4620  \n3                              4645  \n4                              4670  ",
      "text/html": "<div>\n<style scoped>\n    .dataframe tbody tr th:only-of-type {\n        vertical-align: middle;\n    }\n\n    .dataframe tbody tr th {\n        vertical-align: top;\n    }\n\n    .dataframe thead th {\n        text-align: right;\n    }\n</style>\n<table border=\"1\" class=\"dataframe\">\n  <thead>\n    <tr style=\"text-align: right;\">\n      <th></th>\n      <th>Time (UTC)</th>\n      <th>Day-ahead Total Load Forecast [MW] - BZN|NO1</th>\n      <th>Actual Total Load [MW] - BZN|NO1</th>\n    </tr>\n  </thead>\n  <tbody>\n    <tr>\n      <th>0</th>\n      <td>01.01.2022 00:00 - 01.01.2022 01:00</td>\n      <td>4492</td>\n      <td>4701</td>\n    </tr>\n    <tr>\n      <th>1</th>\n      <td>01.01.2022 01:00 - 01.01.2022 02:00</td>\n      <td>4371</td>\n      <td>4681</td>\n    </tr>\n    <tr>\n      <th>2</th>\n      <td>01.01.2022 02:00 - 01.01.2022 03:00</td>\n      <td>4234</td>\n      <td>4620</td>\n    </tr>\n    <tr>\n      <th>3</th>\n      <td>01.01.2022 03:00 - 01.01.2022 04:00</td>\n      <td>4225</td>\n      <td>4645</td>\n    </tr>\n    <tr>\n      <th>4</th>\n      <td>01.01.2022 04:00 - 01.01.2022 05:00</td>\n      <td>4227</td>\n      <td>4670</td>\n    </tr>\n  </tbody>\n</table>\n</div>"
     },
     "execution_count": 244,
     "metadata": {},
     "output_type": "execute_result"
    }
   ],
   "source": [
    "load_no1.head()"
   ]
  },
  {
   "cell_type": "code",
   "execution_count": 245,
   "id": "618cf27f",
   "metadata": {},
   "outputs": [
    {
     "data": {
      "text/plain": "                            Time (UTC)  \\\n0  01.01.2022 00:00 - 01.01.2022 01:00   \n1  01.01.2022 01:00 - 01.01.2022 02:00   \n2  01.01.2022 02:00 - 01.01.2022 03:00   \n3  01.01.2022 03:00 - 01.01.2022 04:00   \n4  01.01.2022 04:00 - 01.01.2022 05:00   \n\n   Day-ahead Total Load Forecast [MW] - BZN|NO2  \\\n0                                          4170   \n1                                          3796   \n2                                          3423   \n3                                          3439   \n4                                          3469   \n\n   Actual Total Load [MW] - BZN|NO2  \n0                              4440  \n1                              4480  \n2                              4424  \n3                              4386  \n4                              4375  ",
      "text/html": "<div>\n<style scoped>\n    .dataframe tbody tr th:only-of-type {\n        vertical-align: middle;\n    }\n\n    .dataframe tbody tr th {\n        vertical-align: top;\n    }\n\n    .dataframe thead th {\n        text-align: right;\n    }\n</style>\n<table border=\"1\" class=\"dataframe\">\n  <thead>\n    <tr style=\"text-align: right;\">\n      <th></th>\n      <th>Time (UTC)</th>\n      <th>Day-ahead Total Load Forecast [MW] - BZN|NO2</th>\n      <th>Actual Total Load [MW] - BZN|NO2</th>\n    </tr>\n  </thead>\n  <tbody>\n    <tr>\n      <th>0</th>\n      <td>01.01.2022 00:00 - 01.01.2022 01:00</td>\n      <td>4170</td>\n      <td>4440</td>\n    </tr>\n    <tr>\n      <th>1</th>\n      <td>01.01.2022 01:00 - 01.01.2022 02:00</td>\n      <td>3796</td>\n      <td>4480</td>\n    </tr>\n    <tr>\n      <th>2</th>\n      <td>01.01.2022 02:00 - 01.01.2022 03:00</td>\n      <td>3423</td>\n      <td>4424</td>\n    </tr>\n    <tr>\n      <th>3</th>\n      <td>01.01.2022 03:00 - 01.01.2022 04:00</td>\n      <td>3439</td>\n      <td>4386</td>\n    </tr>\n    <tr>\n      <th>4</th>\n      <td>01.01.2022 04:00 - 01.01.2022 05:00</td>\n      <td>3469</td>\n      <td>4375</td>\n    </tr>\n  </tbody>\n</table>\n</div>"
     },
     "execution_count": 245,
     "metadata": {},
     "output_type": "execute_result"
    }
   ],
   "source": [
    "load_no2.head()"
   ]
  },
  {
   "cell_type": "code",
   "execution_count": 246,
   "id": "72b7ec8a",
   "metadata": {},
   "outputs": [
    {
     "data": {
      "text/plain": "                            Time (UTC)  \\\n0  01.01.2022 00:00 - 01.01.2022 01:00   \n1  01.01.2022 01:00 - 01.01.2022 02:00   \n2  01.01.2022 02:00 - 01.01.2022 03:00   \n3  01.01.2022 03:00 - 01.01.2022 04:00   \n4  01.01.2022 04:00 - 01.01.2022 05:00   \n\n   Day-ahead Total Load Forecast [MW] - BZN|NO3  \\\n0                                          3235   \n1                                          3158   \n2                                          3047   \n3                                          3052   \n4                                          3038   \n\n   Actual Total Load [MW] - BZN|NO3  \n0                              3463  \n1                              3388  \n2                              3387  \n3                              3376  \n4                              3427  ",
      "text/html": "<div>\n<style scoped>\n    .dataframe tbody tr th:only-of-type {\n        vertical-align: middle;\n    }\n\n    .dataframe tbody tr th {\n        vertical-align: top;\n    }\n\n    .dataframe thead th {\n        text-align: right;\n    }\n</style>\n<table border=\"1\" class=\"dataframe\">\n  <thead>\n    <tr style=\"text-align: right;\">\n      <th></th>\n      <th>Time (UTC)</th>\n      <th>Day-ahead Total Load Forecast [MW] - BZN|NO3</th>\n      <th>Actual Total Load [MW] - BZN|NO3</th>\n    </tr>\n  </thead>\n  <tbody>\n    <tr>\n      <th>0</th>\n      <td>01.01.2022 00:00 - 01.01.2022 01:00</td>\n      <td>3235</td>\n      <td>3463</td>\n    </tr>\n    <tr>\n      <th>1</th>\n      <td>01.01.2022 01:00 - 01.01.2022 02:00</td>\n      <td>3158</td>\n      <td>3388</td>\n    </tr>\n    <tr>\n      <th>2</th>\n      <td>01.01.2022 02:00 - 01.01.2022 03:00</td>\n      <td>3047</td>\n      <td>3387</td>\n    </tr>\n    <tr>\n      <th>3</th>\n      <td>01.01.2022 03:00 - 01.01.2022 04:00</td>\n      <td>3052</td>\n      <td>3376</td>\n    </tr>\n    <tr>\n      <th>4</th>\n      <td>01.01.2022 04:00 - 01.01.2022 05:00</td>\n      <td>3038</td>\n      <td>3427</td>\n    </tr>\n  </tbody>\n</table>\n</div>"
     },
     "execution_count": 246,
     "metadata": {},
     "output_type": "execute_result"
    }
   ],
   "source": [
    "load_no3.head()"
   ]
  },
  {
   "cell_type": "code",
   "execution_count": 247,
   "id": "fbea6e95",
   "metadata": {},
   "outputs": [
    {
     "data": {
      "text/plain": "                            Time (UTC)  \\\n0  01.01.2022 00:00 - 01.01.2022 01:00   \n1  01.01.2022 01:00 - 01.01.2022 02:00   \n2  01.01.2022 02:00 - 01.01.2022 03:00   \n3  01.01.2022 03:00 - 01.01.2022 04:00   \n4  01.01.2022 04:00 - 01.01.2022 05:00   \n\n   Day-ahead Total Load Forecast [MW] - BZN|NO5  \\\n0                                          1427   \n1                                          1460   \n2                                          1493   \n3                                          1472   \n4                                          1475   \n\n   Actual Total Load [MW] - BZN|NO5  \n0                              1991  \n1                              1969  \n2                              1911  \n3                              1996  \n4                              1953  ",
      "text/html": "<div>\n<style scoped>\n    .dataframe tbody tr th:only-of-type {\n        vertical-align: middle;\n    }\n\n    .dataframe tbody tr th {\n        vertical-align: top;\n    }\n\n    .dataframe thead th {\n        text-align: right;\n    }\n</style>\n<table border=\"1\" class=\"dataframe\">\n  <thead>\n    <tr style=\"text-align: right;\">\n      <th></th>\n      <th>Time (UTC)</th>\n      <th>Day-ahead Total Load Forecast [MW] - BZN|NO5</th>\n      <th>Actual Total Load [MW] - BZN|NO5</th>\n    </tr>\n  </thead>\n  <tbody>\n    <tr>\n      <th>0</th>\n      <td>01.01.2022 00:00 - 01.01.2022 01:00</td>\n      <td>1427</td>\n      <td>1991</td>\n    </tr>\n    <tr>\n      <th>1</th>\n      <td>01.01.2022 01:00 - 01.01.2022 02:00</td>\n      <td>1460</td>\n      <td>1969</td>\n    </tr>\n    <tr>\n      <th>2</th>\n      <td>01.01.2022 02:00 - 01.01.2022 03:00</td>\n      <td>1493</td>\n      <td>1911</td>\n    </tr>\n    <tr>\n      <th>3</th>\n      <td>01.01.2022 03:00 - 01.01.2022 04:00</td>\n      <td>1472</td>\n      <td>1996</td>\n    </tr>\n    <tr>\n      <th>4</th>\n      <td>01.01.2022 04:00 - 01.01.2022 05:00</td>\n      <td>1475</td>\n      <td>1953</td>\n    </tr>\n  </tbody>\n</table>\n</div>"
     },
     "execution_count": 247,
     "metadata": {},
     "output_type": "execute_result"
    }
   ],
   "source": [
    "load_no5.head()"
   ]
  },
  {
   "cell_type": "code",
   "execution_count": 248,
   "id": "b2fb13b5",
   "metadata": {},
   "outputs": [
    {
     "data": {
      "text/plain": "                            Time (UTC)  \\\n0  01.01.2022 00:00 - 01.01.2022 01:00   \n1  01.01.2022 01:00 - 01.01.2022 02:00   \n2  01.01.2022 02:00 - 01.01.2022 03:00   \n3  01.01.2022 03:00 - 01.01.2022 04:00   \n4  01.01.2022 04:00 - 01.01.2022 05:00   \n\n   Day-ahead Total Load Forecast [MW] - BZN|SE3  \\\n0                                          9483   \n1                                          9435   \n2                                          9402   \n3                                          9453   \n4                                          9617   \n\n   Actual Total Load [MW] - BZN|SE3  \n0                              9612  \n1                              9601  \n2                              9552  \n3                              9449  \n4                              9614  ",
      "text/html": "<div>\n<style scoped>\n    .dataframe tbody tr th:only-of-type {\n        vertical-align: middle;\n    }\n\n    .dataframe tbody tr th {\n        vertical-align: top;\n    }\n\n    .dataframe thead th {\n        text-align: right;\n    }\n</style>\n<table border=\"1\" class=\"dataframe\">\n  <thead>\n    <tr style=\"text-align: right;\">\n      <th></th>\n      <th>Time (UTC)</th>\n      <th>Day-ahead Total Load Forecast [MW] - BZN|SE3</th>\n      <th>Actual Total Load [MW] - BZN|SE3</th>\n    </tr>\n  </thead>\n  <tbody>\n    <tr>\n      <th>0</th>\n      <td>01.01.2022 00:00 - 01.01.2022 01:00</td>\n      <td>9483</td>\n      <td>9612</td>\n    </tr>\n    <tr>\n      <th>1</th>\n      <td>01.01.2022 01:00 - 01.01.2022 02:00</td>\n      <td>9435</td>\n      <td>9601</td>\n    </tr>\n    <tr>\n      <th>2</th>\n      <td>01.01.2022 02:00 - 01.01.2022 03:00</td>\n      <td>9402</td>\n      <td>9552</td>\n    </tr>\n    <tr>\n      <th>3</th>\n      <td>01.01.2022 03:00 - 01.01.2022 04:00</td>\n      <td>9453</td>\n      <td>9449</td>\n    </tr>\n    <tr>\n      <th>4</th>\n      <td>01.01.2022 04:00 - 01.01.2022 05:00</td>\n      <td>9617</td>\n      <td>9614</td>\n    </tr>\n  </tbody>\n</table>\n</div>"
     },
     "execution_count": 248,
     "metadata": {},
     "output_type": "execute_result"
    }
   ],
   "source": [
    "load_se3.head()"
   ]
  },
  {
   "cell_type": "markdown",
   "id": "48168ced",
   "metadata": {},
   "source": [
    "#### preparation for merging of the load data from the different zones:\n",
    "The common values we will merge the data based on is the date time column \"Time (UTC)\", however this column is named \"MTU (UTC)\" in the prices' dataset. The time column will be renamed to \"MTU (UTC)\" so that the datasets can be merged. The column \"Day-ahead Total Load Forecast\" is redundant since we have the actual total load, so the forecast column will be dropped."
   ]
  },
  {
   "cell_type": "code",
   "execution_count": 249,
   "id": "4abe22d2",
   "metadata": {},
   "outputs": [],
   "source": [
    "# dropping redundant columns\n",
    "load_no1 = load_no1.drop(['Day-ahead Total Load Forecast [MW] - BZN|NO1'], axis=1)\n",
    "load_no2 = load_no2.drop(['Day-ahead Total Load Forecast [MW] - BZN|NO2'], axis=1)\n",
    "load_no3 = load_no3.drop(['Day-ahead Total Load Forecast [MW] - BZN|NO3'], axis=1)\n",
    "load_no5 = load_no5.drop(['Day-ahead Total Load Forecast [MW] - BZN|NO5'], axis=1)\n",
    "load_se3 = load_se3.drop(['Day-ahead Total Load Forecast [MW] - BZN|SE3'], axis=1)"
   ]
  },
  {
   "cell_type": "code",
   "execution_count": 250,
   "id": "9166cdf1",
   "metadata": {},
   "outputs": [],
   "source": [
    "# renaming time columns\n",
    "load_no1 = load_no1.rename(columns={'Time (UTC)': 'MTU (UTC)'})\n",
    "load_no2 = load_no2.rename(columns={'Time (UTC)': 'MTU (UTC)'})\n",
    "load_no3 = load_no3.rename(columns={'Time (UTC)': 'MTU (UTC)'})\n",
    "load_no5 = load_no5.rename(columns={'Time (UTC)': 'MTU (UTC)'})\n",
    "load_se3 = load_se3.rename(columns={'Time (UTC)': 'MTU (UTC)'})"
   ]
  },
  {
   "cell_type": "code",
   "execution_count": 251,
   "id": "933bd585",
   "metadata": {},
   "outputs": [
    {
     "data": {
      "text/plain": "                             MTU (UTC)  Actual Total Load [MW] - BZN|NO1  \\\n0  01.01.2022 00:00 - 01.01.2022 01:00                              4701   \n1  01.01.2022 01:00 - 01.01.2022 02:00                              4681   \n2  01.01.2022 02:00 - 01.01.2022 03:00                              4620   \n3  01.01.2022 03:00 - 01.01.2022 04:00                              4645   \n4  01.01.2022 04:00 - 01.01.2022 05:00                              4670   \n\n   Actual Total Load [MW] - BZN|NO2  Actual Total Load [MW] - BZN|NO3  \\\n0                              4440                              3463   \n1                              4480                              3388   \n2                              4424                              3387   \n3                              4386                              3376   \n4                              4375                              3427   \n\n   Actual Total Load [MW] - BZN|NO5  Actual Total Load [MW] - BZN|SE3  \n0                              1991                              9612  \n1                              1969                              9601  \n2                              1911                              9552  \n3                              1996                              9449  \n4                              1953                              9614  ",
      "text/html": "<div>\n<style scoped>\n    .dataframe tbody tr th:only-of-type {\n        vertical-align: middle;\n    }\n\n    .dataframe tbody tr th {\n        vertical-align: top;\n    }\n\n    .dataframe thead th {\n        text-align: right;\n    }\n</style>\n<table border=\"1\" class=\"dataframe\">\n  <thead>\n    <tr style=\"text-align: right;\">\n      <th></th>\n      <th>MTU (UTC)</th>\n      <th>Actual Total Load [MW] - BZN|NO1</th>\n      <th>Actual Total Load [MW] - BZN|NO2</th>\n      <th>Actual Total Load [MW] - BZN|NO3</th>\n      <th>Actual Total Load [MW] - BZN|NO5</th>\n      <th>Actual Total Load [MW] - BZN|SE3</th>\n    </tr>\n  </thead>\n  <tbody>\n    <tr>\n      <th>0</th>\n      <td>01.01.2022 00:00 - 01.01.2022 01:00</td>\n      <td>4701</td>\n      <td>4440</td>\n      <td>3463</td>\n      <td>1991</td>\n      <td>9612</td>\n    </tr>\n    <tr>\n      <th>1</th>\n      <td>01.01.2022 01:00 - 01.01.2022 02:00</td>\n      <td>4681</td>\n      <td>4480</td>\n      <td>3388</td>\n      <td>1969</td>\n      <td>9601</td>\n    </tr>\n    <tr>\n      <th>2</th>\n      <td>01.01.2022 02:00 - 01.01.2022 03:00</td>\n      <td>4620</td>\n      <td>4424</td>\n      <td>3387</td>\n      <td>1911</td>\n      <td>9552</td>\n    </tr>\n    <tr>\n      <th>3</th>\n      <td>01.01.2022 03:00 - 01.01.2022 04:00</td>\n      <td>4645</td>\n      <td>4386</td>\n      <td>3376</td>\n      <td>1996</td>\n      <td>9449</td>\n    </tr>\n    <tr>\n      <th>4</th>\n      <td>01.01.2022 04:00 - 01.01.2022 05:00</td>\n      <td>4670</td>\n      <td>4375</td>\n      <td>3427</td>\n      <td>1953</td>\n      <td>9614</td>\n    </tr>\n  </tbody>\n</table>\n</div>"
     },
     "execution_count": 251,
     "metadata": {},
     "output_type": "execute_result"
    }
   ],
   "source": [
    "# merging the load data into one dataframe on the date time column 'MTU (UTC)'\n",
    "updated_load_dataframes = [load_no1, load_no2, load_no3, load_no5, load_se3]\n",
    "load = reduce(lambda left, right: pd.merge(left,right, on=['MTU (UTC)']), updated_load_dataframes)\n",
    "\n",
    "# printing out the resulting dataframe\n",
    "load.head()"
   ]
  },
  {
   "cell_type": "code",
   "execution_count": 252,
   "id": "e0db24c3",
   "metadata": {},
   "outputs": [
    {
     "data": {
      "text/plain": "                                MTU (UTC)  Actual Total Load [MW] - BZN|NO1  \\\n8755  31.12.2022 19:00 - 31.12.2022 20:00                              4650   \n8756  31.12.2022 20:00 - 31.12.2022 21:00                              4573   \n8757  31.12.2022 21:00 - 31.12.2022 22:00                              4453   \n8758  31.12.2022 22:00 - 31.12.2022 23:00                              4389   \n8759  31.12.2022 23:00 - 01.01.2023 00:00                              4444   \n\n      Actual Total Load [MW] - BZN|NO2  Actual Total Load [MW] - BZN|NO3  \\\n8755                              4333                              3612   \n8756                              4270                              3605   \n8757                              4294                              3479   \n8758                              4282                              3415   \n8759                              4182                              3346   \n\n      Actual Total Load [MW] - BZN|NO5  Actual Total Load [MW] - BZN|SE3  \n8755                              2128                              9602  \n8756                              2089                              9251  \n8757                              2037                              9092  \n8758                              1991                              8944  \n8759                              2009                              8955  ",
      "text/html": "<div>\n<style scoped>\n    .dataframe tbody tr th:only-of-type {\n        vertical-align: middle;\n    }\n\n    .dataframe tbody tr th {\n        vertical-align: top;\n    }\n\n    .dataframe thead th {\n        text-align: right;\n    }\n</style>\n<table border=\"1\" class=\"dataframe\">\n  <thead>\n    <tr style=\"text-align: right;\">\n      <th></th>\n      <th>MTU (UTC)</th>\n      <th>Actual Total Load [MW] - BZN|NO1</th>\n      <th>Actual Total Load [MW] - BZN|NO2</th>\n      <th>Actual Total Load [MW] - BZN|NO3</th>\n      <th>Actual Total Load [MW] - BZN|NO5</th>\n      <th>Actual Total Load [MW] - BZN|SE3</th>\n    </tr>\n  </thead>\n  <tbody>\n    <tr>\n      <th>8755</th>\n      <td>31.12.2022 19:00 - 31.12.2022 20:00</td>\n      <td>4650</td>\n      <td>4333</td>\n      <td>3612</td>\n      <td>2128</td>\n      <td>9602</td>\n    </tr>\n    <tr>\n      <th>8756</th>\n      <td>31.12.2022 20:00 - 31.12.2022 21:00</td>\n      <td>4573</td>\n      <td>4270</td>\n      <td>3605</td>\n      <td>2089</td>\n      <td>9251</td>\n    </tr>\n    <tr>\n      <th>8757</th>\n      <td>31.12.2022 21:00 - 31.12.2022 22:00</td>\n      <td>4453</td>\n      <td>4294</td>\n      <td>3479</td>\n      <td>2037</td>\n      <td>9092</td>\n    </tr>\n    <tr>\n      <th>8758</th>\n      <td>31.12.2022 22:00 - 31.12.2022 23:00</td>\n      <td>4389</td>\n      <td>4282</td>\n      <td>3415</td>\n      <td>1991</td>\n      <td>8944</td>\n    </tr>\n    <tr>\n      <th>8759</th>\n      <td>31.12.2022 23:00 - 01.01.2023 00:00</td>\n      <td>4444</td>\n      <td>4182</td>\n      <td>3346</td>\n      <td>2009</td>\n      <td>8955</td>\n    </tr>\n  </tbody>\n</table>\n</div>"
     },
     "execution_count": 252,
     "metadata": {},
     "output_type": "execute_result"
    }
   ],
   "source": [
    "# printing out the last 5 rows of the resulting dataframe\n",
    "load.tail()"
   ]
  },
  {
   "cell_type": "markdown",
   "id": "87229753",
   "metadata": {},
   "source": [
    "We can se that the datetime of the first and last rows in the dataset are correct. we also want to check if the dataframe still have the correct number of rows to se if the merge was successful"
   ]
  },
  {
   "cell_type": "code",
   "execution_count": 253,
   "id": "bd882c3f",
   "metadata": {},
   "outputs": [
    {
     "data": {
      "text/plain": "(8760, 6)"
     },
     "execution_count": 253,
     "metadata": {},
     "output_type": "execute_result"
    }
   ],
   "source": [
    "# printing out shape of dataframe\n",
    "load.shape"
   ]
  },
  {
   "cell_type": "markdown",
   "id": "1227ccbb",
   "metadata": {},
   "source": [
    "The load dataframe has the correct number of rows (8760) so the aggregation of the price datasets have been successful.\n",
    "\n",
    "We also want to check if the dataset has any missing any values:"
   ]
  },
  {
   "cell_type": "code",
   "execution_count": 254,
   "id": "c17d866b",
   "metadata": {},
   "outputs": [
    {
     "data": {
      "text/plain": "MTU (UTC)                           0\nActual Total Load [MW] - BZN|NO1    0\nActual Total Load [MW] - BZN|NO2    0\nActual Total Load [MW] - BZN|NO3    0\nActual Total Load [MW] - BZN|NO5    0\nActual Total Load [MW] - BZN|SE3    0\ndtype: int64"
     },
     "execution_count": 254,
     "metadata": {},
     "output_type": "execute_result"
    }
   ],
   "source": [
    "# checking data for missing values, if any\n",
    "load.isna().sum()"
   ]
  },
  {
   "cell_type": "markdown",
   "id": "5ecd4a8f",
   "metadata": {},
   "source": [
    "There are no missing values"
   ]
  },
  {
   "cell_type": "markdown",
   "id": "34e1205e",
   "metadata": {},
   "source": [
    "### Aggregation of energy generation data"
   ]
  },
  {
   "cell_type": "code",
   "execution_count": 255,
   "id": "ca8028b0",
   "metadata": {},
   "outputs": [],
   "source": [
    "actual_generation_no1 = pd.read_csv(\"../datasets/wind_solar_fossil_biomass_and_others/UTC/Actual Generation per Production Type_202201010000-202301010000NO1.csv\")\n",
    "actual_generation_no2 = pd.read_csv(\"../datasets/wind_solar_fossil_biomass_and_others/UTC/Actual Generation per Production Type_202201010000-202301010000 NO2.csv\")\n",
    "actual_generation_no3 = pd.read_csv(\"../datasets/wind_solar_fossil_biomass_and_others/UTC/Actual Generation per Production Type_202201010000-202301010000NO3.csv\")\n",
    "actual_generation_no5 = pd.read_csv(\"../datasets/wind_solar_fossil_biomass_and_others/UTC/Actual Generation per Production Type_202201010000-202301010000NO5.csv\")\n",
    "actual_generation_se3 = pd.read_csv(\"../datasets/wind_solar_fossil_biomass_and_others/UTC/Actual Generation per Production Type_202201010000-202301010000SE3.csv\")"
   ]
  },
  {
   "cell_type": "code",
   "execution_count": 256,
   "id": "9d9d12ca",
   "metadata": {},
   "outputs": [
    {
     "data": {
      "text/plain": "      Area                                        MTU  \\\n0  BZN|NO1  01.01.2022 00:00 - 01.01.2022 01:00 (UTC)   \n1  BZN|NO1  01.01.2022 01:00 - 01.01.2022 02:00 (UTC)   \n2  BZN|NO1  01.01.2022 02:00 - 01.01.2022 03:00 (UTC)   \n3  BZN|NO1  01.01.2022 03:00 - 01.01.2022 04:00 (UTC)   \n4  BZN|NO1  01.01.2022 04:00 - 01.01.2022 05:00 (UTC)   \n\n   Biomass  - Actual Aggregated [MW]  \\\n0                                  0   \n1                                  0   \n2                                  0   \n3                                  0   \n4                                  0   \n\n  Fossil Brown coal/Lignite  - Actual Aggregated [MW]  \\\n0                                                n/e    \n1                                                n/e    \n2                                                n/e    \n3                                                n/e    \n4                                                n/e    \n\n  Fossil Coal-derived gas  - Actual Aggregated [MW]  \\\n0                                               n/e   \n1                                               n/e   \n2                                               n/e   \n3                                               n/e   \n4                                               n/e   \n\n   Fossil Gas  - Actual Aggregated [MW]  \\\n0                                     0   \n1                                     0   \n2                                     0   \n3                                     0   \n4                                     0   \n\n  Fossil Hard coal  - Actual Aggregated [MW]  \\\n0                                        n/e   \n1                                        n/e   \n2                                        n/e   \n3                                        n/e   \n4                                        n/e   \n\n  Fossil Oil  - Actual Aggregated [MW]  \\\n0                                  n/e   \n1                                  n/e   \n2                                  n/e   \n3                                  n/e   \n4                                  n/e   \n\n  Fossil Oil shale  - Actual Aggregated [MW]  \\\n0                                        n/e   \n1                                        n/e   \n2                                        n/e   \n3                                        n/e   \n4                                        n/e   \n\n  Fossil Peat  - Actual Aggregated [MW]  ...  \\\n0                                   n/e  ...   \n1                                   n/e  ...   \n2                                   n/e  ...   \n3                                   n/e  ...   \n4                                   n/e  ...   \n\n  Hydro Run-of-river and poundage  - Actual Aggregated [MW]  \\\n0                                                878          \n1                                                897          \n2                                                885          \n3                                                890          \n4                                                892          \n\n  Hydro Water Reservoir  - Actual Aggregated [MW]  \\\n0                                             321   \n1                                             330   \n2                                             275   \n3                                             269   \n4                                             300   \n\n  Marine  - Actual Aggregated [MW]  Nuclear  - Actual Aggregated [MW]  \\\n0                              n/e                                n/e   \n1                              n/e                                n/e   \n2                              n/e                                n/e   \n3                              n/e                                n/e   \n4                              n/e                                n/e   \n\n   Other  - Actual Aggregated [MW] Other renewable  - Actual Aggregated [MW]  \\\n0                              n/e                                       n/e   \n1                              n/e                                       n/e   \n2                              n/e                                       n/e   \n3                              n/e                                       n/e   \n4                              n/e                                       n/e   \n\n  Solar  - Actual Aggregated [MW] Waste  - Actual Aggregated [MW]  \\\n0                             n/e                               8   \n1                             n/e                               8   \n2                             n/e                               8   \n3                             n/e                               8   \n4                             n/e                               8   \n\n  Wind Offshore  - Actual Aggregated [MW]  \\\n0                                     n/e   \n1                                     n/e   \n2                                     n/e   \n3                                     n/e   \n4                                     n/e   \n\n  Wind Onshore  - Actual Aggregated [MW]  \n0                                    172  \n1                                    151  \n2                                    160  \n3                                    148  \n4                                    147  \n\n[5 rows x 23 columns]",
      "text/html": "<div>\n<style scoped>\n    .dataframe tbody tr th:only-of-type {\n        vertical-align: middle;\n    }\n\n    .dataframe tbody tr th {\n        vertical-align: top;\n    }\n\n    .dataframe thead th {\n        text-align: right;\n    }\n</style>\n<table border=\"1\" class=\"dataframe\">\n  <thead>\n    <tr style=\"text-align: right;\">\n      <th></th>\n      <th>Area</th>\n      <th>MTU</th>\n      <th>Biomass  - Actual Aggregated [MW]</th>\n      <th>Fossil Brown coal/Lignite  - Actual Aggregated [MW]</th>\n      <th>Fossil Coal-derived gas  - Actual Aggregated [MW]</th>\n      <th>Fossil Gas  - Actual Aggregated [MW]</th>\n      <th>Fossil Hard coal  - Actual Aggregated [MW]</th>\n      <th>Fossil Oil  - Actual Aggregated [MW]</th>\n      <th>Fossil Oil shale  - Actual Aggregated [MW]</th>\n      <th>Fossil Peat  - Actual Aggregated [MW]</th>\n      <th>...</th>\n      <th>Hydro Run-of-river and poundage  - Actual Aggregated [MW]</th>\n      <th>Hydro Water Reservoir  - Actual Aggregated [MW]</th>\n      <th>Marine  - Actual Aggregated [MW]</th>\n      <th>Nuclear  - Actual Aggregated [MW]</th>\n      <th>Other  - Actual Aggregated [MW]</th>\n      <th>Other renewable  - Actual Aggregated [MW]</th>\n      <th>Solar  - Actual Aggregated [MW]</th>\n      <th>Waste  - Actual Aggregated [MW]</th>\n      <th>Wind Offshore  - Actual Aggregated [MW]</th>\n      <th>Wind Onshore  - Actual Aggregated [MW]</th>\n    </tr>\n  </thead>\n  <tbody>\n    <tr>\n      <th>0</th>\n      <td>BZN|NO1</td>\n      <td>01.01.2022 00:00 - 01.01.2022 01:00 (UTC)</td>\n      <td>0</td>\n      <td>n/e</td>\n      <td>n/e</td>\n      <td>0</td>\n      <td>n/e</td>\n      <td>n/e</td>\n      <td>n/e</td>\n      <td>n/e</td>\n      <td>...</td>\n      <td>878</td>\n      <td>321</td>\n      <td>n/e</td>\n      <td>n/e</td>\n      <td>n/e</td>\n      <td>n/e</td>\n      <td>n/e</td>\n      <td>8</td>\n      <td>n/e</td>\n      <td>172</td>\n    </tr>\n    <tr>\n      <th>1</th>\n      <td>BZN|NO1</td>\n      <td>01.01.2022 01:00 - 01.01.2022 02:00 (UTC)</td>\n      <td>0</td>\n      <td>n/e</td>\n      <td>n/e</td>\n      <td>0</td>\n      <td>n/e</td>\n      <td>n/e</td>\n      <td>n/e</td>\n      <td>n/e</td>\n      <td>...</td>\n      <td>897</td>\n      <td>330</td>\n      <td>n/e</td>\n      <td>n/e</td>\n      <td>n/e</td>\n      <td>n/e</td>\n      <td>n/e</td>\n      <td>8</td>\n      <td>n/e</td>\n      <td>151</td>\n    </tr>\n    <tr>\n      <th>2</th>\n      <td>BZN|NO1</td>\n      <td>01.01.2022 02:00 - 01.01.2022 03:00 (UTC)</td>\n      <td>0</td>\n      <td>n/e</td>\n      <td>n/e</td>\n      <td>0</td>\n      <td>n/e</td>\n      <td>n/e</td>\n      <td>n/e</td>\n      <td>n/e</td>\n      <td>...</td>\n      <td>885</td>\n      <td>275</td>\n      <td>n/e</td>\n      <td>n/e</td>\n      <td>n/e</td>\n      <td>n/e</td>\n      <td>n/e</td>\n      <td>8</td>\n      <td>n/e</td>\n      <td>160</td>\n    </tr>\n    <tr>\n      <th>3</th>\n      <td>BZN|NO1</td>\n      <td>01.01.2022 03:00 - 01.01.2022 04:00 (UTC)</td>\n      <td>0</td>\n      <td>n/e</td>\n      <td>n/e</td>\n      <td>0</td>\n      <td>n/e</td>\n      <td>n/e</td>\n      <td>n/e</td>\n      <td>n/e</td>\n      <td>...</td>\n      <td>890</td>\n      <td>269</td>\n      <td>n/e</td>\n      <td>n/e</td>\n      <td>n/e</td>\n      <td>n/e</td>\n      <td>n/e</td>\n      <td>8</td>\n      <td>n/e</td>\n      <td>148</td>\n    </tr>\n    <tr>\n      <th>4</th>\n      <td>BZN|NO1</td>\n      <td>01.01.2022 04:00 - 01.01.2022 05:00 (UTC)</td>\n      <td>0</td>\n      <td>n/e</td>\n      <td>n/e</td>\n      <td>0</td>\n      <td>n/e</td>\n      <td>n/e</td>\n      <td>n/e</td>\n      <td>n/e</td>\n      <td>...</td>\n      <td>892</td>\n      <td>300</td>\n      <td>n/e</td>\n      <td>n/e</td>\n      <td>n/e</td>\n      <td>n/e</td>\n      <td>n/e</td>\n      <td>8</td>\n      <td>n/e</td>\n      <td>147</td>\n    </tr>\n  </tbody>\n</table>\n<p>5 rows × 23 columns</p>\n</div>"
     },
     "execution_count": 256,
     "metadata": {},
     "output_type": "execute_result"
    }
   ],
   "source": [
    "actual_generation_no1.head()"
   ]
  },
  {
   "cell_type": "code",
   "execution_count": 257,
   "id": "c817f713",
   "metadata": {},
   "outputs": [
    {
     "data": {
      "text/plain": "      Area                                        MTU  \\\n0  BZN|NO2  01.01.2022 00:00 - 01.01.2022 01:00 (UTC)   \n1  BZN|NO2  01.01.2022 01:00 - 01.01.2022 02:00 (UTC)   \n2  BZN|NO2  01.01.2022 02:00 - 01.01.2022 03:00 (UTC)   \n3  BZN|NO2  01.01.2022 03:00 - 01.01.2022 04:00 (UTC)   \n4  BZN|NO2  01.01.2022 04:00 - 01.01.2022 05:00 (UTC)   \n\n  Biomass  - Actual Aggregated [MW]  \\\n0                               n/e   \n1                               n/e   \n2                               n/e   \n3                               n/e   \n4                               n/e   \n\n  Fossil Brown coal/Lignite  - Actual Aggregated [MW]  \\\n0                                                n/e    \n1                                                n/e    \n2                                                n/e    \n3                                                n/e    \n4                                                n/e    \n\n  Fossil Coal-derived gas  - Actual Aggregated [MW]  \\\n0                                               n/e   \n1                                               n/e   \n2                                               n/e   \n3                                               n/e   \n4                                               n/e   \n\n   Fossil Gas  - Actual Aggregated [MW]  \\\n0                                     0   \n1                                     0   \n2                                     0   \n3                                     0   \n4                                     0   \n\n  Fossil Hard coal  - Actual Aggregated [MW]  \\\n0                                        n/e   \n1                                        n/e   \n2                                        n/e   \n3                                        n/e   \n4                                        n/e   \n\n  Fossil Oil  - Actual Aggregated [MW]  \\\n0                                  n/e   \n1                                  n/e   \n2                                  n/e   \n3                                  n/e   \n4                                  n/e   \n\n  Fossil Oil shale  - Actual Aggregated [MW]  \\\n0                                        n/e   \n1                                        n/e   \n2                                        n/e   \n3                                        n/e   \n4                                        n/e   \n\n  Fossil Peat  - Actual Aggregated [MW]  ...  \\\n0                                   n/e  ...   \n1                                   n/e  ...   \n2                                   n/e  ...   \n3                                   n/e  ...   \n4                                   n/e  ...   \n\n  Hydro Run-of-river and poundage  - Actual Aggregated [MW]  \\\n0                                                629          \n1                                                627          \n2                                                624          \n3                                                624          \n4                                                605          \n\n   Hydro Water Reservoir  - Actual Aggregated [MW]  \\\n0                                             1874   \n1                                             2012   \n2                                             1643   \n3                                             1631   \n4                                             1642   \n\n   Marine  - Actual Aggregated [MW]  Nuclear  - Actual Aggregated [MW]  \\\n0                               n/e                                n/e   \n1                               n/e                                n/e   \n2                               n/e                                n/e   \n3                               n/e                                n/e   \n4                               n/e                                n/e   \n\n   Other  - Actual Aggregated [MW] Other renewable  - Actual Aggregated [MW]  \\\n0                              n/e                                       n/e   \n1                              n/e                                       n/e   \n2                              n/e                                       n/e   \n3                              n/e                                       n/e   \n4                              n/e                                       n/e   \n\n  Solar  - Actual Aggregated [MW] Waste  - Actual Aggregated [MW]  \\\n0                             n/e                               5   \n1                             n/e                               4   \n2                             n/e                               4   \n3                             n/e                               4   \n4                             n/e                               4   \n\n  Wind Offshore  - Actual Aggregated [MW]  \\\n0                                     n/e   \n1                                     n/e   \n2                                     n/e   \n3                                     n/e   \n4                                     n/e   \n\n  Wind Onshore  - Actual Aggregated [MW]  \n0                                    244  \n1                                    115  \n2                                     55  \n3                                     61  \n4                                     88  \n\n[5 rows x 23 columns]",
      "text/html": "<div>\n<style scoped>\n    .dataframe tbody tr th:only-of-type {\n        vertical-align: middle;\n    }\n\n    .dataframe tbody tr th {\n        vertical-align: top;\n    }\n\n    .dataframe thead th {\n        text-align: right;\n    }\n</style>\n<table border=\"1\" class=\"dataframe\">\n  <thead>\n    <tr style=\"text-align: right;\">\n      <th></th>\n      <th>Area</th>\n      <th>MTU</th>\n      <th>Biomass  - Actual Aggregated [MW]</th>\n      <th>Fossil Brown coal/Lignite  - Actual Aggregated [MW]</th>\n      <th>Fossil Coal-derived gas  - Actual Aggregated [MW]</th>\n      <th>Fossil Gas  - Actual Aggregated [MW]</th>\n      <th>Fossil Hard coal  - Actual Aggregated [MW]</th>\n      <th>Fossil Oil  - Actual Aggregated [MW]</th>\n      <th>Fossil Oil shale  - Actual Aggregated [MW]</th>\n      <th>Fossil Peat  - Actual Aggregated [MW]</th>\n      <th>...</th>\n      <th>Hydro Run-of-river and poundage  - Actual Aggregated [MW]</th>\n      <th>Hydro Water Reservoir  - Actual Aggregated [MW]</th>\n      <th>Marine  - Actual Aggregated [MW]</th>\n      <th>Nuclear  - Actual Aggregated [MW]</th>\n      <th>Other  - Actual Aggregated [MW]</th>\n      <th>Other renewable  - Actual Aggregated [MW]</th>\n      <th>Solar  - Actual Aggregated [MW]</th>\n      <th>Waste  - Actual Aggregated [MW]</th>\n      <th>Wind Offshore  - Actual Aggregated [MW]</th>\n      <th>Wind Onshore  - Actual Aggregated [MW]</th>\n    </tr>\n  </thead>\n  <tbody>\n    <tr>\n      <th>0</th>\n      <td>BZN|NO2</td>\n      <td>01.01.2022 00:00 - 01.01.2022 01:00 (UTC)</td>\n      <td>n/e</td>\n      <td>n/e</td>\n      <td>n/e</td>\n      <td>0</td>\n      <td>n/e</td>\n      <td>n/e</td>\n      <td>n/e</td>\n      <td>n/e</td>\n      <td>...</td>\n      <td>629</td>\n      <td>1874</td>\n      <td>n/e</td>\n      <td>n/e</td>\n      <td>n/e</td>\n      <td>n/e</td>\n      <td>n/e</td>\n      <td>5</td>\n      <td>n/e</td>\n      <td>244</td>\n    </tr>\n    <tr>\n      <th>1</th>\n      <td>BZN|NO2</td>\n      <td>01.01.2022 01:00 - 01.01.2022 02:00 (UTC)</td>\n      <td>n/e</td>\n      <td>n/e</td>\n      <td>n/e</td>\n      <td>0</td>\n      <td>n/e</td>\n      <td>n/e</td>\n      <td>n/e</td>\n      <td>n/e</td>\n      <td>...</td>\n      <td>627</td>\n      <td>2012</td>\n      <td>n/e</td>\n      <td>n/e</td>\n      <td>n/e</td>\n      <td>n/e</td>\n      <td>n/e</td>\n      <td>4</td>\n      <td>n/e</td>\n      <td>115</td>\n    </tr>\n    <tr>\n      <th>2</th>\n      <td>BZN|NO2</td>\n      <td>01.01.2022 02:00 - 01.01.2022 03:00 (UTC)</td>\n      <td>n/e</td>\n      <td>n/e</td>\n      <td>n/e</td>\n      <td>0</td>\n      <td>n/e</td>\n      <td>n/e</td>\n      <td>n/e</td>\n      <td>n/e</td>\n      <td>...</td>\n      <td>624</td>\n      <td>1643</td>\n      <td>n/e</td>\n      <td>n/e</td>\n      <td>n/e</td>\n      <td>n/e</td>\n      <td>n/e</td>\n      <td>4</td>\n      <td>n/e</td>\n      <td>55</td>\n    </tr>\n    <tr>\n      <th>3</th>\n      <td>BZN|NO2</td>\n      <td>01.01.2022 03:00 - 01.01.2022 04:00 (UTC)</td>\n      <td>n/e</td>\n      <td>n/e</td>\n      <td>n/e</td>\n      <td>0</td>\n      <td>n/e</td>\n      <td>n/e</td>\n      <td>n/e</td>\n      <td>n/e</td>\n      <td>...</td>\n      <td>624</td>\n      <td>1631</td>\n      <td>n/e</td>\n      <td>n/e</td>\n      <td>n/e</td>\n      <td>n/e</td>\n      <td>n/e</td>\n      <td>4</td>\n      <td>n/e</td>\n      <td>61</td>\n    </tr>\n    <tr>\n      <th>4</th>\n      <td>BZN|NO2</td>\n      <td>01.01.2022 04:00 - 01.01.2022 05:00 (UTC)</td>\n      <td>n/e</td>\n      <td>n/e</td>\n      <td>n/e</td>\n      <td>0</td>\n      <td>n/e</td>\n      <td>n/e</td>\n      <td>n/e</td>\n      <td>n/e</td>\n      <td>...</td>\n      <td>605</td>\n      <td>1642</td>\n      <td>n/e</td>\n      <td>n/e</td>\n      <td>n/e</td>\n      <td>n/e</td>\n      <td>n/e</td>\n      <td>4</td>\n      <td>n/e</td>\n      <td>88</td>\n    </tr>\n  </tbody>\n</table>\n<p>5 rows × 23 columns</p>\n</div>"
     },
     "execution_count": 257,
     "metadata": {},
     "output_type": "execute_result"
    }
   ],
   "source": [
    "actual_generation_no2.head()"
   ]
  },
  {
   "cell_type": "code",
   "execution_count": 258,
   "id": "a3873421",
   "metadata": {},
   "outputs": [
    {
     "data": {
      "text/plain": "      Area                                        MTU  \\\n0  BZN|NO3  01.01.2022 00:00 - 01.01.2022 01:00 (UTC)   \n1  BZN|NO3  01.01.2022 01:00 - 01.01.2022 02:00 (UTC)   \n2  BZN|NO3  01.01.2022 02:00 - 01.01.2022 03:00 (UTC)   \n3  BZN|NO3  01.01.2022 03:00 - 01.01.2022 04:00 (UTC)   \n4  BZN|NO3  01.01.2022 04:00 - 01.01.2022 05:00 (UTC)   \n\n  Biomass  - Actual Aggregated [MW]  \\\n0                               n/e   \n1                               n/e   \n2                               n/e   \n3                               n/e   \n4                               n/e   \n\n  Fossil Brown coal/Lignite  - Actual Aggregated [MW]  \\\n0                                                n/e    \n1                                                n/e    \n2                                                n/e    \n3                                                n/e    \n4                                                n/e    \n\n  Fossil Coal-derived gas  - Actual Aggregated [MW]  \\\n0                                               n/e   \n1                                               n/e   \n2                                               n/e   \n3                                               n/e   \n4                                               n/e   \n\n  Fossil Gas  - Actual Aggregated [MW]  \\\n0                                    0   \n1                                    0   \n2                                    0   \n3                                    0   \n4                                    0   \n\n  Fossil Hard coal  - Actual Aggregated [MW]  \\\n0                                        n/e   \n1                                        n/e   \n2                                        n/e   \n3                                        n/e   \n4                                        n/e   \n\n  Fossil Oil  - Actual Aggregated [MW]  \\\n0                                  n/e   \n1                                  n/e   \n2                                  n/e   \n3                                  n/e   \n4                                  n/e   \n\n  Fossil Oil shale  - Actual Aggregated [MW]  \\\n0                                        n/e   \n1                                        n/e   \n2                                        n/e   \n3                                        n/e   \n4                                        n/e   \n\n  Fossil Peat  - Actual Aggregated [MW]  ...  \\\n0                                   n/e  ...   \n1                                   n/e  ...   \n2                                   n/e  ...   \n3                                   n/e  ...   \n4                                   n/e  ...   \n\n  Hydro Run-of-river and poundage  - Actual Aggregated [MW]  \\\n0                                                389          \n1                                                390          \n2                                                405          \n3                                                393          \n4                                                398          \n\n   Hydro Water Reservoir  - Actual Aggregated [MW]  \\\n0                                             2166   \n1                                             2187   \n2                                             2183   \n3                                             2076   \n4                                             2098   \n\n   Marine  - Actual Aggregated [MW]  Nuclear  - Actual Aggregated [MW]  \\\n0                               n/e                                n/e   \n1                               n/e                                n/e   \n2                               n/e                                n/e   \n3                               n/e                                n/e   \n4                               n/e                                n/e   \n\n   Other  - Actual Aggregated [MW] Other renewable  - Actual Aggregated [MW]  \\\n0                                0                                        12   \n1                                0                                        12   \n2                                0                                        12   \n3                                0                                        12   \n4                                0                                        11   \n\n  Solar  - Actual Aggregated [MW]  Waste  - Actual Aggregated [MW]  \\\n0                             n/e                                3   \n1                             n/e                                2   \n2                             n/e                                1   \n3                             n/e                                0   \n4                             n/e                                0   \n\n   Wind Offshore  - Actual Aggregated [MW]  \\\n0                                      n/e   \n1                                      n/e   \n2                                      n/e   \n3                                      n/e   \n4                                      n/e   \n\n  Wind Onshore  - Actual Aggregated [MW]  \n0                                    219  \n1                                    170  \n2                                    126  \n3                                     81  \n4                                     45  \n\n[5 rows x 23 columns]",
      "text/html": "<div>\n<style scoped>\n    .dataframe tbody tr th:only-of-type {\n        vertical-align: middle;\n    }\n\n    .dataframe tbody tr th {\n        vertical-align: top;\n    }\n\n    .dataframe thead th {\n        text-align: right;\n    }\n</style>\n<table border=\"1\" class=\"dataframe\">\n  <thead>\n    <tr style=\"text-align: right;\">\n      <th></th>\n      <th>Area</th>\n      <th>MTU</th>\n      <th>Biomass  - Actual Aggregated [MW]</th>\n      <th>Fossil Brown coal/Lignite  - Actual Aggregated [MW]</th>\n      <th>Fossil Coal-derived gas  - Actual Aggregated [MW]</th>\n      <th>Fossil Gas  - Actual Aggregated [MW]</th>\n      <th>Fossil Hard coal  - Actual Aggregated [MW]</th>\n      <th>Fossil Oil  - Actual Aggregated [MW]</th>\n      <th>Fossil Oil shale  - Actual Aggregated [MW]</th>\n      <th>Fossil Peat  - Actual Aggregated [MW]</th>\n      <th>...</th>\n      <th>Hydro Run-of-river and poundage  - Actual Aggregated [MW]</th>\n      <th>Hydro Water Reservoir  - Actual Aggregated [MW]</th>\n      <th>Marine  - Actual Aggregated [MW]</th>\n      <th>Nuclear  - Actual Aggregated [MW]</th>\n      <th>Other  - Actual Aggregated [MW]</th>\n      <th>Other renewable  - Actual Aggregated [MW]</th>\n      <th>Solar  - Actual Aggregated [MW]</th>\n      <th>Waste  - Actual Aggregated [MW]</th>\n      <th>Wind Offshore  - Actual Aggregated [MW]</th>\n      <th>Wind Onshore  - Actual Aggregated [MW]</th>\n    </tr>\n  </thead>\n  <tbody>\n    <tr>\n      <th>0</th>\n      <td>BZN|NO3</td>\n      <td>01.01.2022 00:00 - 01.01.2022 01:00 (UTC)</td>\n      <td>n/e</td>\n      <td>n/e</td>\n      <td>n/e</td>\n      <td>0</td>\n      <td>n/e</td>\n      <td>n/e</td>\n      <td>n/e</td>\n      <td>n/e</td>\n      <td>...</td>\n      <td>389</td>\n      <td>2166</td>\n      <td>n/e</td>\n      <td>n/e</td>\n      <td>0</td>\n      <td>12</td>\n      <td>n/e</td>\n      <td>3</td>\n      <td>n/e</td>\n      <td>219</td>\n    </tr>\n    <tr>\n      <th>1</th>\n      <td>BZN|NO3</td>\n      <td>01.01.2022 01:00 - 01.01.2022 02:00 (UTC)</td>\n      <td>n/e</td>\n      <td>n/e</td>\n      <td>n/e</td>\n      <td>0</td>\n      <td>n/e</td>\n      <td>n/e</td>\n      <td>n/e</td>\n      <td>n/e</td>\n      <td>...</td>\n      <td>390</td>\n      <td>2187</td>\n      <td>n/e</td>\n      <td>n/e</td>\n      <td>0</td>\n      <td>12</td>\n      <td>n/e</td>\n      <td>2</td>\n      <td>n/e</td>\n      <td>170</td>\n    </tr>\n    <tr>\n      <th>2</th>\n      <td>BZN|NO3</td>\n      <td>01.01.2022 02:00 - 01.01.2022 03:00 (UTC)</td>\n      <td>n/e</td>\n      <td>n/e</td>\n      <td>n/e</td>\n      <td>0</td>\n      <td>n/e</td>\n      <td>n/e</td>\n      <td>n/e</td>\n      <td>n/e</td>\n      <td>...</td>\n      <td>405</td>\n      <td>2183</td>\n      <td>n/e</td>\n      <td>n/e</td>\n      <td>0</td>\n      <td>12</td>\n      <td>n/e</td>\n      <td>1</td>\n      <td>n/e</td>\n      <td>126</td>\n    </tr>\n    <tr>\n      <th>3</th>\n      <td>BZN|NO3</td>\n      <td>01.01.2022 03:00 - 01.01.2022 04:00 (UTC)</td>\n      <td>n/e</td>\n      <td>n/e</td>\n      <td>n/e</td>\n      <td>0</td>\n      <td>n/e</td>\n      <td>n/e</td>\n      <td>n/e</td>\n      <td>n/e</td>\n      <td>...</td>\n      <td>393</td>\n      <td>2076</td>\n      <td>n/e</td>\n      <td>n/e</td>\n      <td>0</td>\n      <td>12</td>\n      <td>n/e</td>\n      <td>0</td>\n      <td>n/e</td>\n      <td>81</td>\n    </tr>\n    <tr>\n      <th>4</th>\n      <td>BZN|NO3</td>\n      <td>01.01.2022 04:00 - 01.01.2022 05:00 (UTC)</td>\n      <td>n/e</td>\n      <td>n/e</td>\n      <td>n/e</td>\n      <td>0</td>\n      <td>n/e</td>\n      <td>n/e</td>\n      <td>n/e</td>\n      <td>n/e</td>\n      <td>...</td>\n      <td>398</td>\n      <td>2098</td>\n      <td>n/e</td>\n      <td>n/e</td>\n      <td>0</td>\n      <td>11</td>\n      <td>n/e</td>\n      <td>0</td>\n      <td>n/e</td>\n      <td>45</td>\n    </tr>\n  </tbody>\n</table>\n<p>5 rows × 23 columns</p>\n</div>"
     },
     "execution_count": 258,
     "metadata": {},
     "output_type": "execute_result"
    }
   ],
   "source": [
    "actual_generation_no3.head()"
   ]
  },
  {
   "cell_type": "code",
   "execution_count": 259,
   "id": "f404bd9d",
   "metadata": {},
   "outputs": [
    {
     "data": {
      "text/plain": "      Area                                        MTU  \\\n0  BZN|NO5  01.01.2022 00:00 - 01.01.2022 01:00 (UTC)   \n1  BZN|NO5  01.01.2022 01:00 - 01.01.2022 02:00 (UTC)   \n2  BZN|NO5  01.01.2022 02:00 - 01.01.2022 03:00 (UTC)   \n3  BZN|NO5  01.01.2022 03:00 - 01.01.2022 04:00 (UTC)   \n4  BZN|NO5  01.01.2022 04:00 - 01.01.2022 05:00 (UTC)   \n\n  Biomass  - Actual Aggregated [MW]  \\\n0                               n/e   \n1                               n/e   \n2                               n/e   \n3                               n/e   \n4                               n/e   \n\n  Fossil Brown coal/Lignite  - Actual Aggregated [MW]  \\\n0                                                n/e    \n1                                                n/e    \n2                                                n/e    \n3                                                n/e    \n4                                                n/e    \n\n  Fossil Coal-derived gas  - Actual Aggregated [MW]  \\\n0                                               n/e   \n1                                               n/e   \n2                                               n/e   \n3                                               n/e   \n4                                               n/e   \n\n   Fossil Gas  - Actual Aggregated [MW]  \\\n0                                    82   \n1                                    82   \n2                                    82   \n3                                    82   \n4                                    82   \n\n  Fossil Hard coal  - Actual Aggregated [MW]  \\\n0                                        n/e   \n1                                        n/e   \n2                                        n/e   \n3                                        n/e   \n4                                        n/e   \n\n  Fossil Oil  - Actual Aggregated [MW]  \\\n0                                  n/e   \n1                                  n/e   \n2                                  n/e   \n3                                  n/e   \n4                                  n/e   \n\n  Fossil Oil shale  - Actual Aggregated [MW]  \\\n0                                        n/e   \n1                                        n/e   \n2                                        n/e   \n3                                        n/e   \n4                                        n/e   \n\n  Fossil Peat  - Actual Aggregated [MW]  ...  \\\n0                                   n/e  ...   \n1                                   n/e  ...   \n2                                   n/e  ...   \n3                                   n/e  ...   \n4                                   n/e  ...   \n\n  Hydro Run-of-river and poundage  - Actual Aggregated [MW]  \\\n0                                                227          \n1                                                216          \n2                                                215          \n3                                                209          \n4                                                210          \n\n   Hydro Water Reservoir  - Actual Aggregated [MW]  \\\n0                                             1759   \n1                                             1890   \n2                                             1460   \n3                                             1394   \n4                                             1488   \n\n   Marine  - Actual Aggregated [MW]  Nuclear  - Actual Aggregated [MW]  \\\n0                               n/e                                n/e   \n1                               n/e                                n/e   \n2                               n/e                                n/e   \n3                               n/e                                n/e   \n4                               n/e                                n/e   \n\n   Other  - Actual Aggregated [MW] Other renewable  - Actual Aggregated [MW]  \\\n0                              n/e                                       n/e   \n1                              n/e                                       n/e   \n2                              n/e                                       n/e   \n3                              n/e                                       n/e   \n4                              n/e                                       n/e   \n\n  Solar  - Actual Aggregated [MW] Waste  - Actual Aggregated [MW]  \\\n0                             n/e                              19   \n1                             n/e                              20   \n2                             n/e                              20   \n3                             n/e                              20   \n4                             n/e                              19   \n\n  Wind Offshore  - Actual Aggregated [MW]  \\\n0                                     n/e   \n1                                     n/e   \n2                                     n/e   \n3                                     n/e   \n4                                     n/e   \n\n  Wind Onshore  - Actual Aggregated [MW]  \n0                                    n/e  \n1                                    n/e  \n2                                    n/e  \n3                                    n/e  \n4                                    n/e  \n\n[5 rows x 23 columns]",
      "text/html": "<div>\n<style scoped>\n    .dataframe tbody tr th:only-of-type {\n        vertical-align: middle;\n    }\n\n    .dataframe tbody tr th {\n        vertical-align: top;\n    }\n\n    .dataframe thead th {\n        text-align: right;\n    }\n</style>\n<table border=\"1\" class=\"dataframe\">\n  <thead>\n    <tr style=\"text-align: right;\">\n      <th></th>\n      <th>Area</th>\n      <th>MTU</th>\n      <th>Biomass  - Actual Aggregated [MW]</th>\n      <th>Fossil Brown coal/Lignite  - Actual Aggregated [MW]</th>\n      <th>Fossil Coal-derived gas  - Actual Aggregated [MW]</th>\n      <th>Fossil Gas  - Actual Aggregated [MW]</th>\n      <th>Fossil Hard coal  - Actual Aggregated [MW]</th>\n      <th>Fossil Oil  - Actual Aggregated [MW]</th>\n      <th>Fossil Oil shale  - Actual Aggregated [MW]</th>\n      <th>Fossil Peat  - Actual Aggregated [MW]</th>\n      <th>...</th>\n      <th>Hydro Run-of-river and poundage  - Actual Aggregated [MW]</th>\n      <th>Hydro Water Reservoir  - Actual Aggregated [MW]</th>\n      <th>Marine  - Actual Aggregated [MW]</th>\n      <th>Nuclear  - Actual Aggregated [MW]</th>\n      <th>Other  - Actual Aggregated [MW]</th>\n      <th>Other renewable  - Actual Aggregated [MW]</th>\n      <th>Solar  - Actual Aggregated [MW]</th>\n      <th>Waste  - Actual Aggregated [MW]</th>\n      <th>Wind Offshore  - Actual Aggregated [MW]</th>\n      <th>Wind Onshore  - Actual Aggregated [MW]</th>\n    </tr>\n  </thead>\n  <tbody>\n    <tr>\n      <th>0</th>\n      <td>BZN|NO5</td>\n      <td>01.01.2022 00:00 - 01.01.2022 01:00 (UTC)</td>\n      <td>n/e</td>\n      <td>n/e</td>\n      <td>n/e</td>\n      <td>82</td>\n      <td>n/e</td>\n      <td>n/e</td>\n      <td>n/e</td>\n      <td>n/e</td>\n      <td>...</td>\n      <td>227</td>\n      <td>1759</td>\n      <td>n/e</td>\n      <td>n/e</td>\n      <td>n/e</td>\n      <td>n/e</td>\n      <td>n/e</td>\n      <td>19</td>\n      <td>n/e</td>\n      <td>n/e</td>\n    </tr>\n    <tr>\n      <th>1</th>\n      <td>BZN|NO5</td>\n      <td>01.01.2022 01:00 - 01.01.2022 02:00 (UTC)</td>\n      <td>n/e</td>\n      <td>n/e</td>\n      <td>n/e</td>\n      <td>82</td>\n      <td>n/e</td>\n      <td>n/e</td>\n      <td>n/e</td>\n      <td>n/e</td>\n      <td>...</td>\n      <td>216</td>\n      <td>1890</td>\n      <td>n/e</td>\n      <td>n/e</td>\n      <td>n/e</td>\n      <td>n/e</td>\n      <td>n/e</td>\n      <td>20</td>\n      <td>n/e</td>\n      <td>n/e</td>\n    </tr>\n    <tr>\n      <th>2</th>\n      <td>BZN|NO5</td>\n      <td>01.01.2022 02:00 - 01.01.2022 03:00 (UTC)</td>\n      <td>n/e</td>\n      <td>n/e</td>\n      <td>n/e</td>\n      <td>82</td>\n      <td>n/e</td>\n      <td>n/e</td>\n      <td>n/e</td>\n      <td>n/e</td>\n      <td>...</td>\n      <td>215</td>\n      <td>1460</td>\n      <td>n/e</td>\n      <td>n/e</td>\n      <td>n/e</td>\n      <td>n/e</td>\n      <td>n/e</td>\n      <td>20</td>\n      <td>n/e</td>\n      <td>n/e</td>\n    </tr>\n    <tr>\n      <th>3</th>\n      <td>BZN|NO5</td>\n      <td>01.01.2022 03:00 - 01.01.2022 04:00 (UTC)</td>\n      <td>n/e</td>\n      <td>n/e</td>\n      <td>n/e</td>\n      <td>82</td>\n      <td>n/e</td>\n      <td>n/e</td>\n      <td>n/e</td>\n      <td>n/e</td>\n      <td>...</td>\n      <td>209</td>\n      <td>1394</td>\n      <td>n/e</td>\n      <td>n/e</td>\n      <td>n/e</td>\n      <td>n/e</td>\n      <td>n/e</td>\n      <td>20</td>\n      <td>n/e</td>\n      <td>n/e</td>\n    </tr>\n    <tr>\n      <th>4</th>\n      <td>BZN|NO5</td>\n      <td>01.01.2022 04:00 - 01.01.2022 05:00 (UTC)</td>\n      <td>n/e</td>\n      <td>n/e</td>\n      <td>n/e</td>\n      <td>82</td>\n      <td>n/e</td>\n      <td>n/e</td>\n      <td>n/e</td>\n      <td>n/e</td>\n      <td>...</td>\n      <td>210</td>\n      <td>1488</td>\n      <td>n/e</td>\n      <td>n/e</td>\n      <td>n/e</td>\n      <td>n/e</td>\n      <td>n/e</td>\n      <td>19</td>\n      <td>n/e</td>\n      <td>n/e</td>\n    </tr>\n  </tbody>\n</table>\n<p>5 rows × 23 columns</p>\n</div>"
     },
     "execution_count": 259,
     "metadata": {},
     "output_type": "execute_result"
    }
   ],
   "source": [
    "actual_generation_no5.head()"
   ]
  },
  {
   "cell_type": "code",
   "execution_count": 260,
   "id": "5c43c5ff",
   "metadata": {},
   "outputs": [
    {
     "data": {
      "text/plain": "      Area                                        MTU  \\\n0  BZN|SE3  01.01.2022 00:00 - 01.01.2022 01:00 (UTC)   \n1  BZN|SE3  01.01.2022 01:00 - 01.01.2022 02:00 (UTC)   \n2  BZN|SE3  01.01.2022 02:00 - 01.01.2022 03:00 (UTC)   \n3  BZN|SE3  01.01.2022 03:00 - 01.01.2022 04:00 (UTC)   \n4  BZN|SE3  01.01.2022 04:00 - 01.01.2022 05:00 (UTC)   \n\n  Biomass  - Actual Aggregated [MW]  \\\n0                               n/e   \n1                               n/e   \n2                               n/e   \n3                               n/e   \n4                               n/e   \n\n  Fossil Brown coal/Lignite  - Actual Aggregated [MW]  \\\n0                                                n/e    \n1                                                n/e    \n2                                                n/e    \n3                                                n/e    \n4                                                n/e    \n\n  Fossil Coal-derived gas  - Actual Aggregated [MW]  \\\n0                                               n/e   \n1                                               n/e   \n2                                               n/e   \n3                                               n/e   \n4                                               n/e   \n\n   Fossil Gas  - Actual Aggregated [MW]  \\\n0                                   0.0   \n1                                   0.0   \n2                                   0.0   \n3                                   0.0   \n4                                   0.0   \n\n  Fossil Hard coal  - Actual Aggregated [MW]  \\\n0                                        n/e   \n1                                        n/e   \n2                                        n/e   \n3                                        n/e   \n4                                        n/e   \n\n  Fossil Oil  - Actual Aggregated [MW]  \\\n0                                  n/e   \n1                                  n/e   \n2                                  n/e   \n3                                  n/e   \n4                                  n/e   \n\n  Fossil Oil shale  - Actual Aggregated [MW]  \\\n0                                        n/e   \n1                                        n/e   \n2                                        n/e   \n3                                        n/e   \n4                                        n/e   \n\n  Fossil Peat  - Actual Aggregated [MW]  ...  \\\n0                                   n/e  ...   \n1                                   n/e  ...   \n2                                   n/e  ...   \n3                                   n/e  ...   \n4                                   n/e  ...   \n\n  Hydro Run-of-river and poundage  - Actual Aggregated [MW]  \\\n0                                                n/e          \n1                                                n/e          \n2                                                n/e          \n3                                                n/e          \n4                                                n/e          \n\n  Hydro Water Reservoir  - Actual Aggregated [MW]  \\\n0                                           818.0   \n1                                           818.0   \n2                                           838.0   \n3                                           842.0   \n4                                           841.0   \n\n  Marine  - Actual Aggregated [MW] Nuclear  - Actual Aggregated [MW]  \\\n0                                0                            5842.0   \n1                                0                            5839.0   \n2                                0                            5839.0   \n3                                0                            5840.0   \n4                                0                            5839.0   \n\n   Other  - Actual Aggregated [MW] Other renewable  - Actual Aggregated [MW]  \\\n0                            851.0                                       n/e   \n1                            858.0                                       n/e   \n2                            859.0                                       n/e   \n3                            856.0                                       n/e   \n4                            880.0                                       n/e   \n\n   Solar  - Actual Aggregated [MW]  Waste  - Actual Aggregated [MW]  \\\n0                              0.0                              n/e   \n1                              0.0                              n/e   \n2                              0.0                              n/e   \n3                              0.0                              n/e   \n4                              0.0                              n/e   \n\n  Wind Offshore  - Actual Aggregated [MW]  \\\n0                                     n/e   \n1                                     n/e   \n2                                     n/e   \n3                                     n/e   \n4                                     n/e   \n\n   Wind Onshore  - Actual Aggregated [MW]  \n0                                   999.0  \n1                                   958.0  \n2                                   888.0  \n3                                   788.0  \n4                                   734.0  \n\n[5 rows x 23 columns]",
      "text/html": "<div>\n<style scoped>\n    .dataframe tbody tr th:only-of-type {\n        vertical-align: middle;\n    }\n\n    .dataframe tbody tr th {\n        vertical-align: top;\n    }\n\n    .dataframe thead th {\n        text-align: right;\n    }\n</style>\n<table border=\"1\" class=\"dataframe\">\n  <thead>\n    <tr style=\"text-align: right;\">\n      <th></th>\n      <th>Area</th>\n      <th>MTU</th>\n      <th>Biomass  - Actual Aggregated [MW]</th>\n      <th>Fossil Brown coal/Lignite  - Actual Aggregated [MW]</th>\n      <th>Fossil Coal-derived gas  - Actual Aggregated [MW]</th>\n      <th>Fossil Gas  - Actual Aggregated [MW]</th>\n      <th>Fossil Hard coal  - Actual Aggregated [MW]</th>\n      <th>Fossil Oil  - Actual Aggregated [MW]</th>\n      <th>Fossil Oil shale  - Actual Aggregated [MW]</th>\n      <th>Fossil Peat  - Actual Aggregated [MW]</th>\n      <th>...</th>\n      <th>Hydro Run-of-river and poundage  - Actual Aggregated [MW]</th>\n      <th>Hydro Water Reservoir  - Actual Aggregated [MW]</th>\n      <th>Marine  - Actual Aggregated [MW]</th>\n      <th>Nuclear  - Actual Aggregated [MW]</th>\n      <th>Other  - Actual Aggregated [MW]</th>\n      <th>Other renewable  - Actual Aggregated [MW]</th>\n      <th>Solar  - Actual Aggregated [MW]</th>\n      <th>Waste  - Actual Aggregated [MW]</th>\n      <th>Wind Offshore  - Actual Aggregated [MW]</th>\n      <th>Wind Onshore  - Actual Aggregated [MW]</th>\n    </tr>\n  </thead>\n  <tbody>\n    <tr>\n      <th>0</th>\n      <td>BZN|SE3</td>\n      <td>01.01.2022 00:00 - 01.01.2022 01:00 (UTC)</td>\n      <td>n/e</td>\n      <td>n/e</td>\n      <td>n/e</td>\n      <td>0.0</td>\n      <td>n/e</td>\n      <td>n/e</td>\n      <td>n/e</td>\n      <td>n/e</td>\n      <td>...</td>\n      <td>n/e</td>\n      <td>818.0</td>\n      <td>0</td>\n      <td>5842.0</td>\n      <td>851.0</td>\n      <td>n/e</td>\n      <td>0.0</td>\n      <td>n/e</td>\n      <td>n/e</td>\n      <td>999.0</td>\n    </tr>\n    <tr>\n      <th>1</th>\n      <td>BZN|SE3</td>\n      <td>01.01.2022 01:00 - 01.01.2022 02:00 (UTC)</td>\n      <td>n/e</td>\n      <td>n/e</td>\n      <td>n/e</td>\n      <td>0.0</td>\n      <td>n/e</td>\n      <td>n/e</td>\n      <td>n/e</td>\n      <td>n/e</td>\n      <td>...</td>\n      <td>n/e</td>\n      <td>818.0</td>\n      <td>0</td>\n      <td>5839.0</td>\n      <td>858.0</td>\n      <td>n/e</td>\n      <td>0.0</td>\n      <td>n/e</td>\n      <td>n/e</td>\n      <td>958.0</td>\n    </tr>\n    <tr>\n      <th>2</th>\n      <td>BZN|SE3</td>\n      <td>01.01.2022 02:00 - 01.01.2022 03:00 (UTC)</td>\n      <td>n/e</td>\n      <td>n/e</td>\n      <td>n/e</td>\n      <td>0.0</td>\n      <td>n/e</td>\n      <td>n/e</td>\n      <td>n/e</td>\n      <td>n/e</td>\n      <td>...</td>\n      <td>n/e</td>\n      <td>838.0</td>\n      <td>0</td>\n      <td>5839.0</td>\n      <td>859.0</td>\n      <td>n/e</td>\n      <td>0.0</td>\n      <td>n/e</td>\n      <td>n/e</td>\n      <td>888.0</td>\n    </tr>\n    <tr>\n      <th>3</th>\n      <td>BZN|SE3</td>\n      <td>01.01.2022 03:00 - 01.01.2022 04:00 (UTC)</td>\n      <td>n/e</td>\n      <td>n/e</td>\n      <td>n/e</td>\n      <td>0.0</td>\n      <td>n/e</td>\n      <td>n/e</td>\n      <td>n/e</td>\n      <td>n/e</td>\n      <td>...</td>\n      <td>n/e</td>\n      <td>842.0</td>\n      <td>0</td>\n      <td>5840.0</td>\n      <td>856.0</td>\n      <td>n/e</td>\n      <td>0.0</td>\n      <td>n/e</td>\n      <td>n/e</td>\n      <td>788.0</td>\n    </tr>\n    <tr>\n      <th>4</th>\n      <td>BZN|SE3</td>\n      <td>01.01.2022 04:00 - 01.01.2022 05:00 (UTC)</td>\n      <td>n/e</td>\n      <td>n/e</td>\n      <td>n/e</td>\n      <td>0.0</td>\n      <td>n/e</td>\n      <td>n/e</td>\n      <td>n/e</td>\n      <td>n/e</td>\n      <td>...</td>\n      <td>n/e</td>\n      <td>841.0</td>\n      <td>0</td>\n      <td>5839.0</td>\n      <td>880.0</td>\n      <td>n/e</td>\n      <td>0.0</td>\n      <td>n/e</td>\n      <td>n/e</td>\n      <td>734.0</td>\n    </tr>\n  </tbody>\n</table>\n<p>5 rows × 23 columns</p>\n</div>"
     },
     "execution_count": 260,
     "metadata": {},
     "output_type": "execute_result"
    }
   ],
   "source": [
    "actual_generation_se3.head()"
   ]
  },
  {
   "cell_type": "code",
   "execution_count": 261,
   "id": "b31db664",
   "metadata": {},
   "outputs": [
    {
     "data": {
      "text/plain": "      Area                                  MTU (UTC)  Biomass - BZN|NO1  \\\n0  BZN|NO1  01.01.2022 00:00 - 01.01.2022 01:00 (UTC)                  0   \n1  BZN|NO1  01.01.2022 01:00 - 01.01.2022 02:00 (UTC)                  0   \n2  BZN|NO1  01.01.2022 02:00 - 01.01.2022 03:00 (UTC)                  0   \n3  BZN|NO1  01.01.2022 03:00 - 01.01.2022 04:00 (UTC)                  0   \n4  BZN|NO1  01.01.2022 04:00 - 01.01.2022 05:00 (UTC)                  0   \n\n  Fossil Brown coal/Lignite - BZN|NO1 Fossil Coal-derived gas - BZN|NO1  \\\n0                                 n/e                               n/e   \n1                                 n/e                               n/e   \n2                                 n/e                               n/e   \n3                                 n/e                               n/e   \n4                                 n/e                               n/e   \n\n   Fossil Gas - BZN|NO1 Fossil Hard coal - BZN|NO1 Fossil Oil - BZN|NO1  \\\n0                     0                        n/e                  n/e   \n1                     0                        n/e                  n/e   \n2                     0                        n/e                  n/e   \n3                     0                        n/e                  n/e   \n4                     0                        n/e                  n/e   \n\n  Fossil Oil shale - BZN|NO1 Fossil Peat - BZN|NO1  ...  \\\n0                        n/e                   n/e  ...   \n1                        n/e                   n/e  ...   \n2                        n/e                   n/e  ...   \n3                        n/e                   n/e  ...   \n4                        n/e                   n/e  ...   \n\n  Hydro Run-of-river and poundage - BZN|NO1 Hydro Water Reservoir - BZN|NO1  \\\n0                                       878                             321   \n1                                       897                             330   \n2                                       885                             275   \n3                                       890                             269   \n4                                       892                             300   \n\n  Marine - BZN|NO1  Nuclear - BZN|NO1  Other - BZN|NO1  \\\n0              n/e                n/e              n/e   \n1              n/e                n/e              n/e   \n2              n/e                n/e              n/e   \n3              n/e                n/e              n/e   \n4              n/e                n/e              n/e   \n\n  Other renewable - BZN|NO1 Solar - BZN|NO1 Waste - BZN|NO1  \\\n0                       n/e             n/e               8   \n1                       n/e             n/e               8   \n2                       n/e             n/e               8   \n3                       n/e             n/e               8   \n4                       n/e             n/e               8   \n\n  Wind Offshore - BZN|NO1 Wind Onshore - BZN|NO1  \n0                     n/e                    172  \n1                     n/e                    151  \n2                     n/e                    160  \n3                     n/e                    148  \n4                     n/e                    147  \n\n[5 rows x 23 columns]",
      "text/html": "<div>\n<style scoped>\n    .dataframe tbody tr th:only-of-type {\n        vertical-align: middle;\n    }\n\n    .dataframe tbody tr th {\n        vertical-align: top;\n    }\n\n    .dataframe thead th {\n        text-align: right;\n    }\n</style>\n<table border=\"1\" class=\"dataframe\">\n  <thead>\n    <tr style=\"text-align: right;\">\n      <th></th>\n      <th>Area</th>\n      <th>MTU (UTC)</th>\n      <th>Biomass - BZN|NO1</th>\n      <th>Fossil Brown coal/Lignite - BZN|NO1</th>\n      <th>Fossil Coal-derived gas - BZN|NO1</th>\n      <th>Fossil Gas - BZN|NO1</th>\n      <th>Fossil Hard coal - BZN|NO1</th>\n      <th>Fossil Oil - BZN|NO1</th>\n      <th>Fossil Oil shale - BZN|NO1</th>\n      <th>Fossil Peat - BZN|NO1</th>\n      <th>...</th>\n      <th>Hydro Run-of-river and poundage - BZN|NO1</th>\n      <th>Hydro Water Reservoir - BZN|NO1</th>\n      <th>Marine - BZN|NO1</th>\n      <th>Nuclear - BZN|NO1</th>\n      <th>Other - BZN|NO1</th>\n      <th>Other renewable - BZN|NO1</th>\n      <th>Solar - BZN|NO1</th>\n      <th>Waste - BZN|NO1</th>\n      <th>Wind Offshore - BZN|NO1</th>\n      <th>Wind Onshore - BZN|NO1</th>\n    </tr>\n  </thead>\n  <tbody>\n    <tr>\n      <th>0</th>\n      <td>BZN|NO1</td>\n      <td>01.01.2022 00:00 - 01.01.2022 01:00 (UTC)</td>\n      <td>0</td>\n      <td>n/e</td>\n      <td>n/e</td>\n      <td>0</td>\n      <td>n/e</td>\n      <td>n/e</td>\n      <td>n/e</td>\n      <td>n/e</td>\n      <td>...</td>\n      <td>878</td>\n      <td>321</td>\n      <td>n/e</td>\n      <td>n/e</td>\n      <td>n/e</td>\n      <td>n/e</td>\n      <td>n/e</td>\n      <td>8</td>\n      <td>n/e</td>\n      <td>172</td>\n    </tr>\n    <tr>\n      <th>1</th>\n      <td>BZN|NO1</td>\n      <td>01.01.2022 01:00 - 01.01.2022 02:00 (UTC)</td>\n      <td>0</td>\n      <td>n/e</td>\n      <td>n/e</td>\n      <td>0</td>\n      <td>n/e</td>\n      <td>n/e</td>\n      <td>n/e</td>\n      <td>n/e</td>\n      <td>...</td>\n      <td>897</td>\n      <td>330</td>\n      <td>n/e</td>\n      <td>n/e</td>\n      <td>n/e</td>\n      <td>n/e</td>\n      <td>n/e</td>\n      <td>8</td>\n      <td>n/e</td>\n      <td>151</td>\n    </tr>\n    <tr>\n      <th>2</th>\n      <td>BZN|NO1</td>\n      <td>01.01.2022 02:00 - 01.01.2022 03:00 (UTC)</td>\n      <td>0</td>\n      <td>n/e</td>\n      <td>n/e</td>\n      <td>0</td>\n      <td>n/e</td>\n      <td>n/e</td>\n      <td>n/e</td>\n      <td>n/e</td>\n      <td>...</td>\n      <td>885</td>\n      <td>275</td>\n      <td>n/e</td>\n      <td>n/e</td>\n      <td>n/e</td>\n      <td>n/e</td>\n      <td>n/e</td>\n      <td>8</td>\n      <td>n/e</td>\n      <td>160</td>\n    </tr>\n    <tr>\n      <th>3</th>\n      <td>BZN|NO1</td>\n      <td>01.01.2022 03:00 - 01.01.2022 04:00 (UTC)</td>\n      <td>0</td>\n      <td>n/e</td>\n      <td>n/e</td>\n      <td>0</td>\n      <td>n/e</td>\n      <td>n/e</td>\n      <td>n/e</td>\n      <td>n/e</td>\n      <td>...</td>\n      <td>890</td>\n      <td>269</td>\n      <td>n/e</td>\n      <td>n/e</td>\n      <td>n/e</td>\n      <td>n/e</td>\n      <td>n/e</td>\n      <td>8</td>\n      <td>n/e</td>\n      <td>148</td>\n    </tr>\n    <tr>\n      <th>4</th>\n      <td>BZN|NO1</td>\n      <td>01.01.2022 04:00 - 01.01.2022 05:00 (UTC)</td>\n      <td>0</td>\n      <td>n/e</td>\n      <td>n/e</td>\n      <td>0</td>\n      <td>n/e</td>\n      <td>n/e</td>\n      <td>n/e</td>\n      <td>n/e</td>\n      <td>...</td>\n      <td>892</td>\n      <td>300</td>\n      <td>n/e</td>\n      <td>n/e</td>\n      <td>n/e</td>\n      <td>n/e</td>\n      <td>n/e</td>\n      <td>8</td>\n      <td>n/e</td>\n      <td>147</td>\n    </tr>\n  </tbody>\n</table>\n<p>5 rows × 23 columns</p>\n</div>"
     },
     "execution_count": 261,
     "metadata": {},
     "output_type": "execute_result"
    }
   ],
   "source": [
    "# Renaming every column to have zones instead of using a column for 'Area'\n",
    "actual_generation_no1.columns = ['Area','MTU (UTC)','Biomass - BZN|NO1', 'Fossil Brown coal/Lignite - BZN|NO1', 'Fossil Coal-derived gas - BZN|NO1', 'Fossil Gas - BZN|NO1', 'Fossil Hard coal - BZN|NO1', 'Fossil Oil - BZN|NO1', 'Fossil Oil shale - BZN|NO1', 'Fossil Peat - BZN|NO1', 'Geothermal - BZN|NO1', 'Hydro Pumped Storage Aggregated- BZN|NO1', 'Hydro Pumped Storage Consumption - BZN|NO1', 'Hydro Run-of-river and poundage - BZN|NO1', 'Hydro Water Reservoir - BZN|NO1', 'Marine - BZN|NO1', 'Nuclear - BZN|NO1', 'Other - BZN|NO1', 'Other renewable - BZN|NO1', 'Solar - BZN|NO1', 'Waste - BZN|NO1', 'Wind Offshore - BZN|NO1', 'Wind Onshore - BZN|NO1']\n",
    "actual_generation_no2.columns = ['Area','MTU (UTC)','Biomass - BZN|NO2', 'Fossil Brown coal/Lignite - BZN|NO2', 'Fossil Coal-derived gas - BZN|NO2', 'Fossil Gas - BZN|NO2', 'Fossil Hard coal - BZN|NO2', 'Fossil Oil - BZN|NO2', 'Fossil Oil shale - BZN|NO2', 'Fossil Peat - BZN|NO2', 'Geothermal - BZN|NO2', 'Hydro Pumped Storage Aggregated- BZN|NO2', 'Hydro Pumped Storage Consumption - BZN|NO2', 'Hydro Run-of-river and poundage - BZN|NO1', 'Hydro Water Reservoir - BZN|NO2', 'Marine - BZN|NO2', 'Nuclear - BZN|NO2', 'Other - BZN|NO2', 'Other renewable - BZN|NO2', 'Solar - BZN|NO2', 'Waste - BZN|NO2', 'Wind Offshore - BZN|NO2', 'Wind Onshore - BZN|NO2']\n",
    "actual_generation_no3.columns = ['Area','MTU (UTC)','Biomass - BZN|NO3', 'Fossil Brown coal/Lignite - BZN|NO3', 'Fossil Coal-derived gas - BZN|NO3', 'Fossil Gas - BZN|NO3', 'Fossil Hard coal - BZN|NO3', 'Fossil Oil - BZN|NO3', 'Fossil Oil shale - BZN|NO3', 'Fossil Peat - BZN|NO3', 'Geothermal - BZN|NO3', 'Hydro Pumped Storage Aggregated- BZN|NO3', 'Hydro Pumped Storage Consumption - BZN|NO3', 'Hydro Run-of-river and poundage - BZN|NO3', 'Hydro Water Reservoir - BZN|NO3', 'Marine - BZN|NO3', 'Nuclear - BZN|NO3', 'Other - BZN|NO3', 'Other renewable - BZN|NO3', 'Solar - BZN|NO3', 'Waste - BZN|NO3', 'Wind Offshore - BZN|NO3', 'Wind Onshore - BZN|NO3']\n",
    "actual_generation_no5.columns = ['Area','MTU (UTC)','Biomass - BZN|NO5', 'Fossil Brown coal/Lignite - BZN|NO5', 'Fossil Coal-derived gas - BZN|NO5', 'Fossil Gas - BZN|NO5', 'Fossil Hard coal - BZN|NO5', 'Fossil Oil - BZN|NO5', 'Fossil Oil shale - BZN|NO5', 'Fossil Peat - BZN|NO5', 'Geothermal - BZN|NO5', 'Hydro Pumped Storage Aggregated- BZN|NO5', 'Hydro Pumped Storage Consumption - BZN|NO5', 'Hydro Run-of-river and poundage - BZN|NO5', 'Hydro Water Reservoir - BZN|NO5', 'Marine - BZN|NO5', 'Nuclear - BZN|NO5', 'Other - BZN|NO5', 'Other renewable - BZN|NO5', 'Solar - BZN|NO5', 'Waste - BZN|NO5', 'Wind Offshore - BZN|NO5', 'Wind Onshore - BZN|NO5']\n",
    "actual_generation_se3.columns = ['Area','MTU (UTC)','Biomass - BZN|SE3', 'Fossil Brown coal/Lignite - BZN|SE3', 'Fossil Coal-derived gas - BZN|SE3', 'Fossil Gas - BZN|SE3', 'Fossil Hard coal - BZN|SE3', 'Fossil Oil - BZN|SE3', 'Fossil Oil shale - BZN|SE3', 'Fossil Peat - BZN|SE3', 'Geothermal - BZN|SE3', 'Hydro Pumped Storage Aggregated- BZN|SE3', 'Hydro Pumped Storage Consumption - BZN|SE3', 'Hydro Run-of-river and poundage - BZN|SE3', 'Hydro Water Reservoir - BZN|SE3', 'Marine - BZN|SE3', 'Nuclear - BZN|SE3', 'Other - BZN|SE3', 'Other renewable - BZN|SE3', 'Solar - BZN|SE3', 'Waste - BZN|SE3', 'Wind Offshore - BZN|SE3', 'Wind Onshore - BZN|SE3']\n",
    "actual_generation_no1.head()"
   ]
  },
  {
   "cell_type": "code",
   "execution_count": 262,
   "id": "af73ba7c",
   "metadata": {},
   "outputs": [
    {
     "data": {
      "text/plain": "                                   MTU (UTC)  Biomass - BZN|NO1  \\\n0  01.01.2022 00:00 - 01.01.2022 01:00 (UTC)                  0   \n1  01.01.2022 01:00 - 01.01.2022 02:00 (UTC)                  0   \n2  01.01.2022 02:00 - 01.01.2022 03:00 (UTC)                  0   \n3  01.01.2022 03:00 - 01.01.2022 04:00 (UTC)                  0   \n4  01.01.2022 04:00 - 01.01.2022 05:00 (UTC)                  0   \n\n  Fossil Brown coal/Lignite - BZN|NO1 Fossil Coal-derived gas - BZN|NO1  \\\n0                                 n/e                               n/e   \n1                                 n/e                               n/e   \n2                                 n/e                               n/e   \n3                                 n/e                               n/e   \n4                                 n/e                               n/e   \n\n   Fossil Gas - BZN|NO1 Fossil Hard coal - BZN|NO1 Fossil Oil - BZN|NO1  \\\n0                     0                        n/e                  n/e   \n1                     0                        n/e                  n/e   \n2                     0                        n/e                  n/e   \n3                     0                        n/e                  n/e   \n4                     0                        n/e                  n/e   \n\n  Fossil Oil shale - BZN|NO1 Fossil Peat - BZN|NO1 Geothermal - BZN|NO1  ...  \\\n0                        n/e                   n/e                  n/e  ...   \n1                        n/e                   n/e                  n/e  ...   \n2                        n/e                   n/e                  n/e  ...   \n3                        n/e                   n/e                  n/e  ...   \n4                        n/e                   n/e                  n/e  ...   \n\n  Hydro Run-of-river and poundage - BZN|NO1 Hydro Water Reservoir - BZN|NO1  \\\n0                                       878                             321   \n1                                       897                             330   \n2                                       885                             275   \n3                                       890                             269   \n4                                       892                             300   \n\n   Marine - BZN|NO1  Nuclear - BZN|NO1 Other - BZN|NO1  \\\n0               n/e                n/e             n/e   \n1               n/e                n/e             n/e   \n2               n/e                n/e             n/e   \n3               n/e                n/e             n/e   \n4               n/e                n/e             n/e   \n\n  Other renewable - BZN|NO1 Solar - BZN|NO1 Waste - BZN|NO1  \\\n0                       n/e             n/e               8   \n1                       n/e             n/e               8   \n2                       n/e             n/e               8   \n3                       n/e             n/e               8   \n4                       n/e             n/e               8   \n\n  Wind Offshore - BZN|NO1  Wind Onshore - BZN|NO1  \n0                     n/e                     172  \n1                     n/e                     151  \n2                     n/e                     160  \n3                     n/e                     148  \n4                     n/e                     147  \n\n[5 rows x 22 columns]",
      "text/html": "<div>\n<style scoped>\n    .dataframe tbody tr th:only-of-type {\n        vertical-align: middle;\n    }\n\n    .dataframe tbody tr th {\n        vertical-align: top;\n    }\n\n    .dataframe thead th {\n        text-align: right;\n    }\n</style>\n<table border=\"1\" class=\"dataframe\">\n  <thead>\n    <tr style=\"text-align: right;\">\n      <th></th>\n      <th>MTU (UTC)</th>\n      <th>Biomass - BZN|NO1</th>\n      <th>Fossil Brown coal/Lignite - BZN|NO1</th>\n      <th>Fossil Coal-derived gas - BZN|NO1</th>\n      <th>Fossil Gas - BZN|NO1</th>\n      <th>Fossil Hard coal - BZN|NO1</th>\n      <th>Fossil Oil - BZN|NO1</th>\n      <th>Fossil Oil shale - BZN|NO1</th>\n      <th>Fossil Peat - BZN|NO1</th>\n      <th>Geothermal - BZN|NO1</th>\n      <th>...</th>\n      <th>Hydro Run-of-river and poundage - BZN|NO1</th>\n      <th>Hydro Water Reservoir - BZN|NO1</th>\n      <th>Marine - BZN|NO1</th>\n      <th>Nuclear - BZN|NO1</th>\n      <th>Other - BZN|NO1</th>\n      <th>Other renewable - BZN|NO1</th>\n      <th>Solar - BZN|NO1</th>\n      <th>Waste - BZN|NO1</th>\n      <th>Wind Offshore - BZN|NO1</th>\n      <th>Wind Onshore - BZN|NO1</th>\n    </tr>\n  </thead>\n  <tbody>\n    <tr>\n      <th>0</th>\n      <td>01.01.2022 00:00 - 01.01.2022 01:00 (UTC)</td>\n      <td>0</td>\n      <td>n/e</td>\n      <td>n/e</td>\n      <td>0</td>\n      <td>n/e</td>\n      <td>n/e</td>\n      <td>n/e</td>\n      <td>n/e</td>\n      <td>n/e</td>\n      <td>...</td>\n      <td>878</td>\n      <td>321</td>\n      <td>n/e</td>\n      <td>n/e</td>\n      <td>n/e</td>\n      <td>n/e</td>\n      <td>n/e</td>\n      <td>8</td>\n      <td>n/e</td>\n      <td>172</td>\n    </tr>\n    <tr>\n      <th>1</th>\n      <td>01.01.2022 01:00 - 01.01.2022 02:00 (UTC)</td>\n      <td>0</td>\n      <td>n/e</td>\n      <td>n/e</td>\n      <td>0</td>\n      <td>n/e</td>\n      <td>n/e</td>\n      <td>n/e</td>\n      <td>n/e</td>\n      <td>n/e</td>\n      <td>...</td>\n      <td>897</td>\n      <td>330</td>\n      <td>n/e</td>\n      <td>n/e</td>\n      <td>n/e</td>\n      <td>n/e</td>\n      <td>n/e</td>\n      <td>8</td>\n      <td>n/e</td>\n      <td>151</td>\n    </tr>\n    <tr>\n      <th>2</th>\n      <td>01.01.2022 02:00 - 01.01.2022 03:00 (UTC)</td>\n      <td>0</td>\n      <td>n/e</td>\n      <td>n/e</td>\n      <td>0</td>\n      <td>n/e</td>\n      <td>n/e</td>\n      <td>n/e</td>\n      <td>n/e</td>\n      <td>n/e</td>\n      <td>...</td>\n      <td>885</td>\n      <td>275</td>\n      <td>n/e</td>\n      <td>n/e</td>\n      <td>n/e</td>\n      <td>n/e</td>\n      <td>n/e</td>\n      <td>8</td>\n      <td>n/e</td>\n      <td>160</td>\n    </tr>\n    <tr>\n      <th>3</th>\n      <td>01.01.2022 03:00 - 01.01.2022 04:00 (UTC)</td>\n      <td>0</td>\n      <td>n/e</td>\n      <td>n/e</td>\n      <td>0</td>\n      <td>n/e</td>\n      <td>n/e</td>\n      <td>n/e</td>\n      <td>n/e</td>\n      <td>n/e</td>\n      <td>...</td>\n      <td>890</td>\n      <td>269</td>\n      <td>n/e</td>\n      <td>n/e</td>\n      <td>n/e</td>\n      <td>n/e</td>\n      <td>n/e</td>\n      <td>8</td>\n      <td>n/e</td>\n      <td>148</td>\n    </tr>\n    <tr>\n      <th>4</th>\n      <td>01.01.2022 04:00 - 01.01.2022 05:00 (UTC)</td>\n      <td>0</td>\n      <td>n/e</td>\n      <td>n/e</td>\n      <td>0</td>\n      <td>n/e</td>\n      <td>n/e</td>\n      <td>n/e</td>\n      <td>n/e</td>\n      <td>n/e</td>\n      <td>...</td>\n      <td>892</td>\n      <td>300</td>\n      <td>n/e</td>\n      <td>n/e</td>\n      <td>n/e</td>\n      <td>n/e</td>\n      <td>n/e</td>\n      <td>8</td>\n      <td>n/e</td>\n      <td>147</td>\n    </tr>\n  </tbody>\n</table>\n<p>5 rows × 22 columns</p>\n</div>"
     },
     "execution_count": 262,
     "metadata": {},
     "output_type": "execute_result"
    }
   ],
   "source": [
    "# Dropping area because we keep the zone name in the column name\n",
    "actual_generation_no1 = actual_generation_no1.drop(['Area'], axis=1)\n",
    "actual_generation_no2 = actual_generation_no2.drop(['Area'], axis=1)\n",
    "actual_generation_no3 = actual_generation_no3.drop(['Area'], axis=1)\n",
    "actual_generation_no5 = actual_generation_no5.drop(['Area'], axis=1)\n",
    "actual_generation_se3 = actual_generation_se3.drop(['Area'], axis=1)\n",
    "actual_generation_no1.head()"
   ]
  },
  {
   "cell_type": "code",
   "execution_count": 263,
   "id": "abc56399",
   "metadata": {},
   "outputs": [
    {
     "data": {
      "text/plain": "                                   MTU (UTC)  Biomass - BZN|NO1  \\\n0  01.01.2022 00:00 - 01.01.2022 01:00 (UTC)                  0   \n1  01.01.2022 01:00 - 01.01.2022 02:00 (UTC)                  0   \n2  01.01.2022 02:00 - 01.01.2022 03:00 (UTC)                  0   \n3  01.01.2022 03:00 - 01.01.2022 04:00 (UTC)                  0   \n4  01.01.2022 04:00 - 01.01.2022 05:00 (UTC)                  0   \n\n  Fossil Brown coal/Lignite - BZN|NO1 Fossil Coal-derived gas - BZN|NO1  \\\n0                                 n/e                               n/e   \n1                                 n/e                               n/e   \n2                                 n/e                               n/e   \n3                                 n/e                               n/e   \n4                                 n/e                               n/e   \n\n   Fossil Gas - BZN|NO1 Fossil Hard coal - BZN|NO1 Fossil Oil - BZN|NO1  \\\n0                     0                        n/e                  n/e   \n1                     0                        n/e                  n/e   \n2                     0                        n/e                  n/e   \n3                     0                        n/e                  n/e   \n4                     0                        n/e                  n/e   \n\n  Fossil Oil shale - BZN|NO1 Fossil Peat - BZN|NO1 Geothermal - BZN|NO1  ...  \\\n0                        n/e                   n/e                  n/e  ...   \n1                        n/e                   n/e                  n/e  ...   \n2                        n/e                   n/e                  n/e  ...   \n3                        n/e                   n/e                  n/e  ...   \n4                        n/e                   n/e                  n/e  ...   \n\n  Hydro Run-of-river and poundage - BZN|SE3 Hydro Water Reservoir - BZN|SE3  \\\n0                                       n/e                           818.0   \n1                                       n/e                           818.0   \n2                                       n/e                           838.0   \n3                                       n/e                           842.0   \n4                                       n/e                           841.0   \n\n   Marine - BZN|SE3  Nuclear - BZN|SE3 Other - BZN|SE3  \\\n0                 0             5842.0           851.0   \n1                 0             5839.0           858.0   \n2                 0             5839.0           859.0   \n3                 0             5840.0           856.0   \n4                 0             5839.0           880.0   \n\n  Other renewable - BZN|SE3 Solar - BZN|SE3 Waste - BZN|SE3  \\\n0                       n/e             0.0             n/e   \n1                       n/e             0.0             n/e   \n2                       n/e             0.0             n/e   \n3                       n/e             0.0             n/e   \n4                       n/e             0.0             n/e   \n\n  Wind Offshore - BZN|SE3  Wind Onshore - BZN|SE3  \n0                     n/e                   999.0  \n1                     n/e                   958.0  \n2                     n/e                   888.0  \n3                     n/e                   788.0  \n4                     n/e                   734.0  \n\n[5 rows x 106 columns]",
      "text/html": "<div>\n<style scoped>\n    .dataframe tbody tr th:only-of-type {\n        vertical-align: middle;\n    }\n\n    .dataframe tbody tr th {\n        vertical-align: top;\n    }\n\n    .dataframe thead th {\n        text-align: right;\n    }\n</style>\n<table border=\"1\" class=\"dataframe\">\n  <thead>\n    <tr style=\"text-align: right;\">\n      <th></th>\n      <th>MTU (UTC)</th>\n      <th>Biomass - BZN|NO1</th>\n      <th>Fossil Brown coal/Lignite - BZN|NO1</th>\n      <th>Fossil Coal-derived gas - BZN|NO1</th>\n      <th>Fossil Gas - BZN|NO1</th>\n      <th>Fossil Hard coal - BZN|NO1</th>\n      <th>Fossil Oil - BZN|NO1</th>\n      <th>Fossil Oil shale - BZN|NO1</th>\n      <th>Fossil Peat - BZN|NO1</th>\n      <th>Geothermal - BZN|NO1</th>\n      <th>...</th>\n      <th>Hydro Run-of-river and poundage - BZN|SE3</th>\n      <th>Hydro Water Reservoir - BZN|SE3</th>\n      <th>Marine - BZN|SE3</th>\n      <th>Nuclear - BZN|SE3</th>\n      <th>Other - BZN|SE3</th>\n      <th>Other renewable - BZN|SE3</th>\n      <th>Solar - BZN|SE3</th>\n      <th>Waste - BZN|SE3</th>\n      <th>Wind Offshore - BZN|SE3</th>\n      <th>Wind Onshore - BZN|SE3</th>\n    </tr>\n  </thead>\n  <tbody>\n    <tr>\n      <th>0</th>\n      <td>01.01.2022 00:00 - 01.01.2022 01:00 (UTC)</td>\n      <td>0</td>\n      <td>n/e</td>\n      <td>n/e</td>\n      <td>0</td>\n      <td>n/e</td>\n      <td>n/e</td>\n      <td>n/e</td>\n      <td>n/e</td>\n      <td>n/e</td>\n      <td>...</td>\n      <td>n/e</td>\n      <td>818.0</td>\n      <td>0</td>\n      <td>5842.0</td>\n      <td>851.0</td>\n      <td>n/e</td>\n      <td>0.0</td>\n      <td>n/e</td>\n      <td>n/e</td>\n      <td>999.0</td>\n    </tr>\n    <tr>\n      <th>1</th>\n      <td>01.01.2022 01:00 - 01.01.2022 02:00 (UTC)</td>\n      <td>0</td>\n      <td>n/e</td>\n      <td>n/e</td>\n      <td>0</td>\n      <td>n/e</td>\n      <td>n/e</td>\n      <td>n/e</td>\n      <td>n/e</td>\n      <td>n/e</td>\n      <td>...</td>\n      <td>n/e</td>\n      <td>818.0</td>\n      <td>0</td>\n      <td>5839.0</td>\n      <td>858.0</td>\n      <td>n/e</td>\n      <td>0.0</td>\n      <td>n/e</td>\n      <td>n/e</td>\n      <td>958.0</td>\n    </tr>\n    <tr>\n      <th>2</th>\n      <td>01.01.2022 02:00 - 01.01.2022 03:00 (UTC)</td>\n      <td>0</td>\n      <td>n/e</td>\n      <td>n/e</td>\n      <td>0</td>\n      <td>n/e</td>\n      <td>n/e</td>\n      <td>n/e</td>\n      <td>n/e</td>\n      <td>n/e</td>\n      <td>...</td>\n      <td>n/e</td>\n      <td>838.0</td>\n      <td>0</td>\n      <td>5839.0</td>\n      <td>859.0</td>\n      <td>n/e</td>\n      <td>0.0</td>\n      <td>n/e</td>\n      <td>n/e</td>\n      <td>888.0</td>\n    </tr>\n    <tr>\n      <th>3</th>\n      <td>01.01.2022 03:00 - 01.01.2022 04:00 (UTC)</td>\n      <td>0</td>\n      <td>n/e</td>\n      <td>n/e</td>\n      <td>0</td>\n      <td>n/e</td>\n      <td>n/e</td>\n      <td>n/e</td>\n      <td>n/e</td>\n      <td>n/e</td>\n      <td>...</td>\n      <td>n/e</td>\n      <td>842.0</td>\n      <td>0</td>\n      <td>5840.0</td>\n      <td>856.0</td>\n      <td>n/e</td>\n      <td>0.0</td>\n      <td>n/e</td>\n      <td>n/e</td>\n      <td>788.0</td>\n    </tr>\n    <tr>\n      <th>4</th>\n      <td>01.01.2022 04:00 - 01.01.2022 05:00 (UTC)</td>\n      <td>0</td>\n      <td>n/e</td>\n      <td>n/e</td>\n      <td>0</td>\n      <td>n/e</td>\n      <td>n/e</td>\n      <td>n/e</td>\n      <td>n/e</td>\n      <td>n/e</td>\n      <td>...</td>\n      <td>n/e</td>\n      <td>841.0</td>\n      <td>0</td>\n      <td>5839.0</td>\n      <td>880.0</td>\n      <td>n/e</td>\n      <td>0.0</td>\n      <td>n/e</td>\n      <td>n/e</td>\n      <td>734.0</td>\n    </tr>\n  </tbody>\n</table>\n<p>5 rows × 106 columns</p>\n</div>"
     },
     "execution_count": 263,
     "metadata": {},
     "output_type": "execute_result"
    }
   ],
   "source": [
    "# Creating one dataframe from the 5 dataframes for each zone\n",
    "actual_generation_dataframes = [actual_generation_no1, actual_generation_no2, actual_generation_no3, actual_generation_no5, actual_generation_se3]\n",
    "actual_generation = reduce(lambda left, right: pd.merge(left,right, on=['MTU (UTC)']), actual_generation_dataframes)\n",
    "\n",
    "# printing out the resulting dataframe\n",
    "actual_generation.head()"
   ]
  },
  {
   "cell_type": "markdown",
   "id": "ed41740a",
   "metadata": {},
   "source": [
    "We have alot of columns which are used in other nations and zones that are redundant to us because there is no power generation from these sources in the zones we are looking at. Therefore, we select only the columns which keep information about power generation in each zone."
   ]
  },
  {
   "cell_type": "code",
   "execution_count": 264,
   "id": "2175f86e",
   "metadata": {},
   "outputs": [
    {
     "data": {
      "text/plain": "MTU (UTC)                                       object\nBiomass - BZN|NO1                                int64\nFossil Gas - BZN|NO1                             int64\nHydro Run-of-river and poundage - BZN|NO1_x      int64\nHydro Water Reservoir - BZN|NO1                  int64\nWaste - BZN|NO1                                  int64\nWind Onshore - BZN|NO1                           int64\nFossil Gas - BZN|NO2                             int64\nHydro Pumped Storage Aggregated- BZN|NO2         int64\nHydro Run-of-river and poundage - BZN|NO1_y      int64\nHydro Water Reservoir - BZN|NO2                  int64\nWaste - BZN|NO2                                  int64\nWind Onshore - BZN|NO2                           int64\nHydro Pumped Storage Aggregated- BZN|NO3         int64\nHydro Run-of-river and poundage - BZN|NO3        int64\nHydro Water Reservoir - BZN|NO3                  int64\nOther - BZN|NO3                                  int64\nOther renewable - BZN|NO3                        int64\nWaste - BZN|NO3                                  int64\nWind Onshore - BZN|NO3                           int64\nFossil Gas - BZN|NO5                             int64\nHydro Pumped Storage Aggregated- BZN|NO5         int64\nHydro Run-of-river and poundage - BZN|NO5        int64\nHydro Water Reservoir - BZN|NO5                  int64\nWaste - BZN|NO5                                  int64\nFossil Gas - BZN|SE3                           float64\nHydro Water Reservoir - BZN|SE3                float64\nNuclear - BZN|SE3                              float64\nOther - BZN|SE3                                float64\nSolar - BZN|SE3                                float64\nWind Onshore - BZN|SE3                         float64\ndtype: object"
     },
     "execution_count": 264,
     "metadata": {},
     "output_type": "execute_result"
    }
   ],
   "source": [
    "# Selecting only relevant columns\n",
    "actual_generation_selected = actual_generation[['MTU (UTC)', 'Biomass - BZN|NO1', 'Fossil Gas - BZN|NO1', 'Hydro Run-of-river and poundage - BZN|NO1_x', 'Hydro Water Reservoir - BZN|NO1', 'Waste - BZN|NO1', 'Wind Onshore - BZN|NO1', 'Fossil Gas - BZN|NO2', 'Hydro Pumped Storage Aggregated- BZN|NO2', 'Hydro Run-of-river and poundage - BZN|NO1_y', 'Hydro Water Reservoir - BZN|NO2', 'Waste - BZN|NO2', 'Wind Onshore - BZN|NO2', 'Hydro Pumped Storage Aggregated- BZN|NO3', 'Hydro Run-of-river and poundage - BZN|NO3', 'Hydro Water Reservoir - BZN|NO3', 'Other - BZN|NO3', 'Other renewable - BZN|NO3', 'Waste - BZN|NO3', 'Wind Onshore - BZN|NO3', 'Fossil Gas - BZN|NO5', 'Hydro Pumped Storage Aggregated- BZN|NO5', 'Hydro Run-of-river and poundage - BZN|NO5', 'Hydro Water Reservoir - BZN|NO5', 'Waste - BZN|NO5', 'Fossil Gas - BZN|SE3', 'Hydro Water Reservoir - BZN|SE3', 'Nuclear - BZN|SE3', 'Other - BZN|SE3', 'Solar - BZN|SE3', 'Wind Onshore - BZN|SE3']].copy()\n",
    "# printing the head of the resulting dataframe\n",
    "actual_generation_selected.dtypes"
   ]
  },
  {
   "cell_type": "markdown",
   "id": "3a337189",
   "metadata": {},
   "source": [
    "We can see that the formatting of the datetime interval includes (CET/CEST) in the actual values. This extra information will need to be removed so they mach the other datasets, and can be merged on the time column"
   ]
  },
  {
   "cell_type": "code",
   "execution_count": 265,
   "id": "5f8f8196",
   "metadata": {},
   "outputs": [
    {
     "data": {
      "text/plain": "                             MTU (UTC)  Biomass - BZN|NO1  \\\n0  01.01.2022 00:00 - 01.01.2022 01:00                  0   \n1  01.01.2022 01:00 - 01.01.2022 02:00                  0   \n2  01.01.2022 02:00 - 01.01.2022 03:00                  0   \n3  01.01.2022 03:00 - 01.01.2022 04:00                  0   \n4  01.01.2022 04:00 - 01.01.2022 05:00                  0   \n\n   Fossil Gas - BZN|NO1  Hydro Run-of-river and poundage - BZN|NO1_x  \\\n0                     0                                          878   \n1                     0                                          897   \n2                     0                                          885   \n3                     0                                          890   \n4                     0                                          892   \n\n   Hydro Water Reservoir - BZN|NO1  Waste - BZN|NO1  Wind Onshore - BZN|NO1  \\\n0                              321                8                     172   \n1                              330                8                     151   \n2                              275                8                     160   \n3                              269                8                     148   \n4                              300                8                     147   \n\n   Fossil Gas - BZN|NO2  Hydro Pumped Storage Aggregated- BZN|NO2  \\\n0                     0                                         1   \n1                     0                                         1   \n2                     0                                         1   \n3                     0                                         1   \n4                     0                                         1   \n\n   Hydro Run-of-river and poundage - BZN|NO1_y  ...  \\\n0                                          629  ...   \n1                                          627  ...   \n2                                          624  ...   \n3                                          624  ...   \n4                                          605  ...   \n\n   Hydro Pumped Storage Aggregated- BZN|NO5  \\\n0                                        66   \n1                                        66   \n2                                        65   \n3                                        65   \n4                                        65   \n\n   Hydro Run-of-river and poundage - BZN|NO5  Hydro Water Reservoir - BZN|NO5  \\\n0                                        227                             1759   \n1                                        216                             1890   \n2                                        215                             1460   \n3                                        209                             1394   \n4                                        210                             1488   \n\n   Waste - BZN|NO5  Fossil Gas - BZN|SE3  Hydro Water Reservoir - BZN|SE3  \\\n0               19                   0.0                            818.0   \n1               20                   0.0                            818.0   \n2               20                   0.0                            838.0   \n3               20                   0.0                            842.0   \n4               19                   0.0                            841.0   \n\n   Nuclear - BZN|SE3  Other - BZN|SE3  Solar - BZN|SE3  Wind Onshore - BZN|SE3  \n0             5842.0            851.0              0.0                   999.0  \n1             5839.0            858.0              0.0                   958.0  \n2             5839.0            859.0              0.0                   888.0  \n3             5840.0            856.0              0.0                   788.0  \n4             5839.0            880.0              0.0                   734.0  \n\n[5 rows x 31 columns]",
      "text/html": "<div>\n<style scoped>\n    .dataframe tbody tr th:only-of-type {\n        vertical-align: middle;\n    }\n\n    .dataframe tbody tr th {\n        vertical-align: top;\n    }\n\n    .dataframe thead th {\n        text-align: right;\n    }\n</style>\n<table border=\"1\" class=\"dataframe\">\n  <thead>\n    <tr style=\"text-align: right;\">\n      <th></th>\n      <th>MTU (UTC)</th>\n      <th>Biomass - BZN|NO1</th>\n      <th>Fossil Gas - BZN|NO1</th>\n      <th>Hydro Run-of-river and poundage - BZN|NO1_x</th>\n      <th>Hydro Water Reservoir - BZN|NO1</th>\n      <th>Waste - BZN|NO1</th>\n      <th>Wind Onshore - BZN|NO1</th>\n      <th>Fossil Gas - BZN|NO2</th>\n      <th>Hydro Pumped Storage Aggregated- BZN|NO2</th>\n      <th>Hydro Run-of-river and poundage - BZN|NO1_y</th>\n      <th>...</th>\n      <th>Hydro Pumped Storage Aggregated- BZN|NO5</th>\n      <th>Hydro Run-of-river and poundage - BZN|NO5</th>\n      <th>Hydro Water Reservoir - BZN|NO5</th>\n      <th>Waste - BZN|NO5</th>\n      <th>Fossil Gas - BZN|SE3</th>\n      <th>Hydro Water Reservoir - BZN|SE3</th>\n      <th>Nuclear - BZN|SE3</th>\n      <th>Other - BZN|SE3</th>\n      <th>Solar - BZN|SE3</th>\n      <th>Wind Onshore - BZN|SE3</th>\n    </tr>\n  </thead>\n  <tbody>\n    <tr>\n      <th>0</th>\n      <td>01.01.2022 00:00 - 01.01.2022 01:00</td>\n      <td>0</td>\n      <td>0</td>\n      <td>878</td>\n      <td>321</td>\n      <td>8</td>\n      <td>172</td>\n      <td>0</td>\n      <td>1</td>\n      <td>629</td>\n      <td>...</td>\n      <td>66</td>\n      <td>227</td>\n      <td>1759</td>\n      <td>19</td>\n      <td>0.0</td>\n      <td>818.0</td>\n      <td>5842.0</td>\n      <td>851.0</td>\n      <td>0.0</td>\n      <td>999.0</td>\n    </tr>\n    <tr>\n      <th>1</th>\n      <td>01.01.2022 01:00 - 01.01.2022 02:00</td>\n      <td>0</td>\n      <td>0</td>\n      <td>897</td>\n      <td>330</td>\n      <td>8</td>\n      <td>151</td>\n      <td>0</td>\n      <td>1</td>\n      <td>627</td>\n      <td>...</td>\n      <td>66</td>\n      <td>216</td>\n      <td>1890</td>\n      <td>20</td>\n      <td>0.0</td>\n      <td>818.0</td>\n      <td>5839.0</td>\n      <td>858.0</td>\n      <td>0.0</td>\n      <td>958.0</td>\n    </tr>\n    <tr>\n      <th>2</th>\n      <td>01.01.2022 02:00 - 01.01.2022 03:00</td>\n      <td>0</td>\n      <td>0</td>\n      <td>885</td>\n      <td>275</td>\n      <td>8</td>\n      <td>160</td>\n      <td>0</td>\n      <td>1</td>\n      <td>624</td>\n      <td>...</td>\n      <td>65</td>\n      <td>215</td>\n      <td>1460</td>\n      <td>20</td>\n      <td>0.0</td>\n      <td>838.0</td>\n      <td>5839.0</td>\n      <td>859.0</td>\n      <td>0.0</td>\n      <td>888.0</td>\n    </tr>\n    <tr>\n      <th>3</th>\n      <td>01.01.2022 03:00 - 01.01.2022 04:00</td>\n      <td>0</td>\n      <td>0</td>\n      <td>890</td>\n      <td>269</td>\n      <td>8</td>\n      <td>148</td>\n      <td>0</td>\n      <td>1</td>\n      <td>624</td>\n      <td>...</td>\n      <td>65</td>\n      <td>209</td>\n      <td>1394</td>\n      <td>20</td>\n      <td>0.0</td>\n      <td>842.0</td>\n      <td>5840.0</td>\n      <td>856.0</td>\n      <td>0.0</td>\n      <td>788.0</td>\n    </tr>\n    <tr>\n      <th>4</th>\n      <td>01.01.2022 04:00 - 01.01.2022 05:00</td>\n      <td>0</td>\n      <td>0</td>\n      <td>892</td>\n      <td>300</td>\n      <td>8</td>\n      <td>147</td>\n      <td>0</td>\n      <td>1</td>\n      <td>605</td>\n      <td>...</td>\n      <td>65</td>\n      <td>210</td>\n      <td>1488</td>\n      <td>19</td>\n      <td>0.0</td>\n      <td>841.0</td>\n      <td>5839.0</td>\n      <td>880.0</td>\n      <td>0.0</td>\n      <td>734.0</td>\n    </tr>\n  </tbody>\n</table>\n<p>5 rows × 31 columns</p>\n</div>"
     },
     "execution_count": 265,
     "metadata": {},
     "output_type": "execute_result"
    }
   ],
   "source": [
    "# removing (CET/CEST) and trailing whitespace from datetime values in column 'MTU (CET/CEST)'\n",
    "actual_generation_selected['MTU (UTC)'] = actual_generation_selected['MTU (UTC)'].map(lambda x: x.rstrip(')(UTC').strip())\n",
    "\n",
    "# printing out resulting dataset\n",
    "actual_generation_selected.head()"
   ]
  },
  {
   "cell_type": "code",
   "execution_count": 266,
   "id": "8b31a8bb",
   "metadata": {},
   "outputs": [
    {
     "data": {
      "text/plain": "MTU (UTC)                                      0\nBiomass - BZN|NO1                              0\nFossil Gas - BZN|NO1                           0\nHydro Run-of-river and poundage - BZN|NO1_x    0\nHydro Water Reservoir - BZN|NO1                0\nWaste - BZN|NO1                                0\nWind Onshore - BZN|NO1                         0\nFossil Gas - BZN|NO2                           0\nHydro Pumped Storage Aggregated- BZN|NO2       0\nHydro Run-of-river and poundage - BZN|NO1_y    0\nHydro Water Reservoir - BZN|NO2                0\nWaste - BZN|NO2                                0\nWind Onshore - BZN|NO2                         0\nHydro Pumped Storage Aggregated- BZN|NO3       0\nHydro Run-of-river and poundage - BZN|NO3      0\nHydro Water Reservoir - BZN|NO3                0\nOther - BZN|NO3                                0\nOther renewable - BZN|NO3                      0\nWaste - BZN|NO3                                0\nWind Onshore - BZN|NO3                         0\nFossil Gas - BZN|NO5                           0\nHydro Pumped Storage Aggregated- BZN|NO5       0\nHydro Run-of-river and poundage - BZN|NO5      0\nHydro Water Reservoir - BZN|NO5                0\nWaste - BZN|NO5                                0\nFossil Gas - BZN|SE3                           1\nHydro Water Reservoir - BZN|SE3                1\nNuclear - BZN|SE3                              1\nOther - BZN|SE3                                1\nSolar - BZN|SE3                                1\nWind Onshore - BZN|SE3                         1\ndtype: int64"
     },
     "execution_count": 266,
     "metadata": {},
     "output_type": "execute_result"
    }
   ],
   "source": [
    "actual_generation_selected.isna().sum()"
   ]
  },
  {
   "cell_type": "code",
   "execution_count": 267,
   "id": "aa61c2f4",
   "metadata": {},
   "outputs": [
    {
     "data": {
      "text/plain": "(8760, 31)"
     },
     "execution_count": 267,
     "metadata": {},
     "output_type": "execute_result"
    }
   ],
   "source": [
    "actual_generation_selected.shape"
   ]
  },
  {
   "cell_type": "markdown",
   "id": "92af64ff",
   "metadata": {},
   "source": [
    "### Data Aggregation for import and export\n"
   ]
  },
  {
   "cell_type": "markdown",
   "id": "841a5e4f",
   "metadata": {},
   "source": [
    "We want to concatenate data for cross border physical flow between NO1 and neighbouring zones(NO2,NO3,NO5,SE3)."
   ]
  },
  {
   "cell_type": "code",
   "execution_count": 268,
   "id": "53f47b10",
   "metadata": {},
   "outputs": [],
   "source": [
    "# Importing import export datasets\n",
    "import_export_no1_no2 = pd.read_csv(\"../datasets/import_and_export/NO1-NO2 Import export Cross-Border Physical Flow_202201010000-202301010000.csv\")\n",
    "import_export_no1_no3 = pd.read_csv(\"../datasets/import_and_export/NO1-NO3 Import export Cross-Border Physical Flow_202201010000-202301010000.csv\")\n",
    "import_export_no1_no5 = pd.read_csv(\"../datasets/import_and_export/NO1-NO5 Import export Cross-Border Physical Flow_202201010000-202301010000.csv\")\n",
    "import_export_no1_se3 = pd.read_csv(\"../datasets/import_and_export/NO1-SE3 Import export Cross-Border Physical Flow_202201010000-202301010000.csv\")"
   ]
  },
  {
   "cell_type": "markdown",
   "source": [
    "In other data files the time unite is MTU (CET/CEST), this is not teh case for import and export data. To be consistent Time (CET/CEST) is changed to MTU (CET/CEST). To make it clear that 'BZN|NO2 > BZN|NO1 [MW]' shows the cross border physical flow , CBF is used as an abbreviation."
   ],
   "metadata": {
    "collapsed": false
   }
  },
  {
   "cell_type": "markdown",
   "id": "ac0636f9",
   "metadata": {},
   "source": [
    "Printing out first rows of each dataset to see the structure"
   ]
  },
  {
   "cell_type": "code",
   "execution_count": 269,
   "id": "3ba9f526",
   "metadata": {},
   "outputs": [
    {
     "data": {
      "text/plain": "                            Time (UTC)  BZN|NO2 > BZN|NO1 [MW]  \\\n0  01.01.2022 00:00 - 01.01.2022 01:00                    1242   \n1  01.01.2022 01:00 - 01.01.2022 02:00                    1222   \n2  01.01.2022 02:00 - 01.01.2022 03:00                    1679   \n3  01.01.2022 03:00 - 01.01.2022 04:00                    1668   \n4  01.01.2022 04:00 - 01.01.2022 05:00                    1697   \n\n   BZN|NO1 > BZN|NO2 [MW]  \n0                       0  \n1                       0  \n2                       0  \n3                       0  \n4                       0  ",
      "text/html": "<div>\n<style scoped>\n    .dataframe tbody tr th:only-of-type {\n        vertical-align: middle;\n    }\n\n    .dataframe tbody tr th {\n        vertical-align: top;\n    }\n\n    .dataframe thead th {\n        text-align: right;\n    }\n</style>\n<table border=\"1\" class=\"dataframe\">\n  <thead>\n    <tr style=\"text-align: right;\">\n      <th></th>\n      <th>Time (UTC)</th>\n      <th>BZN|NO2 &gt; BZN|NO1 [MW]</th>\n      <th>BZN|NO1 &gt; BZN|NO2 [MW]</th>\n    </tr>\n  </thead>\n  <tbody>\n    <tr>\n      <th>0</th>\n      <td>01.01.2022 00:00 - 01.01.2022 01:00</td>\n      <td>1242</td>\n      <td>0</td>\n    </tr>\n    <tr>\n      <th>1</th>\n      <td>01.01.2022 01:00 - 01.01.2022 02:00</td>\n      <td>1222</td>\n      <td>0</td>\n    </tr>\n    <tr>\n      <th>2</th>\n      <td>01.01.2022 02:00 - 01.01.2022 03:00</td>\n      <td>1679</td>\n      <td>0</td>\n    </tr>\n    <tr>\n      <th>3</th>\n      <td>01.01.2022 03:00 - 01.01.2022 04:00</td>\n      <td>1668</td>\n      <td>0</td>\n    </tr>\n    <tr>\n      <th>4</th>\n      <td>01.01.2022 04:00 - 01.01.2022 05:00</td>\n      <td>1697</td>\n      <td>0</td>\n    </tr>\n  </tbody>\n</table>\n</div>"
     },
     "execution_count": 269,
     "metadata": {},
     "output_type": "execute_result"
    }
   ],
   "source": [
    "import_export_no1_no2.head()"
   ]
  },
  {
   "cell_type": "code",
   "execution_count": 270,
   "id": "31b4e9a7",
   "metadata": {},
   "outputs": [
    {
     "data": {
      "text/plain": "                            Time (UTC)  BZN|NO3 > BZN|NO1 [MW]  \\\n0  01.01.2022 00:00 - 01.01.2022 01:00                     371   \n1  01.01.2022 01:00 - 01.01.2022 02:00                     383   \n2  01.01.2022 02:00 - 01.01.2022 03:00                     362   \n3  01.01.2022 03:00 - 01.01.2022 04:00                     324   \n4  01.01.2022 04:00 - 01.01.2022 05:00                     339   \n\n   BZN|NO1 > BZN|NO3 [MW]  \n0                       0  \n1                       0  \n2                       0  \n3                       0  \n4                       0  ",
      "text/html": "<div>\n<style scoped>\n    .dataframe tbody tr th:only-of-type {\n        vertical-align: middle;\n    }\n\n    .dataframe tbody tr th {\n        vertical-align: top;\n    }\n\n    .dataframe thead th {\n        text-align: right;\n    }\n</style>\n<table border=\"1\" class=\"dataframe\">\n  <thead>\n    <tr style=\"text-align: right;\">\n      <th></th>\n      <th>Time (UTC)</th>\n      <th>BZN|NO3 &gt; BZN|NO1 [MW]</th>\n      <th>BZN|NO1 &gt; BZN|NO3 [MW]</th>\n    </tr>\n  </thead>\n  <tbody>\n    <tr>\n      <th>0</th>\n      <td>01.01.2022 00:00 - 01.01.2022 01:00</td>\n      <td>371</td>\n      <td>0</td>\n    </tr>\n    <tr>\n      <th>1</th>\n      <td>01.01.2022 01:00 - 01.01.2022 02:00</td>\n      <td>383</td>\n      <td>0</td>\n    </tr>\n    <tr>\n      <th>2</th>\n      <td>01.01.2022 02:00 - 01.01.2022 03:00</td>\n      <td>362</td>\n      <td>0</td>\n    </tr>\n    <tr>\n      <th>3</th>\n      <td>01.01.2022 03:00 - 01.01.2022 04:00</td>\n      <td>324</td>\n      <td>0</td>\n    </tr>\n    <tr>\n      <th>4</th>\n      <td>01.01.2022 04:00 - 01.01.2022 05:00</td>\n      <td>339</td>\n      <td>0</td>\n    </tr>\n  </tbody>\n</table>\n</div>"
     },
     "execution_count": 270,
     "metadata": {},
     "output_type": "execute_result"
    }
   ],
   "source": [
    "import_export_no1_no3.head()"
   ]
  },
  {
   "cell_type": "code",
   "execution_count": 271,
   "id": "256de327",
   "metadata": {},
   "outputs": [
    {
     "data": {
      "text/plain": "                            Time (UTC)  BZN|NO5 > BZN|NO1 [MW]  \\\n0  01.01.2022 00:00 - 01.01.2022 01:00                     594   \n1  01.01.2022 01:00 - 01.01.2022 02:00                     676   \n2  01.01.2022 02:00 - 01.01.2022 03:00                     436   \n3  01.01.2022 03:00 - 01.01.2022 04:00                     345   \n4  01.01.2022 04:00 - 01.01.2022 05:00                     412   \n\n   BZN|NO1 > BZN|NO5 [MW]  \n0                       0  \n1                       0  \n2                       0  \n3                       0  \n4                       0  ",
      "text/html": "<div>\n<style scoped>\n    .dataframe tbody tr th:only-of-type {\n        vertical-align: middle;\n    }\n\n    .dataframe tbody tr th {\n        vertical-align: top;\n    }\n\n    .dataframe thead th {\n        text-align: right;\n    }\n</style>\n<table border=\"1\" class=\"dataframe\">\n  <thead>\n    <tr style=\"text-align: right;\">\n      <th></th>\n      <th>Time (UTC)</th>\n      <th>BZN|NO5 &gt; BZN|NO1 [MW]</th>\n      <th>BZN|NO1 &gt; BZN|NO5 [MW]</th>\n    </tr>\n  </thead>\n  <tbody>\n    <tr>\n      <th>0</th>\n      <td>01.01.2022 00:00 - 01.01.2022 01:00</td>\n      <td>594</td>\n      <td>0</td>\n    </tr>\n    <tr>\n      <th>1</th>\n      <td>01.01.2022 01:00 - 01.01.2022 02:00</td>\n      <td>676</td>\n      <td>0</td>\n    </tr>\n    <tr>\n      <th>2</th>\n      <td>01.01.2022 02:00 - 01.01.2022 03:00</td>\n      <td>436</td>\n      <td>0</td>\n    </tr>\n    <tr>\n      <th>3</th>\n      <td>01.01.2022 03:00 - 01.01.2022 04:00</td>\n      <td>345</td>\n      <td>0</td>\n    </tr>\n    <tr>\n      <th>4</th>\n      <td>01.01.2022 04:00 - 01.01.2022 05:00</td>\n      <td>412</td>\n      <td>0</td>\n    </tr>\n  </tbody>\n</table>\n</div>"
     },
     "execution_count": 271,
     "metadata": {},
     "output_type": "execute_result"
    }
   ],
   "source": [
    "import_export_no1_no5.head()"
   ]
  },
  {
   "cell_type": "code",
   "execution_count": 272,
   "id": "5f7802eb",
   "metadata": {},
   "outputs": [
    {
     "data": {
      "text/plain": "                            Time (UTC)  BZN|SE3 > BZN|NO1 [MW]  \\\n0  01.01.2022 00:00 - 01.01.2022 01:00                    1065   \n1  01.01.2022 01:00 - 01.01.2022 02:00                     927   \n2  01.01.2022 02:00 - 01.01.2022 03:00                     748   \n3  01.01.2022 03:00 - 01.01.2022 04:00                     918   \n4  01.01.2022 04:00 - 01.01.2022 05:00                     826   \n\n   BZN|NO1 > BZN|SE3 [MW]  \n0                       0  \n1                       0  \n2                       0  \n3                       0  \n4                       0  ",
      "text/html": "<div>\n<style scoped>\n    .dataframe tbody tr th:only-of-type {\n        vertical-align: middle;\n    }\n\n    .dataframe tbody tr th {\n        vertical-align: top;\n    }\n\n    .dataframe thead th {\n        text-align: right;\n    }\n</style>\n<table border=\"1\" class=\"dataframe\">\n  <thead>\n    <tr style=\"text-align: right;\">\n      <th></th>\n      <th>Time (UTC)</th>\n      <th>BZN|SE3 &gt; BZN|NO1 [MW]</th>\n      <th>BZN|NO1 &gt; BZN|SE3 [MW]</th>\n    </tr>\n  </thead>\n  <tbody>\n    <tr>\n      <th>0</th>\n      <td>01.01.2022 00:00 - 01.01.2022 01:00</td>\n      <td>1065</td>\n      <td>0</td>\n    </tr>\n    <tr>\n      <th>1</th>\n      <td>01.01.2022 01:00 - 01.01.2022 02:00</td>\n      <td>927</td>\n      <td>0</td>\n    </tr>\n    <tr>\n      <th>2</th>\n      <td>01.01.2022 02:00 - 01.01.2022 03:00</td>\n      <td>748</td>\n      <td>0</td>\n    </tr>\n    <tr>\n      <th>3</th>\n      <td>01.01.2022 03:00 - 01.01.2022 04:00</td>\n      <td>918</td>\n      <td>0</td>\n    </tr>\n    <tr>\n      <th>4</th>\n      <td>01.01.2022 04:00 - 01.01.2022 05:00</td>\n      <td>826</td>\n      <td>0</td>\n    </tr>\n  </tbody>\n</table>\n</div>"
     },
     "execution_count": 272,
     "metadata": {},
     "output_type": "execute_result"
    }
   ],
   "source": [
    "import_export_no1_se3.head()"
   ]
  },
  {
   "cell_type": "markdown",
   "id": "2749a4f3",
   "metadata": {},
   "source": [
    "We see that the time column in the import export datasets is named \"Time (UTC)\" while in the other datasets, the time column is named \"MTU (UTC)\". The time column will be renamed to \"MTU (UTC)\" so that the datasets can be merged."
   ]
  },
  {
   "cell_type": "code",
   "execution_count": 273,
   "id": "5b667151",
   "metadata": {},
   "outputs": [],
   "source": [
    "import_export_no1_no2.rename(columns = {'Time (UTC)':'MTU (UTC)', 'BZN|NO2 > BZN|NO1 [MW]' : 'CBF BZN|NO2 > BZN|NO1 [MW]', 'BZN|NO1 > BZN|NO2 [MW]' : 'CBF BZN|NO1 > BZN|NO2 [MW]'}, inplace = True)\n",
    "import_export_no1_no3.rename(columns = {'Time (UTC)':'MTU (UTC)', 'BZN|NO3 > BZN|NO1 [MW]' : 'CBF BZN|NO3 > BZN|NO1 [MW]', 'BZN|NO1 > BZN|NO3 [MW]' : 'CBF BZN|NO1 > BZN|NO3 [MW]'}, inplace = True)\n",
    "import_export_no1_no5.rename(columns = {'Time (UTC)':'MTU (UTC)', 'BZN|NO5 > BZN|NO1 [MW]' : 'CBF BZN|NO5 > BZN|NO1 [MW]', 'BZN|NO1 > BZN|NO5 [MW]' : 'CBF BZN|NO1 > BZN|NO5 [MW]'}, inplace = True)\n",
    "import_export_no1_se3.rename(columns = {'Time (UTC)':'MTU (UTC)', 'BZN|SE3 > BZN|NO1 [MW]' : 'CBF BZN|SE3 > BZN|NO1 [MW]', 'BZN|NO1 > BZN|SE3 [MW]' : 'CBF BZN|NO1 > BZN|SE3 [MW]'}, inplace = True)"
   ]
  },
  {
   "cell_type": "markdown",
   "id": "c9ce09ca",
   "metadata": {},
   "source": [
    "Merging all dataframes for import and export\n"
   ]
  },
  {
   "cell_type": "code",
   "execution_count": 274,
   "id": "49ee6e30",
   "metadata": {},
   "outputs": [
    {
     "data": {
      "text/plain": "(8760, 9)"
     },
     "execution_count": 274,
     "metadata": {},
     "output_type": "execute_result"
    }
   ],
   "source": [
    "# Merging the import export datasets\n",
    "import_export_no1_neighbours_dataframes = [import_export_no1_no2, import_export_no1_no3, import_export_no1_no5, import_export_no1_se3]\n",
    "import_export_no1_neighbours = reduce(lambda left, right: pd.merge(left,right, on=['MTU (UTC)']), import_export_no1_neighbours_dataframes)\n",
    "\n",
    "# printing out the 5 first rows of the resulting dataframe\n",
    "import_export_no1_neighbours.shape"
   ]
  },
  {
   "cell_type": "markdown",
   "id": "58606dcb",
   "metadata": {},
   "source": [
    "### Aggregation of Water Reservoirs and Hydro Storage Plants\n",
    "\n",
    "The water reservoir dataset is measured with a weekly frequency while the other datasets are measured hourly. In order to make the data match frequency of measurements of the other datasets, we will need to up sample the data thorough interpolation.  We will first map the weekly measurement to the first hour of each week, and then interpolate the intermediate measurement. In order to interpolate the measurements of the last week, we will add the measurement for the first week of the succeeding year (2023) to the dataset. this measurement  will be dropped from the final dataset. Additionally, the first week of 2022 starts on january 3. 2022, so in order to get the data for the first two days we add the dataset for the last week of 2021. We will use spline interpolation to add smoothness to the interpolated curve, which will be more representative of water level fluctuations than a linear interpolation."
   ]
  },
  {
   "cell_type": "markdown",
   "id": "322dcc01",
   "metadata": {},
   "source": [
    "Reading in water levels as CSV with pandas library"
   ]
  },
  {
   "cell_type": "code",
   "execution_count": 275,
   "id": "7fe1343f",
   "metadata": {},
   "outputs": [],
   "source": [
    "# Loading in main datasets (2022)\n",
    "water_level_NO1 = pd.read_csv(\"../datasets/water_level/NO1_2022_Water_Reservoirs_and_Hydro_Storage_Plants_202201030000-202301020000.csv\")\n",
    "water_level_NO2 = pd.read_csv(\"../datasets/water_level/NO2_2022_Water_Reservoirs_and_Hydro_Storage Plants_202201030000-202301020000.csv\")\n",
    "water_level_NO3 = pd.read_csv(\"../datasets/water_level/NO3_2022_Water_Reservoirs_and_Hydro_Storage Plants_202201030000-202301020000.csv\")\n",
    "water_level_NO5 = pd.read_csv(\"../datasets/water_level/NO5_2022_Water_Reservoirs_and_Hydro_Storage Plants_202201030000-202301020000.csv\")\n",
    "water_level_SE3 = pd.read_csv(\"../datasets/water_level/SE3_2022_Water_Reservoirs_and_Hydro_Storage Plants_202201030000-202301020000.csv\")\n",
    "\n",
    "# Reading in only the last week of 2021\n",
    "water_level_NO1_2021 = pd.read_csv(\"../datasets/water_level/NO1_2021_Water Reservoirs and Hydro Storage Plants_202101040000-202201030000.csv\", skiprows=range(1, 52))\n",
    "water_level_NO2_2021 = pd.read_csv(\"../datasets/water_level/NO2_2021_Water Reservoirs and Hydro Storage Plants_202101040000-202201030000.csv\", skiprows=range(1, 52))\n",
    "water_level_NO3_2021 = pd.read_csv(\"../datasets/water_level/NO3_2021_Water Reservoirs and Hydro Storage Plants_202101040000-202201030000.csv\", skiprows=range(1, 52))\n",
    "water_level_NO5_2021 = pd.read_csv(\"../datasets/water_level/NO5_2021_Water Reservoirs and Hydro Storage Plants_202101040000-202201030000.csv\", skiprows=range(1, 52))\n",
    "water_level_SE3_2021 = pd.read_csv(\"../datasets/water_level/SE3_2021_Water Reservoirs and Hydro Storage Plants_202101040000-202201030000.csv\", skiprows=range(1, 52))\n",
    "\n",
    "# Reading in only the first week of 2023\n",
    "water_level_NO1_2023 = pd.read_csv(\"../datasets/water_level/NO1_2023_Water Reservoirs and Hydro Storage Plants_202301020000-202401010000.csv\", nrows=1)\n",
    "water_level_NO2_2023 = pd.read_csv(\"../datasets/water_level/NO2_2023_Water Reservoirs and Hydro Storage Plants_202301020000-202401010000.csv\", nrows=1)\n",
    "water_level_NO3_2023 = pd.read_csv(\"../datasets/water_level/NO3_2023_Water Reservoirs and Hydro Storage Plants_202301020000-202401010000.csv\", nrows=1)\n",
    "water_level_NO5_2023 = pd.read_csv(\"../datasets/water_level/NO5_2023_Water Reservoirs and Hydro Storage Plants_202301020000-202401010000.csv\", nrows=1)\n",
    "water_level_SE3_2023 = pd.read_csv(\"../datasets/water_level/SE3_2023_Water Reservoirs and Hydro Storage Plants_202301020000-202401010000.csv\", nrows=1)\n",
    "\n",
    "# Renaming the Week datapoint for all 2023 datasets because they are originally called \"week 1\" which would create confusion in the data\n",
    "water_level_NO1_2023.at[0, 'Week'] = 'Week 53'\n",
    "water_level_NO2_2023.at[0, 'Week'] = 'Week 53'\n",
    "water_level_NO3_2023.at[0, 'Week'] = 'Week 53'\n",
    "water_level_NO5_2023.at[0, 'Week'] = 'Week 53'\n",
    "water_level_SE3_2023.at[0, 'Week'] = 'Week 53'\n",
    "\n",
    "# Getting 'Week 52' from 2021 datasets\n",
    "water_level_NO1_2021.at[0, 'Week'] = 'Week 0'\n",
    "water_level_NO2_2021.at[0, 'Week'] = 'Week 0'\n",
    "water_level_NO3_2021.at[0, 'Week'] = 'Week 0'\n",
    "water_level_NO5_2021.at[0, 'Week'] = 'Week 0'\n",
    "water_level_SE3_2021.at[0, 'Week'] = 'Week 0'\n"
   ]
  },
  {
   "cell_type": "markdown",
   "id": "47084655",
   "metadata": {},
   "source": [
    "Checking to see if we have correctly selected the last week of 2021 and first week of 2023"
   ]
  },
  {
   "cell_type": "code",
   "execution_count": 276,
   "id": "53ae97c6",
   "metadata": {},
   "outputs": [
    {
     "data": {
      "text/plain": "      Week  Stored Energy Value [MWh] - BZN|NO1\n0  Week 53                              3741135",
      "text/html": "<div>\n<style scoped>\n    .dataframe tbody tr th:only-of-type {\n        vertical-align: middle;\n    }\n\n    .dataframe tbody tr th {\n        vertical-align: top;\n    }\n\n    .dataframe thead th {\n        text-align: right;\n    }\n</style>\n<table border=\"1\" class=\"dataframe\">\n  <thead>\n    <tr style=\"text-align: right;\">\n      <th></th>\n      <th>Week</th>\n      <th>Stored Energy Value [MWh] - BZN|NO1</th>\n    </tr>\n  </thead>\n  <tbody>\n    <tr>\n      <th>0</th>\n      <td>Week 53</td>\n      <td>3741135</td>\n    </tr>\n  </tbody>\n</table>\n</div>"
     },
     "execution_count": 276,
     "metadata": {},
     "output_type": "execute_result"
    }
   ],
   "source": [
    "# Checking if the dataframe contains the first week of  2023\n",
    "water_level_NO1_2023.head()"
   ]
  },
  {
   "cell_type": "code",
   "execution_count": 277,
   "id": "7bc7ae30",
   "metadata": {},
   "outputs": [
    {
     "data": {
      "text/plain": "     Week  Stored Energy Value [MWh] - BZN|NO1\n0  Week 0                              3204274",
      "text/html": "<div>\n<style scoped>\n    .dataframe tbody tr th:only-of-type {\n        vertical-align: middle;\n    }\n\n    .dataframe tbody tr th {\n        vertical-align: top;\n    }\n\n    .dataframe thead th {\n        text-align: right;\n    }\n</style>\n<table border=\"1\" class=\"dataframe\">\n  <thead>\n    <tr style=\"text-align: right;\">\n      <th></th>\n      <th>Week</th>\n      <th>Stored Energy Value [MWh] - BZN|NO1</th>\n    </tr>\n  </thead>\n  <tbody>\n    <tr>\n      <th>0</th>\n      <td>Week 0</td>\n      <td>3204274</td>\n    </tr>\n  </tbody>\n</table>\n</div>"
     },
     "execution_count": 277,
     "metadata": {},
     "output_type": "execute_result"
    }
   ],
   "source": [
    "# Checking if the dataframe containes the last week of  2021\n",
    "water_level_NO1_2021.head()"
   ]
  },
  {
   "cell_type": "markdown",
   "id": "c1be8499",
   "metadata": {},
   "source": [
    "Concatinating the datasets and ignoring the index to create a new index. The concatination happens in the order of how they are written in pd.concat([df1,df2,df3])"
   ]
  },
  {
   "cell_type": "code",
   "execution_count": 278,
   "id": "ccdfae96",
   "metadata": {},
   "outputs": [],
   "source": [
    "# Concatinating the dataset to add the first week of 2023 to the 2022 datasets. ignore index ignores the index number of the row in 2023 and gives it a new after being \"appended\"\n",
    "water_level_NO1 = pd.concat([water_level_NO1_2021, water_level_NO1, water_level_NO1_2023], ignore_index= True, axis=0)\n",
    "water_level_NO2 = pd.concat([water_level_NO2_2021, water_level_NO2, water_level_NO2_2023], ignore_index= True, axis=0)\n",
    "water_level_NO3 = pd.concat([water_level_NO3_2021, water_level_NO3, water_level_NO3_2023], ignore_index= True, axis=0)\n",
    "water_level_NO5 = pd.concat([water_level_NO5_2021 ,water_level_NO5, water_level_NO5_2023], ignore_index= True, axis=0)\n",
    "water_level_SE3 = pd.concat([water_level_SE3_2021, water_level_SE3, water_level_SE3_2023], ignore_index= True, axis=0)"
   ]
  },
  {
   "cell_type": "markdown",
   "id": "9341814d",
   "metadata": {},
   "source": [
    "Testing to see if the concatenation is successful by looking at the first and last rows"
   ]
  },
  {
   "cell_type": "code",
   "execution_count": 279,
   "id": "3909b082",
   "metadata": {},
   "outputs": [
    {
     "data": {
      "text/plain": "     Week  Stored Energy Value [MWh] - BZN|NO1\n0  Week 0                              3204274\n1  Week 1                              2955197\n2  Week 2                              2754532\n3  Week 3                              2556285\n4  Week 4                              2388301",
      "text/html": "<div>\n<style scoped>\n    .dataframe tbody tr th:only-of-type {\n        vertical-align: middle;\n    }\n\n    .dataframe tbody tr th {\n        vertical-align: top;\n    }\n\n    .dataframe thead th {\n        text-align: right;\n    }\n</style>\n<table border=\"1\" class=\"dataframe\">\n  <thead>\n    <tr style=\"text-align: right;\">\n      <th></th>\n      <th>Week</th>\n      <th>Stored Energy Value [MWh] - BZN|NO1</th>\n    </tr>\n  </thead>\n  <tbody>\n    <tr>\n      <th>0</th>\n      <td>Week 0</td>\n      <td>3204274</td>\n    </tr>\n    <tr>\n      <th>1</th>\n      <td>Week 1</td>\n      <td>2955197</td>\n    </tr>\n    <tr>\n      <th>2</th>\n      <td>Week 2</td>\n      <td>2754532</td>\n    </tr>\n    <tr>\n      <th>3</th>\n      <td>Week 3</td>\n      <td>2556285</td>\n    </tr>\n    <tr>\n      <th>4</th>\n      <td>Week 4</td>\n      <td>2388301</td>\n    </tr>\n  </tbody>\n</table>\n</div>"
     },
     "execution_count": 279,
     "metadata": {},
     "output_type": "execute_result"
    }
   ],
   "source": [
    "# printing out first 5 rows of the resulting dataset to see if the last week\n",
    "# of 2021 was added\n",
    "water_level_NO1.head()"
   ]
  },
  {
   "cell_type": "code",
   "execution_count": 280,
   "id": "f25b4e89",
   "metadata": {},
   "outputs": [
    {
     "data": {
      "text/plain": "       Week  Stored Energy Value [MWh] - BZN|NO1\n49  Week 49                              4547299\n50  Week 50                              4240847\n51  Week 51                              4054917\n52  Week 52                              3915448\n53  Week 53                              3741135",
      "text/html": "<div>\n<style scoped>\n    .dataframe tbody tr th:only-of-type {\n        vertical-align: middle;\n    }\n\n    .dataframe tbody tr th {\n        vertical-align: top;\n    }\n\n    .dataframe thead th {\n        text-align: right;\n    }\n</style>\n<table border=\"1\" class=\"dataframe\">\n  <thead>\n    <tr style=\"text-align: right;\">\n      <th></th>\n      <th>Week</th>\n      <th>Stored Energy Value [MWh] - BZN|NO1</th>\n    </tr>\n  </thead>\n  <tbody>\n    <tr>\n      <th>49</th>\n      <td>Week 49</td>\n      <td>4547299</td>\n    </tr>\n    <tr>\n      <th>50</th>\n      <td>Week 50</td>\n      <td>4240847</td>\n    </tr>\n    <tr>\n      <th>51</th>\n      <td>Week 51</td>\n      <td>4054917</td>\n    </tr>\n    <tr>\n      <th>52</th>\n      <td>Week 52</td>\n      <td>3915448</td>\n    </tr>\n    <tr>\n      <th>53</th>\n      <td>Week 53</td>\n      <td>3741135</td>\n    </tr>\n  </tbody>\n</table>\n</div>"
     },
     "execution_count": 280,
     "metadata": {},
     "output_type": "execute_result"
    }
   ],
   "source": [
    "# printing out last 5 rows of the resulting dataset to see if the first week\n",
    "# of 2023 was added\n",
    "water_level_NO1.tail()"
   ]
  },
  {
   "cell_type": "markdown",
   "id": "32d32dcb",
   "metadata": {},
   "source": [
    "We can see that the extra weeks have been added correctly and can merge the datasets from the different zones into a larger dataset"
   ]
  },
  {
   "cell_type": "code",
   "execution_count": 281,
   "id": "73a50280",
   "metadata": {},
   "outputs": [
    {
     "data": {
      "text/plain": "     Week  Stored Energy Value [MWh] - BZN|NO1  \\\n0  Week 0                              3204274   \n1  Week 1                              2955197   \n2  Week 2                              2754532   \n3  Week 3                              2556285   \n4  Week 4                              2388301   \n\n   Stored Energy Value [MWh] - BZN|NO2  Stored Energy Value [MWh] - BZN|NO3  \\\n0                             16810140                              5688093   \n1                             16214535                              5314677   \n2                             15749289                              5423690   \n3                             15047132                              5363892   \n4                             14733590                              5186818   \n\n   Stored Energy Value [MWh] - BZN|NO5  Stored Energy Value [MWh] - BZN|SE3  \n0                              8631916                              1656000  \n1                              8130917                              1566000  \n2                              7834726                              1475000  \n3                              7445563                              1415000  \n4                              7172051                              1361000  ",
      "text/html": "<div>\n<style scoped>\n    .dataframe tbody tr th:only-of-type {\n        vertical-align: middle;\n    }\n\n    .dataframe tbody tr th {\n        vertical-align: top;\n    }\n\n    .dataframe thead th {\n        text-align: right;\n    }\n</style>\n<table border=\"1\" class=\"dataframe\">\n  <thead>\n    <tr style=\"text-align: right;\">\n      <th></th>\n      <th>Week</th>\n      <th>Stored Energy Value [MWh] - BZN|NO1</th>\n      <th>Stored Energy Value [MWh] - BZN|NO2</th>\n      <th>Stored Energy Value [MWh] - BZN|NO3</th>\n      <th>Stored Energy Value [MWh] - BZN|NO5</th>\n      <th>Stored Energy Value [MWh] - BZN|SE3</th>\n    </tr>\n  </thead>\n  <tbody>\n    <tr>\n      <th>0</th>\n      <td>Week 0</td>\n      <td>3204274</td>\n      <td>16810140</td>\n      <td>5688093</td>\n      <td>8631916</td>\n      <td>1656000</td>\n    </tr>\n    <tr>\n      <th>1</th>\n      <td>Week 1</td>\n      <td>2955197</td>\n      <td>16214535</td>\n      <td>5314677</td>\n      <td>8130917</td>\n      <td>1566000</td>\n    </tr>\n    <tr>\n      <th>2</th>\n      <td>Week 2</td>\n      <td>2754532</td>\n      <td>15749289</td>\n      <td>5423690</td>\n      <td>7834726</td>\n      <td>1475000</td>\n    </tr>\n    <tr>\n      <th>3</th>\n      <td>Week 3</td>\n      <td>2556285</td>\n      <td>15047132</td>\n      <td>5363892</td>\n      <td>7445563</td>\n      <td>1415000</td>\n    </tr>\n    <tr>\n      <th>4</th>\n      <td>Week 4</td>\n      <td>2388301</td>\n      <td>14733590</td>\n      <td>5186818</td>\n      <td>7172051</td>\n      <td>1361000</td>\n    </tr>\n  </tbody>\n</table>\n</div>"
     },
     "execution_count": 281,
     "metadata": {},
     "output_type": "execute_result"
    }
   ],
   "source": [
    "# Merging the dataframes\n",
    "water_level_dataframes = [water_level_NO1, water_level_NO2, water_level_NO3, water_level_NO5, water_level_SE3]\n",
    "water_level_dataframes = reduce(lambda left, right: pd.merge(left,right, on=['Week']), water_level_dataframes)\n",
    "\n",
    "# printing out the 5 first rows of the resulting dataframe\n",
    "water_level_dataframes.head()"
   ]
  },
  {
   "cell_type": "markdown",
   "id": "d6f33793",
   "metadata": {},
   "source": [
    "We will now convert the week numbers into the datetime corresponding with the first day of each week, starting on 27th of december 2021 and ending on the 2nd of January 2023. This is done with pd.date_range which returns a fixed frequency DatetimeIndex"
   ]
  },
  {
   "cell_type": "code",
   "execution_count": 282,
   "id": "9b5ba3a9",
   "metadata": {},
   "outputs": [
    {
     "data": {
      "text/plain": "  Week_start_date\n0      2021-12-27\n1      2022-01-03\n2      2022-01-10\n3      2022-01-17\n4      2022-01-24",
      "text/html": "<div>\n<style scoped>\n    .dataframe tbody tr th:only-of-type {\n        vertical-align: middle;\n    }\n\n    .dataframe tbody tr th {\n        vertical-align: top;\n    }\n\n    .dataframe thead th {\n        text-align: right;\n    }\n</style>\n<table border=\"1\" class=\"dataframe\">\n  <thead>\n    <tr style=\"text-align: right;\">\n      <th></th>\n      <th>Week_start_date</th>\n    </tr>\n  </thead>\n  <tbody>\n    <tr>\n      <th>0</th>\n      <td>2021-12-27</td>\n    </tr>\n    <tr>\n      <th>1</th>\n      <td>2022-01-03</td>\n    </tr>\n    <tr>\n      <th>2</th>\n      <td>2022-01-10</td>\n    </tr>\n    <tr>\n      <th>3</th>\n      <td>2022-01-17</td>\n    </tr>\n    <tr>\n      <th>4</th>\n      <td>2022-01-24</td>\n    </tr>\n  </tbody>\n</table>\n</div>"
     },
     "execution_count": 282,
     "metadata": {},
     "output_type": "execute_result"
    }
   ],
   "source": [
    "start_date = '2021-12-27'\n",
    "end_date = '2023-01-02'\n",
    "week_date_timeframe = pd.DataFrame(pd.date_range(start=start_date, end=end_date, freq='7D'))\n",
    "week_date_timeframe.rename(columns={0: 'Week_start_date'}, inplace=True)\n",
    "week_date_timeframe.head()"
   ]
  },
  {
   "cell_type": "markdown",
   "id": "5cb503ef",
   "metadata": {},
   "source": [
    "Now that we have a dataset containing corresponding datetimes to the weekly water levels, we can now join the two dataframes, and we can drop the 'Week' column as it is no longer of any use."
   ]
  },
  {
   "cell_type": "code",
   "execution_count": 283,
   "id": "f25e03d1",
   "metadata": {},
   "outputs": [
    {
     "data": {
      "text/plain": "  Week_start_date    Week  Stored Energy Value [MWh] - BZN|NO1  \\\n0      2021-12-27  Week 0                              3204274   \n1      2022-01-03  Week 1                              2955197   \n2      2022-01-10  Week 2                              2754532   \n3      2022-01-17  Week 3                              2556285   \n4      2022-01-24  Week 4                              2388301   \n\n   Stored Energy Value [MWh] - BZN|NO2  Stored Energy Value [MWh] - BZN|NO3  \\\n0                             16810140                              5688093   \n1                             16214535                              5314677   \n2                             15749289                              5423690   \n3                             15047132                              5363892   \n4                             14733590                              5186818   \n\n   Stored Energy Value [MWh] - BZN|NO5  Stored Energy Value [MWh] - BZN|SE3  \n0                              8631916                              1656000  \n1                              8130917                              1566000  \n2                              7834726                              1475000  \n3                              7445563                              1415000  \n4                              7172051                              1361000  ",
      "text/html": "<div>\n<style scoped>\n    .dataframe tbody tr th:only-of-type {\n        vertical-align: middle;\n    }\n\n    .dataframe tbody tr th {\n        vertical-align: top;\n    }\n\n    .dataframe thead th {\n        text-align: right;\n    }\n</style>\n<table border=\"1\" class=\"dataframe\">\n  <thead>\n    <tr style=\"text-align: right;\">\n      <th></th>\n      <th>Week_start_date</th>\n      <th>Week</th>\n      <th>Stored Energy Value [MWh] - BZN|NO1</th>\n      <th>Stored Energy Value [MWh] - BZN|NO2</th>\n      <th>Stored Energy Value [MWh] - BZN|NO3</th>\n      <th>Stored Energy Value [MWh] - BZN|NO5</th>\n      <th>Stored Energy Value [MWh] - BZN|SE3</th>\n    </tr>\n  </thead>\n  <tbody>\n    <tr>\n      <th>0</th>\n      <td>2021-12-27</td>\n      <td>Week 0</td>\n      <td>3204274</td>\n      <td>16810140</td>\n      <td>5688093</td>\n      <td>8631916</td>\n      <td>1656000</td>\n    </tr>\n    <tr>\n      <th>1</th>\n      <td>2022-01-03</td>\n      <td>Week 1</td>\n      <td>2955197</td>\n      <td>16214535</td>\n      <td>5314677</td>\n      <td>8130917</td>\n      <td>1566000</td>\n    </tr>\n    <tr>\n      <th>2</th>\n      <td>2022-01-10</td>\n      <td>Week 2</td>\n      <td>2754532</td>\n      <td>15749289</td>\n      <td>5423690</td>\n      <td>7834726</td>\n      <td>1475000</td>\n    </tr>\n    <tr>\n      <th>3</th>\n      <td>2022-01-17</td>\n      <td>Week 3</td>\n      <td>2556285</td>\n      <td>15047132</td>\n      <td>5363892</td>\n      <td>7445563</td>\n      <td>1415000</td>\n    </tr>\n    <tr>\n      <th>4</th>\n      <td>2022-01-24</td>\n      <td>Week 4</td>\n      <td>2388301</td>\n      <td>14733590</td>\n      <td>5186818</td>\n      <td>7172051</td>\n      <td>1361000</td>\n    </tr>\n  </tbody>\n</table>\n</div>"
     },
     "execution_count": 283,
     "metadata": {},
     "output_type": "execute_result"
    }
   ],
   "source": [
    "# joining the dataframes week_start_date and water_level_dataframes\n",
    "joined_water_week = pd.concat([week_date_timeframe, water_level_dataframes], axis=1)\n",
    "joined_water_week.head()"
   ]
  },
  {
   "cell_type": "code",
   "execution_count": 284,
   "id": "a0f0261b",
   "metadata": {},
   "outputs": [
    {
     "data": {
      "text/plain": "  Week_start_date  Stored Energy Value [MWh] - BZN|NO1  \\\n0      2021-12-27                              3204274   \n1      2022-01-03                              2955197   \n2      2022-01-10                              2754532   \n3      2022-01-17                              2556285   \n4      2022-01-24                              2388301   \n\n   Stored Energy Value [MWh] - BZN|NO2  Stored Energy Value [MWh] - BZN|NO3  \\\n0                             16810140                              5688093   \n1                             16214535                              5314677   \n2                             15749289                              5423690   \n3                             15047132                              5363892   \n4                             14733590                              5186818   \n\n   Stored Energy Value [MWh] - BZN|NO5  Stored Energy Value [MWh] - BZN|SE3  \n0                              8631916                              1656000  \n1                              8130917                              1566000  \n2                              7834726                              1475000  \n3                              7445563                              1415000  \n4                              7172051                              1361000  ",
      "text/html": "<div>\n<style scoped>\n    .dataframe tbody tr th:only-of-type {\n        vertical-align: middle;\n    }\n\n    .dataframe tbody tr th {\n        vertical-align: top;\n    }\n\n    .dataframe thead th {\n        text-align: right;\n    }\n</style>\n<table border=\"1\" class=\"dataframe\">\n  <thead>\n    <tr style=\"text-align: right;\">\n      <th></th>\n      <th>Week_start_date</th>\n      <th>Stored Energy Value [MWh] - BZN|NO1</th>\n      <th>Stored Energy Value [MWh] - BZN|NO2</th>\n      <th>Stored Energy Value [MWh] - BZN|NO3</th>\n      <th>Stored Energy Value [MWh] - BZN|NO5</th>\n      <th>Stored Energy Value [MWh] - BZN|SE3</th>\n    </tr>\n  </thead>\n  <tbody>\n    <tr>\n      <th>0</th>\n      <td>2021-12-27</td>\n      <td>3204274</td>\n      <td>16810140</td>\n      <td>5688093</td>\n      <td>8631916</td>\n      <td>1656000</td>\n    </tr>\n    <tr>\n      <th>1</th>\n      <td>2022-01-03</td>\n      <td>2955197</td>\n      <td>16214535</td>\n      <td>5314677</td>\n      <td>8130917</td>\n      <td>1566000</td>\n    </tr>\n    <tr>\n      <th>2</th>\n      <td>2022-01-10</td>\n      <td>2754532</td>\n      <td>15749289</td>\n      <td>5423690</td>\n      <td>7834726</td>\n      <td>1475000</td>\n    </tr>\n    <tr>\n      <th>3</th>\n      <td>2022-01-17</td>\n      <td>2556285</td>\n      <td>15047132</td>\n      <td>5363892</td>\n      <td>7445563</td>\n      <td>1415000</td>\n    </tr>\n    <tr>\n      <th>4</th>\n      <td>2022-01-24</td>\n      <td>2388301</td>\n      <td>14733590</td>\n      <td>5186818</td>\n      <td>7172051</td>\n      <td>1361000</td>\n    </tr>\n  </tbody>\n</table>\n</div>"
     },
     "execution_count": 284,
     "metadata": {},
     "output_type": "execute_result"
    }
   ],
   "source": [
    "# dropping the week column\n",
    "joined_water_week.drop('Week', axis=1, inplace=True)\n",
    "\n",
    "# printing out 5 first rows of the resulting dataframe\n",
    "joined_water_week.head()"
   ]
  },
  {
   "cell_type": "markdown",
   "id": "c69053ae",
   "metadata": {},
   "source": [
    "Setting 'Week_start_date' as the index so that the whole dataframe can be treated as a datetime object"
   ]
  },
  {
   "cell_type": "code",
   "execution_count": 285,
   "id": "1d213d1f",
   "metadata": {},
   "outputs": [],
   "source": [
    "# Setting 'Week_start_date' as the index\n",
    "joined_water_week.set_index('Week_start_date', inplace=True)"
   ]
  },
  {
   "cell_type": "code",
   "execution_count": 286,
   "id": "e355ce34",
   "metadata": {},
   "outputs": [
    {
     "data": {
      "text/plain": "DatetimeIndex(['2021-12-27', '2022-01-03', '2022-01-10', '2022-01-17',\n               '2022-01-24', '2022-01-31', '2022-02-07', '2022-02-14',\n               '2022-02-21', '2022-02-28', '2022-03-07', '2022-03-14',\n               '2022-03-21', '2022-03-28', '2022-04-04', '2022-04-11',\n               '2022-04-18', '2022-04-25', '2022-05-02', '2022-05-09',\n               '2022-05-16', '2022-05-23', '2022-05-30', '2022-06-06',\n               '2022-06-13', '2022-06-20', '2022-06-27', '2022-07-04',\n               '2022-07-11', '2022-07-18', '2022-07-25', '2022-08-01',\n               '2022-08-08', '2022-08-15', '2022-08-22', '2022-08-29',\n               '2022-09-05', '2022-09-12', '2022-09-19', '2022-09-26',\n               '2022-10-03', '2022-10-10', '2022-10-17', '2022-10-24',\n               '2022-10-31', '2022-11-07', '2022-11-14', '2022-11-21',\n               '2022-11-28', '2022-12-05', '2022-12-12', '2022-12-19',\n               '2022-12-26', '2023-01-02'],\n              dtype='datetime64[ns]', name='Week_start_date', freq=None)"
     },
     "execution_count": 286,
     "metadata": {},
     "output_type": "execute_result"
    }
   ],
   "source": [
    "# printing out the resulting index\n",
    "joined_water_week.index"
   ]
  },
  {
   "cell_type": "code",
   "execution_count": 287,
   "id": "41d82fd9",
   "metadata": {},
   "outputs": [
    {
     "data": {
      "text/plain": "                 Stored Energy Value [MWh] - BZN|NO1  \\\nWeek_start_date                                        \n2021-12-27                                   3204274   \n2022-01-03                                   2955197   \n2022-01-10                                   2754532   \n2022-01-17                                   2556285   \n2022-01-24                                   2388301   \n\n                 Stored Energy Value [MWh] - BZN|NO2  \\\nWeek_start_date                                        \n2021-12-27                                  16810140   \n2022-01-03                                  16214535   \n2022-01-10                                  15749289   \n2022-01-17                                  15047132   \n2022-01-24                                  14733590   \n\n                 Stored Energy Value [MWh] - BZN|NO3  \\\nWeek_start_date                                        \n2021-12-27                                   5688093   \n2022-01-03                                   5314677   \n2022-01-10                                   5423690   \n2022-01-17                                   5363892   \n2022-01-24                                   5186818   \n\n                 Stored Energy Value [MWh] - BZN|NO5  \\\nWeek_start_date                                        \n2021-12-27                                   8631916   \n2022-01-03                                   8130917   \n2022-01-10                                   7834726   \n2022-01-17                                   7445563   \n2022-01-24                                   7172051   \n\n                 Stored Energy Value [MWh] - BZN|SE3  \nWeek_start_date                                       \n2021-12-27                                   1656000  \n2022-01-03                                   1566000  \n2022-01-10                                   1475000  \n2022-01-17                                   1415000  \n2022-01-24                                   1361000  ",
      "text/html": "<div>\n<style scoped>\n    .dataframe tbody tr th:only-of-type {\n        vertical-align: middle;\n    }\n\n    .dataframe tbody tr th {\n        vertical-align: top;\n    }\n\n    .dataframe thead th {\n        text-align: right;\n    }\n</style>\n<table border=\"1\" class=\"dataframe\">\n  <thead>\n    <tr style=\"text-align: right;\">\n      <th></th>\n      <th>Stored Energy Value [MWh] - BZN|NO1</th>\n      <th>Stored Energy Value [MWh] - BZN|NO2</th>\n      <th>Stored Energy Value [MWh] - BZN|NO3</th>\n      <th>Stored Energy Value [MWh] - BZN|NO5</th>\n      <th>Stored Energy Value [MWh] - BZN|SE3</th>\n    </tr>\n    <tr>\n      <th>Week_start_date</th>\n      <th></th>\n      <th></th>\n      <th></th>\n      <th></th>\n      <th></th>\n    </tr>\n  </thead>\n  <tbody>\n    <tr>\n      <th>2021-12-27</th>\n      <td>3204274</td>\n      <td>16810140</td>\n      <td>5688093</td>\n      <td>8631916</td>\n      <td>1656000</td>\n    </tr>\n    <tr>\n      <th>2022-01-03</th>\n      <td>2955197</td>\n      <td>16214535</td>\n      <td>5314677</td>\n      <td>8130917</td>\n      <td>1566000</td>\n    </tr>\n    <tr>\n      <th>2022-01-10</th>\n      <td>2754532</td>\n      <td>15749289</td>\n      <td>5423690</td>\n      <td>7834726</td>\n      <td>1475000</td>\n    </tr>\n    <tr>\n      <th>2022-01-17</th>\n      <td>2556285</td>\n      <td>15047132</td>\n      <td>5363892</td>\n      <td>7445563</td>\n      <td>1415000</td>\n    </tr>\n    <tr>\n      <th>2022-01-24</th>\n      <td>2388301</td>\n      <td>14733590</td>\n      <td>5186818</td>\n      <td>7172051</td>\n      <td>1361000</td>\n    </tr>\n  </tbody>\n</table>\n</div>"
     },
     "execution_count": 287,
     "metadata": {},
     "output_type": "execute_result"
    }
   ],
   "source": [
    "# printing out the 5 first rows of the resulting dataframe\n",
    "joined_water_week.head()"
   ]
  },
  {
   "cell_type": "markdown",
   "id": "27367798",
   "metadata": {},
   "source": [
    "Upsampling the data by changing the frequency from a 7-day frequency to an hour based one."
   ]
  },
  {
   "cell_type": "code",
   "execution_count": 288,
   "id": "9fedc14c",
   "metadata": {},
   "outputs": [],
   "source": [
    "# uppsampling joined_water_week dataframe to an hourly frequency\n",
    "joined_water_week = joined_water_week.asfreq('H')"
   ]
  },
  {
   "cell_type": "code",
   "execution_count": 289,
   "id": "769a7932",
   "metadata": {},
   "outputs": [
    {
     "data": {
      "text/plain": "                     Stored Energy Value [MWh] - BZN|NO1  \\\nWeek_start_date                                            \n2021-12-27 00:00:00                            3204274.0   \n2021-12-27 01:00:00                                  NaN   \n2021-12-27 02:00:00                                  NaN   \n2021-12-27 03:00:00                                  NaN   \n2021-12-27 04:00:00                                  NaN   \n\n                     Stored Energy Value [MWh] - BZN|NO2  \\\nWeek_start_date                                            \n2021-12-27 00:00:00                           16810140.0   \n2021-12-27 01:00:00                                  NaN   \n2021-12-27 02:00:00                                  NaN   \n2021-12-27 03:00:00                                  NaN   \n2021-12-27 04:00:00                                  NaN   \n\n                     Stored Energy Value [MWh] - BZN|NO3  \\\nWeek_start_date                                            \n2021-12-27 00:00:00                            5688093.0   \n2021-12-27 01:00:00                                  NaN   \n2021-12-27 02:00:00                                  NaN   \n2021-12-27 03:00:00                                  NaN   \n2021-12-27 04:00:00                                  NaN   \n\n                     Stored Energy Value [MWh] - BZN|NO5  \\\nWeek_start_date                                            \n2021-12-27 00:00:00                            8631916.0   \n2021-12-27 01:00:00                                  NaN   \n2021-12-27 02:00:00                                  NaN   \n2021-12-27 03:00:00                                  NaN   \n2021-12-27 04:00:00                                  NaN   \n\n                     Stored Energy Value [MWh] - BZN|SE3  \nWeek_start_date                                           \n2021-12-27 00:00:00                            1656000.0  \n2021-12-27 01:00:00                                  NaN  \n2021-12-27 02:00:00                                  NaN  \n2021-12-27 03:00:00                                  NaN  \n2021-12-27 04:00:00                                  NaN  ",
      "text/html": "<div>\n<style scoped>\n    .dataframe tbody tr th:only-of-type {\n        vertical-align: middle;\n    }\n\n    .dataframe tbody tr th {\n        vertical-align: top;\n    }\n\n    .dataframe thead th {\n        text-align: right;\n    }\n</style>\n<table border=\"1\" class=\"dataframe\">\n  <thead>\n    <tr style=\"text-align: right;\">\n      <th></th>\n      <th>Stored Energy Value [MWh] - BZN|NO1</th>\n      <th>Stored Energy Value [MWh] - BZN|NO2</th>\n      <th>Stored Energy Value [MWh] - BZN|NO3</th>\n      <th>Stored Energy Value [MWh] - BZN|NO5</th>\n      <th>Stored Energy Value [MWh] - BZN|SE3</th>\n    </tr>\n    <tr>\n      <th>Week_start_date</th>\n      <th></th>\n      <th></th>\n      <th></th>\n      <th></th>\n      <th></th>\n    </tr>\n  </thead>\n  <tbody>\n    <tr>\n      <th>2021-12-27 00:00:00</th>\n      <td>3204274.0</td>\n      <td>16810140.0</td>\n      <td>5688093.0</td>\n      <td>8631916.0</td>\n      <td>1656000.0</td>\n    </tr>\n    <tr>\n      <th>2021-12-27 01:00:00</th>\n      <td>NaN</td>\n      <td>NaN</td>\n      <td>NaN</td>\n      <td>NaN</td>\n      <td>NaN</td>\n    </tr>\n    <tr>\n      <th>2021-12-27 02:00:00</th>\n      <td>NaN</td>\n      <td>NaN</td>\n      <td>NaN</td>\n      <td>NaN</td>\n      <td>NaN</td>\n    </tr>\n    <tr>\n      <th>2021-12-27 03:00:00</th>\n      <td>NaN</td>\n      <td>NaN</td>\n      <td>NaN</td>\n      <td>NaN</td>\n      <td>NaN</td>\n    </tr>\n    <tr>\n      <th>2021-12-27 04:00:00</th>\n      <td>NaN</td>\n      <td>NaN</td>\n      <td>NaN</td>\n      <td>NaN</td>\n      <td>NaN</td>\n    </tr>\n  </tbody>\n</table>\n</div>"
     },
     "execution_count": 289,
     "metadata": {},
     "output_type": "execute_result"
    }
   ],
   "source": [
    "# printing out 5 first rows of the resulting dataframe\n",
    "joined_water_week.head()"
   ]
  },
  {
   "cell_type": "code",
   "execution_count": 290,
   "id": "0c4b61dd",
   "metadata": {},
   "outputs": [
    {
     "data": {
      "text/plain": "                     Stored Energy Value [MWh] - BZN|NO1  \\\nWeek_start_date                                            \n2023-01-01 20:00:00                                  NaN   \n2023-01-01 21:00:00                                  NaN   \n2023-01-01 22:00:00                                  NaN   \n2023-01-01 23:00:00                                  NaN   \n2023-01-02 00:00:00                            3741135.0   \n\n                     Stored Energy Value [MWh] - BZN|NO2  \\\nWeek_start_date                                            \n2023-01-01 20:00:00                                  NaN   \n2023-01-01 21:00:00                                  NaN   \n2023-01-01 22:00:00                                  NaN   \n2023-01-01 23:00:00                                  NaN   \n2023-01-02 00:00:00                           21066642.0   \n\n                     Stored Energy Value [MWh] - BZN|NO3  \\\nWeek_start_date                                            \n2023-01-01 20:00:00                                  NaN   \n2023-01-01 21:00:00                                  NaN   \n2023-01-01 22:00:00                                  NaN   \n2023-01-01 23:00:00                                  NaN   \n2023-01-02 00:00:00                            4657760.0   \n\n                     Stored Energy Value [MWh] - BZN|NO5  \\\nWeek_start_date                                            \n2023-01-01 20:00:00                                  NaN   \n2023-01-01 21:00:00                                  NaN   \n2023-01-01 22:00:00                                  NaN   \n2023-01-01 23:00:00                                  NaN   \n2023-01-02 00:00:00                           11620688.0   \n\n                     Stored Energy Value [MWh] - BZN|SE3  \nWeek_start_date                                           \n2023-01-01 20:00:00                                  NaN  \n2023-01-01 21:00:00                                  NaN  \n2023-01-01 22:00:00                                  NaN  \n2023-01-01 23:00:00                                  NaN  \n2023-01-02 00:00:00                            1584000.0  ",
      "text/html": "<div>\n<style scoped>\n    .dataframe tbody tr th:only-of-type {\n        vertical-align: middle;\n    }\n\n    .dataframe tbody tr th {\n        vertical-align: top;\n    }\n\n    .dataframe thead th {\n        text-align: right;\n    }\n</style>\n<table border=\"1\" class=\"dataframe\">\n  <thead>\n    <tr style=\"text-align: right;\">\n      <th></th>\n      <th>Stored Energy Value [MWh] - BZN|NO1</th>\n      <th>Stored Energy Value [MWh] - BZN|NO2</th>\n      <th>Stored Energy Value [MWh] - BZN|NO3</th>\n      <th>Stored Energy Value [MWh] - BZN|NO5</th>\n      <th>Stored Energy Value [MWh] - BZN|SE3</th>\n    </tr>\n    <tr>\n      <th>Week_start_date</th>\n      <th></th>\n      <th></th>\n      <th></th>\n      <th></th>\n      <th></th>\n    </tr>\n  </thead>\n  <tbody>\n    <tr>\n      <th>2023-01-01 20:00:00</th>\n      <td>NaN</td>\n      <td>NaN</td>\n      <td>NaN</td>\n      <td>NaN</td>\n      <td>NaN</td>\n    </tr>\n    <tr>\n      <th>2023-01-01 21:00:00</th>\n      <td>NaN</td>\n      <td>NaN</td>\n      <td>NaN</td>\n      <td>NaN</td>\n      <td>NaN</td>\n    </tr>\n    <tr>\n      <th>2023-01-01 22:00:00</th>\n      <td>NaN</td>\n      <td>NaN</td>\n      <td>NaN</td>\n      <td>NaN</td>\n      <td>NaN</td>\n    </tr>\n    <tr>\n      <th>2023-01-01 23:00:00</th>\n      <td>NaN</td>\n      <td>NaN</td>\n      <td>NaN</td>\n      <td>NaN</td>\n      <td>NaN</td>\n    </tr>\n    <tr>\n      <th>2023-01-02 00:00:00</th>\n      <td>3741135.0</td>\n      <td>21066642.0</td>\n      <td>4657760.0</td>\n      <td>11620688.0</td>\n      <td>1584000.0</td>\n    </tr>\n  </tbody>\n</table>\n</div>"
     },
     "execution_count": 290,
     "metadata": {},
     "output_type": "execute_result"
    }
   ],
   "source": [
    "# printing out 5 last rows of the resulting dataframe\n",
    "joined_water_week.tail()"
   ]
  },
  {
   "cell_type": "markdown",
   "id": "7960ccf2",
   "metadata": {},
   "source": [
    "We can see that the data has been upsampled, and we can interpolate the data. We will interpolate with spline interpolation to generate polynomial  datapoints while requiring a lower polynomial degree.The classical approach is to use polynomials of exactly degree 3 - cubic splines. source: Erwin Kreyszig (2005). Advanced Engineering Mathematics (9 ed.). Wiley. p. 816. ISBN 9780471488859."
   ]
  },
  {
   "cell_type": "code",
   "execution_count": 291,
   "id": "42dcc59e",
   "metadata": {},
   "outputs": [],
   "source": [
    "# performing cubic spline interpolation (3rd degree polynomial)\n",
    "interpolated_df = joined_water_week.interpolate(method='spline', order=3)"
   ]
  },
  {
   "cell_type": "code",
   "execution_count": 292,
   "id": "b628fce9",
   "metadata": {},
   "outputs": [
    {
     "data": {
      "text/plain": "                     Stored Energy Value [MWh] - BZN|NO1  \\\nWeek_start_date                                            \n2021-12-27 00:00:00                         3.204274e+06   \n2021-12-27 01:00:00                         3.202495e+06   \n2021-12-27 02:00:00                         3.200721e+06   \n2021-12-27 03:00:00                         3.198951e+06   \n2021-12-27 04:00:00                         3.197185e+06   \n\n                     Stored Energy Value [MWh] - BZN|NO2  \\\nWeek_start_date                                            \n2021-12-27 00:00:00                         1.681014e+07   \n2021-12-27 01:00:00                         1.680477e+07   \n2021-12-27 02:00:00                         1.679943e+07   \n2021-12-27 03:00:00                         1.679412e+07   \n2021-12-27 04:00:00                         1.678885e+07   \n\n                     Stored Energy Value [MWh] - BZN|NO3  \\\nWeek_start_date                                            \n2021-12-27 00:00:00                         5.688093e+06   \n2021-12-27 01:00:00                         5.682780e+06   \n2021-12-27 02:00:00                         5.677514e+06   \n2021-12-27 03:00:00                         5.672294e+06   \n2021-12-27 04:00:00                         5.667121e+06   \n\n                     Stored Energy Value [MWh] - BZN|NO5  \\\nWeek_start_date                                            \n2021-12-27 00:00:00                         8.631916e+06   \n2021-12-27 01:00:00                         8.627389e+06   \n2021-12-27 02:00:00                         8.622887e+06   \n2021-12-27 03:00:00                         8.618408e+06   \n2021-12-27 04:00:00                         8.613954e+06   \n\n                     Stored Energy Value [MWh] - BZN|SE3  \nWeek_start_date                                           \n2021-12-27 00:00:00                         1.656000e+06  \n2021-12-27 01:00:00                         1.655553e+06  \n2021-12-27 02:00:00                         1.655104e+06  \n2021-12-27 03:00:00                         1.654654e+06  \n2021-12-27 04:00:00                         1.654202e+06  ",
      "text/html": "<div>\n<style scoped>\n    .dataframe tbody tr th:only-of-type {\n        vertical-align: middle;\n    }\n\n    .dataframe tbody tr th {\n        vertical-align: top;\n    }\n\n    .dataframe thead th {\n        text-align: right;\n    }\n</style>\n<table border=\"1\" class=\"dataframe\">\n  <thead>\n    <tr style=\"text-align: right;\">\n      <th></th>\n      <th>Stored Energy Value [MWh] - BZN|NO1</th>\n      <th>Stored Energy Value [MWh] - BZN|NO2</th>\n      <th>Stored Energy Value [MWh] - BZN|NO3</th>\n      <th>Stored Energy Value [MWh] - BZN|NO5</th>\n      <th>Stored Energy Value [MWh] - BZN|SE3</th>\n    </tr>\n    <tr>\n      <th>Week_start_date</th>\n      <th></th>\n      <th></th>\n      <th></th>\n      <th></th>\n      <th></th>\n    </tr>\n  </thead>\n  <tbody>\n    <tr>\n      <th>2021-12-27 00:00:00</th>\n      <td>3.204274e+06</td>\n      <td>1.681014e+07</td>\n      <td>5.688093e+06</td>\n      <td>8.631916e+06</td>\n      <td>1.656000e+06</td>\n    </tr>\n    <tr>\n      <th>2021-12-27 01:00:00</th>\n      <td>3.202495e+06</td>\n      <td>1.680477e+07</td>\n      <td>5.682780e+06</td>\n      <td>8.627389e+06</td>\n      <td>1.655553e+06</td>\n    </tr>\n    <tr>\n      <th>2021-12-27 02:00:00</th>\n      <td>3.200721e+06</td>\n      <td>1.679943e+07</td>\n      <td>5.677514e+06</td>\n      <td>8.622887e+06</td>\n      <td>1.655104e+06</td>\n    </tr>\n    <tr>\n      <th>2021-12-27 03:00:00</th>\n      <td>3.198951e+06</td>\n      <td>1.679412e+07</td>\n      <td>5.672294e+06</td>\n      <td>8.618408e+06</td>\n      <td>1.654654e+06</td>\n    </tr>\n    <tr>\n      <th>2021-12-27 04:00:00</th>\n      <td>3.197185e+06</td>\n      <td>1.678885e+07</td>\n      <td>5.667121e+06</td>\n      <td>8.613954e+06</td>\n      <td>1.654202e+06</td>\n    </tr>\n  </tbody>\n</table>\n</div>"
     },
     "execution_count": 292,
     "metadata": {},
     "output_type": "execute_result"
    }
   ],
   "source": [
    "# printing out the 5 first rows of the interpolated dataframe\n",
    "interpolated_df.head()"
   ]
  },
  {
   "cell_type": "code",
   "execution_count": 293,
   "id": "48fe1b2b",
   "metadata": {},
   "outputs": [
    {
     "data": {
      "text/plain": "                     Stored Energy Value [MWh] - BZN|NO1  \\\nWeek_start_date                                            \n2023-01-01 20:00:00                         3.746225e+06   \n2023-01-01 21:00:00                         3.744958e+06   \n2023-01-01 22:00:00                         3.743687e+06   \n2023-01-01 23:00:00                         3.742413e+06   \n2023-01-02 00:00:00                         3.741135e+06   \n\n                     Stored Energy Value [MWh] - BZN|NO2  \\\nWeek_start_date                                            \n2023-01-01 20:00:00                         2.108807e+07   \n2023-01-01 21:00:00                         2.108280e+07   \n2023-01-01 22:00:00                         2.107747e+07   \n2023-01-01 23:00:00                         2.107208e+07   \n2023-01-02 00:00:00                         2.106664e+07   \n\n                     Stored Energy Value [MWh] - BZN|NO3  \\\nWeek_start_date                                            \n2023-01-01 20:00:00                         4.672723e+06   \n2023-01-01 21:00:00                         4.669017e+06   \n2023-01-01 22:00:00                         4.665288e+06   \n2023-01-01 23:00:00                         4.661536e+06   \n2023-01-02 00:00:00                         4.657760e+06   \n\n                     Stored Energy Value [MWh] - BZN|NO5  \\\nWeek_start_date                                            \n2023-01-01 20:00:00                         1.163591e+07   \n2023-01-01 21:00:00                         1.163214e+07   \n2023-01-01 22:00:00                         1.162835e+07   \n2023-01-01 23:00:00                         1.162453e+07   \n2023-01-02 00:00:00                         1.162069e+07   \n\n                     Stored Energy Value [MWh] - BZN|SE3  \nWeek_start_date                                           \n2023-01-01 20:00:00                         1.585083e+06  \n2023-01-01 21:00:00                         1.584819e+06  \n2023-01-01 22:00:00                         1.584551e+06  \n2023-01-01 23:00:00                         1.584278e+06  \n2023-01-02 00:00:00                         1.584000e+06  ",
      "text/html": "<div>\n<style scoped>\n    .dataframe tbody tr th:only-of-type {\n        vertical-align: middle;\n    }\n\n    .dataframe tbody tr th {\n        vertical-align: top;\n    }\n\n    .dataframe thead th {\n        text-align: right;\n    }\n</style>\n<table border=\"1\" class=\"dataframe\">\n  <thead>\n    <tr style=\"text-align: right;\">\n      <th></th>\n      <th>Stored Energy Value [MWh] - BZN|NO1</th>\n      <th>Stored Energy Value [MWh] - BZN|NO2</th>\n      <th>Stored Energy Value [MWh] - BZN|NO3</th>\n      <th>Stored Energy Value [MWh] - BZN|NO5</th>\n      <th>Stored Energy Value [MWh] - BZN|SE3</th>\n    </tr>\n    <tr>\n      <th>Week_start_date</th>\n      <th></th>\n      <th></th>\n      <th></th>\n      <th></th>\n      <th></th>\n    </tr>\n  </thead>\n  <tbody>\n    <tr>\n      <th>2023-01-01 20:00:00</th>\n      <td>3.746225e+06</td>\n      <td>2.108807e+07</td>\n      <td>4.672723e+06</td>\n      <td>1.163591e+07</td>\n      <td>1.585083e+06</td>\n    </tr>\n    <tr>\n      <th>2023-01-01 21:00:00</th>\n      <td>3.744958e+06</td>\n      <td>2.108280e+07</td>\n      <td>4.669017e+06</td>\n      <td>1.163214e+07</td>\n      <td>1.584819e+06</td>\n    </tr>\n    <tr>\n      <th>2023-01-01 22:00:00</th>\n      <td>3.743687e+06</td>\n      <td>2.107747e+07</td>\n      <td>4.665288e+06</td>\n      <td>1.162835e+07</td>\n      <td>1.584551e+06</td>\n    </tr>\n    <tr>\n      <th>2023-01-01 23:00:00</th>\n      <td>3.742413e+06</td>\n      <td>2.107208e+07</td>\n      <td>4.661536e+06</td>\n      <td>1.162453e+07</td>\n      <td>1.584278e+06</td>\n    </tr>\n    <tr>\n      <th>2023-01-02 00:00:00</th>\n      <td>3.741135e+06</td>\n      <td>2.106664e+07</td>\n      <td>4.657760e+06</td>\n      <td>1.162069e+07</td>\n      <td>1.584000e+06</td>\n    </tr>\n  </tbody>\n</table>\n</div>"
     },
     "execution_count": 293,
     "metadata": {},
     "output_type": "execute_result"
    }
   ],
   "source": [
    "# printing out the 5 last rows of the interpolated dataframe\n",
    "interpolated_df.tail()"
   ]
  },
  {
   "cell_type": "code",
   "execution_count": 294,
   "id": "25a3d1ba",
   "metadata": {},
   "outputs": [
    {
     "data": {
      "text/plain": "Stored Energy Value [MWh] - BZN|NO1    0\nStored Energy Value [MWh] - BZN|NO2    0\nStored Energy Value [MWh] - BZN|NO3    0\nStored Energy Value [MWh] - BZN|NO5    0\nStored Energy Value [MWh] - BZN|SE3    0\ndtype: int64"
     },
     "execution_count": 294,
     "metadata": {},
     "output_type": "execute_result"
    }
   ],
   "source": [
    "# checking data for missing values, if any\n",
    "interpolated_df.isna().sum()"
   ]
  },
  {
   "cell_type": "markdown",
   "id": "2de8d60d",
   "metadata": {},
   "source": [
    "The data above includes the timestamps for last week of 2021 and first week of 2023. To make the water level dataframe mach the other dataframes we will filter out the data from the year 2021 and 2023"
   ]
  },
  {
   "cell_type": "code",
   "execution_count": 295,
   "id": "70b49967",
   "metadata": {},
   "outputs": [],
   "source": [
    "# filtering out the data from year 2021 and 2023\n",
    "filtering_interpolation_df = interpolated_df.loc[(interpolated_df.index >= '2022-01-01 00:00:00')\n",
    "                   & (interpolated_df.index <= '2022-12-31 23:00:00')]"
   ]
  },
  {
   "cell_type": "markdown",
   "id": "e29a16b3",
   "metadata": {},
   "source": [
    "The other datasets have a numerical index, and the time as a feature, we therefore reset the index to mach the other datasets."
   ]
  },
  {
   "cell_type": "code",
   "execution_count": 296,
   "id": "ab7dcf2c",
   "metadata": {},
   "outputs": [
    {
     "name": "stdout",
     "output_type": "stream",
     "text": [
      "<class 'pandas.core.frame.DataFrame'>\n",
      "RangeIndex: 8760 entries, 0 to 8759\n",
      "Data columns (total 6 columns):\n",
      " #   Column                               Non-Null Count  Dtype  \n",
      "---  ------                               --------------  -----  \n",
      " 0   MTU (UTC)                            8760 non-null   object \n",
      " 1   Stored Energy Value [MWh] - BZN|NO1  8760 non-null   float64\n",
      " 2   Stored Energy Value [MWh] - BZN|NO2  8760 non-null   float64\n",
      " 3   Stored Energy Value [MWh] - BZN|NO3  8760 non-null   float64\n",
      " 4   Stored Energy Value [MWh] - BZN|NO5  8760 non-null   float64\n",
      " 5   Stored Energy Value [MWh] - BZN|SE3  8760 non-null   float64\n",
      "dtypes: float64(5), object(1)\n",
      "memory usage: 410.8+ KB\n"
     ]
    }
   ],
   "source": [
    "# resetting index\n",
    "water_reservoir = filtering_interpolation_df\n",
    "water_reservoir = water_reservoir.reset_index()\n",
    "water_reservoir = water_reservoir.rename(columns={'Week_start_date': 'MTU (UTC)'})\n",
    "water_reservoir.head()"
   ]
  },
  {
   "cell_type": "markdown",
   "id": "8c56ea98",
   "metadata": {},
   "source": [
    "We now have the finished water_reservoir dataframe which we can merge with the other datasets"
   ]
  },
  {
   "cell_type": "code",
   "execution_count": 297,
   "id": "3f77c514",
   "metadata": {},
   "outputs": [
    {
     "data": {
      "text/plain": "             MTU (UTC)  Stored Energy Value [MWh] - BZN|NO1  \\\n0  2022-01-01 00:00:00                         3.018018e+06   \n1  2022-01-01 01:00:00                         3.016657e+06   \n2  2022-01-01 02:00:00                         3.015298e+06   \n3  2022-01-01 03:00:00                         3.013942e+06   \n4  2022-01-01 04:00:00                         3.012588e+06   \n\n   Stored Energy Value [MWh] - BZN|NO2  Stored Energy Value [MWh] - BZN|NO3  \\\n0                         1.633942e+07                         5.335153e+06   \n1                         1.633660e+07                         5.334192e+06   \n2                         1.633378e+07                         5.333256e+06   \n3                         1.633098e+07                         5.332346e+06   \n4                         1.632819e+07                         5.331461e+06   \n\n   Stored Energy Value [MWh] - BZN|NO5  Stored Energy Value [MWh] - BZN|SE3  \n0                         8.232289e+06                         1.593721e+06  \n1                         8.229931e+06                         1.593152e+06  \n2                         8.227586e+06                         1.592581e+06  \n3                         8.225252e+06                         1.592011e+06  \n4                         8.222931e+06                         1.591439e+06  ",
      "text/html": "<div>\n<style scoped>\n    .dataframe tbody tr th:only-of-type {\n        vertical-align: middle;\n    }\n\n    .dataframe tbody tr th {\n        vertical-align: top;\n    }\n\n    .dataframe thead th {\n        text-align: right;\n    }\n</style>\n<table border=\"1\" class=\"dataframe\">\n  <thead>\n    <tr style=\"text-align: right;\">\n      <th></th>\n      <th>MTU (UTC)</th>\n      <th>Stored Energy Value [MWh] - BZN|NO1</th>\n      <th>Stored Energy Value [MWh] - BZN|NO2</th>\n      <th>Stored Energy Value [MWh] - BZN|NO3</th>\n      <th>Stored Energy Value [MWh] - BZN|NO5</th>\n      <th>Stored Energy Value [MWh] - BZN|SE3</th>\n    </tr>\n  </thead>\n  <tbody>\n    <tr>\n      <th>0</th>\n      <td>2022-01-01 00:00:00</td>\n      <td>3.018018e+06</td>\n      <td>1.633942e+07</td>\n      <td>5.335153e+06</td>\n      <td>8.232289e+06</td>\n      <td>1.593721e+06</td>\n    </tr>\n    <tr>\n      <th>1</th>\n      <td>2022-01-01 01:00:00</td>\n      <td>3.016657e+06</td>\n      <td>1.633660e+07</td>\n      <td>5.334192e+06</td>\n      <td>8.229931e+06</td>\n      <td>1.593152e+06</td>\n    </tr>\n    <tr>\n      <th>2</th>\n      <td>2022-01-01 02:00:00</td>\n      <td>3.015298e+06</td>\n      <td>1.633378e+07</td>\n      <td>5.333256e+06</td>\n      <td>8.227586e+06</td>\n      <td>1.592581e+06</td>\n    </tr>\n    <tr>\n      <th>3</th>\n      <td>2022-01-01 03:00:00</td>\n      <td>3.013942e+06</td>\n      <td>1.633098e+07</td>\n      <td>5.332346e+06</td>\n      <td>8.225252e+06</td>\n      <td>1.592011e+06</td>\n    </tr>\n    <tr>\n      <th>4</th>\n      <td>2022-01-01 04:00:00</td>\n      <td>3.012588e+06</td>\n      <td>1.632819e+07</td>\n      <td>5.331461e+06</td>\n      <td>8.222931e+06</td>\n      <td>1.591439e+06</td>\n    </tr>\n  </tbody>\n</table>\n</div>"
     },
     "execution_count": 297,
     "metadata": {},
     "output_type": "execute_result"
    }
   ],
   "source": [
    "# printing out 5 first rows of the finished water_reservoir dataframe\n",
    "water_reservoir.head()"
   ]
  },
  {
   "cell_type": "markdown",
   "id": "782d99d6",
   "metadata": {},
   "source": [
    "### Aggregating all sub-datasets\n",
    "Now that we have aggregated each of the sub-datasets, we can merge them together into a larger dataset that can be used to train time series electricity price prediction models on. we will wait with adding the water_reservoir until the time-range column 'MTU (UTC)' of the other datasets have been converted to datetime columns."
   ]
  },
  {
   "cell_type": "code",
   "execution_count": 298,
   "outputs": [
    {
     "data": {
      "text/plain": "                                MTU (UTC)  Day-ahead Price [EUR/MWh] BZN|NO1  \\\n0     01.01.2022 00:00 - 01.01.2022 01:00                             129.30   \n1     01.01.2022 01:00 - 01.01.2022 02:00                             132.08   \n2     01.01.2022 02:00 - 01.01.2022 03:00                             111.44   \n3     01.01.2022 03:00 - 01.01.2022 04:00                             112.35   \n4     01.01.2022 04:00 - 01.01.2022 05:00                             113.90   \n...                                   ...                                ...   \n8755  31.12.2022 19:00 - 31.12.2022 20:00                             123.61   \n8756  31.12.2022 20:00 - 31.12.2022 21:00                             121.09   \n8757  31.12.2022 21:00 - 31.12.2022 22:00                             120.00   \n8758  31.12.2022 22:00 - 31.12.2022 23:00                             119.98   \n8759  31.12.2022 23:00 - 01.01.2023 00:00                             119.32   \n\n      Day-ahead Price [EUR/MWh] BZN|NO2  Day-ahead Price [EUR/MWh] BZN|NO3  \\\n0                                129.30                              41.33   \n1                                132.08                              42.18   \n2                                111.44                              44.37   \n3                                112.35                              37.67   \n4                                113.90                              39.70   \n...                                 ...                                ...   \n8755                             123.61                              23.82   \n8756                             121.09                              23.93   \n8757                             120.00                              23.75   \n8758                             119.98                              23.56   \n8759                             119.32                              23.35   \n\n      Day-ahead Price [EUR/MWh] BZN|NO5  Day-ahead Price [EUR/MWh] BZN|SE3  \\\n0                                129.30                              41.33   \n1                                132.08                              42.18   \n2                                111.44                              44.37   \n3                                112.35                              37.67   \n4                                113.90                              39.70   \n...                                 ...                                ...   \n8755                             123.61                              11.57   \n8756                             121.09                              14.89   \n8757                             120.00                               9.94   \n8758                             119.98                               4.84   \n8759                             119.32                               2.01   \n\n      Actual Total Load [MW] - BZN|NO1  Actual Total Load [MW] - BZN|NO2  \\\n0                                 4701                              4440   \n1                                 4681                              4480   \n2                                 4620                              4424   \n3                                 4645                              4386   \n4                                 4670                              4375   \n...                                ...                               ...   \n8755                              4650                              4333   \n8756                              4573                              4270   \n8757                              4453                              4294   \n8758                              4389                              4282   \n8759                              4444                              4182   \n\n      Actual Total Load [MW] - BZN|NO3  Actual Total Load [MW] - BZN|NO5  \\\n0                                 3463                              1991   \n1                                 3388                              1969   \n2                                 3387                              1911   \n3                                 3376                              1996   \n4                                 3427                              1953   \n...                                ...                               ...   \n8755                              3612                              2128   \n8756                              3605                              2089   \n8757                              3479                              2037   \n8758                              3415                              1991   \n8759                              3346                              2009   \n\n      Actual Total Load [MW] - BZN|SE3  \n0                                 9612  \n1                                 9601  \n2                                 9552  \n3                                 9449  \n4                                 9614  \n...                                ...  \n8755                              9602  \n8756                              9251  \n8757                              9092  \n8758                              8944  \n8759                              8955  \n\n[8760 rows x 11 columns]",
      "text/html": "<div>\n<style scoped>\n    .dataframe tbody tr th:only-of-type {\n        vertical-align: middle;\n    }\n\n    .dataframe tbody tr th {\n        vertical-align: top;\n    }\n\n    .dataframe thead th {\n        text-align: right;\n    }\n</style>\n<table border=\"1\" class=\"dataframe\">\n  <thead>\n    <tr style=\"text-align: right;\">\n      <th></th>\n      <th>MTU (UTC)</th>\n      <th>Day-ahead Price [EUR/MWh] BZN|NO1</th>\n      <th>Day-ahead Price [EUR/MWh] BZN|NO2</th>\n      <th>Day-ahead Price [EUR/MWh] BZN|NO3</th>\n      <th>Day-ahead Price [EUR/MWh] BZN|NO5</th>\n      <th>Day-ahead Price [EUR/MWh] BZN|SE3</th>\n      <th>Actual Total Load [MW] - BZN|NO1</th>\n      <th>Actual Total Load [MW] - BZN|NO2</th>\n      <th>Actual Total Load [MW] - BZN|NO3</th>\n      <th>Actual Total Load [MW] - BZN|NO5</th>\n      <th>Actual Total Load [MW] - BZN|SE3</th>\n    </tr>\n  </thead>\n  <tbody>\n    <tr>\n      <th>0</th>\n      <td>01.01.2022 00:00 - 01.01.2022 01:00</td>\n      <td>129.30</td>\n      <td>129.30</td>\n      <td>41.33</td>\n      <td>129.30</td>\n      <td>41.33</td>\n      <td>4701</td>\n      <td>4440</td>\n      <td>3463</td>\n      <td>1991</td>\n      <td>9612</td>\n    </tr>\n    <tr>\n      <th>1</th>\n      <td>01.01.2022 01:00 - 01.01.2022 02:00</td>\n      <td>132.08</td>\n      <td>132.08</td>\n      <td>42.18</td>\n      <td>132.08</td>\n      <td>42.18</td>\n      <td>4681</td>\n      <td>4480</td>\n      <td>3388</td>\n      <td>1969</td>\n      <td>9601</td>\n    </tr>\n    <tr>\n      <th>2</th>\n      <td>01.01.2022 02:00 - 01.01.2022 03:00</td>\n      <td>111.44</td>\n      <td>111.44</td>\n      <td>44.37</td>\n      <td>111.44</td>\n      <td>44.37</td>\n      <td>4620</td>\n      <td>4424</td>\n      <td>3387</td>\n      <td>1911</td>\n      <td>9552</td>\n    </tr>\n    <tr>\n      <th>3</th>\n      <td>01.01.2022 03:00 - 01.01.2022 04:00</td>\n      <td>112.35</td>\n      <td>112.35</td>\n      <td>37.67</td>\n      <td>112.35</td>\n      <td>37.67</td>\n      <td>4645</td>\n      <td>4386</td>\n      <td>3376</td>\n      <td>1996</td>\n      <td>9449</td>\n    </tr>\n    <tr>\n      <th>4</th>\n      <td>01.01.2022 04:00 - 01.01.2022 05:00</td>\n      <td>113.90</td>\n      <td>113.90</td>\n      <td>39.70</td>\n      <td>113.90</td>\n      <td>39.70</td>\n      <td>4670</td>\n      <td>4375</td>\n      <td>3427</td>\n      <td>1953</td>\n      <td>9614</td>\n    </tr>\n    <tr>\n      <th>...</th>\n      <td>...</td>\n      <td>...</td>\n      <td>...</td>\n      <td>...</td>\n      <td>...</td>\n      <td>...</td>\n      <td>...</td>\n      <td>...</td>\n      <td>...</td>\n      <td>...</td>\n      <td>...</td>\n    </tr>\n    <tr>\n      <th>8755</th>\n      <td>31.12.2022 19:00 - 31.12.2022 20:00</td>\n      <td>123.61</td>\n      <td>123.61</td>\n      <td>23.82</td>\n      <td>123.61</td>\n      <td>11.57</td>\n      <td>4650</td>\n      <td>4333</td>\n      <td>3612</td>\n      <td>2128</td>\n      <td>9602</td>\n    </tr>\n    <tr>\n      <th>8756</th>\n      <td>31.12.2022 20:00 - 31.12.2022 21:00</td>\n      <td>121.09</td>\n      <td>121.09</td>\n      <td>23.93</td>\n      <td>121.09</td>\n      <td>14.89</td>\n      <td>4573</td>\n      <td>4270</td>\n      <td>3605</td>\n      <td>2089</td>\n      <td>9251</td>\n    </tr>\n    <tr>\n      <th>8757</th>\n      <td>31.12.2022 21:00 - 31.12.2022 22:00</td>\n      <td>120.00</td>\n      <td>120.00</td>\n      <td>23.75</td>\n      <td>120.00</td>\n      <td>9.94</td>\n      <td>4453</td>\n      <td>4294</td>\n      <td>3479</td>\n      <td>2037</td>\n      <td>9092</td>\n    </tr>\n    <tr>\n      <th>8758</th>\n      <td>31.12.2022 22:00 - 31.12.2022 23:00</td>\n      <td>119.98</td>\n      <td>119.98</td>\n      <td>23.56</td>\n      <td>119.98</td>\n      <td>4.84</td>\n      <td>4389</td>\n      <td>4282</td>\n      <td>3415</td>\n      <td>1991</td>\n      <td>8944</td>\n    </tr>\n    <tr>\n      <th>8759</th>\n      <td>31.12.2022 23:00 - 01.01.2023 00:00</td>\n      <td>119.32</td>\n      <td>119.32</td>\n      <td>23.35</td>\n      <td>119.32</td>\n      <td>2.01</td>\n      <td>4444</td>\n      <td>4182</td>\n      <td>3346</td>\n      <td>2009</td>\n      <td>8955</td>\n    </tr>\n  </tbody>\n</table>\n<p>8760 rows × 11 columns</p>\n</div>"
     },
     "execution_count": 298,
     "metadata": {},
     "output_type": "execute_result"
    }
   ],
   "source": [
    "pd.merge(prices, load, on=['MTU (UTC)'])"
   ],
   "metadata": {
    "collapsed": false
   }
  },
  {
   "cell_type": "code",
   "execution_count": 299,
   "outputs": [
    {
     "data": {
      "text/plain": "                                MTU (UTC)  Biomass - BZN|NO1  \\\n0     01.01.2022 00:00 - 01.01.2022 01:00                  0   \n1     01.01.2022 01:00 - 01.01.2022 02:00                  0   \n2     01.01.2022 02:00 - 01.01.2022 03:00                  0   \n3     01.01.2022 03:00 - 01.01.2022 04:00                  0   \n4     01.01.2022 04:00 - 01.01.2022 05:00                  0   \n...                                   ...                ...   \n8755  31.12.2022 19:00 - 31.12.2022 20:00                  0   \n8756  31.12.2022 20:00 - 31.12.2022 21:00                  0   \n8757  31.12.2022 21:00 - 31.12.2022 22:00                  0   \n8758  31.12.2022 22:00 - 31.12.2022 23:00                  0   \n8759  31.12.2022 23:00 - 01.01.2023 00:00                  0   \n\n      Fossil Gas - BZN|NO1  Hydro Run-of-river and poundage - BZN|NO1_x  \\\n0                        0                                          878   \n1                        0                                          897   \n2                        0                                          885   \n3                        0                                          890   \n4                        0                                          892   \n...                    ...                                          ...   \n8755                     0                                          992   \n8756                     0                                          980   \n8757                     0                                          980   \n8758                     0                                          989   \n8759                     0                                         1006   \n\n      Hydro Water Reservoir - BZN|NO1  Waste - BZN|NO1  \\\n0                                 321                8   \n1                                 330                8   \n2                                 275                8   \n3                                 269                8   \n4                                 300                8   \n...                               ...              ...   \n8755                              621                8   \n8756                              610                8   \n8757                              588                8   \n8758                              585                7   \n8759                              583                8   \n\n      Wind Onshore - BZN|NO1  Fossil Gas - BZN|NO2  \\\n0                        172                     0   \n1                        151                     0   \n2                        160                     0   \n3                        148                     0   \n4                        147                     0   \n...                      ...                   ...   \n8755                      74                     0   \n8756                      55                     0   \n8757                      67                     0   \n8758                      69                     0   \n8759                      74                     0   \n\n      Hydro Pumped Storage Aggregated- BZN|NO2  \\\n0                                            1   \n1                                            1   \n2                                            1   \n3                                            1   \n4                                            1   \n...                                        ...   \n8755                                         1   \n8756                                         1   \n8757                                         1   \n8758                                         0   \n8759                                         0   \n\n      Hydro Run-of-river and poundage - BZN|NO1_y  ...  Solar - BZN|SE3  \\\n0                                             629  ...              0.0   \n1                                             627  ...              0.0   \n2                                             624  ...              0.0   \n3                                             624  ...              0.0   \n4                                             605  ...              0.0   \n...                                           ...  ...              ...   \n8755                                          823  ...              0.0   \n8756                                          828  ...              0.0   \n8757                                          814  ...              0.0   \n8758                                          814  ...              0.0   \n8759                                          761  ...              0.0   \n\n      Wind Onshore - BZN|SE3  CBF BZN|NO2 > BZN|NO1 [MW]  \\\n0                      999.0                        1242   \n1                      958.0                        1222   \n2                      888.0                        1679   \n3                      788.0                        1668   \n4                      734.0                        1697   \n...                      ...                         ...   \n8755                  1499.0                         621   \n8756                  1282.0                         595   \n8757                  1168.0                         608   \n8758                  1033.0                         504   \n8759                   877.0                         956   \n\n      CBF BZN|NO1 > BZN|NO2 [MW]  CBF BZN|NO3 > BZN|NO1 [MW]  \\\n0                              0                         371   \n1                              0                         383   \n2                              0                         362   \n3                              0                         324   \n4                              0                         339   \n...                          ...                         ...   \n8755                           0                         146   \n8756                           0                         124   \n8757                           0                          91   \n8758                           0                          90   \n8759                           0                          83   \n\n      CBF BZN|NO1 > BZN|NO3 [MW]  CBF BZN|NO5 > BZN|NO1 [MW]  \\\n0                              0                         594   \n1                              0                         676   \n2                              0                         436   \n3                              0                         345   \n4                              0                         412   \n...                          ...                         ...   \n8755                           0                          43   \n8756                           0                          24   \n8757                           0                          41   \n8758                           0                           0   \n8759                           0                           0   \n\n      CBF BZN|NO1 > BZN|NO5 [MW]  CBF BZN|SE3 > BZN|NO1 [MW]  \\\n0                              0                        1065   \n1                              0                         927   \n2                              0                         748   \n3                              0                         918   \n4                              0                         826   \n...                          ...                         ...   \n8755                           0                        2083   \n8756                           0                        2097   \n8757                           0                        2007   \n8758                          29                        2119   \n8759                          12                        1612   \n\n      CBF BZN|NO1 > BZN|SE3 [MW]  \n0                              0  \n1                              0  \n2                              0  \n3                              0  \n4                              0  \n...                          ...  \n8755                           0  \n8756                           0  \n8757                           0  \n8758                           0  \n8759                           0  \n\n[8760 rows x 39 columns]",
      "text/html": "<div>\n<style scoped>\n    .dataframe tbody tr th:only-of-type {\n        vertical-align: middle;\n    }\n\n    .dataframe tbody tr th {\n        vertical-align: top;\n    }\n\n    .dataframe thead th {\n        text-align: right;\n    }\n</style>\n<table border=\"1\" class=\"dataframe\">\n  <thead>\n    <tr style=\"text-align: right;\">\n      <th></th>\n      <th>MTU (UTC)</th>\n      <th>Biomass - BZN|NO1</th>\n      <th>Fossil Gas - BZN|NO1</th>\n      <th>Hydro Run-of-river and poundage - BZN|NO1_x</th>\n      <th>Hydro Water Reservoir - BZN|NO1</th>\n      <th>Waste - BZN|NO1</th>\n      <th>Wind Onshore - BZN|NO1</th>\n      <th>Fossil Gas - BZN|NO2</th>\n      <th>Hydro Pumped Storage Aggregated- BZN|NO2</th>\n      <th>Hydro Run-of-river and poundage - BZN|NO1_y</th>\n      <th>...</th>\n      <th>Solar - BZN|SE3</th>\n      <th>Wind Onshore - BZN|SE3</th>\n      <th>CBF BZN|NO2 &gt; BZN|NO1 [MW]</th>\n      <th>CBF BZN|NO1 &gt; BZN|NO2 [MW]</th>\n      <th>CBF BZN|NO3 &gt; BZN|NO1 [MW]</th>\n      <th>CBF BZN|NO1 &gt; BZN|NO3 [MW]</th>\n      <th>CBF BZN|NO5 &gt; BZN|NO1 [MW]</th>\n      <th>CBF BZN|NO1 &gt; BZN|NO5 [MW]</th>\n      <th>CBF BZN|SE3 &gt; BZN|NO1 [MW]</th>\n      <th>CBF BZN|NO1 &gt; BZN|SE3 [MW]</th>\n    </tr>\n  </thead>\n  <tbody>\n    <tr>\n      <th>0</th>\n      <td>01.01.2022 00:00 - 01.01.2022 01:00</td>\n      <td>0</td>\n      <td>0</td>\n      <td>878</td>\n      <td>321</td>\n      <td>8</td>\n      <td>172</td>\n      <td>0</td>\n      <td>1</td>\n      <td>629</td>\n      <td>...</td>\n      <td>0.0</td>\n      <td>999.0</td>\n      <td>1242</td>\n      <td>0</td>\n      <td>371</td>\n      <td>0</td>\n      <td>594</td>\n      <td>0</td>\n      <td>1065</td>\n      <td>0</td>\n    </tr>\n    <tr>\n      <th>1</th>\n      <td>01.01.2022 01:00 - 01.01.2022 02:00</td>\n      <td>0</td>\n      <td>0</td>\n      <td>897</td>\n      <td>330</td>\n      <td>8</td>\n      <td>151</td>\n      <td>0</td>\n      <td>1</td>\n      <td>627</td>\n      <td>...</td>\n      <td>0.0</td>\n      <td>958.0</td>\n      <td>1222</td>\n      <td>0</td>\n      <td>383</td>\n      <td>0</td>\n      <td>676</td>\n      <td>0</td>\n      <td>927</td>\n      <td>0</td>\n    </tr>\n    <tr>\n      <th>2</th>\n      <td>01.01.2022 02:00 - 01.01.2022 03:00</td>\n      <td>0</td>\n      <td>0</td>\n      <td>885</td>\n      <td>275</td>\n      <td>8</td>\n      <td>160</td>\n      <td>0</td>\n      <td>1</td>\n      <td>624</td>\n      <td>...</td>\n      <td>0.0</td>\n      <td>888.0</td>\n      <td>1679</td>\n      <td>0</td>\n      <td>362</td>\n      <td>0</td>\n      <td>436</td>\n      <td>0</td>\n      <td>748</td>\n      <td>0</td>\n    </tr>\n    <tr>\n      <th>3</th>\n      <td>01.01.2022 03:00 - 01.01.2022 04:00</td>\n      <td>0</td>\n      <td>0</td>\n      <td>890</td>\n      <td>269</td>\n      <td>8</td>\n      <td>148</td>\n      <td>0</td>\n      <td>1</td>\n      <td>624</td>\n      <td>...</td>\n      <td>0.0</td>\n      <td>788.0</td>\n      <td>1668</td>\n      <td>0</td>\n      <td>324</td>\n      <td>0</td>\n      <td>345</td>\n      <td>0</td>\n      <td>918</td>\n      <td>0</td>\n    </tr>\n    <tr>\n      <th>4</th>\n      <td>01.01.2022 04:00 - 01.01.2022 05:00</td>\n      <td>0</td>\n      <td>0</td>\n      <td>892</td>\n      <td>300</td>\n      <td>8</td>\n      <td>147</td>\n      <td>0</td>\n      <td>1</td>\n      <td>605</td>\n      <td>...</td>\n      <td>0.0</td>\n      <td>734.0</td>\n      <td>1697</td>\n      <td>0</td>\n      <td>339</td>\n      <td>0</td>\n      <td>412</td>\n      <td>0</td>\n      <td>826</td>\n      <td>0</td>\n    </tr>\n    <tr>\n      <th>...</th>\n      <td>...</td>\n      <td>...</td>\n      <td>...</td>\n      <td>...</td>\n      <td>...</td>\n      <td>...</td>\n      <td>...</td>\n      <td>...</td>\n      <td>...</td>\n      <td>...</td>\n      <td>...</td>\n      <td>...</td>\n      <td>...</td>\n      <td>...</td>\n      <td>...</td>\n      <td>...</td>\n      <td>...</td>\n      <td>...</td>\n      <td>...</td>\n      <td>...</td>\n      <td>...</td>\n    </tr>\n    <tr>\n      <th>8755</th>\n      <td>31.12.2022 19:00 - 31.12.2022 20:00</td>\n      <td>0</td>\n      <td>0</td>\n      <td>992</td>\n      <td>621</td>\n      <td>8</td>\n      <td>74</td>\n      <td>0</td>\n      <td>1</td>\n      <td>823</td>\n      <td>...</td>\n      <td>0.0</td>\n      <td>1499.0</td>\n      <td>621</td>\n      <td>0</td>\n      <td>146</td>\n      <td>0</td>\n      <td>43</td>\n      <td>0</td>\n      <td>2083</td>\n      <td>0</td>\n    </tr>\n    <tr>\n      <th>8756</th>\n      <td>31.12.2022 20:00 - 31.12.2022 21:00</td>\n      <td>0</td>\n      <td>0</td>\n      <td>980</td>\n      <td>610</td>\n      <td>8</td>\n      <td>55</td>\n      <td>0</td>\n      <td>1</td>\n      <td>828</td>\n      <td>...</td>\n      <td>0.0</td>\n      <td>1282.0</td>\n      <td>595</td>\n      <td>0</td>\n      <td>124</td>\n      <td>0</td>\n      <td>24</td>\n      <td>0</td>\n      <td>2097</td>\n      <td>0</td>\n    </tr>\n    <tr>\n      <th>8757</th>\n      <td>31.12.2022 21:00 - 31.12.2022 22:00</td>\n      <td>0</td>\n      <td>0</td>\n      <td>980</td>\n      <td>588</td>\n      <td>8</td>\n      <td>67</td>\n      <td>0</td>\n      <td>1</td>\n      <td>814</td>\n      <td>...</td>\n      <td>0.0</td>\n      <td>1168.0</td>\n      <td>608</td>\n      <td>0</td>\n      <td>91</td>\n      <td>0</td>\n      <td>41</td>\n      <td>0</td>\n      <td>2007</td>\n      <td>0</td>\n    </tr>\n    <tr>\n      <th>8758</th>\n      <td>31.12.2022 22:00 - 31.12.2022 23:00</td>\n      <td>0</td>\n      <td>0</td>\n      <td>989</td>\n      <td>585</td>\n      <td>7</td>\n      <td>69</td>\n      <td>0</td>\n      <td>0</td>\n      <td>814</td>\n      <td>...</td>\n      <td>0.0</td>\n      <td>1033.0</td>\n      <td>504</td>\n      <td>0</td>\n      <td>90</td>\n      <td>0</td>\n      <td>0</td>\n      <td>29</td>\n      <td>2119</td>\n      <td>0</td>\n    </tr>\n    <tr>\n      <th>8759</th>\n      <td>31.12.2022 23:00 - 01.01.2023 00:00</td>\n      <td>0</td>\n      <td>0</td>\n      <td>1006</td>\n      <td>583</td>\n      <td>8</td>\n      <td>74</td>\n      <td>0</td>\n      <td>0</td>\n      <td>761</td>\n      <td>...</td>\n      <td>0.0</td>\n      <td>877.0</td>\n      <td>956</td>\n      <td>0</td>\n      <td>83</td>\n      <td>0</td>\n      <td>0</td>\n      <td>12</td>\n      <td>1612</td>\n      <td>0</td>\n    </tr>\n  </tbody>\n</table>\n<p>8760 rows × 39 columns</p>\n</div>"
     },
     "execution_count": 299,
     "metadata": {},
     "output_type": "execute_result"
    }
   ],
   "source": [
    "pd.merge(actual_generation_selected, import_export_no1_neighbours, on=['MTU (UTC)'])"
   ],
   "metadata": {
    "collapsed": false
   }
  },
  {
   "cell_type": "code",
   "execution_count": 300,
   "id": "931d94e8",
   "metadata": {},
   "outputs": [
    {
     "data": {
      "text/plain": "                                MTU (UTC)  Day-ahead Price [EUR/MWh] BZN|NO1  \\\n0     01.01.2022 00:00 - 01.01.2022 01:00                             129.30   \n1     01.01.2022 01:00 - 01.01.2022 02:00                             132.08   \n2     01.01.2022 02:00 - 01.01.2022 03:00                             111.44   \n3     01.01.2022 03:00 - 01.01.2022 04:00                             112.35   \n4     01.01.2022 04:00 - 01.01.2022 05:00                             113.90   \n...                                   ...                                ...   \n8755  31.12.2022 19:00 - 31.12.2022 20:00                             123.61   \n8756  31.12.2022 20:00 - 31.12.2022 21:00                             121.09   \n8757  31.12.2022 21:00 - 31.12.2022 22:00                             120.00   \n8758  31.12.2022 22:00 - 31.12.2022 23:00                             119.98   \n8759  31.12.2022 23:00 - 01.01.2023 00:00                             119.32   \n\n      Day-ahead Price [EUR/MWh] BZN|NO2  Day-ahead Price [EUR/MWh] BZN|NO3  \\\n0                                129.30                              41.33   \n1                                132.08                              42.18   \n2                                111.44                              44.37   \n3                                112.35                              37.67   \n4                                113.90                              39.70   \n...                                 ...                                ...   \n8755                             123.61                              23.82   \n8756                             121.09                              23.93   \n8757                             120.00                              23.75   \n8758                             119.98                              23.56   \n8759                             119.32                              23.35   \n\n      Day-ahead Price [EUR/MWh] BZN|NO5  Day-ahead Price [EUR/MWh] BZN|SE3  \\\n0                                129.30                              41.33   \n1                                132.08                              42.18   \n2                                111.44                              44.37   \n3                                112.35                              37.67   \n4                                113.90                              39.70   \n...                                 ...                                ...   \n8755                             123.61                              11.57   \n8756                             121.09                              14.89   \n8757                             120.00                               9.94   \n8758                             119.98                               4.84   \n8759                             119.32                               2.01   \n\n      Actual Total Load [MW] - BZN|NO1  Actual Total Load [MW] - BZN|NO2  \\\n0                                 4701                              4440   \n1                                 4681                              4480   \n2                                 4620                              4424   \n3                                 4645                              4386   \n4                                 4670                              4375   \n...                                ...                               ...   \n8755                              4650                              4333   \n8756                              4573                              4270   \n8757                              4453                              4294   \n8758                              4389                              4282   \n8759                              4444                              4182   \n\n      Actual Total Load [MW] - BZN|NO3  Actual Total Load [MW] - BZN|NO5  ...  \\\n0                                 3463                              1991  ...   \n1                                 3388                              1969  ...   \n2                                 3387                              1911  ...   \n3                                 3376                              1996  ...   \n4                                 3427                              1953  ...   \n...                                ...                               ...  ...   \n8755                              3612                              2128  ...   \n8756                              3605                              2089  ...   \n8757                              3479                              2037  ...   \n8758                              3415                              1991  ...   \n8759                              3346                              2009  ...   \n\n      Solar - BZN|SE3  Wind Onshore - BZN|SE3  CBF BZN|NO2 > BZN|NO1 [MW]  \\\n0                 0.0                   999.0                        1242   \n1                 0.0                   958.0                        1222   \n2                 0.0                   888.0                        1679   \n3                 0.0                   788.0                        1668   \n4                 0.0                   734.0                        1697   \n...               ...                     ...                         ...   \n8755              0.0                  1499.0                         621   \n8756              0.0                  1282.0                         595   \n8757              0.0                  1168.0                         608   \n8758              0.0                  1033.0                         504   \n8759              0.0                   877.0                         956   \n\n      CBF BZN|NO1 > BZN|NO2 [MW]  CBF BZN|NO3 > BZN|NO1 [MW]  \\\n0                              0                         371   \n1                              0                         383   \n2                              0                         362   \n3                              0                         324   \n4                              0                         339   \n...                          ...                         ...   \n8755                           0                         146   \n8756                           0                         124   \n8757                           0                          91   \n8758                           0                          90   \n8759                           0                          83   \n\n      CBF BZN|NO1 > BZN|NO3 [MW]  CBF BZN|NO5 > BZN|NO1 [MW]  \\\n0                              0                         594   \n1                              0                         676   \n2                              0                         436   \n3                              0                         345   \n4                              0                         412   \n...                          ...                         ...   \n8755                           0                          43   \n8756                           0                          24   \n8757                           0                          41   \n8758                           0                           0   \n8759                           0                           0   \n\n      CBF BZN|NO1 > BZN|NO5 [MW]  CBF BZN|SE3 > BZN|NO1 [MW]  \\\n0                              0                        1065   \n1                              0                         927   \n2                              0                         748   \n3                              0                         918   \n4                              0                         826   \n...                          ...                         ...   \n8755                           0                        2083   \n8756                           0                        2097   \n8757                           0                        2007   \n8758                          29                        2119   \n8759                          12                        1612   \n\n      CBF BZN|NO1 > BZN|SE3 [MW]  \n0                              0  \n1                              0  \n2                              0  \n3                              0  \n4                              0  \n...                          ...  \n8755                           0  \n8756                           0  \n8757                           0  \n8758                           0  \n8759                           0  \n\n[8760 rows x 49 columns]",
      "text/html": "<div>\n<style scoped>\n    .dataframe tbody tr th:only-of-type {\n        vertical-align: middle;\n    }\n\n    .dataframe tbody tr th {\n        vertical-align: top;\n    }\n\n    .dataframe thead th {\n        text-align: right;\n    }\n</style>\n<table border=\"1\" class=\"dataframe\">\n  <thead>\n    <tr style=\"text-align: right;\">\n      <th></th>\n      <th>MTU (UTC)</th>\n      <th>Day-ahead Price [EUR/MWh] BZN|NO1</th>\n      <th>Day-ahead Price [EUR/MWh] BZN|NO2</th>\n      <th>Day-ahead Price [EUR/MWh] BZN|NO3</th>\n      <th>Day-ahead Price [EUR/MWh] BZN|NO5</th>\n      <th>Day-ahead Price [EUR/MWh] BZN|SE3</th>\n      <th>Actual Total Load [MW] - BZN|NO1</th>\n      <th>Actual Total Load [MW] - BZN|NO2</th>\n      <th>Actual Total Load [MW] - BZN|NO3</th>\n      <th>Actual Total Load [MW] - BZN|NO5</th>\n      <th>...</th>\n      <th>Solar - BZN|SE3</th>\n      <th>Wind Onshore - BZN|SE3</th>\n      <th>CBF BZN|NO2 &gt; BZN|NO1 [MW]</th>\n      <th>CBF BZN|NO1 &gt; BZN|NO2 [MW]</th>\n      <th>CBF BZN|NO3 &gt; BZN|NO1 [MW]</th>\n      <th>CBF BZN|NO1 &gt; BZN|NO3 [MW]</th>\n      <th>CBF BZN|NO5 &gt; BZN|NO1 [MW]</th>\n      <th>CBF BZN|NO1 &gt; BZN|NO5 [MW]</th>\n      <th>CBF BZN|SE3 &gt; BZN|NO1 [MW]</th>\n      <th>CBF BZN|NO1 &gt; BZN|SE3 [MW]</th>\n    </tr>\n  </thead>\n  <tbody>\n    <tr>\n      <th>0</th>\n      <td>01.01.2022 00:00 - 01.01.2022 01:00</td>\n      <td>129.30</td>\n      <td>129.30</td>\n      <td>41.33</td>\n      <td>129.30</td>\n      <td>41.33</td>\n      <td>4701</td>\n      <td>4440</td>\n      <td>3463</td>\n      <td>1991</td>\n      <td>...</td>\n      <td>0.0</td>\n      <td>999.0</td>\n      <td>1242</td>\n      <td>0</td>\n      <td>371</td>\n      <td>0</td>\n      <td>594</td>\n      <td>0</td>\n      <td>1065</td>\n      <td>0</td>\n    </tr>\n    <tr>\n      <th>1</th>\n      <td>01.01.2022 01:00 - 01.01.2022 02:00</td>\n      <td>132.08</td>\n      <td>132.08</td>\n      <td>42.18</td>\n      <td>132.08</td>\n      <td>42.18</td>\n      <td>4681</td>\n      <td>4480</td>\n      <td>3388</td>\n      <td>1969</td>\n      <td>...</td>\n      <td>0.0</td>\n      <td>958.0</td>\n      <td>1222</td>\n      <td>0</td>\n      <td>383</td>\n      <td>0</td>\n      <td>676</td>\n      <td>0</td>\n      <td>927</td>\n      <td>0</td>\n    </tr>\n    <tr>\n      <th>2</th>\n      <td>01.01.2022 02:00 - 01.01.2022 03:00</td>\n      <td>111.44</td>\n      <td>111.44</td>\n      <td>44.37</td>\n      <td>111.44</td>\n      <td>44.37</td>\n      <td>4620</td>\n      <td>4424</td>\n      <td>3387</td>\n      <td>1911</td>\n      <td>...</td>\n      <td>0.0</td>\n      <td>888.0</td>\n      <td>1679</td>\n      <td>0</td>\n      <td>362</td>\n      <td>0</td>\n      <td>436</td>\n      <td>0</td>\n      <td>748</td>\n      <td>0</td>\n    </tr>\n    <tr>\n      <th>3</th>\n      <td>01.01.2022 03:00 - 01.01.2022 04:00</td>\n      <td>112.35</td>\n      <td>112.35</td>\n      <td>37.67</td>\n      <td>112.35</td>\n      <td>37.67</td>\n      <td>4645</td>\n      <td>4386</td>\n      <td>3376</td>\n      <td>1996</td>\n      <td>...</td>\n      <td>0.0</td>\n      <td>788.0</td>\n      <td>1668</td>\n      <td>0</td>\n      <td>324</td>\n      <td>0</td>\n      <td>345</td>\n      <td>0</td>\n      <td>918</td>\n      <td>0</td>\n    </tr>\n    <tr>\n      <th>4</th>\n      <td>01.01.2022 04:00 - 01.01.2022 05:00</td>\n      <td>113.90</td>\n      <td>113.90</td>\n      <td>39.70</td>\n      <td>113.90</td>\n      <td>39.70</td>\n      <td>4670</td>\n      <td>4375</td>\n      <td>3427</td>\n      <td>1953</td>\n      <td>...</td>\n      <td>0.0</td>\n      <td>734.0</td>\n      <td>1697</td>\n      <td>0</td>\n      <td>339</td>\n      <td>0</td>\n      <td>412</td>\n      <td>0</td>\n      <td>826</td>\n      <td>0</td>\n    </tr>\n    <tr>\n      <th>...</th>\n      <td>...</td>\n      <td>...</td>\n      <td>...</td>\n      <td>...</td>\n      <td>...</td>\n      <td>...</td>\n      <td>...</td>\n      <td>...</td>\n      <td>...</td>\n      <td>...</td>\n      <td>...</td>\n      <td>...</td>\n      <td>...</td>\n      <td>...</td>\n      <td>...</td>\n      <td>...</td>\n      <td>...</td>\n      <td>...</td>\n      <td>...</td>\n      <td>...</td>\n      <td>...</td>\n    </tr>\n    <tr>\n      <th>8755</th>\n      <td>31.12.2022 19:00 - 31.12.2022 20:00</td>\n      <td>123.61</td>\n      <td>123.61</td>\n      <td>23.82</td>\n      <td>123.61</td>\n      <td>11.57</td>\n      <td>4650</td>\n      <td>4333</td>\n      <td>3612</td>\n      <td>2128</td>\n      <td>...</td>\n      <td>0.0</td>\n      <td>1499.0</td>\n      <td>621</td>\n      <td>0</td>\n      <td>146</td>\n      <td>0</td>\n      <td>43</td>\n      <td>0</td>\n      <td>2083</td>\n      <td>0</td>\n    </tr>\n    <tr>\n      <th>8756</th>\n      <td>31.12.2022 20:00 - 31.12.2022 21:00</td>\n      <td>121.09</td>\n      <td>121.09</td>\n      <td>23.93</td>\n      <td>121.09</td>\n      <td>14.89</td>\n      <td>4573</td>\n      <td>4270</td>\n      <td>3605</td>\n      <td>2089</td>\n      <td>...</td>\n      <td>0.0</td>\n      <td>1282.0</td>\n      <td>595</td>\n      <td>0</td>\n      <td>124</td>\n      <td>0</td>\n      <td>24</td>\n      <td>0</td>\n      <td>2097</td>\n      <td>0</td>\n    </tr>\n    <tr>\n      <th>8757</th>\n      <td>31.12.2022 21:00 - 31.12.2022 22:00</td>\n      <td>120.00</td>\n      <td>120.00</td>\n      <td>23.75</td>\n      <td>120.00</td>\n      <td>9.94</td>\n      <td>4453</td>\n      <td>4294</td>\n      <td>3479</td>\n      <td>2037</td>\n      <td>...</td>\n      <td>0.0</td>\n      <td>1168.0</td>\n      <td>608</td>\n      <td>0</td>\n      <td>91</td>\n      <td>0</td>\n      <td>41</td>\n      <td>0</td>\n      <td>2007</td>\n      <td>0</td>\n    </tr>\n    <tr>\n      <th>8758</th>\n      <td>31.12.2022 22:00 - 31.12.2022 23:00</td>\n      <td>119.98</td>\n      <td>119.98</td>\n      <td>23.56</td>\n      <td>119.98</td>\n      <td>4.84</td>\n      <td>4389</td>\n      <td>4282</td>\n      <td>3415</td>\n      <td>1991</td>\n      <td>...</td>\n      <td>0.0</td>\n      <td>1033.0</td>\n      <td>504</td>\n      <td>0</td>\n      <td>90</td>\n      <td>0</td>\n      <td>0</td>\n      <td>29</td>\n      <td>2119</td>\n      <td>0</td>\n    </tr>\n    <tr>\n      <th>8759</th>\n      <td>31.12.2022 23:00 - 01.01.2023 00:00</td>\n      <td>119.32</td>\n      <td>119.32</td>\n      <td>23.35</td>\n      <td>119.32</td>\n      <td>2.01</td>\n      <td>4444</td>\n      <td>4182</td>\n      <td>3346</td>\n      <td>2009</td>\n      <td>...</td>\n      <td>0.0</td>\n      <td>877.0</td>\n      <td>956</td>\n      <td>0</td>\n      <td>83</td>\n      <td>0</td>\n      <td>0</td>\n      <td>12</td>\n      <td>1612</td>\n      <td>0</td>\n    </tr>\n  </tbody>\n</table>\n<p>8760 rows × 49 columns</p>\n</div>"
     },
     "execution_count": 300,
     "metadata": {},
     "output_type": "execute_result"
    }
   ],
   "source": [
    "# merging prices, loads, actual_generation_selected and\n",
    "# import_export_no1_neighbours dataframes on the date time\n",
    "# column 'MTU (UTC)'\n",
    "\n",
    "# creating a list of dataframes\n",
    "no1_dataframes = [\n",
    "    prices,\n",
    "    load,\n",
    "    actual_generation_selected,\n",
    "    import_export_no1_neighbours,\n",
    "    ]\n",
    "\n",
    "# merging dataframes\n",
    "no1 = reduce(lambda left, right: pd.merge(\n",
    "    left,right, on=['MTU (UTC)']), no1_dataframes)\n",
    "\n",
    "# printing out the resulting dataframe\n",
    "no1"
   ]
  },
  {
   "cell_type": "code",
   "execution_count": 301,
   "id": "300f9a29",
   "metadata": {},
   "outputs": [
    {
     "data": {
      "text/plain": "                                MTU (UTC)  Day-ahead Price [EUR/MWh] BZN|NO1  \\\n0     01.01.2022 00:00 - 01.01.2022 01:00                             129.30   \n1     01.01.2022 01:00 - 01.01.2022 02:00                             132.08   \n2     01.01.2022 02:00 - 01.01.2022 03:00                             111.44   \n3     01.01.2022 03:00 - 01.01.2022 04:00                             112.35   \n4     01.01.2022 04:00 - 01.01.2022 05:00                             113.90   \n...                                   ...                                ...   \n8755  31.12.2022 19:00 - 31.12.2022 20:00                             123.61   \n8756  31.12.2022 20:00 - 31.12.2022 21:00                             121.09   \n8757  31.12.2022 21:00 - 31.12.2022 22:00                             120.00   \n8758  31.12.2022 22:00 - 31.12.2022 23:00                             119.98   \n8759  31.12.2022 23:00 - 01.01.2023 00:00                             119.32   \n\n      Day-ahead Price [EUR/MWh] BZN|NO2  Day-ahead Price [EUR/MWh] BZN|NO3  \\\n0                                129.30                              41.33   \n1                                132.08                              42.18   \n2                                111.44                              44.37   \n3                                112.35                              37.67   \n4                                113.90                              39.70   \n...                                 ...                                ...   \n8755                             123.61                              23.82   \n8756                             121.09                              23.93   \n8757                             120.00                              23.75   \n8758                             119.98                              23.56   \n8759                             119.32                              23.35   \n\n      Day-ahead Price [EUR/MWh] BZN|NO5  Day-ahead Price [EUR/MWh] BZN|SE3  \\\n0                                129.30                              41.33   \n1                                132.08                              42.18   \n2                                111.44                              44.37   \n3                                112.35                              37.67   \n4                                113.90                              39.70   \n...                                 ...                                ...   \n8755                             123.61                              11.57   \n8756                             121.09                              14.89   \n8757                             120.00                               9.94   \n8758                             119.98                               4.84   \n8759                             119.32                               2.01   \n\n                                MTU (UTC)  Actual Total Load [MW] - BZN|NO1  \\\n0     01.01.2022 00:00 - 01.01.2022 01:00                              4701   \n1     01.01.2022 01:00 - 01.01.2022 02:00                              4681   \n2     01.01.2022 02:00 - 01.01.2022 03:00                              4620   \n3     01.01.2022 03:00 - 01.01.2022 04:00                              4645   \n4     01.01.2022 04:00 - 01.01.2022 05:00                              4670   \n...                                   ...                               ...   \n8755  31.12.2022 19:00 - 31.12.2022 20:00                              4650   \n8756  31.12.2022 20:00 - 31.12.2022 21:00                              4573   \n8757  31.12.2022 21:00 - 31.12.2022 22:00                              4453   \n8758  31.12.2022 22:00 - 31.12.2022 23:00                              4389   \n8759  31.12.2022 23:00 - 01.01.2023 00:00                              4444   \n\n      Actual Total Load [MW] - BZN|NO2  Actual Total Load [MW] - BZN|NO3  ...  \\\n0                                 4440                              3463  ...   \n1                                 4480                              3388  ...   \n2                                 4424                              3387  ...   \n3                                 4386                              3376  ...   \n4                                 4375                              3427  ...   \n...                                ...                               ...  ...   \n8755                              4333                              3612  ...   \n8756                              4270                              3605  ...   \n8757                              4294                              3479  ...   \n8758                              4282                              3415  ...   \n8759                              4182                              3346  ...   \n\n      Wind Onshore - BZN|SE3                            MTU (UTC)  \\\n0                      999.0  01.01.2022 00:00 - 01.01.2022 01:00   \n1                      958.0  01.01.2022 01:00 - 01.01.2022 02:00   \n2                      888.0  01.01.2022 02:00 - 01.01.2022 03:00   \n3                      788.0  01.01.2022 03:00 - 01.01.2022 04:00   \n4                      734.0  01.01.2022 04:00 - 01.01.2022 05:00   \n...                      ...                                  ...   \n8755                  1499.0  31.12.2022 19:00 - 31.12.2022 20:00   \n8756                  1282.0  31.12.2022 20:00 - 31.12.2022 21:00   \n8757                  1168.0  31.12.2022 21:00 - 31.12.2022 22:00   \n8758                  1033.0  31.12.2022 22:00 - 31.12.2022 23:00   \n8759                   877.0  31.12.2022 23:00 - 01.01.2023 00:00   \n\n     CBF BZN|NO2 > BZN|NO1 [MW]  CBF BZN|NO1 > BZN|NO2 [MW]  \\\n0                          1242                           0   \n1                          1222                           0   \n2                          1679                           0   \n3                          1668                           0   \n4                          1697                           0   \n...                         ...                         ...   \n8755                        621                           0   \n8756                        595                           0   \n8757                        608                           0   \n8758                        504                           0   \n8759                        956                           0   \n\n      CBF BZN|NO3 > BZN|NO1 [MW]  CBF BZN|NO1 > BZN|NO3 [MW]  \\\n0                            371                           0   \n1                            383                           0   \n2                            362                           0   \n3                            324                           0   \n4                            339                           0   \n...                          ...                         ...   \n8755                         146                           0   \n8756                         124                           0   \n8757                          91                           0   \n8758                          90                           0   \n8759                          83                           0   \n\n      CBF BZN|NO5 > BZN|NO1 [MW]  CBF BZN|NO1 > BZN|NO5 [MW]  \\\n0                            594                           0   \n1                            676                           0   \n2                            436                           0   \n3                            345                           0   \n4                            412                           0   \n...                          ...                         ...   \n8755                          43                           0   \n8756                          24                           0   \n8757                          41                           0   \n8758                           0                          29   \n8759                           0                          12   \n\n      CBF BZN|SE3 > BZN|NO1 [MW]  CBF BZN|NO1 > BZN|SE3 [MW]  \n0                           1065                           0  \n1                            927                           0  \n2                            748                           0  \n3                            918                           0  \n4                            826                           0  \n...                          ...                         ...  \n8755                        2083                           0  \n8756                        2097                           0  \n8757                        2007                           0  \n8758                        2119                           0  \n8759                        1612                           0  \n\n[8760 rows x 52 columns]",
      "text/html": "<div>\n<style scoped>\n    .dataframe tbody tr th:only-of-type {\n        vertical-align: middle;\n    }\n\n    .dataframe tbody tr th {\n        vertical-align: top;\n    }\n\n    .dataframe thead th {\n        text-align: right;\n    }\n</style>\n<table border=\"1\" class=\"dataframe\">\n  <thead>\n    <tr style=\"text-align: right;\">\n      <th></th>\n      <th>MTU (UTC)</th>\n      <th>Day-ahead Price [EUR/MWh] BZN|NO1</th>\n      <th>Day-ahead Price [EUR/MWh] BZN|NO2</th>\n      <th>Day-ahead Price [EUR/MWh] BZN|NO3</th>\n      <th>Day-ahead Price [EUR/MWh] BZN|NO5</th>\n      <th>Day-ahead Price [EUR/MWh] BZN|SE3</th>\n      <th>MTU (UTC)</th>\n      <th>Actual Total Load [MW] - BZN|NO1</th>\n      <th>Actual Total Load [MW] - BZN|NO2</th>\n      <th>Actual Total Load [MW] - BZN|NO3</th>\n      <th>...</th>\n      <th>Wind Onshore - BZN|SE3</th>\n      <th>MTU (UTC)</th>\n      <th>CBF BZN|NO2 &gt; BZN|NO1 [MW]</th>\n      <th>CBF BZN|NO1 &gt; BZN|NO2 [MW]</th>\n      <th>CBF BZN|NO3 &gt; BZN|NO1 [MW]</th>\n      <th>CBF BZN|NO1 &gt; BZN|NO3 [MW]</th>\n      <th>CBF BZN|NO5 &gt; BZN|NO1 [MW]</th>\n      <th>CBF BZN|NO1 &gt; BZN|NO5 [MW]</th>\n      <th>CBF BZN|SE3 &gt; BZN|NO1 [MW]</th>\n      <th>CBF BZN|NO1 &gt; BZN|SE3 [MW]</th>\n    </tr>\n  </thead>\n  <tbody>\n    <tr>\n      <th>0</th>\n      <td>01.01.2022 00:00 - 01.01.2022 01:00</td>\n      <td>129.30</td>\n      <td>129.30</td>\n      <td>41.33</td>\n      <td>129.30</td>\n      <td>41.33</td>\n      <td>01.01.2022 00:00 - 01.01.2022 01:00</td>\n      <td>4701</td>\n      <td>4440</td>\n      <td>3463</td>\n      <td>...</td>\n      <td>999.0</td>\n      <td>01.01.2022 00:00 - 01.01.2022 01:00</td>\n      <td>1242</td>\n      <td>0</td>\n      <td>371</td>\n      <td>0</td>\n      <td>594</td>\n      <td>0</td>\n      <td>1065</td>\n      <td>0</td>\n    </tr>\n    <tr>\n      <th>1</th>\n      <td>01.01.2022 01:00 - 01.01.2022 02:00</td>\n      <td>132.08</td>\n      <td>132.08</td>\n      <td>42.18</td>\n      <td>132.08</td>\n      <td>42.18</td>\n      <td>01.01.2022 01:00 - 01.01.2022 02:00</td>\n      <td>4681</td>\n      <td>4480</td>\n      <td>3388</td>\n      <td>...</td>\n      <td>958.0</td>\n      <td>01.01.2022 01:00 - 01.01.2022 02:00</td>\n      <td>1222</td>\n      <td>0</td>\n      <td>383</td>\n      <td>0</td>\n      <td>676</td>\n      <td>0</td>\n      <td>927</td>\n      <td>0</td>\n    </tr>\n    <tr>\n      <th>2</th>\n      <td>01.01.2022 02:00 - 01.01.2022 03:00</td>\n      <td>111.44</td>\n      <td>111.44</td>\n      <td>44.37</td>\n      <td>111.44</td>\n      <td>44.37</td>\n      <td>01.01.2022 02:00 - 01.01.2022 03:00</td>\n      <td>4620</td>\n      <td>4424</td>\n      <td>3387</td>\n      <td>...</td>\n      <td>888.0</td>\n      <td>01.01.2022 02:00 - 01.01.2022 03:00</td>\n      <td>1679</td>\n      <td>0</td>\n      <td>362</td>\n      <td>0</td>\n      <td>436</td>\n      <td>0</td>\n      <td>748</td>\n      <td>0</td>\n    </tr>\n    <tr>\n      <th>3</th>\n      <td>01.01.2022 03:00 - 01.01.2022 04:00</td>\n      <td>112.35</td>\n      <td>112.35</td>\n      <td>37.67</td>\n      <td>112.35</td>\n      <td>37.67</td>\n      <td>01.01.2022 03:00 - 01.01.2022 04:00</td>\n      <td>4645</td>\n      <td>4386</td>\n      <td>3376</td>\n      <td>...</td>\n      <td>788.0</td>\n      <td>01.01.2022 03:00 - 01.01.2022 04:00</td>\n      <td>1668</td>\n      <td>0</td>\n      <td>324</td>\n      <td>0</td>\n      <td>345</td>\n      <td>0</td>\n      <td>918</td>\n      <td>0</td>\n    </tr>\n    <tr>\n      <th>4</th>\n      <td>01.01.2022 04:00 - 01.01.2022 05:00</td>\n      <td>113.90</td>\n      <td>113.90</td>\n      <td>39.70</td>\n      <td>113.90</td>\n      <td>39.70</td>\n      <td>01.01.2022 04:00 - 01.01.2022 05:00</td>\n      <td>4670</td>\n      <td>4375</td>\n      <td>3427</td>\n      <td>...</td>\n      <td>734.0</td>\n      <td>01.01.2022 04:00 - 01.01.2022 05:00</td>\n      <td>1697</td>\n      <td>0</td>\n      <td>339</td>\n      <td>0</td>\n      <td>412</td>\n      <td>0</td>\n      <td>826</td>\n      <td>0</td>\n    </tr>\n    <tr>\n      <th>...</th>\n      <td>...</td>\n      <td>...</td>\n      <td>...</td>\n      <td>...</td>\n      <td>...</td>\n      <td>...</td>\n      <td>...</td>\n      <td>...</td>\n      <td>...</td>\n      <td>...</td>\n      <td>...</td>\n      <td>...</td>\n      <td>...</td>\n      <td>...</td>\n      <td>...</td>\n      <td>...</td>\n      <td>...</td>\n      <td>...</td>\n      <td>...</td>\n      <td>...</td>\n      <td>...</td>\n    </tr>\n    <tr>\n      <th>8755</th>\n      <td>31.12.2022 19:00 - 31.12.2022 20:00</td>\n      <td>123.61</td>\n      <td>123.61</td>\n      <td>23.82</td>\n      <td>123.61</td>\n      <td>11.57</td>\n      <td>31.12.2022 19:00 - 31.12.2022 20:00</td>\n      <td>4650</td>\n      <td>4333</td>\n      <td>3612</td>\n      <td>...</td>\n      <td>1499.0</td>\n      <td>31.12.2022 19:00 - 31.12.2022 20:00</td>\n      <td>621</td>\n      <td>0</td>\n      <td>146</td>\n      <td>0</td>\n      <td>43</td>\n      <td>0</td>\n      <td>2083</td>\n      <td>0</td>\n    </tr>\n    <tr>\n      <th>8756</th>\n      <td>31.12.2022 20:00 - 31.12.2022 21:00</td>\n      <td>121.09</td>\n      <td>121.09</td>\n      <td>23.93</td>\n      <td>121.09</td>\n      <td>14.89</td>\n      <td>31.12.2022 20:00 - 31.12.2022 21:00</td>\n      <td>4573</td>\n      <td>4270</td>\n      <td>3605</td>\n      <td>...</td>\n      <td>1282.0</td>\n      <td>31.12.2022 20:00 - 31.12.2022 21:00</td>\n      <td>595</td>\n      <td>0</td>\n      <td>124</td>\n      <td>0</td>\n      <td>24</td>\n      <td>0</td>\n      <td>2097</td>\n      <td>0</td>\n    </tr>\n    <tr>\n      <th>8757</th>\n      <td>31.12.2022 21:00 - 31.12.2022 22:00</td>\n      <td>120.00</td>\n      <td>120.00</td>\n      <td>23.75</td>\n      <td>120.00</td>\n      <td>9.94</td>\n      <td>31.12.2022 21:00 - 31.12.2022 22:00</td>\n      <td>4453</td>\n      <td>4294</td>\n      <td>3479</td>\n      <td>...</td>\n      <td>1168.0</td>\n      <td>31.12.2022 21:00 - 31.12.2022 22:00</td>\n      <td>608</td>\n      <td>0</td>\n      <td>91</td>\n      <td>0</td>\n      <td>41</td>\n      <td>0</td>\n      <td>2007</td>\n      <td>0</td>\n    </tr>\n    <tr>\n      <th>8758</th>\n      <td>31.12.2022 22:00 - 31.12.2022 23:00</td>\n      <td>119.98</td>\n      <td>119.98</td>\n      <td>23.56</td>\n      <td>119.98</td>\n      <td>4.84</td>\n      <td>31.12.2022 22:00 - 31.12.2022 23:00</td>\n      <td>4389</td>\n      <td>4282</td>\n      <td>3415</td>\n      <td>...</td>\n      <td>1033.0</td>\n      <td>31.12.2022 22:00 - 31.12.2022 23:00</td>\n      <td>504</td>\n      <td>0</td>\n      <td>90</td>\n      <td>0</td>\n      <td>0</td>\n      <td>29</td>\n      <td>2119</td>\n      <td>0</td>\n    </tr>\n    <tr>\n      <th>8759</th>\n      <td>31.12.2022 23:00 - 01.01.2023 00:00</td>\n      <td>119.32</td>\n      <td>119.32</td>\n      <td>23.35</td>\n      <td>119.32</td>\n      <td>2.01</td>\n      <td>31.12.2022 23:00 - 01.01.2023 00:00</td>\n      <td>4444</td>\n      <td>4182</td>\n      <td>3346</td>\n      <td>...</td>\n      <td>877.0</td>\n      <td>31.12.2022 23:00 - 01.01.2023 00:00</td>\n      <td>956</td>\n      <td>0</td>\n      <td>83</td>\n      <td>0</td>\n      <td>0</td>\n      <td>12</td>\n      <td>1612</td>\n      <td>0</td>\n    </tr>\n  </tbody>\n</table>\n<p>8760 rows × 52 columns</p>\n</div>"
     },
     "execution_count": 301,
     "metadata": {},
     "output_type": "execute_result"
    }
   ],
   "source": [
    "pd.concat(no1_dataframes, axis=1)"
   ]
  },
  {
   "cell_type": "code",
   "execution_count": 302,
   "id": "d68cc441",
   "metadata": {},
   "outputs": [
    {
     "name": "stdout",
     "output_type": "stream",
     "text": [
      "8760\n",
      "8760\n",
      "8760\n",
      "8760\n"
     ]
    }
   ],
   "source": [
    "print(len(prices))\n",
    "print(len(load))\n",
    "print(len(actual_generation_selected))\n",
    "print(len(import_export_no1_neighbours))"
   ]
  },
  {
   "cell_type": "code",
   "execution_count": 303,
   "id": "27797a57",
   "metadata": {},
   "outputs": [
    {
     "data": {
      "text/plain": "                                MTU (UTC)  Day-ahead Price [EUR/MWh] BZN|NO1  \\\n0     01.01.2022 00:00 - 01.01.2022 01:00                             129.30   \n1     01.01.2022 01:00 - 01.01.2022 02:00                             132.08   \n2     01.01.2022 02:00 - 01.01.2022 03:00                             111.44   \n3     01.01.2022 03:00 - 01.01.2022 04:00                             112.35   \n4     01.01.2022 04:00 - 01.01.2022 05:00                             113.90   \n...                                   ...                                ...   \n8755  31.12.2022 19:00 - 31.12.2022 20:00                             123.61   \n8756  31.12.2022 20:00 - 31.12.2022 21:00                             121.09   \n8757  31.12.2022 21:00 - 31.12.2022 22:00                             120.00   \n8758  31.12.2022 22:00 - 31.12.2022 23:00                             119.98   \n8759  31.12.2022 23:00 - 01.01.2023 00:00                             119.32   \n\n      Day-ahead Price [EUR/MWh] BZN|NO2  Day-ahead Price [EUR/MWh] BZN|NO3  \\\n0                                129.30                              41.33   \n1                                132.08                              42.18   \n2                                111.44                              44.37   \n3                                112.35                              37.67   \n4                                113.90                              39.70   \n...                                 ...                                ...   \n8755                             123.61                              23.82   \n8756                             121.09                              23.93   \n8757                             120.00                              23.75   \n8758                             119.98                              23.56   \n8759                             119.32                              23.35   \n\n      Day-ahead Price [EUR/MWh] BZN|NO5  Day-ahead Price [EUR/MWh] BZN|SE3  \\\n0                                129.30                              41.33   \n1                                132.08                              42.18   \n2                                111.44                              44.37   \n3                                112.35                              37.67   \n4                                113.90                              39.70   \n...                                 ...                                ...   \n8755                             123.61                              11.57   \n8756                             121.09                              14.89   \n8757                             120.00                               9.94   \n8758                             119.98                               4.84   \n8759                             119.32                               2.01   \n\n      Actual Total Load [MW] - BZN|NO1  Actual Total Load [MW] - BZN|NO2  \\\n0                                 4701                              4440   \n1                                 4681                              4480   \n2                                 4620                              4424   \n3                                 4645                              4386   \n4                                 4670                              4375   \n...                                ...                               ...   \n8755                              4650                              4333   \n8756                              4573                              4270   \n8757                              4453                              4294   \n8758                              4389                              4282   \n8759                              4444                              4182   \n\n      Actual Total Load [MW] - BZN|NO3  Actual Total Load [MW] - BZN|NO5  \\\n0                                 3463                              1991   \n1                                 3388                              1969   \n2                                 3387                              1911   \n3                                 3376                              1996   \n4                                 3427                              1953   \n...                                ...                               ...   \n8755                              3612                              2128   \n8756                              3605                              2089   \n8757                              3479                              2037   \n8758                              3415                              1991   \n8759                              3346                              2009   \n\n      Actual Total Load [MW] - BZN|SE3  \n0                                 9612  \n1                                 9601  \n2                                 9552  \n3                                 9449  \n4                                 9614  \n...                                ...  \n8755                              9602  \n8756                              9251  \n8757                              9092  \n8758                              8944  \n8759                              8955  \n\n[8760 rows x 11 columns]",
      "text/html": "<div>\n<style scoped>\n    .dataframe tbody tr th:only-of-type {\n        vertical-align: middle;\n    }\n\n    .dataframe tbody tr th {\n        vertical-align: top;\n    }\n\n    .dataframe thead th {\n        text-align: right;\n    }\n</style>\n<table border=\"1\" class=\"dataframe\">\n  <thead>\n    <tr style=\"text-align: right;\">\n      <th></th>\n      <th>MTU (UTC)</th>\n      <th>Day-ahead Price [EUR/MWh] BZN|NO1</th>\n      <th>Day-ahead Price [EUR/MWh] BZN|NO2</th>\n      <th>Day-ahead Price [EUR/MWh] BZN|NO3</th>\n      <th>Day-ahead Price [EUR/MWh] BZN|NO5</th>\n      <th>Day-ahead Price [EUR/MWh] BZN|SE3</th>\n      <th>Actual Total Load [MW] - BZN|NO1</th>\n      <th>Actual Total Load [MW] - BZN|NO2</th>\n      <th>Actual Total Load [MW] - BZN|NO3</th>\n      <th>Actual Total Load [MW] - BZN|NO5</th>\n      <th>Actual Total Load [MW] - BZN|SE3</th>\n    </tr>\n  </thead>\n  <tbody>\n    <tr>\n      <th>0</th>\n      <td>01.01.2022 00:00 - 01.01.2022 01:00</td>\n      <td>129.30</td>\n      <td>129.30</td>\n      <td>41.33</td>\n      <td>129.30</td>\n      <td>41.33</td>\n      <td>4701</td>\n      <td>4440</td>\n      <td>3463</td>\n      <td>1991</td>\n      <td>9612</td>\n    </tr>\n    <tr>\n      <th>1</th>\n      <td>01.01.2022 01:00 - 01.01.2022 02:00</td>\n      <td>132.08</td>\n      <td>132.08</td>\n      <td>42.18</td>\n      <td>132.08</td>\n      <td>42.18</td>\n      <td>4681</td>\n      <td>4480</td>\n      <td>3388</td>\n      <td>1969</td>\n      <td>9601</td>\n    </tr>\n    <tr>\n      <th>2</th>\n      <td>01.01.2022 02:00 - 01.01.2022 03:00</td>\n      <td>111.44</td>\n      <td>111.44</td>\n      <td>44.37</td>\n      <td>111.44</td>\n      <td>44.37</td>\n      <td>4620</td>\n      <td>4424</td>\n      <td>3387</td>\n      <td>1911</td>\n      <td>9552</td>\n    </tr>\n    <tr>\n      <th>3</th>\n      <td>01.01.2022 03:00 - 01.01.2022 04:00</td>\n      <td>112.35</td>\n      <td>112.35</td>\n      <td>37.67</td>\n      <td>112.35</td>\n      <td>37.67</td>\n      <td>4645</td>\n      <td>4386</td>\n      <td>3376</td>\n      <td>1996</td>\n      <td>9449</td>\n    </tr>\n    <tr>\n      <th>4</th>\n      <td>01.01.2022 04:00 - 01.01.2022 05:00</td>\n      <td>113.90</td>\n      <td>113.90</td>\n      <td>39.70</td>\n      <td>113.90</td>\n      <td>39.70</td>\n      <td>4670</td>\n      <td>4375</td>\n      <td>3427</td>\n      <td>1953</td>\n      <td>9614</td>\n    </tr>\n    <tr>\n      <th>...</th>\n      <td>...</td>\n      <td>...</td>\n      <td>...</td>\n      <td>...</td>\n      <td>...</td>\n      <td>...</td>\n      <td>...</td>\n      <td>...</td>\n      <td>...</td>\n      <td>...</td>\n      <td>...</td>\n    </tr>\n    <tr>\n      <th>8755</th>\n      <td>31.12.2022 19:00 - 31.12.2022 20:00</td>\n      <td>123.61</td>\n      <td>123.61</td>\n      <td>23.82</td>\n      <td>123.61</td>\n      <td>11.57</td>\n      <td>4650</td>\n      <td>4333</td>\n      <td>3612</td>\n      <td>2128</td>\n      <td>9602</td>\n    </tr>\n    <tr>\n      <th>8756</th>\n      <td>31.12.2022 20:00 - 31.12.2022 21:00</td>\n      <td>121.09</td>\n      <td>121.09</td>\n      <td>23.93</td>\n      <td>121.09</td>\n      <td>14.89</td>\n      <td>4573</td>\n      <td>4270</td>\n      <td>3605</td>\n      <td>2089</td>\n      <td>9251</td>\n    </tr>\n    <tr>\n      <th>8757</th>\n      <td>31.12.2022 21:00 - 31.12.2022 22:00</td>\n      <td>120.00</td>\n      <td>120.00</td>\n      <td>23.75</td>\n      <td>120.00</td>\n      <td>9.94</td>\n      <td>4453</td>\n      <td>4294</td>\n      <td>3479</td>\n      <td>2037</td>\n      <td>9092</td>\n    </tr>\n    <tr>\n      <th>8758</th>\n      <td>31.12.2022 22:00 - 31.12.2022 23:00</td>\n      <td>119.98</td>\n      <td>119.98</td>\n      <td>23.56</td>\n      <td>119.98</td>\n      <td>4.84</td>\n      <td>4389</td>\n      <td>4282</td>\n      <td>3415</td>\n      <td>1991</td>\n      <td>8944</td>\n    </tr>\n    <tr>\n      <th>8759</th>\n      <td>31.12.2022 23:00 - 01.01.2023 00:00</td>\n      <td>119.32</td>\n      <td>119.32</td>\n      <td>23.35</td>\n      <td>119.32</td>\n      <td>2.01</td>\n      <td>4444</td>\n      <td>4182</td>\n      <td>3346</td>\n      <td>2009</td>\n      <td>8955</td>\n    </tr>\n  </tbody>\n</table>\n<p>8760 rows × 11 columns</p>\n</div>"
     },
     "execution_count": 303,
     "metadata": {},
     "output_type": "execute_result"
    }
   ],
   "source": [
    "pd.merge(prices, load, on=['MTU (UTC)'])"
   ]
  },
  {
   "cell_type": "code",
   "execution_count": 304,
   "id": "826a676e",
   "metadata": {},
   "outputs": [
    {
     "data": {
      "text/plain": "                                MTU (UTC)  Biomass - BZN|NO1  \\\n0     01.01.2022 00:00 - 01.01.2022 01:00                  0   \n1     01.01.2022 01:00 - 01.01.2022 02:00                  0   \n2     01.01.2022 02:00 - 01.01.2022 03:00                  0   \n3     01.01.2022 03:00 - 01.01.2022 04:00                  0   \n4     01.01.2022 04:00 - 01.01.2022 05:00                  0   \n...                                   ...                ...   \n8755  31.12.2022 19:00 - 31.12.2022 20:00                  0   \n8756  31.12.2022 20:00 - 31.12.2022 21:00                  0   \n8757  31.12.2022 21:00 - 31.12.2022 22:00                  0   \n8758  31.12.2022 22:00 - 31.12.2022 23:00                  0   \n8759  31.12.2022 23:00 - 01.01.2023 00:00                  0   \n\n      Fossil Gas - BZN|NO1  Hydro Run-of-river and poundage - BZN|NO1_x  \\\n0                        0                                          878   \n1                        0                                          897   \n2                        0                                          885   \n3                        0                                          890   \n4                        0                                          892   \n...                    ...                                          ...   \n8755                     0                                          992   \n8756                     0                                          980   \n8757                     0                                          980   \n8758                     0                                          989   \n8759                     0                                         1006   \n\n      Hydro Water Reservoir - BZN|NO1  Waste - BZN|NO1  \\\n0                                 321                8   \n1                                 330                8   \n2                                 275                8   \n3                                 269                8   \n4                                 300                8   \n...                               ...              ...   \n8755                              621                8   \n8756                              610                8   \n8757                              588                8   \n8758                              585                7   \n8759                              583                8   \n\n      Wind Onshore - BZN|NO1  Fossil Gas - BZN|NO2  \\\n0                        172                     0   \n1                        151                     0   \n2                        160                     0   \n3                        148                     0   \n4                        147                     0   \n...                      ...                   ...   \n8755                      74                     0   \n8756                      55                     0   \n8757                      67                     0   \n8758                      69                     0   \n8759                      74                     0   \n\n      Hydro Pumped Storage Aggregated- BZN|NO2  \\\n0                                            1   \n1                                            1   \n2                                            1   \n3                                            1   \n4                                            1   \n...                                        ...   \n8755                                         1   \n8756                                         1   \n8757                                         1   \n8758                                         0   \n8759                                         0   \n\n      Hydro Run-of-river and poundage - BZN|NO1_y  ...  Solar - BZN|SE3  \\\n0                                             629  ...              0.0   \n1                                             627  ...              0.0   \n2                                             624  ...              0.0   \n3                                             624  ...              0.0   \n4                                             605  ...              0.0   \n...                                           ...  ...              ...   \n8755                                          823  ...              0.0   \n8756                                          828  ...              0.0   \n8757                                          814  ...              0.0   \n8758                                          814  ...              0.0   \n8759                                          761  ...              0.0   \n\n      Wind Onshore - BZN|SE3  CBF BZN|NO2 > BZN|NO1 [MW]  \\\n0                      999.0                        1242   \n1                      958.0                        1222   \n2                      888.0                        1679   \n3                      788.0                        1668   \n4                      734.0                        1697   \n...                      ...                         ...   \n8755                  1499.0                         621   \n8756                  1282.0                         595   \n8757                  1168.0                         608   \n8758                  1033.0                         504   \n8759                   877.0                         956   \n\n      CBF BZN|NO1 > BZN|NO2 [MW]  CBF BZN|NO3 > BZN|NO1 [MW]  \\\n0                              0                         371   \n1                              0                         383   \n2                              0                         362   \n3                              0                         324   \n4                              0                         339   \n...                          ...                         ...   \n8755                           0                         146   \n8756                           0                         124   \n8757                           0                          91   \n8758                           0                          90   \n8759                           0                          83   \n\n      CBF BZN|NO1 > BZN|NO3 [MW]  CBF BZN|NO5 > BZN|NO1 [MW]  \\\n0                              0                         594   \n1                              0                         676   \n2                              0                         436   \n3                              0                         345   \n4                              0                         412   \n...                          ...                         ...   \n8755                           0                          43   \n8756                           0                          24   \n8757                           0                          41   \n8758                           0                           0   \n8759                           0                           0   \n\n      CBF BZN|NO1 > BZN|NO5 [MW]  CBF BZN|SE3 > BZN|NO1 [MW]  \\\n0                              0                        1065   \n1                              0                         927   \n2                              0                         748   \n3                              0                         918   \n4                              0                         826   \n...                          ...                         ...   \n8755                           0                        2083   \n8756                           0                        2097   \n8757                           0                        2007   \n8758                          29                        2119   \n8759                          12                        1612   \n\n      CBF BZN|NO1 > BZN|SE3 [MW]  \n0                              0  \n1                              0  \n2                              0  \n3                              0  \n4                              0  \n...                          ...  \n8755                           0  \n8756                           0  \n8757                           0  \n8758                           0  \n8759                           0  \n\n[8760 rows x 39 columns]",
      "text/html": "<div>\n<style scoped>\n    .dataframe tbody tr th:only-of-type {\n        vertical-align: middle;\n    }\n\n    .dataframe tbody tr th {\n        vertical-align: top;\n    }\n\n    .dataframe thead th {\n        text-align: right;\n    }\n</style>\n<table border=\"1\" class=\"dataframe\">\n  <thead>\n    <tr style=\"text-align: right;\">\n      <th></th>\n      <th>MTU (UTC)</th>\n      <th>Biomass - BZN|NO1</th>\n      <th>Fossil Gas - BZN|NO1</th>\n      <th>Hydro Run-of-river and poundage - BZN|NO1_x</th>\n      <th>Hydro Water Reservoir - BZN|NO1</th>\n      <th>Waste - BZN|NO1</th>\n      <th>Wind Onshore - BZN|NO1</th>\n      <th>Fossil Gas - BZN|NO2</th>\n      <th>Hydro Pumped Storage Aggregated- BZN|NO2</th>\n      <th>Hydro Run-of-river and poundage - BZN|NO1_y</th>\n      <th>...</th>\n      <th>Solar - BZN|SE3</th>\n      <th>Wind Onshore - BZN|SE3</th>\n      <th>CBF BZN|NO2 &gt; BZN|NO1 [MW]</th>\n      <th>CBF BZN|NO1 &gt; BZN|NO2 [MW]</th>\n      <th>CBF BZN|NO3 &gt; BZN|NO1 [MW]</th>\n      <th>CBF BZN|NO1 &gt; BZN|NO3 [MW]</th>\n      <th>CBF BZN|NO5 &gt; BZN|NO1 [MW]</th>\n      <th>CBF BZN|NO1 &gt; BZN|NO5 [MW]</th>\n      <th>CBF BZN|SE3 &gt; BZN|NO1 [MW]</th>\n      <th>CBF BZN|NO1 &gt; BZN|SE3 [MW]</th>\n    </tr>\n  </thead>\n  <tbody>\n    <tr>\n      <th>0</th>\n      <td>01.01.2022 00:00 - 01.01.2022 01:00</td>\n      <td>0</td>\n      <td>0</td>\n      <td>878</td>\n      <td>321</td>\n      <td>8</td>\n      <td>172</td>\n      <td>0</td>\n      <td>1</td>\n      <td>629</td>\n      <td>...</td>\n      <td>0.0</td>\n      <td>999.0</td>\n      <td>1242</td>\n      <td>0</td>\n      <td>371</td>\n      <td>0</td>\n      <td>594</td>\n      <td>0</td>\n      <td>1065</td>\n      <td>0</td>\n    </tr>\n    <tr>\n      <th>1</th>\n      <td>01.01.2022 01:00 - 01.01.2022 02:00</td>\n      <td>0</td>\n      <td>0</td>\n      <td>897</td>\n      <td>330</td>\n      <td>8</td>\n      <td>151</td>\n      <td>0</td>\n      <td>1</td>\n      <td>627</td>\n      <td>...</td>\n      <td>0.0</td>\n      <td>958.0</td>\n      <td>1222</td>\n      <td>0</td>\n      <td>383</td>\n      <td>0</td>\n      <td>676</td>\n      <td>0</td>\n      <td>927</td>\n      <td>0</td>\n    </tr>\n    <tr>\n      <th>2</th>\n      <td>01.01.2022 02:00 - 01.01.2022 03:00</td>\n      <td>0</td>\n      <td>0</td>\n      <td>885</td>\n      <td>275</td>\n      <td>8</td>\n      <td>160</td>\n      <td>0</td>\n      <td>1</td>\n      <td>624</td>\n      <td>...</td>\n      <td>0.0</td>\n      <td>888.0</td>\n      <td>1679</td>\n      <td>0</td>\n      <td>362</td>\n      <td>0</td>\n      <td>436</td>\n      <td>0</td>\n      <td>748</td>\n      <td>0</td>\n    </tr>\n    <tr>\n      <th>3</th>\n      <td>01.01.2022 03:00 - 01.01.2022 04:00</td>\n      <td>0</td>\n      <td>0</td>\n      <td>890</td>\n      <td>269</td>\n      <td>8</td>\n      <td>148</td>\n      <td>0</td>\n      <td>1</td>\n      <td>624</td>\n      <td>...</td>\n      <td>0.0</td>\n      <td>788.0</td>\n      <td>1668</td>\n      <td>0</td>\n      <td>324</td>\n      <td>0</td>\n      <td>345</td>\n      <td>0</td>\n      <td>918</td>\n      <td>0</td>\n    </tr>\n    <tr>\n      <th>4</th>\n      <td>01.01.2022 04:00 - 01.01.2022 05:00</td>\n      <td>0</td>\n      <td>0</td>\n      <td>892</td>\n      <td>300</td>\n      <td>8</td>\n      <td>147</td>\n      <td>0</td>\n      <td>1</td>\n      <td>605</td>\n      <td>...</td>\n      <td>0.0</td>\n      <td>734.0</td>\n      <td>1697</td>\n      <td>0</td>\n      <td>339</td>\n      <td>0</td>\n      <td>412</td>\n      <td>0</td>\n      <td>826</td>\n      <td>0</td>\n    </tr>\n    <tr>\n      <th>...</th>\n      <td>...</td>\n      <td>...</td>\n      <td>...</td>\n      <td>...</td>\n      <td>...</td>\n      <td>...</td>\n      <td>...</td>\n      <td>...</td>\n      <td>...</td>\n      <td>...</td>\n      <td>...</td>\n      <td>...</td>\n      <td>...</td>\n      <td>...</td>\n      <td>...</td>\n      <td>...</td>\n      <td>...</td>\n      <td>...</td>\n      <td>...</td>\n      <td>...</td>\n      <td>...</td>\n    </tr>\n    <tr>\n      <th>8755</th>\n      <td>31.12.2022 19:00 - 31.12.2022 20:00</td>\n      <td>0</td>\n      <td>0</td>\n      <td>992</td>\n      <td>621</td>\n      <td>8</td>\n      <td>74</td>\n      <td>0</td>\n      <td>1</td>\n      <td>823</td>\n      <td>...</td>\n      <td>0.0</td>\n      <td>1499.0</td>\n      <td>621</td>\n      <td>0</td>\n      <td>146</td>\n      <td>0</td>\n      <td>43</td>\n      <td>0</td>\n      <td>2083</td>\n      <td>0</td>\n    </tr>\n    <tr>\n      <th>8756</th>\n      <td>31.12.2022 20:00 - 31.12.2022 21:00</td>\n      <td>0</td>\n      <td>0</td>\n      <td>980</td>\n      <td>610</td>\n      <td>8</td>\n      <td>55</td>\n      <td>0</td>\n      <td>1</td>\n      <td>828</td>\n      <td>...</td>\n      <td>0.0</td>\n      <td>1282.0</td>\n      <td>595</td>\n      <td>0</td>\n      <td>124</td>\n      <td>0</td>\n      <td>24</td>\n      <td>0</td>\n      <td>2097</td>\n      <td>0</td>\n    </tr>\n    <tr>\n      <th>8757</th>\n      <td>31.12.2022 21:00 - 31.12.2022 22:00</td>\n      <td>0</td>\n      <td>0</td>\n      <td>980</td>\n      <td>588</td>\n      <td>8</td>\n      <td>67</td>\n      <td>0</td>\n      <td>1</td>\n      <td>814</td>\n      <td>...</td>\n      <td>0.0</td>\n      <td>1168.0</td>\n      <td>608</td>\n      <td>0</td>\n      <td>91</td>\n      <td>0</td>\n      <td>41</td>\n      <td>0</td>\n      <td>2007</td>\n      <td>0</td>\n    </tr>\n    <tr>\n      <th>8758</th>\n      <td>31.12.2022 22:00 - 31.12.2022 23:00</td>\n      <td>0</td>\n      <td>0</td>\n      <td>989</td>\n      <td>585</td>\n      <td>7</td>\n      <td>69</td>\n      <td>0</td>\n      <td>0</td>\n      <td>814</td>\n      <td>...</td>\n      <td>0.0</td>\n      <td>1033.0</td>\n      <td>504</td>\n      <td>0</td>\n      <td>90</td>\n      <td>0</td>\n      <td>0</td>\n      <td>29</td>\n      <td>2119</td>\n      <td>0</td>\n    </tr>\n    <tr>\n      <th>8759</th>\n      <td>31.12.2022 23:00 - 01.01.2023 00:00</td>\n      <td>0</td>\n      <td>0</td>\n      <td>1006</td>\n      <td>583</td>\n      <td>8</td>\n      <td>74</td>\n      <td>0</td>\n      <td>0</td>\n      <td>761</td>\n      <td>...</td>\n      <td>0.0</td>\n      <td>877.0</td>\n      <td>956</td>\n      <td>0</td>\n      <td>83</td>\n      <td>0</td>\n      <td>0</td>\n      <td>12</td>\n      <td>1612</td>\n      <td>0</td>\n    </tr>\n  </tbody>\n</table>\n<p>8760 rows × 39 columns</p>\n</div>"
     },
     "execution_count": 304,
     "metadata": {},
     "output_type": "execute_result"
    }
   ],
   "source": [
    "pd.merge(actual_generation_selected, import_export_no1_neighbours, on=['MTU (UTC)'])\n",
    "\n"
   ]
  },
  {
   "cell_type": "code",
   "execution_count": 304,
   "id": "3673210b",
   "metadata": {},
   "outputs": [],
   "source": []
  }
 ],
 "metadata": {
  "kernelspec": {
   "display_name": "Python 3 (ipykernel)",
   "language": "python",
   "name": "python3"
  },
  "language_info": {
   "codemirror_mode": {
    "name": "ipython",
    "version": 3
   },
   "file_extension": ".py",
   "mimetype": "text/x-python",
   "name": "python",
   "nbconvert_exporter": "python",
   "pygments_lexer": "ipython3",
   "version": "3.8.5"
  }
 },
 "nbformat": 4,
 "nbformat_minor": 5
}
