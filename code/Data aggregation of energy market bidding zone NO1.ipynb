{
 "cells": [
  {
   "cell_type": "markdown",
   "id": "5b87d25b",
   "metadata": {},
   "source": [
    "## Data aggregation of energy market prices in bidding zone NO1 (Norway Østlandet) and neighbouring zones for the year of 2022"
   ]
  },
  {
   "cell_type": "markdown",
   "id": "2eb69a78",
   "metadata": {},
   "source": [
    "### Dependencies"
   ]
  },
  {
   "cell_type": "code",
   "execution_count": 1,
   "id": "5d5de126",
   "metadata": {},
   "outputs": [],
   "source": [
    "# importing dependencies to aggregate dataset\n",
    "import pandas as pd # data processing, CSV file I/O (e.g. pd.read_csv)\n",
    "\n",
    "from functools import reduce # used to merge the dataset"
   ]
  },
  {
   "cell_type": "markdown",
   "id": "21a8d1fd",
   "metadata": {},
   "source": [
    "### Aggregation of pricing data\n",
    "Pricing data is of spot (day-ahead) market prices in the currency Euro per MWh"
   ]
  },
  {
   "cell_type": "markdown",
   "id": "2af9f605",
   "metadata": {},
   "source": [
    "Importing price data from each zone"
   ]
  },
  {
   "cell_type": "code",
   "execution_count": 2,
   "id": "9bd79e8c",
   "metadata": {},
   "outputs": [
    {
     "name": "stdout",
     "output_type": "stream",
     "text": [
      "(8760, 4)\n",
      "(8760, 4)\n",
      "(8760, 4)\n",
      "(8760, 4)\n",
      "(8760, 4)\n"
     ]
    }
   ],
   "source": [
    "# reading price csv to dataframes\n",
    "prices_no1 = pd.read_csv(\"../datasets/prices/NO1 Day-ahead Prices_202201010000-202301010000.csv\")\n",
    "prices_no2 = pd.read_csv(\"../datasets/prices/NO2 Day-ahead Prices_202201010000-202301010000.csv\")\n",
    "prices_no3 = pd.read_csv(\"../datasets/prices/NO3 Day-ahead Prices_202201010000-202301010000.csv\")\n",
    "prices_no5 = pd.read_csv(\"../datasets/prices/NO5 Day-ahead Prices_202201010000-202301010000.csv\")\n",
    "prices_se3 = pd.read_csv(\"../datasets/prices/SE3 Day-ahead Prices_202201010000-202301010000.csv\")\n",
    "\n",
    "# creating list of price dataframes\n",
    "prices_dataframes = [prices_no1, prices_no2, prices_no3, prices_no5, prices_se3]\n",
    "\n",
    "# checking shape of each dataframe to see if all dataframes have the same number of rows\n",
    "# row length should be 24 * 365 = 8760\n",
    "for i in prices_dataframes:\n",
    "    print(i.shape)"
   ]
  },
  {
   "cell_type": "markdown",
   "id": "3067050c",
   "metadata": {},
   "source": [
    "We see that all dataframes contain the correct number of rows.\n",
    "\n",
    "Printing out first rows of each dataset to see the structure and content of the dataframes."
   ]
  },
  {
   "cell_type": "code",
   "execution_count": 3,
   "id": "e6202e1c",
   "metadata": {},
   "outputs": [
    {
     "data": {
      "text/plain": "                             MTU (UTC)  Day-ahead Price [EUR/MWh] Currency  \\\n0  01.01.2022 00:00 - 01.01.2022 01:00                     129.30      EUR   \n1  01.01.2022 01:00 - 01.01.2022 02:00                     132.08      EUR   \n2  01.01.2022 02:00 - 01.01.2022 03:00                     111.44      EUR   \n3  01.01.2022 03:00 - 01.01.2022 04:00                     112.35      EUR   \n4  01.01.2022 04:00 - 01.01.2022 05:00                     113.90      EUR   \n\n   BZN|NO1  \n0      NaN  \n1      NaN  \n2      NaN  \n3      NaN  \n4      NaN  ",
      "text/html": "<div>\n<style scoped>\n    .dataframe tbody tr th:only-of-type {\n        vertical-align: middle;\n    }\n\n    .dataframe tbody tr th {\n        vertical-align: top;\n    }\n\n    .dataframe thead th {\n        text-align: right;\n    }\n</style>\n<table border=\"1\" class=\"dataframe\">\n  <thead>\n    <tr style=\"text-align: right;\">\n      <th></th>\n      <th>MTU (UTC)</th>\n      <th>Day-ahead Price [EUR/MWh]</th>\n      <th>Currency</th>\n      <th>BZN|NO1</th>\n    </tr>\n  </thead>\n  <tbody>\n    <tr>\n      <th>0</th>\n      <td>01.01.2022 00:00 - 01.01.2022 01:00</td>\n      <td>129.30</td>\n      <td>EUR</td>\n      <td>NaN</td>\n    </tr>\n    <tr>\n      <th>1</th>\n      <td>01.01.2022 01:00 - 01.01.2022 02:00</td>\n      <td>132.08</td>\n      <td>EUR</td>\n      <td>NaN</td>\n    </tr>\n    <tr>\n      <th>2</th>\n      <td>01.01.2022 02:00 - 01.01.2022 03:00</td>\n      <td>111.44</td>\n      <td>EUR</td>\n      <td>NaN</td>\n    </tr>\n    <tr>\n      <th>3</th>\n      <td>01.01.2022 03:00 - 01.01.2022 04:00</td>\n      <td>112.35</td>\n      <td>EUR</td>\n      <td>NaN</td>\n    </tr>\n    <tr>\n      <th>4</th>\n      <td>01.01.2022 04:00 - 01.01.2022 05:00</td>\n      <td>113.90</td>\n      <td>EUR</td>\n      <td>NaN</td>\n    </tr>\n  </tbody>\n</table>\n</div>"
     },
     "execution_count": 3,
     "metadata": {},
     "output_type": "execute_result"
    }
   ],
   "source": [
    "prices_no1.head()"
   ]
  },
  {
   "cell_type": "code",
   "execution_count": 4,
   "id": "5edabdc5",
   "metadata": {},
   "outputs": [
    {
     "data": {
      "text/plain": "                             MTU (UTC)  Day-ahead Price [EUR/MWh] Currency  \\\n0  01.01.2022 00:00 - 01.01.2022 01:00                     129.30      EUR   \n1  01.01.2022 01:00 - 01.01.2022 02:00                     132.08      EUR   \n2  01.01.2022 02:00 - 01.01.2022 03:00                     111.44      EUR   \n3  01.01.2022 03:00 - 01.01.2022 04:00                     112.35      EUR   \n4  01.01.2022 04:00 - 01.01.2022 05:00                     113.90      EUR   \n\n   BZN|NO2  \n0      NaN  \n1      NaN  \n2      NaN  \n3      NaN  \n4      NaN  ",
      "text/html": "<div>\n<style scoped>\n    .dataframe tbody tr th:only-of-type {\n        vertical-align: middle;\n    }\n\n    .dataframe tbody tr th {\n        vertical-align: top;\n    }\n\n    .dataframe thead th {\n        text-align: right;\n    }\n</style>\n<table border=\"1\" class=\"dataframe\">\n  <thead>\n    <tr style=\"text-align: right;\">\n      <th></th>\n      <th>MTU (UTC)</th>\n      <th>Day-ahead Price [EUR/MWh]</th>\n      <th>Currency</th>\n      <th>BZN|NO2</th>\n    </tr>\n  </thead>\n  <tbody>\n    <tr>\n      <th>0</th>\n      <td>01.01.2022 00:00 - 01.01.2022 01:00</td>\n      <td>129.30</td>\n      <td>EUR</td>\n      <td>NaN</td>\n    </tr>\n    <tr>\n      <th>1</th>\n      <td>01.01.2022 01:00 - 01.01.2022 02:00</td>\n      <td>132.08</td>\n      <td>EUR</td>\n      <td>NaN</td>\n    </tr>\n    <tr>\n      <th>2</th>\n      <td>01.01.2022 02:00 - 01.01.2022 03:00</td>\n      <td>111.44</td>\n      <td>EUR</td>\n      <td>NaN</td>\n    </tr>\n    <tr>\n      <th>3</th>\n      <td>01.01.2022 03:00 - 01.01.2022 04:00</td>\n      <td>112.35</td>\n      <td>EUR</td>\n      <td>NaN</td>\n    </tr>\n    <tr>\n      <th>4</th>\n      <td>01.01.2022 04:00 - 01.01.2022 05:00</td>\n      <td>113.90</td>\n      <td>EUR</td>\n      <td>NaN</td>\n    </tr>\n  </tbody>\n</table>\n</div>"
     },
     "execution_count": 4,
     "metadata": {},
     "output_type": "execute_result"
    }
   ],
   "source": [
    "prices_no2.head()"
   ]
  },
  {
   "cell_type": "code",
   "execution_count": 5,
   "id": "371621b2",
   "metadata": {},
   "outputs": [
    {
     "data": {
      "text/plain": "                             MTU (UTC)  Day-ahead Price [EUR/MWh] Currency  \\\n0  01.01.2022 00:00 - 01.01.2022 01:00                      41.33      EUR   \n1  01.01.2022 01:00 - 01.01.2022 02:00                      42.18      EUR   \n2  01.01.2022 02:00 - 01.01.2022 03:00                      44.37      EUR   \n3  01.01.2022 03:00 - 01.01.2022 04:00                      37.67      EUR   \n4  01.01.2022 04:00 - 01.01.2022 05:00                      39.70      EUR   \n\n   BZN|NO3  \n0      NaN  \n1      NaN  \n2      NaN  \n3      NaN  \n4      NaN  ",
      "text/html": "<div>\n<style scoped>\n    .dataframe tbody tr th:only-of-type {\n        vertical-align: middle;\n    }\n\n    .dataframe tbody tr th {\n        vertical-align: top;\n    }\n\n    .dataframe thead th {\n        text-align: right;\n    }\n</style>\n<table border=\"1\" class=\"dataframe\">\n  <thead>\n    <tr style=\"text-align: right;\">\n      <th></th>\n      <th>MTU (UTC)</th>\n      <th>Day-ahead Price [EUR/MWh]</th>\n      <th>Currency</th>\n      <th>BZN|NO3</th>\n    </tr>\n  </thead>\n  <tbody>\n    <tr>\n      <th>0</th>\n      <td>01.01.2022 00:00 - 01.01.2022 01:00</td>\n      <td>41.33</td>\n      <td>EUR</td>\n      <td>NaN</td>\n    </tr>\n    <tr>\n      <th>1</th>\n      <td>01.01.2022 01:00 - 01.01.2022 02:00</td>\n      <td>42.18</td>\n      <td>EUR</td>\n      <td>NaN</td>\n    </tr>\n    <tr>\n      <th>2</th>\n      <td>01.01.2022 02:00 - 01.01.2022 03:00</td>\n      <td>44.37</td>\n      <td>EUR</td>\n      <td>NaN</td>\n    </tr>\n    <tr>\n      <th>3</th>\n      <td>01.01.2022 03:00 - 01.01.2022 04:00</td>\n      <td>37.67</td>\n      <td>EUR</td>\n      <td>NaN</td>\n    </tr>\n    <tr>\n      <th>4</th>\n      <td>01.01.2022 04:00 - 01.01.2022 05:00</td>\n      <td>39.70</td>\n      <td>EUR</td>\n      <td>NaN</td>\n    </tr>\n  </tbody>\n</table>\n</div>"
     },
     "execution_count": 5,
     "metadata": {},
     "output_type": "execute_result"
    }
   ],
   "source": [
    "prices_no3.head()"
   ]
  },
  {
   "cell_type": "code",
   "execution_count": 6,
   "id": "cb4f2009",
   "metadata": {},
   "outputs": [
    {
     "data": {
      "text/plain": "                             MTU (UTC)  Day-ahead Price [EUR/MWh] Currency  \\\n0  01.01.2022 00:00 - 01.01.2022 01:00                     129.30      EUR   \n1  01.01.2022 01:00 - 01.01.2022 02:00                     132.08      EUR   \n2  01.01.2022 02:00 - 01.01.2022 03:00                     111.44      EUR   \n3  01.01.2022 03:00 - 01.01.2022 04:00                     112.35      EUR   \n4  01.01.2022 04:00 - 01.01.2022 05:00                     113.90      EUR   \n\n   BZN|NO5  \n0      NaN  \n1      NaN  \n2      NaN  \n3      NaN  \n4      NaN  ",
      "text/html": "<div>\n<style scoped>\n    .dataframe tbody tr th:only-of-type {\n        vertical-align: middle;\n    }\n\n    .dataframe tbody tr th {\n        vertical-align: top;\n    }\n\n    .dataframe thead th {\n        text-align: right;\n    }\n</style>\n<table border=\"1\" class=\"dataframe\">\n  <thead>\n    <tr style=\"text-align: right;\">\n      <th></th>\n      <th>MTU (UTC)</th>\n      <th>Day-ahead Price [EUR/MWh]</th>\n      <th>Currency</th>\n      <th>BZN|NO5</th>\n    </tr>\n  </thead>\n  <tbody>\n    <tr>\n      <th>0</th>\n      <td>01.01.2022 00:00 - 01.01.2022 01:00</td>\n      <td>129.30</td>\n      <td>EUR</td>\n      <td>NaN</td>\n    </tr>\n    <tr>\n      <th>1</th>\n      <td>01.01.2022 01:00 - 01.01.2022 02:00</td>\n      <td>132.08</td>\n      <td>EUR</td>\n      <td>NaN</td>\n    </tr>\n    <tr>\n      <th>2</th>\n      <td>01.01.2022 02:00 - 01.01.2022 03:00</td>\n      <td>111.44</td>\n      <td>EUR</td>\n      <td>NaN</td>\n    </tr>\n    <tr>\n      <th>3</th>\n      <td>01.01.2022 03:00 - 01.01.2022 04:00</td>\n      <td>112.35</td>\n      <td>EUR</td>\n      <td>NaN</td>\n    </tr>\n    <tr>\n      <th>4</th>\n      <td>01.01.2022 04:00 - 01.01.2022 05:00</td>\n      <td>113.90</td>\n      <td>EUR</td>\n      <td>NaN</td>\n    </tr>\n  </tbody>\n</table>\n</div>"
     },
     "execution_count": 6,
     "metadata": {},
     "output_type": "execute_result"
    }
   ],
   "source": [
    "prices_no5.head()"
   ]
  },
  {
   "cell_type": "code",
   "execution_count": 7,
   "id": "aa7002e3",
   "metadata": {},
   "outputs": [
    {
     "data": {
      "text/plain": "                             MTU (UTC)  Day-ahead Price [EUR/MWh] Currency  \\\n0  01.01.2022 00:00 - 01.01.2022 01:00                      41.33      EUR   \n1  01.01.2022 01:00 - 01.01.2022 02:00                      42.18      EUR   \n2  01.01.2022 02:00 - 01.01.2022 03:00                      44.37      EUR   \n3  01.01.2022 03:00 - 01.01.2022 04:00                      37.67      EUR   \n4  01.01.2022 04:00 - 01.01.2022 05:00                      39.70      EUR   \n\n   BZN|SE3  \n0      NaN  \n1      NaN  \n2      NaN  \n3      NaN  \n4      NaN  ",
      "text/html": "<div>\n<style scoped>\n    .dataframe tbody tr th:only-of-type {\n        vertical-align: middle;\n    }\n\n    .dataframe tbody tr th {\n        vertical-align: top;\n    }\n\n    .dataframe thead th {\n        text-align: right;\n    }\n</style>\n<table border=\"1\" class=\"dataframe\">\n  <thead>\n    <tr style=\"text-align: right;\">\n      <th></th>\n      <th>MTU (UTC)</th>\n      <th>Day-ahead Price [EUR/MWh]</th>\n      <th>Currency</th>\n      <th>BZN|SE3</th>\n    </tr>\n  </thead>\n  <tbody>\n    <tr>\n      <th>0</th>\n      <td>01.01.2022 00:00 - 01.01.2022 01:00</td>\n      <td>41.33</td>\n      <td>EUR</td>\n      <td>NaN</td>\n    </tr>\n    <tr>\n      <th>1</th>\n      <td>01.01.2022 01:00 - 01.01.2022 02:00</td>\n      <td>42.18</td>\n      <td>EUR</td>\n      <td>NaN</td>\n    </tr>\n    <tr>\n      <th>2</th>\n      <td>01.01.2022 02:00 - 01.01.2022 03:00</td>\n      <td>44.37</td>\n      <td>EUR</td>\n      <td>NaN</td>\n    </tr>\n    <tr>\n      <th>3</th>\n      <td>01.01.2022 03:00 - 01.01.2022 04:00</td>\n      <td>37.67</td>\n      <td>EUR</td>\n      <td>NaN</td>\n    </tr>\n    <tr>\n      <th>4</th>\n      <td>01.01.2022 04:00 - 01.01.2022 05:00</td>\n      <td>39.70</td>\n      <td>EUR</td>\n      <td>NaN</td>\n    </tr>\n  </tbody>\n</table>\n</div>"
     },
     "execution_count": 7,
     "metadata": {},
     "output_type": "execute_result"
    }
   ],
   "source": [
    "prices_se3.head()"
   ]
  },
  {
   "cell_type": "markdown",
   "id": "888cdf61",
   "metadata": {},
   "source": [
    "#### preperation for merging of the price data from the different zones:\n",
    "The common column we will merge the data based on is the date time column \"MTU (UTC)\". The column currency is redundant since the column that holds price already includes it in the column name. The currency column can therefore be dropped. The datasets have a colum name for which zone the data is from, but does not include any data for each entry. This information can be added to the column name for price and the column for zone can be dropped."
   ]
  },
  {
   "cell_type": "code",
   "execution_count": 8,
   "id": "b0a54a18",
   "metadata": {},
   "outputs": [],
   "source": [
    "# renaming price columns\n",
    "prices_no1 = prices_no1.rename(columns={'Day-ahead Price [EUR/MWh]': 'Day-ahead Price [EUR/MWh] BZN|NO1'})\n",
    "prices_no2 = prices_no2.rename(columns={'Day-ahead Price [EUR/MWh]': 'Day-ahead Price [EUR/MWh] BZN|NO2'})\n",
    "prices_no3 = prices_no3.rename(columns={'Day-ahead Price [EUR/MWh]': 'Day-ahead Price [EUR/MWh] BZN|NO3'})\n",
    "prices_no5 = prices_no5.rename(columns={'Day-ahead Price [EUR/MWh]': 'Day-ahead Price [EUR/MWh] BZN|NO5'})\n",
    "prices_se3 = prices_se3.rename(columns={'Day-ahead Price [EUR/MWh]': 'Day-ahead Price [EUR/MWh] BZN|SE3'})"
   ]
  },
  {
   "cell_type": "code",
   "execution_count": 9,
   "id": "d8b90540",
   "metadata": {},
   "outputs": [],
   "source": [
    "# dropping redundant columns\n",
    "prices_no1= prices_no1.drop(['Currency', 'BZN|NO1'], axis=1)\n",
    "prices_no2= prices_no2.drop(['Currency', 'BZN|NO2'], axis=1)\n",
    "prices_no3= prices_no3.drop(['Currency', 'BZN|NO3'], axis=1)\n",
    "prices_no5= prices_no5.drop(['Currency', 'BZN|NO5'], axis=1)\n",
    "prices_se3= prices_se3.drop(['Currency', 'BZN|SE3'], axis=1)"
   ]
  },
  {
   "cell_type": "code",
   "execution_count": 10,
   "id": "d6da0987",
   "metadata": {},
   "outputs": [
    {
     "data": {
      "text/plain": "                             MTU (UTC)  Day-ahead Price [EUR/MWh] BZN|NO1  \\\n0  01.01.2022 00:00 - 01.01.2022 01:00                             129.30   \n1  01.01.2022 01:00 - 01.01.2022 02:00                             132.08   \n2  01.01.2022 02:00 - 01.01.2022 03:00                             111.44   \n3  01.01.2022 03:00 - 01.01.2022 04:00                             112.35   \n4  01.01.2022 04:00 - 01.01.2022 05:00                             113.90   \n\n   Day-ahead Price [EUR/MWh] BZN|NO2  Day-ahead Price [EUR/MWh] BZN|NO3  \\\n0                             129.30                              41.33   \n1                             132.08                              42.18   \n2                             111.44                              44.37   \n3                             112.35                              37.67   \n4                             113.90                              39.70   \n\n   Day-ahead Price [EUR/MWh] BZN|NO5  Day-ahead Price [EUR/MWh] BZN|SE3  \n0                             129.30                              41.33  \n1                             132.08                              42.18  \n2                             111.44                              44.37  \n3                             112.35                              37.67  \n4                             113.90                              39.70  ",
      "text/html": "<div>\n<style scoped>\n    .dataframe tbody tr th:only-of-type {\n        vertical-align: middle;\n    }\n\n    .dataframe tbody tr th {\n        vertical-align: top;\n    }\n\n    .dataframe thead th {\n        text-align: right;\n    }\n</style>\n<table border=\"1\" class=\"dataframe\">\n  <thead>\n    <tr style=\"text-align: right;\">\n      <th></th>\n      <th>MTU (UTC)</th>\n      <th>Day-ahead Price [EUR/MWh] BZN|NO1</th>\n      <th>Day-ahead Price [EUR/MWh] BZN|NO2</th>\n      <th>Day-ahead Price [EUR/MWh] BZN|NO3</th>\n      <th>Day-ahead Price [EUR/MWh] BZN|NO5</th>\n      <th>Day-ahead Price [EUR/MWh] BZN|SE3</th>\n    </tr>\n  </thead>\n  <tbody>\n    <tr>\n      <th>0</th>\n      <td>01.01.2022 00:00 - 01.01.2022 01:00</td>\n      <td>129.30</td>\n      <td>129.30</td>\n      <td>41.33</td>\n      <td>129.30</td>\n      <td>41.33</td>\n    </tr>\n    <tr>\n      <th>1</th>\n      <td>01.01.2022 01:00 - 01.01.2022 02:00</td>\n      <td>132.08</td>\n      <td>132.08</td>\n      <td>42.18</td>\n      <td>132.08</td>\n      <td>42.18</td>\n    </tr>\n    <tr>\n      <th>2</th>\n      <td>01.01.2022 02:00 - 01.01.2022 03:00</td>\n      <td>111.44</td>\n      <td>111.44</td>\n      <td>44.37</td>\n      <td>111.44</td>\n      <td>44.37</td>\n    </tr>\n    <tr>\n      <th>3</th>\n      <td>01.01.2022 03:00 - 01.01.2022 04:00</td>\n      <td>112.35</td>\n      <td>112.35</td>\n      <td>37.67</td>\n      <td>112.35</td>\n      <td>37.67</td>\n    </tr>\n    <tr>\n      <th>4</th>\n      <td>01.01.2022 04:00 - 01.01.2022 05:00</td>\n      <td>113.90</td>\n      <td>113.90</td>\n      <td>39.70</td>\n      <td>113.90</td>\n      <td>39.70</td>\n    </tr>\n  </tbody>\n</table>\n</div>"
     },
     "execution_count": 10,
     "metadata": {},
     "output_type": "execute_result"
    }
   ],
   "source": [
    "# merging the price data into one dataframe on the date time column 'MTU (UTC)'\n",
    "updated_price_dataframes = [prices_no1, prices_no2, prices_no3, prices_no5, prices_se3]\n",
    "prices = reduce(lambda left, right: pd.merge(left,right, on=['MTU (UTC)']), updated_price_dataframes)\n",
    "\n",
    "# printing out the 5 first rows resulting dataframe\n",
    "prices.head()"
   ]
  },
  {
   "cell_type": "code",
   "execution_count": 11,
   "id": "52623143",
   "metadata": {},
   "outputs": [
    {
     "data": {
      "text/plain": "                                MTU (UTC)  Day-ahead Price [EUR/MWh] BZN|NO1  \\\n8755  31.12.2022 19:00 - 31.12.2022 20:00                             123.61   \n8756  31.12.2022 20:00 - 31.12.2022 21:00                             121.09   \n8757  31.12.2022 21:00 - 31.12.2022 22:00                             120.00   \n8758  31.12.2022 22:00 - 31.12.2022 23:00                             119.98   \n8759  31.12.2022 23:00 - 01.01.2023 00:00                             119.32   \n\n      Day-ahead Price [EUR/MWh] BZN|NO2  Day-ahead Price [EUR/MWh] BZN|NO3  \\\n8755                             123.61                              23.82   \n8756                             121.09                              23.93   \n8757                             120.00                              23.75   \n8758                             119.98                              23.56   \n8759                             119.32                              23.35   \n\n      Day-ahead Price [EUR/MWh] BZN|NO5  Day-ahead Price [EUR/MWh] BZN|SE3  \n8755                             123.61                              11.57  \n8756                             121.09                              14.89  \n8757                             120.00                               9.94  \n8758                             119.98                               4.84  \n8759                             119.32                               2.01  ",
      "text/html": "<div>\n<style scoped>\n    .dataframe tbody tr th:only-of-type {\n        vertical-align: middle;\n    }\n\n    .dataframe tbody tr th {\n        vertical-align: top;\n    }\n\n    .dataframe thead th {\n        text-align: right;\n    }\n</style>\n<table border=\"1\" class=\"dataframe\">\n  <thead>\n    <tr style=\"text-align: right;\">\n      <th></th>\n      <th>MTU (UTC)</th>\n      <th>Day-ahead Price [EUR/MWh] BZN|NO1</th>\n      <th>Day-ahead Price [EUR/MWh] BZN|NO2</th>\n      <th>Day-ahead Price [EUR/MWh] BZN|NO3</th>\n      <th>Day-ahead Price [EUR/MWh] BZN|NO5</th>\n      <th>Day-ahead Price [EUR/MWh] BZN|SE3</th>\n    </tr>\n  </thead>\n  <tbody>\n    <tr>\n      <th>8755</th>\n      <td>31.12.2022 19:00 - 31.12.2022 20:00</td>\n      <td>123.61</td>\n      <td>123.61</td>\n      <td>23.82</td>\n      <td>123.61</td>\n      <td>11.57</td>\n    </tr>\n    <tr>\n      <th>8756</th>\n      <td>31.12.2022 20:00 - 31.12.2022 21:00</td>\n      <td>121.09</td>\n      <td>121.09</td>\n      <td>23.93</td>\n      <td>121.09</td>\n      <td>14.89</td>\n    </tr>\n    <tr>\n      <th>8757</th>\n      <td>31.12.2022 21:00 - 31.12.2022 22:00</td>\n      <td>120.00</td>\n      <td>120.00</td>\n      <td>23.75</td>\n      <td>120.00</td>\n      <td>9.94</td>\n    </tr>\n    <tr>\n      <th>8758</th>\n      <td>31.12.2022 22:00 - 31.12.2022 23:00</td>\n      <td>119.98</td>\n      <td>119.98</td>\n      <td>23.56</td>\n      <td>119.98</td>\n      <td>4.84</td>\n    </tr>\n    <tr>\n      <th>8759</th>\n      <td>31.12.2022 23:00 - 01.01.2023 00:00</td>\n      <td>119.32</td>\n      <td>119.32</td>\n      <td>23.35</td>\n      <td>119.32</td>\n      <td>2.01</td>\n    </tr>\n  </tbody>\n</table>\n</div>"
     },
     "execution_count": 11,
     "metadata": {},
     "output_type": "execute_result"
    }
   ],
   "source": [
    "# printing out the last 5 rows of the resulting dataframe\n",
    "prices.tail()"
   ]
  },
  {
   "cell_type": "markdown",
   "id": "bd3be30b",
   "metadata": {},
   "source": [
    "We can se that the datetime of the first and last rows in the dataset are correct. we also want to check if the dataframe still have the correct number of rows to se if the merge was successful"
   ]
  },
  {
   "cell_type": "code",
   "execution_count": 12,
   "id": "63e9f785",
   "metadata": {},
   "outputs": [
    {
     "data": {
      "text/plain": "(8760, 6)"
     },
     "execution_count": 12,
     "metadata": {},
     "output_type": "execute_result"
    }
   ],
   "source": [
    "# printing out shape of dataframe\n",
    "prices.shape"
   ]
  },
  {
   "cell_type": "markdown",
   "id": "4759fe60",
   "metadata": {},
   "source": [
    "The prices dataframe has the correct number of rows (8760) so the aggregation of the price datasets have been successful.\n",
    "\n",
    "We also want to check if the data has any missing values."
   ]
  },
  {
   "cell_type": "code",
   "execution_count": 13,
   "id": "268774cf",
   "metadata": {},
   "outputs": [
    {
     "data": {
      "text/plain": "MTU (UTC)                            0\nDay-ahead Price [EUR/MWh] BZN|NO1    0\nDay-ahead Price [EUR/MWh] BZN|NO2    0\nDay-ahead Price [EUR/MWh] BZN|NO3    0\nDay-ahead Price [EUR/MWh] BZN|NO5    0\nDay-ahead Price [EUR/MWh] BZN|SE3    0\ndtype: int64"
     },
     "execution_count": 13,
     "metadata": {},
     "output_type": "execute_result"
    }
   ],
   "source": [
    "# checking data for missing values, if any\n",
    "prices.isna().sum()"
   ]
  },
  {
   "cell_type": "markdown",
   "id": "42438336",
   "metadata": {},
   "source": [
    "The data has no missing values."
   ]
  },
  {
   "cell_type": "markdown",
   "id": "0af833f9",
   "metadata": {},
   "source": [
    "### Aggregation of load data\n",
    "The load data contains data about the power consumption in each zone"
   ]
  },
  {
   "cell_type": "markdown",
   "id": "5ee4e087",
   "metadata": {},
   "source": [
    "Importing load data from each zone"
   ]
  },
  {
   "cell_type": "code",
   "execution_count": 14,
   "id": "b47e94f9",
   "metadata": {},
   "outputs": [
    {
     "name": "stdout",
     "output_type": "stream",
     "text": [
      "(8760, 3)\n",
      "(8760, 3)\n",
      "(8760, 3)\n",
      "(8760, 3)\n",
      "(8760, 3)\n"
     ]
    }
   ],
   "source": [
    "load_no1 = pd.read_csv(\"../datasets/load/NO1 Total Load - Day Ahead _ Actual_202201010000-202301010000.csv\")\n",
    "load_no2 = pd.read_csv(\"../datasets/load/NO2 Total Load - Day Ahead _ Actual_202201010000-202301010000.csv\")\n",
    "load_no3 = pd.read_csv(\"../datasets/load/NO3 Total Load - Day Ahead _ Actual_202201010000-202301010000.csv\")\n",
    "load_no5 = pd.read_csv(\"../datasets/load/NO5 Total Load - Day Ahead _ Actual_202201010000-202301010000.csv\")\n",
    "load_se3 = pd.read_csv(\"../datasets/load/SE3 Total Load - Day Ahead _ Actual_202201010000-202301010000.csv\")\n",
    "\n",
    "# creating list of load dataframes\n",
    "load_dataframes = [load_no1, load_no2, load_no3, load_no5, load_se3]\n",
    "\n",
    "# checking shape of each dataframe to see if all dataframes have the same number of rows\n",
    "# row length should be 24 * 365 = 8760\n",
    "for i in load_dataframes:\n",
    "    print(i.shape)"
   ]
  },
  {
   "cell_type": "markdown",
   "id": "51cb78a3",
   "metadata": {},
   "source": [
    "We see that all dataframes contain the correct number of rows.\n",
    "\n",
    "Printing out first rows of each dataset to see the structure and content of the dataframes."
   ]
  },
  {
   "cell_type": "code",
   "execution_count": 15,
   "id": "61cde040",
   "metadata": {},
   "outputs": [
    {
     "data": {
      "text/plain": "                            Time (UTC)  \\\n0  01.01.2022 00:00 - 01.01.2022 01:00   \n1  01.01.2022 01:00 - 01.01.2022 02:00   \n2  01.01.2022 02:00 - 01.01.2022 03:00   \n3  01.01.2022 03:00 - 01.01.2022 04:00   \n4  01.01.2022 04:00 - 01.01.2022 05:00   \n\n   Day-ahead Total Load Forecast [MW] - BZN|NO1  \\\n0                                          4492   \n1                                          4371   \n2                                          4234   \n3                                          4225   \n4                                          4227   \n\n   Actual Total Load [MW] - BZN|NO1  \n0                              4701  \n1                              4681  \n2                              4620  \n3                              4645  \n4                              4670  ",
      "text/html": "<div>\n<style scoped>\n    .dataframe tbody tr th:only-of-type {\n        vertical-align: middle;\n    }\n\n    .dataframe tbody tr th {\n        vertical-align: top;\n    }\n\n    .dataframe thead th {\n        text-align: right;\n    }\n</style>\n<table border=\"1\" class=\"dataframe\">\n  <thead>\n    <tr style=\"text-align: right;\">\n      <th></th>\n      <th>Time (UTC)</th>\n      <th>Day-ahead Total Load Forecast [MW] - BZN|NO1</th>\n      <th>Actual Total Load [MW] - BZN|NO1</th>\n    </tr>\n  </thead>\n  <tbody>\n    <tr>\n      <th>0</th>\n      <td>01.01.2022 00:00 - 01.01.2022 01:00</td>\n      <td>4492</td>\n      <td>4701</td>\n    </tr>\n    <tr>\n      <th>1</th>\n      <td>01.01.2022 01:00 - 01.01.2022 02:00</td>\n      <td>4371</td>\n      <td>4681</td>\n    </tr>\n    <tr>\n      <th>2</th>\n      <td>01.01.2022 02:00 - 01.01.2022 03:00</td>\n      <td>4234</td>\n      <td>4620</td>\n    </tr>\n    <tr>\n      <th>3</th>\n      <td>01.01.2022 03:00 - 01.01.2022 04:00</td>\n      <td>4225</td>\n      <td>4645</td>\n    </tr>\n    <tr>\n      <th>4</th>\n      <td>01.01.2022 04:00 - 01.01.2022 05:00</td>\n      <td>4227</td>\n      <td>4670</td>\n    </tr>\n  </tbody>\n</table>\n</div>"
     },
     "execution_count": 15,
     "metadata": {},
     "output_type": "execute_result"
    }
   ],
   "source": [
    "load_no1.head()"
   ]
  },
  {
   "cell_type": "code",
   "execution_count": 16,
   "id": "618cf27f",
   "metadata": {},
   "outputs": [
    {
     "data": {
      "text/plain": "                            Time (UTC)  \\\n0  01.01.2022 00:00 - 01.01.2022 01:00   \n1  01.01.2022 01:00 - 01.01.2022 02:00   \n2  01.01.2022 02:00 - 01.01.2022 03:00   \n3  01.01.2022 03:00 - 01.01.2022 04:00   \n4  01.01.2022 04:00 - 01.01.2022 05:00   \n\n   Day-ahead Total Load Forecast [MW] - BZN|NO2  \\\n0                                          4170   \n1                                          3796   \n2                                          3423   \n3                                          3439   \n4                                          3469   \n\n   Actual Total Load [MW] - BZN|NO2  \n0                              4440  \n1                              4480  \n2                              4424  \n3                              4386  \n4                              4375  ",
      "text/html": "<div>\n<style scoped>\n    .dataframe tbody tr th:only-of-type {\n        vertical-align: middle;\n    }\n\n    .dataframe tbody tr th {\n        vertical-align: top;\n    }\n\n    .dataframe thead th {\n        text-align: right;\n    }\n</style>\n<table border=\"1\" class=\"dataframe\">\n  <thead>\n    <tr style=\"text-align: right;\">\n      <th></th>\n      <th>Time (UTC)</th>\n      <th>Day-ahead Total Load Forecast [MW] - BZN|NO2</th>\n      <th>Actual Total Load [MW] - BZN|NO2</th>\n    </tr>\n  </thead>\n  <tbody>\n    <tr>\n      <th>0</th>\n      <td>01.01.2022 00:00 - 01.01.2022 01:00</td>\n      <td>4170</td>\n      <td>4440</td>\n    </tr>\n    <tr>\n      <th>1</th>\n      <td>01.01.2022 01:00 - 01.01.2022 02:00</td>\n      <td>3796</td>\n      <td>4480</td>\n    </tr>\n    <tr>\n      <th>2</th>\n      <td>01.01.2022 02:00 - 01.01.2022 03:00</td>\n      <td>3423</td>\n      <td>4424</td>\n    </tr>\n    <tr>\n      <th>3</th>\n      <td>01.01.2022 03:00 - 01.01.2022 04:00</td>\n      <td>3439</td>\n      <td>4386</td>\n    </tr>\n    <tr>\n      <th>4</th>\n      <td>01.01.2022 04:00 - 01.01.2022 05:00</td>\n      <td>3469</td>\n      <td>4375</td>\n    </tr>\n  </tbody>\n</table>\n</div>"
     },
     "execution_count": 16,
     "metadata": {},
     "output_type": "execute_result"
    }
   ],
   "source": [
    "load_no2.head()"
   ]
  },
  {
   "cell_type": "code",
   "execution_count": 17,
   "id": "72b7ec8a",
   "metadata": {},
   "outputs": [
    {
     "data": {
      "text/plain": "                            Time (UTC)  \\\n0  01.01.2022 00:00 - 01.01.2022 01:00   \n1  01.01.2022 01:00 - 01.01.2022 02:00   \n2  01.01.2022 02:00 - 01.01.2022 03:00   \n3  01.01.2022 03:00 - 01.01.2022 04:00   \n4  01.01.2022 04:00 - 01.01.2022 05:00   \n\n   Day-ahead Total Load Forecast [MW] - BZN|NO3  \\\n0                                          3235   \n1                                          3158   \n2                                          3047   \n3                                          3052   \n4                                          3038   \n\n   Actual Total Load [MW] - BZN|NO3  \n0                              3463  \n1                              3388  \n2                              3387  \n3                              3376  \n4                              3427  ",
      "text/html": "<div>\n<style scoped>\n    .dataframe tbody tr th:only-of-type {\n        vertical-align: middle;\n    }\n\n    .dataframe tbody tr th {\n        vertical-align: top;\n    }\n\n    .dataframe thead th {\n        text-align: right;\n    }\n</style>\n<table border=\"1\" class=\"dataframe\">\n  <thead>\n    <tr style=\"text-align: right;\">\n      <th></th>\n      <th>Time (UTC)</th>\n      <th>Day-ahead Total Load Forecast [MW] - BZN|NO3</th>\n      <th>Actual Total Load [MW] - BZN|NO3</th>\n    </tr>\n  </thead>\n  <tbody>\n    <tr>\n      <th>0</th>\n      <td>01.01.2022 00:00 - 01.01.2022 01:00</td>\n      <td>3235</td>\n      <td>3463</td>\n    </tr>\n    <tr>\n      <th>1</th>\n      <td>01.01.2022 01:00 - 01.01.2022 02:00</td>\n      <td>3158</td>\n      <td>3388</td>\n    </tr>\n    <tr>\n      <th>2</th>\n      <td>01.01.2022 02:00 - 01.01.2022 03:00</td>\n      <td>3047</td>\n      <td>3387</td>\n    </tr>\n    <tr>\n      <th>3</th>\n      <td>01.01.2022 03:00 - 01.01.2022 04:00</td>\n      <td>3052</td>\n      <td>3376</td>\n    </tr>\n    <tr>\n      <th>4</th>\n      <td>01.01.2022 04:00 - 01.01.2022 05:00</td>\n      <td>3038</td>\n      <td>3427</td>\n    </tr>\n  </tbody>\n</table>\n</div>"
     },
     "execution_count": 17,
     "metadata": {},
     "output_type": "execute_result"
    }
   ],
   "source": [
    "load_no3.head()"
   ]
  },
  {
   "cell_type": "code",
   "execution_count": 18,
   "id": "fbea6e95",
   "metadata": {},
   "outputs": [
    {
     "data": {
      "text/plain": "                            Time (UTC)  \\\n0  01.01.2022 00:00 - 01.01.2022 01:00   \n1  01.01.2022 01:00 - 01.01.2022 02:00   \n2  01.01.2022 02:00 - 01.01.2022 03:00   \n3  01.01.2022 03:00 - 01.01.2022 04:00   \n4  01.01.2022 04:00 - 01.01.2022 05:00   \n\n   Day-ahead Total Load Forecast [MW] - BZN|NO5  \\\n0                                          1427   \n1                                          1460   \n2                                          1493   \n3                                          1472   \n4                                          1475   \n\n   Actual Total Load [MW] - BZN|NO5  \n0                              1991  \n1                              1969  \n2                              1911  \n3                              1996  \n4                              1953  ",
      "text/html": "<div>\n<style scoped>\n    .dataframe tbody tr th:only-of-type {\n        vertical-align: middle;\n    }\n\n    .dataframe tbody tr th {\n        vertical-align: top;\n    }\n\n    .dataframe thead th {\n        text-align: right;\n    }\n</style>\n<table border=\"1\" class=\"dataframe\">\n  <thead>\n    <tr style=\"text-align: right;\">\n      <th></th>\n      <th>Time (UTC)</th>\n      <th>Day-ahead Total Load Forecast [MW] - BZN|NO5</th>\n      <th>Actual Total Load [MW] - BZN|NO5</th>\n    </tr>\n  </thead>\n  <tbody>\n    <tr>\n      <th>0</th>\n      <td>01.01.2022 00:00 - 01.01.2022 01:00</td>\n      <td>1427</td>\n      <td>1991</td>\n    </tr>\n    <tr>\n      <th>1</th>\n      <td>01.01.2022 01:00 - 01.01.2022 02:00</td>\n      <td>1460</td>\n      <td>1969</td>\n    </tr>\n    <tr>\n      <th>2</th>\n      <td>01.01.2022 02:00 - 01.01.2022 03:00</td>\n      <td>1493</td>\n      <td>1911</td>\n    </tr>\n    <tr>\n      <th>3</th>\n      <td>01.01.2022 03:00 - 01.01.2022 04:00</td>\n      <td>1472</td>\n      <td>1996</td>\n    </tr>\n    <tr>\n      <th>4</th>\n      <td>01.01.2022 04:00 - 01.01.2022 05:00</td>\n      <td>1475</td>\n      <td>1953</td>\n    </tr>\n  </tbody>\n</table>\n</div>"
     },
     "execution_count": 18,
     "metadata": {},
     "output_type": "execute_result"
    }
   ],
   "source": [
    "load_no5.head()"
   ]
  },
  {
   "cell_type": "code",
   "execution_count": 19,
   "id": "b2fb13b5",
   "metadata": {},
   "outputs": [
    {
     "data": {
      "text/plain": "                            Time (UTC)  \\\n0  01.01.2022 00:00 - 01.01.2022 01:00   \n1  01.01.2022 01:00 - 01.01.2022 02:00   \n2  01.01.2022 02:00 - 01.01.2022 03:00   \n3  01.01.2022 03:00 - 01.01.2022 04:00   \n4  01.01.2022 04:00 - 01.01.2022 05:00   \n\n   Day-ahead Total Load Forecast [MW] - BZN|SE3  \\\n0                                          9483   \n1                                          9435   \n2                                          9402   \n3                                          9453   \n4                                          9617   \n\n   Actual Total Load [MW] - BZN|SE3  \n0                              9612  \n1                              9601  \n2                              9552  \n3                              9449  \n4                              9614  ",
      "text/html": "<div>\n<style scoped>\n    .dataframe tbody tr th:only-of-type {\n        vertical-align: middle;\n    }\n\n    .dataframe tbody tr th {\n        vertical-align: top;\n    }\n\n    .dataframe thead th {\n        text-align: right;\n    }\n</style>\n<table border=\"1\" class=\"dataframe\">\n  <thead>\n    <tr style=\"text-align: right;\">\n      <th></th>\n      <th>Time (UTC)</th>\n      <th>Day-ahead Total Load Forecast [MW] - BZN|SE3</th>\n      <th>Actual Total Load [MW] - BZN|SE3</th>\n    </tr>\n  </thead>\n  <tbody>\n    <tr>\n      <th>0</th>\n      <td>01.01.2022 00:00 - 01.01.2022 01:00</td>\n      <td>9483</td>\n      <td>9612</td>\n    </tr>\n    <tr>\n      <th>1</th>\n      <td>01.01.2022 01:00 - 01.01.2022 02:00</td>\n      <td>9435</td>\n      <td>9601</td>\n    </tr>\n    <tr>\n      <th>2</th>\n      <td>01.01.2022 02:00 - 01.01.2022 03:00</td>\n      <td>9402</td>\n      <td>9552</td>\n    </tr>\n    <tr>\n      <th>3</th>\n      <td>01.01.2022 03:00 - 01.01.2022 04:00</td>\n      <td>9453</td>\n      <td>9449</td>\n    </tr>\n    <tr>\n      <th>4</th>\n      <td>01.01.2022 04:00 - 01.01.2022 05:00</td>\n      <td>9617</td>\n      <td>9614</td>\n    </tr>\n  </tbody>\n</table>\n</div>"
     },
     "execution_count": 19,
     "metadata": {},
     "output_type": "execute_result"
    }
   ],
   "source": [
    "load_se3.head()"
   ]
  },
  {
   "cell_type": "markdown",
   "id": "48168ced",
   "metadata": {},
   "source": [
    "#### preperation for merging of the load data from the different zones:\n",
    "The common values we will merge the data based on is the date time column \"Time (UTC)\", however this column is named \"MTU (UTC)\" in the prices dataset. The time column will be renamed to \"MTU (UTC)\" so that the datasets can be merged. The column \"Day-ahead Total Load Forecast\" is redundant since we have the actual total load, so the forecast column will be dropped."
   ]
  },
  {
   "cell_type": "code",
   "execution_count": 20,
   "id": "4abe22d2",
   "metadata": {},
   "outputs": [],
   "source": [
    "# dropping redundant columns\n",
    "load_no1 = load_no1.drop(['Day-ahead Total Load Forecast [MW] - BZN|NO1'], axis=1)\n",
    "load_no2 = load_no2.drop(['Day-ahead Total Load Forecast [MW] - BZN|NO2'], axis=1)\n",
    "load_no3 = load_no3.drop(['Day-ahead Total Load Forecast [MW] - BZN|NO3'], axis=1)\n",
    "load_no5 = load_no5.drop(['Day-ahead Total Load Forecast [MW] - BZN|NO5'], axis=1)\n",
    "load_se3 = load_se3.drop(['Day-ahead Total Load Forecast [MW] - BZN|SE3'], axis=1)"
   ]
  },
  {
   "cell_type": "code",
   "execution_count": 21,
   "id": "9166cdf1",
   "metadata": {},
   "outputs": [],
   "source": [
    "# renaming time columns\n",
    "load_no1 = load_no1.rename(columns={'Time (UTC)': 'MTU (UTC)'})\n",
    "load_no2 = load_no2.rename(columns={'Time (UTC)': 'MTU (UTC)'})\n",
    "load_no3 = load_no3.rename(columns={'Time (UTC)': 'MTU (UTC)'})\n",
    "load_no5 = load_no5.rename(columns={'Time (UTC)': 'MTU (UTC)'})\n",
    "load_se3 = load_se3.rename(columns={'Time (UTC)': 'MTU (UTC)'})"
   ]
  },
  {
   "cell_type": "code",
   "execution_count": 22,
   "id": "933bd585",
   "metadata": {},
   "outputs": [
    {
     "data": {
      "text/plain": "                             MTU (UTC)  Actual Total Load [MW] - BZN|NO1  \\\n0  01.01.2022 00:00 - 01.01.2022 01:00                              4701   \n1  01.01.2022 01:00 - 01.01.2022 02:00                              4681   \n2  01.01.2022 02:00 - 01.01.2022 03:00                              4620   \n3  01.01.2022 03:00 - 01.01.2022 04:00                              4645   \n4  01.01.2022 04:00 - 01.01.2022 05:00                              4670   \n\n   Actual Total Load [MW] - BZN|NO2  Actual Total Load [MW] - BZN|NO3  \\\n0                              4440                              3463   \n1                              4480                              3388   \n2                              4424                              3387   \n3                              4386                              3376   \n4                              4375                              3427   \n\n   Actual Total Load [MW] - BZN|NO5  Actual Total Load [MW] - BZN|SE3  \n0                              1991                              9612  \n1                              1969                              9601  \n2                              1911                              9552  \n3                              1996                              9449  \n4                              1953                              9614  ",
      "text/html": "<div>\n<style scoped>\n    .dataframe tbody tr th:only-of-type {\n        vertical-align: middle;\n    }\n\n    .dataframe tbody tr th {\n        vertical-align: top;\n    }\n\n    .dataframe thead th {\n        text-align: right;\n    }\n</style>\n<table border=\"1\" class=\"dataframe\">\n  <thead>\n    <tr style=\"text-align: right;\">\n      <th></th>\n      <th>MTU (UTC)</th>\n      <th>Actual Total Load [MW] - BZN|NO1</th>\n      <th>Actual Total Load [MW] - BZN|NO2</th>\n      <th>Actual Total Load [MW] - BZN|NO3</th>\n      <th>Actual Total Load [MW] - BZN|NO5</th>\n      <th>Actual Total Load [MW] - BZN|SE3</th>\n    </tr>\n  </thead>\n  <tbody>\n    <tr>\n      <th>0</th>\n      <td>01.01.2022 00:00 - 01.01.2022 01:00</td>\n      <td>4701</td>\n      <td>4440</td>\n      <td>3463</td>\n      <td>1991</td>\n      <td>9612</td>\n    </tr>\n    <tr>\n      <th>1</th>\n      <td>01.01.2022 01:00 - 01.01.2022 02:00</td>\n      <td>4681</td>\n      <td>4480</td>\n      <td>3388</td>\n      <td>1969</td>\n      <td>9601</td>\n    </tr>\n    <tr>\n      <th>2</th>\n      <td>01.01.2022 02:00 - 01.01.2022 03:00</td>\n      <td>4620</td>\n      <td>4424</td>\n      <td>3387</td>\n      <td>1911</td>\n      <td>9552</td>\n    </tr>\n    <tr>\n      <th>3</th>\n      <td>01.01.2022 03:00 - 01.01.2022 04:00</td>\n      <td>4645</td>\n      <td>4386</td>\n      <td>3376</td>\n      <td>1996</td>\n      <td>9449</td>\n    </tr>\n    <tr>\n      <th>4</th>\n      <td>01.01.2022 04:00 - 01.01.2022 05:00</td>\n      <td>4670</td>\n      <td>4375</td>\n      <td>3427</td>\n      <td>1953</td>\n      <td>9614</td>\n    </tr>\n  </tbody>\n</table>\n</div>"
     },
     "execution_count": 22,
     "metadata": {},
     "output_type": "execute_result"
    }
   ],
   "source": [
    "# merging the load data into one dataframe on the date time column 'MTU (CET/CEST)'\n",
    "updated_load_dataframes = [load_no1, load_no2, load_no3, load_no5, load_se3]\n",
    "load = reduce(lambda left, right: pd.merge(left,right, on=['MTU (UTC)']), updated_load_dataframes)\n",
    "\n",
    "# printing out the resulting dataframe\n",
    "load.head()"
   ]
  },
  {
   "cell_type": "code",
   "execution_count": 23,
   "id": "e0db24c3",
   "metadata": {},
   "outputs": [
    {
     "data": {
      "text/plain": "                                MTU (UTC)  Actual Total Load [MW] - BZN|NO1  \\\n8755  31.12.2022 19:00 - 31.12.2022 20:00                              4650   \n8756  31.12.2022 20:00 - 31.12.2022 21:00                              4573   \n8757  31.12.2022 21:00 - 31.12.2022 22:00                              4453   \n8758  31.12.2022 22:00 - 31.12.2022 23:00                              4389   \n8759  31.12.2022 23:00 - 01.01.2023 00:00                              4444   \n\n      Actual Total Load [MW] - BZN|NO2  Actual Total Load [MW] - BZN|NO3  \\\n8755                              4333                              3612   \n8756                              4270                              3605   \n8757                              4294                              3479   \n8758                              4282                              3415   \n8759                              4182                              3346   \n\n      Actual Total Load [MW] - BZN|NO5  Actual Total Load [MW] - BZN|SE3  \n8755                              2128                              9602  \n8756                              2089                              9251  \n8757                              2037                              9092  \n8758                              1991                              8944  \n8759                              2009                              8955  ",
      "text/html": "<div>\n<style scoped>\n    .dataframe tbody tr th:only-of-type {\n        vertical-align: middle;\n    }\n\n    .dataframe tbody tr th {\n        vertical-align: top;\n    }\n\n    .dataframe thead th {\n        text-align: right;\n    }\n</style>\n<table border=\"1\" class=\"dataframe\">\n  <thead>\n    <tr style=\"text-align: right;\">\n      <th></th>\n      <th>MTU (UTC)</th>\n      <th>Actual Total Load [MW] - BZN|NO1</th>\n      <th>Actual Total Load [MW] - BZN|NO2</th>\n      <th>Actual Total Load [MW] - BZN|NO3</th>\n      <th>Actual Total Load [MW] - BZN|NO5</th>\n      <th>Actual Total Load [MW] - BZN|SE3</th>\n    </tr>\n  </thead>\n  <tbody>\n    <tr>\n      <th>8755</th>\n      <td>31.12.2022 19:00 - 31.12.2022 20:00</td>\n      <td>4650</td>\n      <td>4333</td>\n      <td>3612</td>\n      <td>2128</td>\n      <td>9602</td>\n    </tr>\n    <tr>\n      <th>8756</th>\n      <td>31.12.2022 20:00 - 31.12.2022 21:00</td>\n      <td>4573</td>\n      <td>4270</td>\n      <td>3605</td>\n      <td>2089</td>\n      <td>9251</td>\n    </tr>\n    <tr>\n      <th>8757</th>\n      <td>31.12.2022 21:00 - 31.12.2022 22:00</td>\n      <td>4453</td>\n      <td>4294</td>\n      <td>3479</td>\n      <td>2037</td>\n      <td>9092</td>\n    </tr>\n    <tr>\n      <th>8758</th>\n      <td>31.12.2022 22:00 - 31.12.2022 23:00</td>\n      <td>4389</td>\n      <td>4282</td>\n      <td>3415</td>\n      <td>1991</td>\n      <td>8944</td>\n    </tr>\n    <tr>\n      <th>8759</th>\n      <td>31.12.2022 23:00 - 01.01.2023 00:00</td>\n      <td>4444</td>\n      <td>4182</td>\n      <td>3346</td>\n      <td>2009</td>\n      <td>8955</td>\n    </tr>\n  </tbody>\n</table>\n</div>"
     },
     "execution_count": 23,
     "metadata": {},
     "output_type": "execute_result"
    }
   ],
   "source": [
    "# printing out the last 5 rows of the resulting dataframe\n",
    "load.tail()"
   ]
  },
  {
   "cell_type": "markdown",
   "id": "87229753",
   "metadata": {},
   "source": [
    "We can se that the datetime of the first and last rows in the dataset are correct. we also want to check if the dataframe still have the correct number of rows to se if the merge was successful"
   ]
  },
  {
   "cell_type": "code",
   "execution_count": 24,
   "id": "bd882c3f",
   "metadata": {},
   "outputs": [
    {
     "data": {
      "text/plain": "(8760, 6)"
     },
     "execution_count": 24,
     "metadata": {},
     "output_type": "execute_result"
    }
   ],
   "source": [
    "# printing out shape of dataframe\n",
    "load.shape"
   ]
  },
  {
   "cell_type": "markdown",
   "id": "1227ccbb",
   "metadata": {},
   "source": [
    "The load dataframe has the correct number of rows (8760) so the aggregation of the price datasets have been successful.\n",
    "\n",
    "We also want to check if the dataset has any missing any values:"
   ]
  },
  {
   "cell_type": "code",
   "execution_count": 25,
   "id": "c17d866b",
   "metadata": {},
   "outputs": [
    {
     "data": {
      "text/plain": "MTU (UTC)                           0\nActual Total Load [MW] - BZN|NO1    0\nActual Total Load [MW] - BZN|NO2    0\nActual Total Load [MW] - BZN|NO3    0\nActual Total Load [MW] - BZN|NO5    0\nActual Total Load [MW] - BZN|SE3    0\ndtype: int64"
     },
     "execution_count": 25,
     "metadata": {},
     "output_type": "execute_result"
    }
   ],
   "source": [
    "# checking data for missing values, if any\n",
    "load.isna().sum()"
   ]
  },
  {
   "cell_type": "markdown",
   "id": "5ecd4a8f",
   "metadata": {},
   "source": [
    "There are no missing values"
   ]
  },
  {
   "cell_type": "markdown",
   "id": "34e1205e",
   "metadata": {},
   "source": [
    "### Aggregation of energy generation data"
   ]
  },
  {
   "cell_type": "code",
   "execution_count": 26,
   "id": "ca8028b0",
   "metadata": {},
   "outputs": [],
   "source": [
    "actual_generation_no1 = pd.read_csv(\"../datasets/wind_solar_fossil_biomass_and_others/NO1 Actual Generation per Production Type_202201010000-202301010000.csv\")\n",
    "actual_generation_no2 = pd.read_csv(\"../datasets/wind_solar_fossil_biomass_and_others/NO2 Actual Generation per Production Type_202201010000-202301010000.csv\")\n",
    "actual_generation_no3 = pd.read_csv(\"../datasets/wind_solar_fossil_biomass_and_others/NO3 Actual Generation per Production Type_202201010000-202301010000.csv\")\n",
    "actual_generation_no5 = pd.read_csv(\"../datasets/wind_solar_fossil_biomass_and_others/NO5 Actual Generation per Production Type_202201010000-202301010000.csv\")\n",
    "actual_generation_se3 = pd.read_csv(\"../datasets/wind_solar_fossil_biomass_and_others/SE3 Actual Generation per Production Type_202201010000-202301010000.csv\")"
   ]
  },
  {
   "cell_type": "code",
   "execution_count": 27,
   "id": "9d9d12ca",
   "metadata": {},
   "outputs": [
    {
     "data": {
      "text/plain": "      Area                                             MTU  \\\n0  BZN|NO1  01.01.2022 00:00 - 01.01.2022 01:00 (CET/CEST)   \n1  BZN|NO1  01.01.2022 01:00 - 01.01.2022 02:00 (CET/CEST)   \n2  BZN|NO1  01.01.2022 02:00 - 01.01.2022 03:00 (CET/CEST)   \n3  BZN|NO1  01.01.2022 03:00 - 01.01.2022 04:00 (CET/CEST)   \n4  BZN|NO1  01.01.2022 04:00 - 01.01.2022 05:00 (CET/CEST)   \n\n   Biomass  - Actual Aggregated [MW]  \\\n0                                0.0   \n1                                0.0   \n2                                0.0   \n3                                0.0   \n4                                0.0   \n\n  Fossil Brown coal/Lignite  - Actual Aggregated [MW]  \\\n0                                                n/e    \n1                                                n/e    \n2                                                n/e    \n3                                                n/e    \n4                                                n/e    \n\n  Fossil Coal-derived gas  - Actual Aggregated [MW]  \\\n0                                               n/e   \n1                                               n/e   \n2                                               n/e   \n3                                               n/e   \n4                                               n/e   \n\n   Fossil Gas  - Actual Aggregated [MW]  \\\n0                                   0.0   \n1                                   0.0   \n2                                   0.0   \n3                                   0.0   \n4                                   0.0   \n\n  Fossil Hard coal  - Actual Aggregated [MW]  \\\n0                                        n/e   \n1                                        n/e   \n2                                        n/e   \n3                                        n/e   \n4                                        n/e   \n\n  Fossil Oil  - Actual Aggregated [MW]  \\\n0                                  n/e   \n1                                  n/e   \n2                                  n/e   \n3                                  n/e   \n4                                  n/e   \n\n  Fossil Oil shale  - Actual Aggregated [MW]  \\\n0                                        n/e   \n1                                        n/e   \n2                                        n/e   \n3                                        n/e   \n4                                        n/e   \n\n  Fossil Peat  - Actual Aggregated [MW]  ...  \\\n0                                   n/e  ...   \n1                                   n/e  ...   \n2                                   n/e  ...   \n3                                   n/e  ...   \n4                                   n/e  ...   \n\n  Hydro Run-of-river and poundage  - Actual Aggregated [MW]  \\\n0                                              899.0          \n1                                              878.0          \n2                                              897.0          \n3                                              885.0          \n4                                              890.0          \n\n  Hydro Water Reservoir  - Actual Aggregated [MW]  \\\n0                                           353.0   \n1                                           321.0   \n2                                           330.0   \n3                                           275.0   \n4                                           269.0   \n\n  Marine  - Actual Aggregated [MW]  Nuclear  - Actual Aggregated [MW]  \\\n0                              n/e                                n/e   \n1                              n/e                                n/e   \n2                              n/e                                n/e   \n3                              n/e                                n/e   \n4                              n/e                                n/e   \n\n   Other  - Actual Aggregated [MW] Other renewable  - Actual Aggregated [MW]  \\\n0                              n/e                                       n/e   \n1                              n/e                                       n/e   \n2                              n/e                                       n/e   \n3                              n/e                                       n/e   \n4                              n/e                                       n/e   \n\n  Solar  - Actual Aggregated [MW] Waste  - Actual Aggregated [MW]  \\\n0                             n/e                             9.0   \n1                             n/e                             8.0   \n2                             n/e                             8.0   \n3                             n/e                             8.0   \n4                             n/e                             8.0   \n\n  Wind Offshore  - Actual Aggregated [MW]  \\\n0                                     n/e   \n1                                     n/e   \n2                                     n/e   \n3                                     n/e   \n4                                     n/e   \n\n  Wind Onshore  - Actual Aggregated [MW]  \n0                                  139.0  \n1                                  172.0  \n2                                  151.0  \n3                                  160.0  \n4                                  148.0  \n\n[5 rows x 23 columns]",
      "text/html": "<div>\n<style scoped>\n    .dataframe tbody tr th:only-of-type {\n        vertical-align: middle;\n    }\n\n    .dataframe tbody tr th {\n        vertical-align: top;\n    }\n\n    .dataframe thead th {\n        text-align: right;\n    }\n</style>\n<table border=\"1\" class=\"dataframe\">\n  <thead>\n    <tr style=\"text-align: right;\">\n      <th></th>\n      <th>Area</th>\n      <th>MTU</th>\n      <th>Biomass  - Actual Aggregated [MW]</th>\n      <th>Fossil Brown coal/Lignite  - Actual Aggregated [MW]</th>\n      <th>Fossil Coal-derived gas  - Actual Aggregated [MW]</th>\n      <th>Fossil Gas  - Actual Aggregated [MW]</th>\n      <th>Fossil Hard coal  - Actual Aggregated [MW]</th>\n      <th>Fossil Oil  - Actual Aggregated [MW]</th>\n      <th>Fossil Oil shale  - Actual Aggregated [MW]</th>\n      <th>Fossil Peat  - Actual Aggregated [MW]</th>\n      <th>...</th>\n      <th>Hydro Run-of-river and poundage  - Actual Aggregated [MW]</th>\n      <th>Hydro Water Reservoir  - Actual Aggregated [MW]</th>\n      <th>Marine  - Actual Aggregated [MW]</th>\n      <th>Nuclear  - Actual Aggregated [MW]</th>\n      <th>Other  - Actual Aggregated [MW]</th>\n      <th>Other renewable  - Actual Aggregated [MW]</th>\n      <th>Solar  - Actual Aggregated [MW]</th>\n      <th>Waste  - Actual Aggregated [MW]</th>\n      <th>Wind Offshore  - Actual Aggregated [MW]</th>\n      <th>Wind Onshore  - Actual Aggregated [MW]</th>\n    </tr>\n  </thead>\n  <tbody>\n    <tr>\n      <th>0</th>\n      <td>BZN|NO1</td>\n      <td>01.01.2022 00:00 - 01.01.2022 01:00 (CET/CEST)</td>\n      <td>0.0</td>\n      <td>n/e</td>\n      <td>n/e</td>\n      <td>0.0</td>\n      <td>n/e</td>\n      <td>n/e</td>\n      <td>n/e</td>\n      <td>n/e</td>\n      <td>...</td>\n      <td>899.0</td>\n      <td>353.0</td>\n      <td>n/e</td>\n      <td>n/e</td>\n      <td>n/e</td>\n      <td>n/e</td>\n      <td>n/e</td>\n      <td>9.0</td>\n      <td>n/e</td>\n      <td>139.0</td>\n    </tr>\n    <tr>\n      <th>1</th>\n      <td>BZN|NO1</td>\n      <td>01.01.2022 01:00 - 01.01.2022 02:00 (CET/CEST)</td>\n      <td>0.0</td>\n      <td>n/e</td>\n      <td>n/e</td>\n      <td>0.0</td>\n      <td>n/e</td>\n      <td>n/e</td>\n      <td>n/e</td>\n      <td>n/e</td>\n      <td>...</td>\n      <td>878.0</td>\n      <td>321.0</td>\n      <td>n/e</td>\n      <td>n/e</td>\n      <td>n/e</td>\n      <td>n/e</td>\n      <td>n/e</td>\n      <td>8.0</td>\n      <td>n/e</td>\n      <td>172.0</td>\n    </tr>\n    <tr>\n      <th>2</th>\n      <td>BZN|NO1</td>\n      <td>01.01.2022 02:00 - 01.01.2022 03:00 (CET/CEST)</td>\n      <td>0.0</td>\n      <td>n/e</td>\n      <td>n/e</td>\n      <td>0.0</td>\n      <td>n/e</td>\n      <td>n/e</td>\n      <td>n/e</td>\n      <td>n/e</td>\n      <td>...</td>\n      <td>897.0</td>\n      <td>330.0</td>\n      <td>n/e</td>\n      <td>n/e</td>\n      <td>n/e</td>\n      <td>n/e</td>\n      <td>n/e</td>\n      <td>8.0</td>\n      <td>n/e</td>\n      <td>151.0</td>\n    </tr>\n    <tr>\n      <th>3</th>\n      <td>BZN|NO1</td>\n      <td>01.01.2022 03:00 - 01.01.2022 04:00 (CET/CEST)</td>\n      <td>0.0</td>\n      <td>n/e</td>\n      <td>n/e</td>\n      <td>0.0</td>\n      <td>n/e</td>\n      <td>n/e</td>\n      <td>n/e</td>\n      <td>n/e</td>\n      <td>...</td>\n      <td>885.0</td>\n      <td>275.0</td>\n      <td>n/e</td>\n      <td>n/e</td>\n      <td>n/e</td>\n      <td>n/e</td>\n      <td>n/e</td>\n      <td>8.0</td>\n      <td>n/e</td>\n      <td>160.0</td>\n    </tr>\n    <tr>\n      <th>4</th>\n      <td>BZN|NO1</td>\n      <td>01.01.2022 04:00 - 01.01.2022 05:00 (CET/CEST)</td>\n      <td>0.0</td>\n      <td>n/e</td>\n      <td>n/e</td>\n      <td>0.0</td>\n      <td>n/e</td>\n      <td>n/e</td>\n      <td>n/e</td>\n      <td>n/e</td>\n      <td>...</td>\n      <td>890.0</td>\n      <td>269.0</td>\n      <td>n/e</td>\n      <td>n/e</td>\n      <td>n/e</td>\n      <td>n/e</td>\n      <td>n/e</td>\n      <td>8.0</td>\n      <td>n/e</td>\n      <td>148.0</td>\n    </tr>\n  </tbody>\n</table>\n<p>5 rows × 23 columns</p>\n</div>"
     },
     "execution_count": 27,
     "metadata": {},
     "output_type": "execute_result"
    }
   ],
   "source": [
    "actual_generation_no1.head()"
   ]
  },
  {
   "cell_type": "code",
   "execution_count": 28,
   "id": "b31db664",
   "metadata": {},
   "outputs": [
    {
     "data": {
      "text/plain": "      Area                                  MTU (CET/CEST)  Biomass - BZN|NO1  \\\n0  BZN|NO1  01.01.2022 00:00 - 01.01.2022 01:00 (CET/CEST)                0.0   \n1  BZN|NO1  01.01.2022 01:00 - 01.01.2022 02:00 (CET/CEST)                0.0   \n2  BZN|NO1  01.01.2022 02:00 - 01.01.2022 03:00 (CET/CEST)                0.0   \n3  BZN|NO1  01.01.2022 03:00 - 01.01.2022 04:00 (CET/CEST)                0.0   \n4  BZN|NO1  01.01.2022 04:00 - 01.01.2022 05:00 (CET/CEST)                0.0   \n\n  Fossil Brown coal/Lignite - BZN|NO1 Fossil Coal-derived gas - BZN|NO1  \\\n0                                 n/e                               n/e   \n1                                 n/e                               n/e   \n2                                 n/e                               n/e   \n3                                 n/e                               n/e   \n4                                 n/e                               n/e   \n\n   Fossil Gas - BZN|NO1 Fossil Hard coal - BZN|NO1 Fossil Oil - BZN|NO1  \\\n0                   0.0                        n/e                  n/e   \n1                   0.0                        n/e                  n/e   \n2                   0.0                        n/e                  n/e   \n3                   0.0                        n/e                  n/e   \n4                   0.0                        n/e                  n/e   \n\n  Fossil Oil shale - BZN|NO1 Fossil Peat - BZN|NO1  ...  \\\n0                        n/e                   n/e  ...   \n1                        n/e                   n/e  ...   \n2                        n/e                   n/e  ...   \n3                        n/e                   n/e  ...   \n4                        n/e                   n/e  ...   \n\n  Hydro Run-of-river and poundage - BZN|NO1 Hydro Water Reservoir - BZN|NO1  \\\n0                                     899.0                           353.0   \n1                                     878.0                           321.0   \n2                                     897.0                           330.0   \n3                                     885.0                           275.0   \n4                                     890.0                           269.0   \n\n  Marine - BZN|NO1  Nuclear - BZN|NO1  Other - BZN|NO1  \\\n0              n/e                n/e              n/e   \n1              n/e                n/e              n/e   \n2              n/e                n/e              n/e   \n3              n/e                n/e              n/e   \n4              n/e                n/e              n/e   \n\n  Other renewable - BZN|NO1 Solar - BZN|NO1 Waste - BZN|NO1  \\\n0                       n/e             n/e             9.0   \n1                       n/e             n/e             8.0   \n2                       n/e             n/e             8.0   \n3                       n/e             n/e             8.0   \n4                       n/e             n/e             8.0   \n\n  Wind Offshore - BZN|NO1 Wind Onshore - BZN|NO1  \n0                     n/e                  139.0  \n1                     n/e                  172.0  \n2                     n/e                  151.0  \n3                     n/e                  160.0  \n4                     n/e                  148.0  \n\n[5 rows x 23 columns]",
      "text/html": "<div>\n<style scoped>\n    .dataframe tbody tr th:only-of-type {\n        vertical-align: middle;\n    }\n\n    .dataframe tbody tr th {\n        vertical-align: top;\n    }\n\n    .dataframe thead th {\n        text-align: right;\n    }\n</style>\n<table border=\"1\" class=\"dataframe\">\n  <thead>\n    <tr style=\"text-align: right;\">\n      <th></th>\n      <th>Area</th>\n      <th>MTU (CET/CEST)</th>\n      <th>Biomass - BZN|NO1</th>\n      <th>Fossil Brown coal/Lignite - BZN|NO1</th>\n      <th>Fossil Coal-derived gas - BZN|NO1</th>\n      <th>Fossil Gas - BZN|NO1</th>\n      <th>Fossil Hard coal - BZN|NO1</th>\n      <th>Fossil Oil - BZN|NO1</th>\n      <th>Fossil Oil shale - BZN|NO1</th>\n      <th>Fossil Peat - BZN|NO1</th>\n      <th>...</th>\n      <th>Hydro Run-of-river and poundage - BZN|NO1</th>\n      <th>Hydro Water Reservoir - BZN|NO1</th>\n      <th>Marine - BZN|NO1</th>\n      <th>Nuclear - BZN|NO1</th>\n      <th>Other - BZN|NO1</th>\n      <th>Other renewable - BZN|NO1</th>\n      <th>Solar - BZN|NO1</th>\n      <th>Waste - BZN|NO1</th>\n      <th>Wind Offshore - BZN|NO1</th>\n      <th>Wind Onshore - BZN|NO1</th>\n    </tr>\n  </thead>\n  <tbody>\n    <tr>\n      <th>0</th>\n      <td>BZN|NO1</td>\n      <td>01.01.2022 00:00 - 01.01.2022 01:00 (CET/CEST)</td>\n      <td>0.0</td>\n      <td>n/e</td>\n      <td>n/e</td>\n      <td>0.0</td>\n      <td>n/e</td>\n      <td>n/e</td>\n      <td>n/e</td>\n      <td>n/e</td>\n      <td>...</td>\n      <td>899.0</td>\n      <td>353.0</td>\n      <td>n/e</td>\n      <td>n/e</td>\n      <td>n/e</td>\n      <td>n/e</td>\n      <td>n/e</td>\n      <td>9.0</td>\n      <td>n/e</td>\n      <td>139.0</td>\n    </tr>\n    <tr>\n      <th>1</th>\n      <td>BZN|NO1</td>\n      <td>01.01.2022 01:00 - 01.01.2022 02:00 (CET/CEST)</td>\n      <td>0.0</td>\n      <td>n/e</td>\n      <td>n/e</td>\n      <td>0.0</td>\n      <td>n/e</td>\n      <td>n/e</td>\n      <td>n/e</td>\n      <td>n/e</td>\n      <td>...</td>\n      <td>878.0</td>\n      <td>321.0</td>\n      <td>n/e</td>\n      <td>n/e</td>\n      <td>n/e</td>\n      <td>n/e</td>\n      <td>n/e</td>\n      <td>8.0</td>\n      <td>n/e</td>\n      <td>172.0</td>\n    </tr>\n    <tr>\n      <th>2</th>\n      <td>BZN|NO1</td>\n      <td>01.01.2022 02:00 - 01.01.2022 03:00 (CET/CEST)</td>\n      <td>0.0</td>\n      <td>n/e</td>\n      <td>n/e</td>\n      <td>0.0</td>\n      <td>n/e</td>\n      <td>n/e</td>\n      <td>n/e</td>\n      <td>n/e</td>\n      <td>...</td>\n      <td>897.0</td>\n      <td>330.0</td>\n      <td>n/e</td>\n      <td>n/e</td>\n      <td>n/e</td>\n      <td>n/e</td>\n      <td>n/e</td>\n      <td>8.0</td>\n      <td>n/e</td>\n      <td>151.0</td>\n    </tr>\n    <tr>\n      <th>3</th>\n      <td>BZN|NO1</td>\n      <td>01.01.2022 03:00 - 01.01.2022 04:00 (CET/CEST)</td>\n      <td>0.0</td>\n      <td>n/e</td>\n      <td>n/e</td>\n      <td>0.0</td>\n      <td>n/e</td>\n      <td>n/e</td>\n      <td>n/e</td>\n      <td>n/e</td>\n      <td>...</td>\n      <td>885.0</td>\n      <td>275.0</td>\n      <td>n/e</td>\n      <td>n/e</td>\n      <td>n/e</td>\n      <td>n/e</td>\n      <td>n/e</td>\n      <td>8.0</td>\n      <td>n/e</td>\n      <td>160.0</td>\n    </tr>\n    <tr>\n      <th>4</th>\n      <td>BZN|NO1</td>\n      <td>01.01.2022 04:00 - 01.01.2022 05:00 (CET/CEST)</td>\n      <td>0.0</td>\n      <td>n/e</td>\n      <td>n/e</td>\n      <td>0.0</td>\n      <td>n/e</td>\n      <td>n/e</td>\n      <td>n/e</td>\n      <td>n/e</td>\n      <td>...</td>\n      <td>890.0</td>\n      <td>269.0</td>\n      <td>n/e</td>\n      <td>n/e</td>\n      <td>n/e</td>\n      <td>n/e</td>\n      <td>n/e</td>\n      <td>8.0</td>\n      <td>n/e</td>\n      <td>148.0</td>\n    </tr>\n  </tbody>\n</table>\n<p>5 rows × 23 columns</p>\n</div>"
     },
     "execution_count": 28,
     "metadata": {},
     "output_type": "execute_result"
    }
   ],
   "source": [
    "# Renaming every column to have zones instead of using a column for 'Area'\n",
    "actual_generation_no1.columns = ['Area','MTU (CET/CEST)','Biomass - BZN|NO1', 'Fossil Brown coal/Lignite - BZN|NO1', 'Fossil Coal-derived gas - BZN|NO1', 'Fossil Gas - BZN|NO1', 'Fossil Hard coal - BZN|NO1', 'Fossil Oil - BZN|NO1', 'Fossil Oil shale - BZN|NO1', 'Fossil Peat - BZN|NO1', 'Geothermal - BZN|NO1', 'Hydro Pumped Storage Aggregated- BZN|NO1', 'Hydro Pumped Storage Consumption - BZN|NO1', 'Hydro Run-of-river and poundage - BZN|NO1', 'Hydro Water Reservoir - BZN|NO1', 'Marine - BZN|NO1', 'Nuclear - BZN|NO1', 'Other - BZN|NO1', 'Other renewable - BZN|NO1', 'Solar - BZN|NO1', 'Waste - BZN|NO1', 'Wind Offshore - BZN|NO1', 'Wind Onshore - BZN|NO1']\n",
    "actual_generation_no2.columns = ['Area','MTU (CET/CEST)','Biomass - BZN|NO2', 'Fossil Brown coal/Lignite - BZN|NO2', 'Fossil Coal-derived gas - BZN|NO2', 'Fossil Gas - BZN|NO2', 'Fossil Hard coal - BZN|NO2', 'Fossil Oil - BZN|NO2', 'Fossil Oil shale - BZN|NO2', 'Fossil Peat - BZN|NO2', 'Geothermal - BZN|NO2', 'Hydro Pumped Storage Aggregated- BZN|NO2', 'Hydro Pumped Storage Consumption - BZN|NO2', 'Hydro Run-of-river and poundage - BZN|NO1', 'Hydro Water Reservoir - BZN|NO2', 'Marine - BZN|NO2', 'Nuclear - BZN|NO2', 'Other - BZN|NO2', 'Other renewable - BZN|NO2', 'Solar - BZN|NO2', 'Waste - BZN|NO2', 'Wind Offshore - BZN|NO2', 'Wind Onshore - BZN|NO2']\n",
    "actual_generation_no3.columns = ['Area','MTU (CET/CEST)','Biomass - BZN|NO3', 'Fossil Brown coal/Lignite - BZN|NO3', 'Fossil Coal-derived gas - BZN|NO3', 'Fossil Gas - BZN|NO3', 'Fossil Hard coal - BZN|NO3', 'Fossil Oil - BZN|NO3', 'Fossil Oil shale - BZN|NO3', 'Fossil Peat - BZN|NO3', 'Geothermal - BZN|NO3', 'Hydro Pumped Storage Aggregated- BZN|NO3', 'Hydro Pumped Storage Consumption - BZN|NO3', 'Hydro Run-of-river and poundage - BZN|NO3', 'Hydro Water Reservoir - BZN|NO3', 'Marine - BZN|NO3', 'Nuclear - BZN|NO3', 'Other - BZN|NO3', 'Other renewable - BZN|NO3', 'Solar - BZN|NO3', 'Waste - BZN|NO3', 'Wind Offshore - BZN|NO3', 'Wind Onshore - BZN|NO3']\n",
    "actual_generation_no5.columns = ['Area','MTU (CET/CEST)','Biomass - BZN|NO5', 'Fossil Brown coal/Lignite - BZN|NO5', 'Fossil Coal-derived gas - BZN|NO5', 'Fossil Gas - BZN|NO5', 'Fossil Hard coal - BZN|NO5', 'Fossil Oil - BZN|NO5', 'Fossil Oil shale - BZN|NO5', 'Fossil Peat - BZN|NO5', 'Geothermal - BZN|NO5', 'Hydro Pumped Storage Aggregated- BZN|NO5', 'Hydro Pumped Storage Consumption - BZN|NO5', 'Hydro Run-of-river and poundage - BZN|NO5', 'Hydro Water Reservoir - BZN|NO5', 'Marine - BZN|NO5', 'Nuclear - BZN|NO5', 'Other - BZN|NO5', 'Other renewable - BZN|NO5', 'Solar - BZN|NO5', 'Waste - BZN|NO5', 'Wind Offshore - BZN|NO5', 'Wind Onshore - BZN|NO5']\n",
    "actual_generation_se3.columns = ['Area','MTU (CET/CEST)','Biomass - BZN|SE3', 'Fossil Brown coal/Lignite - BZN|SE3', 'Fossil Coal-derived gas - BZN|SE3', 'Fossil Gas - BZN|SE3', 'Fossil Hard coal - BZN|SE3', 'Fossil Oil - BZN|SE3', 'Fossil Oil shale - BZN|SE3', 'Fossil Peat - BZN|SE3', 'Geothermal - BZN|SE3', 'Hydro Pumped Storage Aggregated- BZN|SE3', 'Hydro Pumped Storage Consumption - BZN|SE3', 'Hydro Run-of-river and poundage - BZN|SE3', 'Hydro Water Reservoir - BZN|SE3', 'Marine - BZN|SE3', 'Nuclear - BZN|SE3', 'Other - BZN|SE3', 'Other renewable - BZN|SE3', 'Solar - BZN|SE3', 'Waste - BZN|SE3', 'Wind Offshore - BZN|SE3', 'Wind Onshore - BZN|SE3']\n",
    "actual_generation_no1.head()"
   ]
  },
  {
   "cell_type": "code",
   "execution_count": 29,
   "id": "af73ba7c",
   "metadata": {},
   "outputs": [
    {
     "data": {
      "text/plain": "                                   MTU (CET/CEST)  Biomass - BZN|NO1  \\\n0  01.01.2022 00:00 - 01.01.2022 01:00 (CET/CEST)                0.0   \n1  01.01.2022 01:00 - 01.01.2022 02:00 (CET/CEST)                0.0   \n2  01.01.2022 02:00 - 01.01.2022 03:00 (CET/CEST)                0.0   \n3  01.01.2022 03:00 - 01.01.2022 04:00 (CET/CEST)                0.0   \n4  01.01.2022 04:00 - 01.01.2022 05:00 (CET/CEST)                0.0   \n\n  Fossil Brown coal/Lignite - BZN|NO1 Fossil Coal-derived gas - BZN|NO1  \\\n0                                 n/e                               n/e   \n1                                 n/e                               n/e   \n2                                 n/e                               n/e   \n3                                 n/e                               n/e   \n4                                 n/e                               n/e   \n\n   Fossil Gas - BZN|NO1 Fossil Hard coal - BZN|NO1 Fossil Oil - BZN|NO1  \\\n0                   0.0                        n/e                  n/e   \n1                   0.0                        n/e                  n/e   \n2                   0.0                        n/e                  n/e   \n3                   0.0                        n/e                  n/e   \n4                   0.0                        n/e                  n/e   \n\n  Fossil Oil shale - BZN|NO1 Fossil Peat - BZN|NO1 Geothermal - BZN|NO1  ...  \\\n0                        n/e                   n/e                  n/e  ...   \n1                        n/e                   n/e                  n/e  ...   \n2                        n/e                   n/e                  n/e  ...   \n3                        n/e                   n/e                  n/e  ...   \n4                        n/e                   n/e                  n/e  ...   \n\n  Hydro Run-of-river and poundage - BZN|NO1 Hydro Water Reservoir - BZN|NO1  \\\n0                                     899.0                           353.0   \n1                                     878.0                           321.0   \n2                                     897.0                           330.0   \n3                                     885.0                           275.0   \n4                                     890.0                           269.0   \n\n   Marine - BZN|NO1  Nuclear - BZN|NO1 Other - BZN|NO1  \\\n0               n/e                n/e             n/e   \n1               n/e                n/e             n/e   \n2               n/e                n/e             n/e   \n3               n/e                n/e             n/e   \n4               n/e                n/e             n/e   \n\n  Other renewable - BZN|NO1 Solar - BZN|NO1 Waste - BZN|NO1  \\\n0                       n/e             n/e             9.0   \n1                       n/e             n/e             8.0   \n2                       n/e             n/e             8.0   \n3                       n/e             n/e             8.0   \n4                       n/e             n/e             8.0   \n\n  Wind Offshore - BZN|NO1  Wind Onshore - BZN|NO1  \n0                     n/e                   139.0  \n1                     n/e                   172.0  \n2                     n/e                   151.0  \n3                     n/e                   160.0  \n4                     n/e                   148.0  \n\n[5 rows x 22 columns]",
      "text/html": "<div>\n<style scoped>\n    .dataframe tbody tr th:only-of-type {\n        vertical-align: middle;\n    }\n\n    .dataframe tbody tr th {\n        vertical-align: top;\n    }\n\n    .dataframe thead th {\n        text-align: right;\n    }\n</style>\n<table border=\"1\" class=\"dataframe\">\n  <thead>\n    <tr style=\"text-align: right;\">\n      <th></th>\n      <th>MTU (CET/CEST)</th>\n      <th>Biomass - BZN|NO1</th>\n      <th>Fossil Brown coal/Lignite - BZN|NO1</th>\n      <th>Fossil Coal-derived gas - BZN|NO1</th>\n      <th>Fossil Gas - BZN|NO1</th>\n      <th>Fossil Hard coal - BZN|NO1</th>\n      <th>Fossil Oil - BZN|NO1</th>\n      <th>Fossil Oil shale - BZN|NO1</th>\n      <th>Fossil Peat - BZN|NO1</th>\n      <th>Geothermal - BZN|NO1</th>\n      <th>...</th>\n      <th>Hydro Run-of-river and poundage - BZN|NO1</th>\n      <th>Hydro Water Reservoir - BZN|NO1</th>\n      <th>Marine - BZN|NO1</th>\n      <th>Nuclear - BZN|NO1</th>\n      <th>Other - BZN|NO1</th>\n      <th>Other renewable - BZN|NO1</th>\n      <th>Solar - BZN|NO1</th>\n      <th>Waste - BZN|NO1</th>\n      <th>Wind Offshore - BZN|NO1</th>\n      <th>Wind Onshore - BZN|NO1</th>\n    </tr>\n  </thead>\n  <tbody>\n    <tr>\n      <th>0</th>\n      <td>01.01.2022 00:00 - 01.01.2022 01:00 (CET/CEST)</td>\n      <td>0.0</td>\n      <td>n/e</td>\n      <td>n/e</td>\n      <td>0.0</td>\n      <td>n/e</td>\n      <td>n/e</td>\n      <td>n/e</td>\n      <td>n/e</td>\n      <td>n/e</td>\n      <td>...</td>\n      <td>899.0</td>\n      <td>353.0</td>\n      <td>n/e</td>\n      <td>n/e</td>\n      <td>n/e</td>\n      <td>n/e</td>\n      <td>n/e</td>\n      <td>9.0</td>\n      <td>n/e</td>\n      <td>139.0</td>\n    </tr>\n    <tr>\n      <th>1</th>\n      <td>01.01.2022 01:00 - 01.01.2022 02:00 (CET/CEST)</td>\n      <td>0.0</td>\n      <td>n/e</td>\n      <td>n/e</td>\n      <td>0.0</td>\n      <td>n/e</td>\n      <td>n/e</td>\n      <td>n/e</td>\n      <td>n/e</td>\n      <td>n/e</td>\n      <td>...</td>\n      <td>878.0</td>\n      <td>321.0</td>\n      <td>n/e</td>\n      <td>n/e</td>\n      <td>n/e</td>\n      <td>n/e</td>\n      <td>n/e</td>\n      <td>8.0</td>\n      <td>n/e</td>\n      <td>172.0</td>\n    </tr>\n    <tr>\n      <th>2</th>\n      <td>01.01.2022 02:00 - 01.01.2022 03:00 (CET/CEST)</td>\n      <td>0.0</td>\n      <td>n/e</td>\n      <td>n/e</td>\n      <td>0.0</td>\n      <td>n/e</td>\n      <td>n/e</td>\n      <td>n/e</td>\n      <td>n/e</td>\n      <td>n/e</td>\n      <td>...</td>\n      <td>897.0</td>\n      <td>330.0</td>\n      <td>n/e</td>\n      <td>n/e</td>\n      <td>n/e</td>\n      <td>n/e</td>\n      <td>n/e</td>\n      <td>8.0</td>\n      <td>n/e</td>\n      <td>151.0</td>\n    </tr>\n    <tr>\n      <th>3</th>\n      <td>01.01.2022 03:00 - 01.01.2022 04:00 (CET/CEST)</td>\n      <td>0.0</td>\n      <td>n/e</td>\n      <td>n/e</td>\n      <td>0.0</td>\n      <td>n/e</td>\n      <td>n/e</td>\n      <td>n/e</td>\n      <td>n/e</td>\n      <td>n/e</td>\n      <td>...</td>\n      <td>885.0</td>\n      <td>275.0</td>\n      <td>n/e</td>\n      <td>n/e</td>\n      <td>n/e</td>\n      <td>n/e</td>\n      <td>n/e</td>\n      <td>8.0</td>\n      <td>n/e</td>\n      <td>160.0</td>\n    </tr>\n    <tr>\n      <th>4</th>\n      <td>01.01.2022 04:00 - 01.01.2022 05:00 (CET/CEST)</td>\n      <td>0.0</td>\n      <td>n/e</td>\n      <td>n/e</td>\n      <td>0.0</td>\n      <td>n/e</td>\n      <td>n/e</td>\n      <td>n/e</td>\n      <td>n/e</td>\n      <td>n/e</td>\n      <td>...</td>\n      <td>890.0</td>\n      <td>269.0</td>\n      <td>n/e</td>\n      <td>n/e</td>\n      <td>n/e</td>\n      <td>n/e</td>\n      <td>n/e</td>\n      <td>8.0</td>\n      <td>n/e</td>\n      <td>148.0</td>\n    </tr>\n  </tbody>\n</table>\n<p>5 rows × 22 columns</p>\n</div>"
     },
     "execution_count": 29,
     "metadata": {},
     "output_type": "execute_result"
    }
   ],
   "source": [
    "# Dropping area because we keep the zone name in the column name\n",
    "actual_generation_no1 = actual_generation_no1.drop(['Area'], axis=1)\n",
    "actual_generation_no2 = actual_generation_no2.drop(['Area'], axis=1)\n",
    "actual_generation_no3 = actual_generation_no3.drop(['Area'], axis=1)\n",
    "actual_generation_no5 = actual_generation_no5.drop(['Area'], axis=1)\n",
    "actual_generation_se3 = actual_generation_se3.drop(['Area'], axis=1)\n",
    "actual_generation_no1.head()"
   ]
  },
  {
   "cell_type": "code",
   "execution_count": 30,
   "id": "abc56399",
   "metadata": {},
   "outputs": [
    {
     "data": {
      "text/plain": "                                   MTU (CET/CEST)  Biomass - BZN|NO1  \\\n0  01.01.2022 00:00 - 01.01.2022 01:00 (CET/CEST)                0.0   \n1  01.01.2022 01:00 - 01.01.2022 02:00 (CET/CEST)                0.0   \n2  01.01.2022 02:00 - 01.01.2022 03:00 (CET/CEST)                0.0   \n3  01.01.2022 03:00 - 01.01.2022 04:00 (CET/CEST)                0.0   \n4  01.01.2022 04:00 - 01.01.2022 05:00 (CET/CEST)                0.0   \n\n  Fossil Brown coal/Lignite - BZN|NO1 Fossil Coal-derived gas - BZN|NO1  \\\n0                                 n/e                               n/e   \n1                                 n/e                               n/e   \n2                                 n/e                               n/e   \n3                                 n/e                               n/e   \n4                                 n/e                               n/e   \n\n   Fossil Gas - BZN|NO1 Fossil Hard coal - BZN|NO1 Fossil Oil - BZN|NO1  \\\n0                   0.0                        n/e                  n/e   \n1                   0.0                        n/e                  n/e   \n2                   0.0                        n/e                  n/e   \n3                   0.0                        n/e                  n/e   \n4                   0.0                        n/e                  n/e   \n\n  Fossil Oil shale - BZN|NO1 Fossil Peat - BZN|NO1 Geothermal - BZN|NO1  ...  \\\n0                        n/e                   n/e                  n/e  ...   \n1                        n/e                   n/e                  n/e  ...   \n2                        n/e                   n/e                  n/e  ...   \n3                        n/e                   n/e                  n/e  ...   \n4                        n/e                   n/e                  n/e  ...   \n\n  Hydro Run-of-river and poundage - BZN|SE3 Hydro Water Reservoir - BZN|SE3  \\\n0                                       n/e                           824.0   \n1                                       n/e                           818.0   \n2                                       n/e                           818.0   \n3                                       n/e                           838.0   \n4                                       n/e                           842.0   \n\n   Marine - BZN|SE3  Nuclear - BZN|SE3 Other - BZN|SE3  \\\n0                 0             5841.0           892.0   \n1                 0             5842.0           851.0   \n2                 0             5839.0           858.0   \n3                 0             5839.0           859.0   \n4                 0             5840.0           856.0   \n\n  Other renewable - BZN|SE3 Solar - BZN|SE3 Waste - BZN|SE3  \\\n0                       n/e             0.0             n/e   \n1                       n/e             0.0             n/e   \n2                       n/e             0.0             n/e   \n3                       n/e             0.0             n/e   \n4                       n/e             0.0             n/e   \n\n  Wind Offshore - BZN|SE3  Wind Onshore - BZN|SE3  \n0                     n/e                  1062.0  \n1                     n/e                   999.0  \n2                     n/e                   958.0  \n3                     n/e                   888.0  \n4                     n/e                   788.0  \n\n[5 rows x 106 columns]",
      "text/html": "<div>\n<style scoped>\n    .dataframe tbody tr th:only-of-type {\n        vertical-align: middle;\n    }\n\n    .dataframe tbody tr th {\n        vertical-align: top;\n    }\n\n    .dataframe thead th {\n        text-align: right;\n    }\n</style>\n<table border=\"1\" class=\"dataframe\">\n  <thead>\n    <tr style=\"text-align: right;\">\n      <th></th>\n      <th>MTU (CET/CEST)</th>\n      <th>Biomass - BZN|NO1</th>\n      <th>Fossil Brown coal/Lignite - BZN|NO1</th>\n      <th>Fossil Coal-derived gas - BZN|NO1</th>\n      <th>Fossil Gas - BZN|NO1</th>\n      <th>Fossil Hard coal - BZN|NO1</th>\n      <th>Fossil Oil - BZN|NO1</th>\n      <th>Fossil Oil shale - BZN|NO1</th>\n      <th>Fossil Peat - BZN|NO1</th>\n      <th>Geothermal - BZN|NO1</th>\n      <th>...</th>\n      <th>Hydro Run-of-river and poundage - BZN|SE3</th>\n      <th>Hydro Water Reservoir - BZN|SE3</th>\n      <th>Marine - BZN|SE3</th>\n      <th>Nuclear - BZN|SE3</th>\n      <th>Other - BZN|SE3</th>\n      <th>Other renewable - BZN|SE3</th>\n      <th>Solar - BZN|SE3</th>\n      <th>Waste - BZN|SE3</th>\n      <th>Wind Offshore - BZN|SE3</th>\n      <th>Wind Onshore - BZN|SE3</th>\n    </tr>\n  </thead>\n  <tbody>\n    <tr>\n      <th>0</th>\n      <td>01.01.2022 00:00 - 01.01.2022 01:00 (CET/CEST)</td>\n      <td>0.0</td>\n      <td>n/e</td>\n      <td>n/e</td>\n      <td>0.0</td>\n      <td>n/e</td>\n      <td>n/e</td>\n      <td>n/e</td>\n      <td>n/e</td>\n      <td>n/e</td>\n      <td>...</td>\n      <td>n/e</td>\n      <td>824.0</td>\n      <td>0</td>\n      <td>5841.0</td>\n      <td>892.0</td>\n      <td>n/e</td>\n      <td>0.0</td>\n      <td>n/e</td>\n      <td>n/e</td>\n      <td>1062.0</td>\n    </tr>\n    <tr>\n      <th>1</th>\n      <td>01.01.2022 01:00 - 01.01.2022 02:00 (CET/CEST)</td>\n      <td>0.0</td>\n      <td>n/e</td>\n      <td>n/e</td>\n      <td>0.0</td>\n      <td>n/e</td>\n      <td>n/e</td>\n      <td>n/e</td>\n      <td>n/e</td>\n      <td>n/e</td>\n      <td>...</td>\n      <td>n/e</td>\n      <td>818.0</td>\n      <td>0</td>\n      <td>5842.0</td>\n      <td>851.0</td>\n      <td>n/e</td>\n      <td>0.0</td>\n      <td>n/e</td>\n      <td>n/e</td>\n      <td>999.0</td>\n    </tr>\n    <tr>\n      <th>2</th>\n      <td>01.01.2022 02:00 - 01.01.2022 03:00 (CET/CEST)</td>\n      <td>0.0</td>\n      <td>n/e</td>\n      <td>n/e</td>\n      <td>0.0</td>\n      <td>n/e</td>\n      <td>n/e</td>\n      <td>n/e</td>\n      <td>n/e</td>\n      <td>n/e</td>\n      <td>...</td>\n      <td>n/e</td>\n      <td>818.0</td>\n      <td>0</td>\n      <td>5839.0</td>\n      <td>858.0</td>\n      <td>n/e</td>\n      <td>0.0</td>\n      <td>n/e</td>\n      <td>n/e</td>\n      <td>958.0</td>\n    </tr>\n    <tr>\n      <th>3</th>\n      <td>01.01.2022 03:00 - 01.01.2022 04:00 (CET/CEST)</td>\n      <td>0.0</td>\n      <td>n/e</td>\n      <td>n/e</td>\n      <td>0.0</td>\n      <td>n/e</td>\n      <td>n/e</td>\n      <td>n/e</td>\n      <td>n/e</td>\n      <td>n/e</td>\n      <td>...</td>\n      <td>n/e</td>\n      <td>838.0</td>\n      <td>0</td>\n      <td>5839.0</td>\n      <td>859.0</td>\n      <td>n/e</td>\n      <td>0.0</td>\n      <td>n/e</td>\n      <td>n/e</td>\n      <td>888.0</td>\n    </tr>\n    <tr>\n      <th>4</th>\n      <td>01.01.2022 04:00 - 01.01.2022 05:00 (CET/CEST)</td>\n      <td>0.0</td>\n      <td>n/e</td>\n      <td>n/e</td>\n      <td>0.0</td>\n      <td>n/e</td>\n      <td>n/e</td>\n      <td>n/e</td>\n      <td>n/e</td>\n      <td>n/e</td>\n      <td>...</td>\n      <td>n/e</td>\n      <td>842.0</td>\n      <td>0</td>\n      <td>5840.0</td>\n      <td>856.0</td>\n      <td>n/e</td>\n      <td>0.0</td>\n      <td>n/e</td>\n      <td>n/e</td>\n      <td>788.0</td>\n    </tr>\n  </tbody>\n</table>\n<p>5 rows × 106 columns</p>\n</div>"
     },
     "execution_count": 30,
     "metadata": {},
     "output_type": "execute_result"
    }
   ],
   "source": [
    "# Creating one dataframe from the 5 dataframes for each zone\n",
    "actual_generation_dataframes = [actual_generation_no1, actual_generation_no2, actual_generation_no3, actual_generation_no5, actual_generation_se3]\n",
    "actual_generation = reduce(lambda left, right: pd.merge(left,right, on=['MTU (CET/CEST)']), actual_generation_dataframes)\n",
    "\n",
    "# printing out the resulting dataframe\n",
    "actual_generation.head()"
   ]
  },
  {
   "cell_type": "markdown",
   "id": "ed41740a",
   "metadata": {},
   "source": [
    "We have alot of columns which are used in other nations and zones that are redundant to us because there is no power generation from these sources in the zones we are looking at. Therefore, we select only the columns which keep information about power generation in each zone."
   ]
  },
  {
   "cell_type": "code",
   "execution_count": 31,
   "id": "2175f86e",
   "metadata": {},
   "outputs": [
    {
     "data": {
      "text/plain": "MTU (CET/CEST)                                  object\nBiomass - BZN|NO1                              float64\nFossil Gas - BZN|NO1                           float64\nHydro Run-of-river and poundage - BZN|NO1_x    float64\nHydro Water Reservoir - BZN|NO1                float64\nWaste - BZN|NO1                                float64\nWind Onshore - BZN|NO1                         float64\nFossil Gas - BZN|NO2                           float64\nHydro Pumped Storage Aggregated- BZN|NO2       float64\nHydro Run-of-river and poundage - BZN|NO1_y    float64\nHydro Water Reservoir - BZN|NO2                float64\nWaste - BZN|NO2                                float64\nWind Onshore - BZN|NO2                         float64\nHydro Pumped Storage Aggregated- BZN|NO3       float64\nHydro Run-of-river and poundage - BZN|NO3      float64\nHydro Water Reservoir - BZN|NO3                float64\nOther - BZN|NO3                                float64\nOther renewable - BZN|NO3                      float64\nWaste - BZN|NO3                                float64\nWind Onshore - BZN|NO3                         float64\nFossil Gas - BZN|NO5                           float64\nHydro Pumped Storage Aggregated- BZN|NO5       float64\nHydro Run-of-river and poundage - BZN|NO5      float64\nHydro Water Reservoir - BZN|NO5                float64\nWaste - BZN|NO5                                float64\nFossil Gas - BZN|SE3                           float64\nHydro Water Reservoir - BZN|SE3                float64\nNuclear - BZN|SE3                              float64\nOther - BZN|SE3                                float64\nSolar - BZN|SE3                                float64\nWind Onshore - BZN|SE3                         float64\ndtype: object"
     },
     "execution_count": 31,
     "metadata": {},
     "output_type": "execute_result"
    }
   ],
   "source": [
    "# Selecting only relevant columns\n",
    "actual_generation_selected = actual_generation[['MTU (CET/CEST)', 'Biomass - BZN|NO1', 'Fossil Gas - BZN|NO1', 'Hydro Run-of-river and poundage - BZN|NO1_x', 'Hydro Water Reservoir - BZN|NO1', 'Waste - BZN|NO1', 'Wind Onshore - BZN|NO1', 'Fossil Gas - BZN|NO2', 'Hydro Pumped Storage Aggregated- BZN|NO2', 'Hydro Run-of-river and poundage - BZN|NO1_y', 'Hydro Water Reservoir - BZN|NO2', 'Waste - BZN|NO2', 'Wind Onshore - BZN|NO2', 'Hydro Pumped Storage Aggregated- BZN|NO3', 'Hydro Run-of-river and poundage - BZN|NO3', 'Hydro Water Reservoir - BZN|NO3', 'Other - BZN|NO3', 'Other renewable - BZN|NO3', 'Waste - BZN|NO3', 'Wind Onshore - BZN|NO3', 'Fossil Gas - BZN|NO5', 'Hydro Pumped Storage Aggregated- BZN|NO5', 'Hydro Run-of-river and poundage - BZN|NO5', 'Hydro Water Reservoir - BZN|NO5', 'Waste - BZN|NO5', 'Fossil Gas - BZN|SE3', 'Hydro Water Reservoir - BZN|SE3', 'Nuclear - BZN|SE3', 'Other - BZN|SE3', 'Solar - BZN|SE3', 'Wind Onshore - BZN|SE3']].copy()\n",
    "# printing the head of the resulting dataframe\n",
    "actual_generation_selected.dtypes"
   ]
  },
  {
   "cell_type": "markdown",
   "id": "3a337189",
   "metadata": {},
   "source": [
    "We can see that the formatting of the datetime interval includes (CET/CEST) in the actual values. This extra information will ned to be removed so they mach the other datasets, and can be merged on the time column"
   ]
  },
  {
   "cell_type": "code",
   "execution_count": 32,
   "id": "5f8f8196",
   "metadata": {},
   "outputs": [
    {
     "data": {
      "text/plain": "                        MTU (CET/CEST)  Biomass - BZN|NO1  \\\n0  01.01.2022 00:00 - 01.01.2022 01:00                0.0   \n1  01.01.2022 01:00 - 01.01.2022 02:00                0.0   \n2  01.01.2022 02:00 - 01.01.2022 03:00                0.0   \n3  01.01.2022 03:00 - 01.01.2022 04:00                0.0   \n4  01.01.2022 04:00 - 01.01.2022 05:00                0.0   \n\n   Fossil Gas - BZN|NO1  Hydro Run-of-river and poundage - BZN|NO1_x  \\\n0                   0.0                                        899.0   \n1                   0.0                                        878.0   \n2                   0.0                                        897.0   \n3                   0.0                                        885.0   \n4                   0.0                                        890.0   \n\n   Hydro Water Reservoir - BZN|NO1  Waste - BZN|NO1  Wind Onshore - BZN|NO1  \\\n0                            353.0              9.0                   139.0   \n1                            321.0              8.0                   172.0   \n2                            330.0              8.0                   151.0   \n3                            275.0              8.0                   160.0   \n4                            269.0              8.0                   148.0   \n\n   Fossil Gas - BZN|NO2  Hydro Pumped Storage Aggregated- BZN|NO2  \\\n0                   0.0                                       1.0   \n1                   0.0                                       1.0   \n2                   0.0                                       1.0   \n3                   0.0                                       1.0   \n4                   0.0                                       1.0   \n\n   Hydro Run-of-river and poundage - BZN|NO1_y  ...  \\\n0                                        627.0  ...   \n1                                        629.0  ...   \n2                                        627.0  ...   \n3                                        624.0  ...   \n4                                        624.0  ...   \n\n   Hydro Pumped Storage Aggregated- BZN|NO5  \\\n0                                      66.0   \n1                                      66.0   \n2                                      66.0   \n3                                      65.0   \n4                                      65.0   \n\n   Hydro Run-of-river and poundage - BZN|NO5  Hydro Water Reservoir - BZN|NO5  \\\n0                                      234.0                           1618.0   \n1                                      227.0                           1759.0   \n2                                      216.0                           1890.0   \n3                                      215.0                           1460.0   \n4                                      209.0                           1394.0   \n\n   Waste - BZN|NO5  Fossil Gas - BZN|SE3  Hydro Water Reservoir - BZN|SE3  \\\n0             19.0                   0.0                            824.0   \n1             19.0                   0.0                            818.0   \n2             20.0                   0.0                            818.0   \n3             20.0                   0.0                            838.0   \n4             20.0                   0.0                            842.0   \n\n   Nuclear - BZN|SE3  Other - BZN|SE3  Solar - BZN|SE3  Wind Onshore - BZN|SE3  \n0             5841.0            892.0              0.0                  1062.0  \n1             5842.0            851.0              0.0                   999.0  \n2             5839.0            858.0              0.0                   958.0  \n3             5839.0            859.0              0.0                   888.0  \n4             5840.0            856.0              0.0                   788.0  \n\n[5 rows x 31 columns]",
      "text/html": "<div>\n<style scoped>\n    .dataframe tbody tr th:only-of-type {\n        vertical-align: middle;\n    }\n\n    .dataframe tbody tr th {\n        vertical-align: top;\n    }\n\n    .dataframe thead th {\n        text-align: right;\n    }\n</style>\n<table border=\"1\" class=\"dataframe\">\n  <thead>\n    <tr style=\"text-align: right;\">\n      <th></th>\n      <th>MTU (CET/CEST)</th>\n      <th>Biomass - BZN|NO1</th>\n      <th>Fossil Gas - BZN|NO1</th>\n      <th>Hydro Run-of-river and poundage - BZN|NO1_x</th>\n      <th>Hydro Water Reservoir - BZN|NO1</th>\n      <th>Waste - BZN|NO1</th>\n      <th>Wind Onshore - BZN|NO1</th>\n      <th>Fossil Gas - BZN|NO2</th>\n      <th>Hydro Pumped Storage Aggregated- BZN|NO2</th>\n      <th>Hydro Run-of-river and poundage - BZN|NO1_y</th>\n      <th>...</th>\n      <th>Hydro Pumped Storage Aggregated- BZN|NO5</th>\n      <th>Hydro Run-of-river and poundage - BZN|NO5</th>\n      <th>Hydro Water Reservoir - BZN|NO5</th>\n      <th>Waste - BZN|NO5</th>\n      <th>Fossil Gas - BZN|SE3</th>\n      <th>Hydro Water Reservoir - BZN|SE3</th>\n      <th>Nuclear - BZN|SE3</th>\n      <th>Other - BZN|SE3</th>\n      <th>Solar - BZN|SE3</th>\n      <th>Wind Onshore - BZN|SE3</th>\n    </tr>\n  </thead>\n  <tbody>\n    <tr>\n      <th>0</th>\n      <td>01.01.2022 00:00 - 01.01.2022 01:00</td>\n      <td>0.0</td>\n      <td>0.0</td>\n      <td>899.0</td>\n      <td>353.0</td>\n      <td>9.0</td>\n      <td>139.0</td>\n      <td>0.0</td>\n      <td>1.0</td>\n      <td>627.0</td>\n      <td>...</td>\n      <td>66.0</td>\n      <td>234.0</td>\n      <td>1618.0</td>\n      <td>19.0</td>\n      <td>0.0</td>\n      <td>824.0</td>\n      <td>5841.0</td>\n      <td>892.0</td>\n      <td>0.0</td>\n      <td>1062.0</td>\n    </tr>\n    <tr>\n      <th>1</th>\n      <td>01.01.2022 01:00 - 01.01.2022 02:00</td>\n      <td>0.0</td>\n      <td>0.0</td>\n      <td>878.0</td>\n      <td>321.0</td>\n      <td>8.0</td>\n      <td>172.0</td>\n      <td>0.0</td>\n      <td>1.0</td>\n      <td>629.0</td>\n      <td>...</td>\n      <td>66.0</td>\n      <td>227.0</td>\n      <td>1759.0</td>\n      <td>19.0</td>\n      <td>0.0</td>\n      <td>818.0</td>\n      <td>5842.0</td>\n      <td>851.0</td>\n      <td>0.0</td>\n      <td>999.0</td>\n    </tr>\n    <tr>\n      <th>2</th>\n      <td>01.01.2022 02:00 - 01.01.2022 03:00</td>\n      <td>0.0</td>\n      <td>0.0</td>\n      <td>897.0</td>\n      <td>330.0</td>\n      <td>8.0</td>\n      <td>151.0</td>\n      <td>0.0</td>\n      <td>1.0</td>\n      <td>627.0</td>\n      <td>...</td>\n      <td>66.0</td>\n      <td>216.0</td>\n      <td>1890.0</td>\n      <td>20.0</td>\n      <td>0.0</td>\n      <td>818.0</td>\n      <td>5839.0</td>\n      <td>858.0</td>\n      <td>0.0</td>\n      <td>958.0</td>\n    </tr>\n    <tr>\n      <th>3</th>\n      <td>01.01.2022 03:00 - 01.01.2022 04:00</td>\n      <td>0.0</td>\n      <td>0.0</td>\n      <td>885.0</td>\n      <td>275.0</td>\n      <td>8.0</td>\n      <td>160.0</td>\n      <td>0.0</td>\n      <td>1.0</td>\n      <td>624.0</td>\n      <td>...</td>\n      <td>65.0</td>\n      <td>215.0</td>\n      <td>1460.0</td>\n      <td>20.0</td>\n      <td>0.0</td>\n      <td>838.0</td>\n      <td>5839.0</td>\n      <td>859.0</td>\n      <td>0.0</td>\n      <td>888.0</td>\n    </tr>\n    <tr>\n      <th>4</th>\n      <td>01.01.2022 04:00 - 01.01.2022 05:00</td>\n      <td>0.0</td>\n      <td>0.0</td>\n      <td>890.0</td>\n      <td>269.0</td>\n      <td>8.0</td>\n      <td>148.0</td>\n      <td>0.0</td>\n      <td>1.0</td>\n      <td>624.0</td>\n      <td>...</td>\n      <td>65.0</td>\n      <td>209.0</td>\n      <td>1394.0</td>\n      <td>20.0</td>\n      <td>0.0</td>\n      <td>842.0</td>\n      <td>5840.0</td>\n      <td>856.0</td>\n      <td>0.0</td>\n      <td>788.0</td>\n    </tr>\n  </tbody>\n</table>\n<p>5 rows × 31 columns</p>\n</div>"
     },
     "execution_count": 32,
     "metadata": {},
     "output_type": "execute_result"
    }
   ],
   "source": [
    "# removing (CET/CEST) and trailing whitespace from datetime values in column 'MTU (CET/CEST)'\n",
    "actual_generation_selected['MTU (CET/CEST)'] = actual_generation_selected['MTU (CET/CEST)'].map(lambda x: x.rstrip(')(/CEST').strip())\n",
    "\n",
    "# printing out resulting dataset\n",
    "actual_generation_selected.head()"
   ]
  },
  {
   "cell_type": "code",
   "execution_count": 33,
   "id": "8b31a8bb",
   "metadata": {},
   "outputs": [
    {
     "data": {
      "text/plain": "MTU (CET/CEST)                                 0\nBiomass - BZN|NO1                              1\nFossil Gas - BZN|NO1                           1\nHydro Run-of-river and poundage - BZN|NO1_x    1\nHydro Water Reservoir - BZN|NO1                1\nWaste - BZN|NO1                                1\nWind Onshore - BZN|NO1                         1\nFossil Gas - BZN|NO2                           1\nHydro Pumped Storage Aggregated- BZN|NO2       1\nHydro Run-of-river and poundage - BZN|NO1_y    1\nHydro Water Reservoir - BZN|NO2                1\nWaste - BZN|NO2                                1\nWind Onshore - BZN|NO2                         1\nHydro Pumped Storage Aggregated- BZN|NO3       1\nHydro Run-of-river and poundage - BZN|NO3      1\nHydro Water Reservoir - BZN|NO3                1\nOther - BZN|NO3                                1\nOther renewable - BZN|NO3                      1\nWaste - BZN|NO3                                1\nWind Onshore - BZN|NO3                         1\nFossil Gas - BZN|NO5                           1\nHydro Pumped Storage Aggregated- BZN|NO5       1\nHydro Run-of-river and poundage - BZN|NO5      1\nHydro Water Reservoir - BZN|NO5                1\nWaste - BZN|NO5                                1\nFossil Gas - BZN|SE3                           2\nHydro Water Reservoir - BZN|SE3                2\nNuclear - BZN|SE3                              2\nOther - BZN|SE3                                2\nSolar - BZN|SE3                                2\nWind Onshore - BZN|SE3                         2\ndtype: int64"
     },
     "execution_count": 33,
     "metadata": {},
     "output_type": "execute_result"
    }
   ],
   "source": [
    "actual_generation_selected.isna().sum()"
   ]
  },
  {
   "cell_type": "markdown",
   "id": "92af64ff",
   "metadata": {},
   "source": [
    "### Data Aggregation for import and export\n"
   ]
  },
  {
   "cell_type": "markdown",
   "id": "841a5e4f",
   "metadata": {},
   "source": [
    "We want to concatenate data for cross border physical flow between NO1 and neighbouring zones(NO2,NO3,NO5,SE3)."
   ]
  },
  {
   "cell_type": "code",
   "execution_count": 34,
   "id": "53f47b10",
   "metadata": {},
   "outputs": [
    {
     "ename": "FileNotFoundError",
     "evalue": "[Errno 2] No such file or directory: '../datasets/import_and_export/NO1-NO2 Import export Cross-Border Physical Flow_202201010000-202301010000.csv'",
     "output_type": "error",
     "traceback": [
      "\u001B[1;31m---------------------------------------------------------------------------\u001B[0m",
      "\u001B[1;31mFileNotFoundError\u001B[0m                         Traceback (most recent call last)",
      "Input \u001B[1;32mIn [34]\u001B[0m, in \u001B[0;36m<cell line: 2>\u001B[1;34m()\u001B[0m\n\u001B[0;32m      1\u001B[0m \u001B[38;5;66;03m# Importing import export datasets\u001B[39;00m\n\u001B[1;32m----> 2\u001B[0m import_export_no1_no2 \u001B[38;5;241m=\u001B[39m \u001B[43mpd\u001B[49m\u001B[38;5;241;43m.\u001B[39;49m\u001B[43mread_csv\u001B[49m\u001B[43m(\u001B[49m\u001B[38;5;124;43m\"\u001B[39;49m\u001B[38;5;124;43m../datasets/import_and_export/NO1-NO2 Import export Cross-Border Physical Flow_202201010000-202301010000.csv\u001B[39;49m\u001B[38;5;124;43m\"\u001B[39;49m\u001B[43m)\u001B[49m\n\u001B[0;32m      3\u001B[0m import_export_no1_no3 \u001B[38;5;241m=\u001B[39m pd\u001B[38;5;241m.\u001B[39mread_csv(\u001B[38;5;124m\"\u001B[39m\u001B[38;5;124m../datasets/import_and_export/NO1-NO3 Import export Cross-Border Physical Flow_202201010000-202301010000.csv\u001B[39m\u001B[38;5;124m\"\u001B[39m)\n\u001B[0;32m      4\u001B[0m import_export_no1_no5 \u001B[38;5;241m=\u001B[39m pd\u001B[38;5;241m.\u001B[39mread_csv(\u001B[38;5;124m\"\u001B[39m\u001B[38;5;124m../datasets/import_and_export/NO1-NO5 Import export Cross-Border Physical Flow_202201010000-202301010000.csv\u001B[39m\u001B[38;5;124m\"\u001B[39m)\n",
      "File \u001B[1;32m~\\anaconda3\\lib\\site-packages\\pandas\\util\\_decorators.py:311\u001B[0m, in \u001B[0;36mdeprecate_nonkeyword_arguments.<locals>.decorate.<locals>.wrapper\u001B[1;34m(*args, **kwargs)\u001B[0m\n\u001B[0;32m    305\u001B[0m \u001B[38;5;28;01mif\u001B[39;00m \u001B[38;5;28mlen\u001B[39m(args) \u001B[38;5;241m>\u001B[39m num_allow_args:\n\u001B[0;32m    306\u001B[0m     warnings\u001B[38;5;241m.\u001B[39mwarn(\n\u001B[0;32m    307\u001B[0m         msg\u001B[38;5;241m.\u001B[39mformat(arguments\u001B[38;5;241m=\u001B[39marguments),\n\u001B[0;32m    308\u001B[0m         \u001B[38;5;167;01mFutureWarning\u001B[39;00m,\n\u001B[0;32m    309\u001B[0m         stacklevel\u001B[38;5;241m=\u001B[39mstacklevel,\n\u001B[0;32m    310\u001B[0m     )\n\u001B[1;32m--> 311\u001B[0m \u001B[38;5;28;01mreturn\u001B[39;00m func(\u001B[38;5;241m*\u001B[39margs, \u001B[38;5;241m*\u001B[39m\u001B[38;5;241m*\u001B[39mkwargs)\n",
      "File \u001B[1;32m~\\anaconda3\\lib\\site-packages\\pandas\\io\\parsers\\readers.py:680\u001B[0m, in \u001B[0;36mread_csv\u001B[1;34m(filepath_or_buffer, sep, delimiter, header, names, index_col, usecols, squeeze, prefix, mangle_dupe_cols, dtype, engine, converters, true_values, false_values, skipinitialspace, skiprows, skipfooter, nrows, na_values, keep_default_na, na_filter, verbose, skip_blank_lines, parse_dates, infer_datetime_format, keep_date_col, date_parser, dayfirst, cache_dates, iterator, chunksize, compression, thousands, decimal, lineterminator, quotechar, quoting, doublequote, escapechar, comment, encoding, encoding_errors, dialect, error_bad_lines, warn_bad_lines, on_bad_lines, delim_whitespace, low_memory, memory_map, float_precision, storage_options)\u001B[0m\n\u001B[0;32m    665\u001B[0m kwds_defaults \u001B[38;5;241m=\u001B[39m _refine_defaults_read(\n\u001B[0;32m    666\u001B[0m     dialect,\n\u001B[0;32m    667\u001B[0m     delimiter,\n\u001B[1;32m   (...)\u001B[0m\n\u001B[0;32m    676\u001B[0m     defaults\u001B[38;5;241m=\u001B[39m{\u001B[38;5;124m\"\u001B[39m\u001B[38;5;124mdelimiter\u001B[39m\u001B[38;5;124m\"\u001B[39m: \u001B[38;5;124m\"\u001B[39m\u001B[38;5;124m,\u001B[39m\u001B[38;5;124m\"\u001B[39m},\n\u001B[0;32m    677\u001B[0m )\n\u001B[0;32m    678\u001B[0m kwds\u001B[38;5;241m.\u001B[39mupdate(kwds_defaults)\n\u001B[1;32m--> 680\u001B[0m \u001B[38;5;28;01mreturn\u001B[39;00m \u001B[43m_read\u001B[49m\u001B[43m(\u001B[49m\u001B[43mfilepath_or_buffer\u001B[49m\u001B[43m,\u001B[49m\u001B[43m \u001B[49m\u001B[43mkwds\u001B[49m\u001B[43m)\u001B[49m\n",
      "File \u001B[1;32m~\\anaconda3\\lib\\site-packages\\pandas\\io\\parsers\\readers.py:575\u001B[0m, in \u001B[0;36m_read\u001B[1;34m(filepath_or_buffer, kwds)\u001B[0m\n\u001B[0;32m    572\u001B[0m _validate_names(kwds\u001B[38;5;241m.\u001B[39mget(\u001B[38;5;124m\"\u001B[39m\u001B[38;5;124mnames\u001B[39m\u001B[38;5;124m\"\u001B[39m, \u001B[38;5;28;01mNone\u001B[39;00m))\n\u001B[0;32m    574\u001B[0m \u001B[38;5;66;03m# Create the parser.\u001B[39;00m\n\u001B[1;32m--> 575\u001B[0m parser \u001B[38;5;241m=\u001B[39m TextFileReader(filepath_or_buffer, \u001B[38;5;241m*\u001B[39m\u001B[38;5;241m*\u001B[39mkwds)\n\u001B[0;32m    577\u001B[0m \u001B[38;5;28;01mif\u001B[39;00m chunksize \u001B[38;5;129;01mor\u001B[39;00m iterator:\n\u001B[0;32m    578\u001B[0m     \u001B[38;5;28;01mreturn\u001B[39;00m parser\n",
      "File \u001B[1;32m~\\anaconda3\\lib\\site-packages\\pandas\\io\\parsers\\readers.py:933\u001B[0m, in \u001B[0;36mTextFileReader.__init__\u001B[1;34m(self, f, engine, **kwds)\u001B[0m\n\u001B[0;32m    930\u001B[0m     \u001B[38;5;28mself\u001B[39m\u001B[38;5;241m.\u001B[39moptions[\u001B[38;5;124m\"\u001B[39m\u001B[38;5;124mhas_index_names\u001B[39m\u001B[38;5;124m\"\u001B[39m] \u001B[38;5;241m=\u001B[39m kwds[\u001B[38;5;124m\"\u001B[39m\u001B[38;5;124mhas_index_names\u001B[39m\u001B[38;5;124m\"\u001B[39m]\n\u001B[0;32m    932\u001B[0m \u001B[38;5;28mself\u001B[39m\u001B[38;5;241m.\u001B[39mhandles: IOHandles \u001B[38;5;241m|\u001B[39m \u001B[38;5;28;01mNone\u001B[39;00m \u001B[38;5;241m=\u001B[39m \u001B[38;5;28;01mNone\u001B[39;00m\n\u001B[1;32m--> 933\u001B[0m \u001B[38;5;28mself\u001B[39m\u001B[38;5;241m.\u001B[39m_engine \u001B[38;5;241m=\u001B[39m \u001B[38;5;28;43mself\u001B[39;49m\u001B[38;5;241;43m.\u001B[39;49m\u001B[43m_make_engine\u001B[49m\u001B[43m(\u001B[49m\u001B[43mf\u001B[49m\u001B[43m,\u001B[49m\u001B[43m \u001B[49m\u001B[38;5;28;43mself\u001B[39;49m\u001B[38;5;241;43m.\u001B[39;49m\u001B[43mengine\u001B[49m\u001B[43m)\u001B[49m\n",
      "File \u001B[1;32m~\\anaconda3\\lib\\site-packages\\pandas\\io\\parsers\\readers.py:1217\u001B[0m, in \u001B[0;36mTextFileReader._make_engine\u001B[1;34m(self, f, engine)\u001B[0m\n\u001B[0;32m   1213\u001B[0m     mode \u001B[38;5;241m=\u001B[39m \u001B[38;5;124m\"\u001B[39m\u001B[38;5;124mrb\u001B[39m\u001B[38;5;124m\"\u001B[39m\n\u001B[0;32m   1214\u001B[0m \u001B[38;5;66;03m# error: No overload variant of \"get_handle\" matches argument types\u001B[39;00m\n\u001B[0;32m   1215\u001B[0m \u001B[38;5;66;03m# \"Union[str, PathLike[str], ReadCsvBuffer[bytes], ReadCsvBuffer[str]]\"\u001B[39;00m\n\u001B[0;32m   1216\u001B[0m \u001B[38;5;66;03m# , \"str\", \"bool\", \"Any\", \"Any\", \"Any\", \"Any\", \"Any\"\u001B[39;00m\n\u001B[1;32m-> 1217\u001B[0m \u001B[38;5;28mself\u001B[39m\u001B[38;5;241m.\u001B[39mhandles \u001B[38;5;241m=\u001B[39m \u001B[43mget_handle\u001B[49m\u001B[43m(\u001B[49m\u001B[43m  \u001B[49m\u001B[38;5;66;43;03m# type: ignore[call-overload]\u001B[39;49;00m\n\u001B[0;32m   1218\u001B[0m \u001B[43m    \u001B[49m\u001B[43mf\u001B[49m\u001B[43m,\u001B[49m\n\u001B[0;32m   1219\u001B[0m \u001B[43m    \u001B[49m\u001B[43mmode\u001B[49m\u001B[43m,\u001B[49m\n\u001B[0;32m   1220\u001B[0m \u001B[43m    \u001B[49m\u001B[43mencoding\u001B[49m\u001B[38;5;241;43m=\u001B[39;49m\u001B[38;5;28;43mself\u001B[39;49m\u001B[38;5;241;43m.\u001B[39;49m\u001B[43moptions\u001B[49m\u001B[38;5;241;43m.\u001B[39;49m\u001B[43mget\u001B[49m\u001B[43m(\u001B[49m\u001B[38;5;124;43m\"\u001B[39;49m\u001B[38;5;124;43mencoding\u001B[39;49m\u001B[38;5;124;43m\"\u001B[39;49m\u001B[43m,\u001B[49m\u001B[43m \u001B[49m\u001B[38;5;28;43;01mNone\u001B[39;49;00m\u001B[43m)\u001B[49m\u001B[43m,\u001B[49m\n\u001B[0;32m   1221\u001B[0m \u001B[43m    \u001B[49m\u001B[43mcompression\u001B[49m\u001B[38;5;241;43m=\u001B[39;49m\u001B[38;5;28;43mself\u001B[39;49m\u001B[38;5;241;43m.\u001B[39;49m\u001B[43moptions\u001B[49m\u001B[38;5;241;43m.\u001B[39;49m\u001B[43mget\u001B[49m\u001B[43m(\u001B[49m\u001B[38;5;124;43m\"\u001B[39;49m\u001B[38;5;124;43mcompression\u001B[39;49m\u001B[38;5;124;43m\"\u001B[39;49m\u001B[43m,\u001B[49m\u001B[43m \u001B[49m\u001B[38;5;28;43;01mNone\u001B[39;49;00m\u001B[43m)\u001B[49m\u001B[43m,\u001B[49m\n\u001B[0;32m   1222\u001B[0m \u001B[43m    \u001B[49m\u001B[43mmemory_map\u001B[49m\u001B[38;5;241;43m=\u001B[39;49m\u001B[38;5;28;43mself\u001B[39;49m\u001B[38;5;241;43m.\u001B[39;49m\u001B[43moptions\u001B[49m\u001B[38;5;241;43m.\u001B[39;49m\u001B[43mget\u001B[49m\u001B[43m(\u001B[49m\u001B[38;5;124;43m\"\u001B[39;49m\u001B[38;5;124;43mmemory_map\u001B[39;49m\u001B[38;5;124;43m\"\u001B[39;49m\u001B[43m,\u001B[49m\u001B[43m \u001B[49m\u001B[38;5;28;43;01mFalse\u001B[39;49;00m\u001B[43m)\u001B[49m\u001B[43m,\u001B[49m\n\u001B[0;32m   1223\u001B[0m \u001B[43m    \u001B[49m\u001B[43mis_text\u001B[49m\u001B[38;5;241;43m=\u001B[39;49m\u001B[43mis_text\u001B[49m\u001B[43m,\u001B[49m\n\u001B[0;32m   1224\u001B[0m \u001B[43m    \u001B[49m\u001B[43merrors\u001B[49m\u001B[38;5;241;43m=\u001B[39;49m\u001B[38;5;28;43mself\u001B[39;49m\u001B[38;5;241;43m.\u001B[39;49m\u001B[43moptions\u001B[49m\u001B[38;5;241;43m.\u001B[39;49m\u001B[43mget\u001B[49m\u001B[43m(\u001B[49m\u001B[38;5;124;43m\"\u001B[39;49m\u001B[38;5;124;43mencoding_errors\u001B[39;49m\u001B[38;5;124;43m\"\u001B[39;49m\u001B[43m,\u001B[49m\u001B[43m \u001B[49m\u001B[38;5;124;43m\"\u001B[39;49m\u001B[38;5;124;43mstrict\u001B[39;49m\u001B[38;5;124;43m\"\u001B[39;49m\u001B[43m)\u001B[49m\u001B[43m,\u001B[49m\n\u001B[0;32m   1225\u001B[0m \u001B[43m    \u001B[49m\u001B[43mstorage_options\u001B[49m\u001B[38;5;241;43m=\u001B[39;49m\u001B[38;5;28;43mself\u001B[39;49m\u001B[38;5;241;43m.\u001B[39;49m\u001B[43moptions\u001B[49m\u001B[38;5;241;43m.\u001B[39;49m\u001B[43mget\u001B[49m\u001B[43m(\u001B[49m\u001B[38;5;124;43m\"\u001B[39;49m\u001B[38;5;124;43mstorage_options\u001B[39;49m\u001B[38;5;124;43m\"\u001B[39;49m\u001B[43m,\u001B[49m\u001B[43m \u001B[49m\u001B[38;5;28;43;01mNone\u001B[39;49;00m\u001B[43m)\u001B[49m\u001B[43m,\u001B[49m\n\u001B[0;32m   1226\u001B[0m \u001B[43m\u001B[49m\u001B[43m)\u001B[49m\n\u001B[0;32m   1227\u001B[0m \u001B[38;5;28;01massert\u001B[39;00m \u001B[38;5;28mself\u001B[39m\u001B[38;5;241m.\u001B[39mhandles \u001B[38;5;129;01mis\u001B[39;00m \u001B[38;5;129;01mnot\u001B[39;00m \u001B[38;5;28;01mNone\u001B[39;00m\n\u001B[0;32m   1228\u001B[0m f \u001B[38;5;241m=\u001B[39m \u001B[38;5;28mself\u001B[39m\u001B[38;5;241m.\u001B[39mhandles\u001B[38;5;241m.\u001B[39mhandle\n",
      "File \u001B[1;32m~\\anaconda3\\lib\\site-packages\\pandas\\io\\common.py:789\u001B[0m, in \u001B[0;36mget_handle\u001B[1;34m(path_or_buf, mode, encoding, compression, memory_map, is_text, errors, storage_options)\u001B[0m\n\u001B[0;32m    784\u001B[0m \u001B[38;5;28;01melif\u001B[39;00m \u001B[38;5;28misinstance\u001B[39m(handle, \u001B[38;5;28mstr\u001B[39m):\n\u001B[0;32m    785\u001B[0m     \u001B[38;5;66;03m# Check whether the filename is to be opened in binary mode.\u001B[39;00m\n\u001B[0;32m    786\u001B[0m     \u001B[38;5;66;03m# Binary mode does not support 'encoding' and 'newline'.\u001B[39;00m\n\u001B[0;32m    787\u001B[0m     \u001B[38;5;28;01mif\u001B[39;00m ioargs\u001B[38;5;241m.\u001B[39mencoding \u001B[38;5;129;01mand\u001B[39;00m \u001B[38;5;124m\"\u001B[39m\u001B[38;5;124mb\u001B[39m\u001B[38;5;124m\"\u001B[39m \u001B[38;5;129;01mnot\u001B[39;00m \u001B[38;5;129;01min\u001B[39;00m ioargs\u001B[38;5;241m.\u001B[39mmode:\n\u001B[0;32m    788\u001B[0m         \u001B[38;5;66;03m# Encoding\u001B[39;00m\n\u001B[1;32m--> 789\u001B[0m         handle \u001B[38;5;241m=\u001B[39m \u001B[38;5;28;43mopen\u001B[39;49m\u001B[43m(\u001B[49m\n\u001B[0;32m    790\u001B[0m \u001B[43m            \u001B[49m\u001B[43mhandle\u001B[49m\u001B[43m,\u001B[49m\n\u001B[0;32m    791\u001B[0m \u001B[43m            \u001B[49m\u001B[43mioargs\u001B[49m\u001B[38;5;241;43m.\u001B[39;49m\u001B[43mmode\u001B[49m\u001B[43m,\u001B[49m\n\u001B[0;32m    792\u001B[0m \u001B[43m            \u001B[49m\u001B[43mencoding\u001B[49m\u001B[38;5;241;43m=\u001B[39;49m\u001B[43mioargs\u001B[49m\u001B[38;5;241;43m.\u001B[39;49m\u001B[43mencoding\u001B[49m\u001B[43m,\u001B[49m\n\u001B[0;32m    793\u001B[0m \u001B[43m            \u001B[49m\u001B[43merrors\u001B[49m\u001B[38;5;241;43m=\u001B[39;49m\u001B[43merrors\u001B[49m\u001B[43m,\u001B[49m\n\u001B[0;32m    794\u001B[0m \u001B[43m            \u001B[49m\u001B[43mnewline\u001B[49m\u001B[38;5;241;43m=\u001B[39;49m\u001B[38;5;124;43m\"\u001B[39;49m\u001B[38;5;124;43m\"\u001B[39;49m\u001B[43m,\u001B[49m\n\u001B[0;32m    795\u001B[0m \u001B[43m        \u001B[49m\u001B[43m)\u001B[49m\n\u001B[0;32m    796\u001B[0m     \u001B[38;5;28;01melse\u001B[39;00m:\n\u001B[0;32m    797\u001B[0m         \u001B[38;5;66;03m# Binary mode\u001B[39;00m\n\u001B[0;32m    798\u001B[0m         handle \u001B[38;5;241m=\u001B[39m \u001B[38;5;28mopen\u001B[39m(handle, ioargs\u001B[38;5;241m.\u001B[39mmode)\n",
      "\u001B[1;31mFileNotFoundError\u001B[0m: [Errno 2] No such file or directory: '../datasets/import_and_export/NO1-NO2 Import export Cross-Border Physical Flow_202201010000-202301010000.csv'"
     ]
    }
   ],
   "source": [
    "# Importing import export datasets\n",
    "import_export_no1_no2 = pd.read_csv(\"../datasets/import_and_export/NO1-NO2 Import export Cross-Border Physical Flow_202201010000-202301010000.csv\")\n",
    "import_export_no1_no3 = pd.read_csv(\"../datasets/import_and_export/NO1-NO3 Import export Cross-Border Physical Flow_202201010000-202301010000.csv\")\n",
    "import_export_no1_no5 = pd.read_csv(\"../datasets/import_and_export/NO1-NO5 Import export Cross-Border Physical Flow_202201010000-202301010000.csv\")\n",
    "import_export_no1_se3 = pd.read_csv(\"../datasets/import_and_export/NO1-SE3 Import export Cross-Border Physical Flow_202201010000-202301010000.csv\")"
   ]
  },
  {
   "cell_type": "markdown",
   "id": "16599315",
   "metadata": {},
   "source": [
    "NO1_NO2_import_export.head()\n",
    "In other data files the time unite is MTU (CET/CEST), this is not teh case for import and export data. To be consistent Time (CET/CEST) is changed to MTU (CET/CEST). To make it clear that 'BZN|NO2 > BZN|NO1 [MW]' shows the cross border physical flow , CBF is used as an abbreviation."
   ]
  },
  {
   "cell_type": "markdown",
   "id": "ac0636f9",
   "metadata": {},
   "source": [
    "Printing out first rows of each dataset to see the structure"
   ]
  },
  {
   "cell_type": "code",
   "execution_count": null,
   "id": "3ba9f526",
   "metadata": {},
   "outputs": [],
   "source": [
    "import_export_no1_no2.head()"
   ]
  },
  {
   "cell_type": "code",
   "execution_count": null,
   "id": "31b4e9a7",
   "metadata": {},
   "outputs": [],
   "source": [
    "import_export_no1_no3.head()"
   ]
  },
  {
   "cell_type": "code",
   "execution_count": null,
   "id": "256de327",
   "metadata": {},
   "outputs": [],
   "source": [
    "import_export_no1_no5.head()"
   ]
  },
  {
   "cell_type": "code",
   "execution_count": null,
   "id": "5f7802eb",
   "metadata": {},
   "outputs": [],
   "source": [
    "import_export_no1_se3.head()"
   ]
  },
  {
   "cell_type": "markdown",
   "id": "2749a4f3",
   "metadata": {},
   "source": [
    "We see that the time column in the import export datasets is named \"Time(CET/CEST)\" while in the other datasets, the time column is named \"MTU (CET/CET)\". The time column will be renamed to \"MTU (CET/CEST)\" so that the datasets can be merged."
   ]
  },
  {
   "cell_type": "code",
   "execution_count": null,
   "id": "5b667151",
   "metadata": {},
   "outputs": [],
   "source": [
    "import_export_no1_no2.rename(columns = {'Time (CET/CEST)':'MTU (CET/CEST)', 'BZN|NO2 > BZN|NO1 [MW]' : 'CBF BZN|NO2 > BZN|NO1 [MW]', 'BZN|NO1 > BZN|NO2 [MW]' : 'CBF BZN|NO1 > BZN|NO2 [MW]'}, inplace = True)\n",
    "import_export_no1_no3.rename(columns = {'Time (CET/CEST)':'MTU (CET/CEST)', 'BZN|NO3 > BZN|NO1 [MW]' : 'CBF BZN|NO3 > BZN|NO1 [MW]', 'BZN|NO1 > BZN|NO3 [MW]' : 'CBF BZN|NO1 > BZN|NO3 [MW]'}, inplace = True)\n",
    "import_export_no1_no5.rename(columns = {'Time (CET/CEST)':'MTU (CET/CEST)', 'BZN|NO5 > BZN|NO1 [MW]' : 'CBF BZN|NO5 > BZN|NO1 [MW]', 'BZN|NO1 > BZN|NO5 [MW]' : 'CBF BZN|NO1 > BZN|NO5 [MW]'}, inplace = True)\n",
    "import_export_no1_se3.rename(columns = {'Time (CET/CEST)':'MTU (CET/CEST)', 'BZN|SE3 > BZN|NO1 [MW]' : 'CBF BZN|SE3 > BZN|NO1 [MW]', 'BZN|NO1 > BZN|SE3 [MW]' : 'CBF BZN|NO1 > BZN|SE3 [MW]'}, inplace = True)"
   ]
  },
  {
   "cell_type": "markdown",
   "id": "c9ce09ca",
   "metadata": {},
   "source": [
    "Merging all dataframes for import and export\n"
   ]
  },
  {
   "cell_type": "code",
   "execution_count": null,
   "id": "49ee6e30",
   "metadata": {},
   "outputs": [],
   "source": [
    "# Merging the import export datasets\n",
    "import_export_no1_neighbours_dataframes = [import_export_no1_no2, import_export_no1_no3, import_export_no1_no5, import_export_no1_se3]\n",
    "import_export_no1_neighbours = reduce(lambda left, right: pd.merge(left,right, on=['Time (UTC)']), import_export_no1_neighbours_dataframes)\n",
    "\n",
    "# printing out the 5 first rows of the resulting dataframe\n",
    "import_export_no1_neighbours.shape"
   ]
  },
  {
   "cell_type": "markdown",
   "id": "58606dcb",
   "metadata": {},
   "source": [
    "### Aggregation of Water Reservoirs and Hydro Storage Plants\n",
    "\n",
    "The water reservoir dataset is measured with a weekly frequency while the other datasets are measured hourly. In order to make the data match frequency of measurements of the other datasets, we will need to up sample the data thorough interpolation.  We will first map the weekly measurement to the first hour of each week, and then interpolate the intermediate measurement. In order to interpolate the measurements of the last week, we will add the measurement for the first week of the succeeding year (2023) to the dataset. this measurement  will be dropped from the final dataset. Additionally, the first week of 2022 starts on january 3. 2022, so in order to get the data for the first two days we add the dataset for the last week of 2021. We will use spline interpolation to add smoothness to the interpolated curve, which will be more representative of water level fluctuations than a linear interpolation."
   ]
  },
  {
   "cell_type": "markdown",
   "id": "322dcc01",
   "metadata": {},
   "source": [
    "Reading in water levels as CSV with pandas library"
   ]
  },
  {
   "cell_type": "code",
   "execution_count": 35,
   "id": "7fe1343f",
   "metadata": {},
   "outputs": [],
   "source": [
    "# Loading in main datasets (2022)\n",
    "water_level_NO1 = pd.read_csv(\"../datasets/water_level/NO1_2022_Water_Reservoirs_and_Hydro_Storage_Plants_202201030000-202301020000.csv\")\n",
    "water_level_NO2 = pd.read_csv(\"../datasets/water_level/NO2_2022_Water_Reservoirs_and_Hydro_Storage Plants_202201030000-202301020000.csv\")\n",
    "water_level_NO3 = pd.read_csv(\"../datasets/water_level/NO3_2022_Water_Reservoirs_and_Hydro_Storage Plants_202201030000-202301020000.csv\")\n",
    "water_level_NO5 = pd.read_csv(\"../datasets/water_level/NO5_2022_Water_Reservoirs_and_Hydro_Storage Plants_202201030000-202301020000.csv\")\n",
    "water_level_SE3 = pd.read_csv(\"../datasets/water_level/SE3_2022_Water_Reservoirs_and_Hydro_Storage Plants_202201030000-202301020000.csv\")\n",
    "\n",
    "# Reading in only the last week of 2021\n",
    "water_level_NO1_2021 = pd.read_csv(\"../datasets/water_level/NO1_2021_Water Reservoirs and Hydro Storage Plants_202101040000-202201030000.csv\", skiprows=range(1, 52))\n",
    "water_level_NO2_2021 = pd.read_csv(\"../datasets/water_level/NO2_2021_Water Reservoirs and Hydro Storage Plants_202101040000-202201030000.csv\", skiprows=range(1, 52))\n",
    "water_level_NO3_2021 = pd.read_csv(\"../datasets/water_level/NO3_2021_Water Reservoirs and Hydro Storage Plants_202101040000-202201030000.csv\", skiprows=range(1, 52))\n",
    "water_level_NO5_2021 = pd.read_csv(\"../datasets/water_level/NO5_2021_Water Reservoirs and Hydro Storage Plants_202101040000-202201030000.csv\", skiprows=range(1, 52))\n",
    "water_level_SE3_2021 = pd.read_csv(\"../datasets/water_level/SE3_2021_Water Reservoirs and Hydro Storage Plants_202101040000-202201030000.csv\", skiprows=range(1, 52))\n",
    "\n",
    "# Reading in only the first week of 2023\n",
    "water_level_NO1_2023 = pd.read_csv(\"../datasets/water_level/NO1_2023_Water Reservoirs and Hydro Storage Plants_202301020000-202401010000.csv\", nrows=1)\n",
    "water_level_NO2_2023 = pd.read_csv(\"../datasets/water_level/NO2_2023_Water Reservoirs and Hydro Storage Plants_202301020000-202401010000.csv\", nrows=1)\n",
    "water_level_NO3_2023 = pd.read_csv(\"../datasets/water_level/NO3_2023_Water Reservoirs and Hydro Storage Plants_202301020000-202401010000.csv\", nrows=1)\n",
    "water_level_NO5_2023 = pd.read_csv(\"../datasets/water_level/NO5_2023_Water Reservoirs and Hydro Storage Plants_202301020000-202401010000.csv\", nrows=1)\n",
    "water_level_SE3_2023 = pd.read_csv(\"../datasets/water_level/SE3_2023_Water Reservoirs and Hydro Storage Plants_202301020000-202401010000.csv\", nrows=1)\n",
    "\n",
    "# Renaming the Week datapoint for all 2023 datasets because they are originally called \"week 1\" which would create confusion in the data\n",
    "water_level_NO1_2023.at[0, 'Week'] = 'Week 53'\n",
    "water_level_NO2_2023.at[0, 'Week'] = 'Week 53'\n",
    "water_level_NO3_2023.at[0, 'Week'] = 'Week 53'\n",
    "water_level_NO5_2023.at[0, 'Week'] = 'Week 53'\n",
    "water_level_SE3_2023.at[0, 'Week'] = 'Week 53'\n",
    "\n",
    "# Getting 'Week 52' from 2021 datasets\n",
    "water_level_NO1_2021.at[0, 'Week'] = 'Week 0'\n",
    "water_level_NO2_2021.at[0, 'Week'] = 'Week 0'\n",
    "water_level_NO3_2021.at[0, 'Week'] = 'Week 0'\n",
    "water_level_NO5_2021.at[0, 'Week'] = 'Week 0'\n",
    "water_level_SE3_2021.at[0, 'Week'] = 'Week 0'\n"
   ]
  },
  {
   "cell_type": "markdown",
   "id": "47084655",
   "metadata": {},
   "source": [
    "Checking to see if we have correctly selected the last week of 2021 and first week of 2023"
   ]
  },
  {
   "cell_type": "code",
   "execution_count": 36,
   "id": "53ae97c6",
   "metadata": {},
   "outputs": [
    {
     "data": {
      "text/plain": "      Week  Stored Energy Value [MWh] - BZN|NO1\n0  Week 53                              3741135",
      "text/html": "<div>\n<style scoped>\n    .dataframe tbody tr th:only-of-type {\n        vertical-align: middle;\n    }\n\n    .dataframe tbody tr th {\n        vertical-align: top;\n    }\n\n    .dataframe thead th {\n        text-align: right;\n    }\n</style>\n<table border=\"1\" class=\"dataframe\">\n  <thead>\n    <tr style=\"text-align: right;\">\n      <th></th>\n      <th>Week</th>\n      <th>Stored Energy Value [MWh] - BZN|NO1</th>\n    </tr>\n  </thead>\n  <tbody>\n    <tr>\n      <th>0</th>\n      <td>Week 53</td>\n      <td>3741135</td>\n    </tr>\n  </tbody>\n</table>\n</div>"
     },
     "execution_count": 36,
     "metadata": {},
     "output_type": "execute_result"
    }
   ],
   "source": [
    "# Checking if the dataframe containes the first week of  2023\n",
    "water_level_NO1_2023.head()"
   ]
  },
  {
   "cell_type": "code",
   "execution_count": 37,
   "id": "7bc7ae30",
   "metadata": {},
   "outputs": [
    {
     "data": {
      "text/plain": "     Week  Stored Energy Value [MWh] - BZN|NO1\n0  Week 0                              3204274",
      "text/html": "<div>\n<style scoped>\n    .dataframe tbody tr th:only-of-type {\n        vertical-align: middle;\n    }\n\n    .dataframe tbody tr th {\n        vertical-align: top;\n    }\n\n    .dataframe thead th {\n        text-align: right;\n    }\n</style>\n<table border=\"1\" class=\"dataframe\">\n  <thead>\n    <tr style=\"text-align: right;\">\n      <th></th>\n      <th>Week</th>\n      <th>Stored Energy Value [MWh] - BZN|NO1</th>\n    </tr>\n  </thead>\n  <tbody>\n    <tr>\n      <th>0</th>\n      <td>Week 0</td>\n      <td>3204274</td>\n    </tr>\n  </tbody>\n</table>\n</div>"
     },
     "execution_count": 37,
     "metadata": {},
     "output_type": "execute_result"
    }
   ],
   "source": [
    "# Checking if the dataframe containes the last week of  2021\n",
    "water_level_NO1_2021.head()"
   ]
  },
  {
   "cell_type": "markdown",
   "id": "c1be8499",
   "metadata": {},
   "source": [
    "Concatinating the datasets and ignoring the index to create a new index. The concatination happens in the order of how they are written in pd.concat([df1,df2,df3])"
   ]
  },
  {
   "cell_type": "code",
   "execution_count": 38,
   "id": "ccdfae96",
   "metadata": {},
   "outputs": [],
   "source": [
    "# Concatinating the dataset to add the first week of 2023 to the 2022 datasets. ignore index ignores the index number of the row in 2023 and gives it a new after being \"appended\"\n",
    "water_level_NO1 = pd.concat([water_level_NO1_2021, water_level_NO1, water_level_NO1_2023], ignore_index= True, axis=0)\n",
    "water_level_NO2 = pd.concat([water_level_NO2_2021, water_level_NO2, water_level_NO2_2023], ignore_index= True, axis=0)\n",
    "water_level_NO3 = pd.concat([water_level_NO3_2021, water_level_NO3, water_level_NO3_2023], ignore_index= True, axis=0)\n",
    "water_level_NO5 = pd.concat([water_level_NO5_2021 ,water_level_NO5, water_level_NO5_2023], ignore_index= True, axis=0)\n",
    "water_level_SE3 = pd.concat([water_level_SE3_2021, water_level_SE3, water_level_SE3_2023], ignore_index= True, axis=0)"
   ]
  },
  {
   "cell_type": "markdown",
   "id": "9341814d",
   "metadata": {},
   "source": [
    "Testing to see if the concatination is succesfull by looking at the first and last rows"
   ]
  },
  {
   "cell_type": "code",
   "execution_count": 39,
   "id": "3909b082",
   "metadata": {},
   "outputs": [
    {
     "data": {
      "text/plain": "     Week  Stored Energy Value [MWh] - BZN|NO1\n0  Week 0                              3204274\n1  Week 1                              2955197\n2  Week 2                              2754532\n3  Week 3                              2556285\n4  Week 4                              2388301",
      "text/html": "<div>\n<style scoped>\n    .dataframe tbody tr th:only-of-type {\n        vertical-align: middle;\n    }\n\n    .dataframe tbody tr th {\n        vertical-align: top;\n    }\n\n    .dataframe thead th {\n        text-align: right;\n    }\n</style>\n<table border=\"1\" class=\"dataframe\">\n  <thead>\n    <tr style=\"text-align: right;\">\n      <th></th>\n      <th>Week</th>\n      <th>Stored Energy Value [MWh] - BZN|NO1</th>\n    </tr>\n  </thead>\n  <tbody>\n    <tr>\n      <th>0</th>\n      <td>Week 0</td>\n      <td>3204274</td>\n    </tr>\n    <tr>\n      <th>1</th>\n      <td>Week 1</td>\n      <td>2955197</td>\n    </tr>\n    <tr>\n      <th>2</th>\n      <td>Week 2</td>\n      <td>2754532</td>\n    </tr>\n    <tr>\n      <th>3</th>\n      <td>Week 3</td>\n      <td>2556285</td>\n    </tr>\n    <tr>\n      <th>4</th>\n      <td>Week 4</td>\n      <td>2388301</td>\n    </tr>\n  </tbody>\n</table>\n</div>"
     },
     "execution_count": 39,
     "metadata": {},
     "output_type": "execute_result"
    }
   ],
   "source": [
    "# printing out first 5 rows of the resulting dataset to see if the last week\n",
    "# of 2021 was added\n",
    "water_level_NO1.head()"
   ]
  },
  {
   "cell_type": "code",
   "execution_count": 40,
   "id": "f25b4e89",
   "metadata": {},
   "outputs": [
    {
     "data": {
      "text/plain": "       Week  Stored Energy Value [MWh] - BZN|NO1\n49  Week 49                              4547299\n50  Week 50                              4240847\n51  Week 51                              4054917\n52  Week 52                              3915448\n53  Week 53                              3741135",
      "text/html": "<div>\n<style scoped>\n    .dataframe tbody tr th:only-of-type {\n        vertical-align: middle;\n    }\n\n    .dataframe tbody tr th {\n        vertical-align: top;\n    }\n\n    .dataframe thead th {\n        text-align: right;\n    }\n</style>\n<table border=\"1\" class=\"dataframe\">\n  <thead>\n    <tr style=\"text-align: right;\">\n      <th></th>\n      <th>Week</th>\n      <th>Stored Energy Value [MWh] - BZN|NO1</th>\n    </tr>\n  </thead>\n  <tbody>\n    <tr>\n      <th>49</th>\n      <td>Week 49</td>\n      <td>4547299</td>\n    </tr>\n    <tr>\n      <th>50</th>\n      <td>Week 50</td>\n      <td>4240847</td>\n    </tr>\n    <tr>\n      <th>51</th>\n      <td>Week 51</td>\n      <td>4054917</td>\n    </tr>\n    <tr>\n      <th>52</th>\n      <td>Week 52</td>\n      <td>3915448</td>\n    </tr>\n    <tr>\n      <th>53</th>\n      <td>Week 53</td>\n      <td>3741135</td>\n    </tr>\n  </tbody>\n</table>\n</div>"
     },
     "execution_count": 40,
     "metadata": {},
     "output_type": "execute_result"
    }
   ],
   "source": [
    "# printing out last 5 rows of the resulting dataset to see if the first week\n",
    "# of 2023 was added\n",
    "water_level_NO1.tail()"
   ]
  },
  {
   "cell_type": "markdown",
   "id": "32d32dcb",
   "metadata": {},
   "source": [
    "We can see that the extra weeks have been added correctly and can merge the datasets from the different zones into a larger dataset"
   ]
  },
  {
   "cell_type": "code",
   "execution_count": 41,
   "id": "73a50280",
   "metadata": {},
   "outputs": [
    {
     "data": {
      "text/plain": "     Week  Stored Energy Value [MWh] - BZN|NO1  \\\n0  Week 0                              3204274   \n1  Week 1                              2955197   \n2  Week 2                              2754532   \n3  Week 3                              2556285   \n4  Week 4                              2388301   \n\n   Stored Energy Value [MWh] - BZN|NO2  Stored Energy Value [MWh] - BZN|NO3  \\\n0                             16810140                              5688093   \n1                             16214535                              5314677   \n2                             15749289                              5423690   \n3                             15047132                              5363892   \n4                             14733590                              5186818   \n\n   Stored Energy Value [MWh] - BZN|NO5  Stored Energy Value [MWh] - BZN|SE3  \n0                              8631916                              1656000  \n1                              8130917                              1566000  \n2                              7834726                              1475000  \n3                              7445563                              1415000  \n4                              7172051                              1361000  ",
      "text/html": "<div>\n<style scoped>\n    .dataframe tbody tr th:only-of-type {\n        vertical-align: middle;\n    }\n\n    .dataframe tbody tr th {\n        vertical-align: top;\n    }\n\n    .dataframe thead th {\n        text-align: right;\n    }\n</style>\n<table border=\"1\" class=\"dataframe\">\n  <thead>\n    <tr style=\"text-align: right;\">\n      <th></th>\n      <th>Week</th>\n      <th>Stored Energy Value [MWh] - BZN|NO1</th>\n      <th>Stored Energy Value [MWh] - BZN|NO2</th>\n      <th>Stored Energy Value [MWh] - BZN|NO3</th>\n      <th>Stored Energy Value [MWh] - BZN|NO5</th>\n      <th>Stored Energy Value [MWh] - BZN|SE3</th>\n    </tr>\n  </thead>\n  <tbody>\n    <tr>\n      <th>0</th>\n      <td>Week 0</td>\n      <td>3204274</td>\n      <td>16810140</td>\n      <td>5688093</td>\n      <td>8631916</td>\n      <td>1656000</td>\n    </tr>\n    <tr>\n      <th>1</th>\n      <td>Week 1</td>\n      <td>2955197</td>\n      <td>16214535</td>\n      <td>5314677</td>\n      <td>8130917</td>\n      <td>1566000</td>\n    </tr>\n    <tr>\n      <th>2</th>\n      <td>Week 2</td>\n      <td>2754532</td>\n      <td>15749289</td>\n      <td>5423690</td>\n      <td>7834726</td>\n      <td>1475000</td>\n    </tr>\n    <tr>\n      <th>3</th>\n      <td>Week 3</td>\n      <td>2556285</td>\n      <td>15047132</td>\n      <td>5363892</td>\n      <td>7445563</td>\n      <td>1415000</td>\n    </tr>\n    <tr>\n      <th>4</th>\n      <td>Week 4</td>\n      <td>2388301</td>\n      <td>14733590</td>\n      <td>5186818</td>\n      <td>7172051</td>\n      <td>1361000</td>\n    </tr>\n  </tbody>\n</table>\n</div>"
     },
     "execution_count": 41,
     "metadata": {},
     "output_type": "execute_result"
    }
   ],
   "source": [
    "# Merging the dataframes\n",
    "water_level_dataframes = [water_level_NO1, water_level_NO2, water_level_NO3, water_level_NO5, water_level_SE3]\n",
    "water_level_dataframes = reduce(lambda left, right: pd.merge(left,right, on=['Week']), water_level_dataframes)\n",
    "\n",
    "# printing out the 5 first rows of the resulting dataframe\n",
    "water_level_dataframes.head()"
   ]
  },
  {
   "cell_type": "markdown",
   "id": "d6f33793",
   "metadata": {},
   "source": [
    "We will now convert the week numbers into the datetime corresponding with the first day of each week, starting on 27th of december 2021 and ending on the 2nd of January 2023. This is done with pd.date_range which returns a fixed frequency DatetimeIndex"
   ]
  },
  {
   "cell_type": "code",
   "execution_count": 42,
   "id": "9b5ba3a9",
   "metadata": {},
   "outputs": [
    {
     "data": {
      "text/plain": "  Week_start_date\n0      2021-12-27\n1      2022-01-03\n2      2022-01-10\n3      2022-01-17\n4      2022-01-24",
      "text/html": "<div>\n<style scoped>\n    .dataframe tbody tr th:only-of-type {\n        vertical-align: middle;\n    }\n\n    .dataframe tbody tr th {\n        vertical-align: top;\n    }\n\n    .dataframe thead th {\n        text-align: right;\n    }\n</style>\n<table border=\"1\" class=\"dataframe\">\n  <thead>\n    <tr style=\"text-align: right;\">\n      <th></th>\n      <th>Week_start_date</th>\n    </tr>\n  </thead>\n  <tbody>\n    <tr>\n      <th>0</th>\n      <td>2021-12-27</td>\n    </tr>\n    <tr>\n      <th>1</th>\n      <td>2022-01-03</td>\n    </tr>\n    <tr>\n      <th>2</th>\n      <td>2022-01-10</td>\n    </tr>\n    <tr>\n      <th>3</th>\n      <td>2022-01-17</td>\n    </tr>\n    <tr>\n      <th>4</th>\n      <td>2022-01-24</td>\n    </tr>\n  </tbody>\n</table>\n</div>"
     },
     "execution_count": 42,
     "metadata": {},
     "output_type": "execute_result"
    }
   ],
   "source": [
    "start_date = '2021-12-27'\n",
    "end_date = '2023-01-02'\n",
    "week_date_timeframe = pd.DataFrame(pd.date_range(start=start_date, end=end_date, freq='7D'))\n",
    "week_date_timeframe.rename(columns={0: 'Week_start_date'}, inplace=True)\n",
    "week_date_timeframe.head()"
   ]
  },
  {
   "cell_type": "markdown",
   "id": "5cb503ef",
   "metadata": {},
   "source": [
    "Now that we have a dataset containing corresponding datetimes to the weekly water levels, we can now join the two dataframes, and we can drop the 'Week' column as it is no longer of any use."
   ]
  },
  {
   "cell_type": "code",
   "execution_count": 43,
   "id": "f25e03d1",
   "metadata": {},
   "outputs": [
    {
     "data": {
      "text/plain": "  Week_start_date    Week  Stored Energy Value [MWh] - BZN|NO1  \\\n0      2021-12-27  Week 0                              3204274   \n1      2022-01-03  Week 1                              2955197   \n2      2022-01-10  Week 2                              2754532   \n3      2022-01-17  Week 3                              2556285   \n4      2022-01-24  Week 4                              2388301   \n\n   Stored Energy Value [MWh] - BZN|NO2  Stored Energy Value [MWh] - BZN|NO3  \\\n0                             16810140                              5688093   \n1                             16214535                              5314677   \n2                             15749289                              5423690   \n3                             15047132                              5363892   \n4                             14733590                              5186818   \n\n   Stored Energy Value [MWh] - BZN|NO5  Stored Energy Value [MWh] - BZN|SE3  \n0                              8631916                              1656000  \n1                              8130917                              1566000  \n2                              7834726                              1475000  \n3                              7445563                              1415000  \n4                              7172051                              1361000  ",
      "text/html": "<div>\n<style scoped>\n    .dataframe tbody tr th:only-of-type {\n        vertical-align: middle;\n    }\n\n    .dataframe tbody tr th {\n        vertical-align: top;\n    }\n\n    .dataframe thead th {\n        text-align: right;\n    }\n</style>\n<table border=\"1\" class=\"dataframe\">\n  <thead>\n    <tr style=\"text-align: right;\">\n      <th></th>\n      <th>Week_start_date</th>\n      <th>Week</th>\n      <th>Stored Energy Value [MWh] - BZN|NO1</th>\n      <th>Stored Energy Value [MWh] - BZN|NO2</th>\n      <th>Stored Energy Value [MWh] - BZN|NO3</th>\n      <th>Stored Energy Value [MWh] - BZN|NO5</th>\n      <th>Stored Energy Value [MWh] - BZN|SE3</th>\n    </tr>\n  </thead>\n  <tbody>\n    <tr>\n      <th>0</th>\n      <td>2021-12-27</td>\n      <td>Week 0</td>\n      <td>3204274</td>\n      <td>16810140</td>\n      <td>5688093</td>\n      <td>8631916</td>\n      <td>1656000</td>\n    </tr>\n    <tr>\n      <th>1</th>\n      <td>2022-01-03</td>\n      <td>Week 1</td>\n      <td>2955197</td>\n      <td>16214535</td>\n      <td>5314677</td>\n      <td>8130917</td>\n      <td>1566000</td>\n    </tr>\n    <tr>\n      <th>2</th>\n      <td>2022-01-10</td>\n      <td>Week 2</td>\n      <td>2754532</td>\n      <td>15749289</td>\n      <td>5423690</td>\n      <td>7834726</td>\n      <td>1475000</td>\n    </tr>\n    <tr>\n      <th>3</th>\n      <td>2022-01-17</td>\n      <td>Week 3</td>\n      <td>2556285</td>\n      <td>15047132</td>\n      <td>5363892</td>\n      <td>7445563</td>\n      <td>1415000</td>\n    </tr>\n    <tr>\n      <th>4</th>\n      <td>2022-01-24</td>\n      <td>Week 4</td>\n      <td>2388301</td>\n      <td>14733590</td>\n      <td>5186818</td>\n      <td>7172051</td>\n      <td>1361000</td>\n    </tr>\n  </tbody>\n</table>\n</div>"
     },
     "execution_count": 43,
     "metadata": {},
     "output_type": "execute_result"
    }
   ],
   "source": [
    "# joining the dataframes week_start_date and water_level_dataframes\n",
    "joined_water_week = pd.concat([week_date_timeframe, water_level_dataframes], axis=1)\n",
    "joined_water_week.head()"
   ]
  },
  {
   "cell_type": "code",
   "execution_count": 44,
   "id": "a0f0261b",
   "metadata": {},
   "outputs": [
    {
     "data": {
      "text/plain": "  Week_start_date  Stored Energy Value [MWh] - BZN|NO1  \\\n0      2021-12-27                              3204274   \n1      2022-01-03                              2955197   \n2      2022-01-10                              2754532   \n3      2022-01-17                              2556285   \n4      2022-01-24                              2388301   \n\n   Stored Energy Value [MWh] - BZN|NO2  Stored Energy Value [MWh] - BZN|NO3  \\\n0                             16810140                              5688093   \n1                             16214535                              5314677   \n2                             15749289                              5423690   \n3                             15047132                              5363892   \n4                             14733590                              5186818   \n\n   Stored Energy Value [MWh] - BZN|NO5  Stored Energy Value [MWh] - BZN|SE3  \n0                              8631916                              1656000  \n1                              8130917                              1566000  \n2                              7834726                              1475000  \n3                              7445563                              1415000  \n4                              7172051                              1361000  ",
      "text/html": "<div>\n<style scoped>\n    .dataframe tbody tr th:only-of-type {\n        vertical-align: middle;\n    }\n\n    .dataframe tbody tr th {\n        vertical-align: top;\n    }\n\n    .dataframe thead th {\n        text-align: right;\n    }\n</style>\n<table border=\"1\" class=\"dataframe\">\n  <thead>\n    <tr style=\"text-align: right;\">\n      <th></th>\n      <th>Week_start_date</th>\n      <th>Stored Energy Value [MWh] - BZN|NO1</th>\n      <th>Stored Energy Value [MWh] - BZN|NO2</th>\n      <th>Stored Energy Value [MWh] - BZN|NO3</th>\n      <th>Stored Energy Value [MWh] - BZN|NO5</th>\n      <th>Stored Energy Value [MWh] - BZN|SE3</th>\n    </tr>\n  </thead>\n  <tbody>\n    <tr>\n      <th>0</th>\n      <td>2021-12-27</td>\n      <td>3204274</td>\n      <td>16810140</td>\n      <td>5688093</td>\n      <td>8631916</td>\n      <td>1656000</td>\n    </tr>\n    <tr>\n      <th>1</th>\n      <td>2022-01-03</td>\n      <td>2955197</td>\n      <td>16214535</td>\n      <td>5314677</td>\n      <td>8130917</td>\n      <td>1566000</td>\n    </tr>\n    <tr>\n      <th>2</th>\n      <td>2022-01-10</td>\n      <td>2754532</td>\n      <td>15749289</td>\n      <td>5423690</td>\n      <td>7834726</td>\n      <td>1475000</td>\n    </tr>\n    <tr>\n      <th>3</th>\n      <td>2022-01-17</td>\n      <td>2556285</td>\n      <td>15047132</td>\n      <td>5363892</td>\n      <td>7445563</td>\n      <td>1415000</td>\n    </tr>\n    <tr>\n      <th>4</th>\n      <td>2022-01-24</td>\n      <td>2388301</td>\n      <td>14733590</td>\n      <td>5186818</td>\n      <td>7172051</td>\n      <td>1361000</td>\n    </tr>\n  </tbody>\n</table>\n</div>"
     },
     "execution_count": 44,
     "metadata": {},
     "output_type": "execute_result"
    }
   ],
   "source": [
    "# dropping the week column\n",
    "joined_water_week.drop('Week', axis=1, inplace=True)\n",
    "\n",
    "# printing out 5 first rows of the resulting dataframe\n",
    "joined_water_week.head()"
   ]
  },
  {
   "cell_type": "markdown",
   "id": "c69053ae",
   "metadata": {},
   "source": [
    "Setting 'Week_start_date' as the index so that the whole dataframe can be treated as a datetime object"
   ]
  },
  {
   "cell_type": "code",
   "execution_count": 45,
   "id": "1d213d1f",
   "metadata": {},
   "outputs": [],
   "source": [
    "# Setting 'Week_start_date' as the index\n",
    "joined_water_week.set_index('Week_start_date', inplace=True)"
   ]
  },
  {
   "cell_type": "code",
   "execution_count": 46,
   "id": "e355ce34",
   "metadata": {},
   "outputs": [
    {
     "data": {
      "text/plain": "DatetimeIndex(['2021-12-27', '2022-01-03', '2022-01-10', '2022-01-17',\n               '2022-01-24', '2022-01-31', '2022-02-07', '2022-02-14',\n               '2022-02-21', '2022-02-28', '2022-03-07', '2022-03-14',\n               '2022-03-21', '2022-03-28', '2022-04-04', '2022-04-11',\n               '2022-04-18', '2022-04-25', '2022-05-02', '2022-05-09',\n               '2022-05-16', '2022-05-23', '2022-05-30', '2022-06-06',\n               '2022-06-13', '2022-06-20', '2022-06-27', '2022-07-04',\n               '2022-07-11', '2022-07-18', '2022-07-25', '2022-08-01',\n               '2022-08-08', '2022-08-15', '2022-08-22', '2022-08-29',\n               '2022-09-05', '2022-09-12', '2022-09-19', '2022-09-26',\n               '2022-10-03', '2022-10-10', '2022-10-17', '2022-10-24',\n               '2022-10-31', '2022-11-07', '2022-11-14', '2022-11-21',\n               '2022-11-28', '2022-12-05', '2022-12-12', '2022-12-19',\n               '2022-12-26', '2023-01-02'],\n              dtype='datetime64[ns]', name='Week_start_date', freq=None)"
     },
     "execution_count": 46,
     "metadata": {},
     "output_type": "execute_result"
    }
   ],
   "source": [
    "# printing out the resulting index\n",
    "joined_water_week.index"
   ]
  },
  {
   "cell_type": "code",
   "execution_count": 47,
   "id": "41d82fd9",
   "metadata": {},
   "outputs": [
    {
     "data": {
      "text/plain": "                 Stored Energy Value [MWh] - BZN|NO1  \\\nWeek_start_date                                        \n2021-12-27                                   3204274   \n2022-01-03                                   2955197   \n2022-01-10                                   2754532   \n2022-01-17                                   2556285   \n2022-01-24                                   2388301   \n\n                 Stored Energy Value [MWh] - BZN|NO2  \\\nWeek_start_date                                        \n2021-12-27                                  16810140   \n2022-01-03                                  16214535   \n2022-01-10                                  15749289   \n2022-01-17                                  15047132   \n2022-01-24                                  14733590   \n\n                 Stored Energy Value [MWh] - BZN|NO3  \\\nWeek_start_date                                        \n2021-12-27                                   5688093   \n2022-01-03                                   5314677   \n2022-01-10                                   5423690   \n2022-01-17                                   5363892   \n2022-01-24                                   5186818   \n\n                 Stored Energy Value [MWh] - BZN|NO5  \\\nWeek_start_date                                        \n2021-12-27                                   8631916   \n2022-01-03                                   8130917   \n2022-01-10                                   7834726   \n2022-01-17                                   7445563   \n2022-01-24                                   7172051   \n\n                 Stored Energy Value [MWh] - BZN|SE3  \nWeek_start_date                                       \n2021-12-27                                   1656000  \n2022-01-03                                   1566000  \n2022-01-10                                   1475000  \n2022-01-17                                   1415000  \n2022-01-24                                   1361000  ",
      "text/html": "<div>\n<style scoped>\n    .dataframe tbody tr th:only-of-type {\n        vertical-align: middle;\n    }\n\n    .dataframe tbody tr th {\n        vertical-align: top;\n    }\n\n    .dataframe thead th {\n        text-align: right;\n    }\n</style>\n<table border=\"1\" class=\"dataframe\">\n  <thead>\n    <tr style=\"text-align: right;\">\n      <th></th>\n      <th>Stored Energy Value [MWh] - BZN|NO1</th>\n      <th>Stored Energy Value [MWh] - BZN|NO2</th>\n      <th>Stored Energy Value [MWh] - BZN|NO3</th>\n      <th>Stored Energy Value [MWh] - BZN|NO5</th>\n      <th>Stored Energy Value [MWh] - BZN|SE3</th>\n    </tr>\n    <tr>\n      <th>Week_start_date</th>\n      <th></th>\n      <th></th>\n      <th></th>\n      <th></th>\n      <th></th>\n    </tr>\n  </thead>\n  <tbody>\n    <tr>\n      <th>2021-12-27</th>\n      <td>3204274</td>\n      <td>16810140</td>\n      <td>5688093</td>\n      <td>8631916</td>\n      <td>1656000</td>\n    </tr>\n    <tr>\n      <th>2022-01-03</th>\n      <td>2955197</td>\n      <td>16214535</td>\n      <td>5314677</td>\n      <td>8130917</td>\n      <td>1566000</td>\n    </tr>\n    <tr>\n      <th>2022-01-10</th>\n      <td>2754532</td>\n      <td>15749289</td>\n      <td>5423690</td>\n      <td>7834726</td>\n      <td>1475000</td>\n    </tr>\n    <tr>\n      <th>2022-01-17</th>\n      <td>2556285</td>\n      <td>15047132</td>\n      <td>5363892</td>\n      <td>7445563</td>\n      <td>1415000</td>\n    </tr>\n    <tr>\n      <th>2022-01-24</th>\n      <td>2388301</td>\n      <td>14733590</td>\n      <td>5186818</td>\n      <td>7172051</td>\n      <td>1361000</td>\n    </tr>\n  </tbody>\n</table>\n</div>"
     },
     "execution_count": 47,
     "metadata": {},
     "output_type": "execute_result"
    }
   ],
   "source": [
    "# printing out the 5 first rows of the resulting dataframe\n",
    "joined_water_week.head()"
   ]
  },
  {
   "cell_type": "markdown",
   "id": "27367798",
   "metadata": {},
   "source": [
    "Upsampling the data by changing the frequency from a 7 day frequency to a hour based one."
   ]
  },
  {
   "cell_type": "code",
   "execution_count": 48,
   "id": "9fedc14c",
   "metadata": {},
   "outputs": [],
   "source": [
    "# uppsampling joined_water_week dataframe to an hourly frequency\n",
    "joined_water_week = joined_water_week.asfreq('H')"
   ]
  },
  {
   "cell_type": "code",
   "execution_count": 49,
   "id": "769a7932",
   "metadata": {},
   "outputs": [
    {
     "data": {
      "text/plain": "                     Stored Energy Value [MWh] - BZN|NO1  \\\nWeek_start_date                                            \n2021-12-27 00:00:00                            3204274.0   \n2021-12-27 01:00:00                                  NaN   \n2021-12-27 02:00:00                                  NaN   \n2021-12-27 03:00:00                                  NaN   \n2021-12-27 04:00:00                                  NaN   \n\n                     Stored Energy Value [MWh] - BZN|NO2  \\\nWeek_start_date                                            \n2021-12-27 00:00:00                           16810140.0   \n2021-12-27 01:00:00                                  NaN   \n2021-12-27 02:00:00                                  NaN   \n2021-12-27 03:00:00                                  NaN   \n2021-12-27 04:00:00                                  NaN   \n\n                     Stored Energy Value [MWh] - BZN|NO3  \\\nWeek_start_date                                            \n2021-12-27 00:00:00                            5688093.0   \n2021-12-27 01:00:00                                  NaN   \n2021-12-27 02:00:00                                  NaN   \n2021-12-27 03:00:00                                  NaN   \n2021-12-27 04:00:00                                  NaN   \n\n                     Stored Energy Value [MWh] - BZN|NO5  \\\nWeek_start_date                                            \n2021-12-27 00:00:00                            8631916.0   \n2021-12-27 01:00:00                                  NaN   \n2021-12-27 02:00:00                                  NaN   \n2021-12-27 03:00:00                                  NaN   \n2021-12-27 04:00:00                                  NaN   \n\n                     Stored Energy Value [MWh] - BZN|SE3  \nWeek_start_date                                           \n2021-12-27 00:00:00                            1656000.0  \n2021-12-27 01:00:00                                  NaN  \n2021-12-27 02:00:00                                  NaN  \n2021-12-27 03:00:00                                  NaN  \n2021-12-27 04:00:00                                  NaN  ",
      "text/html": "<div>\n<style scoped>\n    .dataframe tbody tr th:only-of-type {\n        vertical-align: middle;\n    }\n\n    .dataframe tbody tr th {\n        vertical-align: top;\n    }\n\n    .dataframe thead th {\n        text-align: right;\n    }\n</style>\n<table border=\"1\" class=\"dataframe\">\n  <thead>\n    <tr style=\"text-align: right;\">\n      <th></th>\n      <th>Stored Energy Value [MWh] - BZN|NO1</th>\n      <th>Stored Energy Value [MWh] - BZN|NO2</th>\n      <th>Stored Energy Value [MWh] - BZN|NO3</th>\n      <th>Stored Energy Value [MWh] - BZN|NO5</th>\n      <th>Stored Energy Value [MWh] - BZN|SE3</th>\n    </tr>\n    <tr>\n      <th>Week_start_date</th>\n      <th></th>\n      <th></th>\n      <th></th>\n      <th></th>\n      <th></th>\n    </tr>\n  </thead>\n  <tbody>\n    <tr>\n      <th>2021-12-27 00:00:00</th>\n      <td>3204274.0</td>\n      <td>16810140.0</td>\n      <td>5688093.0</td>\n      <td>8631916.0</td>\n      <td>1656000.0</td>\n    </tr>\n    <tr>\n      <th>2021-12-27 01:00:00</th>\n      <td>NaN</td>\n      <td>NaN</td>\n      <td>NaN</td>\n      <td>NaN</td>\n      <td>NaN</td>\n    </tr>\n    <tr>\n      <th>2021-12-27 02:00:00</th>\n      <td>NaN</td>\n      <td>NaN</td>\n      <td>NaN</td>\n      <td>NaN</td>\n      <td>NaN</td>\n    </tr>\n    <tr>\n      <th>2021-12-27 03:00:00</th>\n      <td>NaN</td>\n      <td>NaN</td>\n      <td>NaN</td>\n      <td>NaN</td>\n      <td>NaN</td>\n    </tr>\n    <tr>\n      <th>2021-12-27 04:00:00</th>\n      <td>NaN</td>\n      <td>NaN</td>\n      <td>NaN</td>\n      <td>NaN</td>\n      <td>NaN</td>\n    </tr>\n  </tbody>\n</table>\n</div>"
     },
     "execution_count": 49,
     "metadata": {},
     "output_type": "execute_result"
    }
   ],
   "source": [
    "# printing out 5 first rows of the resulting dataframe\n",
    "joined_water_week.head()"
   ]
  },
  {
   "cell_type": "code",
   "execution_count": 50,
   "id": "0c4b61dd",
   "metadata": {},
   "outputs": [
    {
     "data": {
      "text/plain": "                     Stored Energy Value [MWh] - BZN|NO1  \\\nWeek_start_date                                            \n2023-01-01 20:00:00                                  NaN   \n2023-01-01 21:00:00                                  NaN   \n2023-01-01 22:00:00                                  NaN   \n2023-01-01 23:00:00                                  NaN   \n2023-01-02 00:00:00                            3741135.0   \n\n                     Stored Energy Value [MWh] - BZN|NO2  \\\nWeek_start_date                                            \n2023-01-01 20:00:00                                  NaN   \n2023-01-01 21:00:00                                  NaN   \n2023-01-01 22:00:00                                  NaN   \n2023-01-01 23:00:00                                  NaN   \n2023-01-02 00:00:00                           21066642.0   \n\n                     Stored Energy Value [MWh] - BZN|NO3  \\\nWeek_start_date                                            \n2023-01-01 20:00:00                                  NaN   \n2023-01-01 21:00:00                                  NaN   \n2023-01-01 22:00:00                                  NaN   \n2023-01-01 23:00:00                                  NaN   \n2023-01-02 00:00:00                            4657760.0   \n\n                     Stored Energy Value [MWh] - BZN|NO5  \\\nWeek_start_date                                            \n2023-01-01 20:00:00                                  NaN   \n2023-01-01 21:00:00                                  NaN   \n2023-01-01 22:00:00                                  NaN   \n2023-01-01 23:00:00                                  NaN   \n2023-01-02 00:00:00                           11620688.0   \n\n                     Stored Energy Value [MWh] - BZN|SE3  \nWeek_start_date                                           \n2023-01-01 20:00:00                                  NaN  \n2023-01-01 21:00:00                                  NaN  \n2023-01-01 22:00:00                                  NaN  \n2023-01-01 23:00:00                                  NaN  \n2023-01-02 00:00:00                            1584000.0  ",
      "text/html": "<div>\n<style scoped>\n    .dataframe tbody tr th:only-of-type {\n        vertical-align: middle;\n    }\n\n    .dataframe tbody tr th {\n        vertical-align: top;\n    }\n\n    .dataframe thead th {\n        text-align: right;\n    }\n</style>\n<table border=\"1\" class=\"dataframe\">\n  <thead>\n    <tr style=\"text-align: right;\">\n      <th></th>\n      <th>Stored Energy Value [MWh] - BZN|NO1</th>\n      <th>Stored Energy Value [MWh] - BZN|NO2</th>\n      <th>Stored Energy Value [MWh] - BZN|NO3</th>\n      <th>Stored Energy Value [MWh] - BZN|NO5</th>\n      <th>Stored Energy Value [MWh] - BZN|SE3</th>\n    </tr>\n    <tr>\n      <th>Week_start_date</th>\n      <th></th>\n      <th></th>\n      <th></th>\n      <th></th>\n      <th></th>\n    </tr>\n  </thead>\n  <tbody>\n    <tr>\n      <th>2023-01-01 20:00:00</th>\n      <td>NaN</td>\n      <td>NaN</td>\n      <td>NaN</td>\n      <td>NaN</td>\n      <td>NaN</td>\n    </tr>\n    <tr>\n      <th>2023-01-01 21:00:00</th>\n      <td>NaN</td>\n      <td>NaN</td>\n      <td>NaN</td>\n      <td>NaN</td>\n      <td>NaN</td>\n    </tr>\n    <tr>\n      <th>2023-01-01 22:00:00</th>\n      <td>NaN</td>\n      <td>NaN</td>\n      <td>NaN</td>\n      <td>NaN</td>\n      <td>NaN</td>\n    </tr>\n    <tr>\n      <th>2023-01-01 23:00:00</th>\n      <td>NaN</td>\n      <td>NaN</td>\n      <td>NaN</td>\n      <td>NaN</td>\n      <td>NaN</td>\n    </tr>\n    <tr>\n      <th>2023-01-02 00:00:00</th>\n      <td>3741135.0</td>\n      <td>21066642.0</td>\n      <td>4657760.0</td>\n      <td>11620688.0</td>\n      <td>1584000.0</td>\n    </tr>\n  </tbody>\n</table>\n</div>"
     },
     "execution_count": 50,
     "metadata": {},
     "output_type": "execute_result"
    }
   ],
   "source": [
    "# printing out 5 last rows of the resulting dataframe\n",
    "joined_water_week.tail()"
   ]
  },
  {
   "cell_type": "markdown",
   "id": "7960ccf2",
   "metadata": {},
   "source": [
    "We can see that the data has been upsampled, and we can interpolate the data. We will interpolate with spline itnerpolation to generate polynomeal  datapoints while requiering a lower polynomeal degree.The classical approach is to use polynomials of exactly degree 3 - cubic splines. source: Erwin Kreyszig (2005). Advanced Engineering Mathematics (9 ed.). Wiley. p. 816. ISBN 9780471488859."
   ]
  },
  {
   "cell_type": "code",
   "execution_count": 51,
   "id": "42dcc59e",
   "metadata": {},
   "outputs": [],
   "source": [
    "# performing cubic spline interpolation (3rd degree polynomeal)\n",
    "interpolated_df = joined_water_week.interpolate(method='spline', order=3)"
   ]
  },
  {
   "cell_type": "code",
   "execution_count": 52,
   "id": "b628fce9",
   "metadata": {},
   "outputs": [
    {
     "data": {
      "text/plain": "                     Stored Energy Value [MWh] - BZN|NO1  \\\nWeek_start_date                                            \n2021-12-27 00:00:00                         3.204274e+06   \n2021-12-27 01:00:00                         3.202495e+06   \n2021-12-27 02:00:00                         3.200721e+06   \n2021-12-27 03:00:00                         3.198951e+06   \n2021-12-27 04:00:00                         3.197185e+06   \n\n                     Stored Energy Value [MWh] - BZN|NO2  \\\nWeek_start_date                                            \n2021-12-27 00:00:00                         1.681014e+07   \n2021-12-27 01:00:00                         1.680477e+07   \n2021-12-27 02:00:00                         1.679943e+07   \n2021-12-27 03:00:00                         1.679412e+07   \n2021-12-27 04:00:00                         1.678885e+07   \n\n                     Stored Energy Value [MWh] - BZN|NO3  \\\nWeek_start_date                                            \n2021-12-27 00:00:00                         5.688093e+06   \n2021-12-27 01:00:00                         5.682780e+06   \n2021-12-27 02:00:00                         5.677514e+06   \n2021-12-27 03:00:00                         5.672294e+06   \n2021-12-27 04:00:00                         5.667121e+06   \n\n                     Stored Energy Value [MWh] - BZN|NO5  \\\nWeek_start_date                                            \n2021-12-27 00:00:00                         8.631916e+06   \n2021-12-27 01:00:00                         8.627389e+06   \n2021-12-27 02:00:00                         8.622887e+06   \n2021-12-27 03:00:00                         8.618408e+06   \n2021-12-27 04:00:00                         8.613954e+06   \n\n                     Stored Energy Value [MWh] - BZN|SE3  \nWeek_start_date                                           \n2021-12-27 00:00:00                         1.656000e+06  \n2021-12-27 01:00:00                         1.655553e+06  \n2021-12-27 02:00:00                         1.655104e+06  \n2021-12-27 03:00:00                         1.654654e+06  \n2021-12-27 04:00:00                         1.654202e+06  ",
      "text/html": "<div>\n<style scoped>\n    .dataframe tbody tr th:only-of-type {\n        vertical-align: middle;\n    }\n\n    .dataframe tbody tr th {\n        vertical-align: top;\n    }\n\n    .dataframe thead th {\n        text-align: right;\n    }\n</style>\n<table border=\"1\" class=\"dataframe\">\n  <thead>\n    <tr style=\"text-align: right;\">\n      <th></th>\n      <th>Stored Energy Value [MWh] - BZN|NO1</th>\n      <th>Stored Energy Value [MWh] - BZN|NO2</th>\n      <th>Stored Energy Value [MWh] - BZN|NO3</th>\n      <th>Stored Energy Value [MWh] - BZN|NO5</th>\n      <th>Stored Energy Value [MWh] - BZN|SE3</th>\n    </tr>\n    <tr>\n      <th>Week_start_date</th>\n      <th></th>\n      <th></th>\n      <th></th>\n      <th></th>\n      <th></th>\n    </tr>\n  </thead>\n  <tbody>\n    <tr>\n      <th>2021-12-27 00:00:00</th>\n      <td>3.204274e+06</td>\n      <td>1.681014e+07</td>\n      <td>5.688093e+06</td>\n      <td>8.631916e+06</td>\n      <td>1.656000e+06</td>\n    </tr>\n    <tr>\n      <th>2021-12-27 01:00:00</th>\n      <td>3.202495e+06</td>\n      <td>1.680477e+07</td>\n      <td>5.682780e+06</td>\n      <td>8.627389e+06</td>\n      <td>1.655553e+06</td>\n    </tr>\n    <tr>\n      <th>2021-12-27 02:00:00</th>\n      <td>3.200721e+06</td>\n      <td>1.679943e+07</td>\n      <td>5.677514e+06</td>\n      <td>8.622887e+06</td>\n      <td>1.655104e+06</td>\n    </tr>\n    <tr>\n      <th>2021-12-27 03:00:00</th>\n      <td>3.198951e+06</td>\n      <td>1.679412e+07</td>\n      <td>5.672294e+06</td>\n      <td>8.618408e+06</td>\n      <td>1.654654e+06</td>\n    </tr>\n    <tr>\n      <th>2021-12-27 04:00:00</th>\n      <td>3.197185e+06</td>\n      <td>1.678885e+07</td>\n      <td>5.667121e+06</td>\n      <td>8.613954e+06</td>\n      <td>1.654202e+06</td>\n    </tr>\n  </tbody>\n</table>\n</div>"
     },
     "execution_count": 52,
     "metadata": {},
     "output_type": "execute_result"
    }
   ],
   "source": [
    "# printing out the 5 first rows of the interpolated dataframe\n",
    "interpolated_df.head()"
   ]
  },
  {
   "cell_type": "code",
   "execution_count": 53,
   "id": "48fe1b2b",
   "metadata": {},
   "outputs": [
    {
     "data": {
      "text/plain": "                     Stored Energy Value [MWh] - BZN|NO1  \\\nWeek_start_date                                            \n2023-01-01 20:00:00                         3.746225e+06   \n2023-01-01 21:00:00                         3.744958e+06   \n2023-01-01 22:00:00                         3.743687e+06   \n2023-01-01 23:00:00                         3.742413e+06   \n2023-01-02 00:00:00                         3.741135e+06   \n\n                     Stored Energy Value [MWh] - BZN|NO2  \\\nWeek_start_date                                            \n2023-01-01 20:00:00                         2.108807e+07   \n2023-01-01 21:00:00                         2.108280e+07   \n2023-01-01 22:00:00                         2.107747e+07   \n2023-01-01 23:00:00                         2.107208e+07   \n2023-01-02 00:00:00                         2.106664e+07   \n\n                     Stored Energy Value [MWh] - BZN|NO3  \\\nWeek_start_date                                            \n2023-01-01 20:00:00                         4.672723e+06   \n2023-01-01 21:00:00                         4.669017e+06   \n2023-01-01 22:00:00                         4.665288e+06   \n2023-01-01 23:00:00                         4.661536e+06   \n2023-01-02 00:00:00                         4.657760e+06   \n\n                     Stored Energy Value [MWh] - BZN|NO5  \\\nWeek_start_date                                            \n2023-01-01 20:00:00                         1.163591e+07   \n2023-01-01 21:00:00                         1.163214e+07   \n2023-01-01 22:00:00                         1.162835e+07   \n2023-01-01 23:00:00                         1.162453e+07   \n2023-01-02 00:00:00                         1.162069e+07   \n\n                     Stored Energy Value [MWh] - BZN|SE3  \nWeek_start_date                                           \n2023-01-01 20:00:00                         1.585083e+06  \n2023-01-01 21:00:00                         1.584819e+06  \n2023-01-01 22:00:00                         1.584551e+06  \n2023-01-01 23:00:00                         1.584278e+06  \n2023-01-02 00:00:00                         1.584000e+06  ",
      "text/html": "<div>\n<style scoped>\n    .dataframe tbody tr th:only-of-type {\n        vertical-align: middle;\n    }\n\n    .dataframe tbody tr th {\n        vertical-align: top;\n    }\n\n    .dataframe thead th {\n        text-align: right;\n    }\n</style>\n<table border=\"1\" class=\"dataframe\">\n  <thead>\n    <tr style=\"text-align: right;\">\n      <th></th>\n      <th>Stored Energy Value [MWh] - BZN|NO1</th>\n      <th>Stored Energy Value [MWh] - BZN|NO2</th>\n      <th>Stored Energy Value [MWh] - BZN|NO3</th>\n      <th>Stored Energy Value [MWh] - BZN|NO5</th>\n      <th>Stored Energy Value [MWh] - BZN|SE3</th>\n    </tr>\n    <tr>\n      <th>Week_start_date</th>\n      <th></th>\n      <th></th>\n      <th></th>\n      <th></th>\n      <th></th>\n    </tr>\n  </thead>\n  <tbody>\n    <tr>\n      <th>2023-01-01 20:00:00</th>\n      <td>3.746225e+06</td>\n      <td>2.108807e+07</td>\n      <td>4.672723e+06</td>\n      <td>1.163591e+07</td>\n      <td>1.585083e+06</td>\n    </tr>\n    <tr>\n      <th>2023-01-01 21:00:00</th>\n      <td>3.744958e+06</td>\n      <td>2.108280e+07</td>\n      <td>4.669017e+06</td>\n      <td>1.163214e+07</td>\n      <td>1.584819e+06</td>\n    </tr>\n    <tr>\n      <th>2023-01-01 22:00:00</th>\n      <td>3.743687e+06</td>\n      <td>2.107747e+07</td>\n      <td>4.665288e+06</td>\n      <td>1.162835e+07</td>\n      <td>1.584551e+06</td>\n    </tr>\n    <tr>\n      <th>2023-01-01 23:00:00</th>\n      <td>3.742413e+06</td>\n      <td>2.107208e+07</td>\n      <td>4.661536e+06</td>\n      <td>1.162453e+07</td>\n      <td>1.584278e+06</td>\n    </tr>\n    <tr>\n      <th>2023-01-02 00:00:00</th>\n      <td>3.741135e+06</td>\n      <td>2.106664e+07</td>\n      <td>4.657760e+06</td>\n      <td>1.162069e+07</td>\n      <td>1.584000e+06</td>\n    </tr>\n  </tbody>\n</table>\n</div>"
     },
     "execution_count": 53,
     "metadata": {},
     "output_type": "execute_result"
    }
   ],
   "source": [
    "# printing out the 5 last rows of the interpolated dataframe\n",
    "interpolated_df.tail()"
   ]
  },
  {
   "cell_type": "code",
   "execution_count": 54,
   "id": "25a3d1ba",
   "metadata": {},
   "outputs": [
    {
     "data": {
      "text/plain": "Stored Energy Value [MWh] - BZN|NO1    0\nStored Energy Value [MWh] - BZN|NO2    0\nStored Energy Value [MWh] - BZN|NO3    0\nStored Energy Value [MWh] - BZN|NO5    0\nStored Energy Value [MWh] - BZN|SE3    0\ndtype: int64"
     },
     "execution_count": 54,
     "metadata": {},
     "output_type": "execute_result"
    }
   ],
   "source": [
    "# checking data for missing values, if any\n",
    "interpolated_df.isna().sum()"
   ]
  },
  {
   "cell_type": "markdown",
   "id": "2de8d60d",
   "metadata": {},
   "source": [
    "The data above includes the timestamps for last week of 2021 and first week of 2023. To make the water level dataframe mach the other datafames we will filter out the data from the year 2021 and 2023"
   ]
  },
  {
   "cell_type": "code",
   "execution_count": 55,
   "id": "70b49967",
   "metadata": {},
   "outputs": [],
   "source": [
    "# filtering out the data from year 2021 and 2023\n",
    "filtering_interpolation_df = interpolated_df.loc[(interpolated_df.index >= '2022-01-01 00:00:00')\n",
    "                   & (interpolated_df.index <= '2022-12-31 23:00:00')]"
   ]
  },
  {
   "cell_type": "markdown",
   "id": "e29a16b3",
   "metadata": {},
   "source": [
    "The other datasets have a numerical index, and the time as a feature, we therefore reset the index to mach the other datasets."
   ]
  },
  {
   "cell_type": "code",
   "execution_count": 65,
   "id": "ab7dcf2c",
   "metadata": {},
   "outputs": [
    {
     "data": {
      "text/plain": "       MTU (CET/CEST)  Stored Energy Value [MWh] - BZN|NO1  \\\n0 2022-01-01 00:00:00                         3.018018e+06   \n1 2022-01-01 01:00:00                         3.016657e+06   \n2 2022-01-01 02:00:00                         3.015298e+06   \n3 2022-01-01 03:00:00                         3.013942e+06   \n4 2022-01-01 04:00:00                         3.012588e+06   \n\n   Stored Energy Value [MWh] - BZN|NO2  Stored Energy Value [MWh] - BZN|NO3  \\\n0                         1.633942e+07                         5.335153e+06   \n1                         1.633660e+07                         5.334192e+06   \n2                         1.633378e+07                         5.333256e+06   \n3                         1.633098e+07                         5.332346e+06   \n4                         1.632819e+07                         5.331461e+06   \n\n   Stored Energy Value [MWh] - BZN|NO5  Stored Energy Value [MWh] - BZN|SE3  \n0                         8.232289e+06                         1.593721e+06  \n1                         8.229931e+06                         1.593152e+06  \n2                         8.227586e+06                         1.592581e+06  \n3                         8.225252e+06                         1.592011e+06  \n4                         8.222931e+06                         1.591439e+06  ",
      "text/html": "<div>\n<style scoped>\n    .dataframe tbody tr th:only-of-type {\n        vertical-align: middle;\n    }\n\n    .dataframe tbody tr th {\n        vertical-align: top;\n    }\n\n    .dataframe thead th {\n        text-align: right;\n    }\n</style>\n<table border=\"1\" class=\"dataframe\">\n  <thead>\n    <tr style=\"text-align: right;\">\n      <th></th>\n      <th>MTU (CET/CEST)</th>\n      <th>Stored Energy Value [MWh] - BZN|NO1</th>\n      <th>Stored Energy Value [MWh] - BZN|NO2</th>\n      <th>Stored Energy Value [MWh] - BZN|NO3</th>\n      <th>Stored Energy Value [MWh] - BZN|NO5</th>\n      <th>Stored Energy Value [MWh] - BZN|SE3</th>\n    </tr>\n  </thead>\n  <tbody>\n    <tr>\n      <th>0</th>\n      <td>2022-01-01 00:00:00</td>\n      <td>3.018018e+06</td>\n      <td>1.633942e+07</td>\n      <td>5.335153e+06</td>\n      <td>8.232289e+06</td>\n      <td>1.593721e+06</td>\n    </tr>\n    <tr>\n      <th>1</th>\n      <td>2022-01-01 01:00:00</td>\n      <td>3.016657e+06</td>\n      <td>1.633660e+07</td>\n      <td>5.334192e+06</td>\n      <td>8.229931e+06</td>\n      <td>1.593152e+06</td>\n    </tr>\n    <tr>\n      <th>2</th>\n      <td>2022-01-01 02:00:00</td>\n      <td>3.015298e+06</td>\n      <td>1.633378e+07</td>\n      <td>5.333256e+06</td>\n      <td>8.227586e+06</td>\n      <td>1.592581e+06</td>\n    </tr>\n    <tr>\n      <th>3</th>\n      <td>2022-01-01 03:00:00</td>\n      <td>3.013942e+06</td>\n      <td>1.633098e+07</td>\n      <td>5.332346e+06</td>\n      <td>8.225252e+06</td>\n      <td>1.592011e+06</td>\n    </tr>\n    <tr>\n      <th>4</th>\n      <td>2022-01-01 04:00:00</td>\n      <td>3.012588e+06</td>\n      <td>1.632819e+07</td>\n      <td>5.331461e+06</td>\n      <td>8.222931e+06</td>\n      <td>1.591439e+06</td>\n    </tr>\n  </tbody>\n</table>\n</div>"
     },
     "execution_count": 65,
     "metadata": {},
     "output_type": "execute_result"
    }
   ],
   "source": [
    "# resetting index\n",
    "water_reservoir = filtering_interpolation_df\n",
    "water_reservoir = water_reservoir.reset_index()\n",
    "water_reservoir = water_reservoir.rename(columns={'Week_start_date': 'MTU (CET/CEST)'})\n",
    "water_reservoir.head()"
   ]
  },
  {
   "cell_type": "markdown",
   "id": "8c56ea98",
   "metadata": {},
   "source": [
    "We now have the finished water_reservoir dataframe which we can merge with the other datasets"
   ]
  },
  {
   "cell_type": "code",
   "execution_count": 68,
   "id": "3f77c514",
   "metadata": {},
   "outputs": [
    {
     "data": {
      "text/plain": "       MTU (CET/CEST)  Stored Energy Value [MWh] - BZN|NO1  \\\n0 2022-01-01 00:00:00                         3.018018e+06   \n1 2022-01-01 01:00:00                         3.016657e+06   \n2 2022-01-01 02:00:00                         3.015298e+06   \n3 2022-01-01 03:00:00                         3.013942e+06   \n4 2022-01-01 04:00:00                         3.012588e+06   \n\n   Stored Energy Value [MWh] - BZN|NO2  Stored Energy Value [MWh] - BZN|NO3  \\\n0                         1.633942e+07                         5.335153e+06   \n1                         1.633660e+07                         5.334192e+06   \n2                         1.633378e+07                         5.333256e+06   \n3                         1.633098e+07                         5.332346e+06   \n4                         1.632819e+07                         5.331461e+06   \n\n   Stored Energy Value [MWh] - BZN|NO5  Stored Energy Value [MWh] - BZN|SE3  \n0                         8.232289e+06                         1.593721e+06  \n1                         8.229931e+06                         1.593152e+06  \n2                         8.227586e+06                         1.592581e+06  \n3                         8.225252e+06                         1.592011e+06  \n4                         8.222931e+06                         1.591439e+06  ",
      "text/html": "<div>\n<style scoped>\n    .dataframe tbody tr th:only-of-type {\n        vertical-align: middle;\n    }\n\n    .dataframe tbody tr th {\n        vertical-align: top;\n    }\n\n    .dataframe thead th {\n        text-align: right;\n    }\n</style>\n<table border=\"1\" class=\"dataframe\">\n  <thead>\n    <tr style=\"text-align: right;\">\n      <th></th>\n      <th>MTU (CET/CEST)</th>\n      <th>Stored Energy Value [MWh] - BZN|NO1</th>\n      <th>Stored Energy Value [MWh] - BZN|NO2</th>\n      <th>Stored Energy Value [MWh] - BZN|NO3</th>\n      <th>Stored Energy Value [MWh] - BZN|NO5</th>\n      <th>Stored Energy Value [MWh] - BZN|SE3</th>\n    </tr>\n  </thead>\n  <tbody>\n    <tr>\n      <th>0</th>\n      <td>2022-01-01 00:00:00</td>\n      <td>3.018018e+06</td>\n      <td>1.633942e+07</td>\n      <td>5.335153e+06</td>\n      <td>8.232289e+06</td>\n      <td>1.593721e+06</td>\n    </tr>\n    <tr>\n      <th>1</th>\n      <td>2022-01-01 01:00:00</td>\n      <td>3.016657e+06</td>\n      <td>1.633660e+07</td>\n      <td>5.334192e+06</td>\n      <td>8.229931e+06</td>\n      <td>1.593152e+06</td>\n    </tr>\n    <tr>\n      <th>2</th>\n      <td>2022-01-01 02:00:00</td>\n      <td>3.015298e+06</td>\n      <td>1.633378e+07</td>\n      <td>5.333256e+06</td>\n      <td>8.227586e+06</td>\n      <td>1.592581e+06</td>\n    </tr>\n    <tr>\n      <th>3</th>\n      <td>2022-01-01 03:00:00</td>\n      <td>3.013942e+06</td>\n      <td>1.633098e+07</td>\n      <td>5.332346e+06</td>\n      <td>8.225252e+06</td>\n      <td>1.592011e+06</td>\n    </tr>\n    <tr>\n      <th>4</th>\n      <td>2022-01-01 04:00:00</td>\n      <td>3.012588e+06</td>\n      <td>1.632819e+07</td>\n      <td>5.331461e+06</td>\n      <td>8.222931e+06</td>\n      <td>1.591439e+06</td>\n    </tr>\n  </tbody>\n</table>\n</div>"
     },
     "execution_count": 68,
     "metadata": {},
     "output_type": "execute_result"
    }
   ],
   "source": [
    "# printing out 5 first rows of the finished water_reservoir dataframe\n",
    "water_reservoir.head()"
   ]
  },
  {
   "cell_type": "markdown",
   "id": "782d99d6",
   "metadata": {},
   "source": [
    "### Aggregating all subdatasets\n",
    "Now that we have aggregated each of the subdatasets, we can merge them together into a larger dataset that can be used to train time series electricity price prediction models on. we will wait with adding the water_reservoir untill the time-range column 'MTU (CET/CEST)' of the other datasets have been converted to datetime columns."
   ]
  },
  {
   "cell_type": "code",
   "execution_count": 67,
   "id": "931d94e8",
   "metadata": {},
   "outputs": [
    {
     "ename": "NameError",
     "evalue": "name 'loads' is not defined",
     "output_type": "error",
     "traceback": [
      "\u001B[1;31m---------------------------------------------------------------------------\u001B[0m",
      "\u001B[1;31mNameError\u001B[0m                                 Traceback (most recent call last)",
      "Input \u001B[1;32mIn [67]\u001B[0m, in \u001B[0;36m<cell line: 7>\u001B[1;34m()\u001B[0m\n\u001B[0;32m      1\u001B[0m \u001B[38;5;66;03m# merging prices, loads, actual_generation_selected and\u001B[39;00m\n\u001B[0;32m      2\u001B[0m \u001B[38;5;66;03m# import_export_no1_neighbours dataframes on the date time\u001B[39;00m\n\u001B[0;32m      3\u001B[0m \u001B[38;5;66;03m# column 'MTU (CET/CEST)'\u001B[39;00m\n\u001B[0;32m      4\u001B[0m \n\u001B[0;32m      5\u001B[0m \u001B[38;5;66;03m# creating a list of dataframes\u001B[39;00m\n\u001B[0;32m      6\u001B[0m no1_dataframes \u001B[38;5;241m=\u001B[39m [\n\u001B[0;32m      7\u001B[0m     prices,\n\u001B[1;32m----> 8\u001B[0m     \u001B[43mloads\u001B[49m,\n\u001B[0;32m      9\u001B[0m     actual_generation_selected,\n\u001B[0;32m     10\u001B[0m     import_export_no1_neighbours]\n\u001B[0;32m     12\u001B[0m \u001B[38;5;66;03m# merging dataframes\u001B[39;00m\n\u001B[0;32m     13\u001B[0m no1 \u001B[38;5;241m=\u001B[39m reduce(\u001B[38;5;28;01mlambda\u001B[39;00m left, right: pd\u001B[38;5;241m.\u001B[39mmerge(\n\u001B[0;32m     14\u001B[0m     left,right, on\u001B[38;5;241m=\u001B[39m[\u001B[38;5;124m'\u001B[39m\u001B[38;5;124mMTU (CET/CEST)\u001B[39m\u001B[38;5;124m'\u001B[39m]), no1_data_frames)\n",
      "\u001B[1;31mNameError\u001B[0m: name 'loads' is not defined"
     ]
    }
   ],
   "source": [
    "# merging prices, loads, actual_generation_selected and\n",
    "# import_export_no1_neighbours dataframes on the date time\n",
    "# column 'MTU (CET/CEST)'\n",
    "\n",
    "# creating a list of dataframes\n",
    "no1_dataframes = [\n",
    "    prices,\n",
    "    loads,\n",
    "    actual_generation_selected,\n",
    "    import_export_no1_neighbours]\n",
    "\n",
    "# merging dataframes\n",
    "no1 = reduce(lambda left, right: pd.merge(\n",
    "    left,right, on=['MTU (CET/CEST)']), no1_data_frames)\n",
    "\n",
    "# printing out the resulting dataframe\n",
    "no1"
   ]
  },
  {
   "cell_type": "code",
   "execution_count": null,
   "id": "300f9a29",
   "metadata": {},
   "outputs": [],
   "source": [
    "pd.concat(no1_dataframes, axis=1)"
   ]
  },
  {
   "cell_type": "code",
   "execution_count": null,
   "id": "d68cc441",
   "metadata": {},
   "outputs": [],
   "source": [
    "print(len(prices))\n",
    "print(len(loads))\n",
    "print(len(actual_generation_selected))\n",
    "print(len(import_export_no1_neighbours))"
   ]
  },
  {
   "cell_type": "code",
   "execution_count": null,
   "id": "27797a57",
   "metadata": {},
   "outputs": [],
   "source": [
    "pd.merge(prices, loads, on=['MTU (CET/CEST)'])"
   ]
  },
  {
   "cell_type": "code",
   "execution_count": null,
   "id": "826a676e",
   "metadata": {},
   "outputs": [],
   "source": [
    "pd.merge(actual_generation_selected, import_export_no1_neighbours, on=['MTU (CET/CEST)'])\n",
    "\n"
   ]
  },
  {
   "cell_type": "code",
   "execution_count": null,
   "id": "3673210b",
   "metadata": {},
   "outputs": [],
   "source": []
  }
 ],
 "metadata": {
  "kernelspec": {
   "display_name": "Python 3 (ipykernel)",
   "language": "python",
   "name": "python3"
  },
  "language_info": {
   "codemirror_mode": {
    "name": "ipython",
    "version": 3
   },
   "file_extension": ".py",
   "mimetype": "text/x-python",
   "name": "python",
   "nbconvert_exporter": "python",
   "pygments_lexer": "ipython3",
   "version": "3.9.7"
  }
 },
 "nbformat": 4,
 "nbformat_minor": 5
}
