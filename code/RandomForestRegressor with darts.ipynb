{
 "cells": [
  {
   "cell_type": "markdown",
   "id": "be9b9dd6",
   "metadata": {},
   "source": [
    "## Importing modules"
   ]
  },
  {
   "cell_type": "code",
   "execution_count": 2,
   "id": "d4df0d25",
   "metadata": {},
   "outputs": [
    {
     "ename": "ImportError",
     "evalue": "cannot import name 'ReducedRegressionForecaster' from 'sktime.forecasting.compose' (C:\\Users\\kjell\\anaconda3\\envs\\sktime\\lib\\site-packages\\sktime\\forecasting\\compose\\__init__.py)",
     "output_type": "error",
     "traceback": [
      "\u001b[1;31m---------------------------------------------------------------------------\u001b[0m",
      "\u001b[1;31mImportError\u001b[0m                               Traceback (most recent call last)",
      "Cell \u001b[1;32mIn[2], line 5\u001b[0m\n\u001b[0;32m      3\u001b[0m \u001b[38;5;28;01mfrom\u001b[39;00m \u001b[38;5;21;01msktime\u001b[39;00m\u001b[38;5;21;01m.\u001b[39;00m\u001b[38;5;21;01mtransformations\u001b[39;00m\u001b[38;5;21;01m.\u001b[39;00m\u001b[38;5;21;01mseries\u001b[39;00m\u001b[38;5;21;01m.\u001b[39;00m\u001b[38;5;21;01mdetrend\u001b[39;00m \u001b[38;5;28;01mimport\u001b[39;00m Deseasonalizer\n\u001b[0;32m      4\u001b[0m \u001b[38;5;28;01mfrom\u001b[39;00m \u001b[38;5;21;01msklearn\u001b[39;00m\u001b[38;5;21;01m.\u001b[39;00m\u001b[38;5;21;01mensemble\u001b[39;00m \u001b[38;5;28;01mimport\u001b[39;00m RandomForestRegressor\n\u001b[1;32m----> 5\u001b[0m \u001b[38;5;28;01mfrom\u001b[39;00m \u001b[38;5;21;01msktime\u001b[39;00m\u001b[38;5;21;01m.\u001b[39;00m\u001b[38;5;21;01mforecasting\u001b[39;00m\u001b[38;5;21;01m.\u001b[39;00m\u001b[38;5;21;01mcompose\u001b[39;00m \u001b[38;5;28;01mimport\u001b[39;00m ReducedRegressionForecaster\n\u001b[0;32m      6\u001b[0m \u001b[38;5;28;01mfrom\u001b[39;00m \u001b[38;5;21;01msktime\u001b[39;00m\u001b[38;5;21;01m.\u001b[39;00m\u001b[38;5;21;01mtransformations\u001b[39;00m\u001b[38;5;21;01m.\u001b[39;00m\u001b[38;5;21;01mseries\u001b[39;00m\u001b[38;5;21;01m.\u001b[39;00m\u001b[38;5;21;01mdetrend\u001b[39;00m \u001b[38;5;28;01mimport\u001b[39;00m Deseasonalizer\n\u001b[0;32m      7\u001b[0m \u001b[38;5;28;01mfrom\u001b[39;00m \u001b[38;5;21;01msklearn\u001b[39;00m\u001b[38;5;21;01m.\u001b[39;00m\u001b[38;5;21;01mensemble\u001b[39;00m \u001b[38;5;28;01mimport\u001b[39;00m RandomForestRegressor\n",
      "\u001b[1;31mImportError\u001b[0m: cannot import name 'ReducedRegressionForecaster' from 'sktime.forecasting.compose' (C:\\Users\\kjell\\anaconda3\\envs\\sktime\\lib\\site-packages\\sktime\\forecasting\\compose\\__init__.py)"
     ]
    }
   ],
   "source": [
    "from sktime.forecasting.compose import TransformedTargetForecaster\n",
    "from sktime.forecasting.model_selection import temporal_train_test_split\n",
    "from sktime.transformations.series.detrend import Deseasonalizer\n",
    "from sklearn.ensemble import RandomForestRegressor\n",
    "from sktime.forecasting.compose import ReducedRegressionForecaster\n",
    "from sktime.transformations.series.detrend import Deseasonalizer\n",
    "from sklearn.ensemble import RandomForestRegressor\n",
    "\n",
    "\n",
    "\n",
    "# Load the data\n",
    "df = pd.read_csv('../datasets/complete_data/df.csv')\n",
    "\n",
    "# Convert the date column to datetime\n",
    "df['start MTU (UTC)'] = pd.to_datetime(df['start MTU (UTC)'])\n",
    "\n",
    "# Set the date column as the index\n",
    "df.set_index('start MTU (UTC)', inplace=True)\n",
    "\n",
    "# Split the data into training, validation, and test sets\n",
    "# shuffle is set to false so that the order of the data is maintained\n",
    "# and the order of the splitting is choosen to maintain the order of the\n",
    "# the time so train contains the oldest data and test contains the newest data\n",
    "train, test_valid = train_test_split(df, test_size=0.2, shuffle=False)\n",
    "valid, test = train_test_split(test_valid, test_size=0.5, shuffle=False)\n",
    "\n",
    "# Print the shapes of the train, valid, and test sets\n",
    "print(\"Train set shape:\", train.shape)\n",
    "print(\"Validation set shape:\", valid.shape)\n",
    "print(\"Test set shape:\", test.shape)\n",
    "\n",
    "# Define the forecasting horizon (24 hours)\n",
    "fh = np.arange(1, 25)\n",
    "\n",
    "# Instantiate the base estimator (RandomForestRegressor)\n",
    "base_estimator = RandomForestRegressor(n_estimators=100, random_state=0)\n",
    "\n",
    "# Instantiate the forecaster\n",
    "forecaster = ReducedRegressionForecaster(\n",
    "    regressor=base_estimator, window_length=48, strategy=\"recursive\"\n",
    ")\n",
    "\n",
    "# Fit the forecaster on the training data\n",
    "forecaster.fit(train_x, train_y)\n",
    "\n",
    "# Generate forecasts for the validation and test sets\n",
    "y_pred_valid = forecaster.predict(valid_x, fh=fh)\n",
    "y_pred_test = forecaster.predict(test_x, fh=fh)\n",
    "\n",
    "# Print the shapes of the predicted values\n",
    "print(\"Validation forecast shape:\", y_pred_valid.shape)\n",
    "print(\"Test forecast shape:\", y_pred_test.shape)\n",
    "\n",
    "# Print the mean absolute error (MAE) on the validation and test sets\n",
    "mae_valid = mean_absolute_error(valid_y, y_pred_valid)\n",
    "mae_test = mean_absolute_error(test_y, y_pred_test)\n",
    "print(\"Validation MAE:\", mae_valid)\n",
    "print(\"Test MAE:\", mae_test)\n"
   ]
  },
  {
   "cell_type": "code",
   "execution_count": null,
   "id": "5f99977e",
   "metadata": {},
   "outputs": [],
   "source": []
  }
 ],
 "metadata": {
  "kernelspec": {
   "display_name": "Python 3 (ipykernel)",
   "language": "python",
   "name": "python3"
  },
  "language_info": {
   "codemirror_mode": {
    "name": "ipython",
    "version": 3
   },
   "file_extension": ".py",
   "mimetype": "text/x-python",
   "name": "python",
   "nbconvert_exporter": "python",
   "pygments_lexer": "ipython3",
   "version": "3.9.16"
  }
 },
 "nbformat": 4,
 "nbformat_minor": 5
}
