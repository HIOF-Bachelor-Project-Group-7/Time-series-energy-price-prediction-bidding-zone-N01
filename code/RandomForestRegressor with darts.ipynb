{
 "cells": [
  {
   "cell_type": "markdown",
   "id": "be9b9dd6",
   "metadata": {},
   "source": [
    "## Importing modules"
   ]
  },
  {
   "cell_type": "code",
   "execution_count": 3,
   "id": "b1405d35",
   "metadata": {},
   "outputs": [],
   "source": [
    "import pandas as pd\n",
    "import numpy as np\n",
    "import matplotlib.pyplot as plt\n",
    "from sklearn.ensemble import RandomForestRegressor\n",
    "from darts.models import RandomForest, NaiveSeasonal, ExponentialSmoothing\n",
    "from darts.metrics import mape\n",
    "from darts.utils.statistics import check_seasonality, plot_acf, plot_residuals_analysis\n",
    "from darts.dataprocessing.transformers import Scaler\n",
    "from darts.utils.timeseries_generation import datetime_attribute_timeseries\n"
   ]
  },
  {
   "cell_type": "markdown",
   "id": "85d65437",
   "metadata": {},
   "source": [
    "can you help me forecast time series tabular data using Darts and sklearn RandomForestRegressor to perform recursive forecast? split the data into training validation and test data where training contains the first 80%, validation the next 10% and test the last 10% . The the data is stored in df with \"Day-ahead Price [EUR/MWh] BZN|NO1\" as name of the column with the target feature, df has been processed like this so far:\n",
    "\n",
    "import pandas as pd\n",
    "\n",
    "# Read in the data\n",
    "df = pd.read_csv('../datasets/complete_data/df.csv')\n",
    "\n",
    "# Convert the date column to datetime\n",
    "df['start MTU (UTC)'] = pd.to_datetime(df['start MTU (UTC)'])\n",
    "\n",
    "# Set the date column as the index\n",
    "df.set_index('start MTU (UTC)', inplace=True)\n",
    "\n",
    "# Define the target column\n",
    "target_col = 'Day-ahead Price [EUR/MWh] BZN|NO1'\n",
    "\n",
    "# Drop the target column to get the features\n",
    "features = df.drop(columns=[target_col])\n",
    "\n",
    "# Get the target variable\n",
    "target = df[target_col]"
   ]
  },
  {
   "cell_type": "code",
   "execution_count": 8,
   "id": "1191125a",
   "metadata": {},
   "outputs": [],
   "source": [
    "# Read in the data\n",
    "df = pd.read_csv('../datasets/complete_data/df.csv')\n",
    "\n",
    "# Convert the date column to datetime\n",
    "df['start MTU (UTC)'] = pd.to_datetime(df['start MTU (UTC)'])\n",
    "\n",
    "# Set the date column as the index\n",
    "df.set_index('start MTU (UTC)', inplace=True)\n",
    "\n",
    "# Define the target column\n",
    "target_col = 'Day-ahead Price [EUR/MWh] BZN|NO1'\n",
    "\n",
    "# Drop the target column to get the features\n",
    "features = df.drop(columns=[target_col])\n",
    "\n",
    "# Get the target variable\n",
    "target = df[target_col]"
   ]
  },
  {
   "cell_type": "code",
   "execution_count": 9,
   "id": "de7fb7d9",
   "metadata": {},
   "outputs": [],
   "source": [
    "from sklearn.model_selection import train_test_split\n",
    "\n",
    "# Split data into training and test sets\n",
    "train_val_data, test_data, train_val_target, test_target = train_test_split(features, target, test_size=0.1, shuffle=False)\n",
    "\n",
    "# Split training set into training and validation sets\n",
    "train_data, val_data, train_target, val_target = train_test_split(train_val_data, train_val_target, test_size=0.1, shuffle=False)\n"
   ]
  },
  {
   "cell_type": "code",
   "execution_count": null,
   "id": "d4df0d25",
   "metadata": {},
   "outputs": [],
   "source": []
  }
 ],
 "metadata": {
  "kernelspec": {
   "display_name": "Python 3 (ipykernel)",
   "language": "python",
   "name": "python3"
  },
  "language_info": {
   "codemirror_mode": {
    "name": "ipython",
    "version": 3
   },
   "file_extension": ".py",
   "mimetype": "text/x-python",
   "name": "python",
   "nbconvert_exporter": "python",
   "pygments_lexer": "ipython3",
   "version": "3.9.16"
  }
 },
 "nbformat": 4,
 "nbformat_minor": 5
}
