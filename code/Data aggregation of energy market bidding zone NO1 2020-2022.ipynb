{
 "cells": [
  {
   "cell_type": "markdown",
   "id": "5b87d25b",
   "metadata": {},
   "source": [
    "## Data aggregation of energy market prices in bidding zone NO1 (Norway Østlandet) and neighbouring zones for 2020 - 2022"
   ]
  },
  {
   "cell_type": "markdown",
   "id": "2eb69a78",
   "metadata": {},
   "source": [
    "### Dependencies"
   ]
  },
  {
   "cell_type": "code",
   "execution_count": 1,
   "id": "5d5de126",
   "metadata": {},
   "outputs": [],
   "source": [
    "import numpy as np\n",
    "# importing dependencies to aggregate dataset\n",
    "import pandas as pd # data processing, CSV file I/O (e.g. pd.read_csv)\n",
    "\n",
    "from functools import reduce # used to merge the dataset"
   ]
  },
  {
   "cell_type": "markdown",
   "id": "21a8d1fd",
   "metadata": {},
   "source": [
    "### Aggregation of day-ahead price data\n",
    "Pricing data is of spot (day-ahead) market prices in the currency Euro per MWh"
   ]
  },
  {
   "cell_type": "markdown",
   "id": "2af9f605",
   "metadata": {},
   "source": [
    "Importing price data from each zone"
   ]
  },
  {
   "cell_type": "code",
   "execution_count": 2,
   "id": "9bd79e8c",
   "metadata": {},
   "outputs": [
    {
     "name": "stdout",
     "output_type": "stream",
     "text": [
      "(8784, 4)\n",
      "(8784, 4)\n",
      "(8784, 4)\n",
      "(8784, 4)\n",
      "(8784, 4)\n",
      "(8760, 4)\n",
      "(8760, 4)\n",
      "(8760, 4)\n",
      "(8760, 4)\n",
      "(8760, 4)\n",
      "(8760, 4)\n",
      "(8760, 4)\n",
      "(8760, 4)\n",
      "(8760, 4)\n",
      "(8760, 4)\n"
     ]
    }
   ],
   "source": [
    "# reading price csv to dataframes\n",
    "\n",
    "# 2020 day-ahead price data\n",
    "prices_no1_2020 = pd.read_csv(\"../datasets/prices/NO1 Day-ahead Prices_202001010000-202101010000.csv\")\n",
    "prices_no2_2020 = pd.read_csv(\"../datasets/prices/NO2 Day-ahead Prices_202001010000-202101010000.csv\")\n",
    "prices_no3_2020 = pd.read_csv(\"../datasets/prices/NO3 Day-ahead Prices_202001010000-202101010000.csv\")\n",
    "prices_no5_2020 = pd.read_csv(\"../datasets/prices/NO5 Day-ahead Prices_202001010000-202101010000.csv\")\n",
    "prices_se3_2020 = pd.read_csv(\"../datasets/prices/SE3 Day-ahead Prices_202001010000-202101010000.csv\")\n",
    "\n",
    "# 2021 day-ahead price data\n",
    "prices_no1_2021 = pd.read_csv(\"../datasets/prices/NO1 Day-ahead Prices_202101010000-202201010000.csv\")\n",
    "prices_no2_2021 = pd.read_csv(\"../datasets/prices/NO2 Day-ahead Prices_202101010000-202201010000.csv\")\n",
    "prices_no3_2021 = pd.read_csv(\"../datasets/prices/NO3 Day-ahead Prices_202101010000-202201010000.csv\")\n",
    "prices_no5_2021 = pd.read_csv(\"../datasets/prices/NO5 Day-ahead Prices_202101010000-202201010000.csv\")\n",
    "prices_se3_2021 = pd.read_csv(\"../datasets/prices/SE3 Day-ahead Prices_202101010000-202201010000.csv\")\n",
    "\n",
    "# 2022 day-ahead price data\n",
    "prices_no1_2022 = pd.read_csv(\"../datasets/prices/NO1 Day-ahead Prices_202201010000-202301010000.csv\")\n",
    "prices_no2_2022 = pd.read_csv(\"../datasets/prices/NO2 Day-ahead Prices_202201010000-202301010000.csv\")\n",
    "prices_no3_2022 = pd.read_csv(\"../datasets/prices/NO3 Day-ahead Prices_202201010000-202301010000.csv\")\n",
    "prices_no5_2022 = pd.read_csv(\"../datasets/prices/NO5 Day-ahead Prices_202201010000-202301010000.csv\")\n",
    "prices_se3_2022 = pd.read_csv(\"../datasets/prices/SE3 Day-ahead Prices_202201010000-202301010000.csv\")\n",
    "\n",
    "# creating list of price dataframes\n",
    "prices_dataframes = [\n",
    "    prices_no1_2020,\n",
    "    prices_no2_2020,\n",
    "    prices_no3_2020,\n",
    "    prices_no5_2020,\n",
    "    prices_se3_2020,\n",
    "    prices_no1_2021,\n",
    "    prices_no2_2021,\n",
    "    prices_no3_2021,\n",
    "    prices_no5_2021,\n",
    "    prices_se3_2021,\n",
    "    prices_no1_2022,\n",
    "    prices_no2_2022,\n",
    "    prices_no3_2022,\n",
    "    prices_no5_2022,\n",
    "    prices_se3_2022]\n",
    "\n",
    "# checking shape of each dataframe to see if all dataframes have the same number of rows. \n",
    "for i in prices_dataframes:\n",
    "    print(i.shape)"
   ]
  },
  {
   "cell_type": "markdown",
   "id": "3067050c",
   "metadata": {},
   "source": [
    "We see that all dataframes contain the correct number of rows. row length should be 24 * 365 = 8760 width the exception of 2020 which is a leap year and should have 24 aditional rows 8760 + 24 = 8784.\n",
    "\n",
    "We can now concatenate coresponding datasets for different years:"
   ]
  },
  {
   "cell_type": "code",
   "execution_count": 3,
   "id": "a9b07542",
   "metadata": {},
   "outputs": [
    {
     "name": "stdout",
     "output_type": "stream",
     "text": [
      "(26304, 4)\n",
      "(26304, 4)\n",
      "(26304, 4)\n",
      "(26304, 4)\n",
      "(26304, 4)\n"
     ]
    }
   ],
   "source": [
    "# Concatinating the dataset to add the first week of 2023 to the 2022 datasets. ignore index ignores the index number of the row in 2023 and gives it a new after being \"appended\"\n",
    "prices_no1 = pd.concat([prices_no1_2020, prices_no1_2021, prices_no1_2022], ignore_index=True)\n",
    "prices_no2 = pd.concat([prices_no2_2020, prices_no2_2021, prices_no2_2022])\n",
    "prices_no3 = pd.concat([prices_no3_2020, prices_no3_2021, prices_no3_2022])\n",
    "prices_no5 = pd.concat([prices_no5_2020, prices_no5_2021, prices_no5_2022])\n",
    "prices_se3 = pd.concat([prices_se3_2020, prices_se3_2021, prices_se3_2022])\n",
    "\n",
    "# creating a list of the concatinated dataframes:\n",
    "concat_prices_dataframes = [prices_no1, prices_no2, prices_no3, prices_no5, prices_se3]\n",
    "\n",
    "# checking the shape of the resulting dataframes:\n",
    "for i in concat_prices_dataframes:\n",
    "    print(i.shape)"
   ]
  },
  {
   "cell_type": "markdown",
   "id": "1cecfe61",
   "metadata": {},
   "source": [
    "We can see that the dataset has the correct number of rows (8784 + 8760 + 8760 = 26304)."
   ]
  },
  {
   "cell_type": "code",
   "execution_count": 4,
   "id": "6804bf1d",
   "metadata": {},
   "outputs": [
    {
     "data": {
      "text/plain": "                             MTU (UTC)  Day-ahead Price [EUR/MWh] Currency  \\\n0  01.01.2020 00:00 - 01.01.2020 01:00                      31.77      EUR   \n1  01.01.2020 01:00 - 01.01.2020 02:00                      31.57      EUR   \n2  01.01.2020 02:00 - 01.01.2020 03:00                      31.28      EUR   \n3  01.01.2020 03:00 - 01.01.2020 04:00                      30.72      EUR   \n4  01.01.2020 04:00 - 01.01.2020 05:00                      30.27      EUR   \n\n   BZN|NO1  \n0      NaN  \n1      NaN  \n2      NaN  \n3      NaN  \n4      NaN  ",
      "text/html": "<div>\n<style scoped>\n    .dataframe tbody tr th:only-of-type {\n        vertical-align: middle;\n    }\n\n    .dataframe tbody tr th {\n        vertical-align: top;\n    }\n\n    .dataframe thead th {\n        text-align: right;\n    }\n</style>\n<table border=\"1\" class=\"dataframe\">\n  <thead>\n    <tr style=\"text-align: right;\">\n      <th></th>\n      <th>MTU (UTC)</th>\n      <th>Day-ahead Price [EUR/MWh]</th>\n      <th>Currency</th>\n      <th>BZN|NO1</th>\n    </tr>\n  </thead>\n  <tbody>\n    <tr>\n      <th>0</th>\n      <td>01.01.2020 00:00 - 01.01.2020 01:00</td>\n      <td>31.77</td>\n      <td>EUR</td>\n      <td>NaN</td>\n    </tr>\n    <tr>\n      <th>1</th>\n      <td>01.01.2020 01:00 - 01.01.2020 02:00</td>\n      <td>31.57</td>\n      <td>EUR</td>\n      <td>NaN</td>\n    </tr>\n    <tr>\n      <th>2</th>\n      <td>01.01.2020 02:00 - 01.01.2020 03:00</td>\n      <td>31.28</td>\n      <td>EUR</td>\n      <td>NaN</td>\n    </tr>\n    <tr>\n      <th>3</th>\n      <td>01.01.2020 03:00 - 01.01.2020 04:00</td>\n      <td>30.72</td>\n      <td>EUR</td>\n      <td>NaN</td>\n    </tr>\n    <tr>\n      <th>4</th>\n      <td>01.01.2020 04:00 - 01.01.2020 05:00</td>\n      <td>30.27</td>\n      <td>EUR</td>\n      <td>NaN</td>\n    </tr>\n  </tbody>\n</table>\n</div>"
     },
     "execution_count": 4,
     "metadata": {},
     "output_type": "execute_result"
    }
   ],
   "source": [
    "# checking the 5 first rows of the resulting dataframe:\n",
    "prices_no1.head()"
   ]
  },
  {
   "cell_type": "code",
   "execution_count": 5,
   "id": "52e00f02",
   "metadata": {},
   "outputs": [
    {
     "data": {
      "text/plain": "                                 MTU (UTC)  Day-ahead Price [EUR/MWh]  \\\n26299  31.12.2022 19:00 - 31.12.2022 20:00                     123.61   \n26300  31.12.2022 20:00 - 31.12.2022 21:00                     121.09   \n26301  31.12.2022 21:00 - 31.12.2022 22:00                     120.00   \n26302  31.12.2022 22:00 - 31.12.2022 23:00                     119.98   \n26303  31.12.2022 23:00 - 01.01.2023 00:00                     119.32   \n\n      Currency  BZN|NO1  \n26299      EUR      NaN  \n26300      EUR      NaN  \n26301      EUR      NaN  \n26302      EUR      NaN  \n26303      EUR      NaN  ",
      "text/html": "<div>\n<style scoped>\n    .dataframe tbody tr th:only-of-type {\n        vertical-align: middle;\n    }\n\n    .dataframe tbody tr th {\n        vertical-align: top;\n    }\n\n    .dataframe thead th {\n        text-align: right;\n    }\n</style>\n<table border=\"1\" class=\"dataframe\">\n  <thead>\n    <tr style=\"text-align: right;\">\n      <th></th>\n      <th>MTU (UTC)</th>\n      <th>Day-ahead Price [EUR/MWh]</th>\n      <th>Currency</th>\n      <th>BZN|NO1</th>\n    </tr>\n  </thead>\n  <tbody>\n    <tr>\n      <th>26299</th>\n      <td>31.12.2022 19:00 - 31.12.2022 20:00</td>\n      <td>123.61</td>\n      <td>EUR</td>\n      <td>NaN</td>\n    </tr>\n    <tr>\n      <th>26300</th>\n      <td>31.12.2022 20:00 - 31.12.2022 21:00</td>\n      <td>121.09</td>\n      <td>EUR</td>\n      <td>NaN</td>\n    </tr>\n    <tr>\n      <th>26301</th>\n      <td>31.12.2022 21:00 - 31.12.2022 22:00</td>\n      <td>120.00</td>\n      <td>EUR</td>\n      <td>NaN</td>\n    </tr>\n    <tr>\n      <th>26302</th>\n      <td>31.12.2022 22:00 - 31.12.2022 23:00</td>\n      <td>119.98</td>\n      <td>EUR</td>\n      <td>NaN</td>\n    </tr>\n    <tr>\n      <th>26303</th>\n      <td>31.12.2022 23:00 - 01.01.2023 00:00</td>\n      <td>119.32</td>\n      <td>EUR</td>\n      <td>NaN</td>\n    </tr>\n  </tbody>\n</table>\n</div>"
     },
     "execution_count": 5,
     "metadata": {},
     "output_type": "execute_result"
    }
   ],
   "source": [
    "# checking 5 last rows of the resulting dataframe:\n",
    "prices_no1.tail()"
   ]
  },
  {
   "cell_type": "markdown",
   "id": "682b621f",
   "metadata": {},
   "source": [
    "we can see that the resulting datafram has the correct time for the first and last row.\n",
    "\n",
    "There might be some differences between the the dataframes of the different zones so we print out first rows of each dataset to see the structure and content of the dataframes."
   ]
  },
  {
   "cell_type": "code",
   "execution_count": 6,
   "id": "e6202e1c",
   "metadata": {},
   "outputs": [
    {
     "data": {
      "text/plain": "                             MTU (UTC)  Day-ahead Price [EUR/MWh] Currency  \\\n0  01.01.2020 00:00 - 01.01.2020 01:00                      31.77      EUR   \n1  01.01.2020 01:00 - 01.01.2020 02:00                      31.57      EUR   \n2  01.01.2020 02:00 - 01.01.2020 03:00                      31.28      EUR   \n3  01.01.2020 03:00 - 01.01.2020 04:00                      30.72      EUR   \n4  01.01.2020 04:00 - 01.01.2020 05:00                      30.27      EUR   \n\n   BZN|NO1  \n0      NaN  \n1      NaN  \n2      NaN  \n3      NaN  \n4      NaN  ",
      "text/html": "<div>\n<style scoped>\n    .dataframe tbody tr th:only-of-type {\n        vertical-align: middle;\n    }\n\n    .dataframe tbody tr th {\n        vertical-align: top;\n    }\n\n    .dataframe thead th {\n        text-align: right;\n    }\n</style>\n<table border=\"1\" class=\"dataframe\">\n  <thead>\n    <tr style=\"text-align: right;\">\n      <th></th>\n      <th>MTU (UTC)</th>\n      <th>Day-ahead Price [EUR/MWh]</th>\n      <th>Currency</th>\n      <th>BZN|NO1</th>\n    </tr>\n  </thead>\n  <tbody>\n    <tr>\n      <th>0</th>\n      <td>01.01.2020 00:00 - 01.01.2020 01:00</td>\n      <td>31.77</td>\n      <td>EUR</td>\n      <td>NaN</td>\n    </tr>\n    <tr>\n      <th>1</th>\n      <td>01.01.2020 01:00 - 01.01.2020 02:00</td>\n      <td>31.57</td>\n      <td>EUR</td>\n      <td>NaN</td>\n    </tr>\n    <tr>\n      <th>2</th>\n      <td>01.01.2020 02:00 - 01.01.2020 03:00</td>\n      <td>31.28</td>\n      <td>EUR</td>\n      <td>NaN</td>\n    </tr>\n    <tr>\n      <th>3</th>\n      <td>01.01.2020 03:00 - 01.01.2020 04:00</td>\n      <td>30.72</td>\n      <td>EUR</td>\n      <td>NaN</td>\n    </tr>\n    <tr>\n      <th>4</th>\n      <td>01.01.2020 04:00 - 01.01.2020 05:00</td>\n      <td>30.27</td>\n      <td>EUR</td>\n      <td>NaN</td>\n    </tr>\n  </tbody>\n</table>\n</div>"
     },
     "execution_count": 6,
     "metadata": {},
     "output_type": "execute_result"
    }
   ],
   "source": [
    "prices_no1.head()"
   ]
  },
  {
   "cell_type": "code",
   "execution_count": 7,
   "id": "5edabdc5",
   "metadata": {},
   "outputs": [
    {
     "data": {
      "text/plain": "                             MTU (UTC)  Day-ahead Price [EUR/MWh] Currency  \\\n0  01.01.2020 00:00 - 01.01.2020 01:00                      31.77      EUR   \n1  01.01.2020 01:00 - 01.01.2020 02:00                      31.57      EUR   \n2  01.01.2020 02:00 - 01.01.2020 03:00                      31.28      EUR   \n3  01.01.2020 03:00 - 01.01.2020 04:00                      30.72      EUR   \n4  01.01.2020 04:00 - 01.01.2020 05:00                      30.27      EUR   \n\n   BZN|NO2  \n0      NaN  \n1      NaN  \n2      NaN  \n3      NaN  \n4      NaN  ",
      "text/html": "<div>\n<style scoped>\n    .dataframe tbody tr th:only-of-type {\n        vertical-align: middle;\n    }\n\n    .dataframe tbody tr th {\n        vertical-align: top;\n    }\n\n    .dataframe thead th {\n        text-align: right;\n    }\n</style>\n<table border=\"1\" class=\"dataframe\">\n  <thead>\n    <tr style=\"text-align: right;\">\n      <th></th>\n      <th>MTU (UTC)</th>\n      <th>Day-ahead Price [EUR/MWh]</th>\n      <th>Currency</th>\n      <th>BZN|NO2</th>\n    </tr>\n  </thead>\n  <tbody>\n    <tr>\n      <th>0</th>\n      <td>01.01.2020 00:00 - 01.01.2020 01:00</td>\n      <td>31.77</td>\n      <td>EUR</td>\n      <td>NaN</td>\n    </tr>\n    <tr>\n      <th>1</th>\n      <td>01.01.2020 01:00 - 01.01.2020 02:00</td>\n      <td>31.57</td>\n      <td>EUR</td>\n      <td>NaN</td>\n    </tr>\n    <tr>\n      <th>2</th>\n      <td>01.01.2020 02:00 - 01.01.2020 03:00</td>\n      <td>31.28</td>\n      <td>EUR</td>\n      <td>NaN</td>\n    </tr>\n    <tr>\n      <th>3</th>\n      <td>01.01.2020 03:00 - 01.01.2020 04:00</td>\n      <td>30.72</td>\n      <td>EUR</td>\n      <td>NaN</td>\n    </tr>\n    <tr>\n      <th>4</th>\n      <td>01.01.2020 04:00 - 01.01.2020 05:00</td>\n      <td>30.27</td>\n      <td>EUR</td>\n      <td>NaN</td>\n    </tr>\n  </tbody>\n</table>\n</div>"
     },
     "execution_count": 7,
     "metadata": {},
     "output_type": "execute_result"
    }
   ],
   "source": [
    "prices_no2.head()"
   ]
  },
  {
   "cell_type": "code",
   "execution_count": 8,
   "id": "371621b2",
   "metadata": {},
   "outputs": [
    {
     "data": {
      "text/plain": "                             MTU (UTC)  Day-ahead Price [EUR/MWh] Currency  \\\n0  01.01.2020 00:00 - 01.01.2020 01:00                      28.45      EUR   \n1  01.01.2020 01:00 - 01.01.2020 02:00                      27.90      EUR   \n2  01.01.2020 02:00 - 01.01.2020 03:00                      27.52      EUR   \n3  01.01.2020 03:00 - 01.01.2020 04:00                      27.54      EUR   \n4  01.01.2020 04:00 - 01.01.2020 05:00                      26.55      EUR   \n\n   BZN|NO3  \n0      NaN  \n1      NaN  \n2      NaN  \n3      NaN  \n4      NaN  ",
      "text/html": "<div>\n<style scoped>\n    .dataframe tbody tr th:only-of-type {\n        vertical-align: middle;\n    }\n\n    .dataframe tbody tr th {\n        vertical-align: top;\n    }\n\n    .dataframe thead th {\n        text-align: right;\n    }\n</style>\n<table border=\"1\" class=\"dataframe\">\n  <thead>\n    <tr style=\"text-align: right;\">\n      <th></th>\n      <th>MTU (UTC)</th>\n      <th>Day-ahead Price [EUR/MWh]</th>\n      <th>Currency</th>\n      <th>BZN|NO3</th>\n    </tr>\n  </thead>\n  <tbody>\n    <tr>\n      <th>0</th>\n      <td>01.01.2020 00:00 - 01.01.2020 01:00</td>\n      <td>28.45</td>\n      <td>EUR</td>\n      <td>NaN</td>\n    </tr>\n    <tr>\n      <th>1</th>\n      <td>01.01.2020 01:00 - 01.01.2020 02:00</td>\n      <td>27.90</td>\n      <td>EUR</td>\n      <td>NaN</td>\n    </tr>\n    <tr>\n      <th>2</th>\n      <td>01.01.2020 02:00 - 01.01.2020 03:00</td>\n      <td>27.52</td>\n      <td>EUR</td>\n      <td>NaN</td>\n    </tr>\n    <tr>\n      <th>3</th>\n      <td>01.01.2020 03:00 - 01.01.2020 04:00</td>\n      <td>27.54</td>\n      <td>EUR</td>\n      <td>NaN</td>\n    </tr>\n    <tr>\n      <th>4</th>\n      <td>01.01.2020 04:00 - 01.01.2020 05:00</td>\n      <td>26.55</td>\n      <td>EUR</td>\n      <td>NaN</td>\n    </tr>\n  </tbody>\n</table>\n</div>"
     },
     "execution_count": 8,
     "metadata": {},
     "output_type": "execute_result"
    }
   ],
   "source": [
    "prices_no3.head()"
   ]
  },
  {
   "cell_type": "code",
   "execution_count": 9,
   "id": "cb4f2009",
   "metadata": {},
   "outputs": [
    {
     "data": {
      "text/plain": "                             MTU (UTC)  Day-ahead Price [EUR/MWh] Currency  \\\n0  01.01.2020 00:00 - 01.01.2020 01:00                      31.77      EUR   \n1  01.01.2020 01:00 - 01.01.2020 02:00                      31.57      EUR   \n2  01.01.2020 02:00 - 01.01.2020 03:00                      31.28      EUR   \n3  01.01.2020 03:00 - 01.01.2020 04:00                      30.72      EUR   \n4  01.01.2020 04:00 - 01.01.2020 05:00                      30.27      EUR   \n\n   BZN|NO5  \n0      NaN  \n1      NaN  \n2      NaN  \n3      NaN  \n4      NaN  ",
      "text/html": "<div>\n<style scoped>\n    .dataframe tbody tr th:only-of-type {\n        vertical-align: middle;\n    }\n\n    .dataframe tbody tr th {\n        vertical-align: top;\n    }\n\n    .dataframe thead th {\n        text-align: right;\n    }\n</style>\n<table border=\"1\" class=\"dataframe\">\n  <thead>\n    <tr style=\"text-align: right;\">\n      <th></th>\n      <th>MTU (UTC)</th>\n      <th>Day-ahead Price [EUR/MWh]</th>\n      <th>Currency</th>\n      <th>BZN|NO5</th>\n    </tr>\n  </thead>\n  <tbody>\n    <tr>\n      <th>0</th>\n      <td>01.01.2020 00:00 - 01.01.2020 01:00</td>\n      <td>31.77</td>\n      <td>EUR</td>\n      <td>NaN</td>\n    </tr>\n    <tr>\n      <th>1</th>\n      <td>01.01.2020 01:00 - 01.01.2020 02:00</td>\n      <td>31.57</td>\n      <td>EUR</td>\n      <td>NaN</td>\n    </tr>\n    <tr>\n      <th>2</th>\n      <td>01.01.2020 02:00 - 01.01.2020 03:00</td>\n      <td>31.28</td>\n      <td>EUR</td>\n      <td>NaN</td>\n    </tr>\n    <tr>\n      <th>3</th>\n      <td>01.01.2020 03:00 - 01.01.2020 04:00</td>\n      <td>30.72</td>\n      <td>EUR</td>\n      <td>NaN</td>\n    </tr>\n    <tr>\n      <th>4</th>\n      <td>01.01.2020 04:00 - 01.01.2020 05:00</td>\n      <td>30.27</td>\n      <td>EUR</td>\n      <td>NaN</td>\n    </tr>\n  </tbody>\n</table>\n</div>"
     },
     "execution_count": 9,
     "metadata": {},
     "output_type": "execute_result"
    }
   ],
   "source": [
    "prices_no5.head()"
   ]
  },
  {
   "cell_type": "code",
   "execution_count": 10,
   "id": "aa7002e3",
   "metadata": {},
   "outputs": [
    {
     "data": {
      "text/plain": "                             MTU (UTC)  Day-ahead Price [EUR/MWh] Currency  \\\n0  01.01.2020 00:00 - 01.01.2020 01:00                      28.45      EUR   \n1  01.01.2020 01:00 - 01.01.2020 02:00                      27.90      EUR   \n2  01.01.2020 02:00 - 01.01.2020 03:00                      27.52      EUR   \n3  01.01.2020 03:00 - 01.01.2020 04:00                      27.54      EUR   \n4  01.01.2020 04:00 - 01.01.2020 05:00                      26.55      EUR   \n\n   BZN|SE3  \n0      NaN  \n1      NaN  \n2      NaN  \n3      NaN  \n4      NaN  ",
      "text/html": "<div>\n<style scoped>\n    .dataframe tbody tr th:only-of-type {\n        vertical-align: middle;\n    }\n\n    .dataframe tbody tr th {\n        vertical-align: top;\n    }\n\n    .dataframe thead th {\n        text-align: right;\n    }\n</style>\n<table border=\"1\" class=\"dataframe\">\n  <thead>\n    <tr style=\"text-align: right;\">\n      <th></th>\n      <th>MTU (UTC)</th>\n      <th>Day-ahead Price [EUR/MWh]</th>\n      <th>Currency</th>\n      <th>BZN|SE3</th>\n    </tr>\n  </thead>\n  <tbody>\n    <tr>\n      <th>0</th>\n      <td>01.01.2020 00:00 - 01.01.2020 01:00</td>\n      <td>28.45</td>\n      <td>EUR</td>\n      <td>NaN</td>\n    </tr>\n    <tr>\n      <th>1</th>\n      <td>01.01.2020 01:00 - 01.01.2020 02:00</td>\n      <td>27.90</td>\n      <td>EUR</td>\n      <td>NaN</td>\n    </tr>\n    <tr>\n      <th>2</th>\n      <td>01.01.2020 02:00 - 01.01.2020 03:00</td>\n      <td>27.52</td>\n      <td>EUR</td>\n      <td>NaN</td>\n    </tr>\n    <tr>\n      <th>3</th>\n      <td>01.01.2020 03:00 - 01.01.2020 04:00</td>\n      <td>27.54</td>\n      <td>EUR</td>\n      <td>NaN</td>\n    </tr>\n    <tr>\n      <th>4</th>\n      <td>01.01.2020 04:00 - 01.01.2020 05:00</td>\n      <td>26.55</td>\n      <td>EUR</td>\n      <td>NaN</td>\n    </tr>\n  </tbody>\n</table>\n</div>"
     },
     "execution_count": 10,
     "metadata": {},
     "output_type": "execute_result"
    }
   ],
   "source": [
    "prices_se3.head()"
   ]
  },
  {
   "cell_type": "markdown",
   "id": "888cdf61",
   "metadata": {},
   "source": [
    "#### Preparation for merging of the price data from the different zones:\n",
    "The common column we will merge the data based on is the date time column \"MTU (UTC)\". The column currency is redundant since the column that holds price already includes it in the column name. The currency column can therefore be dropped. The datasets have a colum name for which zone the data is from, but does not include any data for each entry. This information can be added to the column name for price and the column for zone can be dropped."
   ]
  },
  {
   "cell_type": "code",
   "execution_count": 11,
   "id": "b0a54a18",
   "metadata": {},
   "outputs": [],
   "source": [
    "# renaming price columns\n",
    "prices_no1 = prices_no1.rename(columns={'Day-ahead Price [EUR/MWh]': 'Day-ahead Price [EUR/MWh] BZN|NO1'})\n",
    "prices_no2 = prices_no2.rename(columns={'Day-ahead Price [EUR/MWh]': 'Day-ahead Price [EUR/MWh] BZN|NO2'})\n",
    "prices_no3 = prices_no3.rename(columns={'Day-ahead Price [EUR/MWh]': 'Day-ahead Price [EUR/MWh] BZN|NO3'})\n",
    "prices_no5 = prices_no5.rename(columns={'Day-ahead Price [EUR/MWh]': 'Day-ahead Price [EUR/MWh] BZN|NO5'})\n",
    "prices_se3 = prices_se3.rename(columns={'Day-ahead Price [EUR/MWh]': 'Day-ahead Price [EUR/MWh] BZN|SE3'})"
   ]
  },
  {
   "cell_type": "code",
   "execution_count": 12,
   "id": "d8b90540",
   "metadata": {},
   "outputs": [],
   "source": [
    "# dropping redundant columns\n",
    "prices_no1= prices_no1.drop(['Currency', 'BZN|NO1'], axis=1)\n",
    "prices_no2= prices_no2.drop(['Currency', 'BZN|NO2'], axis=1)\n",
    "prices_no3= prices_no3.drop(['Currency', 'BZN|NO3'], axis=1)\n",
    "prices_no5= prices_no5.drop(['Currency', 'BZN|NO5'], axis=1)\n",
    "prices_se3= prices_se3.drop(['Currency', 'BZN|SE3'], axis=1)"
   ]
  },
  {
   "cell_type": "code",
   "execution_count": 13,
   "id": "d6da0987",
   "metadata": {},
   "outputs": [
    {
     "data": {
      "text/plain": "                             MTU (UTC)  Day-ahead Price [EUR/MWh] BZN|NO1  \\\n0  01.01.2020 00:00 - 01.01.2020 01:00                              31.77   \n1  01.01.2020 01:00 - 01.01.2020 02:00                              31.57   \n2  01.01.2020 02:00 - 01.01.2020 03:00                              31.28   \n3  01.01.2020 03:00 - 01.01.2020 04:00                              30.72   \n4  01.01.2020 04:00 - 01.01.2020 05:00                              30.27   \n\n   Day-ahead Price [EUR/MWh] BZN|NO2  Day-ahead Price [EUR/MWh] BZN|NO3  \\\n0                              31.77                              28.45   \n1                              31.57                              27.90   \n2                              31.28                              27.52   \n3                              30.72                              27.54   \n4                              30.27                              26.55   \n\n   Day-ahead Price [EUR/MWh] BZN|NO5  Day-ahead Price [EUR/MWh] BZN|SE3  \n0                              31.77                              28.45  \n1                              31.57                              27.90  \n2                              31.28                              27.52  \n3                              30.72                              27.54  \n4                              30.27                              26.55  ",
      "text/html": "<div>\n<style scoped>\n    .dataframe tbody tr th:only-of-type {\n        vertical-align: middle;\n    }\n\n    .dataframe tbody tr th {\n        vertical-align: top;\n    }\n\n    .dataframe thead th {\n        text-align: right;\n    }\n</style>\n<table border=\"1\" class=\"dataframe\">\n  <thead>\n    <tr style=\"text-align: right;\">\n      <th></th>\n      <th>MTU (UTC)</th>\n      <th>Day-ahead Price [EUR/MWh] BZN|NO1</th>\n      <th>Day-ahead Price [EUR/MWh] BZN|NO2</th>\n      <th>Day-ahead Price [EUR/MWh] BZN|NO3</th>\n      <th>Day-ahead Price [EUR/MWh] BZN|NO5</th>\n      <th>Day-ahead Price [EUR/MWh] BZN|SE3</th>\n    </tr>\n  </thead>\n  <tbody>\n    <tr>\n      <th>0</th>\n      <td>01.01.2020 00:00 - 01.01.2020 01:00</td>\n      <td>31.77</td>\n      <td>31.77</td>\n      <td>28.45</td>\n      <td>31.77</td>\n      <td>28.45</td>\n    </tr>\n    <tr>\n      <th>1</th>\n      <td>01.01.2020 01:00 - 01.01.2020 02:00</td>\n      <td>31.57</td>\n      <td>31.57</td>\n      <td>27.90</td>\n      <td>31.57</td>\n      <td>27.90</td>\n    </tr>\n    <tr>\n      <th>2</th>\n      <td>01.01.2020 02:00 - 01.01.2020 03:00</td>\n      <td>31.28</td>\n      <td>31.28</td>\n      <td>27.52</td>\n      <td>31.28</td>\n      <td>27.52</td>\n    </tr>\n    <tr>\n      <th>3</th>\n      <td>01.01.2020 03:00 - 01.01.2020 04:00</td>\n      <td>30.72</td>\n      <td>30.72</td>\n      <td>27.54</td>\n      <td>30.72</td>\n      <td>27.54</td>\n    </tr>\n    <tr>\n      <th>4</th>\n      <td>01.01.2020 04:00 - 01.01.2020 05:00</td>\n      <td>30.27</td>\n      <td>30.27</td>\n      <td>26.55</td>\n      <td>30.27</td>\n      <td>26.55</td>\n    </tr>\n  </tbody>\n</table>\n</div>"
     },
     "execution_count": 13,
     "metadata": {},
     "output_type": "execute_result"
    }
   ],
   "source": [
    "# merging the price data into one dataframe on the date time column 'MTU (UTC)'\n",
    "updated_price_dataframes = [prices_no1, prices_no2, prices_no3, prices_no5, prices_se3]\n",
    "prices = reduce(lambda left, right: pd.merge(left,right, on=['MTU (UTC)']), updated_price_dataframes)\n",
    "\n",
    "# printing out the 5 first rows resulting dataframe\n",
    "prices.head()"
   ]
  },
  {
   "cell_type": "code",
   "execution_count": 14,
   "id": "52623143",
   "metadata": {},
   "outputs": [
    {
     "data": {
      "text/plain": "                                 MTU (UTC)  Day-ahead Price [EUR/MWh] BZN|NO1  \\\n26299  31.12.2022 19:00 - 31.12.2022 20:00                             123.61   \n26300  31.12.2022 20:00 - 31.12.2022 21:00                             121.09   \n26301  31.12.2022 21:00 - 31.12.2022 22:00                             120.00   \n26302  31.12.2022 22:00 - 31.12.2022 23:00                             119.98   \n26303  31.12.2022 23:00 - 01.01.2023 00:00                             119.32   \n\n       Day-ahead Price [EUR/MWh] BZN|NO2  Day-ahead Price [EUR/MWh] BZN|NO3  \\\n26299                             123.61                              23.82   \n26300                             121.09                              23.93   \n26301                             120.00                              23.75   \n26302                             119.98                              23.56   \n26303                             119.32                              23.35   \n\n       Day-ahead Price [EUR/MWh] BZN|NO5  Day-ahead Price [EUR/MWh] BZN|SE3  \n26299                             123.61                              11.57  \n26300                             121.09                              14.89  \n26301                             120.00                               9.94  \n26302                             119.98                               4.84  \n26303                             119.32                               2.01  ",
      "text/html": "<div>\n<style scoped>\n    .dataframe tbody tr th:only-of-type {\n        vertical-align: middle;\n    }\n\n    .dataframe tbody tr th {\n        vertical-align: top;\n    }\n\n    .dataframe thead th {\n        text-align: right;\n    }\n</style>\n<table border=\"1\" class=\"dataframe\">\n  <thead>\n    <tr style=\"text-align: right;\">\n      <th></th>\n      <th>MTU (UTC)</th>\n      <th>Day-ahead Price [EUR/MWh] BZN|NO1</th>\n      <th>Day-ahead Price [EUR/MWh] BZN|NO2</th>\n      <th>Day-ahead Price [EUR/MWh] BZN|NO3</th>\n      <th>Day-ahead Price [EUR/MWh] BZN|NO5</th>\n      <th>Day-ahead Price [EUR/MWh] BZN|SE3</th>\n    </tr>\n  </thead>\n  <tbody>\n    <tr>\n      <th>26299</th>\n      <td>31.12.2022 19:00 - 31.12.2022 20:00</td>\n      <td>123.61</td>\n      <td>123.61</td>\n      <td>23.82</td>\n      <td>123.61</td>\n      <td>11.57</td>\n    </tr>\n    <tr>\n      <th>26300</th>\n      <td>31.12.2022 20:00 - 31.12.2022 21:00</td>\n      <td>121.09</td>\n      <td>121.09</td>\n      <td>23.93</td>\n      <td>121.09</td>\n      <td>14.89</td>\n    </tr>\n    <tr>\n      <th>26301</th>\n      <td>31.12.2022 21:00 - 31.12.2022 22:00</td>\n      <td>120.00</td>\n      <td>120.00</td>\n      <td>23.75</td>\n      <td>120.00</td>\n      <td>9.94</td>\n    </tr>\n    <tr>\n      <th>26302</th>\n      <td>31.12.2022 22:00 - 31.12.2022 23:00</td>\n      <td>119.98</td>\n      <td>119.98</td>\n      <td>23.56</td>\n      <td>119.98</td>\n      <td>4.84</td>\n    </tr>\n    <tr>\n      <th>26303</th>\n      <td>31.12.2022 23:00 - 01.01.2023 00:00</td>\n      <td>119.32</td>\n      <td>119.32</td>\n      <td>23.35</td>\n      <td>119.32</td>\n      <td>2.01</td>\n    </tr>\n  </tbody>\n</table>\n</div>"
     },
     "execution_count": 14,
     "metadata": {},
     "output_type": "execute_result"
    }
   ],
   "source": [
    "# printing out the last 5 rows of the resulting dataframe\n",
    "prices.tail()"
   ]
  },
  {
   "cell_type": "markdown",
   "id": "bd3be30b",
   "metadata": {},
   "source": [
    "We can se that the datetime of the first and last rows in the dataset are correct. we also want to check if the dataframe still have the correct number of rows to se if the merge was successful"
   ]
  },
  {
   "cell_type": "code",
   "execution_count": 15,
   "id": "63e9f785",
   "metadata": {},
   "outputs": [
    {
     "data": {
      "text/plain": "(26304, 6)"
     },
     "execution_count": 15,
     "metadata": {},
     "output_type": "execute_result"
    }
   ],
   "source": [
    "# printing out shape of dataframe\n",
    "prices.shape"
   ]
  },
  {
   "cell_type": "markdown",
   "id": "4759fe60",
   "metadata": {},
   "source": [
    "The prices dataframe has the correct number of rows (26304) so the aggregation of the price datasets have been successful.\n",
    "\n",
    "We also want to check if the data has any missing values."
   ]
  },
  {
   "cell_type": "code",
   "execution_count": 16,
   "id": "268774cf",
   "metadata": {},
   "outputs": [
    {
     "data": {
      "text/plain": "MTU (UTC)                            0\nDay-ahead Price [EUR/MWh] BZN|NO1    0\nDay-ahead Price [EUR/MWh] BZN|NO2    0\nDay-ahead Price [EUR/MWh] BZN|NO3    0\nDay-ahead Price [EUR/MWh] BZN|NO5    0\nDay-ahead Price [EUR/MWh] BZN|SE3    0\ndtype: int64"
     },
     "execution_count": 16,
     "metadata": {},
     "output_type": "execute_result"
    }
   ],
   "source": [
    "# checking data for missing values, if any\n",
    "prices.isna().sum()"
   ]
  },
  {
   "cell_type": "markdown",
   "id": "42438336",
   "metadata": {},
   "source": [
    "The data has no missing values."
   ]
  },
  {
   "cell_type": "markdown",
   "id": "0af833f9",
   "metadata": {},
   "source": [
    "### Aggregation of load data\n",
    "The load data contains data about the power consumption in each zone"
   ]
  },
  {
   "cell_type": "markdown",
   "id": "5ee4e087",
   "metadata": {},
   "source": [
    "Importing load data from each zone"
   ]
  },
  {
   "cell_type": "code",
   "execution_count": 17,
   "id": "b47e94f9",
   "metadata": {},
   "outputs": [
    {
     "name": "stdout",
     "output_type": "stream",
     "text": [
      "(8784, 3)\n",
      "(8784, 3)\n",
      "(8784, 3)\n",
      "(8784, 3)\n",
      "(8784, 3)\n",
      "(8760, 3)\n",
      "(8760, 3)\n",
      "(8760, 3)\n",
      "(8760, 3)\n",
      "(8760, 3)\n",
      "(8760, 3)\n",
      "(8760, 3)\n",
      "(8760, 3)\n",
      "(8760, 3)\n",
      "(8760, 3)\n"
     ]
    }
   ],
   "source": [
    "# reading load csv to dataframe\n",
    "\n",
    "# 2020\n",
    "load_no1_2020 = pd.read_csv(\"../datasets/load/NO1 Total Load - Day Ahead _ Actual_202001010000-202101010000.csv\")\n",
    "load_no2_2020 = pd.read_csv(\"../datasets/load/NO2 Total Load - Day Ahead _ Actual_202001010000-202101010000.csv\")\n",
    "load_no3_2020 = pd.read_csv(\"../datasets/load/NO3 Total Load - Day Ahead _ Actual_202001010000-202101010000.csv\")\n",
    "load_no5_2020 = pd.read_csv(\"../datasets/load/NO5 Total Load - Day Ahead _ Actual_202001010000-202101010000.csv\")\n",
    "load_se3_2020 = pd.read_csv(\"../datasets/load/SE3 Total Load - Day Ahead _ Actual_202001010000-202101010000.csv\")\n",
    "\n",
    "# 2021\n",
    "load_no1_2021 = pd.read_csv(\"../datasets/load/NO1_Total Load - Day Ahead _ Actual_202101010000-202201010000.csv\")\n",
    "load_no2_2021 = pd.read_csv(\"../datasets/load/NO2_Total Load - Day Ahead _ Actual_202101010000-202201010000.csv\")\n",
    "load_no3_2021 = pd.read_csv(\"../datasets/load/NO3_Total Load - Day Ahead _ Actual_202101010000-202201010000.csv\")\n",
    "load_no5_2021 = pd.read_csv(\"../datasets/load/NO5_Total Load - Day Ahead _ Actual_202101010000-202201010000.csv\")\n",
    "load_se3_2021 = pd.read_csv(\"../datasets/load/SE3 Total Load - Day Ahead _ Actual_202101010000-202201010000.csv\")\n",
    "\n",
    "# 2022\n",
    "load_no1_2022 = pd.read_csv(\"../datasets/load/NO1 Total Load - Day Ahead _ Actual_202201010000-202301010000.csv\")\n",
    "load_no2_2022 = pd.read_csv(\"../datasets/load/NO2 Total Load - Day Ahead _ Actual_202201010000-202301010000.csv\")\n",
    "load_no3_2022 = pd.read_csv(\"../datasets/load/NO3 Total Load - Day Ahead _ Actual_202201010000-202301010000.csv\")\n",
    "load_no5_2022 = pd.read_csv(\"../datasets/load/NO5 Total Load - Day Ahead _ Actual_202201010000-202301010000.csv\")\n",
    "load_se3_2022 = pd.read_csv(\"../datasets/load/SE3 Total Load - Day Ahead _ Actual_202201010000-202301010000.csv\")\n",
    "\n",
    "# creating list of load dataframes\n",
    "load_dataframes = prices_dataframes = [\n",
    "    load_no1_2020,\n",
    "    load_no2_2020,\n",
    "    load_no3_2020,\n",
    "    load_no5_2020,\n",
    "    load_se3_2020,\n",
    "    load_no1_2021,\n",
    "    load_no2_2021,\n",
    "    load_no3_2021,\n",
    "    load_no5_2021,\n",
    "    load_se3_2021,\n",
    "    load_no1_2022,\n",
    "    load_no2_2022,\n",
    "    load_no3_2022,\n",
    "    load_no5_2022,\n",
    "    load_se3_2022]\n",
    "\n",
    "# checking shape of each dataframe to see if all dataframes have the same number of rows.\n",
    "for i in load_dataframes:\n",
    "    print(i.shape)"
   ]
  },
  {
   "cell_type": "markdown",
   "id": "51cb78a3",
   "metadata": {},
   "source": [
    "We see that all dataframes contain the correct number of rows. row length should be 24 * 365 = 8760 width the exception of 2020 which is a leap year and should have 24 aditional rows 8760 + 24 = 8784.\n",
    "\n",
    "We can now concatenate coresponding datasets for different years:"
   ]
  },
  {
   "cell_type": "code",
   "execution_count": 18,
   "id": "7849d433",
   "metadata": {},
   "outputs": [
    {
     "name": "stdout",
     "output_type": "stream",
     "text": [
      "(26304, 3)\n",
      "(26304, 3)\n",
      "(26304, 3)\n",
      "(26304, 3)\n",
      "(26304, 3)\n"
     ]
    }
   ],
   "source": [
    "# Concatinating the dataset to add the first week of 2023 to the 2022 datasets. ignore index ignores the index number of the row in 2023 and gives it a new after being \"appended\"\n",
    "load_no1 = pd.concat([load_no1_2020, load_no1_2021, load_no1_2022], ignore_index=True)\n",
    "load_no2 = pd.concat([load_no2_2020, load_no2_2021, load_no2_2022])\n",
    "load_no3 = pd.concat([load_no3_2020, load_no3_2021, load_no3_2022])\n",
    "load_no5 = pd.concat([load_no5_2020, load_no5_2021, load_no5_2022])\n",
    "load_se3 = pd.concat([load_se3_2020, load_se3_2021, load_se3_2022])\n",
    "\n",
    "# creating a list of the concatinated dataframes:\n",
    "concat_load_dataframes = [load_no1, load_no2, load_no3, load_no5, load_se3]\n",
    "\n",
    "# checking the shape of the resulting dataframes:\n",
    "for i in concat_load_dataframes:\n",
    "    print(i.shape)"
   ]
  },
  {
   "cell_type": "markdown",
   "id": "78ce6d4d",
   "metadata": {},
   "source": [
    "We can see that the dataset has the correct number of rows (8784 + 8760 + 8760 = 26304)"
   ]
  },
  {
   "cell_type": "code",
   "execution_count": 19,
   "id": "155a6e61",
   "metadata": {},
   "outputs": [
    {
     "data": {
      "text/plain": "                            Time (UTC)  \\\n0  01.01.2020 00:00 - 01.01.2020 01:00   \n1  01.01.2020 01:00 - 01.01.2020 02:00   \n2  01.01.2020 02:00 - 01.01.2020 03:00   \n3  01.01.2020 03:00 - 01.01.2020 04:00   \n4  01.01.2020 04:00 - 01.01.2020 05:00   \n\n   Day-ahead Total Load Forecast [MW] - BZN|NO1  \\\n0                                        4316.0   \n1                                        4270.0   \n2                                        4209.0   \n3                                        4214.0   \n4                                        4250.0   \n\n   Actual Total Load [MW] - BZN|NO1  \n0                            4333.0  \n1                            4250.0  \n2                            4167.0  \n3                            4145.0  \n4                            4222.0  ",
      "text/html": "<div>\n<style scoped>\n    .dataframe tbody tr th:only-of-type {\n        vertical-align: middle;\n    }\n\n    .dataframe tbody tr th {\n        vertical-align: top;\n    }\n\n    .dataframe thead th {\n        text-align: right;\n    }\n</style>\n<table border=\"1\" class=\"dataframe\">\n  <thead>\n    <tr style=\"text-align: right;\">\n      <th></th>\n      <th>Time (UTC)</th>\n      <th>Day-ahead Total Load Forecast [MW] - BZN|NO1</th>\n      <th>Actual Total Load [MW] - BZN|NO1</th>\n    </tr>\n  </thead>\n  <tbody>\n    <tr>\n      <th>0</th>\n      <td>01.01.2020 00:00 - 01.01.2020 01:00</td>\n      <td>4316.0</td>\n      <td>4333.0</td>\n    </tr>\n    <tr>\n      <th>1</th>\n      <td>01.01.2020 01:00 - 01.01.2020 02:00</td>\n      <td>4270.0</td>\n      <td>4250.0</td>\n    </tr>\n    <tr>\n      <th>2</th>\n      <td>01.01.2020 02:00 - 01.01.2020 03:00</td>\n      <td>4209.0</td>\n      <td>4167.0</td>\n    </tr>\n    <tr>\n      <th>3</th>\n      <td>01.01.2020 03:00 - 01.01.2020 04:00</td>\n      <td>4214.0</td>\n      <td>4145.0</td>\n    </tr>\n    <tr>\n      <th>4</th>\n      <td>01.01.2020 04:00 - 01.01.2020 05:00</td>\n      <td>4250.0</td>\n      <td>4222.0</td>\n    </tr>\n  </tbody>\n</table>\n</div>"
     },
     "execution_count": 19,
     "metadata": {},
     "output_type": "execute_result"
    }
   ],
   "source": [
    "# checking the 5 first rows of the resulting dataframe:\n",
    "load_no1.head()"
   ]
  },
  {
   "cell_type": "code",
   "execution_count": 20,
   "id": "197f2afe",
   "metadata": {},
   "outputs": [
    {
     "data": {
      "text/plain": "                                Time (UTC)  \\\n26299  31.12.2022 19:00 - 31.12.2022 20:00   \n26300  31.12.2022 20:00 - 31.12.2022 21:00   \n26301  31.12.2022 21:00 - 31.12.2022 22:00   \n26302  31.12.2022 22:00 - 31.12.2022 23:00   \n26303  31.12.2022 23:00 - 01.01.2023 00:00   \n\n       Day-ahead Total Load Forecast [MW] - BZN|NO1  \\\n26299                                        4677.0   \n26300                                        4582.0   \n26301                                        4554.0   \n26302                                        4434.0   \n26303                                        4384.0   \n\n       Actual Total Load [MW] - BZN|NO1  \n26299                            4650.0  \n26300                            4573.0  \n26301                            4453.0  \n26302                            4389.0  \n26303                            4444.0  ",
      "text/html": "<div>\n<style scoped>\n    .dataframe tbody tr th:only-of-type {\n        vertical-align: middle;\n    }\n\n    .dataframe tbody tr th {\n        vertical-align: top;\n    }\n\n    .dataframe thead th {\n        text-align: right;\n    }\n</style>\n<table border=\"1\" class=\"dataframe\">\n  <thead>\n    <tr style=\"text-align: right;\">\n      <th></th>\n      <th>Time (UTC)</th>\n      <th>Day-ahead Total Load Forecast [MW] - BZN|NO1</th>\n      <th>Actual Total Load [MW] - BZN|NO1</th>\n    </tr>\n  </thead>\n  <tbody>\n    <tr>\n      <th>26299</th>\n      <td>31.12.2022 19:00 - 31.12.2022 20:00</td>\n      <td>4677.0</td>\n      <td>4650.0</td>\n    </tr>\n    <tr>\n      <th>26300</th>\n      <td>31.12.2022 20:00 - 31.12.2022 21:00</td>\n      <td>4582.0</td>\n      <td>4573.0</td>\n    </tr>\n    <tr>\n      <th>26301</th>\n      <td>31.12.2022 21:00 - 31.12.2022 22:00</td>\n      <td>4554.0</td>\n      <td>4453.0</td>\n    </tr>\n    <tr>\n      <th>26302</th>\n      <td>31.12.2022 22:00 - 31.12.2022 23:00</td>\n      <td>4434.0</td>\n      <td>4389.0</td>\n    </tr>\n    <tr>\n      <th>26303</th>\n      <td>31.12.2022 23:00 - 01.01.2023 00:00</td>\n      <td>4384.0</td>\n      <td>4444.0</td>\n    </tr>\n  </tbody>\n</table>\n</div>"
     },
     "execution_count": 20,
     "metadata": {},
     "output_type": "execute_result"
    }
   ],
   "source": [
    "# checking the 5 last rows of the resulting dataframe:\n",
    "load_no1.tail()"
   ]
  },
  {
   "cell_type": "markdown",
   "id": "d99a7782",
   "metadata": {},
   "source": [
    "we can see that the resulting datafram has the correct time for the first and last row.\n",
    "\n",
    "There might be some differences between the the dataframes of the different zones so we print out first rows of each dataset to see the structure and content of the dataframes."
   ]
  },
  {
   "cell_type": "code",
   "execution_count": 21,
   "id": "61cde040",
   "metadata": {},
   "outputs": [
    {
     "data": {
      "text/plain": "                            Time (UTC)  \\\n0  01.01.2020 00:00 - 01.01.2020 01:00   \n1  01.01.2020 01:00 - 01.01.2020 02:00   \n2  01.01.2020 02:00 - 01.01.2020 03:00   \n3  01.01.2020 03:00 - 01.01.2020 04:00   \n4  01.01.2020 04:00 - 01.01.2020 05:00   \n\n   Day-ahead Total Load Forecast [MW] - BZN|NO1  \\\n0                                        4316.0   \n1                                        4270.0   \n2                                        4209.0   \n3                                        4214.0   \n4                                        4250.0   \n\n   Actual Total Load [MW] - BZN|NO1  \n0                            4333.0  \n1                            4250.0  \n2                            4167.0  \n3                            4145.0  \n4                            4222.0  ",
      "text/html": "<div>\n<style scoped>\n    .dataframe tbody tr th:only-of-type {\n        vertical-align: middle;\n    }\n\n    .dataframe tbody tr th {\n        vertical-align: top;\n    }\n\n    .dataframe thead th {\n        text-align: right;\n    }\n</style>\n<table border=\"1\" class=\"dataframe\">\n  <thead>\n    <tr style=\"text-align: right;\">\n      <th></th>\n      <th>Time (UTC)</th>\n      <th>Day-ahead Total Load Forecast [MW] - BZN|NO1</th>\n      <th>Actual Total Load [MW] - BZN|NO1</th>\n    </tr>\n  </thead>\n  <tbody>\n    <tr>\n      <th>0</th>\n      <td>01.01.2020 00:00 - 01.01.2020 01:00</td>\n      <td>4316.0</td>\n      <td>4333.0</td>\n    </tr>\n    <tr>\n      <th>1</th>\n      <td>01.01.2020 01:00 - 01.01.2020 02:00</td>\n      <td>4270.0</td>\n      <td>4250.0</td>\n    </tr>\n    <tr>\n      <th>2</th>\n      <td>01.01.2020 02:00 - 01.01.2020 03:00</td>\n      <td>4209.0</td>\n      <td>4167.0</td>\n    </tr>\n    <tr>\n      <th>3</th>\n      <td>01.01.2020 03:00 - 01.01.2020 04:00</td>\n      <td>4214.0</td>\n      <td>4145.0</td>\n    </tr>\n    <tr>\n      <th>4</th>\n      <td>01.01.2020 04:00 - 01.01.2020 05:00</td>\n      <td>4250.0</td>\n      <td>4222.0</td>\n    </tr>\n  </tbody>\n</table>\n</div>"
     },
     "execution_count": 21,
     "metadata": {},
     "output_type": "execute_result"
    }
   ],
   "source": [
    "load_no1.head()"
   ]
  },
  {
   "cell_type": "code",
   "execution_count": 22,
   "id": "618cf27f",
   "metadata": {},
   "outputs": [
    {
     "data": {
      "text/plain": "                            Time (UTC)  \\\n0  01.01.2020 00:00 - 01.01.2020 01:00   \n1  01.01.2020 01:00 - 01.01.2020 02:00   \n2  01.01.2020 02:00 - 01.01.2020 03:00   \n3  01.01.2020 03:00 - 01.01.2020 04:00   \n4  01.01.2020 04:00 - 01.01.2020 05:00   \n\n   Day-ahead Total Load Forecast [MW] - BZN|NO2  \\\n0                                        3770.0   \n1                                        3717.0   \n2                                        3680.0   \n3                                        3668.0   \n4                                        3754.0   \n\n   Actual Total Load [MW] - BZN|NO2  \n0                            4139.0  \n1                            4114.0  \n2                            4030.0  \n3                            4032.0  \n4                            4032.0  ",
      "text/html": "<div>\n<style scoped>\n    .dataframe tbody tr th:only-of-type {\n        vertical-align: middle;\n    }\n\n    .dataframe tbody tr th {\n        vertical-align: top;\n    }\n\n    .dataframe thead th {\n        text-align: right;\n    }\n</style>\n<table border=\"1\" class=\"dataframe\">\n  <thead>\n    <tr style=\"text-align: right;\">\n      <th></th>\n      <th>Time (UTC)</th>\n      <th>Day-ahead Total Load Forecast [MW] - BZN|NO2</th>\n      <th>Actual Total Load [MW] - BZN|NO2</th>\n    </tr>\n  </thead>\n  <tbody>\n    <tr>\n      <th>0</th>\n      <td>01.01.2020 00:00 - 01.01.2020 01:00</td>\n      <td>3770.0</td>\n      <td>4139.0</td>\n    </tr>\n    <tr>\n      <th>1</th>\n      <td>01.01.2020 01:00 - 01.01.2020 02:00</td>\n      <td>3717.0</td>\n      <td>4114.0</td>\n    </tr>\n    <tr>\n      <th>2</th>\n      <td>01.01.2020 02:00 - 01.01.2020 03:00</td>\n      <td>3680.0</td>\n      <td>4030.0</td>\n    </tr>\n    <tr>\n      <th>3</th>\n      <td>01.01.2020 03:00 - 01.01.2020 04:00</td>\n      <td>3668.0</td>\n      <td>4032.0</td>\n    </tr>\n    <tr>\n      <th>4</th>\n      <td>01.01.2020 04:00 - 01.01.2020 05:00</td>\n      <td>3754.0</td>\n      <td>4032.0</td>\n    </tr>\n  </tbody>\n</table>\n</div>"
     },
     "execution_count": 22,
     "metadata": {},
     "output_type": "execute_result"
    }
   ],
   "source": [
    "load_no2.head()"
   ]
  },
  {
   "cell_type": "code",
   "execution_count": 23,
   "id": "72b7ec8a",
   "metadata": {},
   "outputs": [
    {
     "data": {
      "text/plain": "                            Time (UTC)  \\\n0  01.01.2020 00:00 - 01.01.2020 01:00   \n1  01.01.2020 01:00 - 01.01.2020 02:00   \n2  01.01.2020 02:00 - 01.01.2020 03:00   \n3  01.01.2020 03:00 - 01.01.2020 04:00   \n4  01.01.2020 04:00 - 01.01.2020 05:00   \n\n   Day-ahead Total Load Forecast [MW] - BZN|NO3  \\\n0                                        3283.0   \n1                                        3234.0   \n2                                        3189.0   \n3                                        3198.0   \n4                                        3215.0   \n\n   Actual Total Load [MW] - BZN|NO3  \n0                            3016.0  \n1                            2945.0  \n2                            3032.0  \n3                            2988.0  \n4                            2848.0  ",
      "text/html": "<div>\n<style scoped>\n    .dataframe tbody tr th:only-of-type {\n        vertical-align: middle;\n    }\n\n    .dataframe tbody tr th {\n        vertical-align: top;\n    }\n\n    .dataframe thead th {\n        text-align: right;\n    }\n</style>\n<table border=\"1\" class=\"dataframe\">\n  <thead>\n    <tr style=\"text-align: right;\">\n      <th></th>\n      <th>Time (UTC)</th>\n      <th>Day-ahead Total Load Forecast [MW] - BZN|NO3</th>\n      <th>Actual Total Load [MW] - BZN|NO3</th>\n    </tr>\n  </thead>\n  <tbody>\n    <tr>\n      <th>0</th>\n      <td>01.01.2020 00:00 - 01.01.2020 01:00</td>\n      <td>3283.0</td>\n      <td>3016.0</td>\n    </tr>\n    <tr>\n      <th>1</th>\n      <td>01.01.2020 01:00 - 01.01.2020 02:00</td>\n      <td>3234.0</td>\n      <td>2945.0</td>\n    </tr>\n    <tr>\n      <th>2</th>\n      <td>01.01.2020 02:00 - 01.01.2020 03:00</td>\n      <td>3189.0</td>\n      <td>3032.0</td>\n    </tr>\n    <tr>\n      <th>3</th>\n      <td>01.01.2020 03:00 - 01.01.2020 04:00</td>\n      <td>3198.0</td>\n      <td>2988.0</td>\n    </tr>\n    <tr>\n      <th>4</th>\n      <td>01.01.2020 04:00 - 01.01.2020 05:00</td>\n      <td>3215.0</td>\n      <td>2848.0</td>\n    </tr>\n  </tbody>\n</table>\n</div>"
     },
     "execution_count": 23,
     "metadata": {},
     "output_type": "execute_result"
    }
   ],
   "source": [
    "load_no3.head()"
   ]
  },
  {
   "cell_type": "code",
   "execution_count": 24,
   "id": "fbea6e95",
   "metadata": {},
   "outputs": [
    {
     "data": {
      "text/plain": "                            Time (UTC)  \\\n0  01.01.2020 00:00 - 01.01.2020 01:00   \n1  01.01.2020 01:00 - 01.01.2020 02:00   \n2  01.01.2020 02:00 - 01.01.2020 03:00   \n3  01.01.2020 03:00 - 01.01.2020 04:00   \n4  01.01.2020 04:00 - 01.01.2020 05:00   \n\n   Day-ahead Total Load Forecast [MW] - BZN|NO5  \\\n0                                        1843.0   \n1                                        1806.0   \n2                                        1773.0   \n3                                        1770.0   \n4                                        1752.0   \n\n   Actual Total Load [MW] - BZN|NO5  \n0                            1950.0  \n1                            1926.0  \n2                            1913.0  \n3                            1894.0  \n4                            1901.0  ",
      "text/html": "<div>\n<style scoped>\n    .dataframe tbody tr th:only-of-type {\n        vertical-align: middle;\n    }\n\n    .dataframe tbody tr th {\n        vertical-align: top;\n    }\n\n    .dataframe thead th {\n        text-align: right;\n    }\n</style>\n<table border=\"1\" class=\"dataframe\">\n  <thead>\n    <tr style=\"text-align: right;\">\n      <th></th>\n      <th>Time (UTC)</th>\n      <th>Day-ahead Total Load Forecast [MW] - BZN|NO5</th>\n      <th>Actual Total Load [MW] - BZN|NO5</th>\n    </tr>\n  </thead>\n  <tbody>\n    <tr>\n      <th>0</th>\n      <td>01.01.2020 00:00 - 01.01.2020 01:00</td>\n      <td>1843.0</td>\n      <td>1950.0</td>\n    </tr>\n    <tr>\n      <th>1</th>\n      <td>01.01.2020 01:00 - 01.01.2020 02:00</td>\n      <td>1806.0</td>\n      <td>1926.0</td>\n    </tr>\n    <tr>\n      <th>2</th>\n      <td>01.01.2020 02:00 - 01.01.2020 03:00</td>\n      <td>1773.0</td>\n      <td>1913.0</td>\n    </tr>\n    <tr>\n      <th>3</th>\n      <td>01.01.2020 03:00 - 01.01.2020 04:00</td>\n      <td>1770.0</td>\n      <td>1894.0</td>\n    </tr>\n    <tr>\n      <th>4</th>\n      <td>01.01.2020 04:00 - 01.01.2020 05:00</td>\n      <td>1752.0</td>\n      <td>1901.0</td>\n    </tr>\n  </tbody>\n</table>\n</div>"
     },
     "execution_count": 24,
     "metadata": {},
     "output_type": "execute_result"
    }
   ],
   "source": [
    "load_no5.head()"
   ]
  },
  {
   "cell_type": "code",
   "execution_count": 25,
   "id": "b2fb13b5",
   "metadata": {},
   "outputs": [
    {
     "data": {
      "text/plain": "                            Time (UTC)  \\\n0  01.01.2020 00:00 - 01.01.2020 01:00   \n1  01.01.2020 01:00 - 01.01.2020 02:00   \n2  01.01.2020 02:00 - 01.01.2020 03:00   \n3  01.01.2020 03:00 - 01.01.2020 04:00   \n4  01.01.2020 04:00 - 01.01.2020 05:00   \n\n   Day-ahead Total Load Forecast [MW] - BZN|SE3  \\\n0                                          9214   \n1                                          9079   \n2                                          8966   \n3                                          8919   \n4                                          8980   \n\n   Actual Total Load [MW] - BZN|SE3  \n0                              9350  \n1                              9158  \n2                              8980  \n3                              8914  \n4                              8964  ",
      "text/html": "<div>\n<style scoped>\n    .dataframe tbody tr th:only-of-type {\n        vertical-align: middle;\n    }\n\n    .dataframe tbody tr th {\n        vertical-align: top;\n    }\n\n    .dataframe thead th {\n        text-align: right;\n    }\n</style>\n<table border=\"1\" class=\"dataframe\">\n  <thead>\n    <tr style=\"text-align: right;\">\n      <th></th>\n      <th>Time (UTC)</th>\n      <th>Day-ahead Total Load Forecast [MW] - BZN|SE3</th>\n      <th>Actual Total Load [MW] - BZN|SE3</th>\n    </tr>\n  </thead>\n  <tbody>\n    <tr>\n      <th>0</th>\n      <td>01.01.2020 00:00 - 01.01.2020 01:00</td>\n      <td>9214</td>\n      <td>9350</td>\n    </tr>\n    <tr>\n      <th>1</th>\n      <td>01.01.2020 01:00 - 01.01.2020 02:00</td>\n      <td>9079</td>\n      <td>9158</td>\n    </tr>\n    <tr>\n      <th>2</th>\n      <td>01.01.2020 02:00 - 01.01.2020 03:00</td>\n      <td>8966</td>\n      <td>8980</td>\n    </tr>\n    <tr>\n      <th>3</th>\n      <td>01.01.2020 03:00 - 01.01.2020 04:00</td>\n      <td>8919</td>\n      <td>8914</td>\n    </tr>\n    <tr>\n      <th>4</th>\n      <td>01.01.2020 04:00 - 01.01.2020 05:00</td>\n      <td>8980</td>\n      <td>8964</td>\n    </tr>\n  </tbody>\n</table>\n</div>"
     },
     "execution_count": 25,
     "metadata": {},
     "output_type": "execute_result"
    }
   ],
   "source": [
    "load_se3.head()"
   ]
  },
  {
   "cell_type": "markdown",
   "id": "48168ced",
   "metadata": {},
   "source": [
    "#### preparation for merging of the load data from the different zones:\n",
    "The common values we will merge the data based on is the date time column \"Time (UTC)\", however this column is named \"MTU (UTC)\" in the prices' dataset. The time column will be renamed to \"MTU (UTC)\" so that the datasets can be merged. The column \"Day-ahead Total Load Forecast\" is redundant since we have the actual total load, so the forecast column will be dropped."
   ]
  },
  {
   "cell_type": "code",
   "execution_count": 26,
   "id": "4abe22d2",
   "metadata": {},
   "outputs": [],
   "source": [
    "# dropping redundant columns\n",
    "load_no1 = load_no1.drop(['Day-ahead Total Load Forecast [MW] - BZN|NO1'], axis=1)\n",
    "load_no2 = load_no2.drop(['Day-ahead Total Load Forecast [MW] - BZN|NO2'], axis=1)\n",
    "load_no3 = load_no3.drop(['Day-ahead Total Load Forecast [MW] - BZN|NO3'], axis=1)\n",
    "load_no5 = load_no5.drop(['Day-ahead Total Load Forecast [MW] - BZN|NO5'], axis=1)\n",
    "load_se3 = load_se3.drop(['Day-ahead Total Load Forecast [MW] - BZN|SE3'], axis=1)"
   ]
  },
  {
   "cell_type": "code",
   "execution_count": 27,
   "id": "9166cdf1",
   "metadata": {},
   "outputs": [],
   "source": [
    "# renaming time columns\n",
    "load_no1 = load_no1.rename(columns={'Time (UTC)': 'MTU (UTC)'})\n",
    "load_no2 = load_no2.rename(columns={'Time (UTC)': 'MTU (UTC)'})\n",
    "load_no3 = load_no3.rename(columns={'Time (UTC)': 'MTU (UTC)'})\n",
    "load_no5 = load_no5.rename(columns={'Time (UTC)': 'MTU (UTC)'})\n",
    "load_se3 = load_se3.rename(columns={'Time (UTC)': 'MTU (UTC)'})"
   ]
  },
  {
   "cell_type": "code",
   "execution_count": 28,
   "id": "933bd585",
   "metadata": {},
   "outputs": [
    {
     "data": {
      "text/plain": "                             MTU (UTC)  Actual Total Load [MW] - BZN|NO1  \\\n0  01.01.2020 00:00 - 01.01.2020 01:00                            4333.0   \n1  01.01.2020 01:00 - 01.01.2020 02:00                            4250.0   \n2  01.01.2020 02:00 - 01.01.2020 03:00                            4167.0   \n3  01.01.2020 03:00 - 01.01.2020 04:00                            4145.0   \n4  01.01.2020 04:00 - 01.01.2020 05:00                            4222.0   \n\n   Actual Total Load [MW] - BZN|NO2  Actual Total Load [MW] - BZN|NO3  \\\n0                            4139.0                            3016.0   \n1                            4114.0                            2945.0   \n2                            4030.0                            3032.0   \n3                            4032.0                            2988.0   \n4                            4032.0                            2848.0   \n\n   Actual Total Load [MW] - BZN|NO5  Actual Total Load [MW] - BZN|SE3  \n0                            1950.0                              9350  \n1                            1926.0                              9158  \n2                            1913.0                              8980  \n3                            1894.0                              8914  \n4                            1901.0                              8964  ",
      "text/html": "<div>\n<style scoped>\n    .dataframe tbody tr th:only-of-type {\n        vertical-align: middle;\n    }\n\n    .dataframe tbody tr th {\n        vertical-align: top;\n    }\n\n    .dataframe thead th {\n        text-align: right;\n    }\n</style>\n<table border=\"1\" class=\"dataframe\">\n  <thead>\n    <tr style=\"text-align: right;\">\n      <th></th>\n      <th>MTU (UTC)</th>\n      <th>Actual Total Load [MW] - BZN|NO1</th>\n      <th>Actual Total Load [MW] - BZN|NO2</th>\n      <th>Actual Total Load [MW] - BZN|NO3</th>\n      <th>Actual Total Load [MW] - BZN|NO5</th>\n      <th>Actual Total Load [MW] - BZN|SE3</th>\n    </tr>\n  </thead>\n  <tbody>\n    <tr>\n      <th>0</th>\n      <td>01.01.2020 00:00 - 01.01.2020 01:00</td>\n      <td>4333.0</td>\n      <td>4139.0</td>\n      <td>3016.0</td>\n      <td>1950.0</td>\n      <td>9350</td>\n    </tr>\n    <tr>\n      <th>1</th>\n      <td>01.01.2020 01:00 - 01.01.2020 02:00</td>\n      <td>4250.0</td>\n      <td>4114.0</td>\n      <td>2945.0</td>\n      <td>1926.0</td>\n      <td>9158</td>\n    </tr>\n    <tr>\n      <th>2</th>\n      <td>01.01.2020 02:00 - 01.01.2020 03:00</td>\n      <td>4167.0</td>\n      <td>4030.0</td>\n      <td>3032.0</td>\n      <td>1913.0</td>\n      <td>8980</td>\n    </tr>\n    <tr>\n      <th>3</th>\n      <td>01.01.2020 03:00 - 01.01.2020 04:00</td>\n      <td>4145.0</td>\n      <td>4032.0</td>\n      <td>2988.0</td>\n      <td>1894.0</td>\n      <td>8914</td>\n    </tr>\n    <tr>\n      <th>4</th>\n      <td>01.01.2020 04:00 - 01.01.2020 05:00</td>\n      <td>4222.0</td>\n      <td>4032.0</td>\n      <td>2848.0</td>\n      <td>1901.0</td>\n      <td>8964</td>\n    </tr>\n  </tbody>\n</table>\n</div>"
     },
     "execution_count": 28,
     "metadata": {},
     "output_type": "execute_result"
    }
   ],
   "source": [
    "# merging the load data into one dataframe on the date time column 'MTU (UTC)'\n",
    "updated_load_dataframes = [load_no1, load_no2, load_no3, load_no5, load_se3]\n",
    "load = reduce(lambda left, right: pd.merge(left,right, on=['MTU (UTC)']), updated_load_dataframes)\n",
    "\n",
    "# printing out the resulting dataframe\n",
    "load.head()"
   ]
  },
  {
   "cell_type": "code",
   "execution_count": 29,
   "id": "e0db24c3",
   "metadata": {},
   "outputs": [
    {
     "data": {
      "text/plain": "                                 MTU (UTC)  Actual Total Load [MW] - BZN|NO1  \\\n26299  31.12.2022 19:00 - 31.12.2022 20:00                            4650.0   \n26300  31.12.2022 20:00 - 31.12.2022 21:00                            4573.0   \n26301  31.12.2022 21:00 - 31.12.2022 22:00                            4453.0   \n26302  31.12.2022 22:00 - 31.12.2022 23:00                            4389.0   \n26303  31.12.2022 23:00 - 01.01.2023 00:00                            4444.0   \n\n       Actual Total Load [MW] - BZN|NO2  Actual Total Load [MW] - BZN|NO3  \\\n26299                            4333.0                            3612.0   \n26300                            4270.0                            3605.0   \n26301                            4294.0                            3479.0   \n26302                            4282.0                            3415.0   \n26303                            4182.0                            3346.0   \n\n       Actual Total Load [MW] - BZN|NO5  Actual Total Load [MW] - BZN|SE3  \n26299                            2128.0                              9602  \n26300                            2089.0                              9251  \n26301                            2037.0                              9092  \n26302                            1991.0                              8944  \n26303                            2009.0                              8955  ",
      "text/html": "<div>\n<style scoped>\n    .dataframe tbody tr th:only-of-type {\n        vertical-align: middle;\n    }\n\n    .dataframe tbody tr th {\n        vertical-align: top;\n    }\n\n    .dataframe thead th {\n        text-align: right;\n    }\n</style>\n<table border=\"1\" class=\"dataframe\">\n  <thead>\n    <tr style=\"text-align: right;\">\n      <th></th>\n      <th>MTU (UTC)</th>\n      <th>Actual Total Load [MW] - BZN|NO1</th>\n      <th>Actual Total Load [MW] - BZN|NO2</th>\n      <th>Actual Total Load [MW] - BZN|NO3</th>\n      <th>Actual Total Load [MW] - BZN|NO5</th>\n      <th>Actual Total Load [MW] - BZN|SE3</th>\n    </tr>\n  </thead>\n  <tbody>\n    <tr>\n      <th>26299</th>\n      <td>31.12.2022 19:00 - 31.12.2022 20:00</td>\n      <td>4650.0</td>\n      <td>4333.0</td>\n      <td>3612.0</td>\n      <td>2128.0</td>\n      <td>9602</td>\n    </tr>\n    <tr>\n      <th>26300</th>\n      <td>31.12.2022 20:00 - 31.12.2022 21:00</td>\n      <td>4573.0</td>\n      <td>4270.0</td>\n      <td>3605.0</td>\n      <td>2089.0</td>\n      <td>9251</td>\n    </tr>\n    <tr>\n      <th>26301</th>\n      <td>31.12.2022 21:00 - 31.12.2022 22:00</td>\n      <td>4453.0</td>\n      <td>4294.0</td>\n      <td>3479.0</td>\n      <td>2037.0</td>\n      <td>9092</td>\n    </tr>\n    <tr>\n      <th>26302</th>\n      <td>31.12.2022 22:00 - 31.12.2022 23:00</td>\n      <td>4389.0</td>\n      <td>4282.0</td>\n      <td>3415.0</td>\n      <td>1991.0</td>\n      <td>8944</td>\n    </tr>\n    <tr>\n      <th>26303</th>\n      <td>31.12.2022 23:00 - 01.01.2023 00:00</td>\n      <td>4444.0</td>\n      <td>4182.0</td>\n      <td>3346.0</td>\n      <td>2009.0</td>\n      <td>8955</td>\n    </tr>\n  </tbody>\n</table>\n</div>"
     },
     "execution_count": 29,
     "metadata": {},
     "output_type": "execute_result"
    }
   ],
   "source": [
    "# printing out the last 5 rows of the resulting dataframe\n",
    "load.tail()"
   ]
  },
  {
   "cell_type": "markdown",
   "id": "87229753",
   "metadata": {},
   "source": [
    "We can se that the datetime of the first and last rows in the dataset are correct. we also want to check if the dataframe still have the correct number of rows to se if the merge was successful."
   ]
  },
  {
   "cell_type": "code",
   "execution_count": 30,
   "id": "bd882c3f",
   "metadata": {},
   "outputs": [
    {
     "data": {
      "text/plain": "(26304, 6)"
     },
     "execution_count": 30,
     "metadata": {},
     "output_type": "execute_result"
    }
   ],
   "source": [
    "# printing out shape of dataframe\n",
    "load.shape"
   ]
  },
  {
   "cell_type": "markdown",
   "id": "1227ccbb",
   "metadata": {},
   "source": [
    "The load dataframe has the correct number of rows (26304) so the aggregation of the price datasets have been successful.\n",
    "\n",
    "We also want to check if the dataset has any missing any values:"
   ]
  },
  {
   "cell_type": "code",
   "execution_count": 31,
   "id": "c17d866b",
   "metadata": {},
   "outputs": [
    {
     "data": {
      "text/plain": "MTU (UTC)                           0\nActual Total Load [MW] - BZN|NO1    1\nActual Total Load [MW] - BZN|NO2    1\nActual Total Load [MW] - BZN|NO3    1\nActual Total Load [MW] - BZN|NO5    1\nActual Total Load [MW] - BZN|SE3    0\ndtype: int64"
     },
     "execution_count": 31,
     "metadata": {},
     "output_type": "execute_result"
    }
   ],
   "source": [
    "# checking data for missing values, if any\n",
    "load.isna().sum()"
   ]
  },
  {
   "cell_type": "code",
   "execution_count": 32,
   "id": "159dad1f",
   "metadata": {},
   "outputs": [
    {
     "data": {
      "text/plain": "                                 MTU (UTC)  Actual Total Load [MW] - BZN|NO1  \\\n16057  31.10.2021 01:00 - 31.10.2021 02:00                               NaN   \n\n       Actual Total Load [MW] - BZN|NO2  Actual Total Load [MW] - BZN|NO3  \\\n16057                               NaN                               NaN   \n\n       Actual Total Load [MW] - BZN|NO5  Actual Total Load [MW] - BZN|SE3  \n16057                               NaN                              7786  ",
      "text/html": "<div>\n<style scoped>\n    .dataframe tbody tr th:only-of-type {\n        vertical-align: middle;\n    }\n\n    .dataframe tbody tr th {\n        vertical-align: top;\n    }\n\n    .dataframe thead th {\n        text-align: right;\n    }\n</style>\n<table border=\"1\" class=\"dataframe\">\n  <thead>\n    <tr style=\"text-align: right;\">\n      <th></th>\n      <th>MTU (UTC)</th>\n      <th>Actual Total Load [MW] - BZN|NO1</th>\n      <th>Actual Total Load [MW] - BZN|NO2</th>\n      <th>Actual Total Load [MW] - BZN|NO3</th>\n      <th>Actual Total Load [MW] - BZN|NO5</th>\n      <th>Actual Total Load [MW] - BZN|SE3</th>\n    </tr>\n  </thead>\n  <tbody>\n    <tr>\n      <th>16057</th>\n      <td>31.10.2021 01:00 - 31.10.2021 02:00</td>\n      <td>NaN</td>\n      <td>NaN</td>\n      <td>NaN</td>\n      <td>NaN</td>\n      <td>7786</td>\n    </tr>\n  </tbody>\n</table>\n</div>"
     },
     "execution_count": 32,
     "metadata": {},
     "output_type": "execute_result"
    }
   ],
   "source": [
    "# checking wich row is missing values\n",
    "load[load['Actual Total Load [MW] - BZN|NO1'].isnull()]"
   ]
  },
  {
   "cell_type": "markdown",
   "id": "d539e28b",
   "metadata": {},
   "source": [
    "It seems like none of the Norwegian bidding zones have recorded data for the time inteval 31.10.2021 01:00 - 31.10.2021 02:00.\n",
    "\n",
    "Handling of datasets can be preformed thorugh many means, but since this is time series data we don't want to drop any rows, we are therefore left with imputation of the missing values (i.e generating values in place of the missing values wich aims to reduce the noise in the dataset). Which method of imputation should be used will depend on the dataset. We will postpone this process untill the Exploratory Data Analysis, where we can investigate the dataset and compare the different methods, and choose the best method"
   ]
  },
  {
   "cell_type": "markdown",
   "id": "34e1205e",
   "metadata": {},
   "source": [
    "### Aggregation of energy generation data"
   ]
  },
  {
   "cell_type": "code",
   "execution_count": 33,
   "id": "ca8028b0",
   "metadata": {},
   "outputs": [],
   "source": [
    "actual_generation_no1 = pd.read_csv(\"../datasets/wind_solar_fossil_biomass_and_others/UTC/Actual Generation per Production Type_202201010000-202301010000NO1.csv\")\n",
    "actual_generation_no2 = pd.read_csv(\"../datasets/wind_solar_fossil_biomass_and_others/UTC/Actual Generation per Production Type_202201010000-202301010000 NO2.csv\")\n",
    "actual_generation_no3 = pd.read_csv(\"../datasets/wind_solar_fossil_biomass_and_others/UTC/Actual Generation per Production Type_202201010000-202301010000NO3.csv\")\n",
    "actual_generation_no5 = pd.read_csv(\"../datasets/wind_solar_fossil_biomass_and_others/UTC/Actual Generation per Production Type_202201010000-202301010000NO5.csv\")\n",
    "actual_generation_se3 = pd.read_csv(\"../datasets/wind_solar_fossil_biomass_and_others/UTC/Actual Generation per Production Type_202201010000-202301010000SE3.csv\")\n",
    "actual_generation_no1_2020 = pd.read_csv(\"../datasets/wind_solar_fossil_biomass_and_others/UTC/2020/NO1Actual Generation per Production Type_202001010000-202101010000.csv\")\n",
    "actual_generation_no2_2020 = pd.read_csv(\"../datasets/wind_solar_fossil_biomass_and_others/UTC/2020/NO2Actual Generation per Production Type_202001010000-202101010000.csv\")\n",
    "actual_generation_no3_2020 = pd.read_csv(\"../datasets/wind_solar_fossil_biomass_and_others/UTC/2020/NO3Actual Generation per Production Type_202001010000-202101010000.csv\")\n",
    "actual_generation_no5_2020 = pd.read_csv(\"../datasets/wind_solar_fossil_biomass_and_others/UTC/2020/NO5Actual Generation per Production Type_202001010000-202101010000.csv\")\n",
    "actual_generation_se3_2020 = pd.read_csv(\"../datasets/wind_solar_fossil_biomass_and_others/UTC/2020/SE3Actual Generation per Production Type_202001010000-202101010000.csv\")\n",
    "actual_generation_no1_2021 = pd.read_csv(\"../datasets/wind_solar_fossil_biomass_and_others/UTC/2021/NO1Actual Generation per Production Type_202101010000-202201010000.csv\")\n",
    "actual_generation_no2_2021 = pd.read_csv(\"../datasets/wind_solar_fossil_biomass_and_others/UTC/2021/NO2Actual Generation per Production Type_202101010000-202201010000.csv\")\n",
    "actual_generation_no3_2021 = pd.read_csv(\"../datasets/wind_solar_fossil_biomass_and_others/UTC/2021/NO3Actual Generation per Production Type_202101010000-202201010000.csv\")\n",
    "actual_generation_no5_2021 = pd.read_csv(\"../datasets/wind_solar_fossil_biomass_and_others/UTC/2021/NO5Actual Generation per Production Type_202101010000-202201010000.csv\")\n",
    "actual_generation_se3_2021 = pd.read_csv(\"../datasets/wind_solar_fossil_biomass_and_others/UTC/2021/SE3Actual Generation per Production Type_202101010000-202201010000.csv\")"
   ]
  },
  {
   "cell_type": "code",
   "execution_count": 34,
   "id": "9d9d12ca",
   "metadata": {},
   "outputs": [
    {
     "data": {
      "text/plain": "      Area                                        MTU  \\\n0  BZN|NO1  01.01.2022 00:00 - 01.01.2022 01:00 (UTC)   \n1  BZN|NO1  01.01.2022 01:00 - 01.01.2022 02:00 (UTC)   \n2  BZN|NO1  01.01.2022 02:00 - 01.01.2022 03:00 (UTC)   \n3  BZN|NO1  01.01.2022 03:00 - 01.01.2022 04:00 (UTC)   \n4  BZN|NO1  01.01.2022 04:00 - 01.01.2022 05:00 (UTC)   \n\n   Biomass  - Actual Aggregated [MW]  \\\n0                                  0   \n1                                  0   \n2                                  0   \n3                                  0   \n4                                  0   \n\n  Fossil Brown coal/Lignite  - Actual Aggregated [MW]  \\\n0                                                n/e    \n1                                                n/e    \n2                                                n/e    \n3                                                n/e    \n4                                                n/e    \n\n  Fossil Coal-derived gas  - Actual Aggregated [MW]  \\\n0                                               n/e   \n1                                               n/e   \n2                                               n/e   \n3                                               n/e   \n4                                               n/e   \n\n   Fossil Gas  - Actual Aggregated [MW]  \\\n0                                     0   \n1                                     0   \n2                                     0   \n3                                     0   \n4                                     0   \n\n  Fossil Hard coal  - Actual Aggregated [MW]  \\\n0                                        n/e   \n1                                        n/e   \n2                                        n/e   \n3                                        n/e   \n4                                        n/e   \n\n  Fossil Oil  - Actual Aggregated [MW]  \\\n0                                  n/e   \n1                                  n/e   \n2                                  n/e   \n3                                  n/e   \n4                                  n/e   \n\n  Fossil Oil shale  - Actual Aggregated [MW]  \\\n0                                        n/e   \n1                                        n/e   \n2                                        n/e   \n3                                        n/e   \n4                                        n/e   \n\n  Fossil Peat  - Actual Aggregated [MW]  ...  \\\n0                                   n/e  ...   \n1                                   n/e  ...   \n2                                   n/e  ...   \n3                                   n/e  ...   \n4                                   n/e  ...   \n\n  Hydro Run-of-river and poundage  - Actual Aggregated [MW]  \\\n0                                                878          \n1                                                897          \n2                                                885          \n3                                                890          \n4                                                892          \n\n  Hydro Water Reservoir  - Actual Aggregated [MW]  \\\n0                                             321   \n1                                             330   \n2                                             275   \n3                                             269   \n4                                             300   \n\n  Marine  - Actual Aggregated [MW]  Nuclear  - Actual Aggregated [MW]  \\\n0                              n/e                                n/e   \n1                              n/e                                n/e   \n2                              n/e                                n/e   \n3                              n/e                                n/e   \n4                              n/e                                n/e   \n\n   Other  - Actual Aggregated [MW] Other renewable  - Actual Aggregated [MW]  \\\n0                              n/e                                       n/e   \n1                              n/e                                       n/e   \n2                              n/e                                       n/e   \n3                              n/e                                       n/e   \n4                              n/e                                       n/e   \n\n  Solar  - Actual Aggregated [MW] Waste  - Actual Aggregated [MW]  \\\n0                             n/e                               8   \n1                             n/e                               8   \n2                             n/e                               8   \n3                             n/e                               8   \n4                             n/e                               8   \n\n  Wind Offshore  - Actual Aggregated [MW]  \\\n0                                     n/e   \n1                                     n/e   \n2                                     n/e   \n3                                     n/e   \n4                                     n/e   \n\n  Wind Onshore  - Actual Aggregated [MW]  \n0                                    172  \n1                                    151  \n2                                    160  \n3                                    148  \n4                                    147  \n\n[5 rows x 23 columns]",
      "text/html": "<div>\n<style scoped>\n    .dataframe tbody tr th:only-of-type {\n        vertical-align: middle;\n    }\n\n    .dataframe tbody tr th {\n        vertical-align: top;\n    }\n\n    .dataframe thead th {\n        text-align: right;\n    }\n</style>\n<table border=\"1\" class=\"dataframe\">\n  <thead>\n    <tr style=\"text-align: right;\">\n      <th></th>\n      <th>Area</th>\n      <th>MTU</th>\n      <th>Biomass  - Actual Aggregated [MW]</th>\n      <th>Fossil Brown coal/Lignite  - Actual Aggregated [MW]</th>\n      <th>Fossil Coal-derived gas  - Actual Aggregated [MW]</th>\n      <th>Fossil Gas  - Actual Aggregated [MW]</th>\n      <th>Fossil Hard coal  - Actual Aggregated [MW]</th>\n      <th>Fossil Oil  - Actual Aggregated [MW]</th>\n      <th>Fossil Oil shale  - Actual Aggregated [MW]</th>\n      <th>Fossil Peat  - Actual Aggregated [MW]</th>\n      <th>...</th>\n      <th>Hydro Run-of-river and poundage  - Actual Aggregated [MW]</th>\n      <th>Hydro Water Reservoir  - Actual Aggregated [MW]</th>\n      <th>Marine  - Actual Aggregated [MW]</th>\n      <th>Nuclear  - Actual Aggregated [MW]</th>\n      <th>Other  - Actual Aggregated [MW]</th>\n      <th>Other renewable  - Actual Aggregated [MW]</th>\n      <th>Solar  - Actual Aggregated [MW]</th>\n      <th>Waste  - Actual Aggregated [MW]</th>\n      <th>Wind Offshore  - Actual Aggregated [MW]</th>\n      <th>Wind Onshore  - Actual Aggregated [MW]</th>\n    </tr>\n  </thead>\n  <tbody>\n    <tr>\n      <th>0</th>\n      <td>BZN|NO1</td>\n      <td>01.01.2022 00:00 - 01.01.2022 01:00 (UTC)</td>\n      <td>0</td>\n      <td>n/e</td>\n      <td>n/e</td>\n      <td>0</td>\n      <td>n/e</td>\n      <td>n/e</td>\n      <td>n/e</td>\n      <td>n/e</td>\n      <td>...</td>\n      <td>878</td>\n      <td>321</td>\n      <td>n/e</td>\n      <td>n/e</td>\n      <td>n/e</td>\n      <td>n/e</td>\n      <td>n/e</td>\n      <td>8</td>\n      <td>n/e</td>\n      <td>172</td>\n    </tr>\n    <tr>\n      <th>1</th>\n      <td>BZN|NO1</td>\n      <td>01.01.2022 01:00 - 01.01.2022 02:00 (UTC)</td>\n      <td>0</td>\n      <td>n/e</td>\n      <td>n/e</td>\n      <td>0</td>\n      <td>n/e</td>\n      <td>n/e</td>\n      <td>n/e</td>\n      <td>n/e</td>\n      <td>...</td>\n      <td>897</td>\n      <td>330</td>\n      <td>n/e</td>\n      <td>n/e</td>\n      <td>n/e</td>\n      <td>n/e</td>\n      <td>n/e</td>\n      <td>8</td>\n      <td>n/e</td>\n      <td>151</td>\n    </tr>\n    <tr>\n      <th>2</th>\n      <td>BZN|NO1</td>\n      <td>01.01.2022 02:00 - 01.01.2022 03:00 (UTC)</td>\n      <td>0</td>\n      <td>n/e</td>\n      <td>n/e</td>\n      <td>0</td>\n      <td>n/e</td>\n      <td>n/e</td>\n      <td>n/e</td>\n      <td>n/e</td>\n      <td>...</td>\n      <td>885</td>\n      <td>275</td>\n      <td>n/e</td>\n      <td>n/e</td>\n      <td>n/e</td>\n      <td>n/e</td>\n      <td>n/e</td>\n      <td>8</td>\n      <td>n/e</td>\n      <td>160</td>\n    </tr>\n    <tr>\n      <th>3</th>\n      <td>BZN|NO1</td>\n      <td>01.01.2022 03:00 - 01.01.2022 04:00 (UTC)</td>\n      <td>0</td>\n      <td>n/e</td>\n      <td>n/e</td>\n      <td>0</td>\n      <td>n/e</td>\n      <td>n/e</td>\n      <td>n/e</td>\n      <td>n/e</td>\n      <td>...</td>\n      <td>890</td>\n      <td>269</td>\n      <td>n/e</td>\n      <td>n/e</td>\n      <td>n/e</td>\n      <td>n/e</td>\n      <td>n/e</td>\n      <td>8</td>\n      <td>n/e</td>\n      <td>148</td>\n    </tr>\n    <tr>\n      <th>4</th>\n      <td>BZN|NO1</td>\n      <td>01.01.2022 04:00 - 01.01.2022 05:00 (UTC)</td>\n      <td>0</td>\n      <td>n/e</td>\n      <td>n/e</td>\n      <td>0</td>\n      <td>n/e</td>\n      <td>n/e</td>\n      <td>n/e</td>\n      <td>n/e</td>\n      <td>...</td>\n      <td>892</td>\n      <td>300</td>\n      <td>n/e</td>\n      <td>n/e</td>\n      <td>n/e</td>\n      <td>n/e</td>\n      <td>n/e</td>\n      <td>8</td>\n      <td>n/e</td>\n      <td>147</td>\n    </tr>\n  </tbody>\n</table>\n<p>5 rows × 23 columns</p>\n</div>"
     },
     "execution_count": 34,
     "metadata": {},
     "output_type": "execute_result"
    }
   ],
   "source": [
    "actual_generation_no1.head()"
   ]
  },
  {
   "cell_type": "code",
   "execution_count": 35,
   "id": "c817f713",
   "metadata": {},
   "outputs": [
    {
     "data": {
      "text/plain": "      Area                                        MTU  \\\n0  BZN|NO2  01.01.2022 00:00 - 01.01.2022 01:00 (UTC)   \n1  BZN|NO2  01.01.2022 01:00 - 01.01.2022 02:00 (UTC)   \n2  BZN|NO2  01.01.2022 02:00 - 01.01.2022 03:00 (UTC)   \n3  BZN|NO2  01.01.2022 03:00 - 01.01.2022 04:00 (UTC)   \n4  BZN|NO2  01.01.2022 04:00 - 01.01.2022 05:00 (UTC)   \n\n  Biomass  - Actual Aggregated [MW]  \\\n0                               n/e   \n1                               n/e   \n2                               n/e   \n3                               n/e   \n4                               n/e   \n\n  Fossil Brown coal/Lignite  - Actual Aggregated [MW]  \\\n0                                                n/e    \n1                                                n/e    \n2                                                n/e    \n3                                                n/e    \n4                                                n/e    \n\n  Fossil Coal-derived gas  - Actual Aggregated [MW]  \\\n0                                               n/e   \n1                                               n/e   \n2                                               n/e   \n3                                               n/e   \n4                                               n/e   \n\n   Fossil Gas  - Actual Aggregated [MW]  \\\n0                                     0   \n1                                     0   \n2                                     0   \n3                                     0   \n4                                     0   \n\n  Fossil Hard coal  - Actual Aggregated [MW]  \\\n0                                        n/e   \n1                                        n/e   \n2                                        n/e   \n3                                        n/e   \n4                                        n/e   \n\n  Fossil Oil  - Actual Aggregated [MW]  \\\n0                                  n/e   \n1                                  n/e   \n2                                  n/e   \n3                                  n/e   \n4                                  n/e   \n\n  Fossil Oil shale  - Actual Aggregated [MW]  \\\n0                                        n/e   \n1                                        n/e   \n2                                        n/e   \n3                                        n/e   \n4                                        n/e   \n\n  Fossil Peat  - Actual Aggregated [MW]  ...  \\\n0                                   n/e  ...   \n1                                   n/e  ...   \n2                                   n/e  ...   \n3                                   n/e  ...   \n4                                   n/e  ...   \n\n  Hydro Run-of-river and poundage  - Actual Aggregated [MW]  \\\n0                                                629          \n1                                                627          \n2                                                624          \n3                                                624          \n4                                                605          \n\n   Hydro Water Reservoir  - Actual Aggregated [MW]  \\\n0                                             1874   \n1                                             2012   \n2                                             1643   \n3                                             1631   \n4                                             1642   \n\n   Marine  - Actual Aggregated [MW]  Nuclear  - Actual Aggregated [MW]  \\\n0                               n/e                                n/e   \n1                               n/e                                n/e   \n2                               n/e                                n/e   \n3                               n/e                                n/e   \n4                               n/e                                n/e   \n\n   Other  - Actual Aggregated [MW] Other renewable  - Actual Aggregated [MW]  \\\n0                              n/e                                       n/e   \n1                              n/e                                       n/e   \n2                              n/e                                       n/e   \n3                              n/e                                       n/e   \n4                              n/e                                       n/e   \n\n  Solar  - Actual Aggregated [MW] Waste  - Actual Aggregated [MW]  \\\n0                             n/e                               5   \n1                             n/e                               4   \n2                             n/e                               4   \n3                             n/e                               4   \n4                             n/e                               4   \n\n  Wind Offshore  - Actual Aggregated [MW]  \\\n0                                     n/e   \n1                                     n/e   \n2                                     n/e   \n3                                     n/e   \n4                                     n/e   \n\n  Wind Onshore  - Actual Aggregated [MW]  \n0                                    244  \n1                                    115  \n2                                     55  \n3                                     61  \n4                                     88  \n\n[5 rows x 23 columns]",
      "text/html": "<div>\n<style scoped>\n    .dataframe tbody tr th:only-of-type {\n        vertical-align: middle;\n    }\n\n    .dataframe tbody tr th {\n        vertical-align: top;\n    }\n\n    .dataframe thead th {\n        text-align: right;\n    }\n</style>\n<table border=\"1\" class=\"dataframe\">\n  <thead>\n    <tr style=\"text-align: right;\">\n      <th></th>\n      <th>Area</th>\n      <th>MTU</th>\n      <th>Biomass  - Actual Aggregated [MW]</th>\n      <th>Fossil Brown coal/Lignite  - Actual Aggregated [MW]</th>\n      <th>Fossil Coal-derived gas  - Actual Aggregated [MW]</th>\n      <th>Fossil Gas  - Actual Aggregated [MW]</th>\n      <th>Fossil Hard coal  - Actual Aggregated [MW]</th>\n      <th>Fossil Oil  - Actual Aggregated [MW]</th>\n      <th>Fossil Oil shale  - Actual Aggregated [MW]</th>\n      <th>Fossil Peat  - Actual Aggregated [MW]</th>\n      <th>...</th>\n      <th>Hydro Run-of-river and poundage  - Actual Aggregated [MW]</th>\n      <th>Hydro Water Reservoir  - Actual Aggregated [MW]</th>\n      <th>Marine  - Actual Aggregated [MW]</th>\n      <th>Nuclear  - Actual Aggregated [MW]</th>\n      <th>Other  - Actual Aggregated [MW]</th>\n      <th>Other renewable  - Actual Aggregated [MW]</th>\n      <th>Solar  - Actual Aggregated [MW]</th>\n      <th>Waste  - Actual Aggregated [MW]</th>\n      <th>Wind Offshore  - Actual Aggregated [MW]</th>\n      <th>Wind Onshore  - Actual Aggregated [MW]</th>\n    </tr>\n  </thead>\n  <tbody>\n    <tr>\n      <th>0</th>\n      <td>BZN|NO2</td>\n      <td>01.01.2022 00:00 - 01.01.2022 01:00 (UTC)</td>\n      <td>n/e</td>\n      <td>n/e</td>\n      <td>n/e</td>\n      <td>0</td>\n      <td>n/e</td>\n      <td>n/e</td>\n      <td>n/e</td>\n      <td>n/e</td>\n      <td>...</td>\n      <td>629</td>\n      <td>1874</td>\n      <td>n/e</td>\n      <td>n/e</td>\n      <td>n/e</td>\n      <td>n/e</td>\n      <td>n/e</td>\n      <td>5</td>\n      <td>n/e</td>\n      <td>244</td>\n    </tr>\n    <tr>\n      <th>1</th>\n      <td>BZN|NO2</td>\n      <td>01.01.2022 01:00 - 01.01.2022 02:00 (UTC)</td>\n      <td>n/e</td>\n      <td>n/e</td>\n      <td>n/e</td>\n      <td>0</td>\n      <td>n/e</td>\n      <td>n/e</td>\n      <td>n/e</td>\n      <td>n/e</td>\n      <td>...</td>\n      <td>627</td>\n      <td>2012</td>\n      <td>n/e</td>\n      <td>n/e</td>\n      <td>n/e</td>\n      <td>n/e</td>\n      <td>n/e</td>\n      <td>4</td>\n      <td>n/e</td>\n      <td>115</td>\n    </tr>\n    <tr>\n      <th>2</th>\n      <td>BZN|NO2</td>\n      <td>01.01.2022 02:00 - 01.01.2022 03:00 (UTC)</td>\n      <td>n/e</td>\n      <td>n/e</td>\n      <td>n/e</td>\n      <td>0</td>\n      <td>n/e</td>\n      <td>n/e</td>\n      <td>n/e</td>\n      <td>n/e</td>\n      <td>...</td>\n      <td>624</td>\n      <td>1643</td>\n      <td>n/e</td>\n      <td>n/e</td>\n      <td>n/e</td>\n      <td>n/e</td>\n      <td>n/e</td>\n      <td>4</td>\n      <td>n/e</td>\n      <td>55</td>\n    </tr>\n    <tr>\n      <th>3</th>\n      <td>BZN|NO2</td>\n      <td>01.01.2022 03:00 - 01.01.2022 04:00 (UTC)</td>\n      <td>n/e</td>\n      <td>n/e</td>\n      <td>n/e</td>\n      <td>0</td>\n      <td>n/e</td>\n      <td>n/e</td>\n      <td>n/e</td>\n      <td>n/e</td>\n      <td>...</td>\n      <td>624</td>\n      <td>1631</td>\n      <td>n/e</td>\n      <td>n/e</td>\n      <td>n/e</td>\n      <td>n/e</td>\n      <td>n/e</td>\n      <td>4</td>\n      <td>n/e</td>\n      <td>61</td>\n    </tr>\n    <tr>\n      <th>4</th>\n      <td>BZN|NO2</td>\n      <td>01.01.2022 04:00 - 01.01.2022 05:00 (UTC)</td>\n      <td>n/e</td>\n      <td>n/e</td>\n      <td>n/e</td>\n      <td>0</td>\n      <td>n/e</td>\n      <td>n/e</td>\n      <td>n/e</td>\n      <td>n/e</td>\n      <td>...</td>\n      <td>605</td>\n      <td>1642</td>\n      <td>n/e</td>\n      <td>n/e</td>\n      <td>n/e</td>\n      <td>n/e</td>\n      <td>n/e</td>\n      <td>4</td>\n      <td>n/e</td>\n      <td>88</td>\n    </tr>\n  </tbody>\n</table>\n<p>5 rows × 23 columns</p>\n</div>"
     },
     "execution_count": 35,
     "metadata": {},
     "output_type": "execute_result"
    }
   ],
   "source": [
    "actual_generation_no2.head()"
   ]
  },
  {
   "cell_type": "code",
   "execution_count": 36,
   "id": "a3873421",
   "metadata": {},
   "outputs": [
    {
     "data": {
      "text/plain": "      Area                                        MTU  \\\n0  BZN|NO3  01.01.2022 00:00 - 01.01.2022 01:00 (UTC)   \n1  BZN|NO3  01.01.2022 01:00 - 01.01.2022 02:00 (UTC)   \n2  BZN|NO3  01.01.2022 02:00 - 01.01.2022 03:00 (UTC)   \n3  BZN|NO3  01.01.2022 03:00 - 01.01.2022 04:00 (UTC)   \n4  BZN|NO3  01.01.2022 04:00 - 01.01.2022 05:00 (UTC)   \n\n  Biomass  - Actual Aggregated [MW]  \\\n0                               n/e   \n1                               n/e   \n2                               n/e   \n3                               n/e   \n4                               n/e   \n\n  Fossil Brown coal/Lignite  - Actual Aggregated [MW]  \\\n0                                                n/e    \n1                                                n/e    \n2                                                n/e    \n3                                                n/e    \n4                                                n/e    \n\n  Fossil Coal-derived gas  - Actual Aggregated [MW]  \\\n0                                               n/e   \n1                                               n/e   \n2                                               n/e   \n3                                               n/e   \n4                                               n/e   \n\n  Fossil Gas  - Actual Aggregated [MW]  \\\n0                                    0   \n1                                    0   \n2                                    0   \n3                                    0   \n4                                    0   \n\n  Fossil Hard coal  - Actual Aggregated [MW]  \\\n0                                        n/e   \n1                                        n/e   \n2                                        n/e   \n3                                        n/e   \n4                                        n/e   \n\n  Fossil Oil  - Actual Aggregated [MW]  \\\n0                                  n/e   \n1                                  n/e   \n2                                  n/e   \n3                                  n/e   \n4                                  n/e   \n\n  Fossil Oil shale  - Actual Aggregated [MW]  \\\n0                                        n/e   \n1                                        n/e   \n2                                        n/e   \n3                                        n/e   \n4                                        n/e   \n\n  Fossil Peat  - Actual Aggregated [MW]  ...  \\\n0                                   n/e  ...   \n1                                   n/e  ...   \n2                                   n/e  ...   \n3                                   n/e  ...   \n4                                   n/e  ...   \n\n  Hydro Run-of-river and poundage  - Actual Aggregated [MW]  \\\n0                                                389          \n1                                                390          \n2                                                405          \n3                                                393          \n4                                                398          \n\n   Hydro Water Reservoir  - Actual Aggregated [MW]  \\\n0                                             2166   \n1                                             2187   \n2                                             2183   \n3                                             2076   \n4                                             2098   \n\n   Marine  - Actual Aggregated [MW]  Nuclear  - Actual Aggregated [MW]  \\\n0                               n/e                                n/e   \n1                               n/e                                n/e   \n2                               n/e                                n/e   \n3                               n/e                                n/e   \n4                               n/e                                n/e   \n\n   Other  - Actual Aggregated [MW] Other renewable  - Actual Aggregated [MW]  \\\n0                                0                                        12   \n1                                0                                        12   \n2                                0                                        12   \n3                                0                                        12   \n4                                0                                        11   \n\n  Solar  - Actual Aggregated [MW]  Waste  - Actual Aggregated [MW]  \\\n0                             n/e                                3   \n1                             n/e                                2   \n2                             n/e                                1   \n3                             n/e                                0   \n4                             n/e                                0   \n\n   Wind Offshore  - Actual Aggregated [MW]  \\\n0                                      n/e   \n1                                      n/e   \n2                                      n/e   \n3                                      n/e   \n4                                      n/e   \n\n  Wind Onshore  - Actual Aggregated [MW]  \n0                                    219  \n1                                    170  \n2                                    126  \n3                                     81  \n4                                     45  \n\n[5 rows x 23 columns]",
      "text/html": "<div>\n<style scoped>\n    .dataframe tbody tr th:only-of-type {\n        vertical-align: middle;\n    }\n\n    .dataframe tbody tr th {\n        vertical-align: top;\n    }\n\n    .dataframe thead th {\n        text-align: right;\n    }\n</style>\n<table border=\"1\" class=\"dataframe\">\n  <thead>\n    <tr style=\"text-align: right;\">\n      <th></th>\n      <th>Area</th>\n      <th>MTU</th>\n      <th>Biomass  - Actual Aggregated [MW]</th>\n      <th>Fossil Brown coal/Lignite  - Actual Aggregated [MW]</th>\n      <th>Fossil Coal-derived gas  - Actual Aggregated [MW]</th>\n      <th>Fossil Gas  - Actual Aggregated [MW]</th>\n      <th>Fossil Hard coal  - Actual Aggregated [MW]</th>\n      <th>Fossil Oil  - Actual Aggregated [MW]</th>\n      <th>Fossil Oil shale  - Actual Aggregated [MW]</th>\n      <th>Fossil Peat  - Actual Aggregated [MW]</th>\n      <th>...</th>\n      <th>Hydro Run-of-river and poundage  - Actual Aggregated [MW]</th>\n      <th>Hydro Water Reservoir  - Actual Aggregated [MW]</th>\n      <th>Marine  - Actual Aggregated [MW]</th>\n      <th>Nuclear  - Actual Aggregated [MW]</th>\n      <th>Other  - Actual Aggregated [MW]</th>\n      <th>Other renewable  - Actual Aggregated [MW]</th>\n      <th>Solar  - Actual Aggregated [MW]</th>\n      <th>Waste  - Actual Aggregated [MW]</th>\n      <th>Wind Offshore  - Actual Aggregated [MW]</th>\n      <th>Wind Onshore  - Actual Aggregated [MW]</th>\n    </tr>\n  </thead>\n  <tbody>\n    <tr>\n      <th>0</th>\n      <td>BZN|NO3</td>\n      <td>01.01.2022 00:00 - 01.01.2022 01:00 (UTC)</td>\n      <td>n/e</td>\n      <td>n/e</td>\n      <td>n/e</td>\n      <td>0</td>\n      <td>n/e</td>\n      <td>n/e</td>\n      <td>n/e</td>\n      <td>n/e</td>\n      <td>...</td>\n      <td>389</td>\n      <td>2166</td>\n      <td>n/e</td>\n      <td>n/e</td>\n      <td>0</td>\n      <td>12</td>\n      <td>n/e</td>\n      <td>3</td>\n      <td>n/e</td>\n      <td>219</td>\n    </tr>\n    <tr>\n      <th>1</th>\n      <td>BZN|NO3</td>\n      <td>01.01.2022 01:00 - 01.01.2022 02:00 (UTC)</td>\n      <td>n/e</td>\n      <td>n/e</td>\n      <td>n/e</td>\n      <td>0</td>\n      <td>n/e</td>\n      <td>n/e</td>\n      <td>n/e</td>\n      <td>n/e</td>\n      <td>...</td>\n      <td>390</td>\n      <td>2187</td>\n      <td>n/e</td>\n      <td>n/e</td>\n      <td>0</td>\n      <td>12</td>\n      <td>n/e</td>\n      <td>2</td>\n      <td>n/e</td>\n      <td>170</td>\n    </tr>\n    <tr>\n      <th>2</th>\n      <td>BZN|NO3</td>\n      <td>01.01.2022 02:00 - 01.01.2022 03:00 (UTC)</td>\n      <td>n/e</td>\n      <td>n/e</td>\n      <td>n/e</td>\n      <td>0</td>\n      <td>n/e</td>\n      <td>n/e</td>\n      <td>n/e</td>\n      <td>n/e</td>\n      <td>...</td>\n      <td>405</td>\n      <td>2183</td>\n      <td>n/e</td>\n      <td>n/e</td>\n      <td>0</td>\n      <td>12</td>\n      <td>n/e</td>\n      <td>1</td>\n      <td>n/e</td>\n      <td>126</td>\n    </tr>\n    <tr>\n      <th>3</th>\n      <td>BZN|NO3</td>\n      <td>01.01.2022 03:00 - 01.01.2022 04:00 (UTC)</td>\n      <td>n/e</td>\n      <td>n/e</td>\n      <td>n/e</td>\n      <td>0</td>\n      <td>n/e</td>\n      <td>n/e</td>\n      <td>n/e</td>\n      <td>n/e</td>\n      <td>...</td>\n      <td>393</td>\n      <td>2076</td>\n      <td>n/e</td>\n      <td>n/e</td>\n      <td>0</td>\n      <td>12</td>\n      <td>n/e</td>\n      <td>0</td>\n      <td>n/e</td>\n      <td>81</td>\n    </tr>\n    <tr>\n      <th>4</th>\n      <td>BZN|NO3</td>\n      <td>01.01.2022 04:00 - 01.01.2022 05:00 (UTC)</td>\n      <td>n/e</td>\n      <td>n/e</td>\n      <td>n/e</td>\n      <td>0</td>\n      <td>n/e</td>\n      <td>n/e</td>\n      <td>n/e</td>\n      <td>n/e</td>\n      <td>...</td>\n      <td>398</td>\n      <td>2098</td>\n      <td>n/e</td>\n      <td>n/e</td>\n      <td>0</td>\n      <td>11</td>\n      <td>n/e</td>\n      <td>0</td>\n      <td>n/e</td>\n      <td>45</td>\n    </tr>\n  </tbody>\n</table>\n<p>5 rows × 23 columns</p>\n</div>"
     },
     "execution_count": 36,
     "metadata": {},
     "output_type": "execute_result"
    }
   ],
   "source": [
    "actual_generation_no3.head()"
   ]
  },
  {
   "cell_type": "code",
   "execution_count": 37,
   "id": "f404bd9d",
   "metadata": {},
   "outputs": [
    {
     "data": {
      "text/plain": "      Area                                        MTU  \\\n0  BZN|NO5  01.01.2022 00:00 - 01.01.2022 01:00 (UTC)   \n1  BZN|NO5  01.01.2022 01:00 - 01.01.2022 02:00 (UTC)   \n2  BZN|NO5  01.01.2022 02:00 - 01.01.2022 03:00 (UTC)   \n3  BZN|NO5  01.01.2022 03:00 - 01.01.2022 04:00 (UTC)   \n4  BZN|NO5  01.01.2022 04:00 - 01.01.2022 05:00 (UTC)   \n\n  Biomass  - Actual Aggregated [MW]  \\\n0                               n/e   \n1                               n/e   \n2                               n/e   \n3                               n/e   \n4                               n/e   \n\n  Fossil Brown coal/Lignite  - Actual Aggregated [MW]  \\\n0                                                n/e    \n1                                                n/e    \n2                                                n/e    \n3                                                n/e    \n4                                                n/e    \n\n  Fossil Coal-derived gas  - Actual Aggregated [MW]  \\\n0                                               n/e   \n1                                               n/e   \n2                                               n/e   \n3                                               n/e   \n4                                               n/e   \n\n   Fossil Gas  - Actual Aggregated [MW]  \\\n0                                    82   \n1                                    82   \n2                                    82   \n3                                    82   \n4                                    82   \n\n  Fossil Hard coal  - Actual Aggregated [MW]  \\\n0                                        n/e   \n1                                        n/e   \n2                                        n/e   \n3                                        n/e   \n4                                        n/e   \n\n  Fossil Oil  - Actual Aggregated [MW]  \\\n0                                  n/e   \n1                                  n/e   \n2                                  n/e   \n3                                  n/e   \n4                                  n/e   \n\n  Fossil Oil shale  - Actual Aggregated [MW]  \\\n0                                        n/e   \n1                                        n/e   \n2                                        n/e   \n3                                        n/e   \n4                                        n/e   \n\n  Fossil Peat  - Actual Aggregated [MW]  ...  \\\n0                                   n/e  ...   \n1                                   n/e  ...   \n2                                   n/e  ...   \n3                                   n/e  ...   \n4                                   n/e  ...   \n\n  Hydro Run-of-river and poundage  - Actual Aggregated [MW]  \\\n0                                                227          \n1                                                216          \n2                                                215          \n3                                                209          \n4                                                210          \n\n   Hydro Water Reservoir  - Actual Aggregated [MW]  \\\n0                                             1759   \n1                                             1890   \n2                                             1460   \n3                                             1394   \n4                                             1488   \n\n   Marine  - Actual Aggregated [MW]  Nuclear  - Actual Aggregated [MW]  \\\n0                               n/e                                n/e   \n1                               n/e                                n/e   \n2                               n/e                                n/e   \n3                               n/e                                n/e   \n4                               n/e                                n/e   \n\n   Other  - Actual Aggregated [MW] Other renewable  - Actual Aggregated [MW]  \\\n0                              n/e                                       n/e   \n1                              n/e                                       n/e   \n2                              n/e                                       n/e   \n3                              n/e                                       n/e   \n4                              n/e                                       n/e   \n\n  Solar  - Actual Aggregated [MW] Waste  - Actual Aggregated [MW]  \\\n0                             n/e                              19   \n1                             n/e                              20   \n2                             n/e                              20   \n3                             n/e                              20   \n4                             n/e                              19   \n\n  Wind Offshore  - Actual Aggregated [MW]  \\\n0                                     n/e   \n1                                     n/e   \n2                                     n/e   \n3                                     n/e   \n4                                     n/e   \n\n  Wind Onshore  - Actual Aggregated [MW]  \n0                                    n/e  \n1                                    n/e  \n2                                    n/e  \n3                                    n/e  \n4                                    n/e  \n\n[5 rows x 23 columns]",
      "text/html": "<div>\n<style scoped>\n    .dataframe tbody tr th:only-of-type {\n        vertical-align: middle;\n    }\n\n    .dataframe tbody tr th {\n        vertical-align: top;\n    }\n\n    .dataframe thead th {\n        text-align: right;\n    }\n</style>\n<table border=\"1\" class=\"dataframe\">\n  <thead>\n    <tr style=\"text-align: right;\">\n      <th></th>\n      <th>Area</th>\n      <th>MTU</th>\n      <th>Biomass  - Actual Aggregated [MW]</th>\n      <th>Fossil Brown coal/Lignite  - Actual Aggregated [MW]</th>\n      <th>Fossil Coal-derived gas  - Actual Aggregated [MW]</th>\n      <th>Fossil Gas  - Actual Aggregated [MW]</th>\n      <th>Fossil Hard coal  - Actual Aggregated [MW]</th>\n      <th>Fossil Oil  - Actual Aggregated [MW]</th>\n      <th>Fossil Oil shale  - Actual Aggregated [MW]</th>\n      <th>Fossil Peat  - Actual Aggregated [MW]</th>\n      <th>...</th>\n      <th>Hydro Run-of-river and poundage  - Actual Aggregated [MW]</th>\n      <th>Hydro Water Reservoir  - Actual Aggregated [MW]</th>\n      <th>Marine  - Actual Aggregated [MW]</th>\n      <th>Nuclear  - Actual Aggregated [MW]</th>\n      <th>Other  - Actual Aggregated [MW]</th>\n      <th>Other renewable  - Actual Aggregated [MW]</th>\n      <th>Solar  - Actual Aggregated [MW]</th>\n      <th>Waste  - Actual Aggregated [MW]</th>\n      <th>Wind Offshore  - Actual Aggregated [MW]</th>\n      <th>Wind Onshore  - Actual Aggregated [MW]</th>\n    </tr>\n  </thead>\n  <tbody>\n    <tr>\n      <th>0</th>\n      <td>BZN|NO5</td>\n      <td>01.01.2022 00:00 - 01.01.2022 01:00 (UTC)</td>\n      <td>n/e</td>\n      <td>n/e</td>\n      <td>n/e</td>\n      <td>82</td>\n      <td>n/e</td>\n      <td>n/e</td>\n      <td>n/e</td>\n      <td>n/e</td>\n      <td>...</td>\n      <td>227</td>\n      <td>1759</td>\n      <td>n/e</td>\n      <td>n/e</td>\n      <td>n/e</td>\n      <td>n/e</td>\n      <td>n/e</td>\n      <td>19</td>\n      <td>n/e</td>\n      <td>n/e</td>\n    </tr>\n    <tr>\n      <th>1</th>\n      <td>BZN|NO5</td>\n      <td>01.01.2022 01:00 - 01.01.2022 02:00 (UTC)</td>\n      <td>n/e</td>\n      <td>n/e</td>\n      <td>n/e</td>\n      <td>82</td>\n      <td>n/e</td>\n      <td>n/e</td>\n      <td>n/e</td>\n      <td>n/e</td>\n      <td>...</td>\n      <td>216</td>\n      <td>1890</td>\n      <td>n/e</td>\n      <td>n/e</td>\n      <td>n/e</td>\n      <td>n/e</td>\n      <td>n/e</td>\n      <td>20</td>\n      <td>n/e</td>\n      <td>n/e</td>\n    </tr>\n    <tr>\n      <th>2</th>\n      <td>BZN|NO5</td>\n      <td>01.01.2022 02:00 - 01.01.2022 03:00 (UTC)</td>\n      <td>n/e</td>\n      <td>n/e</td>\n      <td>n/e</td>\n      <td>82</td>\n      <td>n/e</td>\n      <td>n/e</td>\n      <td>n/e</td>\n      <td>n/e</td>\n      <td>...</td>\n      <td>215</td>\n      <td>1460</td>\n      <td>n/e</td>\n      <td>n/e</td>\n      <td>n/e</td>\n      <td>n/e</td>\n      <td>n/e</td>\n      <td>20</td>\n      <td>n/e</td>\n      <td>n/e</td>\n    </tr>\n    <tr>\n      <th>3</th>\n      <td>BZN|NO5</td>\n      <td>01.01.2022 03:00 - 01.01.2022 04:00 (UTC)</td>\n      <td>n/e</td>\n      <td>n/e</td>\n      <td>n/e</td>\n      <td>82</td>\n      <td>n/e</td>\n      <td>n/e</td>\n      <td>n/e</td>\n      <td>n/e</td>\n      <td>...</td>\n      <td>209</td>\n      <td>1394</td>\n      <td>n/e</td>\n      <td>n/e</td>\n      <td>n/e</td>\n      <td>n/e</td>\n      <td>n/e</td>\n      <td>20</td>\n      <td>n/e</td>\n      <td>n/e</td>\n    </tr>\n    <tr>\n      <th>4</th>\n      <td>BZN|NO5</td>\n      <td>01.01.2022 04:00 - 01.01.2022 05:00 (UTC)</td>\n      <td>n/e</td>\n      <td>n/e</td>\n      <td>n/e</td>\n      <td>82</td>\n      <td>n/e</td>\n      <td>n/e</td>\n      <td>n/e</td>\n      <td>n/e</td>\n      <td>...</td>\n      <td>210</td>\n      <td>1488</td>\n      <td>n/e</td>\n      <td>n/e</td>\n      <td>n/e</td>\n      <td>n/e</td>\n      <td>n/e</td>\n      <td>19</td>\n      <td>n/e</td>\n      <td>n/e</td>\n    </tr>\n  </tbody>\n</table>\n<p>5 rows × 23 columns</p>\n</div>"
     },
     "execution_count": 37,
     "metadata": {},
     "output_type": "execute_result"
    }
   ],
   "source": [
    "actual_generation_no5.head()"
   ]
  },
  {
   "cell_type": "code",
   "execution_count": 38,
   "id": "5c43c5ff",
   "metadata": {},
   "outputs": [
    {
     "data": {
      "text/plain": "      Area                                        MTU  \\\n0  BZN|SE3  01.01.2022 00:00 - 01.01.2022 01:00 (UTC)   \n1  BZN|SE3  01.01.2022 01:00 - 01.01.2022 02:00 (UTC)   \n2  BZN|SE3  01.01.2022 02:00 - 01.01.2022 03:00 (UTC)   \n3  BZN|SE3  01.01.2022 03:00 - 01.01.2022 04:00 (UTC)   \n4  BZN|SE3  01.01.2022 04:00 - 01.01.2022 05:00 (UTC)   \n\n  Biomass  - Actual Aggregated [MW]  \\\n0                               n/e   \n1                               n/e   \n2                               n/e   \n3                               n/e   \n4                               n/e   \n\n  Fossil Brown coal/Lignite  - Actual Aggregated [MW]  \\\n0                                                n/e    \n1                                                n/e    \n2                                                n/e    \n3                                                n/e    \n4                                                n/e    \n\n  Fossil Coal-derived gas  - Actual Aggregated [MW]  \\\n0                                               n/e   \n1                                               n/e   \n2                                               n/e   \n3                                               n/e   \n4                                               n/e   \n\n   Fossil Gas  - Actual Aggregated [MW]  \\\n0                                   0.0   \n1                                   0.0   \n2                                   0.0   \n3                                   0.0   \n4                                   0.0   \n\n  Fossil Hard coal  - Actual Aggregated [MW]  \\\n0                                        n/e   \n1                                        n/e   \n2                                        n/e   \n3                                        n/e   \n4                                        n/e   \n\n  Fossil Oil  - Actual Aggregated [MW]  \\\n0                                  n/e   \n1                                  n/e   \n2                                  n/e   \n3                                  n/e   \n4                                  n/e   \n\n  Fossil Oil shale  - Actual Aggregated [MW]  \\\n0                                        n/e   \n1                                        n/e   \n2                                        n/e   \n3                                        n/e   \n4                                        n/e   \n\n  Fossil Peat  - Actual Aggregated [MW]  ...  \\\n0                                   n/e  ...   \n1                                   n/e  ...   \n2                                   n/e  ...   \n3                                   n/e  ...   \n4                                   n/e  ...   \n\n  Hydro Run-of-river and poundage  - Actual Aggregated [MW]  \\\n0                                                n/e          \n1                                                n/e          \n2                                                n/e          \n3                                                n/e          \n4                                                n/e          \n\n  Hydro Water Reservoir  - Actual Aggregated [MW]  \\\n0                                           818.0   \n1                                           818.0   \n2                                           838.0   \n3                                           842.0   \n4                                           841.0   \n\n  Marine  - Actual Aggregated [MW] Nuclear  - Actual Aggregated [MW]  \\\n0                                0                            5842.0   \n1                                0                            5839.0   \n2                                0                            5839.0   \n3                                0                            5840.0   \n4                                0                            5839.0   \n\n   Other  - Actual Aggregated [MW] Other renewable  - Actual Aggregated [MW]  \\\n0                            851.0                                       n/e   \n1                            858.0                                       n/e   \n2                            859.0                                       n/e   \n3                            856.0                                       n/e   \n4                            880.0                                       n/e   \n\n   Solar  - Actual Aggregated [MW]  Waste  - Actual Aggregated [MW]  \\\n0                              0.0                              n/e   \n1                              0.0                              n/e   \n2                              0.0                              n/e   \n3                              0.0                              n/e   \n4                              0.0                              n/e   \n\n  Wind Offshore  - Actual Aggregated [MW]  \\\n0                                     n/e   \n1                                     n/e   \n2                                     n/e   \n3                                     n/e   \n4                                     n/e   \n\n   Wind Onshore  - Actual Aggregated [MW]  \n0                                   999.0  \n1                                   958.0  \n2                                   888.0  \n3                                   788.0  \n4                                   734.0  \n\n[5 rows x 23 columns]",
      "text/html": "<div>\n<style scoped>\n    .dataframe tbody tr th:only-of-type {\n        vertical-align: middle;\n    }\n\n    .dataframe tbody tr th {\n        vertical-align: top;\n    }\n\n    .dataframe thead th {\n        text-align: right;\n    }\n</style>\n<table border=\"1\" class=\"dataframe\">\n  <thead>\n    <tr style=\"text-align: right;\">\n      <th></th>\n      <th>Area</th>\n      <th>MTU</th>\n      <th>Biomass  - Actual Aggregated [MW]</th>\n      <th>Fossil Brown coal/Lignite  - Actual Aggregated [MW]</th>\n      <th>Fossil Coal-derived gas  - Actual Aggregated [MW]</th>\n      <th>Fossil Gas  - Actual Aggregated [MW]</th>\n      <th>Fossil Hard coal  - Actual Aggregated [MW]</th>\n      <th>Fossil Oil  - Actual Aggregated [MW]</th>\n      <th>Fossil Oil shale  - Actual Aggregated [MW]</th>\n      <th>Fossil Peat  - Actual Aggregated [MW]</th>\n      <th>...</th>\n      <th>Hydro Run-of-river and poundage  - Actual Aggregated [MW]</th>\n      <th>Hydro Water Reservoir  - Actual Aggregated [MW]</th>\n      <th>Marine  - Actual Aggregated [MW]</th>\n      <th>Nuclear  - Actual Aggregated [MW]</th>\n      <th>Other  - Actual Aggregated [MW]</th>\n      <th>Other renewable  - Actual Aggregated [MW]</th>\n      <th>Solar  - Actual Aggregated [MW]</th>\n      <th>Waste  - Actual Aggregated [MW]</th>\n      <th>Wind Offshore  - Actual Aggregated [MW]</th>\n      <th>Wind Onshore  - Actual Aggregated [MW]</th>\n    </tr>\n  </thead>\n  <tbody>\n    <tr>\n      <th>0</th>\n      <td>BZN|SE3</td>\n      <td>01.01.2022 00:00 - 01.01.2022 01:00 (UTC)</td>\n      <td>n/e</td>\n      <td>n/e</td>\n      <td>n/e</td>\n      <td>0.0</td>\n      <td>n/e</td>\n      <td>n/e</td>\n      <td>n/e</td>\n      <td>n/e</td>\n      <td>...</td>\n      <td>n/e</td>\n      <td>818.0</td>\n      <td>0</td>\n      <td>5842.0</td>\n      <td>851.0</td>\n      <td>n/e</td>\n      <td>0.0</td>\n      <td>n/e</td>\n      <td>n/e</td>\n      <td>999.0</td>\n    </tr>\n    <tr>\n      <th>1</th>\n      <td>BZN|SE3</td>\n      <td>01.01.2022 01:00 - 01.01.2022 02:00 (UTC)</td>\n      <td>n/e</td>\n      <td>n/e</td>\n      <td>n/e</td>\n      <td>0.0</td>\n      <td>n/e</td>\n      <td>n/e</td>\n      <td>n/e</td>\n      <td>n/e</td>\n      <td>...</td>\n      <td>n/e</td>\n      <td>818.0</td>\n      <td>0</td>\n      <td>5839.0</td>\n      <td>858.0</td>\n      <td>n/e</td>\n      <td>0.0</td>\n      <td>n/e</td>\n      <td>n/e</td>\n      <td>958.0</td>\n    </tr>\n    <tr>\n      <th>2</th>\n      <td>BZN|SE3</td>\n      <td>01.01.2022 02:00 - 01.01.2022 03:00 (UTC)</td>\n      <td>n/e</td>\n      <td>n/e</td>\n      <td>n/e</td>\n      <td>0.0</td>\n      <td>n/e</td>\n      <td>n/e</td>\n      <td>n/e</td>\n      <td>n/e</td>\n      <td>...</td>\n      <td>n/e</td>\n      <td>838.0</td>\n      <td>0</td>\n      <td>5839.0</td>\n      <td>859.0</td>\n      <td>n/e</td>\n      <td>0.0</td>\n      <td>n/e</td>\n      <td>n/e</td>\n      <td>888.0</td>\n    </tr>\n    <tr>\n      <th>3</th>\n      <td>BZN|SE3</td>\n      <td>01.01.2022 03:00 - 01.01.2022 04:00 (UTC)</td>\n      <td>n/e</td>\n      <td>n/e</td>\n      <td>n/e</td>\n      <td>0.0</td>\n      <td>n/e</td>\n      <td>n/e</td>\n      <td>n/e</td>\n      <td>n/e</td>\n      <td>...</td>\n      <td>n/e</td>\n      <td>842.0</td>\n      <td>0</td>\n      <td>5840.0</td>\n      <td>856.0</td>\n      <td>n/e</td>\n      <td>0.0</td>\n      <td>n/e</td>\n      <td>n/e</td>\n      <td>788.0</td>\n    </tr>\n    <tr>\n      <th>4</th>\n      <td>BZN|SE3</td>\n      <td>01.01.2022 04:00 - 01.01.2022 05:00 (UTC)</td>\n      <td>n/e</td>\n      <td>n/e</td>\n      <td>n/e</td>\n      <td>0.0</td>\n      <td>n/e</td>\n      <td>n/e</td>\n      <td>n/e</td>\n      <td>n/e</td>\n      <td>...</td>\n      <td>n/e</td>\n      <td>841.0</td>\n      <td>0</td>\n      <td>5839.0</td>\n      <td>880.0</td>\n      <td>n/e</td>\n      <td>0.0</td>\n      <td>n/e</td>\n      <td>n/e</td>\n      <td>734.0</td>\n    </tr>\n  </tbody>\n</table>\n<p>5 rows × 23 columns</p>\n</div>"
     },
     "execution_count": 38,
     "metadata": {},
     "output_type": "execute_result"
    }
   ],
   "source": [
    "actual_generation_se3.head()"
   ]
  },
  {
   "cell_type": "code",
   "execution_count": 39,
   "id": "b31db664",
   "metadata": {},
   "outputs": [
    {
     "data": {
      "text/plain": "      Area                                  MTU (UTC)  Biomass - BZN|NO1  \\\n0  BZN|NO1  01.01.2022 00:00 - 01.01.2022 01:00 (UTC)                  0   \n1  BZN|NO1  01.01.2022 01:00 - 01.01.2022 02:00 (UTC)                  0   \n2  BZN|NO1  01.01.2022 02:00 - 01.01.2022 03:00 (UTC)                  0   \n3  BZN|NO1  01.01.2022 03:00 - 01.01.2022 04:00 (UTC)                  0   \n4  BZN|NO1  01.01.2022 04:00 - 01.01.2022 05:00 (UTC)                  0   \n\n  Fossil Brown coal/Lignite - BZN|NO1 Fossil Coal-derived gas - BZN|NO1  \\\n0                                 n/e                               n/e   \n1                                 n/e                               n/e   \n2                                 n/e                               n/e   \n3                                 n/e                               n/e   \n4                                 n/e                               n/e   \n\n   Fossil Gas - BZN|NO1 Fossil Hard coal - BZN|NO1 Fossil Oil - BZN|NO1  \\\n0                     0                        n/e                  n/e   \n1                     0                        n/e                  n/e   \n2                     0                        n/e                  n/e   \n3                     0                        n/e                  n/e   \n4                     0                        n/e                  n/e   \n\n  Fossil Oil shale - BZN|NO1 Fossil Peat - BZN|NO1  ...  \\\n0                        n/e                   n/e  ...   \n1                        n/e                   n/e  ...   \n2                        n/e                   n/e  ...   \n3                        n/e                   n/e  ...   \n4                        n/e                   n/e  ...   \n\n  Hydro Run-of-river and poundage - BZN|NO1 Hydro Water Reservoir - BZN|NO1  \\\n0                                       878                             321   \n1                                       897                             330   \n2                                       885                             275   \n3                                       890                             269   \n4                                       892                             300   \n\n  Marine - BZN|NO1  Nuclear - BZN|NO1  Other - BZN|NO1  \\\n0              n/e                n/e              n/e   \n1              n/e                n/e              n/e   \n2              n/e                n/e              n/e   \n3              n/e                n/e              n/e   \n4              n/e                n/e              n/e   \n\n  Other renewable - BZN|NO1 Solar - BZN|NO1 Waste - BZN|NO1  \\\n0                       n/e             n/e               8   \n1                       n/e             n/e               8   \n2                       n/e             n/e               8   \n3                       n/e             n/e               8   \n4                       n/e             n/e               8   \n\n  Wind Offshore - BZN|NO1 Wind Onshore - BZN|NO1  \n0                     n/e                    172  \n1                     n/e                    151  \n2                     n/e                    160  \n3                     n/e                    148  \n4                     n/e                    147  \n\n[5 rows x 23 columns]",
      "text/html": "<div>\n<style scoped>\n    .dataframe tbody tr th:only-of-type {\n        vertical-align: middle;\n    }\n\n    .dataframe tbody tr th {\n        vertical-align: top;\n    }\n\n    .dataframe thead th {\n        text-align: right;\n    }\n</style>\n<table border=\"1\" class=\"dataframe\">\n  <thead>\n    <tr style=\"text-align: right;\">\n      <th></th>\n      <th>Area</th>\n      <th>MTU (UTC)</th>\n      <th>Biomass - BZN|NO1</th>\n      <th>Fossil Brown coal/Lignite - BZN|NO1</th>\n      <th>Fossil Coal-derived gas - BZN|NO1</th>\n      <th>Fossil Gas - BZN|NO1</th>\n      <th>Fossil Hard coal - BZN|NO1</th>\n      <th>Fossil Oil - BZN|NO1</th>\n      <th>Fossil Oil shale - BZN|NO1</th>\n      <th>Fossil Peat - BZN|NO1</th>\n      <th>...</th>\n      <th>Hydro Run-of-river and poundage - BZN|NO1</th>\n      <th>Hydro Water Reservoir - BZN|NO1</th>\n      <th>Marine - BZN|NO1</th>\n      <th>Nuclear - BZN|NO1</th>\n      <th>Other - BZN|NO1</th>\n      <th>Other renewable - BZN|NO1</th>\n      <th>Solar - BZN|NO1</th>\n      <th>Waste - BZN|NO1</th>\n      <th>Wind Offshore - BZN|NO1</th>\n      <th>Wind Onshore - BZN|NO1</th>\n    </tr>\n  </thead>\n  <tbody>\n    <tr>\n      <th>0</th>\n      <td>BZN|NO1</td>\n      <td>01.01.2022 00:00 - 01.01.2022 01:00 (UTC)</td>\n      <td>0</td>\n      <td>n/e</td>\n      <td>n/e</td>\n      <td>0</td>\n      <td>n/e</td>\n      <td>n/e</td>\n      <td>n/e</td>\n      <td>n/e</td>\n      <td>...</td>\n      <td>878</td>\n      <td>321</td>\n      <td>n/e</td>\n      <td>n/e</td>\n      <td>n/e</td>\n      <td>n/e</td>\n      <td>n/e</td>\n      <td>8</td>\n      <td>n/e</td>\n      <td>172</td>\n    </tr>\n    <tr>\n      <th>1</th>\n      <td>BZN|NO1</td>\n      <td>01.01.2022 01:00 - 01.01.2022 02:00 (UTC)</td>\n      <td>0</td>\n      <td>n/e</td>\n      <td>n/e</td>\n      <td>0</td>\n      <td>n/e</td>\n      <td>n/e</td>\n      <td>n/e</td>\n      <td>n/e</td>\n      <td>...</td>\n      <td>897</td>\n      <td>330</td>\n      <td>n/e</td>\n      <td>n/e</td>\n      <td>n/e</td>\n      <td>n/e</td>\n      <td>n/e</td>\n      <td>8</td>\n      <td>n/e</td>\n      <td>151</td>\n    </tr>\n    <tr>\n      <th>2</th>\n      <td>BZN|NO1</td>\n      <td>01.01.2022 02:00 - 01.01.2022 03:00 (UTC)</td>\n      <td>0</td>\n      <td>n/e</td>\n      <td>n/e</td>\n      <td>0</td>\n      <td>n/e</td>\n      <td>n/e</td>\n      <td>n/e</td>\n      <td>n/e</td>\n      <td>...</td>\n      <td>885</td>\n      <td>275</td>\n      <td>n/e</td>\n      <td>n/e</td>\n      <td>n/e</td>\n      <td>n/e</td>\n      <td>n/e</td>\n      <td>8</td>\n      <td>n/e</td>\n      <td>160</td>\n    </tr>\n    <tr>\n      <th>3</th>\n      <td>BZN|NO1</td>\n      <td>01.01.2022 03:00 - 01.01.2022 04:00 (UTC)</td>\n      <td>0</td>\n      <td>n/e</td>\n      <td>n/e</td>\n      <td>0</td>\n      <td>n/e</td>\n      <td>n/e</td>\n      <td>n/e</td>\n      <td>n/e</td>\n      <td>...</td>\n      <td>890</td>\n      <td>269</td>\n      <td>n/e</td>\n      <td>n/e</td>\n      <td>n/e</td>\n      <td>n/e</td>\n      <td>n/e</td>\n      <td>8</td>\n      <td>n/e</td>\n      <td>148</td>\n    </tr>\n    <tr>\n      <th>4</th>\n      <td>BZN|NO1</td>\n      <td>01.01.2022 04:00 - 01.01.2022 05:00 (UTC)</td>\n      <td>0</td>\n      <td>n/e</td>\n      <td>n/e</td>\n      <td>0</td>\n      <td>n/e</td>\n      <td>n/e</td>\n      <td>n/e</td>\n      <td>n/e</td>\n      <td>...</td>\n      <td>892</td>\n      <td>300</td>\n      <td>n/e</td>\n      <td>n/e</td>\n      <td>n/e</td>\n      <td>n/e</td>\n      <td>n/e</td>\n      <td>8</td>\n      <td>n/e</td>\n      <td>147</td>\n    </tr>\n  </tbody>\n</table>\n<p>5 rows × 23 columns</p>\n</div>"
     },
     "execution_count": 39,
     "metadata": {},
     "output_type": "execute_result"
    }
   ],
   "source": [
    "# Renaming every column to have zones instead of using a column for 'Area'\n",
    "actual_generation_no1.columns = ['Area',\n",
    "                                 'MTU (UTC)',\n",
    "                                 'Biomass - BZN|NO1',\n",
    "                                 'Fossil Brown coal/Lignite - BZN|NO1',\n",
    "                                 'Fossil Coal-derived gas - BZN|NO1',\n",
    "                                 'Fossil Gas - BZN|NO1',\n",
    "                                 'Fossil Hard coal - BZN|NO1',\n",
    "                                 'Fossil Oil - BZN|NO1',\n",
    "                                 'Fossil Oil shale - BZN|NO1',\n",
    "                                 'Fossil Peat - BZN|NO1',\n",
    "                                 'Geothermal - BZN|NO1',\n",
    "                                 'Hydro Pumped Storage Aggregated- BZN|NO1',\n",
    "                                 'Hydro Pumped Storage Consumption - BZN|NO1',\n",
    "                                 'Hydro Run-of-river and poundage - BZN|NO1',\n",
    "                                 'Hydro Water Reservoir - BZN|NO1',\n",
    "                                 'Marine - BZN|NO1',\n",
    "                                 'Nuclear - BZN|NO1',\n",
    "                                 'Other - BZN|NO1',\n",
    "                                 'Other renewable - BZN|NO1',\n",
    "                                 'Solar - BZN|NO1',\n",
    "                                 'Waste - BZN|NO1',\n",
    "                                 'Wind Offshore - BZN|NO1',\n",
    "                                 'Wind Onshore - BZN|NO1'\n",
    "                                 ]\n",
    "actual_generation_no1_2020.columns = ['Area',\n",
    "                              'MTU (UTC)',\n",
    "                              'Biomass - BZN|NO1',\n",
    "                              'Fossil Brown coal/Lignite - BZN|NO1',\n",
    "                              'Fossil Coal-derived gas - BZN|NO1',\n",
    "                              'Fossil Gas - BZN|NO1',\n",
    "                              'Fossil Hard coal - BZN|NO1',\n",
    "                              'Fossil Oil - BZN|NO1',\n",
    "                              'Fossil Oil shale - BZN|NO1',\n",
    "                              'Fossil Peat - BZN|NO1',\n",
    "                              'Geothermal - BZN|NO1',\n",
    "                              'Hydro Pumped Storage Aggregated- BZN|NO1',\n",
    "                              'Hydro Pumped Storage Consumption - BZN|NO1',\n",
    "                              'Hydro Run-of-river and poundage - BZN|NO1',\n",
    "                              'Hydro Water Reservoir - BZN|NO1',\n",
    "                              'Marine - BZN|NO1',\n",
    "                              'Nuclear - BZN|NO1',\n",
    "                              'Other - BZN|NO1',\n",
    "                              'Other renewable - BZN|NO1',\n",
    "                              'Solar - BZN|NO1',\n",
    "                              'Waste - BZN|NO1',\n",
    "                              'Wind Offshore - BZN|NO1',\n",
    "                              'Wind Onshore - BZN|NO1'\n",
    "                              ]\n",
    "actual_generation_no1_2021.columns = ['Area',\n",
    "                              'MTU (UTC)',\n",
    "                              'Biomass - BZN|NO1',\n",
    "                              'Fossil Brown coal/Lignite - BZN|NO1',\n",
    "                              'Fossil Coal-derived gas - BZN|NO1',\n",
    "                              'Fossil Gas - BZN|NO1',\n",
    "                              'Fossil Hard coal - BZN|NO1',\n",
    "                              'Fossil Oil - BZN|NO1',\n",
    "                              'Fossil Oil shale - BZN|NO1',\n",
    "                              'Fossil Peat - BZN|NO1',\n",
    "                              'Geothermal - BZN|NO1',\n",
    "                              'Hydro Pumped Storage Aggregated- BZN|NO1',\n",
    "                              'Hydro Pumped Storage Consumption - BZN|NO1',\n",
    "                              'Hydro Run-of-river and poundage - BZN|NO1',\n",
    "                              'Hydro Water Reservoir - BZN|NO1',\n",
    "                              'Marine - BZN|NO1',\n",
    "                              'Nuclear - BZN|NO1',\n",
    "                              'Other - BZN|NO1',\n",
    "                              'Other renewable - BZN|NO1',\n",
    "                              'Solar - BZN|NO1',\n",
    "                              'Waste - BZN|NO1',\n",
    "                              'Wind Offshore - BZN|NO1',\n",
    "                              'Wind Onshore - BZN|NO1'\n",
    "                              ]\n",
    "actual_generation_no2.columns = ['Area',\n",
    "                                 'MTU (UTC)',\n",
    "                                 'Biomass - BZN|NO2',\n",
    "                                 'Fossil Brown coal/Lignite - BZN|NO2',\n",
    "                                 'Fossil Coal-derived gas - BZN|NO2',\n",
    "                                 'Fossil Gas - BZN|NO2',\n",
    "                                 'Fossil Hard coal - BZN|NO2',\n",
    "                                 'Fossil Oil - BZN|NO2',\n",
    "                                 'Fossil Oil shale - BZN|NO2',\n",
    "                                 'Fossil Peat - BZN|NO2',\n",
    "                                 'Geothermal - BZN|NO2',\n",
    "                                 'Hydro Pumped Storage Aggregated- BZN|NO2',\n",
    "                                 'Hydro Pumped Storage Consumption - BZN|NO2',\n",
    "                                 'Hydro Run-of-river and poundage - BZN|NO2',\n",
    "                                 'Hydro Water Reservoir - BZN|NO2',\n",
    "                                 'Marine - BZN|NO2',\n",
    "                                 'Nuclear - BZN|NO2',\n",
    "                                 'Other - BZN|NO2',\n",
    "                                 'Other renewable - BZN|NO2',\n",
    "                                 'Solar - BZN|NO2',\n",
    "                                 'Waste - BZN|NO2',\n",
    "                                 'Wind Offshore - BZN|NO2',\n",
    "                                 'Wind Onshore - BZN|NO2'\n",
    "                                 ]\n",
    "actual_generation_no2_2020.columns = ['Area',\n",
    "                              'MTU (UTC)',\n",
    "                              'Biomass - BZN|NO2',\n",
    "                              'Fossil Brown coal/Lignite - BZN|NO2',\n",
    "                              'Fossil Coal-derived gas - BZN|NO2',\n",
    "                              'Fossil Gas - BZN|NO2',\n",
    "                              'Fossil Hard coal - BZN|NO2',\n",
    "                              'Fossil Oil - BZN|NO2',\n",
    "                              'Fossil Oil shale - BZN|NO2',\n",
    "                              'Fossil Peat - BZN|NO2',\n",
    "                              'Geothermal - BZN|NO2',\n",
    "                              'Hydro Pumped Storage Aggregated- BZN|NO2',\n",
    "                              'Hydro Pumped Storage Consumption - BZN|NO2',\n",
    "                              'Hydro Run-of-river and poundage - BZN|NO2',\n",
    "                              'Hydro Water Reservoir - BZN|NO2',\n",
    "                              'Marine - BZN|NO2',\n",
    "                              'Nuclear - BZN|NO2',\n",
    "                              'Other - BZN|NO2',\n",
    "                              'Other renewable - BZN|NO2',\n",
    "                              'Solar - BZN|NO2',\n",
    "                              'Waste - BZN|NO2',\n",
    "                              'Wind Offshore - BZN|NO2',\n",
    "                              'Wind Onshore - BZN|NO2'\n",
    "                              ]\n",
    "actual_generation_no2_2021.columns = ['Area',\n",
    "                              'MTU (UTC)',\n",
    "                              'Biomass - BZN|NO2',\n",
    "                              'Fossil Brown coal/Lignite - BZN|NO2',\n",
    "                              'Fossil Coal-derived gas - BZN|NO2',\n",
    "                              'Fossil Gas - BZN|NO2',\n",
    "                              'Fossil Hard coal - BZN|NO2',\n",
    "                              'Fossil Oil - BZN|NO2',\n",
    "                              'Fossil Oil shale - BZN|NO2',\n",
    "                              'Fossil Peat - BZN|NO2',\n",
    "                              'Geothermal - BZN|NO2',\n",
    "                              'Hydro Pumped Storage Aggregated- BZN|NO2',\n",
    "                              'Hydro Pumped Storage Consumption - BZN|NO2',\n",
    "                              'Hydro Run-of-river and poundage - BZN|NO2',\n",
    "                              'Hydro Water Reservoir - BZN|NO2',\n",
    "                              'Marine - BZN|NO2',\n",
    "                              'Nuclear - BZN|NO2',\n",
    "                              'Other - BZN|NO2',\n",
    "                              'Other renewable - BZN|NO2',\n",
    "                              'Solar - BZN|NO2',\n",
    "                              'Waste - BZN|NO2',\n",
    "                              'Wind Offshore - BZN|NO2',\n",
    "                              'Wind Onshore - BZN|NO2'\n",
    "                              ]\n",
    "actual_generation_no3.columns = ['Area',\n",
    "                                 'MTU (UTC)',\n",
    "                                 'Biomass - BZN|NO3',\n",
    "                                 'Fossil Brown coal/Lignite - BZN|NO3',\n",
    "                                 'Fossil Coal-derived gas - BZN|NO3',\n",
    "                                 'Fossil Gas - BZN|NO3',\n",
    "                                 'Fossil Hard coal - BZN|NO3',\n",
    "                                 'Fossil Oil - BZN|NO3',\n",
    "                                 'Fossil Oil shale - BZN|NO3',\n",
    "                                 'Fossil Peat - BZN|NO3',\n",
    "                                 'Geothermal - BZN|NO3',\n",
    "                                 'Hydro Pumped Storage Aggregated- BZN|NO3',\n",
    "                                 'Hydro Pumped Storage Consumption - BZN|NO3',\n",
    "                                 'Hydro Run-of-river and poundage - BZN|NO3',\n",
    "                                 'Hydro Water Reservoir - BZN|NO3',\n",
    "                                 'Marine - BZN|NO3',\n",
    "                                 'Nuclear - BZN|NO3',\n",
    "                                 'Other - BZN|NO3',\n",
    "                                 'Other renewable - BZN|NO3',\n",
    "                                 'Solar - BZN|NO3',\n",
    "                                 'Waste - BZN|NO3',\n",
    "                                 'Wind Offshore - BZN|NO3',\n",
    "                                 'Wind Onshore - BZN|NO3'\n",
    "                                 ]\n",
    "actual_generation_no3_2020.columns = ['Area',\n",
    "                              'MTU (UTC)',\n",
    "                              'Biomass - BZN|NO3',\n",
    "                              'Fossil Brown coal/Lignite - BZN|NO3',\n",
    "                              'Fossil Coal-derived gas - BZN|NO3',\n",
    "                              'Fossil Gas - BZN|NO3',\n",
    "                              'Fossil Hard coal - BZN|NO3',\n",
    "                              'Fossil Oil - BZN|NO3',\n",
    "                              'Fossil Oil shale - BZN|NO3',\n",
    "                              'Fossil Peat - BZN|NO3',\n",
    "                              'Geothermal - BZN|NO3',\n",
    "                              'Hydro Pumped Storage Aggregated- BZN|NO3',\n",
    "                              'Hydro Pumped Storage Consumption - BZN|NO3',\n",
    "                              'Hydro Run-of-river and poundage - BZN|NO3',\n",
    "                              'Hydro Water Reservoir - BZN|NO3',\n",
    "                              'Marine - BZN|NO3',\n",
    "                              'Nuclear - BZN|NO3',\n",
    "                              'Other - BZN|NO3',\n",
    "                              'Other renewable - BZN|NO3',\n",
    "                              'Solar - BZN|NO3',\n",
    "                              'Waste - BZN|NO3',\n",
    "                              'Wind Offshore - BZN|NO3',\n",
    "                              'Wind Onshore - BZN|NO3'\n",
    "                              ]\n",
    "actual_generation_no3_2021.columns = ['Area',\n",
    "                              'MTU (UTC)',\n",
    "                              'Biomass - BZN|NO3',\n",
    "                              'Fossil Brown coal/Lignite - BZN|NO3',\n",
    "                              'Fossil Coal-derived gas - BZN|NO3',\n",
    "                              'Fossil Gas - BZN|NO3',\n",
    "                              'Fossil Hard coal - BZN|NO3',\n",
    "                              'Fossil Oil - BZN|NO3',\n",
    "                              'Fossil Oil shale - BZN|NO3',\n",
    "                              'Fossil Peat - BZN|NO3',\n",
    "                              'Geothermal - BZN|NO3',\n",
    "                              'Hydro Pumped Storage Aggregated- BZN|NO3',\n",
    "                              'Hydro Pumped Storage Consumption - BZN|NO3',\n",
    "                              'Hydro Run-of-river and poundage - BZN|NO3',\n",
    "                              'Hydro Water Reservoir - BZN|NO3',\n",
    "                              'Marine - BZN|NO3',\n",
    "                              'Nuclear - BZN|NO3',\n",
    "                              'Other - BZN|NO3',\n",
    "                              'Other renewable - BZN|NO3',\n",
    "                              'Solar - BZN|NO3',\n",
    "                              'Waste - BZN|NO3',\n",
    "                              'Wind Offshore - BZN|NO3',\n",
    "                              'Wind Onshore - BZN|NO3'\n",
    "                              ]\n",
    "actual_generation_no5.columns = ['Area',\n",
    "                                 'MTU (UTC)',\n",
    "                                 'Biomass - BZN|NO5',\n",
    "                                 'Fossil Brown coal/Lignite - BZN|NO5',\n",
    "                                 'Fossil Coal-derived gas - BZN|NO5',\n",
    "                                 'Fossil Gas - BZN|NO5',\n",
    "                                 'Fossil Hard coal - BZN|NO5',\n",
    "                                 'Fossil Oil - BZN|NO5',\n",
    "                                 'Fossil Oil shale - BZN|NO5',\n",
    "                                 'Fossil Peat - BZN|NO5',\n",
    "                                 'Geothermal - BZN|NO5',\n",
    "                                 'Hydro Pumped Storage Aggregated- BZN|NO5',\n",
    "                                 'Hydro Pumped Storage Consumption - BZN|NO5',\n",
    "                                 'Hydro Run-of-river and poundage - BZN|NO5',\n",
    "                                 'Hydro Water Reservoir - BZN|NO5',\n",
    "                                 'Marine - BZN|NO5',\n",
    "                                 'Nuclear - BZN|NO5',\n",
    "                                 'Other - BZN|NO5',\n",
    "                                 'Other renewable - BZN|NO5',\n",
    "                                 'Solar - BZN|NO5',\n",
    "                                 'Waste - BZN|NO5',\n",
    "                                 'Wind Offshore - BZN|NO5',\n",
    "                                 'Wind Onshore - BZN|NO5'\n",
    "                                 ]\n",
    "actual_generation_no5_2020.columns = ['Area',\n",
    "                              'MTU (UTC)',\n",
    "                              'Biomass - BZN|NO5',\n",
    "                              'Fossil Brown coal/Lignite - BZN|NO5',\n",
    "                              'Fossil Coal-derived gas - BZN|NO5',\n",
    "                              'Fossil Gas - BZN|NO5',\n",
    "                              'Fossil Hard coal - BZN|NO5',\n",
    "                              'Fossil Oil - BZN|NO5',\n",
    "                              'Fossil Oil shale - BZN|NO5',\n",
    "                              'Fossil Peat - BZN|NO5',\n",
    "                              'Geothermal - BZN|NO5',\n",
    "                              'Hydro Pumped Storage Aggregated- BZN|NO5',\n",
    "                              'Hydro Pumped Storage Consumption - BZN|NO5',\n",
    "                              'Hydro Run-of-river and poundage - BZN|NO5',\n",
    "                              'Hydro Water Reservoir - BZN|NO5',\n",
    "                              'Marine - BZN|NO5',\n",
    "                              'Nuclear - BZN|NO5',\n",
    "                              'Other - BZN|NO5',\n",
    "                              'Other renewable - BZN|NO5',\n",
    "                              'Solar - BZN|NO5',\n",
    "                              'Waste - BZN|NO5',\n",
    "                              'Wind Offshore - BZN|NO5',\n",
    "                              'Wind Onshore - BZN|NO5'\n",
    "                              ]\n",
    "actual_generation_no5_2021.columns = ['Area',\n",
    "                              'MTU (UTC)',\n",
    "                              'Biomass - BZN|NO5',\n",
    "                              'Fossil Brown coal/Lignite - BZN|NO5',\n",
    "                              'Fossil Coal-derived gas - BZN|NO5',\n",
    "                              'Fossil Gas - BZN|NO5',\n",
    "                              'Fossil Hard coal - BZN|NO5',\n",
    "                              'Fossil Oil - BZN|NO5',\n",
    "                              'Fossil Oil shale - BZN|NO5',\n",
    "                              'Fossil Peat - BZN|NO5',\n",
    "                              'Geothermal - BZN|NO5',\n",
    "                              'Hydro Pumped Storage Aggregated- BZN|NO5',\n",
    "                              'Hydro Pumped Storage Consumption - BZN|NO5',\n",
    "                              'Hydro Run-of-river and poundage - BZN|NO5',\n",
    "                              'Hydro Water Reservoir - BZN|NO5',\n",
    "                              'Marine - BZN|NO5',\n",
    "                              'Nuclear - BZN|NO5',\n",
    "                              'Other - BZN|NO5',\n",
    "                              'Other renewable - BZN|NO5',\n",
    "                              'Solar - BZN|NO5',\n",
    "                              'Waste - BZN|NO5',\n",
    "                              'Wind Offshore - BZN|NO5',\n",
    "                              'Wind Onshore - BZN|NO5'\n",
    "                              ]\n",
    "actual_generation_se3.columns = ['Area',\n",
    "                                 'MTU (UTC)',\n",
    "                                 'Biomass - BZN|SE3',\n",
    "                                 'Fossil Brown coal/Lignite - BZN|SE3',\n",
    "                                 'Fossil Coal-derived gas - BZN|SE3',\n",
    "                                 'Fossil Gas - BZN|SE3',\n",
    "                                 'Fossil Hard coal - BZN|SE3',\n",
    "                                 'Fossil Oil - BZN|SE3',\n",
    "                                 'Fossil Oil shale - BZN|SE3',\n",
    "                                 'Fossil Peat - BZN|SE3',\n",
    "                                 'Geothermal - BZN|SE3',\n",
    "                                 'Hydro Pumped Storage Aggregated- BZN|SE3',\n",
    "                                 'Hydro Pumped Storage Consumption - BZN|SE3',\n",
    "                                 'Hydro Run-of-river and poundage - BZN|SE3',\n",
    "                                 'Hydro Water Reservoir - BZN|SE3',\n",
    "                                 'Marine - BZN|SE3',\n",
    "                                 'Nuclear - BZN|SE3',\n",
    "                                 'Other - BZN|SE3',\n",
    "                                 'Other renewable - BZN|SE3',\n",
    "                                 'Solar - BZN|SE3',\n",
    "                                 'Waste - BZN|SE3',\n",
    "                                 'Wind Offshore - BZN|SE3',\n",
    "                                 'Wind Onshore - BZN|SE3'\n",
    "                                 ]\n",
    "actual_generation_se3_2020.columns = ['Area',\n",
    "                              'MTU (UTC)',\n",
    "                              'Biomass - BZN|SE3',\n",
    "                              'Fossil Brown coal/Lignite - BZN|SE3',\n",
    "                              'Fossil Coal-derived gas - BZN|SE3',\n",
    "                              'Fossil Gas - BZN|SE3',\n",
    "                              'Fossil Hard coal - BZN|SE3',\n",
    "                              'Fossil Oil - BZN|SE3',\n",
    "                              'Fossil Oil shale - BZN|SE3',\n",
    "                              'Fossil Peat - BZN|SE3',\n",
    "                              'Geothermal - BZN|SE3',\n",
    "                              'Hydro Pumped Storage Aggregated- BZN|SE3',\n",
    "                              'Hydro Pumped Storage Consumption - BZN|SE3',\n",
    "                              'Hydro Run-of-river and poundage - BZN|SE3',\n",
    "                              'Hydro Water Reservoir - BZN|SE3',\n",
    "                              'Marine - BZN|SE3',\n",
    "                              'Nuclear - BZN|SE3',\n",
    "                              'Other - BZN|SE3',\n",
    "                              'Other renewable - BZN|SE3',\n",
    "                              'Solar - BZN|SE3',\n",
    "                              'Waste - BZN|SE3',\n",
    "                              'Wind Offshore - BZN|SE3',\n",
    "                              'Wind Onshore - BZN|SE3'\n",
    "                              ]\n",
    "actual_generation_se3_2021.columns = ['Area',\n",
    "                              'MTU (UTC)',\n",
    "                              'Biomass - BZN|SE3',\n",
    "                              'Fossil Brown coal/Lignite - BZN|SE3',\n",
    "                              'Fossil Coal-derived gas - BZN|SE3',\n",
    "                              'Fossil Gas - BZN|SE3',\n",
    "                              'Fossil Hard coal - BZN|SE3',\n",
    "                              'Fossil Oil - BZN|SE3',\n",
    "                              'Fossil Oil shale - BZN|SE3',\n",
    "                              'Fossil Peat - BZN|SE3',\n",
    "                              'Geothermal - BZN|SE3',\n",
    "                              'Hydro Pumped Storage Aggregated- BZN|SE3',\n",
    "                              'Hydro Pumped Storage Consumption - BZN|SE3',\n",
    "                              'Hydro Run-of-river and poundage - BZN|SE3',\n",
    "                              'Hydro Water Reservoir - BZN|SE3',\n",
    "                              'Marine - BZN|SE3',\n",
    "                              'Nuclear - BZN|SE3',\n",
    "                              'Other - BZN|SE3',\n",
    "                              'Other renewable - BZN|SE3',\n",
    "                              'Solar - BZN|SE3',\n",
    "                              'Waste - BZN|SE3',\n",
    "                              'Wind Offshore - BZN|SE3',\n",
    "                              'Wind Onshore - BZN|SE3'\n",
    "                              ]\n",
    "actual_generation_no1.head()"
   ]
  },
  {
   "cell_type": "code",
   "execution_count": 40,
   "id": "a9521cc0",
   "metadata": {},
   "outputs": [
    {
     "data": {
      "text/plain": "                                   MTU (UTC)  Biomass - BZN|NO1  \\\n0  01.01.2022 00:00 - 01.01.2022 01:00 (UTC)                  0   \n1  01.01.2022 01:00 - 01.01.2022 02:00 (UTC)                  0   \n2  01.01.2022 02:00 - 01.01.2022 03:00 (UTC)                  0   \n3  01.01.2022 03:00 - 01.01.2022 04:00 (UTC)                  0   \n4  01.01.2022 04:00 - 01.01.2022 05:00 (UTC)                  0   \n\n  Fossil Brown coal/Lignite - BZN|NO1 Fossil Coal-derived gas - BZN|NO1  \\\n0                                 n/e                               n/e   \n1                                 n/e                               n/e   \n2                                 n/e                               n/e   \n3                                 n/e                               n/e   \n4                                 n/e                               n/e   \n\n   Fossil Gas - BZN|NO1 Fossil Hard coal - BZN|NO1 Fossil Oil - BZN|NO1  \\\n0                     0                        n/e                  n/e   \n1                     0                        n/e                  n/e   \n2                     0                        n/e                  n/e   \n3                     0                        n/e                  n/e   \n4                     0                        n/e                  n/e   \n\n  Fossil Oil shale - BZN|NO1 Fossil Peat - BZN|NO1 Geothermal - BZN|NO1  ...  \\\n0                        n/e                   n/e                  n/e  ...   \n1                        n/e                   n/e                  n/e  ...   \n2                        n/e                   n/e                  n/e  ...   \n3                        n/e                   n/e                  n/e  ...   \n4                        n/e                   n/e                  n/e  ...   \n\n  Hydro Run-of-river and poundage - BZN|NO1 Hydro Water Reservoir - BZN|NO1  \\\n0                                       878                             321   \n1                                       897                             330   \n2                                       885                             275   \n3                                       890                             269   \n4                                       892                             300   \n\n   Marine - BZN|NO1  Nuclear - BZN|NO1 Other - BZN|NO1  \\\n0               n/e                n/e             n/e   \n1               n/e                n/e             n/e   \n2               n/e                n/e             n/e   \n3               n/e                n/e             n/e   \n4               n/e                n/e             n/e   \n\n  Other renewable - BZN|NO1 Solar - BZN|NO1 Waste - BZN|NO1  \\\n0                       n/e             n/e               8   \n1                       n/e             n/e               8   \n2                       n/e             n/e               8   \n3                       n/e             n/e               8   \n4                       n/e             n/e               8   \n\n  Wind Offshore - BZN|NO1  Wind Onshore - BZN|NO1  \n0                     n/e                     172  \n1                     n/e                     151  \n2                     n/e                     160  \n3                     n/e                     148  \n4                     n/e                     147  \n\n[5 rows x 22 columns]",
      "text/html": "<div>\n<style scoped>\n    .dataframe tbody tr th:only-of-type {\n        vertical-align: middle;\n    }\n\n    .dataframe tbody tr th {\n        vertical-align: top;\n    }\n\n    .dataframe thead th {\n        text-align: right;\n    }\n</style>\n<table border=\"1\" class=\"dataframe\">\n  <thead>\n    <tr style=\"text-align: right;\">\n      <th></th>\n      <th>MTU (UTC)</th>\n      <th>Biomass - BZN|NO1</th>\n      <th>Fossil Brown coal/Lignite - BZN|NO1</th>\n      <th>Fossil Coal-derived gas - BZN|NO1</th>\n      <th>Fossil Gas - BZN|NO1</th>\n      <th>Fossil Hard coal - BZN|NO1</th>\n      <th>Fossil Oil - BZN|NO1</th>\n      <th>Fossil Oil shale - BZN|NO1</th>\n      <th>Fossil Peat - BZN|NO1</th>\n      <th>Geothermal - BZN|NO1</th>\n      <th>...</th>\n      <th>Hydro Run-of-river and poundage - BZN|NO1</th>\n      <th>Hydro Water Reservoir - BZN|NO1</th>\n      <th>Marine - BZN|NO1</th>\n      <th>Nuclear - BZN|NO1</th>\n      <th>Other - BZN|NO1</th>\n      <th>Other renewable - BZN|NO1</th>\n      <th>Solar - BZN|NO1</th>\n      <th>Waste - BZN|NO1</th>\n      <th>Wind Offshore - BZN|NO1</th>\n      <th>Wind Onshore - BZN|NO1</th>\n    </tr>\n  </thead>\n  <tbody>\n    <tr>\n      <th>0</th>\n      <td>01.01.2022 00:00 - 01.01.2022 01:00 (UTC)</td>\n      <td>0</td>\n      <td>n/e</td>\n      <td>n/e</td>\n      <td>0</td>\n      <td>n/e</td>\n      <td>n/e</td>\n      <td>n/e</td>\n      <td>n/e</td>\n      <td>n/e</td>\n      <td>...</td>\n      <td>878</td>\n      <td>321</td>\n      <td>n/e</td>\n      <td>n/e</td>\n      <td>n/e</td>\n      <td>n/e</td>\n      <td>n/e</td>\n      <td>8</td>\n      <td>n/e</td>\n      <td>172</td>\n    </tr>\n    <tr>\n      <th>1</th>\n      <td>01.01.2022 01:00 - 01.01.2022 02:00 (UTC)</td>\n      <td>0</td>\n      <td>n/e</td>\n      <td>n/e</td>\n      <td>0</td>\n      <td>n/e</td>\n      <td>n/e</td>\n      <td>n/e</td>\n      <td>n/e</td>\n      <td>n/e</td>\n      <td>...</td>\n      <td>897</td>\n      <td>330</td>\n      <td>n/e</td>\n      <td>n/e</td>\n      <td>n/e</td>\n      <td>n/e</td>\n      <td>n/e</td>\n      <td>8</td>\n      <td>n/e</td>\n      <td>151</td>\n    </tr>\n    <tr>\n      <th>2</th>\n      <td>01.01.2022 02:00 - 01.01.2022 03:00 (UTC)</td>\n      <td>0</td>\n      <td>n/e</td>\n      <td>n/e</td>\n      <td>0</td>\n      <td>n/e</td>\n      <td>n/e</td>\n      <td>n/e</td>\n      <td>n/e</td>\n      <td>n/e</td>\n      <td>...</td>\n      <td>885</td>\n      <td>275</td>\n      <td>n/e</td>\n      <td>n/e</td>\n      <td>n/e</td>\n      <td>n/e</td>\n      <td>n/e</td>\n      <td>8</td>\n      <td>n/e</td>\n      <td>160</td>\n    </tr>\n    <tr>\n      <th>3</th>\n      <td>01.01.2022 03:00 - 01.01.2022 04:00 (UTC)</td>\n      <td>0</td>\n      <td>n/e</td>\n      <td>n/e</td>\n      <td>0</td>\n      <td>n/e</td>\n      <td>n/e</td>\n      <td>n/e</td>\n      <td>n/e</td>\n      <td>n/e</td>\n      <td>...</td>\n      <td>890</td>\n      <td>269</td>\n      <td>n/e</td>\n      <td>n/e</td>\n      <td>n/e</td>\n      <td>n/e</td>\n      <td>n/e</td>\n      <td>8</td>\n      <td>n/e</td>\n      <td>148</td>\n    </tr>\n    <tr>\n      <th>4</th>\n      <td>01.01.2022 04:00 - 01.01.2022 05:00 (UTC)</td>\n      <td>0</td>\n      <td>n/e</td>\n      <td>n/e</td>\n      <td>0</td>\n      <td>n/e</td>\n      <td>n/e</td>\n      <td>n/e</td>\n      <td>n/e</td>\n      <td>n/e</td>\n      <td>...</td>\n      <td>892</td>\n      <td>300</td>\n      <td>n/e</td>\n      <td>n/e</td>\n      <td>n/e</td>\n      <td>n/e</td>\n      <td>n/e</td>\n      <td>8</td>\n      <td>n/e</td>\n      <td>147</td>\n    </tr>\n  </tbody>\n</table>\n<p>5 rows × 22 columns</p>\n</div>"
     },
     "execution_count": 40,
     "metadata": {},
     "output_type": "execute_result"
    }
   ],
   "source": [
    "# Dropping area because we keep the zone name in the column name\n",
    "actual_generation_no1 = actual_generation_no1.drop(['Area'], axis=1)\n",
    "actual_generation_no1_2020 = actual_generation_no1_2020.drop(['Area'], axis=1)\n",
    "actual_generation_no1_2021 = actual_generation_no1_2021.drop(['Area'], axis=1)\n",
    "actual_generation_no2 = actual_generation_no2.drop(['Area'], axis=1)\n",
    "actual_generation_no2_2020 = actual_generation_no2_2020.drop(['Area'], axis=1)\n",
    "actual_generation_no2_2021 = actual_generation_no2_2021.drop(['Area'], axis=1)\n",
    "actual_generation_no3 = actual_generation_no3.drop(['Area'], axis=1)\n",
    "actual_generation_no3_2020 = actual_generation_no3_2020.drop(['Area'], axis=1)\n",
    "actual_generation_no3_2021 = actual_generation_no3_2021.drop(['Area'], axis=1)\n",
    "actual_generation_no5 = actual_generation_no5.drop(['Area'], axis=1)\n",
    "actual_generation_no5_2020 = actual_generation_no5_2020.drop(['Area'], axis=1)\n",
    "actual_generation_no5_2021 = actual_generation_no5_2021.drop(['Area'], axis=1)\n",
    "actual_generation_se3 = actual_generation_se3.drop(['Area'], axis=1)\n",
    "actual_generation_se3_2020 = actual_generation_se3_2020.drop(['Area'], axis=1)\n",
    "actual_generation_se3_2021 = actual_generation_se3_2021.drop(['Area'], axis=1)\n",
    "actual_generation_no1.head()"
   ]
  },
  {
   "cell_type": "code",
   "execution_count": 41,
   "id": "85aa7399",
   "metadata": {},
   "outputs": [
    {
     "data": {
      "text/plain": "(26304, 22)"
     },
     "execution_count": 41,
     "metadata": {},
     "output_type": "execute_result"
    }
   ],
   "source": [
    "generation_no1 = pd.concat([actual_generation_no1, actual_generation_no1_2020, actual_generation_no1_2021]).sort_values('MTU (UTC)').reset_index(drop=True)\n",
    "generation_no2 = pd.concat([actual_generation_no2, actual_generation_no2_2020, actual_generation_no2_2021]).sort_values('MTU (UTC)').reset_index(drop=True)\n",
    "generation_no3 = pd.concat([actual_generation_no3, actual_generation_no3_2020, actual_generation_no3_2021]).sort_values('MTU (UTC)').reset_index(drop=True)\n",
    "generation_no5 = pd.concat([actual_generation_no5, actual_generation_no5_2020, actual_generation_no5_2021]).sort_values('MTU (UTC)').reset_index(drop=True)\n",
    "generation_se3 = pd.concat([actual_generation_se3, actual_generation_se3_2020, actual_generation_se3_2021]).sort_values('MTU (UTC)').reset_index(drop=True)\n",
    "generation_no1.shape"
   ]
  },
  {
   "cell_type": "code",
   "execution_count": 42,
   "id": "abc56399",
   "metadata": {},
   "outputs": [
    {
     "data": {
      "text/plain": "(26304, 106)"
     },
     "execution_count": 42,
     "metadata": {},
     "output_type": "execute_result"
    }
   ],
   "source": [
    "# Creating one dataframe from the 5 dataframes for each zone\n",
    "actual_generation_dataframes = [generation_no1, generation_no2, generation_no3, generation_no5, generation_se3]\n",
    "actual_generation = reduce(lambda left, right: pd.merge(left,right, on=['MTU (UTC)']), actual_generation_dataframes)\n",
    "\n",
    "# printing out the resulting dataframe\n",
    "actual_generation.shape"
   ]
  },
  {
   "cell_type": "markdown",
   "id": "ed41740a",
   "metadata": {},
   "source": [
    "We have alot of columns which are used in other nations and zones that are redundant to us because there is no power generation from these sources in the zones we are looking at. Therefore, we select only the columns which keep information about power generation in each zone."
   ]
  },
  {
   "cell_type": "code",
   "execution_count": 43,
   "id": "2175f86e",
   "metadata": {},
   "outputs": [
    {
     "data": {
      "text/plain": "MTU (UTC)                                     object\nFossil Gas - BZN|NO1                         float64\nHydro Run-of-river and poundage - BZN|NO1    float64\nHydro Water Reservoir - BZN|NO1              float64\nOther - BZN|NO1                               object\nWaste - BZN|NO1                               object\nWind Onshore - BZN|NO1                       float64\nFossil Gas - BZN|NO2                         float64\nHydro Pumped Storage Aggregated- BZN|NO2      object\nHydro Run-of-river and poundage - BZN|NO2    float64\nHydro Water Reservoir - BZN|NO2              float64\nOther - BZN|NO2                               object\nWaste - BZN|NO2                               object\nWind Onshore - BZN|NO2                       float64\nFossil Gas - BZN|NO3                          object\nHydro Pumped Storage Aggregated- BZN|NO3      object\nHydro Run-of-river and poundage - BZN|NO3    float64\nHydro Water Reservoir - BZN|NO3              float64\nOther - BZN|NO3                              float64\nOther renewable - BZN|NO3                     object\nWaste - BZN|NO3                               object\nWind Onshore - BZN|NO3                       float64\nFossil Gas - BZN|NO5                         float64\nHydro Pumped Storage Aggregated- BZN|NO5      object\nHydro Run-of-river and poundage - BZN|NO5    float64\nHydro Water Reservoir - BZN|NO5              float64\nOther - BZN|NO5                               object\nWaste - BZN|NO5                               object\nFossil Gas - BZN|SE3                          object\nHydro Water Reservoir - BZN|SE3               object\nNuclear - BZN|SE3                             object\nOther - BZN|SE3                               object\nSolar - BZN|SE3                               object\nWind Onshore - BZN|SE3                       float64\ndtype: object"
     },
     "execution_count": 43,
     "metadata": {},
     "output_type": "execute_result"
    }
   ],
   "source": [
    "# Selecting only relevant columns\n",
    "actual_generation_selected = actual_generation[['MTU (UTC)',\n",
    "                                                'Fossil Gas - BZN|NO1',\n",
    "                                                'Hydro Run-of-river and poundage - BZN|NO1',\n",
    "                                                'Hydro Water Reservoir - BZN|NO1',\n",
    "                                                'Other - BZN|NO1',\n",
    "                                                'Waste - BZN|NO1',\n",
    "                                                'Wind Onshore - BZN|NO1',\n",
    "                                                'Fossil Gas - BZN|NO2',\n",
    "                                                'Hydro Pumped Storage Aggregated- BZN|NO2',\n",
    "                                                'Hydro Run-of-river and poundage - BZN|NO2',\n",
    "                                                'Hydro Water Reservoir - BZN|NO2',\n",
    "                                                'Other - BZN|NO2',\n",
    "                                                'Waste - BZN|NO2',\n",
    "                                                'Wind Onshore - BZN|NO2',\n",
    "                                                'Fossil Gas - BZN|NO3',\n",
    "                                                'Hydro Pumped Storage Aggregated- BZN|NO3',\n",
    "                                                'Hydro Run-of-river and poundage - BZN|NO3',\n",
    "                                                'Hydro Water Reservoir - BZN|NO3',\n",
    "                                                'Other - BZN|NO3',\n",
    "                                                'Other renewable - BZN|NO3',\n",
    "                                                'Waste - BZN|NO3',\n",
    "                                                'Wind Onshore - BZN|NO3',\n",
    "                                                'Fossil Gas - BZN|NO5',\n",
    "                                                'Hydro Pumped Storage Aggregated- BZN|NO5',\n",
    "                                                'Hydro Run-of-river and poundage - BZN|NO5',\n",
    "                                                'Hydro Water Reservoir - BZN|NO5',\n",
    "                                                'Other - BZN|NO5',\n",
    "                                                'Waste - BZN|NO5',\n",
    "                                                'Fossil Gas - BZN|SE3',\n",
    "                                                'Hydro Water Reservoir - BZN|SE3',\n",
    "                                                'Nuclear - BZN|SE3',\n",
    "                                                'Other - BZN|SE3',\n",
    "                                                'Solar - BZN|SE3',\n",
    "                                                'Wind Onshore - BZN|SE3']].copy()\n",
    "# printing the head of the resulting dataframe\n",
    "actual_generation_selected.dtypes"
   ]
  },
  {
   "cell_type": "markdown",
   "id": "3a337189",
   "metadata": {},
   "source": [
    "We can see that the formatting of the datetime interval includes (CET/CEST) in the actual values. This extra information will need to be removed so they mach the other datasets, and can be merged on the time column"
   ]
  },
  {
   "cell_type": "code",
   "execution_count": 44,
   "id": "929c8a12",
   "metadata": {},
   "outputs": [],
   "source": [
    "# n/e is not expected data meaning there is no generation from that production type at that time, so we replace with 0\n",
    "actual_generation_selected = actual_generation_selected.replace(['n/e'], 0)"
   ]
  },
  {
   "cell_type": "code",
   "execution_count": 45,
   "id": "6b41f20b",
   "metadata": {},
   "outputs": [
    {
     "data": {
      "text/plain": "MTU (UTC)                                     object\nFossil Gas - BZN|NO1                         float64\nHydro Run-of-river and poundage - BZN|NO1    float64\nHydro Water Reservoir - BZN|NO1              float64\nOther - BZN|NO1                              float64\nWaste - BZN|NO1                              float64\nWind Onshore - BZN|NO1                       float64\nFossil Gas - BZN|NO2                         float64\nHydro Pumped Storage Aggregated- BZN|NO2     float64\nHydro Run-of-river and poundage - BZN|NO2    float64\nHydro Water Reservoir - BZN|NO2              float64\nOther - BZN|NO2                              float64\nWaste - BZN|NO2                              float64\nWind Onshore - BZN|NO2                       float64\nFossil Gas - BZN|NO3                         float64\nHydro Pumped Storage Aggregated- BZN|NO3     float64\nHydro Run-of-river and poundage - BZN|NO3    float64\nHydro Water Reservoir - BZN|NO3              float64\nOther - BZN|NO3                              float64\nOther renewable - BZN|NO3                    float64\nWaste - BZN|NO3                              float64\nWind Onshore - BZN|NO3                       float64\nFossil Gas - BZN|NO5                         float64\nHydro Pumped Storage Aggregated- BZN|NO5     float64\nHydro Run-of-river and poundage - BZN|NO5    float64\nHydro Water Reservoir - BZN|NO5              float64\nOther - BZN|NO5                              float64\nWaste - BZN|NO5                              float64\nFossil Gas - BZN|SE3                         float64\nHydro Water Reservoir - BZN|SE3              float64\nNuclear - BZN|SE3                            float64\nOther - BZN|SE3                              float64\nSolar - BZN|SE3                              float64\nWind Onshore - BZN|SE3                       float64\ndtype: object"
     },
     "execution_count": 45,
     "metadata": {},
     "output_type": "execute_result"
    }
   ],
   "source": [
    "actual_generation_selected['Other - BZN|NO1'] = actual_generation_selected['Other - BZN|NO1'].astype('float')\n",
    "actual_generation_selected['Waste - BZN|NO1'] = actual_generation_selected['Waste - BZN|NO1'].astype('float')\n",
    "actual_generation_selected['Hydro Pumped Storage Aggregated- BZN|NO2'] = actual_generation_selected['Hydro Pumped Storage Aggregated- BZN|NO2'].astype('float')\n",
    "actual_generation_selected['Other - BZN|NO2'] = actual_generation_selected['Other - BZN|NO2'].astype('float')\n",
    "actual_generation_selected['Waste - BZN|NO2'] = actual_generation_selected['Waste - BZN|NO2'].astype('float')\n",
    "actual_generation_selected['Fossil Gas - BZN|NO3'] = actual_generation_selected['Fossil Gas - BZN|NO3'].astype('float')\n",
    "actual_generation_selected['Hydro Pumped Storage Aggregated- BZN|NO3'] = actual_generation_selected['Hydro Pumped Storage Aggregated- BZN|NO3'].astype('float')\n",
    "actual_generation_selected['Other renewable - BZN|NO3'] = actual_generation_selected['Other renewable - BZN|NO3'].astype('float')\n",
    "actual_generation_selected['Waste - BZN|NO3'] = actual_generation_selected['Waste - BZN|NO3'].astype('float')\n",
    "actual_generation_selected['Hydro Pumped Storage Aggregated- BZN|NO5'] = actual_generation_selected['Hydro Pumped Storage Aggregated- BZN|NO5'].astype('float')\n",
    "actual_generation_selected['Other - BZN|NO5'] = actual_generation_selected['Other - BZN|NO5'].astype('float')\n",
    "actual_generation_selected['Waste - BZN|NO5'] = actual_generation_selected['Waste - BZN|NO5'].astype('float')\n",
    "actual_generation_selected['Fossil Gas - BZN|SE3'] = actual_generation_selected['Fossil Gas - BZN|SE3'].astype('float')\n",
    "actual_generation_selected['Hydro Water Reservoir - BZN|SE3'] = actual_generation_selected['Hydro Water Reservoir - BZN|SE3'].astype('float')\n",
    "actual_generation_selected['Nuclear - BZN|SE3'] = actual_generation_selected['Nuclear - BZN|SE3'].astype('float')\n",
    "actual_generation_selected['Other - BZN|SE3'] = actual_generation_selected['Other - BZN|SE3'].astype('float')\n",
    "actual_generation_selected['Solar - BZN|SE3'] = actual_generation_selected['Solar - BZN|SE3'].astype('float')\n",
    "actual_generation_selected.dtypes"
   ]
  },
  {
   "cell_type": "code",
   "execution_count": 46,
   "id": "5f8f8196",
   "metadata": {},
   "outputs": [
    {
     "data": {
      "text/plain": "                             MTU (UTC)  Fossil Gas - BZN|NO1  \\\n0  01.01.2020 00:00 - 01.01.2020 01:00                  25.0   \n1  01.01.2020 01:00 - 01.01.2020 02:00                  25.0   \n2  01.01.2020 02:00 - 01.01.2020 03:00                  25.0   \n3  01.01.2020 03:00 - 01.01.2020 04:00                  25.0   \n4  01.01.2020 04:00 - 01.01.2020 05:00                  25.0   \n\n   Hydro Run-of-river and poundage - BZN|NO1  Hydro Water Reservoir - BZN|NO1  \\\n0                                      727.0                           1130.0   \n1                                      729.0                           1115.0   \n2                                      731.0                           1087.0   \n3                                      731.0                           1058.0   \n4                                      731.0                           1030.0   \n\n   Other - BZN|NO1  Waste - BZN|NO1  Wind Onshore - BZN|NO1  \\\n0              0.0              0.0                   149.0   \n1              0.0              0.0                   153.0   \n2              0.0              0.0                   153.0   \n3              0.0              0.0                   153.0   \n4              0.0              0.0                   155.0   \n\n   Fossil Gas - BZN|NO2  Hydro Pumped Storage Aggregated- BZN|NO2  \\\n0                   4.0                                       0.0   \n1                   4.0                                       0.0   \n2                   4.0                                       0.0   \n3                   4.0                                       0.0   \n4                   4.0                                       0.0   \n\n   Hydro Run-of-river and poundage - BZN|NO2  ...  \\\n0                                      317.0  ...   \n1                                      316.0  ...   \n2                                      316.0  ...   \n3                                      314.0  ...   \n4                                      313.0  ...   \n\n   Hydro Run-of-river and poundage - BZN|NO5  Hydro Water Reservoir - BZN|NO5  \\\n0                                       53.0                           3553.0   \n1                                       52.0                           3326.0   \n2                                       52.0                           2915.0   \n3                                       53.0                           2594.0   \n4                                       52.0                           2392.0   \n\n   Other - BZN|NO5  Waste - BZN|NO5  Fossil Gas - BZN|SE3  \\\n0              0.0              0.0                   0.0   \n1              0.0              0.0                   0.0   \n2              0.0              0.0                   0.0   \n3              0.0              0.0                   0.0   \n4              0.0              0.0                   0.0   \n\n   Hydro Water Reservoir - BZN|SE3  Nuclear - BZN|SE3  Other - BZN|SE3  \\\n0                              0.0                0.0              0.0   \n1                              0.0                0.0              0.0   \n2                              0.0                0.0              0.0   \n3                              0.0                0.0              0.0   \n4                              0.0                0.0              0.0   \n\n   Solar - BZN|SE3  Wind Onshore - BZN|SE3  \n0              0.0                  1594.0  \n1              0.0                  1690.0  \n2              0.0                  1783.0  \n3              0.0                  1900.0  \n4              0.0                  1995.0  \n\n[5 rows x 34 columns]",
      "text/html": "<div>\n<style scoped>\n    .dataframe tbody tr th:only-of-type {\n        vertical-align: middle;\n    }\n\n    .dataframe tbody tr th {\n        vertical-align: top;\n    }\n\n    .dataframe thead th {\n        text-align: right;\n    }\n</style>\n<table border=\"1\" class=\"dataframe\">\n  <thead>\n    <tr style=\"text-align: right;\">\n      <th></th>\n      <th>MTU (UTC)</th>\n      <th>Fossil Gas - BZN|NO1</th>\n      <th>Hydro Run-of-river and poundage - BZN|NO1</th>\n      <th>Hydro Water Reservoir - BZN|NO1</th>\n      <th>Other - BZN|NO1</th>\n      <th>Waste - BZN|NO1</th>\n      <th>Wind Onshore - BZN|NO1</th>\n      <th>Fossil Gas - BZN|NO2</th>\n      <th>Hydro Pumped Storage Aggregated- BZN|NO2</th>\n      <th>Hydro Run-of-river and poundage - BZN|NO2</th>\n      <th>...</th>\n      <th>Hydro Run-of-river and poundage - BZN|NO5</th>\n      <th>Hydro Water Reservoir - BZN|NO5</th>\n      <th>Other - BZN|NO5</th>\n      <th>Waste - BZN|NO5</th>\n      <th>Fossil Gas - BZN|SE3</th>\n      <th>Hydro Water Reservoir - BZN|SE3</th>\n      <th>Nuclear - BZN|SE3</th>\n      <th>Other - BZN|SE3</th>\n      <th>Solar - BZN|SE3</th>\n      <th>Wind Onshore - BZN|SE3</th>\n    </tr>\n  </thead>\n  <tbody>\n    <tr>\n      <th>0</th>\n      <td>01.01.2020 00:00 - 01.01.2020 01:00</td>\n      <td>25.0</td>\n      <td>727.0</td>\n      <td>1130.0</td>\n      <td>0.0</td>\n      <td>0.0</td>\n      <td>149.0</td>\n      <td>4.0</td>\n      <td>0.0</td>\n      <td>317.0</td>\n      <td>...</td>\n      <td>53.0</td>\n      <td>3553.0</td>\n      <td>0.0</td>\n      <td>0.0</td>\n      <td>0.0</td>\n      <td>0.0</td>\n      <td>0.0</td>\n      <td>0.0</td>\n      <td>0.0</td>\n      <td>1594.0</td>\n    </tr>\n    <tr>\n      <th>1</th>\n      <td>01.01.2020 01:00 - 01.01.2020 02:00</td>\n      <td>25.0</td>\n      <td>729.0</td>\n      <td>1115.0</td>\n      <td>0.0</td>\n      <td>0.0</td>\n      <td>153.0</td>\n      <td>4.0</td>\n      <td>0.0</td>\n      <td>316.0</td>\n      <td>...</td>\n      <td>52.0</td>\n      <td>3326.0</td>\n      <td>0.0</td>\n      <td>0.0</td>\n      <td>0.0</td>\n      <td>0.0</td>\n      <td>0.0</td>\n      <td>0.0</td>\n      <td>0.0</td>\n      <td>1690.0</td>\n    </tr>\n    <tr>\n      <th>2</th>\n      <td>01.01.2020 02:00 - 01.01.2020 03:00</td>\n      <td>25.0</td>\n      <td>731.0</td>\n      <td>1087.0</td>\n      <td>0.0</td>\n      <td>0.0</td>\n      <td>153.0</td>\n      <td>4.0</td>\n      <td>0.0</td>\n      <td>316.0</td>\n      <td>...</td>\n      <td>52.0</td>\n      <td>2915.0</td>\n      <td>0.0</td>\n      <td>0.0</td>\n      <td>0.0</td>\n      <td>0.0</td>\n      <td>0.0</td>\n      <td>0.0</td>\n      <td>0.0</td>\n      <td>1783.0</td>\n    </tr>\n    <tr>\n      <th>3</th>\n      <td>01.01.2020 03:00 - 01.01.2020 04:00</td>\n      <td>25.0</td>\n      <td>731.0</td>\n      <td>1058.0</td>\n      <td>0.0</td>\n      <td>0.0</td>\n      <td>153.0</td>\n      <td>4.0</td>\n      <td>0.0</td>\n      <td>314.0</td>\n      <td>...</td>\n      <td>53.0</td>\n      <td>2594.0</td>\n      <td>0.0</td>\n      <td>0.0</td>\n      <td>0.0</td>\n      <td>0.0</td>\n      <td>0.0</td>\n      <td>0.0</td>\n      <td>0.0</td>\n      <td>1900.0</td>\n    </tr>\n    <tr>\n      <th>4</th>\n      <td>01.01.2020 04:00 - 01.01.2020 05:00</td>\n      <td>25.0</td>\n      <td>731.0</td>\n      <td>1030.0</td>\n      <td>0.0</td>\n      <td>0.0</td>\n      <td>155.0</td>\n      <td>4.0</td>\n      <td>0.0</td>\n      <td>313.0</td>\n      <td>...</td>\n      <td>52.0</td>\n      <td>2392.0</td>\n      <td>0.0</td>\n      <td>0.0</td>\n      <td>0.0</td>\n      <td>0.0</td>\n      <td>0.0</td>\n      <td>0.0</td>\n      <td>0.0</td>\n      <td>1995.0</td>\n    </tr>\n  </tbody>\n</table>\n<p>5 rows × 34 columns</p>\n</div>"
     },
     "execution_count": 46,
     "metadata": {},
     "output_type": "execute_result"
    }
   ],
   "source": [
    "# removing (CET/CEST) and trailing whitespace from datetime values in column 'MTU (CET/CEST)'\n",
    "actual_generation_selected['MTU (UTC)'] = actual_generation_selected['MTU (UTC)'].map(lambda x: x.rstrip(')(UTC').strip())\n",
    "\n",
    "# printing out resulting dataset\n",
    "actual_generation_selected.head()"
   ]
  },
  {
   "cell_type": "code",
   "execution_count": 47,
   "id": "8b31a8bb",
   "metadata": {},
   "outputs": [
    {
     "data": {
      "text/plain": "MTU (UTC)                                     0\nFossil Gas - BZN|NO1                          5\nHydro Run-of-river and poundage - BZN|NO1     5\nHydro Water Reservoir - BZN|NO1               5\nOther - BZN|NO1                               0\nWaste - BZN|NO1                               5\nWind Onshore - BZN|NO1                        5\nFossil Gas - BZN|NO2                          6\nHydro Pumped Storage Aggregated- BZN|NO2      5\nHydro Run-of-river and poundage - BZN|NO2     5\nHydro Water Reservoir - BZN|NO2               5\nOther - BZN|NO2                               0\nWaste - BZN|NO2                               5\nWind Onshore - BZN|NO2                        5\nFossil Gas - BZN|NO3                          5\nHydro Pumped Storage Aggregated- BZN|NO3      5\nHydro Run-of-river and poundage - BZN|NO3     5\nHydro Water Reservoir - BZN|NO3               5\nOther - BZN|NO3                               5\nOther renewable - BZN|NO3                    73\nWaste - BZN|NO3                               5\nWind Onshore - BZN|NO3                        5\nFossil Gas - BZN|NO5                          5\nHydro Pumped Storage Aggregated- BZN|NO5      5\nHydro Run-of-river and poundage - BZN|NO5     5\nHydro Water Reservoir - BZN|NO5               5\nOther - BZN|NO5                               0\nWaste - BZN|NO5                               5\nFossil Gas - BZN|SE3                          1\nHydro Water Reservoir - BZN|SE3               1\nNuclear - BZN|SE3                             1\nOther - BZN|SE3                               1\nSolar - BZN|SE3                               1\nWind Onshore - BZN|SE3                        1\ndtype: int64"
     },
     "execution_count": 47,
     "metadata": {},
     "output_type": "execute_result"
    }
   ],
   "source": [
    "actual_generation_selected.isna().sum()"
   ]
  },
  {
   "cell_type": "code",
   "execution_count": 48,
   "id": "b1dc349c",
   "metadata": {},
   "outputs": [
    {
     "data": {
      "text/plain": "                                 MTU (UTC)  Fossil Gas - BZN|NO1  \\\n792    01.12.2020 00:00 - 01.12.2020 01:00                   0.0   \n793    01.12.2020 01:00 - 01.12.2020 02:00                   0.0   \n795    01.12.2020 03:00 - 01.12.2020 04:00                   0.0   \n796    01.12.2020 04:00 - 01.12.2020 05:00                   0.0   \n797    01.12.2020 05:00 - 01.12.2020 06:00                   0.0   \n...                                    ...                   ...   \n25668  30.11.2020 12:00 - 30.11.2020 13:00                   0.0   \n25670  30.11.2020 14:00 - 30.11.2020 15:00                   0.0   \n25671  30.11.2020 15:00 - 30.11.2020 16:00                   0.0   \n25675  30.11.2020 19:00 - 30.11.2020 20:00                   0.0   \n25679  30.11.2020 23:00 - 01.12.2020 00:00                   0.0   \n\n       Hydro Run-of-river and poundage - BZN|NO1  \\\n792                                        669.0   \n793                                        646.0   \n795                                        608.0   \n796                                        589.0   \n797                                        567.0   \n...                                          ...   \n25668                                      664.0   \n25670                                      669.0   \n25671                                      678.0   \n25675                                      695.0   \n25679                                      679.0   \n\n       Hydro Water Reservoir - BZN|NO1  Other - BZN|NO1  Waste - BZN|NO1  \\\n792                             1437.0              0.0              3.0   \n793                             1426.0              0.0              3.0   \n795                             1461.0              0.0              3.0   \n796                             1623.0              0.0              3.0   \n797                             1681.0              0.0              3.0   \n...                                ...              ...              ...   \n25668                           1895.0              0.0              6.0   \n25670                           2035.0              0.0              4.0   \n25671                           2063.0              0.0              4.0   \n25675                           1803.0              0.0              4.0   \n25679                           1576.0              0.0              3.0   \n\n       Wind Onshore - BZN|NO1  Fossil Gas - BZN|NO2  \\\n792                      65.0                   0.0   \n793                      59.0                   0.0   \n795                      44.0                   0.0   \n796                      69.0                   0.0   \n797                      89.0                   0.0   \n...                       ...                   ...   \n25668                    94.0                   0.0   \n25670                    99.0                   0.0   \n25671                   105.0                   0.0   \n25675                    49.0                   0.0   \n25679                    25.0                   0.0   \n\n       Hydro Pumped Storage Aggregated- BZN|NO2  \\\n792                                       502.0   \n793                                       423.0   \n795                                       423.0   \n796                                       553.0   \n797                                       564.0   \n...                                         ...   \n25668                                     590.0   \n25670                                     593.0   \n25671                                     592.0   \n25675                                     597.0   \n25679                                     508.0   \n\n       Hydro Run-of-river and poundage - BZN|NO2  ...  \\\n792                                        442.0  ...   \n793                                        439.0  ...   \n795                                        436.0  ...   \n796                                        433.0  ...   \n797                                        425.0  ...   \n...                                          ...  ...   \n25668                                      424.0  ...   \n25670                                      430.0  ...   \n25671                                      440.0  ...   \n25675                                      457.0  ...   \n25679                                      445.0  ...   \n\n       Hydro Run-of-river and poundage - BZN|NO5  \\\n792                                         60.0   \n793                                         59.0   \n795                                         58.0   \n796                                         58.0   \n797                                         57.0   \n...                                          ...   \n25668                                       63.0   \n25670                                       62.0   \n25671                                       62.0   \n25675                                       66.0   \n25679                                       62.0   \n\n       Hydro Water Reservoir - BZN|NO5  Other - BZN|NO5  Waste - BZN|NO5  \\\n792                             3601.0              0.0             10.0   \n793                             3524.0              0.0             11.0   \n795                             3591.0              0.0             11.0   \n796                             3787.0              0.0             10.0   \n797                             4071.0              0.0             10.0   \n...                                ...              ...              ...   \n25668                           4569.0              0.0             10.0   \n25670                           4729.0              0.0             10.0   \n25671                           4822.0              0.0             10.0   \n25675                           4148.0              0.0             10.0   \n25679                           3715.0              0.0             10.0   \n\n       Fossil Gas - BZN|SE3  Hydro Water Reservoir - BZN|SE3  \\\n792                     0.0                              0.0   \n793                     0.0                              0.0   \n795                     0.0                              0.0   \n796                     0.0                              0.0   \n797                     0.0                              0.0   \n...                     ...                              ...   \n25668                   0.0                              0.0   \n25670                   0.0                              0.0   \n25671                   0.0                              0.0   \n25675                   0.0                              0.0   \n25679                   0.0                              0.0   \n\n       Nuclear - BZN|SE3  Other - BZN|SE3  Solar - BZN|SE3  \\\n792                  0.0              0.0              0.0   \n793                  0.0              0.0              0.0   \n795                  0.0              0.0              0.0   \n796                  0.0              0.0              0.0   \n797                  0.0              0.0              0.0   \n...                  ...              ...              ...   \n25668                0.0              0.0              0.0   \n25670                0.0              0.0              0.0   \n25671                0.0              0.0              0.0   \n25675                0.0              0.0              0.0   \n25679                0.0              0.0              0.0   \n\n       Wind Onshore - BZN|SE3  \n792                     693.0  \n793                     586.0  \n795                     398.0  \n796                     321.0  \n797                     274.0  \n...                       ...  \n25668                  1047.0  \n25670                  1106.0  \n25671                  1133.0  \n25675                  1128.0  \n25679                   832.0  \n\n[74 rows x 34 columns]",
      "text/html": "<div>\n<style scoped>\n    .dataframe tbody tr th:only-of-type {\n        vertical-align: middle;\n    }\n\n    .dataframe tbody tr th {\n        vertical-align: top;\n    }\n\n    .dataframe thead th {\n        text-align: right;\n    }\n</style>\n<table border=\"1\" class=\"dataframe\">\n  <thead>\n    <tr style=\"text-align: right;\">\n      <th></th>\n      <th>MTU (UTC)</th>\n      <th>Fossil Gas - BZN|NO1</th>\n      <th>Hydro Run-of-river and poundage - BZN|NO1</th>\n      <th>Hydro Water Reservoir - BZN|NO1</th>\n      <th>Other - BZN|NO1</th>\n      <th>Waste - BZN|NO1</th>\n      <th>Wind Onshore - BZN|NO1</th>\n      <th>Fossil Gas - BZN|NO2</th>\n      <th>Hydro Pumped Storage Aggregated- BZN|NO2</th>\n      <th>Hydro Run-of-river and poundage - BZN|NO2</th>\n      <th>...</th>\n      <th>Hydro Run-of-river and poundage - BZN|NO5</th>\n      <th>Hydro Water Reservoir - BZN|NO5</th>\n      <th>Other - BZN|NO5</th>\n      <th>Waste - BZN|NO5</th>\n      <th>Fossil Gas - BZN|SE3</th>\n      <th>Hydro Water Reservoir - BZN|SE3</th>\n      <th>Nuclear - BZN|SE3</th>\n      <th>Other - BZN|SE3</th>\n      <th>Solar - BZN|SE3</th>\n      <th>Wind Onshore - BZN|SE3</th>\n    </tr>\n  </thead>\n  <tbody>\n    <tr>\n      <th>792</th>\n      <td>01.12.2020 00:00 - 01.12.2020 01:00</td>\n      <td>0.0</td>\n      <td>669.0</td>\n      <td>1437.0</td>\n      <td>0.0</td>\n      <td>3.0</td>\n      <td>65.0</td>\n      <td>0.0</td>\n      <td>502.0</td>\n      <td>442.0</td>\n      <td>...</td>\n      <td>60.0</td>\n      <td>3601.0</td>\n      <td>0.0</td>\n      <td>10.0</td>\n      <td>0.0</td>\n      <td>0.0</td>\n      <td>0.0</td>\n      <td>0.0</td>\n      <td>0.0</td>\n      <td>693.0</td>\n    </tr>\n    <tr>\n      <th>793</th>\n      <td>01.12.2020 01:00 - 01.12.2020 02:00</td>\n      <td>0.0</td>\n      <td>646.0</td>\n      <td>1426.0</td>\n      <td>0.0</td>\n      <td>3.0</td>\n      <td>59.0</td>\n      <td>0.0</td>\n      <td>423.0</td>\n      <td>439.0</td>\n      <td>...</td>\n      <td>59.0</td>\n      <td>3524.0</td>\n      <td>0.0</td>\n      <td>11.0</td>\n      <td>0.0</td>\n      <td>0.0</td>\n      <td>0.0</td>\n      <td>0.0</td>\n      <td>0.0</td>\n      <td>586.0</td>\n    </tr>\n    <tr>\n      <th>795</th>\n      <td>01.12.2020 03:00 - 01.12.2020 04:00</td>\n      <td>0.0</td>\n      <td>608.0</td>\n      <td>1461.0</td>\n      <td>0.0</td>\n      <td>3.0</td>\n      <td>44.0</td>\n      <td>0.0</td>\n      <td>423.0</td>\n      <td>436.0</td>\n      <td>...</td>\n      <td>58.0</td>\n      <td>3591.0</td>\n      <td>0.0</td>\n      <td>11.0</td>\n      <td>0.0</td>\n      <td>0.0</td>\n      <td>0.0</td>\n      <td>0.0</td>\n      <td>0.0</td>\n      <td>398.0</td>\n    </tr>\n    <tr>\n      <th>796</th>\n      <td>01.12.2020 04:00 - 01.12.2020 05:00</td>\n      <td>0.0</td>\n      <td>589.0</td>\n      <td>1623.0</td>\n      <td>0.0</td>\n      <td>3.0</td>\n      <td>69.0</td>\n      <td>0.0</td>\n      <td>553.0</td>\n      <td>433.0</td>\n      <td>...</td>\n      <td>58.0</td>\n      <td>3787.0</td>\n      <td>0.0</td>\n      <td>10.0</td>\n      <td>0.0</td>\n      <td>0.0</td>\n      <td>0.0</td>\n      <td>0.0</td>\n      <td>0.0</td>\n      <td>321.0</td>\n    </tr>\n    <tr>\n      <th>797</th>\n      <td>01.12.2020 05:00 - 01.12.2020 06:00</td>\n      <td>0.0</td>\n      <td>567.0</td>\n      <td>1681.0</td>\n      <td>0.0</td>\n      <td>3.0</td>\n      <td>89.0</td>\n      <td>0.0</td>\n      <td>564.0</td>\n      <td>425.0</td>\n      <td>...</td>\n      <td>57.0</td>\n      <td>4071.0</td>\n      <td>0.0</td>\n      <td>10.0</td>\n      <td>0.0</td>\n      <td>0.0</td>\n      <td>0.0</td>\n      <td>0.0</td>\n      <td>0.0</td>\n      <td>274.0</td>\n    </tr>\n    <tr>\n      <th>...</th>\n      <td>...</td>\n      <td>...</td>\n      <td>...</td>\n      <td>...</td>\n      <td>...</td>\n      <td>...</td>\n      <td>...</td>\n      <td>...</td>\n      <td>...</td>\n      <td>...</td>\n      <td>...</td>\n      <td>...</td>\n      <td>...</td>\n      <td>...</td>\n      <td>...</td>\n      <td>...</td>\n      <td>...</td>\n      <td>...</td>\n      <td>...</td>\n      <td>...</td>\n      <td>...</td>\n    </tr>\n    <tr>\n      <th>25668</th>\n      <td>30.11.2020 12:00 - 30.11.2020 13:00</td>\n      <td>0.0</td>\n      <td>664.0</td>\n      <td>1895.0</td>\n      <td>0.0</td>\n      <td>6.0</td>\n      <td>94.0</td>\n      <td>0.0</td>\n      <td>590.0</td>\n      <td>424.0</td>\n      <td>...</td>\n      <td>63.0</td>\n      <td>4569.0</td>\n      <td>0.0</td>\n      <td>10.0</td>\n      <td>0.0</td>\n      <td>0.0</td>\n      <td>0.0</td>\n      <td>0.0</td>\n      <td>0.0</td>\n      <td>1047.0</td>\n    </tr>\n    <tr>\n      <th>25670</th>\n      <td>30.11.2020 14:00 - 30.11.2020 15:00</td>\n      <td>0.0</td>\n      <td>669.0</td>\n      <td>2035.0</td>\n      <td>0.0</td>\n      <td>4.0</td>\n      <td>99.0</td>\n      <td>0.0</td>\n      <td>593.0</td>\n      <td>430.0</td>\n      <td>...</td>\n      <td>62.0</td>\n      <td>4729.0</td>\n      <td>0.0</td>\n      <td>10.0</td>\n      <td>0.0</td>\n      <td>0.0</td>\n      <td>0.0</td>\n      <td>0.0</td>\n      <td>0.0</td>\n      <td>1106.0</td>\n    </tr>\n    <tr>\n      <th>25671</th>\n      <td>30.11.2020 15:00 - 30.11.2020 16:00</td>\n      <td>0.0</td>\n      <td>678.0</td>\n      <td>2063.0</td>\n      <td>0.0</td>\n      <td>4.0</td>\n      <td>105.0</td>\n      <td>0.0</td>\n      <td>592.0</td>\n      <td>440.0</td>\n      <td>...</td>\n      <td>62.0</td>\n      <td>4822.0</td>\n      <td>0.0</td>\n      <td>10.0</td>\n      <td>0.0</td>\n      <td>0.0</td>\n      <td>0.0</td>\n      <td>0.0</td>\n      <td>0.0</td>\n      <td>1133.0</td>\n    </tr>\n    <tr>\n      <th>25675</th>\n      <td>30.11.2020 19:00 - 30.11.2020 20:00</td>\n      <td>0.0</td>\n      <td>695.0</td>\n      <td>1803.0</td>\n      <td>0.0</td>\n      <td>4.0</td>\n      <td>49.0</td>\n      <td>0.0</td>\n      <td>597.0</td>\n      <td>457.0</td>\n      <td>...</td>\n      <td>66.0</td>\n      <td>4148.0</td>\n      <td>0.0</td>\n      <td>10.0</td>\n      <td>0.0</td>\n      <td>0.0</td>\n      <td>0.0</td>\n      <td>0.0</td>\n      <td>0.0</td>\n      <td>1128.0</td>\n    </tr>\n    <tr>\n      <th>25679</th>\n      <td>30.11.2020 23:00 - 01.12.2020 00:00</td>\n      <td>0.0</td>\n      <td>679.0</td>\n      <td>1576.0</td>\n      <td>0.0</td>\n      <td>3.0</td>\n      <td>25.0</td>\n      <td>0.0</td>\n      <td>508.0</td>\n      <td>445.0</td>\n      <td>...</td>\n      <td>62.0</td>\n      <td>3715.0</td>\n      <td>0.0</td>\n      <td>10.0</td>\n      <td>0.0</td>\n      <td>0.0</td>\n      <td>0.0</td>\n      <td>0.0</td>\n      <td>0.0</td>\n      <td>832.0</td>\n    </tr>\n  </tbody>\n</table>\n<p>74 rows × 34 columns</p>\n</div>"
     },
     "execution_count": 48,
     "metadata": {},
     "output_type": "execute_result"
    }
   ],
   "source": [
    "actual_generation_selected[actual_generation_selected.isna().any(axis=1)]"
   ]
  },
  {
   "cell_type": "markdown",
   "id": "48f46a91",
   "metadata": {},
   "source": [
    "It is missing data from dates in the year 2020 and 2021. Imputation of these missing values will be performed during Exploratory Data Analysis in order to choose the best method for the dataset."
   ]
  },
  {
   "cell_type": "code",
   "execution_count": 49,
   "id": "aa61c2f4",
   "metadata": {},
   "outputs": [
    {
     "data": {
      "text/plain": "(26304, 34)"
     },
     "execution_count": 49,
     "metadata": {},
     "output_type": "execute_result"
    }
   ],
   "source": [
    "actual_generation_selected.shape"
   ]
  },
  {
   "cell_type": "markdown",
   "id": "92af64ff",
   "metadata": {},
   "source": [
    "### Data Aggregation for import and export NO1 and neighbouring zones"
   ]
  },
  {
   "cell_type": "markdown",
   "id": "841a5e4f",
   "metadata": {},
   "source": [
    "We want to concatenate data for cross border physical flow between NO1 and neighbouring zones(NO2,NO3,NO5,SE3)."
   ]
  },
  {
   "cell_type": "code",
   "execution_count": 50,
   "id": "53f47b10",
   "metadata": {},
   "outputs": [
    {
     "name": "stdout",
     "output_type": "stream",
     "text": [
      "(8760, 3)\n",
      "(8760, 3)\n",
      "(8760, 3)\n",
      "(8760, 3)\n",
      "(8760, 3)\n",
      "(8760, 3)\n",
      "(8760, 3)\n",
      "(8760, 3)\n",
      "(8784, 3)\n",
      "(8784, 3)\n",
      "(8784, 3)\n",
      "(8784, 3)\n"
     ]
    }
   ],
   "source": [
    "# reading import export csv to dataframes\n",
    "\n",
    "# 2022 import export for NO1, NO2, NO3, NO5, SE3\n",
    "\n",
    "import_export_no1_no2_2022 = pd.read_csv(\"../datasets/import_and_export/NO1-NO2 Import export Cross-Border Physical Flow_202201010000-202301010000.csv\")\n",
    "import_export_no1_no3_2022 = pd.read_csv(\"../datasets/import_and_export/NO1-NO3 Import export Cross-Border Physical Flow_202201010000-202301010000.csv\")\n",
    "import_export_no1_no5_2022 = pd.read_csv(\"../datasets/import_and_export/NO1-NO5 Import export Cross-Border Physical Flow_202201010000-202301010000.csv\")\n",
    "import_export_no1_se3_2022 = pd.read_csv(\"../datasets/import_and_export/NO1-SE3 Import export Cross-Border Physical Flow_202201010000-202301010000.csv\")\n",
    "\n",
    "# 2021 import export for NO1, NO2, NO3, NO5, SE3\n",
    "\n",
    "import_export_no1_no2_2021 = pd.read_csv(\"../datasets/import_and_export/NO1-NO2 Import export Cross-Border Physical Flow_202101010000-202201010000.csv\")\n",
    "import_export_no1_no3_2021 = pd.read_csv(\"../datasets/import_and_export/NO1-NO3 Import export Cross-Border Physical Flow_202101010000-202201010000.csv\")\n",
    "import_export_no1_no5_2021 = pd.read_csv(\"../datasets/import_and_export/NO1-NO5 Import export Cross-Border Physical Flow_202101010000-202201010000.csv\")\n",
    "import_export_no1_se3_2021 = pd.read_csv(\"../datasets/import_and_export/NO1-SE3 Import export Cross-Border Physical Flow_202101010000-202201010000.csv\")\n",
    "\n",
    "# 2020 import export for NO1, NO2, NO3, NO5, SE3\n",
    "import_export_no1_no2_2020 = pd.read_csv(\"../datasets/import_and_export/NO1-NO2 Import export Cross-Border Physical Flow_202001010000-202101010000.csv\")\n",
    "import_export_no1_no3_2020 = pd.read_csv(\"../datasets/import_and_export/NO1-NO3 Import export Cross-Border Physical Flow_202001010000-202101010000.csv\")\n",
    "import_export_no1_no5_2020 = pd.read_csv(\"../datasets/import_and_export/NO1-NO5 Import export Cross-Border Physical Flow_202001010000-202101010000.csv\")\n",
    "import_export_no1_se3_2020 = pd.read_csv(\"../datasets/import_and_export/NO1-SE3 Import export Cross-Border Physical Flow_202001010000-202101010000.csv\")\n",
    "\n",
    "# creating list of price dataframes\n",
    "\n",
    "prices_dataframes = [\n",
    "    import_export_no1_no2_2022,\n",
    "    import_export_no1_no3_2022,\n",
    "    import_export_no1_no5_2022,\n",
    "    import_export_no1_se3_2022,\n",
    "    import_export_no1_no2_2021,\n",
    "    import_export_no1_no3_2021,\n",
    "    import_export_no1_no5_2021,\n",
    "    import_export_no1_se3_2021,\n",
    "    import_export_no1_no2_2020,\n",
    "    import_export_no1_no3_2020,\n",
    "    import_export_no1_no5_2020,\n",
    "    import_export_no1_se3_2020]\n",
    "\n",
    "# checking shape of each dataframe to see if all dataframes have the same number of rows.\n",
    "for i in prices_dataframes:\n",
    "    print(i.shape)"
   ]
  },
  {
   "cell_type": "code",
   "execution_count": 51,
   "id": "ffa30155",
   "metadata": {},
   "outputs": [
    {
     "name": "stdout",
     "output_type": "stream",
     "text": [
      "(26304, 3)\n",
      "(26304, 3)\n",
      "(26304, 3)\n",
      "(26304, 3)\n"
     ]
    }
   ],
   "source": [
    "# Concatenating the datasets\n",
    "import_export_no1_no2 = pd.concat([import_export_no1_no2_2022, import_export_no1_no2_2021, import_export_no1_no2_2020])\n",
    "import_export_no1_no3 = pd.concat([import_export_no1_no3_2022, import_export_no1_no3_2021, import_export_no1_no3_2020])\n",
    "import_export_no1_no5 = pd.concat([import_export_no1_no5_2022, import_export_no1_no5_2021, import_export_no1_no5_2020])\n",
    "import_export_no1_se3 = pd.concat([import_export_no1_se3_2022, import_export_no1_se3_2021, import_export_no1_se3_2020])\n",
    "\n",
    "\n",
    "# concatenated dataframes as a list\n",
    "concat_prices_dataframes = [import_export_no1_no2, import_export_no1_no3, import_export_no1_no5, import_export_no1_se3]\n",
    "\n",
    "# checking the results\n",
    "for i in concat_prices_dataframes:\n",
    "    print(i.shape)"
   ]
  },
  {
   "cell_type": "code",
   "execution_count": 52,
   "id": "b6a8dc54",
   "metadata": {},
   "outputs": [
    {
     "data": {
      "text/plain": "                            Time (UTC)  BZN|NO2 > BZN|NO1 [MW]  \\\n0  01.01.2022 00:00 - 01.01.2022 01:00                  1242.0   \n1  01.01.2022 01:00 - 01.01.2022 02:00                  1222.0   \n2  01.01.2022 02:00 - 01.01.2022 03:00                  1679.0   \n3  01.01.2022 03:00 - 01.01.2022 04:00                  1668.0   \n4  01.01.2022 04:00 - 01.01.2022 05:00                  1697.0   \n\n   BZN|NO1 > BZN|NO2 [MW]  \n0                     0.0  \n1                     0.0  \n2                     0.0  \n3                     0.0  \n4                     0.0  ",
      "text/html": "<div>\n<style scoped>\n    .dataframe tbody tr th:only-of-type {\n        vertical-align: middle;\n    }\n\n    .dataframe tbody tr th {\n        vertical-align: top;\n    }\n\n    .dataframe thead th {\n        text-align: right;\n    }\n</style>\n<table border=\"1\" class=\"dataframe\">\n  <thead>\n    <tr style=\"text-align: right;\">\n      <th></th>\n      <th>Time (UTC)</th>\n      <th>BZN|NO2 &gt; BZN|NO1 [MW]</th>\n      <th>BZN|NO1 &gt; BZN|NO2 [MW]</th>\n    </tr>\n  </thead>\n  <tbody>\n    <tr>\n      <th>0</th>\n      <td>01.01.2022 00:00 - 01.01.2022 01:00</td>\n      <td>1242.0</td>\n      <td>0.0</td>\n    </tr>\n    <tr>\n      <th>1</th>\n      <td>01.01.2022 01:00 - 01.01.2022 02:00</td>\n      <td>1222.0</td>\n      <td>0.0</td>\n    </tr>\n    <tr>\n      <th>2</th>\n      <td>01.01.2022 02:00 - 01.01.2022 03:00</td>\n      <td>1679.0</td>\n      <td>0.0</td>\n    </tr>\n    <tr>\n      <th>3</th>\n      <td>01.01.2022 03:00 - 01.01.2022 04:00</td>\n      <td>1668.0</td>\n      <td>0.0</td>\n    </tr>\n    <tr>\n      <th>4</th>\n      <td>01.01.2022 04:00 - 01.01.2022 05:00</td>\n      <td>1697.0</td>\n      <td>0.0</td>\n    </tr>\n  </tbody>\n</table>\n</div>"
     },
     "execution_count": 52,
     "metadata": {},
     "output_type": "execute_result"
    }
   ],
   "source": [
    "import_export_no1_no2.head()"
   ]
  },
  {
   "cell_type": "code",
   "execution_count": 53,
   "id": "2597b09d",
   "metadata": {},
   "outputs": [
    {
     "data": {
      "text/plain": "                            Time (UTC)  BZN|SE3 > BZN|NO1 [MW]  \\\n0  01.01.2022 00:00 - 01.01.2022 01:00                    1065   \n1  01.01.2022 01:00 - 01.01.2022 02:00                     927   \n2  01.01.2022 02:00 - 01.01.2022 03:00                     748   \n3  01.01.2022 03:00 - 01.01.2022 04:00                     918   \n4  01.01.2022 04:00 - 01.01.2022 05:00                     826   \n\n   BZN|NO1 > BZN|SE3 [MW]  \n0                       0  \n1                       0  \n2                       0  \n3                       0  \n4                       0  ",
      "text/html": "<div>\n<style scoped>\n    .dataframe tbody tr th:only-of-type {\n        vertical-align: middle;\n    }\n\n    .dataframe tbody tr th {\n        vertical-align: top;\n    }\n\n    .dataframe thead th {\n        text-align: right;\n    }\n</style>\n<table border=\"1\" class=\"dataframe\">\n  <thead>\n    <tr style=\"text-align: right;\">\n      <th></th>\n      <th>Time (UTC)</th>\n      <th>BZN|SE3 &gt; BZN|NO1 [MW]</th>\n      <th>BZN|NO1 &gt; BZN|SE3 [MW]</th>\n    </tr>\n  </thead>\n  <tbody>\n    <tr>\n      <th>0</th>\n      <td>01.01.2022 00:00 - 01.01.2022 01:00</td>\n      <td>1065</td>\n      <td>0</td>\n    </tr>\n    <tr>\n      <th>1</th>\n      <td>01.01.2022 01:00 - 01.01.2022 02:00</td>\n      <td>927</td>\n      <td>0</td>\n    </tr>\n    <tr>\n      <th>2</th>\n      <td>01.01.2022 02:00 - 01.01.2022 03:00</td>\n      <td>748</td>\n      <td>0</td>\n    </tr>\n    <tr>\n      <th>3</th>\n      <td>01.01.2022 03:00 - 01.01.2022 04:00</td>\n      <td>918</td>\n      <td>0</td>\n    </tr>\n    <tr>\n      <th>4</th>\n      <td>01.01.2022 04:00 - 01.01.2022 05:00</td>\n      <td>826</td>\n      <td>0</td>\n    </tr>\n  </tbody>\n</table>\n</div>"
     },
     "execution_count": 53,
     "metadata": {},
     "output_type": "execute_result"
    }
   ],
   "source": [
    "import_export_no1_se3.head()"
   ]
  },
  {
   "cell_type": "markdown",
   "id": "2749a4f3",
   "metadata": {},
   "source": [
    "We see that the time column in the import export datasets is named \"Time (UTC)\" while in the other datasets, the time column is named \"MTU (UTC)\". The time column will be renamed to \"MTU (UTC)\" so that the datasets can be merged. To be consistent Time (UTC) is changed to MTU (UTC). To make it clear that 'BZN|NO2 > BZN|NO1 [MW]' shows the cross border physical flow , CBF is used as an abbreviation."
   ]
  },
  {
   "cell_type": "code",
   "execution_count": 54,
   "id": "5b667151",
   "metadata": {},
   "outputs": [],
   "source": [
    "import_export_no1_no2.rename(columns = {'Time (UTC)':'MTU (UTC)', 'BZN|NO2 > BZN|NO1 [MW]' : 'CBF BZN|NO2 > BZN|NO1 [MW]', 'BZN|NO1 > BZN|NO2 [MW]' : 'CBF BZN|NO1 > BZN|NO2 [MW]'}, inplace = True)\n",
    "import_export_no1_no3.rename(columns = {'Time (UTC)':'MTU (UTC)', 'BZN|NO3 > BZN|NO1 [MW]' : 'CBF BZN|NO3 > BZN|NO1 [MW]', 'BZN|NO1 > BZN|NO3 [MW]' : 'CBF BZN|NO1 > BZN|NO3 [MW]'}, inplace = True)\n",
    "import_export_no1_no5.rename(columns = {'Time (UTC)':'MTU (UTC)', 'BZN|NO5 > BZN|NO1 [MW]' : 'CBF BZN|NO5 > BZN|NO1 [MW]', 'BZN|NO1 > BZN|NO5 [MW]' : 'CBF BZN|NO1 > BZN|NO5 [MW]'}, inplace = True)\n",
    "import_export_no1_se3.rename(columns = {'Time (UTC)':'MTU (UTC)', 'BZN|SE3 > BZN|NO1 [MW]' : 'CBF BZN|SE3 > BZN|NO1 [MW]', 'BZN|NO1 > BZN|SE3 [MW]' : 'CBF BZN|NO1 > BZN|SE3 [MW]'}, inplace = True)"
   ]
  },
  {
   "cell_type": "markdown",
   "id": "c9ce09ca",
   "metadata": {},
   "source": [
    "Merging all dataframes for import and export\n"
   ]
  },
  {
   "cell_type": "code",
   "execution_count": 55,
   "id": "49ee6e30",
   "metadata": {},
   "outputs": [
    {
     "data": {
      "text/plain": "(26304, 9)"
     },
     "execution_count": 55,
     "metadata": {},
     "output_type": "execute_result"
    }
   ],
   "source": [
    "# Merging the import export datasets\n",
    "import_export_no1_neighbours_dataframes = [import_export_no1_no2, import_export_no1_no3, import_export_no1_no5, import_export_no1_se3]\n",
    "import_export_no1_neighbours_2020_2022 = reduce(lambda left, right: pd.merge(left,right, on=['MTU (UTC)']), import_export_no1_neighbours_dataframes)\n",
    "\n",
    "# printing out the 5 first rows of the resulting dataframe\n",
    "import_export_no1_neighbours_2020_2022.shape"
   ]
  },
  {
   "cell_type": "code",
   "execution_count": 56,
   "id": "6cfe24bc",
   "metadata": {},
   "outputs": [
    {
     "data": {
      "text/plain": "                             MTU (UTC)  CBF BZN|NO2 > BZN|NO1 [MW]  \\\n0  01.01.2022 00:00 - 01.01.2022 01:00                      1242.0   \n1  01.01.2022 01:00 - 01.01.2022 02:00                      1222.0   \n2  01.01.2022 02:00 - 01.01.2022 03:00                      1679.0   \n3  01.01.2022 03:00 - 01.01.2022 04:00                      1668.0   \n4  01.01.2022 04:00 - 01.01.2022 05:00                      1697.0   \n\n   CBF BZN|NO1 > BZN|NO2 [MW]  CBF BZN|NO3 > BZN|NO1 [MW]  \\\n0                         0.0                       371.0   \n1                         0.0                       383.0   \n2                         0.0                       362.0   \n3                         0.0                       324.0   \n4                         0.0                       339.0   \n\n   CBF BZN|NO1 > BZN|NO3 [MW]  CBF BZN|NO5 > BZN|NO1 [MW]  \\\n0                         0.0                       594.0   \n1                         0.0                       676.0   \n2                         0.0                       436.0   \n3                         0.0                       345.0   \n4                         0.0                       412.0   \n\n   CBF BZN|NO1 > BZN|NO5 [MW]  CBF BZN|SE3 > BZN|NO1 [MW]  \\\n0                         0.0                        1065   \n1                         0.0                         927   \n2                         0.0                         748   \n3                         0.0                         918   \n4                         0.0                         826   \n\n   CBF BZN|NO1 > BZN|SE3 [MW]  \n0                           0  \n1                           0  \n2                           0  \n3                           0  \n4                           0  ",
      "text/html": "<div>\n<style scoped>\n    .dataframe tbody tr th:only-of-type {\n        vertical-align: middle;\n    }\n\n    .dataframe tbody tr th {\n        vertical-align: top;\n    }\n\n    .dataframe thead th {\n        text-align: right;\n    }\n</style>\n<table border=\"1\" class=\"dataframe\">\n  <thead>\n    <tr style=\"text-align: right;\">\n      <th></th>\n      <th>MTU (UTC)</th>\n      <th>CBF BZN|NO2 &gt; BZN|NO1 [MW]</th>\n      <th>CBF BZN|NO1 &gt; BZN|NO2 [MW]</th>\n      <th>CBF BZN|NO3 &gt; BZN|NO1 [MW]</th>\n      <th>CBF BZN|NO1 &gt; BZN|NO3 [MW]</th>\n      <th>CBF BZN|NO5 &gt; BZN|NO1 [MW]</th>\n      <th>CBF BZN|NO1 &gt; BZN|NO5 [MW]</th>\n      <th>CBF BZN|SE3 &gt; BZN|NO1 [MW]</th>\n      <th>CBF BZN|NO1 &gt; BZN|SE3 [MW]</th>\n    </tr>\n  </thead>\n  <tbody>\n    <tr>\n      <th>0</th>\n      <td>01.01.2022 00:00 - 01.01.2022 01:00</td>\n      <td>1242.0</td>\n      <td>0.0</td>\n      <td>371.0</td>\n      <td>0.0</td>\n      <td>594.0</td>\n      <td>0.0</td>\n      <td>1065</td>\n      <td>0</td>\n    </tr>\n    <tr>\n      <th>1</th>\n      <td>01.01.2022 01:00 - 01.01.2022 02:00</td>\n      <td>1222.0</td>\n      <td>0.0</td>\n      <td>383.0</td>\n      <td>0.0</td>\n      <td>676.0</td>\n      <td>0.0</td>\n      <td>927</td>\n      <td>0</td>\n    </tr>\n    <tr>\n      <th>2</th>\n      <td>01.01.2022 02:00 - 01.01.2022 03:00</td>\n      <td>1679.0</td>\n      <td>0.0</td>\n      <td>362.0</td>\n      <td>0.0</td>\n      <td>436.0</td>\n      <td>0.0</td>\n      <td>748</td>\n      <td>0</td>\n    </tr>\n    <tr>\n      <th>3</th>\n      <td>01.01.2022 03:00 - 01.01.2022 04:00</td>\n      <td>1668.0</td>\n      <td>0.0</td>\n      <td>324.0</td>\n      <td>0.0</td>\n      <td>345.0</td>\n      <td>0.0</td>\n      <td>918</td>\n      <td>0</td>\n    </tr>\n    <tr>\n      <th>4</th>\n      <td>01.01.2022 04:00 - 01.01.2022 05:00</td>\n      <td>1697.0</td>\n      <td>0.0</td>\n      <td>339.0</td>\n      <td>0.0</td>\n      <td>412.0</td>\n      <td>0.0</td>\n      <td>826</td>\n      <td>0</td>\n    </tr>\n  </tbody>\n</table>\n</div>"
     },
     "execution_count": 56,
     "metadata": {},
     "output_type": "execute_result"
    }
   ],
   "source": [
    "import_export_no1_neighbours_2020_2022.head()"
   ]
  },
  {
   "cell_type": "code",
   "execution_count": 57,
   "id": "ec9b9c90",
   "metadata": {},
   "outputs": [
    {
     "data": {
      "text/plain": "                                 MTU (UTC)  CBF BZN|NO2 > BZN|NO1 [MW]  \\\n26299  31.12.2020 19:00 - 31.12.2020 20:00                        81.0   \n26300  31.12.2020 20:00 - 31.12.2020 21:00                        64.0   \n26301  31.12.2020 21:00 - 31.12.2020 22:00                         0.0   \n26302  31.12.2020 22:00 - 31.12.2020 23:00                         0.0   \n26303  31.12.2020 23:00 - 01.01.2021 00:00                         0.0   \n\n       CBF BZN|NO1 > BZN|NO2 [MW]  CBF BZN|NO3 > BZN|NO1 [MW]  \\\n26299                         0.0                       328.0   \n26300                         0.0                       324.0   \n26301                       196.0                       318.0   \n26302                       202.0                       307.0   \n26303                       112.0                       318.0   \n\n       CBF BZN|NO1 > BZN|NO3 [MW]  CBF BZN|NO5 > BZN|NO1 [MW]  \\\n26299                         0.0                      2061.0   \n26300                         0.0                      2046.0   \n26301                         0.0                      1901.0   \n26302                         0.0                      1821.0   \n26303                         0.0                      1864.0   \n\n       CBF BZN|NO1 > BZN|NO5 [MW]  CBF BZN|SE3 > BZN|NO1 [MW]  \\\n26299                         0.0                         126   \n26300                         0.0                          12   \n26301                         0.0                         237   \n26302                         0.0                         192   \n26303                         0.0                         135   \n\n       CBF BZN|NO1 > BZN|SE3 [MW]  \n26299                           0  \n26300                           0  \n26301                           0  \n26302                           0  \n26303                           0  ",
      "text/html": "<div>\n<style scoped>\n    .dataframe tbody tr th:only-of-type {\n        vertical-align: middle;\n    }\n\n    .dataframe tbody tr th {\n        vertical-align: top;\n    }\n\n    .dataframe thead th {\n        text-align: right;\n    }\n</style>\n<table border=\"1\" class=\"dataframe\">\n  <thead>\n    <tr style=\"text-align: right;\">\n      <th></th>\n      <th>MTU (UTC)</th>\n      <th>CBF BZN|NO2 &gt; BZN|NO1 [MW]</th>\n      <th>CBF BZN|NO1 &gt; BZN|NO2 [MW]</th>\n      <th>CBF BZN|NO3 &gt; BZN|NO1 [MW]</th>\n      <th>CBF BZN|NO1 &gt; BZN|NO3 [MW]</th>\n      <th>CBF BZN|NO5 &gt; BZN|NO1 [MW]</th>\n      <th>CBF BZN|NO1 &gt; BZN|NO5 [MW]</th>\n      <th>CBF BZN|SE3 &gt; BZN|NO1 [MW]</th>\n      <th>CBF BZN|NO1 &gt; BZN|SE3 [MW]</th>\n    </tr>\n  </thead>\n  <tbody>\n    <tr>\n      <th>26299</th>\n      <td>31.12.2020 19:00 - 31.12.2020 20:00</td>\n      <td>81.0</td>\n      <td>0.0</td>\n      <td>328.0</td>\n      <td>0.0</td>\n      <td>2061.0</td>\n      <td>0.0</td>\n      <td>126</td>\n      <td>0</td>\n    </tr>\n    <tr>\n      <th>26300</th>\n      <td>31.12.2020 20:00 - 31.12.2020 21:00</td>\n      <td>64.0</td>\n      <td>0.0</td>\n      <td>324.0</td>\n      <td>0.0</td>\n      <td>2046.0</td>\n      <td>0.0</td>\n      <td>12</td>\n      <td>0</td>\n    </tr>\n    <tr>\n      <th>26301</th>\n      <td>31.12.2020 21:00 - 31.12.2020 22:00</td>\n      <td>0.0</td>\n      <td>196.0</td>\n      <td>318.0</td>\n      <td>0.0</td>\n      <td>1901.0</td>\n      <td>0.0</td>\n      <td>237</td>\n      <td>0</td>\n    </tr>\n    <tr>\n      <th>26302</th>\n      <td>31.12.2020 22:00 - 31.12.2020 23:00</td>\n      <td>0.0</td>\n      <td>202.0</td>\n      <td>307.0</td>\n      <td>0.0</td>\n      <td>1821.0</td>\n      <td>0.0</td>\n      <td>192</td>\n      <td>0</td>\n    </tr>\n    <tr>\n      <th>26303</th>\n      <td>31.12.2020 23:00 - 01.01.2021 00:00</td>\n      <td>0.0</td>\n      <td>112.0</td>\n      <td>318.0</td>\n      <td>0.0</td>\n      <td>1864.0</td>\n      <td>0.0</td>\n      <td>135</td>\n      <td>0</td>\n    </tr>\n  </tbody>\n</table>\n</div>"
     },
     "execution_count": 57,
     "metadata": {},
     "output_type": "execute_result"
    }
   ],
   "source": [
    "import_export_no1_neighbours_2020_2022.tail()"
   ]
  },
  {
   "cell_type": "code",
   "execution_count": 58,
   "id": "e070db64",
   "metadata": {},
   "outputs": [
    {
     "data": {
      "text/plain": "MTU (UTC)                      0\nCBF BZN|NO2 > BZN|NO1 [MW]    31\nCBF BZN|NO1 > BZN|NO2 [MW]    31\nCBF BZN|NO3 > BZN|NO1 [MW]    31\nCBF BZN|NO1 > BZN|NO3 [MW]    31\nCBF BZN|NO5 > BZN|NO1 [MW]    31\nCBF BZN|NO1 > BZN|NO5 [MW]    31\nCBF BZN|SE3 > BZN|NO1 [MW]     0\nCBF BZN|NO1 > BZN|SE3 [MW]     0\ndtype: int64"
     },
     "execution_count": 58,
     "metadata": {},
     "output_type": "execute_result"
    }
   ],
   "source": [
    "# Checking for missing values\n",
    "import_export_no1_neighbours_2020_2022.isna().sum()"
   ]
  },
  {
   "cell_type": "code",
   "execution_count": 59,
   "id": "8affc56d",
   "metadata": {},
   "outputs": [
    {
     "data": {
      "text/plain": "                                 MTU (UTC)  CBF BZN|NO2 > BZN|NO1 [MW]  \\\n16033  31.10.2021 01:00 - 31.10.2021 02:00                         NaN   \n17807  12.01.2020 23:00 - 13.01.2020 00:00                         NaN   \n17808  13.01.2020 00:00 - 13.01.2020 01:00                         NaN   \n17809  13.01.2020 01:00 - 13.01.2020 02:00                         NaN   \n17810  13.01.2020 02:00 - 13.01.2020 03:00                         NaN   \n17811  13.01.2020 03:00 - 13.01.2020 04:00                         NaN   \n17812  13.01.2020 04:00 - 13.01.2020 05:00                         NaN   \n17813  13.01.2020 05:00 - 13.01.2020 06:00                         NaN   \n17814  13.01.2020 06:00 - 13.01.2020 07:00                         NaN   \n17815  13.01.2020 07:00 - 13.01.2020 08:00                         NaN   \n17816  13.01.2020 08:00 - 13.01.2020 09:00                         NaN   \n17817  13.01.2020 09:00 - 13.01.2020 10:00                         NaN   \n17818  13.01.2020 10:00 - 13.01.2020 11:00                         NaN   \n17819  13.01.2020 11:00 - 13.01.2020 12:00                         NaN   \n17820  13.01.2020 12:00 - 13.01.2020 13:00                         NaN   \n17821  13.01.2020 13:00 - 13.01.2020 14:00                         NaN   \n17822  13.01.2020 14:00 - 13.01.2020 15:00                         NaN   \n17823  13.01.2020 15:00 - 13.01.2020 16:00                         NaN   \n17824  13.01.2020 16:00 - 13.01.2020 17:00                         NaN   \n17825  13.01.2020 17:00 - 13.01.2020 18:00                         NaN   \n17826  13.01.2020 18:00 - 13.01.2020 19:00                         NaN   \n17827  13.01.2020 19:00 - 13.01.2020 20:00                         NaN   \n17828  13.01.2020 20:00 - 13.01.2020 21:00                         NaN   \n17829  13.01.2020 21:00 - 13.01.2020 22:00                         NaN   \n17830  13.01.2020 22:00 - 13.01.2020 23:00                         NaN   \n18035  22.01.2020 11:00 - 22.01.2020 12:00                         NaN   \n22480  25.07.2020 16:00 - 25.07.2020 17:00                         NaN   \n22481  25.07.2020 17:00 - 25.07.2020 18:00                         NaN   \n22482  25.07.2020 18:00 - 25.07.2020 19:00                         NaN   \n24489  17.10.2020 09:00 - 17.10.2020 10:00                         NaN   \n24673  25.10.2020 01:00 - 25.10.2020 02:00                         NaN   \n\n       CBF BZN|NO1 > BZN|NO2 [MW]  CBF BZN|NO3 > BZN|NO1 [MW]  \\\n16033                         NaN                         NaN   \n17807                         NaN                         NaN   \n17808                         NaN                         NaN   \n17809                         NaN                         NaN   \n17810                         NaN                         NaN   \n17811                         NaN                         NaN   \n17812                         NaN                         NaN   \n17813                         NaN                         NaN   \n17814                         NaN                         NaN   \n17815                         NaN                         NaN   \n17816                         NaN                         NaN   \n17817                         NaN                         NaN   \n17818                         NaN                         NaN   \n17819                         NaN                         NaN   \n17820                         NaN                         NaN   \n17821                         NaN                         NaN   \n17822                         NaN                         NaN   \n17823                         NaN                         NaN   \n17824                         NaN                         NaN   \n17825                         NaN                         NaN   \n17826                         NaN                         NaN   \n17827                         NaN                         NaN   \n17828                         NaN                         NaN   \n17829                         NaN                         NaN   \n17830                         NaN                         NaN   \n18035                         NaN                         NaN   \n22480                         NaN                         NaN   \n22481                         NaN                         NaN   \n22482                         NaN                         NaN   \n24489                         NaN                         NaN   \n24673                         NaN                         NaN   \n\n       CBF BZN|NO1 > BZN|NO3 [MW]  CBF BZN|NO5 > BZN|NO1 [MW]  \\\n16033                         NaN                         NaN   \n17807                         NaN                         NaN   \n17808                         NaN                         NaN   \n17809                         NaN                         NaN   \n17810                         NaN                         NaN   \n17811                         NaN                         NaN   \n17812                         NaN                         NaN   \n17813                         NaN                         NaN   \n17814                         NaN                         NaN   \n17815                         NaN                         NaN   \n17816                         NaN                         NaN   \n17817                         NaN                         NaN   \n17818                         NaN                         NaN   \n17819                         NaN                         NaN   \n17820                         NaN                         NaN   \n17821                         NaN                         NaN   \n17822                         NaN                         NaN   \n17823                         NaN                         NaN   \n17824                         NaN                         NaN   \n17825                         NaN                         NaN   \n17826                         NaN                         NaN   \n17827                         NaN                         NaN   \n17828                         NaN                         NaN   \n17829                         NaN                         NaN   \n17830                         NaN                         NaN   \n18035                         NaN                         NaN   \n22480                         NaN                         NaN   \n22481                         NaN                         NaN   \n22482                         NaN                         NaN   \n24489                         NaN                         NaN   \n24673                         NaN                         NaN   \n\n       CBF BZN|NO1 > BZN|NO5 [MW]  CBF BZN|SE3 > BZN|NO1 [MW]  \\\n16033                         NaN                         317   \n17807                         NaN                        1750   \n17808                         NaN                        1442   \n17809                         NaN                        1449   \n17810                         NaN                        1351   \n17811                         NaN                        1372   \n17812                         NaN                        1089   \n17813                         NaN                          14   \n17814                         NaN                           0   \n17815                         NaN                           0   \n17816                         NaN                           0   \n17817                         NaN                           0   \n17818                         NaN                           0   \n17819                         NaN                           0   \n17820                         NaN                           0   \n17821                         NaN                           0   \n17822                         NaN                           0   \n17823                         NaN                           0   \n17824                         NaN                           0   \n17825                         NaN                           0   \n17826                         NaN                           0   \n17827                         NaN                         694   \n17828                         NaN                        1255   \n17829                         NaN                        1456   \n17830                         NaN                        1542   \n18035                         NaN                         319   \n22480                         NaN                           0   \n22481                         NaN                           0   \n22482                         NaN                           0   \n24489                         NaN                           0   \n24673                         NaN                           0   \n\n       CBF BZN|NO1 > BZN|SE3 [MW]  \n16033                           0  \n17807                           0  \n17808                           0  \n17809                           0  \n17810                           0  \n17811                           0  \n17812                           0  \n17813                           0  \n17814                         921  \n17815                        1039  \n17816                        1071  \n17817                        1217  \n17818                        1077  \n17819                        1011  \n17820                        1068  \n17821                        1196  \n17822                        1335  \n17823                        1199  \n17824                        1071  \n17825                         925  \n17826                         199  \n17827                           0  \n17828                           0  \n17829                           0  \n17830                           0  \n18035                           0  \n22480                        1709  \n22481                        1716  \n22482                        1743  \n24489                         947  \n24673                         850  ",
      "text/html": "<div>\n<style scoped>\n    .dataframe tbody tr th:only-of-type {\n        vertical-align: middle;\n    }\n\n    .dataframe tbody tr th {\n        vertical-align: top;\n    }\n\n    .dataframe thead th {\n        text-align: right;\n    }\n</style>\n<table border=\"1\" class=\"dataframe\">\n  <thead>\n    <tr style=\"text-align: right;\">\n      <th></th>\n      <th>MTU (UTC)</th>\n      <th>CBF BZN|NO2 &gt; BZN|NO1 [MW]</th>\n      <th>CBF BZN|NO1 &gt; BZN|NO2 [MW]</th>\n      <th>CBF BZN|NO3 &gt; BZN|NO1 [MW]</th>\n      <th>CBF BZN|NO1 &gt; BZN|NO3 [MW]</th>\n      <th>CBF BZN|NO5 &gt; BZN|NO1 [MW]</th>\n      <th>CBF BZN|NO1 &gt; BZN|NO5 [MW]</th>\n      <th>CBF BZN|SE3 &gt; BZN|NO1 [MW]</th>\n      <th>CBF BZN|NO1 &gt; BZN|SE3 [MW]</th>\n    </tr>\n  </thead>\n  <tbody>\n    <tr>\n      <th>16033</th>\n      <td>31.10.2021 01:00 - 31.10.2021 02:00</td>\n      <td>NaN</td>\n      <td>NaN</td>\n      <td>NaN</td>\n      <td>NaN</td>\n      <td>NaN</td>\n      <td>NaN</td>\n      <td>317</td>\n      <td>0</td>\n    </tr>\n    <tr>\n      <th>17807</th>\n      <td>12.01.2020 23:00 - 13.01.2020 00:00</td>\n      <td>NaN</td>\n      <td>NaN</td>\n      <td>NaN</td>\n      <td>NaN</td>\n      <td>NaN</td>\n      <td>NaN</td>\n      <td>1750</td>\n      <td>0</td>\n    </tr>\n    <tr>\n      <th>17808</th>\n      <td>13.01.2020 00:00 - 13.01.2020 01:00</td>\n      <td>NaN</td>\n      <td>NaN</td>\n      <td>NaN</td>\n      <td>NaN</td>\n      <td>NaN</td>\n      <td>NaN</td>\n      <td>1442</td>\n      <td>0</td>\n    </tr>\n    <tr>\n      <th>17809</th>\n      <td>13.01.2020 01:00 - 13.01.2020 02:00</td>\n      <td>NaN</td>\n      <td>NaN</td>\n      <td>NaN</td>\n      <td>NaN</td>\n      <td>NaN</td>\n      <td>NaN</td>\n      <td>1449</td>\n      <td>0</td>\n    </tr>\n    <tr>\n      <th>17810</th>\n      <td>13.01.2020 02:00 - 13.01.2020 03:00</td>\n      <td>NaN</td>\n      <td>NaN</td>\n      <td>NaN</td>\n      <td>NaN</td>\n      <td>NaN</td>\n      <td>NaN</td>\n      <td>1351</td>\n      <td>0</td>\n    </tr>\n    <tr>\n      <th>17811</th>\n      <td>13.01.2020 03:00 - 13.01.2020 04:00</td>\n      <td>NaN</td>\n      <td>NaN</td>\n      <td>NaN</td>\n      <td>NaN</td>\n      <td>NaN</td>\n      <td>NaN</td>\n      <td>1372</td>\n      <td>0</td>\n    </tr>\n    <tr>\n      <th>17812</th>\n      <td>13.01.2020 04:00 - 13.01.2020 05:00</td>\n      <td>NaN</td>\n      <td>NaN</td>\n      <td>NaN</td>\n      <td>NaN</td>\n      <td>NaN</td>\n      <td>NaN</td>\n      <td>1089</td>\n      <td>0</td>\n    </tr>\n    <tr>\n      <th>17813</th>\n      <td>13.01.2020 05:00 - 13.01.2020 06:00</td>\n      <td>NaN</td>\n      <td>NaN</td>\n      <td>NaN</td>\n      <td>NaN</td>\n      <td>NaN</td>\n      <td>NaN</td>\n      <td>14</td>\n      <td>0</td>\n    </tr>\n    <tr>\n      <th>17814</th>\n      <td>13.01.2020 06:00 - 13.01.2020 07:00</td>\n      <td>NaN</td>\n      <td>NaN</td>\n      <td>NaN</td>\n      <td>NaN</td>\n      <td>NaN</td>\n      <td>NaN</td>\n      <td>0</td>\n      <td>921</td>\n    </tr>\n    <tr>\n      <th>17815</th>\n      <td>13.01.2020 07:00 - 13.01.2020 08:00</td>\n      <td>NaN</td>\n      <td>NaN</td>\n      <td>NaN</td>\n      <td>NaN</td>\n      <td>NaN</td>\n      <td>NaN</td>\n      <td>0</td>\n      <td>1039</td>\n    </tr>\n    <tr>\n      <th>17816</th>\n      <td>13.01.2020 08:00 - 13.01.2020 09:00</td>\n      <td>NaN</td>\n      <td>NaN</td>\n      <td>NaN</td>\n      <td>NaN</td>\n      <td>NaN</td>\n      <td>NaN</td>\n      <td>0</td>\n      <td>1071</td>\n    </tr>\n    <tr>\n      <th>17817</th>\n      <td>13.01.2020 09:00 - 13.01.2020 10:00</td>\n      <td>NaN</td>\n      <td>NaN</td>\n      <td>NaN</td>\n      <td>NaN</td>\n      <td>NaN</td>\n      <td>NaN</td>\n      <td>0</td>\n      <td>1217</td>\n    </tr>\n    <tr>\n      <th>17818</th>\n      <td>13.01.2020 10:00 - 13.01.2020 11:00</td>\n      <td>NaN</td>\n      <td>NaN</td>\n      <td>NaN</td>\n      <td>NaN</td>\n      <td>NaN</td>\n      <td>NaN</td>\n      <td>0</td>\n      <td>1077</td>\n    </tr>\n    <tr>\n      <th>17819</th>\n      <td>13.01.2020 11:00 - 13.01.2020 12:00</td>\n      <td>NaN</td>\n      <td>NaN</td>\n      <td>NaN</td>\n      <td>NaN</td>\n      <td>NaN</td>\n      <td>NaN</td>\n      <td>0</td>\n      <td>1011</td>\n    </tr>\n    <tr>\n      <th>17820</th>\n      <td>13.01.2020 12:00 - 13.01.2020 13:00</td>\n      <td>NaN</td>\n      <td>NaN</td>\n      <td>NaN</td>\n      <td>NaN</td>\n      <td>NaN</td>\n      <td>NaN</td>\n      <td>0</td>\n      <td>1068</td>\n    </tr>\n    <tr>\n      <th>17821</th>\n      <td>13.01.2020 13:00 - 13.01.2020 14:00</td>\n      <td>NaN</td>\n      <td>NaN</td>\n      <td>NaN</td>\n      <td>NaN</td>\n      <td>NaN</td>\n      <td>NaN</td>\n      <td>0</td>\n      <td>1196</td>\n    </tr>\n    <tr>\n      <th>17822</th>\n      <td>13.01.2020 14:00 - 13.01.2020 15:00</td>\n      <td>NaN</td>\n      <td>NaN</td>\n      <td>NaN</td>\n      <td>NaN</td>\n      <td>NaN</td>\n      <td>NaN</td>\n      <td>0</td>\n      <td>1335</td>\n    </tr>\n    <tr>\n      <th>17823</th>\n      <td>13.01.2020 15:00 - 13.01.2020 16:00</td>\n      <td>NaN</td>\n      <td>NaN</td>\n      <td>NaN</td>\n      <td>NaN</td>\n      <td>NaN</td>\n      <td>NaN</td>\n      <td>0</td>\n      <td>1199</td>\n    </tr>\n    <tr>\n      <th>17824</th>\n      <td>13.01.2020 16:00 - 13.01.2020 17:00</td>\n      <td>NaN</td>\n      <td>NaN</td>\n      <td>NaN</td>\n      <td>NaN</td>\n      <td>NaN</td>\n      <td>NaN</td>\n      <td>0</td>\n      <td>1071</td>\n    </tr>\n    <tr>\n      <th>17825</th>\n      <td>13.01.2020 17:00 - 13.01.2020 18:00</td>\n      <td>NaN</td>\n      <td>NaN</td>\n      <td>NaN</td>\n      <td>NaN</td>\n      <td>NaN</td>\n      <td>NaN</td>\n      <td>0</td>\n      <td>925</td>\n    </tr>\n    <tr>\n      <th>17826</th>\n      <td>13.01.2020 18:00 - 13.01.2020 19:00</td>\n      <td>NaN</td>\n      <td>NaN</td>\n      <td>NaN</td>\n      <td>NaN</td>\n      <td>NaN</td>\n      <td>NaN</td>\n      <td>0</td>\n      <td>199</td>\n    </tr>\n    <tr>\n      <th>17827</th>\n      <td>13.01.2020 19:00 - 13.01.2020 20:00</td>\n      <td>NaN</td>\n      <td>NaN</td>\n      <td>NaN</td>\n      <td>NaN</td>\n      <td>NaN</td>\n      <td>NaN</td>\n      <td>694</td>\n      <td>0</td>\n    </tr>\n    <tr>\n      <th>17828</th>\n      <td>13.01.2020 20:00 - 13.01.2020 21:00</td>\n      <td>NaN</td>\n      <td>NaN</td>\n      <td>NaN</td>\n      <td>NaN</td>\n      <td>NaN</td>\n      <td>NaN</td>\n      <td>1255</td>\n      <td>0</td>\n    </tr>\n    <tr>\n      <th>17829</th>\n      <td>13.01.2020 21:00 - 13.01.2020 22:00</td>\n      <td>NaN</td>\n      <td>NaN</td>\n      <td>NaN</td>\n      <td>NaN</td>\n      <td>NaN</td>\n      <td>NaN</td>\n      <td>1456</td>\n      <td>0</td>\n    </tr>\n    <tr>\n      <th>17830</th>\n      <td>13.01.2020 22:00 - 13.01.2020 23:00</td>\n      <td>NaN</td>\n      <td>NaN</td>\n      <td>NaN</td>\n      <td>NaN</td>\n      <td>NaN</td>\n      <td>NaN</td>\n      <td>1542</td>\n      <td>0</td>\n    </tr>\n    <tr>\n      <th>18035</th>\n      <td>22.01.2020 11:00 - 22.01.2020 12:00</td>\n      <td>NaN</td>\n      <td>NaN</td>\n      <td>NaN</td>\n      <td>NaN</td>\n      <td>NaN</td>\n      <td>NaN</td>\n      <td>319</td>\n      <td>0</td>\n    </tr>\n    <tr>\n      <th>22480</th>\n      <td>25.07.2020 16:00 - 25.07.2020 17:00</td>\n      <td>NaN</td>\n      <td>NaN</td>\n      <td>NaN</td>\n      <td>NaN</td>\n      <td>NaN</td>\n      <td>NaN</td>\n      <td>0</td>\n      <td>1709</td>\n    </tr>\n    <tr>\n      <th>22481</th>\n      <td>25.07.2020 17:00 - 25.07.2020 18:00</td>\n      <td>NaN</td>\n      <td>NaN</td>\n      <td>NaN</td>\n      <td>NaN</td>\n      <td>NaN</td>\n      <td>NaN</td>\n      <td>0</td>\n      <td>1716</td>\n    </tr>\n    <tr>\n      <th>22482</th>\n      <td>25.07.2020 18:00 - 25.07.2020 19:00</td>\n      <td>NaN</td>\n      <td>NaN</td>\n      <td>NaN</td>\n      <td>NaN</td>\n      <td>NaN</td>\n      <td>NaN</td>\n      <td>0</td>\n      <td>1743</td>\n    </tr>\n    <tr>\n      <th>24489</th>\n      <td>17.10.2020 09:00 - 17.10.2020 10:00</td>\n      <td>NaN</td>\n      <td>NaN</td>\n      <td>NaN</td>\n      <td>NaN</td>\n      <td>NaN</td>\n      <td>NaN</td>\n      <td>0</td>\n      <td>947</td>\n    </tr>\n    <tr>\n      <th>24673</th>\n      <td>25.10.2020 01:00 - 25.10.2020 02:00</td>\n      <td>NaN</td>\n      <td>NaN</td>\n      <td>NaN</td>\n      <td>NaN</td>\n      <td>NaN</td>\n      <td>NaN</td>\n      <td>0</td>\n      <td>850</td>\n    </tr>\n  </tbody>\n</table>\n</div>"
     },
     "execution_count": 59,
     "metadata": {},
     "output_type": "execute_result"
    }
   ],
   "source": [
    "import_export_no1_neighbours_2020_2022[import_export_no1_neighbours_2020_2022['CBF BZN|NO3 > BZN|NO1 [MW]'].isnull()]"
   ]
  },
  {
   "cell_type": "markdown",
   "id": "d1d70a61",
   "metadata": {},
   "source": [
    "It seems like import and export data between norwegian bidding zones are all missing for varous dates mostly in the year 2020, and one in the year 2021. Imputation of these missing values will be performed during Exploratory Data Analysis in order to choose the best method for the dataset."
   ]
  },
  {
   "cell_type": "markdown",
   "id": "58606dcb",
   "metadata": {},
   "source": [
    "### Aggregation of Water Reservoirs and Hydro Storage Plants\n",
    "\n",
    "The water reservoir dataset is measured with a weekly frequency while the other datasets are measured hourly. In order to make the data match frequency of measurements of the other datasets, we will need to up sample the data and interpolate the missing values. We will first map the weekly measurement to the first hour of each week, and then interpolate the intermediate measurements based on the weekly measurements. In order to interpolate the measurements of the last week, we will add the measurement for the first week of the succeeding year (2023) to the dataset. this measurement  will be dropped from the final dataset. Additionally, the first week of 2022 starts on january 3. 2022, so in order to get the data for the first two days we add the dataset for the last week of 2021. We will use spline interpolation to add smoothness to the interpolated curve, which will be more representative of water level fluctuations than a linear interpolation."
   ]
  },
  {
   "cell_type": "markdown",
   "id": "322dcc01",
   "metadata": {},
   "source": [
    "Reading in water levels as CSV with pandas library"
   ]
  },
  {
   "cell_type": "code",
   "execution_count": 60,
   "id": "7fe1343f",
   "metadata": {},
   "outputs": [],
   "source": [
    "# Loading in last week from datasets (2020)\n",
    "water_level_NO1_2019 = pd.read_csv(\"../datasets/water_level/NO1_2019_Water Reservoirs and Hydro Storage Plants_201812310000-201912300000.csv\", skiprows=range(1, 52))\n",
    "water_level_NO2_2019 = pd.read_csv(\"../datasets/water_level/NO2_2019_Water Reservoirs and Hydro Storage Plants_201812310000-201912300000.csv\", skiprows=range(1, 52))\n",
    "water_level_NO3_2019 = pd.read_csv(\"../datasets/water_level/NO3_2019_Water Reservoirs and Hydro Storage Plants_201812310000-201912300000.csv\", skiprows=range(1, 52))\n",
    "water_level_NO5_2019 = pd.read_csv(\"../datasets/water_level/NO5_2019_Water Reservoirs and Hydro Storage Plants_201812310000-201912300000.csv\", skiprows=range(1, 52))\n",
    "water_level_SE3_2019 = pd.read_csv(\"../datasets/water_level/SE3_2019_Water Reservoirs and Hydro Storage Plants_201812310000-201912300000.csv\", skiprows=range(1, 52))\n",
    "\n",
    "# Loading in datasets (2020)\n",
    "water_level_NO1_2020 = pd.read_csv(\"../datasets/water_level/NO1_2020_Water Reservoirs and Hydro Storage Plants_201912300000-202101040000.csv\")\n",
    "water_level_NO2_2020 = pd.read_csv(\"../datasets/water_level/NO2_2020_Water Reservoirs and Hydro Storage Plants_201912300000-202101040000.csv\")\n",
    "water_level_NO3_2020 = pd.read_csv(\"../datasets/water_level/NO3_2020_Water Reservoirs and Hydro Storage Plants_201912300000-202101040000.csv\")\n",
    "water_level_NO5_2020 = pd.read_csv(\"../datasets/water_level/NO5_2020_Water Reservoirs and Hydro Storage Plants_201912300000-202101040000.csv\")\n",
    "water_level_SE3_2020 = pd.read_csv(\"../datasets/water_level/SE3_2020_Water Reservoirs and Hydro Storage Plants_201912300000-202101040000.csv\")\n",
    "\n",
    "# Loading in datasets (2021)\n",
    "water_level_NO1_2021 = pd.read_csv(\"../datasets/water_level/NO1_2021_Water Reservoirs and Hydro Storage Plants_202101040000-202201030000.csv\")\n",
    "water_level_NO2_2021 = pd.read_csv(\"../datasets/water_level/NO2_2021_Water Reservoirs and Hydro Storage Plants_202101040000-202201030000.csv\")\n",
    "water_level_NO3_2021 = pd.read_csv(\"../datasets/water_level/NO3_2021_Water Reservoirs and Hydro Storage Plants_202101040000-202201030000.csv\")\n",
    "water_level_NO5_2021 = pd.read_csv(\"../datasets/water_level/NO5_2021_Water Reservoirs and Hydro Storage Plants_202101040000-202201030000.csv\")\n",
    "water_level_SE3_2021 = pd.read_csv(\"../datasets/water_level/SE3_2021_Water Reservoirs and Hydro Storage Plants_202101040000-202201030000.csv\")\n",
    "\n",
    "# Loading in datasets (2022)\n",
    "water_level_NO1_2022 = pd.read_csv(\"../datasets/water_level/NO1_2022_Water_Reservoirs_and_Hydro_Storage_Plants_202201030000-202301020000.csv\")\n",
    "water_level_NO2_2022 = pd.read_csv(\"../datasets/water_level/NO2_2022_Water_Reservoirs_and_Hydro_Storage Plants_202201030000-202301020000.csv\")\n",
    "water_level_NO3_2022 = pd.read_csv(\"../datasets/water_level/NO3_2022_Water_Reservoirs_and_Hydro_Storage Plants_202201030000-202301020000.csv\")\n",
    "water_level_NO5_2022 = pd.read_csv(\"../datasets/water_level/NO5_2022_Water_Reservoirs_and_Hydro_Storage Plants_202201030000-202301020000.csv\")\n",
    "water_level_SE3_2022 = pd.read_csv(\"../datasets/water_level/SE3_2022_Water_Reservoirs_and_Hydro_Storage Plants_202201030000-202301020000.csv\")\n",
    "\n",
    "# Loading in only the first week of 2023\n",
    "water_level_NO1_2023 = pd.read_csv(\"../datasets/water_level/NO1_2023_Water Reservoirs and Hydro Storage Plants_202301020000-202401010000.csv\", nrows=1)\n",
    "water_level_NO2_2023 = pd.read_csv(\"../datasets/water_level/NO2_2023_Water Reservoirs and Hydro Storage Plants_202301020000-202401010000.csv\", nrows=1)\n",
    "water_level_NO3_2023 = pd.read_csv(\"../datasets/water_level/NO3_2023_Water Reservoirs and Hydro Storage Plants_202301020000-202401010000.csv\", nrows=1)\n",
    "water_level_NO5_2023 = pd.read_csv(\"../datasets/water_level/NO5_2023_Water Reservoirs and Hydro Storage Plants_202301020000-202401010000.csv\", nrows=1)\n",
    "water_level_SE3_2023 = pd.read_csv(\"../datasets/water_level/SE3_2023_Water Reservoirs and Hydro Storage Plants_202301020000-202401010000.csv\", nrows=1)"
   ]
  },
  {
   "cell_type": "code",
   "execution_count": 61,
   "id": "5ada8ac7",
   "metadata": {},
   "outputs": [],
   "source": [
    "water_level_NO1 = pd.concat([water_level_NO1_2019, water_level_NO1_2020, water_level_NO1_2021, water_level_NO1_2022, water_level_NO1_2023], ignore_index= True, axis= 0)\n",
    "water_level_NO2 = pd.concat([water_level_NO2_2019, water_level_NO2_2020, water_level_NO2_2021, water_level_NO2_2022, water_level_NO2_2023], ignore_index= True, axis= 0)\n",
    "water_level_NO3 = pd.concat([water_level_NO3_2019, water_level_NO3_2020, water_level_NO3_2021, water_level_NO3_2022, water_level_NO3_2023], ignore_index= True, axis= 0)\n",
    "water_level_NO5 = pd.concat([water_level_NO5_2019, water_level_NO5_2020, water_level_NO5_2021, water_level_NO5_2022, water_level_NO5_2023], ignore_index= True, axis= 0)\n",
    "water_level_SE3 = pd.concat([water_level_SE3_2019, water_level_SE3_2020, water_level_SE3_2021, water_level_SE3_2022, water_level_SE3_2023], ignore_index= True, axis= 0)"
   ]
  },
  {
   "cell_type": "code",
   "execution_count": 62,
   "id": "d79c6c6e",
   "metadata": {},
   "outputs": [
    {
     "name": "stdout",
     "output_type": "stream",
     "text": [
      "(159, 2)\n",
      "(159, 2)\n",
      "(159, 2)\n",
      "(159, 2)\n",
      "(159, 2)\n"
     ]
    }
   ],
   "source": [
    "print(water_level_NO1.shape)\n",
    "print(water_level_NO2.shape)\n",
    "print(water_level_NO3.shape)\n",
    "print(water_level_NO5.shape)\n",
    "print(water_level_SE3.shape)"
   ]
  },
  {
   "cell_type": "code",
   "execution_count": 63,
   "id": "b8024acd",
   "metadata": {},
   "outputs": [
    {
     "data": {
      "text/plain": "<bound method DataFrame.info of         Week  Stored Energy Value [MWh] - BZN|SE3\n0    Week 52                            2248000.0\n1     Week 1                            2220000.0\n2     Week 2                            2189000.0\n3     Week 3                            2168000.0\n4     Week 4                            2096000.0\n..       ...                                  ...\n154  Week 49                            1636000.0\n155  Week 50                            1519000.0\n156  Week 51                            1525000.0\n157  Week 52                            1579000.0\n158   Week 1                            1584000.0\n\n[159 rows x 2 columns]>"
     },
     "execution_count": 63,
     "metadata": {},
     "output_type": "execute_result"
    }
   ],
   "source": [
    "water_level_SE3.info"
   ]
  },
  {
   "cell_type": "code",
   "execution_count": 64,
   "id": "7e37ad23",
   "metadata": {},
   "outputs": [],
   "source": [
    "range_numbers = pd.Series(range(1,160), dtype=np.int64, name='Week_Number')\n",
    "weeknumber = range_numbers.to_frame()\n",
    "weeknumber = pd.DataFrame(weeknumber)"
   ]
  },
  {
   "cell_type": "code",
   "execution_count": 65,
   "id": "2a22c734",
   "metadata": {},
   "outputs": [
    {
     "data": {
      "text/plain": "<bound method DataFrame.info of      Week_Number\n0              1\n1              2\n2              3\n3              4\n4              5\n..           ...\n154          155\n155          156\n156          157\n157          158\n158          159\n\n[159 rows x 1 columns]>"
     },
     "execution_count": 65,
     "metadata": {},
     "output_type": "execute_result"
    }
   ],
   "source": [
    "weeknumber.info"
   ]
  },
  {
   "cell_type": "code",
   "execution_count": 66,
   "id": "218ef2ec",
   "metadata": {},
   "outputs": [],
   "source": [
    "joined_water_week_NO1 = pd.concat([weeknumber, water_level_NO1], axis=1)\n",
    "joined_water_week_NO2 = pd.concat([weeknumber, water_level_NO2], axis=1)\n",
    "joined_water_week_NO3 = pd.concat([weeknumber, water_level_NO3], axis=1)\n",
    "joined_water_week_NO5 = pd.concat([weeknumber, water_level_NO5], axis=1)\n",
    "joined_water_week_SE3 = pd.concat([weeknumber, water_level_SE3], axis=1)\n",
    "\n",
    "joined_water_week_NO1.drop('Week', axis=1, inplace=True)\n",
    "joined_water_week_NO2.drop('Week', axis=1, inplace=True)\n",
    "joined_water_week_NO3.drop('Week', axis=1, inplace=True)\n",
    "joined_water_week_NO5.drop('Week', axis=1, inplace=True)\n",
    "joined_water_week_SE3.drop('Week', axis=1, inplace=True)"
   ]
  },
  {
   "cell_type": "code",
   "execution_count": 67,
   "id": "c98ab0f2",
   "metadata": {},
   "outputs": [
    {
     "data": {
      "text/plain": "<bound method DataFrame.info of      Week_Number  Stored Energy Value [MWh] - BZN|NO1\n0              1                              4140000\n1              2                              4012000\n2              3                              3844000\n3              4                              3718000\n4              5                              3568000\n..           ...                                  ...\n154          155                              4547299\n155          156                              4240847\n156          157                              4054917\n157          158                              3915448\n158          159                              3741135\n\n[159 rows x 2 columns]>"
     },
     "execution_count": 67,
     "metadata": {},
     "output_type": "execute_result"
    }
   ],
   "source": [
    "joined_water_week_NO1.info"
   ]
  },
  {
   "cell_type": "code",
   "execution_count": 68,
   "id": "89ef124b",
   "metadata": {},
   "outputs": [
    {
     "name": "stdout",
     "output_type": "stream",
     "text": [
      "Week_Number                            0\n",
      "Stored Energy Value [MWh] - BZN|NO1    0\n",
      "dtype: int64\n",
      "Week_Number                            0\n",
      "Stored Energy Value [MWh] - BZN|NO2    0\n",
      "dtype: int64\n",
      "Week_Number                            0\n",
      "Stored Energy Value [MWh] - BZN|NO3    0\n",
      "dtype: int64\n",
      "Week_Number                            0\n",
      "Stored Energy Value [MWh] - BZN|NO5    0\n",
      "dtype: int64\n",
      "Week_Number                            0\n",
      "Stored Energy Value [MWh] - BZN|SE3    1\n",
      "dtype: int64\n"
     ]
    }
   ],
   "source": [
    "# joined_water_week_NO1[joined_water_week_NO1['Stored Energy Value [MWh] - BZN|NO1'].isnull()]\n",
    "print(joined_water_week_NO1.isna().sum())\n",
    "print(joined_water_week_NO2.isna().sum())\n",
    "print(joined_water_week_NO3.isna().sum())\n",
    "print(joined_water_week_NO5.isna().sum())\n",
    "print(joined_water_week_SE3.isna().sum())"
   ]
  },
  {
   "cell_type": "code",
   "execution_count": 69,
   "id": "460e803d",
   "metadata": {},
   "outputs": [
    {
     "data": {
      "text/plain": "    Week_Number  Stored Energy Value [MWh] - BZN|SE3\n53           54                                  NaN",
      "text/html": "<div>\n<style scoped>\n    .dataframe tbody tr th:only-of-type {\n        vertical-align: middle;\n    }\n\n    .dataframe tbody tr th {\n        vertical-align: top;\n    }\n\n    .dataframe thead th {\n        text-align: right;\n    }\n</style>\n<table border=\"1\" class=\"dataframe\">\n  <thead>\n    <tr style=\"text-align: right;\">\n      <th></th>\n      <th>Week_Number</th>\n      <th>Stored Energy Value [MWh] - BZN|SE3</th>\n    </tr>\n  </thead>\n  <tbody>\n    <tr>\n      <th>53</th>\n      <td>54</td>\n      <td>NaN</td>\n    </tr>\n  </tbody>\n</table>\n</div>"
     },
     "execution_count": 69,
     "metadata": {},
     "output_type": "execute_result"
    }
   ],
   "source": [
    "joined_water_week_SE3[joined_water_week_SE3['Stored Energy Value [MWh] - BZN|SE3'].isnull()]"
   ]
  },
  {
   "cell_type": "code",
   "execution_count": 70,
   "id": "a532c6cb",
   "metadata": {},
   "outputs": [],
   "source": [
    "joined_water_week_SE3['Stored Energy Value [MWh] - BZN|SE3'] = joined_water_week_SE3['Stored Energy Value [MWh] - BZN|SE3'].interpolate(option='spline')"
   ]
  },
  {
   "cell_type": "code",
   "execution_count": 71,
   "id": "5085669c",
   "metadata": {},
   "outputs": [
    {
     "data": {
      "text/plain": "    Week_Number  Stored Energy Value [MWh] - BZN|SE3\n53           54                            2041500.0",
      "text/html": "<div>\n<style scoped>\n    .dataframe tbody tr th:only-of-type {\n        vertical-align: middle;\n    }\n\n    .dataframe tbody tr th {\n        vertical-align: top;\n    }\n\n    .dataframe thead th {\n        text-align: right;\n    }\n</style>\n<table border=\"1\" class=\"dataframe\">\n  <thead>\n    <tr style=\"text-align: right;\">\n      <th></th>\n      <th>Week_Number</th>\n      <th>Stored Energy Value [MWh] - BZN|SE3</th>\n    </tr>\n  </thead>\n  <tbody>\n    <tr>\n      <th>53</th>\n      <td>54</td>\n      <td>2041500.0</td>\n    </tr>\n  </tbody>\n</table>\n</div>"
     },
     "execution_count": 71,
     "metadata": {},
     "output_type": "execute_result"
    }
   ],
   "source": [
    "joined_water_week_SE3.iloc[[53]]"
   ]
  },
  {
   "cell_type": "code",
   "execution_count": 72,
   "id": "27a7599d",
   "metadata": {},
   "outputs": [
    {
     "data": {
      "text/plain": "<bound method DataFrame.info of      Week_Number  Stored Energy Value [MWh] - BZN|NO1  \\\n0              1                              4140000   \n1              2                              4012000   \n2              3                              3844000   \n3              4                              3718000   \n4              5                              3568000   \n..           ...                                  ...   \n154          155                              4547299   \n155          156                              4240847   \n156          157                              4054917   \n157          158                              3915448   \n158          159                              3741135   \n\n     Stored Energy Value [MWh] - BZN|NO2  Stored Energy Value [MWh] - BZN|NO3  \\\n0                               23767000                              5418000   \n1                               24273000                              5588000   \n2                               24560000                              5541000   \n3                               24476000                              5285000   \n4                               24254000                              5402000   \n..                                   ...                                  ...   \n154                             22990452                              5928768   \n155                             21893510                              5543624   \n156                             21328774                              5217632   \n157                             21384042                              5038234   \n158                             21066642                              4657760   \n\n     Stored Energy Value [MWh] - BZN|NO5  Stored Energy Value [MWh] - BZN|SE3  \n0                               11156000                            2248000.0  \n1                               11211000                            2220000.0  \n2                               11074000                            2189000.0  \n3                               10810000                            2168000.0  \n4                               10644000                            2096000.0  \n..                                   ...                                  ...  \n154                             13361399                            1636000.0  \n155                             12519513                            1519000.0  \n156                             12168425                            1525000.0  \n157                             12014136                            1579000.0  \n158                             11620688                            1584000.0  \n\n[159 rows x 6 columns]>"
     },
     "execution_count": 72,
     "metadata": {},
     "output_type": "execute_result"
    }
   ],
   "source": [
    "# Merging the dataframes\n",
    "water_level_dataframes = [joined_water_week_NO1, joined_water_week_NO2, joined_water_week_NO3, joined_water_week_NO5, joined_water_week_SE3]\n",
    "water_level_dataframes = reduce(lambda left, right: pd.merge(left,right, on=[\"Week_Number\"]), water_level_dataframes)\n",
    "\n",
    "# printing out the 5 first rows of the resulting dataframe\n",
    "water_level_dataframes.info"
   ]
  },
  {
   "cell_type": "code",
   "execution_count": 73,
   "id": "6a1289f5",
   "metadata": {},
   "outputs": [
    {
     "data": {
      "text/plain": "<bound method DataFrame.info of     Week_start_date\n0        2019-12-23\n1        2019-12-30\n2        2020-01-06\n3        2020-01-13\n4        2020-01-20\n..              ...\n154      2022-12-05\n155      2022-12-12\n156      2022-12-19\n157      2022-12-26\n158      2023-01-02\n\n[159 rows x 1 columns]>"
     },
     "execution_count": 73,
     "metadata": {},
     "output_type": "execute_result"
    }
   ],
   "source": [
    "start_date = '2019-12-23'\n",
    "end_date = '2023-01-02'\n",
    "week_date_timeframe = pd.DataFrame(pd.date_range(start=start_date, end=end_date, freq='7D'))\n",
    "week_date_timeframe.rename(columns={0: 'Week_start_date'}, inplace=True)\n",
    "week_date_timeframe.info"
   ]
  },
  {
   "cell_type": "code",
   "execution_count": 74,
   "id": "308444ff",
   "metadata": {},
   "outputs": [
    {
     "data": {
      "text/plain": "<bound method DataFrame.info of     Week_start_date  Week_Number  Stored Energy Value [MWh] - BZN|NO1  \\\n0        2019-12-23            1                              4140000   \n1        2019-12-30            2                              4012000   \n2        2020-01-06            3                              3844000   \n3        2020-01-13            4                              3718000   \n4        2020-01-20            5                              3568000   \n..              ...          ...                                  ...   \n154      2022-12-05          155                              4547299   \n155      2022-12-12          156                              4240847   \n156      2022-12-19          157                              4054917   \n157      2022-12-26          158                              3915448   \n158      2023-01-02          159                              3741135   \n\n     Stored Energy Value [MWh] - BZN|NO2  Stored Energy Value [MWh] - BZN|NO3  \\\n0                               23767000                              5418000   \n1                               24273000                              5588000   \n2                               24560000                              5541000   \n3                               24476000                              5285000   \n4                               24254000                              5402000   \n..                                   ...                                  ...   \n154                             22990452                              5928768   \n155                             21893510                              5543624   \n156                             21328774                              5217632   \n157                             21384042                              5038234   \n158                             21066642                              4657760   \n\n     Stored Energy Value [MWh] - BZN|NO5  Stored Energy Value [MWh] - BZN|SE3  \n0                               11156000                            2248000.0  \n1                               11211000                            2220000.0  \n2                               11074000                            2189000.0  \n3                               10810000                            2168000.0  \n4                               10644000                            2096000.0  \n..                                   ...                                  ...  \n154                             13361399                            1636000.0  \n155                             12519513                            1519000.0  \n156                             12168425                            1525000.0  \n157                             12014136                            1579000.0  \n158                             11620688                            1584000.0  \n\n[159 rows x 7 columns]>"
     },
     "execution_count": 74,
     "metadata": {},
     "output_type": "execute_result"
    }
   ],
   "source": [
    "joined_week_date_water_dataframe = pd.concat([week_date_timeframe, water_level_dataframes], axis=1)\n",
    "joined_week_date_water_dataframe.info"
   ]
  },
  {
   "cell_type": "code",
   "execution_count": 75,
   "id": "88762715",
   "metadata": {},
   "outputs": [],
   "source": [
    "joined_week_date_water_dataframe.drop('Week_Number', axis=1, inplace=True)"
   ]
  },
  {
   "cell_type": "code",
   "execution_count": 76,
   "id": "2b5ecada",
   "metadata": {},
   "outputs": [
    {
     "data": {
      "text/plain": "  Week_start_date  Stored Energy Value [MWh] - BZN|NO1  \\\n0      2019-12-23                              4140000   \n1      2019-12-30                              4012000   \n2      2020-01-06                              3844000   \n3      2020-01-13                              3718000   \n4      2020-01-20                              3568000   \n\n   Stored Energy Value [MWh] - BZN|NO2  Stored Energy Value [MWh] - BZN|NO3  \\\n0                             23767000                              5418000   \n1                             24273000                              5588000   \n2                             24560000                              5541000   \n3                             24476000                              5285000   \n4                             24254000                              5402000   \n\n   Stored Energy Value [MWh] - BZN|NO5  Stored Energy Value [MWh] - BZN|SE3  \n0                             11156000                            2248000.0  \n1                             11211000                            2220000.0  \n2                             11074000                            2189000.0  \n3                             10810000                            2168000.0  \n4                             10644000                            2096000.0  ",
      "text/html": "<div>\n<style scoped>\n    .dataframe tbody tr th:only-of-type {\n        vertical-align: middle;\n    }\n\n    .dataframe tbody tr th {\n        vertical-align: top;\n    }\n\n    .dataframe thead th {\n        text-align: right;\n    }\n</style>\n<table border=\"1\" class=\"dataframe\">\n  <thead>\n    <tr style=\"text-align: right;\">\n      <th></th>\n      <th>Week_start_date</th>\n      <th>Stored Energy Value [MWh] - BZN|NO1</th>\n      <th>Stored Energy Value [MWh] - BZN|NO2</th>\n      <th>Stored Energy Value [MWh] - BZN|NO3</th>\n      <th>Stored Energy Value [MWh] - BZN|NO5</th>\n      <th>Stored Energy Value [MWh] - BZN|SE3</th>\n    </tr>\n  </thead>\n  <tbody>\n    <tr>\n      <th>0</th>\n      <td>2019-12-23</td>\n      <td>4140000</td>\n      <td>23767000</td>\n      <td>5418000</td>\n      <td>11156000</td>\n      <td>2248000.0</td>\n    </tr>\n    <tr>\n      <th>1</th>\n      <td>2019-12-30</td>\n      <td>4012000</td>\n      <td>24273000</td>\n      <td>5588000</td>\n      <td>11211000</td>\n      <td>2220000.0</td>\n    </tr>\n    <tr>\n      <th>2</th>\n      <td>2020-01-06</td>\n      <td>3844000</td>\n      <td>24560000</td>\n      <td>5541000</td>\n      <td>11074000</td>\n      <td>2189000.0</td>\n    </tr>\n    <tr>\n      <th>3</th>\n      <td>2020-01-13</td>\n      <td>3718000</td>\n      <td>24476000</td>\n      <td>5285000</td>\n      <td>10810000</td>\n      <td>2168000.0</td>\n    </tr>\n    <tr>\n      <th>4</th>\n      <td>2020-01-20</td>\n      <td>3568000</td>\n      <td>24254000</td>\n      <td>5402000</td>\n      <td>10644000</td>\n      <td>2096000.0</td>\n    </tr>\n  </tbody>\n</table>\n</div>"
     },
     "execution_count": 76,
     "metadata": {},
     "output_type": "execute_result"
    }
   ],
   "source": [
    "joined_week_date_water_dataframe.head()"
   ]
  },
  {
   "cell_type": "code",
   "execution_count": 77,
   "id": "0ea5b6f3",
   "metadata": {},
   "outputs": [],
   "source": [
    "joined_week_date_water_dataframe.set_index('Week_start_date', inplace=True)"
   ]
  },
  {
   "cell_type": "code",
   "execution_count": 78,
   "id": "680f24b3",
   "metadata": {},
   "outputs": [
    {
     "data": {
      "text/plain": "DatetimeIndex(['2019-12-23', '2019-12-30', '2020-01-06', '2020-01-13',\n               '2020-01-20', '2020-01-27', '2020-02-03', '2020-02-10',\n               '2020-02-17', '2020-02-24',\n               ...\n               '2022-10-31', '2022-11-07', '2022-11-14', '2022-11-21',\n               '2022-11-28', '2022-12-05', '2022-12-12', '2022-12-19',\n               '2022-12-26', '2023-01-02'],\n              dtype='datetime64[ns]', name='Week_start_date', length=159, freq=None)"
     },
     "execution_count": 78,
     "metadata": {},
     "output_type": "execute_result"
    }
   ],
   "source": [
    "joined_week_date_water_dataframe.index"
   ]
  },
  {
   "cell_type": "code",
   "execution_count": 79,
   "id": "42cf2fcb",
   "metadata": {},
   "outputs": [
    {
     "data": {
      "text/plain": "                 Stored Energy Value [MWh] - BZN|NO1  \\\nWeek_start_date                                        \n2019-12-23                                   4140000   \n2019-12-30                                   4012000   \n2020-01-06                                   3844000   \n2020-01-13                                   3718000   \n2020-01-20                                   3568000   \n\n                 Stored Energy Value [MWh] - BZN|NO2  \\\nWeek_start_date                                        \n2019-12-23                                  23767000   \n2019-12-30                                  24273000   \n2020-01-06                                  24560000   \n2020-01-13                                  24476000   \n2020-01-20                                  24254000   \n\n                 Stored Energy Value [MWh] - BZN|NO3  \\\nWeek_start_date                                        \n2019-12-23                                   5418000   \n2019-12-30                                   5588000   \n2020-01-06                                   5541000   \n2020-01-13                                   5285000   \n2020-01-20                                   5402000   \n\n                 Stored Energy Value [MWh] - BZN|NO5  \\\nWeek_start_date                                        \n2019-12-23                                  11156000   \n2019-12-30                                  11211000   \n2020-01-06                                  11074000   \n2020-01-13                                  10810000   \n2020-01-20                                  10644000   \n\n                 Stored Energy Value [MWh] - BZN|SE3  \nWeek_start_date                                       \n2019-12-23                                 2248000.0  \n2019-12-30                                 2220000.0  \n2020-01-06                                 2189000.0  \n2020-01-13                                 2168000.0  \n2020-01-20                                 2096000.0  ",
      "text/html": "<div>\n<style scoped>\n    .dataframe tbody tr th:only-of-type {\n        vertical-align: middle;\n    }\n\n    .dataframe tbody tr th {\n        vertical-align: top;\n    }\n\n    .dataframe thead th {\n        text-align: right;\n    }\n</style>\n<table border=\"1\" class=\"dataframe\">\n  <thead>\n    <tr style=\"text-align: right;\">\n      <th></th>\n      <th>Stored Energy Value [MWh] - BZN|NO1</th>\n      <th>Stored Energy Value [MWh] - BZN|NO2</th>\n      <th>Stored Energy Value [MWh] - BZN|NO3</th>\n      <th>Stored Energy Value [MWh] - BZN|NO5</th>\n      <th>Stored Energy Value [MWh] - BZN|SE3</th>\n    </tr>\n    <tr>\n      <th>Week_start_date</th>\n      <th></th>\n      <th></th>\n      <th></th>\n      <th></th>\n      <th></th>\n    </tr>\n  </thead>\n  <tbody>\n    <tr>\n      <th>2019-12-23</th>\n      <td>4140000</td>\n      <td>23767000</td>\n      <td>5418000</td>\n      <td>11156000</td>\n      <td>2248000.0</td>\n    </tr>\n    <tr>\n      <th>2019-12-30</th>\n      <td>4012000</td>\n      <td>24273000</td>\n      <td>5588000</td>\n      <td>11211000</td>\n      <td>2220000.0</td>\n    </tr>\n    <tr>\n      <th>2020-01-06</th>\n      <td>3844000</td>\n      <td>24560000</td>\n      <td>5541000</td>\n      <td>11074000</td>\n      <td>2189000.0</td>\n    </tr>\n    <tr>\n      <th>2020-01-13</th>\n      <td>3718000</td>\n      <td>24476000</td>\n      <td>5285000</td>\n      <td>10810000</td>\n      <td>2168000.0</td>\n    </tr>\n    <tr>\n      <th>2020-01-20</th>\n      <td>3568000</td>\n      <td>24254000</td>\n      <td>5402000</td>\n      <td>10644000</td>\n      <td>2096000.0</td>\n    </tr>\n  </tbody>\n</table>\n</div>"
     },
     "execution_count": 79,
     "metadata": {},
     "output_type": "execute_result"
    }
   ],
   "source": [
    "joined_week_date_water_dataframe.head()"
   ]
  },
  {
   "cell_type": "code",
   "execution_count": 80,
   "id": "d99f69d2",
   "metadata": {},
   "outputs": [],
   "source": [
    "# uppsampling joined_water_week dataframe to an hourly frequency\n",
    "joined_week_date_water_dataframe = joined_week_date_water_dataframe.asfreq('H')"
   ]
  },
  {
   "cell_type": "code",
   "execution_count": 81,
   "id": "8fae8e41",
   "metadata": {},
   "outputs": [
    {
     "data": {
      "text/plain": "                     Stored Energy Value [MWh] - BZN|NO1  \\\nWeek_start_date                                            \n2019-12-23 00:00:00                            4140000.0   \n2019-12-23 01:00:00                                  NaN   \n2019-12-23 02:00:00                                  NaN   \n2019-12-23 03:00:00                                  NaN   \n2019-12-23 04:00:00                                  NaN   \n\n                     Stored Energy Value [MWh] - BZN|NO2  \\\nWeek_start_date                                            \n2019-12-23 00:00:00                           23767000.0   \n2019-12-23 01:00:00                                  NaN   \n2019-12-23 02:00:00                                  NaN   \n2019-12-23 03:00:00                                  NaN   \n2019-12-23 04:00:00                                  NaN   \n\n                     Stored Energy Value [MWh] - BZN|NO3  \\\nWeek_start_date                                            \n2019-12-23 00:00:00                            5418000.0   \n2019-12-23 01:00:00                                  NaN   \n2019-12-23 02:00:00                                  NaN   \n2019-12-23 03:00:00                                  NaN   \n2019-12-23 04:00:00                                  NaN   \n\n                     Stored Energy Value [MWh] - BZN|NO5  \\\nWeek_start_date                                            \n2019-12-23 00:00:00                           11156000.0   \n2019-12-23 01:00:00                                  NaN   \n2019-12-23 02:00:00                                  NaN   \n2019-12-23 03:00:00                                  NaN   \n2019-12-23 04:00:00                                  NaN   \n\n                     Stored Energy Value [MWh] - BZN|SE3  \nWeek_start_date                                           \n2019-12-23 00:00:00                            2248000.0  \n2019-12-23 01:00:00                                  NaN  \n2019-12-23 02:00:00                                  NaN  \n2019-12-23 03:00:00                                  NaN  \n2019-12-23 04:00:00                                  NaN  ",
      "text/html": "<div>\n<style scoped>\n    .dataframe tbody tr th:only-of-type {\n        vertical-align: middle;\n    }\n\n    .dataframe tbody tr th {\n        vertical-align: top;\n    }\n\n    .dataframe thead th {\n        text-align: right;\n    }\n</style>\n<table border=\"1\" class=\"dataframe\">\n  <thead>\n    <tr style=\"text-align: right;\">\n      <th></th>\n      <th>Stored Energy Value [MWh] - BZN|NO1</th>\n      <th>Stored Energy Value [MWh] - BZN|NO2</th>\n      <th>Stored Energy Value [MWh] - BZN|NO3</th>\n      <th>Stored Energy Value [MWh] - BZN|NO5</th>\n      <th>Stored Energy Value [MWh] - BZN|SE3</th>\n    </tr>\n    <tr>\n      <th>Week_start_date</th>\n      <th></th>\n      <th></th>\n      <th></th>\n      <th></th>\n      <th></th>\n    </tr>\n  </thead>\n  <tbody>\n    <tr>\n      <th>2019-12-23 00:00:00</th>\n      <td>4140000.0</td>\n      <td>23767000.0</td>\n      <td>5418000.0</td>\n      <td>11156000.0</td>\n      <td>2248000.0</td>\n    </tr>\n    <tr>\n      <th>2019-12-23 01:00:00</th>\n      <td>NaN</td>\n      <td>NaN</td>\n      <td>NaN</td>\n      <td>NaN</td>\n      <td>NaN</td>\n    </tr>\n    <tr>\n      <th>2019-12-23 02:00:00</th>\n      <td>NaN</td>\n      <td>NaN</td>\n      <td>NaN</td>\n      <td>NaN</td>\n      <td>NaN</td>\n    </tr>\n    <tr>\n      <th>2019-12-23 03:00:00</th>\n      <td>NaN</td>\n      <td>NaN</td>\n      <td>NaN</td>\n      <td>NaN</td>\n      <td>NaN</td>\n    </tr>\n    <tr>\n      <th>2019-12-23 04:00:00</th>\n      <td>NaN</td>\n      <td>NaN</td>\n      <td>NaN</td>\n      <td>NaN</td>\n      <td>NaN</td>\n    </tr>\n  </tbody>\n</table>\n</div>"
     },
     "execution_count": 81,
     "metadata": {},
     "output_type": "execute_result"
    }
   ],
   "source": [
    "# printing out 5 first rows of the resulting dataframe\n",
    "joined_week_date_water_dataframe.head()"
   ]
  },
  {
   "cell_type": "code",
   "execution_count": 82,
   "id": "919865b2",
   "metadata": {},
   "outputs": [
    {
     "data": {
      "text/plain": "                     Stored Energy Value [MWh] - BZN|NO1  \\\nWeek_start_date                                            \n2023-01-01 20:00:00                                  NaN   \n2023-01-01 21:00:00                                  NaN   \n2023-01-01 22:00:00                                  NaN   \n2023-01-01 23:00:00                                  NaN   \n2023-01-02 00:00:00                            3741135.0   \n\n                     Stored Energy Value [MWh] - BZN|NO2  \\\nWeek_start_date                                            \n2023-01-01 20:00:00                                  NaN   \n2023-01-01 21:00:00                                  NaN   \n2023-01-01 22:00:00                                  NaN   \n2023-01-01 23:00:00                                  NaN   \n2023-01-02 00:00:00                           21066642.0   \n\n                     Stored Energy Value [MWh] - BZN|NO3  \\\nWeek_start_date                                            \n2023-01-01 20:00:00                                  NaN   \n2023-01-01 21:00:00                                  NaN   \n2023-01-01 22:00:00                                  NaN   \n2023-01-01 23:00:00                                  NaN   \n2023-01-02 00:00:00                            4657760.0   \n\n                     Stored Energy Value [MWh] - BZN|NO5  \\\nWeek_start_date                                            \n2023-01-01 20:00:00                                  NaN   \n2023-01-01 21:00:00                                  NaN   \n2023-01-01 22:00:00                                  NaN   \n2023-01-01 23:00:00                                  NaN   \n2023-01-02 00:00:00                           11620688.0   \n\n                     Stored Energy Value [MWh] - BZN|SE3  \nWeek_start_date                                           \n2023-01-01 20:00:00                                  NaN  \n2023-01-01 21:00:00                                  NaN  \n2023-01-01 22:00:00                                  NaN  \n2023-01-01 23:00:00                                  NaN  \n2023-01-02 00:00:00                            1584000.0  ",
      "text/html": "<div>\n<style scoped>\n    .dataframe tbody tr th:only-of-type {\n        vertical-align: middle;\n    }\n\n    .dataframe tbody tr th {\n        vertical-align: top;\n    }\n\n    .dataframe thead th {\n        text-align: right;\n    }\n</style>\n<table border=\"1\" class=\"dataframe\">\n  <thead>\n    <tr style=\"text-align: right;\">\n      <th></th>\n      <th>Stored Energy Value [MWh] - BZN|NO1</th>\n      <th>Stored Energy Value [MWh] - BZN|NO2</th>\n      <th>Stored Energy Value [MWh] - BZN|NO3</th>\n      <th>Stored Energy Value [MWh] - BZN|NO5</th>\n      <th>Stored Energy Value [MWh] - BZN|SE3</th>\n    </tr>\n    <tr>\n      <th>Week_start_date</th>\n      <th></th>\n      <th></th>\n      <th></th>\n      <th></th>\n      <th></th>\n    </tr>\n  </thead>\n  <tbody>\n    <tr>\n      <th>2023-01-01 20:00:00</th>\n      <td>NaN</td>\n      <td>NaN</td>\n      <td>NaN</td>\n      <td>NaN</td>\n      <td>NaN</td>\n    </tr>\n    <tr>\n      <th>2023-01-01 21:00:00</th>\n      <td>NaN</td>\n      <td>NaN</td>\n      <td>NaN</td>\n      <td>NaN</td>\n      <td>NaN</td>\n    </tr>\n    <tr>\n      <th>2023-01-01 22:00:00</th>\n      <td>NaN</td>\n      <td>NaN</td>\n      <td>NaN</td>\n      <td>NaN</td>\n      <td>NaN</td>\n    </tr>\n    <tr>\n      <th>2023-01-01 23:00:00</th>\n      <td>NaN</td>\n      <td>NaN</td>\n      <td>NaN</td>\n      <td>NaN</td>\n      <td>NaN</td>\n    </tr>\n    <tr>\n      <th>2023-01-02 00:00:00</th>\n      <td>3741135.0</td>\n      <td>21066642.0</td>\n      <td>4657760.0</td>\n      <td>11620688.0</td>\n      <td>1584000.0</td>\n    </tr>\n  </tbody>\n</table>\n</div>"
     },
     "execution_count": 82,
     "metadata": {},
     "output_type": "execute_result"
    }
   ],
   "source": [
    "# printing out 5 last rows of the resulting dataframe\n",
    "joined_week_date_water_dataframe.tail()"
   ]
  },
  {
   "cell_type": "code",
   "execution_count": 83,
   "id": "bd04d908",
   "metadata": {},
   "outputs": [],
   "source": [
    "# performing cubic spline interpolation (3rd degree polynomial)\n",
    "forwarffilled_df = joined_week_date_water_dataframe.ffill(axis = 0)"
   ]
  },
  {
   "cell_type": "code",
   "execution_count": 84,
   "id": "83ab2c85",
   "metadata": {},
   "outputs": [
    {
     "data": {
      "text/plain": "                     Stored Energy Value [MWh] - BZN|NO1  \\\nWeek_start_date                                            \n2019-12-23 00:00:00                            4140000.0   \n2019-12-23 01:00:00                            4140000.0   \n2019-12-23 02:00:00                            4140000.0   \n2019-12-23 03:00:00                            4140000.0   \n2019-12-23 04:00:00                            4140000.0   \n\n                     Stored Energy Value [MWh] - BZN|NO2  \\\nWeek_start_date                                            \n2019-12-23 00:00:00                           23767000.0   \n2019-12-23 01:00:00                           23767000.0   \n2019-12-23 02:00:00                           23767000.0   \n2019-12-23 03:00:00                           23767000.0   \n2019-12-23 04:00:00                           23767000.0   \n\n                     Stored Energy Value [MWh] - BZN|NO3  \\\nWeek_start_date                                            \n2019-12-23 00:00:00                            5418000.0   \n2019-12-23 01:00:00                            5418000.0   \n2019-12-23 02:00:00                            5418000.0   \n2019-12-23 03:00:00                            5418000.0   \n2019-12-23 04:00:00                            5418000.0   \n\n                     Stored Energy Value [MWh] - BZN|NO5  \\\nWeek_start_date                                            \n2019-12-23 00:00:00                           11156000.0   \n2019-12-23 01:00:00                           11156000.0   \n2019-12-23 02:00:00                           11156000.0   \n2019-12-23 03:00:00                           11156000.0   \n2019-12-23 04:00:00                           11156000.0   \n\n                     Stored Energy Value [MWh] - BZN|SE3  \nWeek_start_date                                           \n2019-12-23 00:00:00                            2248000.0  \n2019-12-23 01:00:00                            2248000.0  \n2019-12-23 02:00:00                            2248000.0  \n2019-12-23 03:00:00                            2248000.0  \n2019-12-23 04:00:00                            2248000.0  ",
      "text/html": "<div>\n<style scoped>\n    .dataframe tbody tr th:only-of-type {\n        vertical-align: middle;\n    }\n\n    .dataframe tbody tr th {\n        vertical-align: top;\n    }\n\n    .dataframe thead th {\n        text-align: right;\n    }\n</style>\n<table border=\"1\" class=\"dataframe\">\n  <thead>\n    <tr style=\"text-align: right;\">\n      <th></th>\n      <th>Stored Energy Value [MWh] - BZN|NO1</th>\n      <th>Stored Energy Value [MWh] - BZN|NO2</th>\n      <th>Stored Energy Value [MWh] - BZN|NO3</th>\n      <th>Stored Energy Value [MWh] - BZN|NO5</th>\n      <th>Stored Energy Value [MWh] - BZN|SE3</th>\n    </tr>\n    <tr>\n      <th>Week_start_date</th>\n      <th></th>\n      <th></th>\n      <th></th>\n      <th></th>\n      <th></th>\n    </tr>\n  </thead>\n  <tbody>\n    <tr>\n      <th>2019-12-23 00:00:00</th>\n      <td>4140000.0</td>\n      <td>23767000.0</td>\n      <td>5418000.0</td>\n      <td>11156000.0</td>\n      <td>2248000.0</td>\n    </tr>\n    <tr>\n      <th>2019-12-23 01:00:00</th>\n      <td>4140000.0</td>\n      <td>23767000.0</td>\n      <td>5418000.0</td>\n      <td>11156000.0</td>\n      <td>2248000.0</td>\n    </tr>\n    <tr>\n      <th>2019-12-23 02:00:00</th>\n      <td>4140000.0</td>\n      <td>23767000.0</td>\n      <td>5418000.0</td>\n      <td>11156000.0</td>\n      <td>2248000.0</td>\n    </tr>\n    <tr>\n      <th>2019-12-23 03:00:00</th>\n      <td>4140000.0</td>\n      <td>23767000.0</td>\n      <td>5418000.0</td>\n      <td>11156000.0</td>\n      <td>2248000.0</td>\n    </tr>\n    <tr>\n      <th>2019-12-23 04:00:00</th>\n      <td>4140000.0</td>\n      <td>23767000.0</td>\n      <td>5418000.0</td>\n      <td>11156000.0</td>\n      <td>2248000.0</td>\n    </tr>\n  </tbody>\n</table>\n</div>"
     },
     "execution_count": 84,
     "metadata": {},
     "output_type": "execute_result"
    }
   ],
   "source": [
    "# printing out the 5 first rows of the interpolated dataframe\n",
    "forwarffilled_df.head()"
   ]
  },
  {
   "cell_type": "code",
   "execution_count": 85,
   "id": "b4fe0ee4",
   "metadata": {},
   "outputs": [
    {
     "data": {
      "text/plain": "Stored Energy Value [MWh] - BZN|NO1    0\nStored Energy Value [MWh] - BZN|NO2    0\nStored Energy Value [MWh] - BZN|NO3    0\nStored Energy Value [MWh] - BZN|NO5    0\nStored Energy Value [MWh] - BZN|SE3    0\ndtype: int64"
     },
     "execution_count": 85,
     "metadata": {},
     "output_type": "execute_result"
    }
   ],
   "source": [
    "# checking data for missing values, if any\n",
    "forwarffilled_df.isna().sum()"
   ]
  },
  {
   "cell_type": "code",
   "execution_count": 86,
   "id": "a34b1c55",
   "metadata": {},
   "outputs": [],
   "source": [
    "# filtering out the data from year 2021 and 2023\n",
    "filtering_forwarffilled_df = forwarffilled_df.loc[(forwarffilled_df.index >= '2020-01-01 00:00:00')\n",
    "                                                 & (forwarffilled_df.index <= '2022-12-31 23:00:00')]"
   ]
  },
  {
   "cell_type": "code",
   "execution_count": 87,
   "id": "5cd7fe09",
   "metadata": {},
   "outputs": [],
   "source": [
    "# resetting index\n",
    "water_reservoir = forwarffilled_df\n",
    "water_reservoir = water_reservoir.reset_index()\n",
    "water_reservoir = water_reservoir.rename(columns={'Week_start_date': 'start MTU (UTC)'})"
   ]
  },
  {
   "cell_type": "code",
   "execution_count": 88,
   "id": "50a8600a",
   "metadata": {},
   "outputs": [
    {
     "data": {
      "text/plain": "      start MTU (UTC)  Stored Energy Value [MWh] - BZN|NO1  \\\n0 2019-12-23 00:00:00                            4140000.0   \n1 2019-12-23 01:00:00                            4140000.0   \n2 2019-12-23 02:00:00                            4140000.0   \n3 2019-12-23 03:00:00                            4140000.0   \n4 2019-12-23 04:00:00                            4140000.0   \n\n   Stored Energy Value [MWh] - BZN|NO2  Stored Energy Value [MWh] - BZN|NO3  \\\n0                           23767000.0                            5418000.0   \n1                           23767000.0                            5418000.0   \n2                           23767000.0                            5418000.0   \n3                           23767000.0                            5418000.0   \n4                           23767000.0                            5418000.0   \n\n   Stored Energy Value [MWh] - BZN|NO5  Stored Energy Value [MWh] - BZN|SE3  \n0                           11156000.0                            2248000.0  \n1                           11156000.0                            2248000.0  \n2                           11156000.0                            2248000.0  \n3                           11156000.0                            2248000.0  \n4                           11156000.0                            2248000.0  ",
      "text/html": "<div>\n<style scoped>\n    .dataframe tbody tr th:only-of-type {\n        vertical-align: middle;\n    }\n\n    .dataframe tbody tr th {\n        vertical-align: top;\n    }\n\n    .dataframe thead th {\n        text-align: right;\n    }\n</style>\n<table border=\"1\" class=\"dataframe\">\n  <thead>\n    <tr style=\"text-align: right;\">\n      <th></th>\n      <th>start MTU (UTC)</th>\n      <th>Stored Energy Value [MWh] - BZN|NO1</th>\n      <th>Stored Energy Value [MWh] - BZN|NO2</th>\n      <th>Stored Energy Value [MWh] - BZN|NO3</th>\n      <th>Stored Energy Value [MWh] - BZN|NO5</th>\n      <th>Stored Energy Value [MWh] - BZN|SE3</th>\n    </tr>\n  </thead>\n  <tbody>\n    <tr>\n      <th>0</th>\n      <td>2019-12-23 00:00:00</td>\n      <td>4140000.0</td>\n      <td>23767000.0</td>\n      <td>5418000.0</td>\n      <td>11156000.0</td>\n      <td>2248000.0</td>\n    </tr>\n    <tr>\n      <th>1</th>\n      <td>2019-12-23 01:00:00</td>\n      <td>4140000.0</td>\n      <td>23767000.0</td>\n      <td>5418000.0</td>\n      <td>11156000.0</td>\n      <td>2248000.0</td>\n    </tr>\n    <tr>\n      <th>2</th>\n      <td>2019-12-23 02:00:00</td>\n      <td>4140000.0</td>\n      <td>23767000.0</td>\n      <td>5418000.0</td>\n      <td>11156000.0</td>\n      <td>2248000.0</td>\n    </tr>\n    <tr>\n      <th>3</th>\n      <td>2019-12-23 03:00:00</td>\n      <td>4140000.0</td>\n      <td>23767000.0</td>\n      <td>5418000.0</td>\n      <td>11156000.0</td>\n      <td>2248000.0</td>\n    </tr>\n    <tr>\n      <th>4</th>\n      <td>2019-12-23 04:00:00</td>\n      <td>4140000.0</td>\n      <td>23767000.0</td>\n      <td>5418000.0</td>\n      <td>11156000.0</td>\n      <td>2248000.0</td>\n    </tr>\n  </tbody>\n</table>\n</div>"
     },
     "execution_count": 88,
     "metadata": {},
     "output_type": "execute_result"
    }
   ],
   "source": [
    "water_reservoir.head()"
   ]
  },
  {
   "cell_type": "markdown",
   "id": "689281f9",
   "metadata": {},
   "source": [
    "The name of the columns 'stored energy value' is not descriptive enough out of context, so we want to rename the columns before we merge this data with the other datasets:"
   ]
  },
  {
   "cell_type": "code",
   "execution_count": 89,
   "id": "40ca8881",
   "metadata": {},
   "outputs": [],
   "source": [
    "water_reservoir = water_reservoir.rename(columns={\n",
    "    'Stored Energy Value [MWh] - BZN|NO1': 'Stored Energy Value Water Reservoirs and Hydro Storage Plants [MWh] - BZN|NO1',\n",
    "    'Stored Energy Value [MWh] - BZN|NO2': 'Stored Energy Value Water Reservoirs and Hydro Storage Plants [MWh] - BZN|NO2',\n",
    "    'Stored Energy Value [MWh] - BZN|NO3': 'Stored Energy Value Water Reservoirs and Hydro Storage Plants [MWh] - BZN|NO3',\n",
    "    'Stored Energy Value [MWh] - BZN|NO5': 'Stored Energy Value Water Reservoirs and Hydro Storage Plants [MWh] - BZN|NO5',\n",
    "    'Stored Energy Value [MWh] - BZN|SE3': 'Stored Energy Value Water Reservoirs and Hydro Storage Plants [MWh] - BZN|SE3',\n",
    "    \n",
    "})\n"
   ]
  },
  {
   "cell_type": "code",
   "execution_count": 90,
   "outputs": [
    {
     "data": {
      "text/plain": "<AxesSubplot:>"
     },
     "execution_count": 90,
     "metadata": {},
     "output_type": "execute_result"
    },
    {
     "data": {
      "text/plain": "<Figure size 2000x250 with 1 Axes>",
      "image/png": "[encoded data removed]"
     },
     "metadata": {},
     "output_type": "display_data"
    }
   ],
   "source": [
    "water_reservoir['Stored Energy Value Water Reservoirs and Hydro Storage Plants [MWh] - BZN|NO1'].plot(figsize = (20, 2.5))"
   ],
   "metadata": {
    "collapsed": false
   }
  },
  {
   "cell_type": "markdown",
   "id": "782d99d6",
   "metadata": {},
   "source": [
    "### Aggregating all sub-datasets\n",
    "Now that we have aggregated each of the sub-datasets, we can merge them together into a larger dataset that can be used to train time series electricity price prediction models on. we will wait with adding the water_reservoir until the time-range column 'MTU (UTC)' of the other datasets have been converted to datetime columns."
   ]
  },
  {
   "cell_type": "code",
   "execution_count": 91,
   "id": "7da019c0",
   "metadata": {},
   "outputs": [
    {
     "data": {
      "text/plain": "(26304, 52)"
     },
     "execution_count": 91,
     "metadata": {},
     "output_type": "execute_result"
    }
   ],
   "source": [
    "# merging prices, loads, actual_generation_selected and\n",
    "# import_export_no1_neighbours dataframes on the date time\n",
    "# column 'MTU (UTC)'\n",
    "\n",
    "# creating a list of dataframes (excluding water water_reservoir)\n",
    "no1_dataframes_minus_water_reservoir = [\n",
    "    prices,\n",
    "    load,\n",
    "    actual_generation_selected,\n",
    "    import_export_no1_neighbours_2020_2022,\n",
    "    ]\n",
    "\n",
    "# merging dataframes\n",
    "no1_minus_water_reservoir = reduce(lambda left, right: pd.merge(\n",
    "    left,right, on=['MTU (UTC)']), no1_dataframes_minus_water_reservoir)\n",
    "\n",
    "# printing out shape of the resulting dataframe\n",
    "no1_minus_water_reservoir.shape"
   ]
  },
  {
   "cell_type": "markdown",
   "id": "0b428516",
   "metadata": {},
   "source": [
    "we can see that the resulting dataframe has the correct number of rows (26304) and 51 columns.\n",
    "\n",
    "We print out the start and end of the dataset to see that it has the correct end values for MTU(UTC)"
   ]
  },
  {
   "cell_type": "code",
   "execution_count": 92,
   "id": "832daed7",
   "metadata": {},
   "outputs": [
    {
     "data": {
      "text/plain": "                             MTU (UTC)  Day-ahead Price [EUR/MWh] BZN|NO1  \\\n0  01.01.2020 00:00 - 01.01.2020 01:00                              31.77   \n1  01.01.2020 01:00 - 01.01.2020 02:00                              31.57   \n2  01.01.2020 02:00 - 01.01.2020 03:00                              31.28   \n3  01.01.2020 03:00 - 01.01.2020 04:00                              30.72   \n4  01.01.2020 04:00 - 01.01.2020 05:00                              30.27   \n\n   Day-ahead Price [EUR/MWh] BZN|NO2  Day-ahead Price [EUR/MWh] BZN|NO3  \\\n0                              31.77                              28.45   \n1                              31.57                              27.90   \n2                              31.28                              27.52   \n3                              30.72                              27.54   \n4                              30.27                              26.55   \n\n   Day-ahead Price [EUR/MWh] BZN|NO5  Day-ahead Price [EUR/MWh] BZN|SE3  \\\n0                              31.77                              28.45   \n1                              31.57                              27.90   \n2                              31.28                              27.52   \n3                              30.72                              27.54   \n4                              30.27                              26.55   \n\n   Actual Total Load [MW] - BZN|NO1  Actual Total Load [MW] - BZN|NO2  \\\n0                            4333.0                            4139.0   \n1                            4250.0                            4114.0   \n2                            4167.0                            4030.0   \n3                            4145.0                            4032.0   \n4                            4222.0                            4032.0   \n\n   Actual Total Load [MW] - BZN|NO3  Actual Total Load [MW] - BZN|NO5  ...  \\\n0                            3016.0                            1950.0  ...   \n1                            2945.0                            1926.0  ...   \n2                            3032.0                            1913.0  ...   \n3                            2988.0                            1894.0  ...   \n4                            2848.0                            1901.0  ...   \n\n   Solar - BZN|SE3  Wind Onshore - BZN|SE3  CBF BZN|NO2 > BZN|NO1 [MW]  \\\n0              0.0                  1594.0                         0.0   \n1              0.0                  1690.0                         0.0   \n2              0.0                  1783.0                         0.0   \n3              0.0                  1900.0                         0.0   \n4              0.0                  1995.0                         0.0   \n\n   CBF BZN|NO1 > BZN|NO2 [MW]  CBF BZN|NO3 > BZN|NO1 [MW]  \\\n0                         0.0                        82.0   \n1                         0.0                        48.0   \n2                         0.0                         0.0   \n3                         0.0                         0.0   \n4                         0.0                         0.0   \n\n   CBF BZN|NO1 > BZN|NO3 [MW]  CBF BZN|NO5 > BZN|NO1 [MW]  \\\n0                         0.0                      1449.0   \n1                         0.0                      1283.0   \n2                         6.0                       962.0   \n3                         6.0                       767.0   \n4                        22.0                       642.0   \n\n   CBF BZN|NO1 > BZN|NO5 [MW]  CBF BZN|SE3 > BZN|NO1 [MW]  \\\n0                         0.0                         391   \n1                         0.0                         348   \n2                         0.0                         500   \n3                         0.0                         610   \n4                         0.0                         909   \n\n   CBF BZN|NO1 > BZN|SE3 [MW]  \n0                           0  \n1                           0  \n2                           0  \n3                           0  \n4                           0  \n\n[5 rows x 52 columns]",
      "text/html": "<div>\n<style scoped>\n    .dataframe tbody tr th:only-of-type {\n        vertical-align: middle;\n    }\n\n    .dataframe tbody tr th {\n        vertical-align: top;\n    }\n\n    .dataframe thead th {\n        text-align: right;\n    }\n</style>\n<table border=\"1\" class=\"dataframe\">\n  <thead>\n    <tr style=\"text-align: right;\">\n      <th></th>\n      <th>MTU (UTC)</th>\n      <th>Day-ahead Price [EUR/MWh] BZN|NO1</th>\n      <th>Day-ahead Price [EUR/MWh] BZN|NO2</th>\n      <th>Day-ahead Price [EUR/MWh] BZN|NO3</th>\n      <th>Day-ahead Price [EUR/MWh] BZN|NO5</th>\n      <th>Day-ahead Price [EUR/MWh] BZN|SE3</th>\n      <th>Actual Total Load [MW] - BZN|NO1</th>\n      <th>Actual Total Load [MW] - BZN|NO2</th>\n      <th>Actual Total Load [MW] - BZN|NO3</th>\n      <th>Actual Total Load [MW] - BZN|NO5</th>\n      <th>...</th>\n      <th>Solar - BZN|SE3</th>\n      <th>Wind Onshore - BZN|SE3</th>\n      <th>CBF BZN|NO2 &gt; BZN|NO1 [MW]</th>\n      <th>CBF BZN|NO1 &gt; BZN|NO2 [MW]</th>\n      <th>CBF BZN|NO3 &gt; BZN|NO1 [MW]</th>\n      <th>CBF BZN|NO1 &gt; BZN|NO3 [MW]</th>\n      <th>CBF BZN|NO5 &gt; BZN|NO1 [MW]</th>\n      <th>CBF BZN|NO1 &gt; BZN|NO5 [MW]</th>\n      <th>CBF BZN|SE3 &gt; BZN|NO1 [MW]</th>\n      <th>CBF BZN|NO1 &gt; BZN|SE3 [MW]</th>\n    </tr>\n  </thead>\n  <tbody>\n    <tr>\n      <th>0</th>\n      <td>01.01.2020 00:00 - 01.01.2020 01:00</td>\n      <td>31.77</td>\n      <td>31.77</td>\n      <td>28.45</td>\n      <td>31.77</td>\n      <td>28.45</td>\n      <td>4333.0</td>\n      <td>4139.0</td>\n      <td>3016.0</td>\n      <td>1950.0</td>\n      <td>...</td>\n      <td>0.0</td>\n      <td>1594.0</td>\n      <td>0.0</td>\n      <td>0.0</td>\n      <td>82.0</td>\n      <td>0.0</td>\n      <td>1449.0</td>\n      <td>0.0</td>\n      <td>391</td>\n      <td>0</td>\n    </tr>\n    <tr>\n      <th>1</th>\n      <td>01.01.2020 01:00 - 01.01.2020 02:00</td>\n      <td>31.57</td>\n      <td>31.57</td>\n      <td>27.90</td>\n      <td>31.57</td>\n      <td>27.90</td>\n      <td>4250.0</td>\n      <td>4114.0</td>\n      <td>2945.0</td>\n      <td>1926.0</td>\n      <td>...</td>\n      <td>0.0</td>\n      <td>1690.0</td>\n      <td>0.0</td>\n      <td>0.0</td>\n      <td>48.0</td>\n      <td>0.0</td>\n      <td>1283.0</td>\n      <td>0.0</td>\n      <td>348</td>\n      <td>0</td>\n    </tr>\n    <tr>\n      <th>2</th>\n      <td>01.01.2020 02:00 - 01.01.2020 03:00</td>\n      <td>31.28</td>\n      <td>31.28</td>\n      <td>27.52</td>\n      <td>31.28</td>\n      <td>27.52</td>\n      <td>4167.0</td>\n      <td>4030.0</td>\n      <td>3032.0</td>\n      <td>1913.0</td>\n      <td>...</td>\n      <td>0.0</td>\n      <td>1783.0</td>\n      <td>0.0</td>\n      <td>0.0</td>\n      <td>0.0</td>\n      <td>6.0</td>\n      <td>962.0</td>\n      <td>0.0</td>\n      <td>500</td>\n      <td>0</td>\n    </tr>\n    <tr>\n      <th>3</th>\n      <td>01.01.2020 03:00 - 01.01.2020 04:00</td>\n      <td>30.72</td>\n      <td>30.72</td>\n      <td>27.54</td>\n      <td>30.72</td>\n      <td>27.54</td>\n      <td>4145.0</td>\n      <td>4032.0</td>\n      <td>2988.0</td>\n      <td>1894.0</td>\n      <td>...</td>\n      <td>0.0</td>\n      <td>1900.0</td>\n      <td>0.0</td>\n      <td>0.0</td>\n      <td>0.0</td>\n      <td>6.0</td>\n      <td>767.0</td>\n      <td>0.0</td>\n      <td>610</td>\n      <td>0</td>\n    </tr>\n    <tr>\n      <th>4</th>\n      <td>01.01.2020 04:00 - 01.01.2020 05:00</td>\n      <td>30.27</td>\n      <td>30.27</td>\n      <td>26.55</td>\n      <td>30.27</td>\n      <td>26.55</td>\n      <td>4222.0</td>\n      <td>4032.0</td>\n      <td>2848.0</td>\n      <td>1901.0</td>\n      <td>...</td>\n      <td>0.0</td>\n      <td>1995.0</td>\n      <td>0.0</td>\n      <td>0.0</td>\n      <td>0.0</td>\n      <td>22.0</td>\n      <td>642.0</td>\n      <td>0.0</td>\n      <td>909</td>\n      <td>0</td>\n    </tr>\n  </tbody>\n</table>\n<p>5 rows × 52 columns</p>\n</div>"
     },
     "execution_count": 92,
     "metadata": {},
     "output_type": "execute_result"
    }
   ],
   "source": [
    "# printing the 5 first rows of resulting dataframe\n",
    "no1_minus_water_reservoir.head()"
   ]
  },
  {
   "cell_type": "code",
   "execution_count": 93,
   "id": "60f277b0",
   "metadata": {},
   "outputs": [
    {
     "data": {
      "text/plain": "                                 MTU (UTC)  Day-ahead Price [EUR/MWh] BZN|NO1  \\\n26299  31.12.2022 19:00 - 31.12.2022 20:00                             123.61   \n26300  31.12.2022 20:00 - 31.12.2022 21:00                             121.09   \n26301  31.12.2022 21:00 - 31.12.2022 22:00                             120.00   \n26302  31.12.2022 22:00 - 31.12.2022 23:00                             119.98   \n26303  31.12.2022 23:00 - 01.01.2023 00:00                             119.32   \n\n       Day-ahead Price [EUR/MWh] BZN|NO2  Day-ahead Price [EUR/MWh] BZN|NO3  \\\n26299                             123.61                              23.82   \n26300                             121.09                              23.93   \n26301                             120.00                              23.75   \n26302                             119.98                              23.56   \n26303                             119.32                              23.35   \n\n       Day-ahead Price [EUR/MWh] BZN|NO5  Day-ahead Price [EUR/MWh] BZN|SE3  \\\n26299                             123.61                              11.57   \n26300                             121.09                              14.89   \n26301                             120.00                               9.94   \n26302                             119.98                               4.84   \n26303                             119.32                               2.01   \n\n       Actual Total Load [MW] - BZN|NO1  Actual Total Load [MW] - BZN|NO2  \\\n26299                            4650.0                            4333.0   \n26300                            4573.0                            4270.0   \n26301                            4453.0                            4294.0   \n26302                            4389.0                            4282.0   \n26303                            4444.0                            4182.0   \n\n       Actual Total Load [MW] - BZN|NO3  Actual Total Load [MW] - BZN|NO5  \\\n26299                            3612.0                            2128.0   \n26300                            3605.0                            2089.0   \n26301                            3479.0                            2037.0   \n26302                            3415.0                            1991.0   \n26303                            3346.0                            2009.0   \n\n       ...  Solar - BZN|SE3  Wind Onshore - BZN|SE3  \\\n26299  ...              0.0                  1499.0   \n26300  ...              0.0                  1282.0   \n26301  ...              0.0                  1168.0   \n26302  ...              0.0                  1033.0   \n26303  ...              0.0                   877.0   \n\n       CBF BZN|NO2 > BZN|NO1 [MW]  CBF BZN|NO1 > BZN|NO2 [MW]  \\\n26299                       621.0                         0.0   \n26300                       595.0                         0.0   \n26301                       608.0                         0.0   \n26302                       504.0                         0.0   \n26303                       956.0                         0.0   \n\n       CBF BZN|NO3 > BZN|NO1 [MW]  CBF BZN|NO1 > BZN|NO3 [MW]  \\\n26299                       146.0                         0.0   \n26300                       124.0                         0.0   \n26301                        91.0                         0.0   \n26302                        90.0                         0.0   \n26303                        83.0                         0.0   \n\n       CBF BZN|NO5 > BZN|NO1 [MW]  CBF BZN|NO1 > BZN|NO5 [MW]  \\\n26299                        43.0                         0.0   \n26300                        24.0                         0.0   \n26301                        41.0                         0.0   \n26302                         0.0                        29.0   \n26303                         0.0                        12.0   \n\n       CBF BZN|SE3 > BZN|NO1 [MW]  CBF BZN|NO1 > BZN|SE3 [MW]  \n26299                        2083                           0  \n26300                        2097                           0  \n26301                        2007                           0  \n26302                        2119                           0  \n26303                        1612                           0  \n\n[5 rows x 52 columns]",
      "text/html": "<div>\n<style scoped>\n    .dataframe tbody tr th:only-of-type {\n        vertical-align: middle;\n    }\n\n    .dataframe tbody tr th {\n        vertical-align: top;\n    }\n\n    .dataframe thead th {\n        text-align: right;\n    }\n</style>\n<table border=\"1\" class=\"dataframe\">\n  <thead>\n    <tr style=\"text-align: right;\">\n      <th></th>\n      <th>MTU (UTC)</th>\n      <th>Day-ahead Price [EUR/MWh] BZN|NO1</th>\n      <th>Day-ahead Price [EUR/MWh] BZN|NO2</th>\n      <th>Day-ahead Price [EUR/MWh] BZN|NO3</th>\n      <th>Day-ahead Price [EUR/MWh] BZN|NO5</th>\n      <th>Day-ahead Price [EUR/MWh] BZN|SE3</th>\n      <th>Actual Total Load [MW] - BZN|NO1</th>\n      <th>Actual Total Load [MW] - BZN|NO2</th>\n      <th>Actual Total Load [MW] - BZN|NO3</th>\n      <th>Actual Total Load [MW] - BZN|NO5</th>\n      <th>...</th>\n      <th>Solar - BZN|SE3</th>\n      <th>Wind Onshore - BZN|SE3</th>\n      <th>CBF BZN|NO2 &gt; BZN|NO1 [MW]</th>\n      <th>CBF BZN|NO1 &gt; BZN|NO2 [MW]</th>\n      <th>CBF BZN|NO3 &gt; BZN|NO1 [MW]</th>\n      <th>CBF BZN|NO1 &gt; BZN|NO3 [MW]</th>\n      <th>CBF BZN|NO5 &gt; BZN|NO1 [MW]</th>\n      <th>CBF BZN|NO1 &gt; BZN|NO5 [MW]</th>\n      <th>CBF BZN|SE3 &gt; BZN|NO1 [MW]</th>\n      <th>CBF BZN|NO1 &gt; BZN|SE3 [MW]</th>\n    </tr>\n  </thead>\n  <tbody>\n    <tr>\n      <th>26299</th>\n      <td>31.12.2022 19:00 - 31.12.2022 20:00</td>\n      <td>123.61</td>\n      <td>123.61</td>\n      <td>23.82</td>\n      <td>123.61</td>\n      <td>11.57</td>\n      <td>4650.0</td>\n      <td>4333.0</td>\n      <td>3612.0</td>\n      <td>2128.0</td>\n      <td>...</td>\n      <td>0.0</td>\n      <td>1499.0</td>\n      <td>621.0</td>\n      <td>0.0</td>\n      <td>146.0</td>\n      <td>0.0</td>\n      <td>43.0</td>\n      <td>0.0</td>\n      <td>2083</td>\n      <td>0</td>\n    </tr>\n    <tr>\n      <th>26300</th>\n      <td>31.12.2022 20:00 - 31.12.2022 21:00</td>\n      <td>121.09</td>\n      <td>121.09</td>\n      <td>23.93</td>\n      <td>121.09</td>\n      <td>14.89</td>\n      <td>4573.0</td>\n      <td>4270.0</td>\n      <td>3605.0</td>\n      <td>2089.0</td>\n      <td>...</td>\n      <td>0.0</td>\n      <td>1282.0</td>\n      <td>595.0</td>\n      <td>0.0</td>\n      <td>124.0</td>\n      <td>0.0</td>\n      <td>24.0</td>\n      <td>0.0</td>\n      <td>2097</td>\n      <td>0</td>\n    </tr>\n    <tr>\n      <th>26301</th>\n      <td>31.12.2022 21:00 - 31.12.2022 22:00</td>\n      <td>120.00</td>\n      <td>120.00</td>\n      <td>23.75</td>\n      <td>120.00</td>\n      <td>9.94</td>\n      <td>4453.0</td>\n      <td>4294.0</td>\n      <td>3479.0</td>\n      <td>2037.0</td>\n      <td>...</td>\n      <td>0.0</td>\n      <td>1168.0</td>\n      <td>608.0</td>\n      <td>0.0</td>\n      <td>91.0</td>\n      <td>0.0</td>\n      <td>41.0</td>\n      <td>0.0</td>\n      <td>2007</td>\n      <td>0</td>\n    </tr>\n    <tr>\n      <th>26302</th>\n      <td>31.12.2022 22:00 - 31.12.2022 23:00</td>\n      <td>119.98</td>\n      <td>119.98</td>\n      <td>23.56</td>\n      <td>119.98</td>\n      <td>4.84</td>\n      <td>4389.0</td>\n      <td>4282.0</td>\n      <td>3415.0</td>\n      <td>1991.0</td>\n      <td>...</td>\n      <td>0.0</td>\n      <td>1033.0</td>\n      <td>504.0</td>\n      <td>0.0</td>\n      <td>90.0</td>\n      <td>0.0</td>\n      <td>0.0</td>\n      <td>29.0</td>\n      <td>2119</td>\n      <td>0</td>\n    </tr>\n    <tr>\n      <th>26303</th>\n      <td>31.12.2022 23:00 - 01.01.2023 00:00</td>\n      <td>119.32</td>\n      <td>119.32</td>\n      <td>23.35</td>\n      <td>119.32</td>\n      <td>2.01</td>\n      <td>4444.0</td>\n      <td>4182.0</td>\n      <td>3346.0</td>\n      <td>2009.0</td>\n      <td>...</td>\n      <td>0.0</td>\n      <td>877.0</td>\n      <td>956.0</td>\n      <td>0.0</td>\n      <td>83.0</td>\n      <td>0.0</td>\n      <td>0.0</td>\n      <td>12.0</td>\n      <td>1612</td>\n      <td>0</td>\n    </tr>\n  </tbody>\n</table>\n<p>5 rows × 52 columns</p>\n</div>"
     },
     "execution_count": 93,
     "metadata": {},
     "output_type": "execute_result"
    }
   ],
   "source": [
    "# printing the 5 last rows of resulting dataframe\n",
    "no1_minus_water_reservoir.tail()"
   ]
  },
  {
   "cell_type": "markdown",
   "id": "8fc521d6",
   "metadata": {},
   "source": [
    "We see that the dataframe starts in the beginning of 2020 and ends at the end of 2022 so the data has been merged successfuly.\n",
    "\n",
    "We can now convert the datetime range into specific datetimes so the data can be used in timeseries data prediction, and so that the 'water_reservoir' dataset can be added to the final dataset."
   ]
  },
  {
   "cell_type": "code",
   "execution_count": 94,
   "id": "c3bcbcd5",
   "metadata": {},
   "outputs": [
    {
     "data": {
      "text/plain": "   Day-ahead Price [EUR/MWh] BZN|NO1  Day-ahead Price [EUR/MWh] BZN|NO2  \\\n0                              31.77                              31.77   \n1                              31.57                              31.57   \n2                              31.28                              31.28   \n3                              30.72                              30.72   \n4                              30.27                              30.27   \n\n   Day-ahead Price [EUR/MWh] BZN|NO3  Day-ahead Price [EUR/MWh] BZN|NO5  \\\n0                              28.45                              31.77   \n1                              27.90                              31.57   \n2                              27.52                              31.28   \n3                              27.54                              30.72   \n4                              26.55                              30.27   \n\n   Day-ahead Price [EUR/MWh] BZN|SE3  Actual Total Load [MW] - BZN|NO1  \\\n0                              28.45                            4333.0   \n1                              27.90                            4250.0   \n2                              27.52                            4167.0   \n3                              27.54                            4145.0   \n4                              26.55                            4222.0   \n\n   Actual Total Load [MW] - BZN|NO2  Actual Total Load [MW] - BZN|NO3  \\\n0                            4139.0                            3016.0   \n1                            4114.0                            2945.0   \n2                            4030.0                            3032.0   \n3                            4032.0                            2988.0   \n4                            4032.0                            2848.0   \n\n   Actual Total Load [MW] - BZN|NO5  Actual Total Load [MW] - BZN|SE3  ...  \\\n0                            1950.0                              9350  ...   \n1                            1926.0                              9158  ...   \n2                            1913.0                              8980  ...   \n3                            1894.0                              8914  ...   \n4                            1901.0                              8964  ...   \n\n   CBF BZN|NO2 > BZN|NO1 [MW]  CBF BZN|NO1 > BZN|NO2 [MW]  \\\n0                         0.0                         0.0   \n1                         0.0                         0.0   \n2                         0.0                         0.0   \n3                         0.0                         0.0   \n4                         0.0                         0.0   \n\n   CBF BZN|NO3 > BZN|NO1 [MW]  CBF BZN|NO1 > BZN|NO3 [MW]  \\\n0                        82.0                         0.0   \n1                        48.0                         0.0   \n2                         0.0                         6.0   \n3                         0.0                         6.0   \n4                         0.0                        22.0   \n\n   CBF BZN|NO5 > BZN|NO1 [MW]  CBF BZN|NO1 > BZN|NO5 [MW]  \\\n0                      1449.0                         0.0   \n1                      1283.0                         0.0   \n2                       962.0                         0.0   \n3                       767.0                         0.0   \n4                       642.0                         0.0   \n\n   CBF BZN|SE3 > BZN|NO1 [MW]  CBF BZN|NO1 > BZN|SE3 [MW]     start MTU (UTC)  \\\n0                         391                           0 2020-01-01 00:00:00   \n1                         348                           0 2020-01-01 01:00:00   \n2                         500                           0 2020-01-01 02:00:00   \n3                         610                           0 2020-01-01 03:00:00   \n4                         909                           0 2020-01-01 04:00:00   \n\n        end MTU (UTC)  \n0 2020-01-01 01:00:00  \n1 2020-01-01 02:00:00  \n2 2020-01-01 03:00:00  \n3 2020-01-01 04:00:00  \n4 2020-01-01 05:00:00  \n\n[5 rows x 53 columns]",
      "text/html": "<div>\n<style scoped>\n    .dataframe tbody tr th:only-of-type {\n        vertical-align: middle;\n    }\n\n    .dataframe tbody tr th {\n        vertical-align: top;\n    }\n\n    .dataframe thead th {\n        text-align: right;\n    }\n</style>\n<table border=\"1\" class=\"dataframe\">\n  <thead>\n    <tr style=\"text-align: right;\">\n      <th></th>\n      <th>Day-ahead Price [EUR/MWh] BZN|NO1</th>\n      <th>Day-ahead Price [EUR/MWh] BZN|NO2</th>\n      <th>Day-ahead Price [EUR/MWh] BZN|NO3</th>\n      <th>Day-ahead Price [EUR/MWh] BZN|NO5</th>\n      <th>Day-ahead Price [EUR/MWh] BZN|SE3</th>\n      <th>Actual Total Load [MW] - BZN|NO1</th>\n      <th>Actual Total Load [MW] - BZN|NO2</th>\n      <th>Actual Total Load [MW] - BZN|NO3</th>\n      <th>Actual Total Load [MW] - BZN|NO5</th>\n      <th>Actual Total Load [MW] - BZN|SE3</th>\n      <th>...</th>\n      <th>CBF BZN|NO2 &gt; BZN|NO1 [MW]</th>\n      <th>CBF BZN|NO1 &gt; BZN|NO2 [MW]</th>\n      <th>CBF BZN|NO3 &gt; BZN|NO1 [MW]</th>\n      <th>CBF BZN|NO1 &gt; BZN|NO3 [MW]</th>\n      <th>CBF BZN|NO5 &gt; BZN|NO1 [MW]</th>\n      <th>CBF BZN|NO1 &gt; BZN|NO5 [MW]</th>\n      <th>CBF BZN|SE3 &gt; BZN|NO1 [MW]</th>\n      <th>CBF BZN|NO1 &gt; BZN|SE3 [MW]</th>\n      <th>start MTU (UTC)</th>\n      <th>end MTU (UTC)</th>\n    </tr>\n  </thead>\n  <tbody>\n    <tr>\n      <th>0</th>\n      <td>31.77</td>\n      <td>31.77</td>\n      <td>28.45</td>\n      <td>31.77</td>\n      <td>28.45</td>\n      <td>4333.0</td>\n      <td>4139.0</td>\n      <td>3016.0</td>\n      <td>1950.0</td>\n      <td>9350</td>\n      <td>...</td>\n      <td>0.0</td>\n      <td>0.0</td>\n      <td>82.0</td>\n      <td>0.0</td>\n      <td>1449.0</td>\n      <td>0.0</td>\n      <td>391</td>\n      <td>0</td>\n      <td>2020-01-01 00:00:00</td>\n      <td>2020-01-01 01:00:00</td>\n    </tr>\n    <tr>\n      <th>1</th>\n      <td>31.57</td>\n      <td>31.57</td>\n      <td>27.90</td>\n      <td>31.57</td>\n      <td>27.90</td>\n      <td>4250.0</td>\n      <td>4114.0</td>\n      <td>2945.0</td>\n      <td>1926.0</td>\n      <td>9158</td>\n      <td>...</td>\n      <td>0.0</td>\n      <td>0.0</td>\n      <td>48.0</td>\n      <td>0.0</td>\n      <td>1283.0</td>\n      <td>0.0</td>\n      <td>348</td>\n      <td>0</td>\n      <td>2020-01-01 01:00:00</td>\n      <td>2020-01-01 02:00:00</td>\n    </tr>\n    <tr>\n      <th>2</th>\n      <td>31.28</td>\n      <td>31.28</td>\n      <td>27.52</td>\n      <td>31.28</td>\n      <td>27.52</td>\n      <td>4167.0</td>\n      <td>4030.0</td>\n      <td>3032.0</td>\n      <td>1913.0</td>\n      <td>8980</td>\n      <td>...</td>\n      <td>0.0</td>\n      <td>0.0</td>\n      <td>0.0</td>\n      <td>6.0</td>\n      <td>962.0</td>\n      <td>0.0</td>\n      <td>500</td>\n      <td>0</td>\n      <td>2020-01-01 02:00:00</td>\n      <td>2020-01-01 03:00:00</td>\n    </tr>\n    <tr>\n      <th>3</th>\n      <td>30.72</td>\n      <td>30.72</td>\n      <td>27.54</td>\n      <td>30.72</td>\n      <td>27.54</td>\n      <td>4145.0</td>\n      <td>4032.0</td>\n      <td>2988.0</td>\n      <td>1894.0</td>\n      <td>8914</td>\n      <td>...</td>\n      <td>0.0</td>\n      <td>0.0</td>\n      <td>0.0</td>\n      <td>6.0</td>\n      <td>767.0</td>\n      <td>0.0</td>\n      <td>610</td>\n      <td>0</td>\n      <td>2020-01-01 03:00:00</td>\n      <td>2020-01-01 04:00:00</td>\n    </tr>\n    <tr>\n      <th>4</th>\n      <td>30.27</td>\n      <td>30.27</td>\n      <td>26.55</td>\n      <td>30.27</td>\n      <td>26.55</td>\n      <td>4222.0</td>\n      <td>4032.0</td>\n      <td>2848.0</td>\n      <td>1901.0</td>\n      <td>8964</td>\n      <td>...</td>\n      <td>0.0</td>\n      <td>0.0</td>\n      <td>0.0</td>\n      <td>22.0</td>\n      <td>642.0</td>\n      <td>0.0</td>\n      <td>909</td>\n      <td>0</td>\n      <td>2020-01-01 04:00:00</td>\n      <td>2020-01-01 05:00:00</td>\n    </tr>\n  </tbody>\n</table>\n<p>5 rows × 53 columns</p>\n</div>"
     },
     "execution_count": 94,
     "metadata": {},
     "output_type": "execute_result"
    }
   ],
   "source": [
    "# splitting the time column 'MTU (UTC)' data on the '-' symbol\n",
    "no1_minus_water_reservoir[['start MTU (UTC)', 'end MTU (UTC)']] = no1_minus_water_reservoir['MTU (UTC)'].str.split('-', 1, expand=True)\n",
    "no1_minus_water_reservoir.head()\n",
    "# dropping the 'MTU (CET/CEST)' column\n",
    "no1_minus_water_reservoir = no1_minus_water_reservoir.drop(['MTU (UTC)'], axis=1)\n",
    "\n",
    "# converting the start and end columns to datetime\n",
    "no1_minus_water_reservoir['start MTU (UTC)'] = pd.to_datetime(no1_minus_water_reservoir['start MTU (UTC)'], format = \"%d.%m.%Y %H:%M\", exact=False)\n",
    "no1_minus_water_reservoir['end MTU (UTC)'] = pd.to_datetime(no1_minus_water_reservoir['end MTU (UTC)'],format = \"%d.%m.%Y %H:%M\", exact=False)\n",
    "\n",
    "\n",
    "# printing out 5 first rows of the resulting dataframe\n",
    "no1_minus_water_reservoir.head()"
   ]
  },
  {
   "cell_type": "markdown",
   "id": "ffe4f1bd",
   "metadata": {},
   "source": [
    "Checking datatype of the time columns in the resulting dataframe.\n"
   ]
  },
  {
   "cell_type": "code",
   "execution_count": 95,
   "id": "425780a8",
   "metadata": {},
   "outputs": [
    {
     "name": "stdout",
     "output_type": "stream",
     "text": [
      "<class 'pandas.core.frame.DataFrame'>\n",
      "Int64Index: 26304 entries, 0 to 26303\n",
      "Data columns (total 53 columns):\n",
      " #   Column                                     Non-Null Count  Dtype         \n",
      "---  ------                                     --------------  -----         \n",
      " 0   Day-ahead Price [EUR/MWh] BZN|NO1          26304 non-null  float64       \n",
      " 1   Day-ahead Price [EUR/MWh] BZN|NO2          26304 non-null  float64       \n",
      " 2   Day-ahead Price [EUR/MWh] BZN|NO3          26304 non-null  float64       \n",
      " 3   Day-ahead Price [EUR/MWh] BZN|NO5          26304 non-null  float64       \n",
      " 4   Day-ahead Price [EUR/MWh] BZN|SE3          26304 non-null  float64       \n",
      " 5   Actual Total Load [MW] - BZN|NO1           26303 non-null  float64       \n",
      " 6   Actual Total Load [MW] - BZN|NO2           26303 non-null  float64       \n",
      " 7   Actual Total Load [MW] - BZN|NO3           26303 non-null  float64       \n",
      " 8   Actual Total Load [MW] - BZN|NO5           26303 non-null  float64       \n",
      " 9   Actual Total Load [MW] - BZN|SE3           26304 non-null  int64         \n",
      " 10  Fossil Gas - BZN|NO1                       26299 non-null  float64       \n",
      " 11  Hydro Run-of-river and poundage - BZN|NO1  26299 non-null  float64       \n",
      " 12  Hydro Water Reservoir - BZN|NO1            26299 non-null  float64       \n",
      " 13  Other - BZN|NO1                            26304 non-null  float64       \n",
      " 14  Waste - BZN|NO1                            26299 non-null  float64       \n",
      " 15  Wind Onshore - BZN|NO1                     26299 non-null  float64       \n",
      " 16  Fossil Gas - BZN|NO2                       26298 non-null  float64       \n",
      " 17  Hydro Pumped Storage Aggregated- BZN|NO2   26299 non-null  float64       \n",
      " 18  Hydro Run-of-river and poundage - BZN|NO2  26299 non-null  float64       \n",
      " 19  Hydro Water Reservoir - BZN|NO2            26299 non-null  float64       \n",
      " 20  Other - BZN|NO2                            26304 non-null  float64       \n",
      " 21  Waste - BZN|NO2                            26299 non-null  float64       \n",
      " 22  Wind Onshore - BZN|NO2                     26299 non-null  float64       \n",
      " 23  Fossil Gas - BZN|NO3                       26299 non-null  float64       \n",
      " 24  Hydro Pumped Storage Aggregated- BZN|NO3   26299 non-null  float64       \n",
      " 25  Hydro Run-of-river and poundage - BZN|NO3  26299 non-null  float64       \n",
      " 26  Hydro Water Reservoir - BZN|NO3            26299 non-null  float64       \n",
      " 27  Other - BZN|NO3                            26299 non-null  float64       \n",
      " 28  Other renewable - BZN|NO3                  26231 non-null  float64       \n",
      " 29  Waste - BZN|NO3                            26299 non-null  float64       \n",
      " 30  Wind Onshore - BZN|NO3                     26299 non-null  float64       \n",
      " 31  Fossil Gas - BZN|NO5                       26299 non-null  float64       \n",
      " 32  Hydro Pumped Storage Aggregated- BZN|NO5   26299 non-null  float64       \n",
      " 33  Hydro Run-of-river and poundage - BZN|NO5  26299 non-null  float64       \n",
      " 34  Hydro Water Reservoir - BZN|NO5            26299 non-null  float64       \n",
      " 35  Other - BZN|NO5                            26304 non-null  float64       \n",
      " 36  Waste - BZN|NO5                            26299 non-null  float64       \n",
      " 37  Fossil Gas - BZN|SE3                       26303 non-null  float64       \n",
      " 38  Hydro Water Reservoir - BZN|SE3            26303 non-null  float64       \n",
      " 39  Nuclear - BZN|SE3                          26303 non-null  float64       \n",
      " 40  Other - BZN|SE3                            26303 non-null  float64       \n",
      " 41  Solar - BZN|SE3                            26303 non-null  float64       \n",
      " 42  Wind Onshore - BZN|SE3                     26303 non-null  float64       \n",
      " 43  CBF BZN|NO2 > BZN|NO1 [MW]                 26273 non-null  float64       \n",
      " 44  CBF BZN|NO1 > BZN|NO2 [MW]                 26273 non-null  float64       \n",
      " 45  CBF BZN|NO3 > BZN|NO1 [MW]                 26273 non-null  float64       \n",
      " 46  CBF BZN|NO1 > BZN|NO3 [MW]                 26273 non-null  float64       \n",
      " 47  CBF BZN|NO5 > BZN|NO1 [MW]                 26273 non-null  float64       \n",
      " 48  CBF BZN|NO1 > BZN|NO5 [MW]                 26273 non-null  float64       \n",
      " 49  CBF BZN|SE3 > BZN|NO1 [MW]                 26304 non-null  int64         \n",
      " 50  CBF BZN|NO1 > BZN|SE3 [MW]                 26304 non-null  int64         \n",
      " 51  start MTU (UTC)                            26304 non-null  datetime64[ns]\n",
      " 52  end MTU (UTC)                              26304 non-null  datetime64[ns]\n",
      "dtypes: datetime64[ns](2), float64(48), int64(3)\n",
      "memory usage: 10.8 MB\n"
     ]
    }
   ],
   "source": [
    "# printing info about columns:\n",
    "no1_minus_water_reservoir.info()"
   ]
  },
  {
   "cell_type": "markdown",
   "id": "f7da6ec3",
   "metadata": {},
   "source": [
    "We can now add the \"water_reservoir\" dataframe to the other data"
   ]
  },
  {
   "cell_type": "code",
   "execution_count": 96,
   "id": "48bb55dc",
   "metadata": {},
   "outputs": [
    {
     "data": {
      "text/plain": "(26304, 58)"
     },
     "execution_count": 96,
     "metadata": {},
     "output_type": "execute_result"
    }
   ],
   "source": [
    "# merging dataframes no1_minus_water_reservoir and water_reservoir\n",
    "no1 = reduce(lambda left, right: pd.merge(\n",
    "    left,right, on=['start MTU (UTC)']), [no1_minus_water_reservoir, water_reservoir])\n",
    "\n",
    "# printing out shape of the resulting dataframe\n",
    "no1.shape"
   ]
  },
  {
   "cell_type": "markdown",
   "id": "660488ec",
   "metadata": {},
   "source": [
    "We can see that the resulting dataframe has the correct number of rows (26304) and 57 columns.\n",
    "\n",
    "We now want to check if there are any new missing values resulting from the merging."
   ]
  },
  {
   "cell_type": "code",
   "execution_count": 97,
   "id": "38c6426e",
   "metadata": {},
   "outputs": [
    {
     "data": {
      "text/plain": "Day-ahead Price [EUR/MWh] BZN|NO1                                                 0\nDay-ahead Price [EUR/MWh] BZN|NO2                                                 0\nDay-ahead Price [EUR/MWh] BZN|NO3                                                 0\nDay-ahead Price [EUR/MWh] BZN|NO5                                                 0\nDay-ahead Price [EUR/MWh] BZN|SE3                                                 0\nActual Total Load [MW] - BZN|NO1                                                  1\nActual Total Load [MW] - BZN|NO2                                                  1\nActual Total Load [MW] - BZN|NO3                                                  1\nActual Total Load [MW] - BZN|NO5                                                  1\nActual Total Load [MW] - BZN|SE3                                                  0\nFossil Gas - BZN|NO1                                                              5\nHydro Run-of-river and poundage - BZN|NO1                                         5\nHydro Water Reservoir - BZN|NO1                                                   5\nOther - BZN|NO1                                                                   0\nWaste - BZN|NO1                                                                   5\nWind Onshore - BZN|NO1                                                            5\nFossil Gas - BZN|NO2                                                              6\nHydro Pumped Storage Aggregated- BZN|NO2                                          5\nHydro Run-of-river and poundage - BZN|NO2                                         5\nHydro Water Reservoir - BZN|NO2                                                   5\nOther - BZN|NO2                                                                   0\nWaste - BZN|NO2                                                                   5\nWind Onshore - BZN|NO2                                                            5\nFossil Gas - BZN|NO3                                                              5\nHydro Pumped Storage Aggregated- BZN|NO3                                          5\nHydro Run-of-river and poundage - BZN|NO3                                         5\nHydro Water Reservoir - BZN|NO3                                                   5\nOther - BZN|NO3                                                                   5\nOther renewable - BZN|NO3                                                        73\nWaste - BZN|NO3                                                                   5\nWind Onshore - BZN|NO3                                                            5\nFossil Gas - BZN|NO5                                                              5\nHydro Pumped Storage Aggregated- BZN|NO5                                          5\nHydro Run-of-river and poundage - BZN|NO5                                         5\nHydro Water Reservoir - BZN|NO5                                                   5\nOther - BZN|NO5                                                                   0\nWaste - BZN|NO5                                                                   5\nFossil Gas - BZN|SE3                                                              1\nHydro Water Reservoir - BZN|SE3                                                   1\nNuclear - BZN|SE3                                                                 1\nOther - BZN|SE3                                                                   1\nSolar - BZN|SE3                                                                   1\nWind Onshore - BZN|SE3                                                            1\nCBF BZN|NO2 > BZN|NO1 [MW]                                                       31\nCBF BZN|NO1 > BZN|NO2 [MW]                                                       31\nCBF BZN|NO3 > BZN|NO1 [MW]                                                       31\nCBF BZN|NO1 > BZN|NO3 [MW]                                                       31\nCBF BZN|NO5 > BZN|NO1 [MW]                                                       31\nCBF BZN|NO1 > BZN|NO5 [MW]                                                       31\nCBF BZN|SE3 > BZN|NO1 [MW]                                                        0\nCBF BZN|NO1 > BZN|SE3 [MW]                                                        0\nstart MTU (UTC)                                                                   0\nend MTU (UTC)                                                                     0\nStored Energy Value Water Reservoirs and Hydro Storage Plants [MWh] - BZN|NO1     0\nStored Energy Value Water Reservoirs and Hydro Storage Plants [MWh] - BZN|NO2     0\nStored Energy Value Water Reservoirs and Hydro Storage Plants [MWh] - BZN|NO3     0\nStored Energy Value Water Reservoirs and Hydro Storage Plants [MWh] - BZN|NO5     0\nStored Energy Value Water Reservoirs and Hydro Storage Plants [MWh] - BZN|SE3     0\ndtype: int64"
     },
     "execution_count": 97,
     "metadata": {},
     "output_type": "execute_result"
    }
   ],
   "source": [
    "no1.isna().sum()"
   ]
  },
  {
   "cell_type": "markdown",
   "id": "7bd4d91c",
   "metadata": {},
   "source": [
    "We see that the same missing values occur, with no new missing values.\n",
    "\n",
    "We print out the start and end of the dataset to see that it has the correct end values for MTU(UTC)."
   ]
  },
  {
   "cell_type": "code",
   "execution_count": 98,
   "id": "a45f382d",
   "metadata": {},
   "outputs": [
    {
     "data": {
      "text/plain": "   Day-ahead Price [EUR/MWh] BZN|NO1  Day-ahead Price [EUR/MWh] BZN|NO2  \\\n0                              31.77                              31.77   \n1                              31.57                              31.57   \n2                              31.28                              31.28   \n3                              30.72                              30.72   \n4                              30.27                              30.27   \n\n   Day-ahead Price [EUR/MWh] BZN|NO3  Day-ahead Price [EUR/MWh] BZN|NO5  \\\n0                              28.45                              31.77   \n1                              27.90                              31.57   \n2                              27.52                              31.28   \n3                              27.54                              30.72   \n4                              26.55                              30.27   \n\n   Day-ahead Price [EUR/MWh] BZN|SE3  Actual Total Load [MW] - BZN|NO1  \\\n0                              28.45                            4333.0   \n1                              27.90                            4250.0   \n2                              27.52                            4167.0   \n3                              27.54                            4145.0   \n4                              26.55                            4222.0   \n\n   Actual Total Load [MW] - BZN|NO2  Actual Total Load [MW] - BZN|NO3  \\\n0                            4139.0                            3016.0   \n1                            4114.0                            2945.0   \n2                            4030.0                            3032.0   \n3                            4032.0                            2988.0   \n4                            4032.0                            2848.0   \n\n   Actual Total Load [MW] - BZN|NO5  Actual Total Load [MW] - BZN|SE3  ...  \\\n0                            1950.0                              9350  ...   \n1                            1926.0                              9158  ...   \n2                            1913.0                              8980  ...   \n3                            1894.0                              8914  ...   \n4                            1901.0                              8964  ...   \n\n   CBF BZN|NO1 > BZN|NO5 [MW]  CBF BZN|SE3 > BZN|NO1 [MW]  \\\n0                         0.0                         391   \n1                         0.0                         348   \n2                         0.0                         500   \n3                         0.0                         610   \n4                         0.0                         909   \n\n   CBF BZN|NO1 > BZN|SE3 [MW]     start MTU (UTC)       end MTU (UTC)  \\\n0                           0 2020-01-01 00:00:00 2020-01-01 01:00:00   \n1                           0 2020-01-01 01:00:00 2020-01-01 02:00:00   \n2                           0 2020-01-01 02:00:00 2020-01-01 03:00:00   \n3                           0 2020-01-01 03:00:00 2020-01-01 04:00:00   \n4                           0 2020-01-01 04:00:00 2020-01-01 05:00:00   \n\n   Stored Energy Value Water Reservoirs and Hydro Storage Plants [MWh] - BZN|NO1  \\\n0                                          4012000.0                               \n1                                          4012000.0                               \n2                                          4012000.0                               \n3                                          4012000.0                               \n4                                          4012000.0                               \n\n   Stored Energy Value Water Reservoirs and Hydro Storage Plants [MWh] - BZN|NO2  \\\n0                                         24273000.0                               \n1                                         24273000.0                               \n2                                         24273000.0                               \n3                                         24273000.0                               \n4                                         24273000.0                               \n\n   Stored Energy Value Water Reservoirs and Hydro Storage Plants [MWh] - BZN|NO3  \\\n0                                          5588000.0                               \n1                                          5588000.0                               \n2                                          5588000.0                               \n3                                          5588000.0                               \n4                                          5588000.0                               \n\n   Stored Energy Value Water Reservoirs and Hydro Storage Plants [MWh] - BZN|NO5  \\\n0                                         11211000.0                               \n1                                         11211000.0                               \n2                                         11211000.0                               \n3                                         11211000.0                               \n4                                         11211000.0                               \n\n   Stored Energy Value Water Reservoirs and Hydro Storage Plants [MWh] - BZN|SE3  \n0                                          2220000.0                              \n1                                          2220000.0                              \n2                                          2220000.0                              \n3                                          2220000.0                              \n4                                          2220000.0                              \n\n[5 rows x 58 columns]",
      "text/html": "<div>\n<style scoped>\n    .dataframe tbody tr th:only-of-type {\n        vertical-align: middle;\n    }\n\n    .dataframe tbody tr th {\n        vertical-align: top;\n    }\n\n    .dataframe thead th {\n        text-align: right;\n    }\n</style>\n<table border=\"1\" class=\"dataframe\">\n  <thead>\n    <tr style=\"text-align: right;\">\n      <th></th>\n      <th>Day-ahead Price [EUR/MWh] BZN|NO1</th>\n      <th>Day-ahead Price [EUR/MWh] BZN|NO2</th>\n      <th>Day-ahead Price [EUR/MWh] BZN|NO3</th>\n      <th>Day-ahead Price [EUR/MWh] BZN|NO5</th>\n      <th>Day-ahead Price [EUR/MWh] BZN|SE3</th>\n      <th>Actual Total Load [MW] - BZN|NO1</th>\n      <th>Actual Total Load [MW] - BZN|NO2</th>\n      <th>Actual Total Load [MW] - BZN|NO3</th>\n      <th>Actual Total Load [MW] - BZN|NO5</th>\n      <th>Actual Total Load [MW] - BZN|SE3</th>\n      <th>...</th>\n      <th>CBF BZN|NO1 &gt; BZN|NO5 [MW]</th>\n      <th>CBF BZN|SE3 &gt; BZN|NO1 [MW]</th>\n      <th>CBF BZN|NO1 &gt; BZN|SE3 [MW]</th>\n      <th>start MTU (UTC)</th>\n      <th>end MTU (UTC)</th>\n      <th>Stored Energy Value Water Reservoirs and Hydro Storage Plants [MWh] - BZN|NO1</th>\n      <th>Stored Energy Value Water Reservoirs and Hydro Storage Plants [MWh] - BZN|NO2</th>\n      <th>Stored Energy Value Water Reservoirs and Hydro Storage Plants [MWh] - BZN|NO3</th>\n      <th>Stored Energy Value Water Reservoirs and Hydro Storage Plants [MWh] - BZN|NO5</th>\n      <th>Stored Energy Value Water Reservoirs and Hydro Storage Plants [MWh] - BZN|SE3</th>\n    </tr>\n  </thead>\n  <tbody>\n    <tr>\n      <th>0</th>\n      <td>31.77</td>\n      <td>31.77</td>\n      <td>28.45</td>\n      <td>31.77</td>\n      <td>28.45</td>\n      <td>4333.0</td>\n      <td>4139.0</td>\n      <td>3016.0</td>\n      <td>1950.0</td>\n      <td>9350</td>\n      <td>...</td>\n      <td>0.0</td>\n      <td>391</td>\n      <td>0</td>\n      <td>2020-01-01 00:00:00</td>\n      <td>2020-01-01 01:00:00</td>\n      <td>4012000.0</td>\n      <td>24273000.0</td>\n      <td>5588000.0</td>\n      <td>11211000.0</td>\n      <td>2220000.0</td>\n    </tr>\n    <tr>\n      <th>1</th>\n      <td>31.57</td>\n      <td>31.57</td>\n      <td>27.90</td>\n      <td>31.57</td>\n      <td>27.90</td>\n      <td>4250.0</td>\n      <td>4114.0</td>\n      <td>2945.0</td>\n      <td>1926.0</td>\n      <td>9158</td>\n      <td>...</td>\n      <td>0.0</td>\n      <td>348</td>\n      <td>0</td>\n      <td>2020-01-01 01:00:00</td>\n      <td>2020-01-01 02:00:00</td>\n      <td>4012000.0</td>\n      <td>24273000.0</td>\n      <td>5588000.0</td>\n      <td>11211000.0</td>\n      <td>2220000.0</td>\n    </tr>\n    <tr>\n      <th>2</th>\n      <td>31.28</td>\n      <td>31.28</td>\n      <td>27.52</td>\n      <td>31.28</td>\n      <td>27.52</td>\n      <td>4167.0</td>\n      <td>4030.0</td>\n      <td>3032.0</td>\n      <td>1913.0</td>\n      <td>8980</td>\n      <td>...</td>\n      <td>0.0</td>\n      <td>500</td>\n      <td>0</td>\n      <td>2020-01-01 02:00:00</td>\n      <td>2020-01-01 03:00:00</td>\n      <td>4012000.0</td>\n      <td>24273000.0</td>\n      <td>5588000.0</td>\n      <td>11211000.0</td>\n      <td>2220000.0</td>\n    </tr>\n    <tr>\n      <th>3</th>\n      <td>30.72</td>\n      <td>30.72</td>\n      <td>27.54</td>\n      <td>30.72</td>\n      <td>27.54</td>\n      <td>4145.0</td>\n      <td>4032.0</td>\n      <td>2988.0</td>\n      <td>1894.0</td>\n      <td>8914</td>\n      <td>...</td>\n      <td>0.0</td>\n      <td>610</td>\n      <td>0</td>\n      <td>2020-01-01 03:00:00</td>\n      <td>2020-01-01 04:00:00</td>\n      <td>4012000.0</td>\n      <td>24273000.0</td>\n      <td>5588000.0</td>\n      <td>11211000.0</td>\n      <td>2220000.0</td>\n    </tr>\n    <tr>\n      <th>4</th>\n      <td>30.27</td>\n      <td>30.27</td>\n      <td>26.55</td>\n      <td>30.27</td>\n      <td>26.55</td>\n      <td>4222.0</td>\n      <td>4032.0</td>\n      <td>2848.0</td>\n      <td>1901.0</td>\n      <td>8964</td>\n      <td>...</td>\n      <td>0.0</td>\n      <td>909</td>\n      <td>0</td>\n      <td>2020-01-01 04:00:00</td>\n      <td>2020-01-01 05:00:00</td>\n      <td>4012000.0</td>\n      <td>24273000.0</td>\n      <td>5588000.0</td>\n      <td>11211000.0</td>\n      <td>2220000.0</td>\n    </tr>\n  </tbody>\n</table>\n<p>5 rows × 58 columns</p>\n</div>"
     },
     "execution_count": 98,
     "metadata": {},
     "output_type": "execute_result"
    }
   ],
   "source": [
    "# printing out 5 first rows of the resulting dataframe\n",
    "no1.head()"
   ]
  },
  {
   "cell_type": "code",
   "execution_count": 99,
   "id": "96d92ada",
   "metadata": {},
   "outputs": [
    {
     "data": {
      "text/plain": "       Day-ahead Price [EUR/MWh] BZN|NO1  Day-ahead Price [EUR/MWh] BZN|NO2  \\\n26299                             123.61                             123.61   \n26300                             121.09                             121.09   \n26301                             120.00                             120.00   \n26302                             119.98                             119.98   \n26303                             119.32                             119.32   \n\n       Day-ahead Price [EUR/MWh] BZN|NO3  Day-ahead Price [EUR/MWh] BZN|NO5  \\\n26299                              23.82                             123.61   \n26300                              23.93                             121.09   \n26301                              23.75                             120.00   \n26302                              23.56                             119.98   \n26303                              23.35                             119.32   \n\n       Day-ahead Price [EUR/MWh] BZN|SE3  Actual Total Load [MW] - BZN|NO1  \\\n26299                              11.57                            4650.0   \n26300                              14.89                            4573.0   \n26301                               9.94                            4453.0   \n26302                               4.84                            4389.0   \n26303                               2.01                            4444.0   \n\n       Actual Total Load [MW] - BZN|NO2  Actual Total Load [MW] - BZN|NO3  \\\n26299                            4333.0                            3612.0   \n26300                            4270.0                            3605.0   \n26301                            4294.0                            3479.0   \n26302                            4282.0                            3415.0   \n26303                            4182.0                            3346.0   \n\n       Actual Total Load [MW] - BZN|NO5  Actual Total Load [MW] - BZN|SE3  \\\n26299                            2128.0                              9602   \n26300                            2089.0                              9251   \n26301                            2037.0                              9092   \n26302                            1991.0                              8944   \n26303                            2009.0                              8955   \n\n       ...  CBF BZN|NO1 > BZN|NO5 [MW]  CBF BZN|SE3 > BZN|NO1 [MW]  \\\n26299  ...                         0.0                        2083   \n26300  ...                         0.0                        2097   \n26301  ...                         0.0                        2007   \n26302  ...                        29.0                        2119   \n26303  ...                        12.0                        1612   \n\n       CBF BZN|NO1 > BZN|SE3 [MW]     start MTU (UTC)       end MTU (UTC)  \\\n26299                           0 2022-12-31 19:00:00 2022-12-31 20:00:00   \n26300                           0 2022-12-31 20:00:00 2022-12-31 21:00:00   \n26301                           0 2022-12-31 21:00:00 2022-12-31 22:00:00   \n26302                           0 2022-12-31 22:00:00 2022-12-31 23:00:00   \n26303                           0 2022-12-31 23:00:00 2023-01-01 00:00:00   \n\n       Stored Energy Value Water Reservoirs and Hydro Storage Plants [MWh] - BZN|NO1  \\\n26299                                          3915448.0                               \n26300                                          3915448.0                               \n26301                                          3915448.0                               \n26302                                          3915448.0                               \n26303                                          3915448.0                               \n\n       Stored Energy Value Water Reservoirs and Hydro Storage Plants [MWh] - BZN|NO2  \\\n26299                                         21384042.0                               \n26300                                         21384042.0                               \n26301                                         21384042.0                               \n26302                                         21384042.0                               \n26303                                         21384042.0                               \n\n       Stored Energy Value Water Reservoirs and Hydro Storage Plants [MWh] - BZN|NO3  \\\n26299                                          5038234.0                               \n26300                                          5038234.0                               \n26301                                          5038234.0                               \n26302                                          5038234.0                               \n26303                                          5038234.0                               \n\n       Stored Energy Value Water Reservoirs and Hydro Storage Plants [MWh] - BZN|NO5  \\\n26299                                         12014136.0                               \n26300                                         12014136.0                               \n26301                                         12014136.0                               \n26302                                         12014136.0                               \n26303                                         12014136.0                               \n\n       Stored Energy Value Water Reservoirs and Hydro Storage Plants [MWh] - BZN|SE3  \n26299                                          1579000.0                              \n26300                                          1579000.0                              \n26301                                          1579000.0                              \n26302                                          1579000.0                              \n26303                                          1579000.0                              \n\n[5 rows x 58 columns]",
      "text/html": "<div>\n<style scoped>\n    .dataframe tbody tr th:only-of-type {\n        vertical-align: middle;\n    }\n\n    .dataframe tbody tr th {\n        vertical-align: top;\n    }\n\n    .dataframe thead th {\n        text-align: right;\n    }\n</style>\n<table border=\"1\" class=\"dataframe\">\n  <thead>\n    <tr style=\"text-align: right;\">\n      <th></th>\n      <th>Day-ahead Price [EUR/MWh] BZN|NO1</th>\n      <th>Day-ahead Price [EUR/MWh] BZN|NO2</th>\n      <th>Day-ahead Price [EUR/MWh] BZN|NO3</th>\n      <th>Day-ahead Price [EUR/MWh] BZN|NO5</th>\n      <th>Day-ahead Price [EUR/MWh] BZN|SE3</th>\n      <th>Actual Total Load [MW] - BZN|NO1</th>\n      <th>Actual Total Load [MW] - BZN|NO2</th>\n      <th>Actual Total Load [MW] - BZN|NO3</th>\n      <th>Actual Total Load [MW] - BZN|NO5</th>\n      <th>Actual Total Load [MW] - BZN|SE3</th>\n      <th>...</th>\n      <th>CBF BZN|NO1 &gt; BZN|NO5 [MW]</th>\n      <th>CBF BZN|SE3 &gt; BZN|NO1 [MW]</th>\n      <th>CBF BZN|NO1 &gt; BZN|SE3 [MW]</th>\n      <th>start MTU (UTC)</th>\n      <th>end MTU (UTC)</th>\n      <th>Stored Energy Value Water Reservoirs and Hydro Storage Plants [MWh] - BZN|NO1</th>\n      <th>Stored Energy Value Water Reservoirs and Hydro Storage Plants [MWh] - BZN|NO2</th>\n      <th>Stored Energy Value Water Reservoirs and Hydro Storage Plants [MWh] - BZN|NO3</th>\n      <th>Stored Energy Value Water Reservoirs and Hydro Storage Plants [MWh] - BZN|NO5</th>\n      <th>Stored Energy Value Water Reservoirs and Hydro Storage Plants [MWh] - BZN|SE3</th>\n    </tr>\n  </thead>\n  <tbody>\n    <tr>\n      <th>26299</th>\n      <td>123.61</td>\n      <td>123.61</td>\n      <td>23.82</td>\n      <td>123.61</td>\n      <td>11.57</td>\n      <td>4650.0</td>\n      <td>4333.0</td>\n      <td>3612.0</td>\n      <td>2128.0</td>\n      <td>9602</td>\n      <td>...</td>\n      <td>0.0</td>\n      <td>2083</td>\n      <td>0</td>\n      <td>2022-12-31 19:00:00</td>\n      <td>2022-12-31 20:00:00</td>\n      <td>3915448.0</td>\n      <td>21384042.0</td>\n      <td>5038234.0</td>\n      <td>12014136.0</td>\n      <td>1579000.0</td>\n    </tr>\n    <tr>\n      <th>26300</th>\n      <td>121.09</td>\n      <td>121.09</td>\n      <td>23.93</td>\n      <td>121.09</td>\n      <td>14.89</td>\n      <td>4573.0</td>\n      <td>4270.0</td>\n      <td>3605.0</td>\n      <td>2089.0</td>\n      <td>9251</td>\n      <td>...</td>\n      <td>0.0</td>\n      <td>2097</td>\n      <td>0</td>\n      <td>2022-12-31 20:00:00</td>\n      <td>2022-12-31 21:00:00</td>\n      <td>3915448.0</td>\n      <td>21384042.0</td>\n      <td>5038234.0</td>\n      <td>12014136.0</td>\n      <td>1579000.0</td>\n    </tr>\n    <tr>\n      <th>26301</th>\n      <td>120.00</td>\n      <td>120.00</td>\n      <td>23.75</td>\n      <td>120.00</td>\n      <td>9.94</td>\n      <td>4453.0</td>\n      <td>4294.0</td>\n      <td>3479.0</td>\n      <td>2037.0</td>\n      <td>9092</td>\n      <td>...</td>\n      <td>0.0</td>\n      <td>2007</td>\n      <td>0</td>\n      <td>2022-12-31 21:00:00</td>\n      <td>2022-12-31 22:00:00</td>\n      <td>3915448.0</td>\n      <td>21384042.0</td>\n      <td>5038234.0</td>\n      <td>12014136.0</td>\n      <td>1579000.0</td>\n    </tr>\n    <tr>\n      <th>26302</th>\n      <td>119.98</td>\n      <td>119.98</td>\n      <td>23.56</td>\n      <td>119.98</td>\n      <td>4.84</td>\n      <td>4389.0</td>\n      <td>4282.0</td>\n      <td>3415.0</td>\n      <td>1991.0</td>\n      <td>8944</td>\n      <td>...</td>\n      <td>29.0</td>\n      <td>2119</td>\n      <td>0</td>\n      <td>2022-12-31 22:00:00</td>\n      <td>2022-12-31 23:00:00</td>\n      <td>3915448.0</td>\n      <td>21384042.0</td>\n      <td>5038234.0</td>\n      <td>12014136.0</td>\n      <td>1579000.0</td>\n    </tr>\n    <tr>\n      <th>26303</th>\n      <td>119.32</td>\n      <td>119.32</td>\n      <td>23.35</td>\n      <td>119.32</td>\n      <td>2.01</td>\n      <td>4444.0</td>\n      <td>4182.0</td>\n      <td>3346.0</td>\n      <td>2009.0</td>\n      <td>8955</td>\n      <td>...</td>\n      <td>12.0</td>\n      <td>1612</td>\n      <td>0</td>\n      <td>2022-12-31 23:00:00</td>\n      <td>2023-01-01 00:00:00</td>\n      <td>3915448.0</td>\n      <td>21384042.0</td>\n      <td>5038234.0</td>\n      <td>12014136.0</td>\n      <td>1579000.0</td>\n    </tr>\n  </tbody>\n</table>\n<p>5 rows × 58 columns</p>\n</div>"
     },
     "execution_count": 99,
     "metadata": {},
     "output_type": "execute_result"
    }
   ],
   "source": [
    "# printing the last 5 rows of the resulting dataframe\n",
    "no1.tail()"
   ]
  },
  {
   "cell_type": "markdown",
   "id": "6fe3b3cb",
   "metadata": {},
   "source": [
    "We can see that the columns for start datetime and end datetime of the dataset is correct. One thing of note is that the time columns are almost at the end of the dataset. Since we are dealing with time series data, it would be useful to have the datetime columns at the beginning of the dataframe. We will therefore move the start and end datetime columns to the start of the dataframe."
   ]
  },
  {
   "cell_type": "code",
   "execution_count": 100,
   "id": "afe669d9",
   "metadata": {},
   "outputs": [
    {
     "name": "stdout",
     "output_type": "stream",
     "text": [
      "['start MTU (UTC)', 'end MTU (UTC)', 'Day-ahead Price [EUR/MWh] BZN|NO1', 'Day-ahead Price [EUR/MWh] BZN|NO2', 'Day-ahead Price [EUR/MWh] BZN|NO3', 'Day-ahead Price [EUR/MWh] BZN|NO5', 'Day-ahead Price [EUR/MWh] BZN|SE3', 'Actual Total Load [MW] - BZN|NO1', 'Actual Total Load [MW] - BZN|NO2', 'Actual Total Load [MW] - BZN|NO3', 'Actual Total Load [MW] - BZN|NO5', 'Actual Total Load [MW] - BZN|SE3', 'Fossil Gas - BZN|NO1', 'Hydro Run-of-river and poundage - BZN|NO1', 'Hydro Water Reservoir - BZN|NO1', 'Other - BZN|NO1', 'Waste - BZN|NO1', 'Wind Onshore - BZN|NO1', 'Fossil Gas - BZN|NO2', 'Hydro Pumped Storage Aggregated- BZN|NO2', 'Hydro Run-of-river and poundage - BZN|NO2', 'Hydro Water Reservoir - BZN|NO2', 'Other - BZN|NO2', 'Waste - BZN|NO2', 'Wind Onshore - BZN|NO2', 'Fossil Gas - BZN|NO3', 'Hydro Pumped Storage Aggregated- BZN|NO3', 'Hydro Run-of-river and poundage - BZN|NO3', 'Hydro Water Reservoir - BZN|NO3', 'Other - BZN|NO3', 'Other renewable - BZN|NO3', 'Waste - BZN|NO3', 'Wind Onshore - BZN|NO3', 'Fossil Gas - BZN|NO5', 'Hydro Pumped Storage Aggregated- BZN|NO5', 'Hydro Run-of-river and poundage - BZN|NO5', 'Hydro Water Reservoir - BZN|NO5', 'Other - BZN|NO5', 'Waste - BZN|NO5', 'Fossil Gas - BZN|SE3', 'Hydro Water Reservoir - BZN|SE3', 'Nuclear - BZN|SE3', 'Other - BZN|SE3', 'Solar - BZN|SE3', 'Wind Onshore - BZN|SE3', 'CBF BZN|NO2 > BZN|NO1 [MW]', 'CBF BZN|NO1 > BZN|NO2 [MW]', 'CBF BZN|NO3 > BZN|NO1 [MW]', 'CBF BZN|NO1 > BZN|NO3 [MW]', 'CBF BZN|NO5 > BZN|NO1 [MW]', 'CBF BZN|NO1 > BZN|NO5 [MW]', 'CBF BZN|SE3 > BZN|NO1 [MW]', 'CBF BZN|NO1 > BZN|SE3 [MW]', 'Stored Energy Value Water Reservoirs and Hydro Storage Plants [MWh] - BZN|NO1', 'Stored Energy Value Water Reservoirs and Hydro Storage Plants [MWh] - BZN|NO2', 'Stored Energy Value Water Reservoirs and Hydro Storage Plants [MWh] - BZN|NO3', 'Stored Energy Value Water Reservoirs and Hydro Storage Plants [MWh] - BZN|NO5', 'Stored Energy Value Water Reservoirs and Hydro Storage Plants [MWh] - BZN|SE3']\n"
     ]
    }
   ],
   "source": [
    "# creating a list of column names\n",
    "no1_columns = no1.columns.tolist()\n",
    "# removing names of datetime column names from columnslist\n",
    "no1_columns.remove('start MTU (UTC)')\n",
    "no1_columns.remove('end MTU (UTC)')\n",
    "\n",
    "# inserting the datetime column names to start of list \n",
    "no1_columns.insert(0, 'end MTU (UTC)')\n",
    "no1_columns.insert(0, 'start MTU (UTC)')\n",
    "\n",
    "# printing out resulting list\n",
    "print(no1_columns)"
   ]
  },
  {
   "cell_type": "markdown",
   "id": "e1f53142",
   "metadata": {},
   "source": [
    "We now have a list with the time columns at the beginning, and can reorder the columns so the datetime columns are at the begining of the dataframe"
   ]
  },
  {
   "cell_type": "code",
   "execution_count": 101,
   "id": "bfe23e8e",
   "metadata": {},
   "outputs": [
    {
     "data": {
      "text/plain": "      start MTU (UTC)       end MTU (UTC)  Day-ahead Price [EUR/MWh] BZN|NO1  \\\n0 2020-01-01 00:00:00 2020-01-01 01:00:00                              31.77   \n1 2020-01-01 01:00:00 2020-01-01 02:00:00                              31.57   \n2 2020-01-01 02:00:00 2020-01-01 03:00:00                              31.28   \n3 2020-01-01 03:00:00 2020-01-01 04:00:00                              30.72   \n4 2020-01-01 04:00:00 2020-01-01 05:00:00                              30.27   \n\n   Day-ahead Price [EUR/MWh] BZN|NO2  Day-ahead Price [EUR/MWh] BZN|NO3  \\\n0                              31.77                              28.45   \n1                              31.57                              27.90   \n2                              31.28                              27.52   \n3                              30.72                              27.54   \n4                              30.27                              26.55   \n\n   Day-ahead Price [EUR/MWh] BZN|NO5  Day-ahead Price [EUR/MWh] BZN|SE3  \\\n0                              31.77                              28.45   \n1                              31.57                              27.90   \n2                              31.28                              27.52   \n3                              30.72                              27.54   \n4                              30.27                              26.55   \n\n   Actual Total Load [MW] - BZN|NO1  Actual Total Load [MW] - BZN|NO2  \\\n0                            4333.0                            4139.0   \n1                            4250.0                            4114.0   \n2                            4167.0                            4030.0   \n3                            4145.0                            4032.0   \n4                            4222.0                            4032.0   \n\n   Actual Total Load [MW] - BZN|NO3  ...  CBF BZN|NO1 > BZN|NO3 [MW]  \\\n0                            3016.0  ...                         0.0   \n1                            2945.0  ...                         0.0   \n2                            3032.0  ...                         6.0   \n3                            2988.0  ...                         6.0   \n4                            2848.0  ...                        22.0   \n\n   CBF BZN|NO5 > BZN|NO1 [MW]  CBF BZN|NO1 > BZN|NO5 [MW]  \\\n0                      1449.0                         0.0   \n1                      1283.0                         0.0   \n2                       962.0                         0.0   \n3                       767.0                         0.0   \n4                       642.0                         0.0   \n\n   CBF BZN|SE3 > BZN|NO1 [MW]  CBF BZN|NO1 > BZN|SE3 [MW]  \\\n0                         391                           0   \n1                         348                           0   \n2                         500                           0   \n3                         610                           0   \n4                         909                           0   \n\n   Stored Energy Value Water Reservoirs and Hydro Storage Plants [MWh] - BZN|NO1  \\\n0                                          4012000.0                               \n1                                          4012000.0                               \n2                                          4012000.0                               \n3                                          4012000.0                               \n4                                          4012000.0                               \n\n   Stored Energy Value Water Reservoirs and Hydro Storage Plants [MWh] - BZN|NO2  \\\n0                                         24273000.0                               \n1                                         24273000.0                               \n2                                         24273000.0                               \n3                                         24273000.0                               \n4                                         24273000.0                               \n\n   Stored Energy Value Water Reservoirs and Hydro Storage Plants [MWh] - BZN|NO3  \\\n0                                          5588000.0                               \n1                                          5588000.0                               \n2                                          5588000.0                               \n3                                          5588000.0                               \n4                                          5588000.0                               \n\n   Stored Energy Value Water Reservoirs and Hydro Storage Plants [MWh] - BZN|NO5  \\\n0                                         11211000.0                               \n1                                         11211000.0                               \n2                                         11211000.0                               \n3                                         11211000.0                               \n4                                         11211000.0                               \n\n   Stored Energy Value Water Reservoirs and Hydro Storage Plants [MWh] - BZN|SE3  \n0                                          2220000.0                              \n1                                          2220000.0                              \n2                                          2220000.0                              \n3                                          2220000.0                              \n4                                          2220000.0                              \n\n[5 rows x 58 columns]",
      "text/html": "<div>\n<style scoped>\n    .dataframe tbody tr th:only-of-type {\n        vertical-align: middle;\n    }\n\n    .dataframe tbody tr th {\n        vertical-align: top;\n    }\n\n    .dataframe thead th {\n        text-align: right;\n    }\n</style>\n<table border=\"1\" class=\"dataframe\">\n  <thead>\n    <tr style=\"text-align: right;\">\n      <th></th>\n      <th>start MTU (UTC)</th>\n      <th>end MTU (UTC)</th>\n      <th>Day-ahead Price [EUR/MWh] BZN|NO1</th>\n      <th>Day-ahead Price [EUR/MWh] BZN|NO2</th>\n      <th>Day-ahead Price [EUR/MWh] BZN|NO3</th>\n      <th>Day-ahead Price [EUR/MWh] BZN|NO5</th>\n      <th>Day-ahead Price [EUR/MWh] BZN|SE3</th>\n      <th>Actual Total Load [MW] - BZN|NO1</th>\n      <th>Actual Total Load [MW] - BZN|NO2</th>\n      <th>Actual Total Load [MW] - BZN|NO3</th>\n      <th>...</th>\n      <th>CBF BZN|NO1 &gt; BZN|NO3 [MW]</th>\n      <th>CBF BZN|NO5 &gt; BZN|NO1 [MW]</th>\n      <th>CBF BZN|NO1 &gt; BZN|NO5 [MW]</th>\n      <th>CBF BZN|SE3 &gt; BZN|NO1 [MW]</th>\n      <th>CBF BZN|NO1 &gt; BZN|SE3 [MW]</th>\n      <th>Stored Energy Value Water Reservoirs and Hydro Storage Plants [MWh] - BZN|NO1</th>\n      <th>Stored Energy Value Water Reservoirs and Hydro Storage Plants [MWh] - BZN|NO2</th>\n      <th>Stored Energy Value Water Reservoirs and Hydro Storage Plants [MWh] - BZN|NO3</th>\n      <th>Stored Energy Value Water Reservoirs and Hydro Storage Plants [MWh] - BZN|NO5</th>\n      <th>Stored Energy Value Water Reservoirs and Hydro Storage Plants [MWh] - BZN|SE3</th>\n    </tr>\n  </thead>\n  <tbody>\n    <tr>\n      <th>0</th>\n      <td>2020-01-01 00:00:00</td>\n      <td>2020-01-01 01:00:00</td>\n      <td>31.77</td>\n      <td>31.77</td>\n      <td>28.45</td>\n      <td>31.77</td>\n      <td>28.45</td>\n      <td>4333.0</td>\n      <td>4139.0</td>\n      <td>3016.0</td>\n      <td>...</td>\n      <td>0.0</td>\n      <td>1449.0</td>\n      <td>0.0</td>\n      <td>391</td>\n      <td>0</td>\n      <td>4012000.0</td>\n      <td>24273000.0</td>\n      <td>5588000.0</td>\n      <td>11211000.0</td>\n      <td>2220000.0</td>\n    </tr>\n    <tr>\n      <th>1</th>\n      <td>2020-01-01 01:00:00</td>\n      <td>2020-01-01 02:00:00</td>\n      <td>31.57</td>\n      <td>31.57</td>\n      <td>27.90</td>\n      <td>31.57</td>\n      <td>27.90</td>\n      <td>4250.0</td>\n      <td>4114.0</td>\n      <td>2945.0</td>\n      <td>...</td>\n      <td>0.0</td>\n      <td>1283.0</td>\n      <td>0.0</td>\n      <td>348</td>\n      <td>0</td>\n      <td>4012000.0</td>\n      <td>24273000.0</td>\n      <td>5588000.0</td>\n      <td>11211000.0</td>\n      <td>2220000.0</td>\n    </tr>\n    <tr>\n      <th>2</th>\n      <td>2020-01-01 02:00:00</td>\n      <td>2020-01-01 03:00:00</td>\n      <td>31.28</td>\n      <td>31.28</td>\n      <td>27.52</td>\n      <td>31.28</td>\n      <td>27.52</td>\n      <td>4167.0</td>\n      <td>4030.0</td>\n      <td>3032.0</td>\n      <td>...</td>\n      <td>6.0</td>\n      <td>962.0</td>\n      <td>0.0</td>\n      <td>500</td>\n      <td>0</td>\n      <td>4012000.0</td>\n      <td>24273000.0</td>\n      <td>5588000.0</td>\n      <td>11211000.0</td>\n      <td>2220000.0</td>\n    </tr>\n    <tr>\n      <th>3</th>\n      <td>2020-01-01 03:00:00</td>\n      <td>2020-01-01 04:00:00</td>\n      <td>30.72</td>\n      <td>30.72</td>\n      <td>27.54</td>\n      <td>30.72</td>\n      <td>27.54</td>\n      <td>4145.0</td>\n      <td>4032.0</td>\n      <td>2988.0</td>\n      <td>...</td>\n      <td>6.0</td>\n      <td>767.0</td>\n      <td>0.0</td>\n      <td>610</td>\n      <td>0</td>\n      <td>4012000.0</td>\n      <td>24273000.0</td>\n      <td>5588000.0</td>\n      <td>11211000.0</td>\n      <td>2220000.0</td>\n    </tr>\n    <tr>\n      <th>4</th>\n      <td>2020-01-01 04:00:00</td>\n      <td>2020-01-01 05:00:00</td>\n      <td>30.27</td>\n      <td>30.27</td>\n      <td>26.55</td>\n      <td>30.27</td>\n      <td>26.55</td>\n      <td>4222.0</td>\n      <td>4032.0</td>\n      <td>2848.0</td>\n      <td>...</td>\n      <td>22.0</td>\n      <td>642.0</td>\n      <td>0.0</td>\n      <td>909</td>\n      <td>0</td>\n      <td>4012000.0</td>\n      <td>24273000.0</td>\n      <td>5588000.0</td>\n      <td>11211000.0</td>\n      <td>2220000.0</td>\n    </tr>\n  </tbody>\n</table>\n<p>5 rows × 58 columns</p>\n</div>"
     },
     "execution_count": 101,
     "metadata": {},
     "output_type": "execute_result"
    }
   ],
   "source": [
    "# reordering the columns so start time and end time is first\n",
    "no1 = no1.reindex(columns=no1_columns)\n",
    "\n",
    "# printing out 5 first rows of dataframe to check if the order has been updated correctly\n",
    "no1.head()"
   ]
  },
  {
   "cell_type": "code",
   "execution_count": 102,
   "id": "c92fed68",
   "metadata": {},
   "outputs": [
    {
     "name": "stdout",
     "output_type": "stream",
     "text": [
      "Index(['start MTU (UTC)', 'end MTU (UTC)', 'Day-ahead Price [EUR/MWh] BZN|NO1',\n",
      "       'Day-ahead Price [EUR/MWh] BZN|NO2',\n",
      "       'Day-ahead Price [EUR/MWh] BZN|NO3',\n",
      "       'Day-ahead Price [EUR/MWh] BZN|NO5',\n",
      "       'Day-ahead Price [EUR/MWh] BZN|SE3', 'Actual Total Load [MW] - BZN|NO1',\n",
      "       'Actual Total Load [MW] - BZN|NO2', 'Actual Total Load [MW] - BZN|NO3',\n",
      "       'Actual Total Load [MW] - BZN|NO5', 'Actual Total Load [MW] - BZN|SE3',\n",
      "       'Fossil Gas - BZN|NO1', 'Hydro Run-of-river and poundage - BZN|NO1',\n",
      "       'Hydro Water Reservoir - BZN|NO1', 'Other - BZN|NO1', 'Waste - BZN|NO1',\n",
      "       'Wind Onshore - BZN|NO1', 'Fossil Gas - BZN|NO2',\n",
      "       'Hydro Pumped Storage Aggregated- BZN|NO2',\n",
      "       'Hydro Run-of-river and poundage - BZN|NO2',\n",
      "       'Hydro Water Reservoir - BZN|NO2', 'Other - BZN|NO2', 'Waste - BZN|NO2',\n",
      "       'Wind Onshore - BZN|NO2', 'Fossil Gas - BZN|NO3',\n",
      "       'Hydro Pumped Storage Aggregated- BZN|NO3',\n",
      "       'Hydro Run-of-river and poundage - BZN|NO3',\n",
      "       'Hydro Water Reservoir - BZN|NO3', 'Other - BZN|NO3',\n",
      "       'Other renewable - BZN|NO3', 'Waste - BZN|NO3',\n",
      "       'Wind Onshore - BZN|NO3', 'Fossil Gas - BZN|NO5',\n",
      "       'Hydro Pumped Storage Aggregated- BZN|NO5',\n",
      "       'Hydro Run-of-river and poundage - BZN|NO5',\n",
      "       'Hydro Water Reservoir - BZN|NO5', 'Other - BZN|NO5', 'Waste - BZN|NO5',\n",
      "       'Fossil Gas - BZN|SE3', 'Hydro Water Reservoir - BZN|SE3',\n",
      "       'Nuclear - BZN|SE3', 'Other - BZN|SE3', 'Solar - BZN|SE3',\n",
      "       'Wind Onshore - BZN|SE3', 'CBF BZN|NO2 > BZN|NO1 [MW]',\n",
      "       'CBF BZN|NO1 > BZN|NO2 [MW]', 'CBF BZN|NO3 > BZN|NO1 [MW]',\n",
      "       'CBF BZN|NO1 > BZN|NO3 [MW]', 'CBF BZN|NO5 > BZN|NO1 [MW]',\n",
      "       'CBF BZN|NO1 > BZN|NO5 [MW]', 'CBF BZN|SE3 > BZN|NO1 [MW]',\n",
      "       'CBF BZN|NO1 > BZN|SE3 [MW]',\n",
      "       'Stored Energy Value Water Reservoirs and Hydro Storage Plants [MWh] - BZN|NO1',\n",
      "       'Stored Energy Value Water Reservoirs and Hydro Storage Plants [MWh] - BZN|NO2',\n",
      "       'Stored Energy Value Water Reservoirs and Hydro Storage Plants [MWh] - BZN|NO3',\n",
      "       'Stored Energy Value Water Reservoirs and Hydro Storage Plants [MWh] - BZN|NO5',\n",
      "       'Stored Energy Value Water Reservoirs and Hydro Storage Plants [MWh] - BZN|SE3'],\n",
      "      dtype='object')\n"
     ]
    }
   ],
   "source": [
    "print(no1.columns)"
   ]
  },
  {
   "cell_type": "markdown",
   "id": "5e16ef52",
   "metadata": {},
   "source": [
    "We can see that the datetime columns are at the start of the dataframe and that we still have 57 columns, so the reordering was successful.\n",
    "\n",
    "We will now print out the final order of the features for reference."
   ]
  },
  {
   "cell_type": "code",
   "execution_count": 103,
   "id": "64d29759",
   "metadata": {},
   "outputs": [
    {
     "data": {
      "text/plain": "Index(['start MTU (UTC)', 'end MTU (UTC)', 'Day-ahead Price [EUR/MWh] BZN|NO1',\n       'Day-ahead Price [EUR/MWh] BZN|NO2',\n       'Day-ahead Price [EUR/MWh] BZN|NO3',\n       'Day-ahead Price [EUR/MWh] BZN|NO5',\n       'Day-ahead Price [EUR/MWh] BZN|SE3', 'Actual Total Load [MW] - BZN|NO1',\n       'Actual Total Load [MW] - BZN|NO2', 'Actual Total Load [MW] - BZN|NO3',\n       'Actual Total Load [MW] - BZN|NO5', 'Actual Total Load [MW] - BZN|SE3',\n       'Fossil Gas - BZN|NO1', 'Hydro Run-of-river and poundage - BZN|NO1',\n       'Hydro Water Reservoir - BZN|NO1', 'Other - BZN|NO1', 'Waste - BZN|NO1',\n       'Wind Onshore - BZN|NO1', 'Fossil Gas - BZN|NO2',\n       'Hydro Pumped Storage Aggregated- BZN|NO2',\n       'Hydro Run-of-river and poundage - BZN|NO2',\n       'Hydro Water Reservoir - BZN|NO2', 'Other - BZN|NO2', 'Waste - BZN|NO2',\n       'Wind Onshore - BZN|NO2', 'Fossil Gas - BZN|NO3',\n       'Hydro Pumped Storage Aggregated- BZN|NO3',\n       'Hydro Run-of-river and poundage - BZN|NO3',\n       'Hydro Water Reservoir - BZN|NO3', 'Other - BZN|NO3',\n       'Other renewable - BZN|NO3', 'Waste - BZN|NO3',\n       'Wind Onshore - BZN|NO3', 'Fossil Gas - BZN|NO5',\n       'Hydro Pumped Storage Aggregated- BZN|NO5',\n       'Hydro Run-of-river and poundage - BZN|NO5',\n       'Hydro Water Reservoir - BZN|NO5', 'Other - BZN|NO5', 'Waste - BZN|NO5',\n       'Fossil Gas - BZN|SE3', 'Hydro Water Reservoir - BZN|SE3',\n       'Nuclear - BZN|SE3', 'Other - BZN|SE3', 'Solar - BZN|SE3',\n       'Wind Onshore - BZN|SE3', 'CBF BZN|NO2 > BZN|NO1 [MW]',\n       'CBF BZN|NO1 > BZN|NO2 [MW]', 'CBF BZN|NO3 > BZN|NO1 [MW]',\n       'CBF BZN|NO1 > BZN|NO3 [MW]', 'CBF BZN|NO5 > BZN|NO1 [MW]',\n       'CBF BZN|NO1 > BZN|NO5 [MW]', 'CBF BZN|SE3 > BZN|NO1 [MW]',\n       'CBF BZN|NO1 > BZN|SE3 [MW]',\n       'Stored Energy Value Water Reservoirs and Hydro Storage Plants [MWh] - BZN|NO1',\n       'Stored Energy Value Water Reservoirs and Hydro Storage Plants [MWh] - BZN|NO2',\n       'Stored Energy Value Water Reservoirs and Hydro Storage Plants [MWh] - BZN|NO3',\n       'Stored Energy Value Water Reservoirs and Hydro Storage Plants [MWh] - BZN|NO5',\n       'Stored Energy Value Water Reservoirs and Hydro Storage Plants [MWh] - BZN|SE3'],\n      dtype='object')"
     },
     "execution_count": 103,
     "metadata": {},
     "output_type": "execute_result"
    }
   ],
   "source": [
    "# printing out the final order of the features\n",
    "no1.columns"
   ]
  },
  {
   "cell_type": "markdown",
   "id": "71df550b",
   "metadata": {},
   "source": [
    "#### summary:\n",
    "The Final dataset for zone NO1 and the neighbouring zones has 26304 rows and 57 columns (two of which is datetime for start and end of time period).\n",
    "\n",
    "#### Export to csv\n",
    "Code to export dataframe to csv:"
   ]
  },
  {
   "cell_type": "code",
   "execution_count": 104,
   "id": "68b74314",
   "metadata": {},
   "outputs": [],
   "source": [
    "# uncomment to export no1 dataframe to csv\n",
    "# no1.to_csv('../datasets/no1_aggregated/no1_2020_to_2022_aggregated.csv', index=False)"
   ]
  }
 ],
 "metadata": {
  "kernelspec": {
   "display_name": "Python 3 (ipykernel)",
   "language": "python",
   "name": "python3"
  },
  "language_info": {
   "codemirror_mode": {
    "name": "ipython",
    "version": 3
   },
   "file_extension": ".py",
   "mimetype": "text/x-python",
   "name": "python",
   "nbconvert_exporter": "python",
   "pygments_lexer": "ipython3",
   "version": "3.9.7"
  }
 },
 "nbformat": 4,
 "nbformat_minor": 5
}
