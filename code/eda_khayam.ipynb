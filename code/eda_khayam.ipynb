{
 "cells": [
  {
   "cell_type": "markdown",
   "metadata": {},
   "source": [
    "# Exploratory Data Analysis of \"Bidding Zone NO1 and Neighbouring zones for the year of 2022"
   ]
  },
  {
   "cell_type": "markdown",
   "metadata": {},
   "source": [
    "\n",
    "## About\n",
    "\n",
    "Hourly electricity prices and external factors for the bidding zone NO1 (Norway Østlandet) and neighbouring zones (NO2, NO3, NO5, SE3)\n",
    "\n",
    "---\n",
    "\n",
    "### Source:\n",
    "https://transparency.entsoe.eu/dashboard/show\n",
    "\n",
    "---\n",
    "\n",
    "### List of zones:\n",
    "- **NO1** (Norway, Østlandet)\n",
    "- **NO2** (Norway, Sørlandet)\n",
    "- **NO3** (Norway, Midt-Norge)\n",
    "- **NO5** (Norway, Vestlandet)\n",
    "- **SE3** (Sweden, Midt-Sverige)\n",
    "\n",
    "---\n",
    "\n",
    "## Targets/Attributes Types\n",
    "- **start MTU (UTC)**\n",
    "\tStart datetime for the interval of measured values.\n",
    "- **end MTU (UTC)**\n",
    "\tStart datetime for the interval of measured values.\n",
    "- **Day-ahead Price [EUR/MWh] BZN|NO1**\n",
    "  Spot (day-ahead) market prices in the currency Euro per MWh (megawatt-hour).\n",
    "- **Actual Total Load [MW] - BZN|NO1**\n",
    "  Power consumption in each zone measure in MW(MegaWatt)\n",
    "- **Fossil Gas - BZN|NO**1\n",
    "  Energy production in MW  from Fossil Gas.\n",
    "- **Hydro Run-of-river and poundage - BZN|NO1**\n",
    "  Energy production in MW  from Hydro Run-of-river and poundage.\n",
    "- **Hydro Water Reservoir - BZN|NO1**\n",
    "  Energy production in MW  from Hydro Run-of-river and poundage.\n",
    "- **Other/Other renewable - BZN|NO1**\n",
    "  Energy production in MW from Other.\n",
    "- **Waste - BZN|NO1**\n",
    "   Energy production in MW from Waste.\n",
    "- **Wind Onshore - BZN|NO1**\n",
    "  Energy production in MW  from onshore wind.\n",
    "- **Hydro Pumped Storage Aggregated- BZN|NO2**\n",
    "  Energy production in MW  from Hydro Pumped Storage Aggregated.\n",
    "- **Nuclear - BZN|SE3**\n",
    "  Energy production in MW  from Nuclear.\n",
    "- **Solar - BZN|SE3**\n",
    "  Energy production in MW  from Solar.\n",
    "- **CBF BZN|NO2 > BZN|NO1 [MW]**\n",
    "  Cross-border physical flow in MWH (mega watt hour), zone x is export zone and zone y is import zone.\n",
    "- **Stored Energy Value Water Reservoirs and Hydro Storage Plants [MWh] - BZN|NO1**\n",
    "  Stored Energy Value in Water Reservoirs and Hydro Storage Plants measured in MwH (mega watt hour)\n",
    "\n",
    "---\n",
    "\n",
    "## Broken down into categories\n",
    "\n",
    "| Price Attributes              |\n",
    "|:------------------------------|\n",
    "| Day-ahead Price [EUR/MWh] BZN |NO1/NO2/NO3/NO5/SE3 |\n",
    "\n",
    "| Load Attributes**                              |\n",
    "|:-----------------------------------------------|\n",
    "| Actual Total Load [MW] for NO1/NO2/NO3/NO5/SE3 |\n",
    "\n",
    "| Generation per unit type [MW] Attributes |\n",
    "|:-----------------------------------------|\n",
    "| Fossil Gas                               |\n",
    "| Nuclear                                  |\n",
    "| Waste                                    |\n",
    "| Wind Onshore                             |\n",
    "| Hydro Pumped Storage Aggregated          |\n",
    "| Hydro Run-of-river and poundage          |\n",
    "| Other                                    |\n",
    "\n",
    "| Import and Export Attributes                           |\n",
    "|:-------------------------------------------------------|\n",
    "| Import and export between NO1 and NO2/NO3/NO5/SE3 [MW] |\n",
    "\n",
    "| Water Reservoirs and Hydro Storage Plants' stored energy value [MW] Attributes        |\n",
    "|:--------------------------------------------------------------------------------------|\n",
    "| Stored Energy Value Water Reservoirs and Hydro Storage Plants for NO1/NO2/NO3/NO5/SE3 |\n",
    "\n"
   ]
  },
  {
   "cell_type": "code",
   "execution_count": 1,
   "metadata": {},
   "outputs": [
    {
     "data": {
      "text/plain": "<IPython.core.display.HTML object>",
      "text/html": "<style>table {align:left;display:block} </style>"
     },
     "execution_count": 1,
     "metadata": {},
     "output_type": "execute_result"
    }
   ],
   "source": [
    "# Importing libraries\n",
    "import  numpy as np\n",
    "import pandas as pd\n",
    "\n",
    "\n",
    "# Visualisation\n",
    "import seaborn as sns\n",
    "import matplotlib.pyplot as plt\n",
    "\n",
    "from IPython.core.display import HTML\n",
    "table_css = 'table {align:left;display:block} '\n",
    "HTML('<style>{}</style>'.format(table_css))"
   ]
  },
  {
   "cell_type": "code",
   "execution_count": 2,
   "metadata": {},
   "outputs": [
    {
     "name": "stdout",
     "output_type": "stream",
     "text": [
      "start MTU (UTC)\n",
      "end MTU (UTC)\n",
      "Day-ahead Price [EUR/MWh] BZN|NO1\n",
      "Day-ahead Price [EUR/MWh] BZN|NO2\n",
      "Day-ahead Price [EUR/MWh] BZN|NO3\n",
      "Day-ahead Price [EUR/MWh] BZN|NO5\n",
      "Day-ahead Price [EUR/MWh] BZN|SE3\n",
      "Actual Total Load [MW] - BZN|NO1\n",
      "Actual Total Load [MW] - BZN|NO2\n",
      "Actual Total Load [MW] - BZN|NO3\n",
      "Actual Total Load [MW] - BZN|NO5\n",
      "Actual Total Load [MW] - BZN|SE3\n",
      "Fossil Gas - BZN|NO1\n",
      "Hydro Run-of-river and poundage - BZN|NO1\n",
      "Hydro Water Reservoir - BZN|NO1\n",
      "Other - BZN|NO1\n",
      "Waste - BZN|NO1\n",
      "Wind Onshore - BZN|NO1\n",
      "Fossil Gas - BZN|NO2\n",
      "Hydro Pumped Storage Aggregated- BZN|NO2\n",
      "Hydro Run-of-river and poundage - BZN|NO2\n",
      "Hydro Water Reservoir - BZN|NO2\n",
      "Other - BZN|NO2\n",
      "Waste - BZN|NO2\n",
      "Wind Onshore - BZN|NO2\n",
      "Fossil Gas - BZN|NO3\n",
      "Hydro Pumped Storage Aggregated- BZN|NO3\n",
      "Hydro Run-of-river and poundage - BZN|NO3\n",
      "Hydro Water Reservoir - BZN|NO3\n",
      "Other - BZN|NO3\n",
      "Other renewable - BZN|NO3\n",
      "Waste - BZN|NO3\n",
      "Wind Onshore - BZN|NO3\n",
      "Fossil Gas - BZN|NO5\n",
      "Hydro Pumped Storage Aggregated- BZN|NO5\n",
      "Hydro Run-of-river and poundage - BZN|NO5\n",
      "Hydro Water Reservoir - BZN|NO5\n",
      "Other - BZN|NO5\n",
      "Waste - BZN|NO5\n",
      "Fossil Gas - BZN|SE3\n",
      "Hydro Water Reservoir - BZN|SE3\n",
      "Nuclear - BZN|SE3\n",
      "Other - BZN|SE3\n",
      "Solar - BZN|SE3\n",
      "Wind Onshore - BZN|SE3\n",
      "CBF BZN|NO2 > BZN|NO1 [MW]\n",
      "CBF BZN|NO1 > BZN|NO2 [MW]\n",
      "CBF BZN|NO3 > BZN|NO1 [MW]\n",
      "CBF BZN|NO1 > BZN|NO3 [MW]\n",
      "CBF BZN|NO5 > BZN|NO1 [MW]\n",
      "CBF BZN|NO1 > BZN|NO5 [MW]\n",
      "CBF BZN|SE3 > BZN|NO1 [MW]\n",
      "CBF BZN|NO1 > BZN|SE3 [MW]\n",
      "Stored Energy Value Water Reservoirs and Hydro Storage Plants [MWh] - BZN|NO1\n",
      "Stored Energy Value Water Reservoirs and Hydro Storage Plants [MWh] - BZN|NO2\n",
      "Stored Energy Value Water Reservoirs and Hydro Storage Plants [MWh] - BZN|NO3\n",
      "Stored Energy Value Water Reservoirs and Hydro Storage Plants [MWh] - BZN|NO5\n",
      "Stored Energy Value Water Reservoirs and Hydro Storage Plants [MWh] - BZN|SE3\n"
     ]
    }
   ],
   "source": [
    "import pandas as pd\n",
    "\n",
    "df = pd.read_csv('../datasets/no1_aggregated/no1_2020_to_2022_aggregated.csv')\n",
    "\n",
    "# Printing the name of all columns to output a file\n",
    "def column_names(df):\n",
    "    col_names = []\n",
    "    for col_name in df.columns:\n",
    "        col_names.append(col_name)\n",
    "        print(col_name)\n",
    "    return col_names\n",
    "\n",
    "def write_to_file(filename, text):\n",
    "    with open(filename, 'w') as f:\n",
    "        f.write('\\n'.join(text))\n",
    "\n",
    "col_names = column_names(df)\n",
    "# Uncomment to write column names to files\n",
    "# write_to_file('../datasets/information_files/dataset_column_names.txt', col_names)\n"
   ]
  },
  {
   "cell_type": "code",
   "execution_count": 3,
   "outputs": [
    {
     "data": {
      "text/plain": "       start MTU (UTC)        end MTU (UTC)  \\\n0  2020-01-01 00:00:00  2020-01-01 01:00:00   \n1  2020-01-01 01:00:00  2020-01-01 02:00:00   \n2  2020-01-01 02:00:00  2020-01-01 03:00:00   \n\n   Day-ahead Price [EUR/MWh] BZN|NO1  Day-ahead Price [EUR/MWh] BZN|NO2  \\\n0                              31.77                              31.77   \n1                              31.57                              31.57   \n2                              31.28                              31.28   \n\n   Day-ahead Price [EUR/MWh] BZN|NO3  Day-ahead Price [EUR/MWh] BZN|NO5  \\\n0                              28.45                              31.77   \n1                              27.90                              31.57   \n2                              27.52                              31.28   \n\n   Day-ahead Price [EUR/MWh] BZN|SE3  Actual Total Load [MW] - BZN|NO1  \\\n0                              28.45                            4333.0   \n1                              27.90                            4250.0   \n2                              27.52                            4167.0   \n\n   Actual Total Load [MW] - BZN|NO2  Actual Total Load [MW] - BZN|NO3  ...  \\\n0                            4139.0                            3016.0  ...   \n1                            4114.0                            2945.0  ...   \n2                            4030.0                            3032.0  ...   \n\n   CBF BZN|NO1 > BZN|NO3 [MW]  CBF BZN|NO5 > BZN|NO1 [MW]  \\\n0                         0.0                      1449.0   \n1                         0.0                      1283.0   \n2                         6.0                       962.0   \n\n   CBF BZN|NO1 > BZN|NO5 [MW]  CBF BZN|SE3 > BZN|NO1 [MW]  \\\n0                         0.0                         391   \n1                         0.0                         348   \n2                         0.0                         500   \n\n   CBF BZN|NO1 > BZN|SE3 [MW]  \\\n0                           0   \n1                           0   \n2                           0   \n\n   Stored Energy Value Water Reservoirs and Hydro Storage Plants [MWh] - BZN|NO1  \\\n0                                          4012000.0                               \n1                                          4012000.0                               \n2                                          4012000.0                               \n\n   Stored Energy Value Water Reservoirs and Hydro Storage Plants [MWh] - BZN|NO2  \\\n0                                         24273000.0                               \n1                                         24273000.0                               \n2                                         24273000.0                               \n\n   Stored Energy Value Water Reservoirs and Hydro Storage Plants [MWh] - BZN|NO3  \\\n0                                          5588000.0                               \n1                                          5588000.0                               \n2                                          5588000.0                               \n\n   Stored Energy Value Water Reservoirs and Hydro Storage Plants [MWh] - BZN|NO5  \\\n0                                         11211000.0                               \n1                                         11211000.0                               \n2                                         11211000.0                               \n\n   Stored Energy Value Water Reservoirs and Hydro Storage Plants [MWh] - BZN|SE3  \n0                                          2220000.0                              \n1                                          2220000.0                              \n2                                          2220000.0                              \n\n[3 rows x 58 columns]",
      "text/html": "<div>\n<style scoped>\n    .dataframe tbody tr th:only-of-type {\n        vertical-align: middle;\n    }\n\n    .dataframe tbody tr th {\n        vertical-align: top;\n    }\n\n    .dataframe thead th {\n        text-align: right;\n    }\n</style>\n<table border=\"1\" class=\"dataframe\">\n  <thead>\n    <tr style=\"text-align: right;\">\n      <th></th>\n      <th>start MTU (UTC)</th>\n      <th>end MTU (UTC)</th>\n      <th>Day-ahead Price [EUR/MWh] BZN|NO1</th>\n      <th>Day-ahead Price [EUR/MWh] BZN|NO2</th>\n      <th>Day-ahead Price [EUR/MWh] BZN|NO3</th>\n      <th>Day-ahead Price [EUR/MWh] BZN|NO5</th>\n      <th>Day-ahead Price [EUR/MWh] BZN|SE3</th>\n      <th>Actual Total Load [MW] - BZN|NO1</th>\n      <th>Actual Total Load [MW] - BZN|NO2</th>\n      <th>Actual Total Load [MW] - BZN|NO3</th>\n      <th>...</th>\n      <th>CBF BZN|NO1 &gt; BZN|NO3 [MW]</th>\n      <th>CBF BZN|NO5 &gt; BZN|NO1 [MW]</th>\n      <th>CBF BZN|NO1 &gt; BZN|NO5 [MW]</th>\n      <th>CBF BZN|SE3 &gt; BZN|NO1 [MW]</th>\n      <th>CBF BZN|NO1 &gt; BZN|SE3 [MW]</th>\n      <th>Stored Energy Value Water Reservoirs and Hydro Storage Plants [MWh] - BZN|NO1</th>\n      <th>Stored Energy Value Water Reservoirs and Hydro Storage Plants [MWh] - BZN|NO2</th>\n      <th>Stored Energy Value Water Reservoirs and Hydro Storage Plants [MWh] - BZN|NO3</th>\n      <th>Stored Energy Value Water Reservoirs and Hydro Storage Plants [MWh] - BZN|NO5</th>\n      <th>Stored Energy Value Water Reservoirs and Hydro Storage Plants [MWh] - BZN|SE3</th>\n    </tr>\n  </thead>\n  <tbody>\n    <tr>\n      <th>0</th>\n      <td>2020-01-01 00:00:00</td>\n      <td>2020-01-01 01:00:00</td>\n      <td>31.77</td>\n      <td>31.77</td>\n      <td>28.45</td>\n      <td>31.77</td>\n      <td>28.45</td>\n      <td>4333.0</td>\n      <td>4139.0</td>\n      <td>3016.0</td>\n      <td>...</td>\n      <td>0.0</td>\n      <td>1449.0</td>\n      <td>0.0</td>\n      <td>391</td>\n      <td>0</td>\n      <td>4012000.0</td>\n      <td>24273000.0</td>\n      <td>5588000.0</td>\n      <td>11211000.0</td>\n      <td>2220000.0</td>\n    </tr>\n    <tr>\n      <th>1</th>\n      <td>2020-01-01 01:00:00</td>\n      <td>2020-01-01 02:00:00</td>\n      <td>31.57</td>\n      <td>31.57</td>\n      <td>27.90</td>\n      <td>31.57</td>\n      <td>27.90</td>\n      <td>4250.0</td>\n      <td>4114.0</td>\n      <td>2945.0</td>\n      <td>...</td>\n      <td>0.0</td>\n      <td>1283.0</td>\n      <td>0.0</td>\n      <td>348</td>\n      <td>0</td>\n      <td>4012000.0</td>\n      <td>24273000.0</td>\n      <td>5588000.0</td>\n      <td>11211000.0</td>\n      <td>2220000.0</td>\n    </tr>\n    <tr>\n      <th>2</th>\n      <td>2020-01-01 02:00:00</td>\n      <td>2020-01-01 03:00:00</td>\n      <td>31.28</td>\n      <td>31.28</td>\n      <td>27.52</td>\n      <td>31.28</td>\n      <td>27.52</td>\n      <td>4167.0</td>\n      <td>4030.0</td>\n      <td>3032.0</td>\n      <td>...</td>\n      <td>6.0</td>\n      <td>962.0</td>\n      <td>0.0</td>\n      <td>500</td>\n      <td>0</td>\n      <td>4012000.0</td>\n      <td>24273000.0</td>\n      <td>5588000.0</td>\n      <td>11211000.0</td>\n      <td>2220000.0</td>\n    </tr>\n  </tbody>\n</table>\n<p>3 rows × 58 columns</p>\n</div>"
     },
     "execution_count": 3,
     "metadata": {},
     "output_type": "execute_result"
    }
   ],
   "source": [
    "df.head(3)"
   ],
   "metadata": {
    "collapsed": false
   }
  },
  {
   "cell_type": "code",
   "execution_count": 4,
   "metadata": {},
   "outputs": [
    {
     "data": {
      "text/plain": "           start MTU (UTC)        end MTU (UTC)  \\\n26301  2022-12-31 21:00:00  2022-12-31 22:00:00   \n26302  2022-12-31 22:00:00  2022-12-31 23:00:00   \n26303  2022-12-31 23:00:00  2023-01-01 00:00:00   \n\n       Day-ahead Price [EUR/MWh] BZN|NO1  Day-ahead Price [EUR/MWh] BZN|NO2  \\\n26301                             120.00                             120.00   \n26302                             119.98                             119.98   \n26303                             119.32                             119.32   \n\n       Day-ahead Price [EUR/MWh] BZN|NO3  Day-ahead Price [EUR/MWh] BZN|NO5  \\\n26301                              23.75                             120.00   \n26302                              23.56                             119.98   \n26303                              23.35                             119.32   \n\n       Day-ahead Price [EUR/MWh] BZN|SE3  Actual Total Load [MW] - BZN|NO1  \\\n26301                               9.94                            4453.0   \n26302                               4.84                            4389.0   \n26303                               2.01                            4444.0   \n\n       Actual Total Load [MW] - BZN|NO2  Actual Total Load [MW] - BZN|NO3  \\\n26301                            4294.0                            3479.0   \n26302                            4282.0                            3415.0   \n26303                            4182.0                            3346.0   \n\n       ...  CBF BZN|NO1 > BZN|NO3 [MW]  CBF BZN|NO5 > BZN|NO1 [MW]  \\\n26301  ...                         0.0                        41.0   \n26302  ...                         0.0                         0.0   \n26303  ...                         0.0                         0.0   \n\n       CBF BZN|NO1 > BZN|NO5 [MW]  CBF BZN|SE3 > BZN|NO1 [MW]  \\\n26301                         0.0                        2007   \n26302                        29.0                        2119   \n26303                        12.0                        1612   \n\n       CBF BZN|NO1 > BZN|SE3 [MW]  \\\n26301                           0   \n26302                           0   \n26303                           0   \n\n       Stored Energy Value Water Reservoirs and Hydro Storage Plants [MWh] - BZN|NO1  \\\n26301                                          3915448.0                               \n26302                                          3915448.0                               \n26303                                          3915448.0                               \n\n       Stored Energy Value Water Reservoirs and Hydro Storage Plants [MWh] - BZN|NO2  \\\n26301                                         21384042.0                               \n26302                                         21384042.0                               \n26303                                         21384042.0                               \n\n       Stored Energy Value Water Reservoirs and Hydro Storage Plants [MWh] - BZN|NO3  \\\n26301                                          5038234.0                               \n26302                                          5038234.0                               \n26303                                          5038234.0                               \n\n       Stored Energy Value Water Reservoirs and Hydro Storage Plants [MWh] - BZN|NO5  \\\n26301                                         12014136.0                               \n26302                                         12014136.0                               \n26303                                         12014136.0                               \n\n       Stored Energy Value Water Reservoirs and Hydro Storage Plants [MWh] - BZN|SE3  \n26301                                          1579000.0                              \n26302                                          1579000.0                              \n26303                                          1579000.0                              \n\n[3 rows x 58 columns]",
      "text/html": "<div>\n<style scoped>\n    .dataframe tbody tr th:only-of-type {\n        vertical-align: middle;\n    }\n\n    .dataframe tbody tr th {\n        vertical-align: top;\n    }\n\n    .dataframe thead th {\n        text-align: right;\n    }\n</style>\n<table border=\"1\" class=\"dataframe\">\n  <thead>\n    <tr style=\"text-align: right;\">\n      <th></th>\n      <th>start MTU (UTC)</th>\n      <th>end MTU (UTC)</th>\n      <th>Day-ahead Price [EUR/MWh] BZN|NO1</th>\n      <th>Day-ahead Price [EUR/MWh] BZN|NO2</th>\n      <th>Day-ahead Price [EUR/MWh] BZN|NO3</th>\n      <th>Day-ahead Price [EUR/MWh] BZN|NO5</th>\n      <th>Day-ahead Price [EUR/MWh] BZN|SE3</th>\n      <th>Actual Total Load [MW] - BZN|NO1</th>\n      <th>Actual Total Load [MW] - BZN|NO2</th>\n      <th>Actual Total Load [MW] - BZN|NO3</th>\n      <th>...</th>\n      <th>CBF BZN|NO1 &gt; BZN|NO3 [MW]</th>\n      <th>CBF BZN|NO5 &gt; BZN|NO1 [MW]</th>\n      <th>CBF BZN|NO1 &gt; BZN|NO5 [MW]</th>\n      <th>CBF BZN|SE3 &gt; BZN|NO1 [MW]</th>\n      <th>CBF BZN|NO1 &gt; BZN|SE3 [MW]</th>\n      <th>Stored Energy Value Water Reservoirs and Hydro Storage Plants [MWh] - BZN|NO1</th>\n      <th>Stored Energy Value Water Reservoirs and Hydro Storage Plants [MWh] - BZN|NO2</th>\n      <th>Stored Energy Value Water Reservoirs and Hydro Storage Plants [MWh] - BZN|NO3</th>\n      <th>Stored Energy Value Water Reservoirs and Hydro Storage Plants [MWh] - BZN|NO5</th>\n      <th>Stored Energy Value Water Reservoirs and Hydro Storage Plants [MWh] - BZN|SE3</th>\n    </tr>\n  </thead>\n  <tbody>\n    <tr>\n      <th>26301</th>\n      <td>2022-12-31 21:00:00</td>\n      <td>2022-12-31 22:00:00</td>\n      <td>120.00</td>\n      <td>120.00</td>\n      <td>23.75</td>\n      <td>120.00</td>\n      <td>9.94</td>\n      <td>4453.0</td>\n      <td>4294.0</td>\n      <td>3479.0</td>\n      <td>...</td>\n      <td>0.0</td>\n      <td>41.0</td>\n      <td>0.0</td>\n      <td>2007</td>\n      <td>0</td>\n      <td>3915448.0</td>\n      <td>21384042.0</td>\n      <td>5038234.0</td>\n      <td>12014136.0</td>\n      <td>1579000.0</td>\n    </tr>\n    <tr>\n      <th>26302</th>\n      <td>2022-12-31 22:00:00</td>\n      <td>2022-12-31 23:00:00</td>\n      <td>119.98</td>\n      <td>119.98</td>\n      <td>23.56</td>\n      <td>119.98</td>\n      <td>4.84</td>\n      <td>4389.0</td>\n      <td>4282.0</td>\n      <td>3415.0</td>\n      <td>...</td>\n      <td>0.0</td>\n      <td>0.0</td>\n      <td>29.0</td>\n      <td>2119</td>\n      <td>0</td>\n      <td>3915448.0</td>\n      <td>21384042.0</td>\n      <td>5038234.0</td>\n      <td>12014136.0</td>\n      <td>1579000.0</td>\n    </tr>\n    <tr>\n      <th>26303</th>\n      <td>2022-12-31 23:00:00</td>\n      <td>2023-01-01 00:00:00</td>\n      <td>119.32</td>\n      <td>119.32</td>\n      <td>23.35</td>\n      <td>119.32</td>\n      <td>2.01</td>\n      <td>4444.0</td>\n      <td>4182.0</td>\n      <td>3346.0</td>\n      <td>...</td>\n      <td>0.0</td>\n      <td>0.0</td>\n      <td>12.0</td>\n      <td>1612</td>\n      <td>0</td>\n      <td>3915448.0</td>\n      <td>21384042.0</td>\n      <td>5038234.0</td>\n      <td>12014136.0</td>\n      <td>1579000.0</td>\n    </tr>\n  </tbody>\n</table>\n<p>3 rows × 58 columns</p>\n</div>"
     },
     "execution_count": 4,
     "metadata": {},
     "output_type": "execute_result"
    }
   ],
   "source": [
    "df.tail(3)"
   ]
  },
  {
   "cell_type": "code",
   "execution_count": 5,
   "outputs": [],
   "source": [
    "df_correlation = df.corr()"
   ],
   "metadata": {
    "collapsed": false
   }
  },
  {
   "cell_type": "code",
   "execution_count": 6,
   "outputs": [],
   "source": [
    "# def get_corr_desc(df):\n",
    "#     correlation = df.corr()\n",
    "#     df_corr = correlation.abs().unstack()\n",
    "#     df_corr.sort_values(ascending= False)\n",
    "#     return df_corr\n",
    "#\n",
    "#\n",
    "# print(df_correlation.info)"
   ],
   "metadata": {
    "collapsed": false
   }
  },
  {
   "cell_type": "code",
   "execution_count": 7,
   "outputs": [
    {
     "data": {
      "text/plain": "                                level_0  \\\n0     Day-ahead Price [EUR/MWh] BZN|NO1   \n1                  Fossil Gas - BZN|NO1   \n2     Day-ahead Price [EUR/MWh] BZN|NO2   \n3     Day-ahead Price [EUR/MWh] BZN|NO1   \n4      Actual Total Load [MW] - BZN|NO1   \n...                                 ...   \n1535   Actual Total Load [MW] - BZN|NO1   \n1536             Wind Onshore - BZN|SE3   \n1537                    Other - BZN|NO1   \n1538                    Waste - BZN|NO2   \n1539  Day-ahead Price [EUR/MWh] BZN|SE3   \n\n                                                level_1         0  \n0                     Day-ahead Price [EUR/MWh] BZN|NO5  0.999989  \n1                                  Fossil Gas - BZN|NO3  0.999182  \n2                     Day-ahead Price [EUR/MWh] BZN|NO5  0.995979  \n3                     Day-ahead Price [EUR/MWh] BZN|NO2  0.995918  \n4                      Actual Total Load [MW] - BZN|NO2  0.994565  \n...                                                 ...       ...  \n1535                                    Other - BZN|SE3  0.001610  \n1536                         CBF BZN|NO2 > BZN|NO1 [MW]  0.001073  \n1537                         CBF BZN|NO2 > BZN|NO1 [MW]  0.001056  \n1538                         CBF BZN|NO2 > BZN|NO1 [MW]  0.000969  \n1539  Stored Energy Value Water Reservoirs and Hydro...  0.000639  \n\n[1540 rows x 3 columns]",
      "text/html": "<div>\n<style scoped>\n    .dataframe tbody tr th:only-of-type {\n        vertical-align: middle;\n    }\n\n    .dataframe tbody tr th {\n        vertical-align: top;\n    }\n\n    .dataframe thead th {\n        text-align: right;\n    }\n</style>\n<table border=\"1\" class=\"dataframe\">\n  <thead>\n    <tr style=\"text-align: right;\">\n      <th></th>\n      <th>level_0</th>\n      <th>level_1</th>\n      <th>0</th>\n    </tr>\n  </thead>\n  <tbody>\n    <tr>\n      <th>0</th>\n      <td>Day-ahead Price [EUR/MWh] BZN|NO1</td>\n      <td>Day-ahead Price [EUR/MWh] BZN|NO5</td>\n      <td>0.999989</td>\n    </tr>\n    <tr>\n      <th>1</th>\n      <td>Fossil Gas - BZN|NO1</td>\n      <td>Fossil Gas - BZN|NO3</td>\n      <td>0.999182</td>\n    </tr>\n    <tr>\n      <th>2</th>\n      <td>Day-ahead Price [EUR/MWh] BZN|NO2</td>\n      <td>Day-ahead Price [EUR/MWh] BZN|NO5</td>\n      <td>0.995979</td>\n    </tr>\n    <tr>\n      <th>3</th>\n      <td>Day-ahead Price [EUR/MWh] BZN|NO1</td>\n      <td>Day-ahead Price [EUR/MWh] BZN|NO2</td>\n      <td>0.995918</td>\n    </tr>\n    <tr>\n      <th>4</th>\n      <td>Actual Total Load [MW] - BZN|NO1</td>\n      <td>Actual Total Load [MW] - BZN|NO2</td>\n      <td>0.994565</td>\n    </tr>\n    <tr>\n      <th>...</th>\n      <td>...</td>\n      <td>...</td>\n      <td>...</td>\n    </tr>\n    <tr>\n      <th>1535</th>\n      <td>Actual Total Load [MW] - BZN|NO1</td>\n      <td>Other - BZN|SE3</td>\n      <td>0.001610</td>\n    </tr>\n    <tr>\n      <th>1536</th>\n      <td>Wind Onshore - BZN|SE3</td>\n      <td>CBF BZN|NO2 &gt; BZN|NO1 [MW]</td>\n      <td>0.001073</td>\n    </tr>\n    <tr>\n      <th>1537</th>\n      <td>Other - BZN|NO1</td>\n      <td>CBF BZN|NO2 &gt; BZN|NO1 [MW]</td>\n      <td>0.001056</td>\n    </tr>\n    <tr>\n      <th>1538</th>\n      <td>Waste - BZN|NO2</td>\n      <td>CBF BZN|NO2 &gt; BZN|NO1 [MW]</td>\n      <td>0.000969</td>\n    </tr>\n    <tr>\n      <th>1539</th>\n      <td>Day-ahead Price [EUR/MWh] BZN|SE3</td>\n      <td>Stored Energy Value Water Reservoirs and Hydro...</td>\n      <td>0.000639</td>\n    </tr>\n  </tbody>\n</table>\n<p>1540 rows × 3 columns</p>\n</div>"
     },
     "execution_count": 7,
     "metadata": {},
     "output_type": "execute_result"
    }
   ],
   "source": [
    "\n",
    "def get_corr_desc_filtered(df):\n",
    "    correlation = df.corr().abs()\n",
    "    # Filtering the upper triangle of the matrix to remove self-correlations\n",
    "    df_corr = (correlation.where(np.triu(np.ones(correlation.shape), k=1).astype(bool))\n",
    "               .stack()\n",
    "               .sort_values(ascending=False))\n",
    "    df_corr = pd.DataFrame(df_corr).reset_index()\n",
    "    df_corr.iloc[:,0] = df_corr.iloc[:,0].ffill()\n",
    "    return df_corr\n",
    "\n",
    "df_correlation = get_corr_desc_filtered(df_correlation)\n",
    "df_correlation"
   ],
   "metadata": {
    "collapsed": false
   }
  },
  {
   "cell_type": "code",
   "execution_count": 8,
   "outputs": [
    {
     "data": {
      "text/plain": "                            Attribute_X  \\\n0     Day-ahead Price [EUR/MWh] BZN|NO1   \n1                  Fossil Gas - BZN|NO1   \n2     Day-ahead Price [EUR/MWh] BZN|NO2   \n3     Day-ahead Price [EUR/MWh] BZN|NO1   \n4      Actual Total Load [MW] - BZN|NO1   \n...                                 ...   \n1535   Actual Total Load [MW] - BZN|NO1   \n1536             Wind Onshore - BZN|SE3   \n1537                    Other - BZN|NO1   \n1538                    Waste - BZN|NO2   \n1539  Day-ahead Price [EUR/MWh] BZN|SE3   \n\n                                            Attribute_Y  Correlation level  \n0                     Day-ahead Price [EUR/MWh] BZN|NO5           0.999989  \n1                                  Fossil Gas - BZN|NO3           0.999182  \n2                     Day-ahead Price [EUR/MWh] BZN|NO5           0.995979  \n3                     Day-ahead Price [EUR/MWh] BZN|NO2           0.995918  \n4                      Actual Total Load [MW] - BZN|NO2           0.994565  \n...                                                 ...                ...  \n1535                                    Other - BZN|SE3           0.001610  \n1536                         CBF BZN|NO2 > BZN|NO1 [MW]           0.001073  \n1537                         CBF BZN|NO2 > BZN|NO1 [MW]           0.001056  \n1538                         CBF BZN|NO2 > BZN|NO1 [MW]           0.000969  \n1539  Stored Energy Value Water Reservoirs and Hydro...           0.000639  \n\n[1540 rows x 3 columns]",
      "text/html": "<div>\n<style scoped>\n    .dataframe tbody tr th:only-of-type {\n        vertical-align: middle;\n    }\n\n    .dataframe tbody tr th {\n        vertical-align: top;\n    }\n\n    .dataframe thead th {\n        text-align: right;\n    }\n</style>\n<table border=\"1\" class=\"dataframe\">\n  <thead>\n    <tr style=\"text-align: right;\">\n      <th></th>\n      <th>Attribute_X</th>\n      <th>Attribute_Y</th>\n      <th>Correlation level</th>\n    </tr>\n  </thead>\n  <tbody>\n    <tr>\n      <th>0</th>\n      <td>Day-ahead Price [EUR/MWh] BZN|NO1</td>\n      <td>Day-ahead Price [EUR/MWh] BZN|NO5</td>\n      <td>0.999989</td>\n    </tr>\n    <tr>\n      <th>1</th>\n      <td>Fossil Gas - BZN|NO1</td>\n      <td>Fossil Gas - BZN|NO3</td>\n      <td>0.999182</td>\n    </tr>\n    <tr>\n      <th>2</th>\n      <td>Day-ahead Price [EUR/MWh] BZN|NO2</td>\n      <td>Day-ahead Price [EUR/MWh] BZN|NO5</td>\n      <td>0.995979</td>\n    </tr>\n    <tr>\n      <th>3</th>\n      <td>Day-ahead Price [EUR/MWh] BZN|NO1</td>\n      <td>Day-ahead Price [EUR/MWh] BZN|NO2</td>\n      <td>0.995918</td>\n    </tr>\n    <tr>\n      <th>4</th>\n      <td>Actual Total Load [MW] - BZN|NO1</td>\n      <td>Actual Total Load [MW] - BZN|NO2</td>\n      <td>0.994565</td>\n    </tr>\n    <tr>\n      <th>...</th>\n      <td>...</td>\n      <td>...</td>\n      <td>...</td>\n    </tr>\n    <tr>\n      <th>1535</th>\n      <td>Actual Total Load [MW] - BZN|NO1</td>\n      <td>Other - BZN|SE3</td>\n      <td>0.001610</td>\n    </tr>\n    <tr>\n      <th>1536</th>\n      <td>Wind Onshore - BZN|SE3</td>\n      <td>CBF BZN|NO2 &gt; BZN|NO1 [MW]</td>\n      <td>0.001073</td>\n    </tr>\n    <tr>\n      <th>1537</th>\n      <td>Other - BZN|NO1</td>\n      <td>CBF BZN|NO2 &gt; BZN|NO1 [MW]</td>\n      <td>0.001056</td>\n    </tr>\n    <tr>\n      <th>1538</th>\n      <td>Waste - BZN|NO2</td>\n      <td>CBF BZN|NO2 &gt; BZN|NO1 [MW]</td>\n      <td>0.000969</td>\n    </tr>\n    <tr>\n      <th>1539</th>\n      <td>Day-ahead Price [EUR/MWh] BZN|SE3</td>\n      <td>Stored Energy Value Water Reservoirs and Hydro...</td>\n      <td>0.000639</td>\n    </tr>\n  </tbody>\n</table>\n<p>1540 rows × 3 columns</p>\n</div>"
     },
     "execution_count": 8,
     "metadata": {},
     "output_type": "execute_result"
    }
   ],
   "source": [
    "df_correlation = df_correlation.rename(columns={'level_0': 'Attribute_X', 'level_1': 'Attribute_Y', 0: 'Correlation level'})\n",
    "df_correlation"
   ],
   "metadata": {
    "collapsed": false
   }
  },
  {
   "cell_type": "code",
   "execution_count": 9,
   "outputs": [],
   "source": [
    "df_correlated = pd.DataFrame(data=df_correlation)"
   ],
   "metadata": {
    "collapsed": false
   }
  },
  {
   "cell_type": "code",
   "execution_count": 10,
   "outputs": [
    {
     "data": {
      "text/plain": "                            Attribute_X  \\\n0     Day-ahead Price [EUR/MWh] BZN|NO1   \n1                  Fossil Gas - BZN|NO1   \n2     Day-ahead Price [EUR/MWh] BZN|NO2   \n3     Day-ahead Price [EUR/MWh] BZN|NO1   \n4      Actual Total Load [MW] - BZN|NO1   \n...                                 ...   \n1535   Actual Total Load [MW] - BZN|NO1   \n1536             Wind Onshore - BZN|SE3   \n1537                    Other - BZN|NO1   \n1538                    Waste - BZN|NO2   \n1539  Day-ahead Price [EUR/MWh] BZN|SE3   \n\n                                            Attribute_Y  Correlation level  \n0                     Day-ahead Price [EUR/MWh] BZN|NO5           0.999989  \n1                                  Fossil Gas - BZN|NO3           0.999182  \n2                     Day-ahead Price [EUR/MWh] BZN|NO5           0.995979  \n3                     Day-ahead Price [EUR/MWh] BZN|NO2           0.995918  \n4                      Actual Total Load [MW] - BZN|NO2           0.994565  \n...                                                 ...                ...  \n1535                                    Other - BZN|SE3           0.001610  \n1536                         CBF BZN|NO2 > BZN|NO1 [MW]           0.001073  \n1537                         CBF BZN|NO2 > BZN|NO1 [MW]           0.001056  \n1538                         CBF BZN|NO2 > BZN|NO1 [MW]           0.000969  \n1539  Stored Energy Value Water Reservoirs and Hydro...           0.000639  \n\n[1540 rows x 3 columns]",
      "text/html": "<div>\n<style scoped>\n    .dataframe tbody tr th:only-of-type {\n        vertical-align: middle;\n    }\n\n    .dataframe tbody tr th {\n        vertical-align: top;\n    }\n\n    .dataframe thead th {\n        text-align: right;\n    }\n</style>\n<table border=\"1\" class=\"dataframe\">\n  <thead>\n    <tr style=\"text-align: right;\">\n      <th></th>\n      <th>Attribute_X</th>\n      <th>Attribute_Y</th>\n      <th>Correlation level</th>\n    </tr>\n  </thead>\n  <tbody>\n    <tr>\n      <th>0</th>\n      <td>Day-ahead Price [EUR/MWh] BZN|NO1</td>\n      <td>Day-ahead Price [EUR/MWh] BZN|NO5</td>\n      <td>0.999989</td>\n    </tr>\n    <tr>\n      <th>1</th>\n      <td>Fossil Gas - BZN|NO1</td>\n      <td>Fossil Gas - BZN|NO3</td>\n      <td>0.999182</td>\n    </tr>\n    <tr>\n      <th>2</th>\n      <td>Day-ahead Price [EUR/MWh] BZN|NO2</td>\n      <td>Day-ahead Price [EUR/MWh] BZN|NO5</td>\n      <td>0.995979</td>\n    </tr>\n    <tr>\n      <th>3</th>\n      <td>Day-ahead Price [EUR/MWh] BZN|NO1</td>\n      <td>Day-ahead Price [EUR/MWh] BZN|NO2</td>\n      <td>0.995918</td>\n    </tr>\n    <tr>\n      <th>4</th>\n      <td>Actual Total Load [MW] - BZN|NO1</td>\n      <td>Actual Total Load [MW] - BZN|NO2</td>\n      <td>0.994565</td>\n    </tr>\n    <tr>\n      <th>...</th>\n      <td>...</td>\n      <td>...</td>\n      <td>...</td>\n    </tr>\n    <tr>\n      <th>1535</th>\n      <td>Actual Total Load [MW] - BZN|NO1</td>\n      <td>Other - BZN|SE3</td>\n      <td>0.001610</td>\n    </tr>\n    <tr>\n      <th>1536</th>\n      <td>Wind Onshore - BZN|SE3</td>\n      <td>CBF BZN|NO2 &gt; BZN|NO1 [MW]</td>\n      <td>0.001073</td>\n    </tr>\n    <tr>\n      <th>1537</th>\n      <td>Other - BZN|NO1</td>\n      <td>CBF BZN|NO2 &gt; BZN|NO1 [MW]</td>\n      <td>0.001056</td>\n    </tr>\n    <tr>\n      <th>1538</th>\n      <td>Waste - BZN|NO2</td>\n      <td>CBF BZN|NO2 &gt; BZN|NO1 [MW]</td>\n      <td>0.000969</td>\n    </tr>\n    <tr>\n      <th>1539</th>\n      <td>Day-ahead Price [EUR/MWh] BZN|SE3</td>\n      <td>Stored Energy Value Water Reservoirs and Hydro...</td>\n      <td>0.000639</td>\n    </tr>\n  </tbody>\n</table>\n<p>1540 rows × 3 columns</p>\n</div>"
     },
     "execution_count": 10,
     "metadata": {},
     "output_type": "execute_result"
    }
   ],
   "source": [
    "df_correlated"
   ],
   "metadata": {
    "collapsed": false
   }
  },
  {
   "cell_type": "code",
   "execution_count": 11,
   "outputs": [],
   "source": [
    "high_corr_levels = df_correlated['Correlation level'] > 0.9"
   ],
   "metadata": {
    "collapsed": false
   }
  },
  {
   "cell_type": "code",
   "execution_count": 12,
   "outputs": [
    {
     "data": {
      "text/plain": "       Correlation level\ncount        1540.000000\nmean            0.401475\nstd             0.256390\nmin             0.000639\n25%             0.183887\n50%             0.363430\n75%             0.588251\nmax             0.999989",
      "text/html": "<div>\n<style scoped>\n    .dataframe tbody tr th:only-of-type {\n        vertical-align: middle;\n    }\n\n    .dataframe tbody tr th {\n        vertical-align: top;\n    }\n\n    .dataframe thead th {\n        text-align: right;\n    }\n</style>\n<table border=\"1\" class=\"dataframe\">\n  <thead>\n    <tr style=\"text-align: right;\">\n      <th></th>\n      <th>Correlation level</th>\n    </tr>\n  </thead>\n  <tbody>\n    <tr>\n      <th>count</th>\n      <td>1540.000000</td>\n    </tr>\n    <tr>\n      <th>mean</th>\n      <td>0.401475</td>\n    </tr>\n    <tr>\n      <th>std</th>\n      <td>0.256390</td>\n    </tr>\n    <tr>\n      <th>min</th>\n      <td>0.000639</td>\n    </tr>\n    <tr>\n      <th>25%</th>\n      <td>0.183887</td>\n    </tr>\n    <tr>\n      <th>50%</th>\n      <td>0.363430</td>\n    </tr>\n    <tr>\n      <th>75%</th>\n      <td>0.588251</td>\n    </tr>\n    <tr>\n      <th>max</th>\n      <td>0.999989</td>\n    </tr>\n  </tbody>\n</table>\n</div>"
     },
     "execution_count": 12,
     "metadata": {},
     "output_type": "execute_result"
    }
   ],
   "source": [
    "df_correlated.describe()"
   ],
   "metadata": {
    "collapsed": false
   }
  },
  {
   "cell_type": "code",
   "execution_count": 13,
   "outputs": [
    {
     "data": {
      "text/plain": "                            Attribute_X  \\\n0     Day-ahead Price [EUR/MWh] BZN|NO1   \n1                  Fossil Gas - BZN|NO1   \n2     Day-ahead Price [EUR/MWh] BZN|NO2   \n3     Day-ahead Price [EUR/MWh] BZN|NO1   \n4      Actual Total Load [MW] - BZN|NO1   \n...                                 ...   \n1535   Actual Total Load [MW] - BZN|NO1   \n1536             Wind Onshore - BZN|SE3   \n1537                    Other - BZN|NO1   \n1538                    Waste - BZN|NO2   \n1539  Day-ahead Price [EUR/MWh] BZN|SE3   \n\n                                            Attribute_Y  Correlation level  \n0                     Day-ahead Price [EUR/MWh] BZN|NO5           0.999989  \n1                                  Fossil Gas - BZN|NO3           0.999182  \n2                     Day-ahead Price [EUR/MWh] BZN|NO5           0.995979  \n3                     Day-ahead Price [EUR/MWh] BZN|NO2           0.995918  \n4                      Actual Total Load [MW] - BZN|NO2           0.994565  \n...                                                 ...                ...  \n1535                                    Other - BZN|SE3           0.001610  \n1536                         CBF BZN|NO2 > BZN|NO1 [MW]           0.001073  \n1537                         CBF BZN|NO2 > BZN|NO1 [MW]           0.001056  \n1538                         CBF BZN|NO2 > BZN|NO1 [MW]           0.000969  \n1539  Stored Energy Value Water Reservoirs and Hydro...           0.000639  \n\n[239 rows x 3 columns]",
      "text/html": "<div>\n<style scoped>\n    .dataframe tbody tr th:only-of-type {\n        vertical-align: middle;\n    }\n\n    .dataframe tbody tr th {\n        vertical-align: top;\n    }\n\n    .dataframe thead th {\n        text-align: right;\n    }\n</style>\n<table border=\"1\" class=\"dataframe\">\n  <thead>\n    <tr style=\"text-align: right;\">\n      <th></th>\n      <th>Attribute_X</th>\n      <th>Attribute_Y</th>\n      <th>Correlation level</th>\n    </tr>\n  </thead>\n  <tbody>\n    <tr>\n      <th>0</th>\n      <td>Day-ahead Price [EUR/MWh] BZN|NO1</td>\n      <td>Day-ahead Price [EUR/MWh] BZN|NO5</td>\n      <td>0.999989</td>\n    </tr>\n    <tr>\n      <th>1</th>\n      <td>Fossil Gas - BZN|NO1</td>\n      <td>Fossil Gas - BZN|NO3</td>\n      <td>0.999182</td>\n    </tr>\n    <tr>\n      <th>2</th>\n      <td>Day-ahead Price [EUR/MWh] BZN|NO2</td>\n      <td>Day-ahead Price [EUR/MWh] BZN|NO5</td>\n      <td>0.995979</td>\n    </tr>\n    <tr>\n      <th>3</th>\n      <td>Day-ahead Price [EUR/MWh] BZN|NO1</td>\n      <td>Day-ahead Price [EUR/MWh] BZN|NO2</td>\n      <td>0.995918</td>\n    </tr>\n    <tr>\n      <th>4</th>\n      <td>Actual Total Load [MW] - BZN|NO1</td>\n      <td>Actual Total Load [MW] - BZN|NO2</td>\n      <td>0.994565</td>\n    </tr>\n    <tr>\n      <th>...</th>\n      <td>...</td>\n      <td>...</td>\n      <td>...</td>\n    </tr>\n    <tr>\n      <th>1535</th>\n      <td>Actual Total Load [MW] - BZN|NO1</td>\n      <td>Other - BZN|SE3</td>\n      <td>0.001610</td>\n    </tr>\n    <tr>\n      <th>1536</th>\n      <td>Wind Onshore - BZN|SE3</td>\n      <td>CBF BZN|NO2 &gt; BZN|NO1 [MW]</td>\n      <td>0.001073</td>\n    </tr>\n    <tr>\n      <th>1537</th>\n      <td>Other - BZN|NO1</td>\n      <td>CBF BZN|NO2 &gt; BZN|NO1 [MW]</td>\n      <td>0.001056</td>\n    </tr>\n    <tr>\n      <th>1538</th>\n      <td>Waste - BZN|NO2</td>\n      <td>CBF BZN|NO2 &gt; BZN|NO1 [MW]</td>\n      <td>0.000969</td>\n    </tr>\n    <tr>\n      <th>1539</th>\n      <td>Day-ahead Price [EUR/MWh] BZN|SE3</td>\n      <td>Stored Energy Value Water Reservoirs and Hydro...</td>\n      <td>0.000639</td>\n    </tr>\n  </tbody>\n</table>\n<p>239 rows × 3 columns</p>\n</div>"
     },
     "execution_count": 13,
     "metadata": {},
     "output_type": "execute_result"
    }
   ],
   "source": [
    "df_correlated[(df_correlated['Correlation level'] > 0.9) | (df_correlated['Correlation level'] < 0.1)]"
   ],
   "metadata": {
    "collapsed": false
   }
  }
 ],
 "metadata": {
  "kernelspec": {
   "display_name": "Python 3 (ipykernel)",
   "language": "python",
   "name": "python3"
  },
  "language_info": {
   "codemirror_mode": {
    "name": "ipython",
    "version": 3
   },
   "file_extension": ".py",
   "mimetype": "text/x-python",
   "name": "python",
   "nbconvert_exporter": "python",
   "pygments_lexer": "ipython3",
   "version": "3.9.13"
  }
 },
 "nbformat": 4,
 "nbformat_minor": 1
}
