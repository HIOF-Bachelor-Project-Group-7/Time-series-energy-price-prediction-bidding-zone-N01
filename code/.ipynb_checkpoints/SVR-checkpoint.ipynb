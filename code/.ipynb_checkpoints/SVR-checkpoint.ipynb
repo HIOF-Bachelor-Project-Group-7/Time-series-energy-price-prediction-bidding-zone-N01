{
 "cells": [
  {
   "cell_type": "code",
   "execution_count": 1,
   "metadata": {
    "ExecuteTime": {
     "end_time": "2023-05-17T20:46:34.791325Z",
     "start_time": "2023-05-17T20:46:33.770567Z"
    },
    "collapsed": true
   },
   "outputs": [],
   "source": [
    "import numpy as np\n",
    "import pandas as pd\n",
    "from sklearn.svm import SVR\n",
    "from sklearn.model_selection import train_test_split, GridSearchCV\n",
    "from sklearn.metrics import mean_squared_error, mean_absolute_error, mean_absolute_percentage_error\n",
    "\n",
    "# Set random seed for reproducibility\n",
    "np.random.seed(0)"
   ]
  },
  {
   "cell_type": "markdown",
   "metadata": {},
   "source": [
    "# Loading in dataset"
   ]
  },
  {
   "cell_type": "code",
   "execution_count": 2,
   "metadata": {
    "ExecuteTime": {
     "end_time": "2023-05-17T20:46:36.121957Z",
     "start_time": "2023-05-17T20:46:36.077849Z"
    }
   },
   "outputs": [],
   "source": [
    "df = pd.read_csv('../datasets/complete_data/df.csv')"
   ]
  },
  {
   "cell_type": "code",
   "execution_count": 3,
   "metadata": {
    "ExecuteTime": {
     "end_time": "2023-05-17T20:46:36.744288Z",
     "start_time": "2023-05-17T20:46:36.721361Z"
    }
   },
   "outputs": [],
   "source": [
    "for i in range(1, 25): # 24 Lags\n",
    "    df[f'lag_{i}'] = df['Day-ahead Price [EUR/MWh] BZN|NO1'].shift(i)"
   ]
  },
  {
   "cell_type": "code",
   "execution_count": 4,
   "metadata": {
    "ExecuteTime": {
     "end_time": "2023-05-17T20:46:37.433638Z",
     "start_time": "2023-05-17T20:46:37.409667Z"
    }
   },
   "outputs": [],
   "source": [
    "df = df.dropna()\n",
    "features = [f'lag_{i}' for i in range(1, 25)]  # 24 Lags\n",
    "target = 'Day-ahead Price [EUR/MWh] BZN|NO1'\n",
    "\n",
    "# 80% for training, 10% for validation, 10% for testing\n",
    "train_size = int(len(df) * 0.8)\n",
    "val_size = int(len(df) * 0.1)\n",
    "train, validate, test = np.split(df.sample(frac=1), [train_size, train_size+val_size])\n",
    "\n",
    "X_train = train[features]\n",
    "y_train = train[target]\n",
    "X_val = validate[features]\n",
    "y_val = validate[target]\n",
    "X_test = test[features]\n",
    "y_test = test[target]"
   ]
  },
  {
   "cell_type": "code",
   "execution_count": 5,
   "metadata": {
    "ExecuteTime": {
     "end_time": "2023-05-17T20:46:55.056410Z",
     "start_time": "2023-05-17T20:46:37.949096Z"
    }
   },
   "outputs": [
    {
     "name": "stderr",
     "output_type": "stream",
     "text": [
      "C:\\ProgramData\\Anaconda3\\lib\\site-packages\\sklearn\\svm\\_base.py:284: ConvergenceWarning: Solver terminated early (max_iter=1000).  Consider pre-processing your data with StandardScaler or MinMaxScaler.\n",
      "  warnings.warn(\n"
     ]
    },
    {
     "data": {
      "text/plain": [
       "GridSearchCV(estimator=SVR(max_iter=1000), n_jobs=-1,\n",
       "             param_grid={'C': [1.5, 10], 'epsilon': [0.1, 0.2, 0.5, 0.3],\n",
       "                         'gamma': [1e-07, 0.0001],\n",
       "                         'kernel': ['linear', 'poly', 'rbf']})"
      ]
     },
     "execution_count": 5,
     "metadata": {},
     "output_type": "execute_result"
    }
   ],
   "source": [
    "parameters = {'kernel': ['linear', 'poly', 'rbf'], 'C':[1.5, 10],'gamma': [1e-7, 1e-4],'epsilon':[0.1,0.2,0.5,0.3]}\n",
    "svr = SVR(max_iter=1000) # 'max_iter=' controls the amount of iterations.\n",
    "clf = GridSearchCV(svr, parameters, n_jobs=-1)\n",
    "clf.fit(X_train, y_train)"
   ]
  },
  {
   "cell_type": "code",
   "execution_count": 6,
   "metadata": {
    "ExecuteTime": {
     "end_time": "2023-05-17T20:46:58.211895Z",
     "start_time": "2023-05-17T20:46:58.203911Z"
    }
   },
   "outputs": [],
   "source": [
    "def mean_absolute_percentage_error(y_true, y_pred):\n",
    "    y_true, y_pred = np.array(y_true), np.array(y_pred)\n",
    "    return np.mean(np.abs((y_true - y_pred) / y_true)) * 100"
   ]
  },
  {
   "cell_type": "code",
   "execution_count": 7,
   "metadata": {
    "ExecuteTime": {
     "end_time": "2023-05-17T20:47:00.711565Z",
     "start_time": "2023-05-17T20:46:59.823758Z"
    }
   },
   "outputs": [
    {
     "name": "stdout",
     "output_type": "stream",
     "text": [
      "Training MAE:  31.079594443440058\n",
      "Training MSE:  1334.7892358204404\n",
      "Training RMSE:  36.53476749372357\n",
      "Training MAPE:  92.72593077984622\n"
     ]
    }
   ],
   "source": [
    "y_train_pred = clf.predict(X_train)\n",
    "\n",
    "mae = mean_absolute_error(y_train, y_train_pred)\n",
    "print('Training MAE: ', mae)\n",
    "\n",
    "mse = mean_squared_error(y_train, y_train_pred)\n",
    "print('Training MSE: ', mse)\n",
    "\n",
    "rmse = np.sqrt(mse)\n",
    "print('Training RMSE: ', rmse)\n",
    "\n",
    "mape = mean_absolute_percentage_error(y_train, y_train_pred)\n",
    "print('Training MAPE: ', mape)"
   ]
  },
  {
   "cell_type": "code",
   "execution_count": 8,
   "metadata": {
    "ExecuteTime": {
     "end_time": "2023-05-17T20:47:02.173980Z",
     "start_time": "2023-05-17T20:47:02.060184Z"
    }
   },
   "outputs": [
    {
     "name": "stdout",
     "output_type": "stream",
     "text": [
      "Validation MAE:  31.04644023145066\n",
      "Validation MSE:  1336.6663064682832\n",
      "Validation RMSE:  36.56044729579062\n",
      "Validation MAPE:  44.916447463985\n"
     ]
    }
   ],
   "source": [
    "y_val_pred = clf.predict(X_val)\n",
    "\n",
    "mae = mean_absolute_error(y_val, y_val_pred)\n",
    "print('Validation MAE: ', mae)\n",
    "\n",
    "mse = mean_squared_error(y_val, y_val_pred)\n",
    "print('Validation MSE: ', mse)\n",
    "\n",
    "rmse = np.sqrt(mse)\n",
    "print('Validation RMSE: ', rmse)\n",
    "\n",
    "mape = mean_absolute_percentage_error(y_val, y_val_pred)\n",
    "print('Validation MAPE: ', mape)"
   ]
  },
  {
   "cell_type": "code",
   "execution_count": 9,
   "metadata": {
    "ExecuteTime": {
     "end_time": "2023-05-17T20:47:03.253240Z",
     "start_time": "2023-05-17T20:47:03.133168Z"
    }
   },
   "outputs": [
    {
     "name": "stdout",
     "output_type": "stream",
     "text": [
      "Test MAE:  32.182616697886516\n",
      "Test MSE:  1417.0182072861178\n",
      "Test RMSE:  37.6433022898645\n",
      "Test MAPE:  84.96033930904906\n"
     ]
    }
   ],
   "source": [
    "y_test_pred = clf.predict(X_test)\n",
    "\n",
    "mae = mean_absolute_error(y_test, y_test_pred)\n",
    "print('Test MAE: ', mae)\n",
    "\n",
    "mse = mean_squared_error(y_test, y_test_pred)\n",
    "print('Test MSE: ', mse)\n",
    "\n",
    "rmse = np.sqrt(mse)\n",
    "print('Test RMSE: ', rmse)\n",
    "\n",
    "mape = mean_absolute_percentage_error(y_test, y_test_pred)\n",
    "print('Test MAPE: ', mape)"
   ]
  },
  {
   "cell_type": "code",
   "execution_count": 10,
   "metadata": {
    "ExecuteTime": {
     "end_time": "2023-05-17T20:47:06.392460Z",
     "start_time": "2023-05-17T20:47:06.375511Z"
    }
   },
   "outputs": [
    {
     "name": "stdout",
     "output_type": "stream",
     "text": [
      "Training Baseline MAE:  108.24721365401993\n",
      "Training Baseline MSE:  21993.19411973249\n",
      "Training Baseline RMSE:  148.30102534956558\n",
      "Training Baseline MAPE:  328.9059809155257\n",
      "Validation Baseline MAE:  114.14762802018834\n",
      "Validation Baseline MSE:  24585.645623725624\n",
      "Validation Baseline RMSE:  156.79810465603728\n",
      "Validation Baseline MAPE:  172.07996810656684\n",
      "Test Baseline MAE:  106.40514929060686\n",
      "Test Baseline MSE:  21340.436886882962\n",
      "Test Baseline RMSE:  146.08366399732367\n",
      "Test Baseline MAPE:  280.73046961636464\n"
     ]
    }
   ],
   "source": [
    "# Add a naive forecast to your train, validation, and test sets\n",
    "train['naive_forecast'] = train['Day-ahead Price [EUR/MWh] BZN|NO1'].shift(1)\n",
    "validate['naive_forecast'] = validate['Day-ahead Price [EUR/MWh] BZN|NO1'].shift(1)\n",
    "test['naive_forecast'] = test['Day-ahead Price [EUR/MWh] BZN|NO1'].shift(1)\n",
    "\n",
    "# Evaluate the baseline model on the training set\n",
    "y_train_naive = train['naive_forecast'].dropna()\n",
    "y_true_train = train['Day-ahead Price [EUR/MWh] BZN|NO1'][1:]  # Drop the first value to align with the naive forecast\n",
    "\n",
    "mae = mean_absolute_error(y_true_train, y_train_naive)\n",
    "print('Training Baseline MAE: ', mae)\n",
    "\n",
    "mse = mean_squared_error(y_true_train, y_train_naive)\n",
    "print('Training Baseline MSE: ', mse)\n",
    "\n",
    "rmse = np.sqrt(mse)\n",
    "print('Training Baseline RMSE: ', rmse)\n",
    "\n",
    "mape = mean_absolute_percentage_error(y_true_train, y_train_naive)\n",
    "print('Training Baseline MAPE: ', mape)\n",
    "\n",
    "# Evaluate the baseline model on the validation set\n",
    "y_val_naive = validate['naive_forecast'].dropna()\n",
    "y_true_val = validate['Day-ahead Price [EUR/MWh] BZN|NO1'][1:]\n",
    "\n",
    "mae = mean_absolute_error(y_true_val, y_val_naive)\n",
    "print('Validation Baseline MAE: ', mae)\n",
    "\n",
    "mse = mean_squared_error(y_true_val, y_val_naive)\n",
    "print('Validation Baseline MSE: ', mse)\n",
    "\n",
    "rmse = np.sqrt(mse)\n",
    "print('Validation Baseline RMSE: ', rmse)\n",
    "\n",
    "mape = mean_absolute_percentage_error(y_true_val, y_val_naive)\n",
    "print('Validation Baseline MAPE: ', mape)\n",
    "\n",
    "# Evaluate the baseline model on the test set\n",
    "y_test_naive = test['naive_forecast'].dropna()\n",
    "y_true_test = test['Day-ahead Price [EUR/MWh] BZN|NO1'][1:]\n",
    "\n",
    "mae = mean_absolute_error(y_true_test, y_test_naive)\n",
    "print('Test Baseline MAE: ', mae)\n",
    "\n",
    "mse = mean_squared_error(y_true_test, y_test_naive)\n",
    "print('Test Baseline MSE: ', mse)\n",
    "\n",
    "rmse = np.sqrt(mse)\n",
    "print('Test Baseline RMSE: ', rmse)\n",
    "\n",
    "mape = mean_absolute_percentage_error(y_true_test, y_test_naive)\n",
    "print('Test Baseline MAPE: ', mape)"
   ]
  },
  {
   "cell_type": "code",
   "execution_count": null,
   "metadata": {},
   "outputs": [],
   "source": []
  }
 ],
 "metadata": {
  "kernelspec": {
   "display_name": "Python 3 (ipykernel)",
   "language": "python",
   "name": "python3"
  },
  "language_info": {
   "codemirror_mode": {
    "name": "ipython",
    "version": 3
   },
   "file_extension": ".py",
   "mimetype": "text/x-python",
   "name": "python",
   "nbconvert_exporter": "python",
   "pygments_lexer": "ipython3",
   "version": "3.9.13"
  }
 },
 "nbformat": 4,
 "nbformat_minor": 1
}
