{
 "cells": [
  {
   "cell_type": "code",
   "execution_count": null,
   "metadata": {
    "ExecuteTime": {
     "end_time": "2023-03-30T22:03:10.422482Z",
     "start_time": "2023-03-30T22:03:09.212393Z"
    },
    "collapsed": true,
    "pycharm": {
     "is_executing": true
    }
   },
   "outputs": [],
   "source": [
    "import numpy as np\n",
    "import pandas as pd\n",
    "from sklearn.linear_model import LinearRegression\n",
    "from sklearn.metrics import mean_absolute_percentage_error, mean_absolute_error, mean_squared_error\n",
    "import math\n",
    "import matplotlib.pyplot as plt\n",
    "from sklearn.model_selection import train_test_split"
   ]
  },
  {
   "cell_type": "code",
   "execution_count": null,
   "metadata": {
    "ExecuteTime": {
     "end_time": "2023-03-30T22:03:10.485463Z",
     "start_time": "2023-03-30T22:03:10.422482Z"
    }
   },
   "outputs": [],
   "source": [
    "# Load the time series dataset\n",
    "data = pd.read_csv('../datasets/complete_data/df.csv')\n",
    "\n",
    "# Change column names to match naming convention\n",
    "data = data.rename(columns={'start MTU (UTC)': 'ds', 'Day-ahead Price [EUR/MWh] BZN|NO1': 'y'})\n",
    "\n",
    "# Convert the 'ds' column to datetime type\n",
    "data['ds'] = pd.to_datetime(data['ds'])"
   ]
  },
  {
   "cell_type": "code",
   "execution_count": null,
   "metadata": {},
   "outputs": [],
   "source": [
    "# Extract the year, month, day and hour from the 'ds' column\n",
    "data['year'] = data['ds'].dt.year\n",
    "data['month'] = data['ds'].dt.month\n",
    "data['day'] = data['ds'].dt.day\n",
    "data['hour'] = data['ds'].dt.hour\n",
    "\n"
   ]
  },
  {
   "cell_type": "code",
   "execution_count": null,
   "metadata": {},
   "outputs": [],
   "source": [
    "# Lagged features\n",
    "def create_lagged_dataset(df):\n",
    "    # creating a copy of the dataframe\n",
    "    lagged_df = df.copy()\n",
    "\n",
    "    # Adding lagged features for target variable\n",
    "    lagged_df['y'] = lagged_df['y'].shift(-1)\n",
    "\n",
    "    # Dropping the last row containing NaN values\n",
    "    lagged_df.dropna(inplace=True)\n",
    "\n",
    "    # Creating a dataframe with lagged features with 24 steps for each of the original features\n",
    "    lagged_df = pd.concat([lagged_df.shift(i) for i in range(24)], axis=1)\n",
    "\n",
    "    # Removing the NaN rows that have been created in the beginning of the dataset\n",
    "    lagged_df.dropna(inplace=True)\n",
    "\n",
    "    return lagged_df"
   ]
  },
  {
   "cell_type": "code",
   "execution_count": null,
   "metadata": {},
   "outputs": [],
   "source": [
    "lagged_df = create_lagged_dataset(data)"
   ]
  },
  {
   "cell_type": "code",
   "execution_count": null,
   "metadata": {},
   "outputs": [],
   "source": [
    "# Split the dataset into training, validation and testing sets\n",
    "X = lagged_df.drop(['y', 'ds'], axis=1)\n",
    "y = lagged_df['y']\n",
    "X_train, X_test, y_train, y_test = train_test_split(X, y, test_size=0.2, random_state=0, shuffle=False)\n",
    "X_val, X_test, y_val, y_test = train_test_split(X_test, y_test, test_size=0.5, random_state=0, shuffle=False)\n",
    "\n",
    "# Print the shape of the training, validation and testing sets\n",
    "print(\"Training set shape:   \", X_train.shape, y_train.shape)\n",
    "print(\"Validation set shape: \", X_val.shape, y_val.shape)\n",
    "print(\"Testing set shape:    \", X_test.shape, y_test.shape)"
   ]
  },
  {
   "cell_type": "code",
   "execution_count": null,
   "metadata": {
    "ExecuteTime": {
     "end_time": "2023-03-30T22:03:10.533097Z",
     "start_time": "2023-03-30T22:03:10.485463Z"
    }
   },
   "outputs": [],
   "source": [
    "# Create a Linear Regression model\n",
    "model = LinearRegression()\n",
    "\n",
    "# Fit the model to the training set\n",
    "model.fit(X_train, y_train)"
   ]
  },
  {
   "cell_type": "code",
   "execution_count": null,
   "metadata": {
    "ExecuteTime": {
     "end_time": "2023-03-30T22:03:10.582056Z",
     "start_time": "2023-03-30T22:03:10.517596Z"
    }
   },
   "outputs": [],
   "source": [
    "# Make a prediction on the testing set\n",
    "predicted_values = model.predict(X_test)\n",
    "\n",
    "# Calculate the mean absolute error (MAE) between the predicted and actual values\n",
    "mae = mean_absolute_error(y_test, predicted_values)\n",
    "print(\"Mean absolute error:            \", mae)\n",
    "\n",
    "# Calculate the mean absolute percentage error (MAE) between the predicted and actual values\n",
    "mape = mean_absolute_percentage_error(y_test, predicted_values)\n",
    "print(\"Mean absolute percentage error: \", mape)\n",
    "\n",
    "# Calculating the mean squared error (MSE) between the predicted and actual values\n",
    "mse = mean_squared_error(y_test, predicted_values)\n",
    "print(\"Mean squared error:             \", mse)\n",
    "\n",
    "# Calculating the root mean squared error (RMSE) between the predicted and actual values\n",
    "rmse = math.sqrt(mse)\n",
    "print(\"Rood mean squared error:        \", rmse)\n"
   ]
  },
  {
   "cell_type": "code",
   "execution_count": null,
   "metadata": {
    "ExecuteTime": {
     "end_time": "2023-03-30T22:03:10.586226Z",
     "start_time": "2023-03-30T22:03:10.539058Z"
    }
   },
   "outputs": [],
   "source": [
    "# Get the absolute values of the coefficients\n",
    "coefficients = np.abs(model.coef_)\n",
    "\n",
    "# Create a dictionary of feature names and importance scores\n",
    "feature_importance = dict(zip(X.columns, coefficients))\n",
    "\n",
    "# Print the feature importance in descending order\n",
    "for feature, importance in sorted(feature_importance.items(), key=lambda x: x[1], reverse=True):\n",
    "    print(\"{}: {:.2f}%\".format(feature, importance*100))"
   ]
  },
  {
   "cell_type": "code",
   "execution_count": null,
   "metadata": {
    "ExecuteTime": {
     "end_time": "2023-03-30T22:03:10.680576Z",
     "start_time": "2023-03-30T22:03:10.552064Z"
    }
   },
   "outputs": [],
   "source": [
    "# Plot the predicted values against the actual values\n",
    "plt.figure(figsize=(12, 6))\n",
    "plt.plot(y_test.values, label='Actual', color='blue')\n",
    "plt.plot(predicted_values, label='Predicted', color='red')\n",
    "plt.title('Actual vs Predicted')\n",
    "plt.ylabel('Price [EUR/MWh]')\n",
    "plt.legend(loc='upper left')\n",
    "plt.show()"
   ]
  }
 ],
 "metadata": {
  "kernelspec": {
   "display_name": "Python 3 (ipykernel)",
   "language": "python",
   "name": "python3"
  },
  "language_info": {
   "codemirror_mode": {
    "name": "ipython",
    "version": 3
   },
   "file_extension": ".py",
   "mimetype": "text/x-python",
   "name": "python",
   "nbconvert_exporter": "python",
   "pygments_lexer": "ipython3",
   "version": "3.11.3"
  }
 },
 "nbformat": 4,
 "nbformat_minor": 1
}
