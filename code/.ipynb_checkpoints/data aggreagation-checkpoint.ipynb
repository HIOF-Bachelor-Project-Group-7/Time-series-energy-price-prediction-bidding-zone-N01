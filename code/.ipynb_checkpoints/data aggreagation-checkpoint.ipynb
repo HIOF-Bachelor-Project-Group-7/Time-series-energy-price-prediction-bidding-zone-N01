{
 "cells": [
  {
   "cell_type": "markdown",
   "id": "ec0998f8",
   "metadata": {},
   "source": [
    "## Data aggregation of energy market prices in bidding zone N01 (Norway Østlandet) and neighbouring zones for the year of 2022"
   ]
  },
  {
   "cell_type": "markdown",
   "id": "830f85eb",
   "metadata": {},
   "source": [
    "### dependencies"
   ]
  },
  {
   "cell_type": "code",
   "execution_count": 1,
   "id": "49c1609b",
   "metadata": {},
   "outputs": [],
   "source": [
    "# importing dependencies to aggregate dataset\n",
    "import pandas as pd # data processing, CSV file I/O (e.g. pd.read_csv)\n",
    "\n",
    "from functools import reduce # used to merge the dataset"
   ]
  },
  {
   "cell_type": "markdown",
   "id": "d2d71f6e",
   "metadata": {},
   "source": [
    "### importing price data from each zone"
   ]
  },
  {
   "cell_type": "code",
   "execution_count": 2,
   "id": "b61b7cc9",
   "metadata": {},
   "outputs": [],
   "source": [
    "prices_no1 = pd.read_csv(\"../datasets/prices/NO1 Day-ahead Prices_202201010000-202301010000.csv\")\n",
    "prices_no2 = pd.read_csv(\"../datasets/prices/NO2 Day-ahead Prices_202201010000-202301010000.csv\")\n",
    "prices_no3 = pd.read_csv(\"../datasets/prices/NO3 Day-ahead Prices_202201010000-202301010000.csv\")\n",
    "prices_no5 = pd.read_csv(\"../datasets/prices/NO5 Day-ahead Prices_202201010000-202301010000.csv\")\n",
    "prices_se3 = pd.read_csv(\"../datasets/prices/SE3 Day-ahead Prices_202201010000-202301010000.csv\")"
   ]
  },
  {
   "cell_type": "markdown",
   "id": "b0876fac",
   "metadata": {},
   "source": [
    "Printing out first rows of each dataset to see the structure"
   ]
  },
  {
   "cell_type": "code",
   "execution_count": 3,
   "id": "a2d25269",
   "metadata": {},
   "outputs": [
    {
     "data": {
      "text/html": [
       "<div>\n",
       "<style scoped>\n",
       "    .dataframe tbody tr th:only-of-type {\n",
       "        vertical-align: middle;\n",
       "    }\n",
       "\n",
       "    .dataframe tbody tr th {\n",
       "        vertical-align: top;\n",
       "    }\n",
       "\n",
       "    .dataframe thead th {\n",
       "        text-align: right;\n",
       "    }\n",
       "</style>\n",
       "<table border=\"1\" class=\"dataframe\">\n",
       "  <thead>\n",
       "    <tr style=\"text-align: right;\">\n",
       "      <th></th>\n",
       "      <th>MTU (CET/CEST)</th>\n",
       "      <th>Day-ahead Price [EUR/MWh]</th>\n",
       "      <th>Currency</th>\n",
       "      <th>BZN|NO1</th>\n",
       "    </tr>\n",
       "  </thead>\n",
       "  <tbody>\n",
       "    <tr>\n",
       "      <th>0</th>\n",
       "      <td>01.01.2022 00:00 - 01.01.2022 01:00</td>\n",
       "      <td>132.89</td>\n",
       "      <td>EUR</td>\n",
       "      <td>NaN</td>\n",
       "    </tr>\n",
       "    <tr>\n",
       "      <th>1</th>\n",
       "      <td>01.01.2022 01:00 - 01.01.2022 02:00</td>\n",
       "      <td>129.30</td>\n",
       "      <td>EUR</td>\n",
       "      <td>NaN</td>\n",
       "    </tr>\n",
       "    <tr>\n",
       "      <th>2</th>\n",
       "      <td>01.01.2022 02:00 - 01.01.2022 03:00</td>\n",
       "      <td>132.08</td>\n",
       "      <td>EUR</td>\n",
       "      <td>NaN</td>\n",
       "    </tr>\n",
       "    <tr>\n",
       "      <th>3</th>\n",
       "      <td>01.01.2022 03:00 - 01.01.2022 04:00</td>\n",
       "      <td>111.44</td>\n",
       "      <td>EUR</td>\n",
       "      <td>NaN</td>\n",
       "    </tr>\n",
       "    <tr>\n",
       "      <th>4</th>\n",
       "      <td>01.01.2022 04:00 - 01.01.2022 05:00</td>\n",
       "      <td>112.35</td>\n",
       "      <td>EUR</td>\n",
       "      <td>NaN</td>\n",
       "    </tr>\n",
       "  </tbody>\n",
       "</table>\n",
       "</div>"
      ],
      "text/plain": [
       "                        MTU (CET/CEST)  Day-ahead Price [EUR/MWh] Currency  \\\n",
       "0  01.01.2022 00:00 - 01.01.2022 01:00                     132.89      EUR   \n",
       "1  01.01.2022 01:00 - 01.01.2022 02:00                     129.30      EUR   \n",
       "2  01.01.2022 02:00 - 01.01.2022 03:00                     132.08      EUR   \n",
       "3  01.01.2022 03:00 - 01.01.2022 04:00                     111.44      EUR   \n",
       "4  01.01.2022 04:00 - 01.01.2022 05:00                     112.35      EUR   \n",
       "\n",
       "   BZN|NO1  \n",
       "0      NaN  \n",
       "1      NaN  \n",
       "2      NaN  \n",
       "3      NaN  \n",
       "4      NaN  "
      ]
     },
     "execution_count": 3,
     "metadata": {},
     "output_type": "execute_result"
    }
   ],
   "source": [
    "prices_no1.head()"
   ]
  },
  {
   "cell_type": "code",
   "execution_count": 4,
   "id": "2ce0bc9d",
   "metadata": {},
   "outputs": [
    {
     "data": {
      "text/html": [
       "<div>\n",
       "<style scoped>\n",
       "    .dataframe tbody tr th:only-of-type {\n",
       "        vertical-align: middle;\n",
       "    }\n",
       "\n",
       "    .dataframe tbody tr th {\n",
       "        vertical-align: top;\n",
       "    }\n",
       "\n",
       "    .dataframe thead th {\n",
       "        text-align: right;\n",
       "    }\n",
       "</style>\n",
       "<table border=\"1\" class=\"dataframe\">\n",
       "  <thead>\n",
       "    <tr style=\"text-align: right;\">\n",
       "      <th></th>\n",
       "      <th>MTU (CET/CEST)</th>\n",
       "      <th>Day-ahead Price [EUR/MWh]</th>\n",
       "      <th>Currency</th>\n",
       "      <th>BZN|NO2</th>\n",
       "    </tr>\n",
       "  </thead>\n",
       "  <tbody>\n",
       "    <tr>\n",
       "      <th>0</th>\n",
       "      <td>01.01.2022 00:00 - 01.01.2022 01:00</td>\n",
       "      <td>132.89</td>\n",
       "      <td>EUR</td>\n",
       "      <td>NaN</td>\n",
       "    </tr>\n",
       "    <tr>\n",
       "      <th>1</th>\n",
       "      <td>01.01.2022 01:00 - 01.01.2022 02:00</td>\n",
       "      <td>129.30</td>\n",
       "      <td>EUR</td>\n",
       "      <td>NaN</td>\n",
       "    </tr>\n",
       "    <tr>\n",
       "      <th>2</th>\n",
       "      <td>01.01.2022 02:00 - 01.01.2022 03:00</td>\n",
       "      <td>132.08</td>\n",
       "      <td>EUR</td>\n",
       "      <td>NaN</td>\n",
       "    </tr>\n",
       "    <tr>\n",
       "      <th>3</th>\n",
       "      <td>01.01.2022 03:00 - 01.01.2022 04:00</td>\n",
       "      <td>111.44</td>\n",
       "      <td>EUR</td>\n",
       "      <td>NaN</td>\n",
       "    </tr>\n",
       "    <tr>\n",
       "      <th>4</th>\n",
       "      <td>01.01.2022 04:00 - 01.01.2022 05:00</td>\n",
       "      <td>112.35</td>\n",
       "      <td>EUR</td>\n",
       "      <td>NaN</td>\n",
       "    </tr>\n",
       "  </tbody>\n",
       "</table>\n",
       "</div>"
      ],
      "text/plain": [
       "                        MTU (CET/CEST)  Day-ahead Price [EUR/MWh] Currency  \\\n",
       "0  01.01.2022 00:00 - 01.01.2022 01:00                     132.89      EUR   \n",
       "1  01.01.2022 01:00 - 01.01.2022 02:00                     129.30      EUR   \n",
       "2  01.01.2022 02:00 - 01.01.2022 03:00                     132.08      EUR   \n",
       "3  01.01.2022 03:00 - 01.01.2022 04:00                     111.44      EUR   \n",
       "4  01.01.2022 04:00 - 01.01.2022 05:00                     112.35      EUR   \n",
       "\n",
       "   BZN|NO2  \n",
       "0      NaN  \n",
       "1      NaN  \n",
       "2      NaN  \n",
       "3      NaN  \n",
       "4      NaN  "
      ]
     },
     "execution_count": 4,
     "metadata": {},
     "output_type": "execute_result"
    }
   ],
   "source": [
    "prices_no2.head()"
   ]
  },
  {
   "cell_type": "code",
   "execution_count": 5,
   "id": "1fabb3ae",
   "metadata": {},
   "outputs": [
    {
     "data": {
      "text/html": [
       "<div>\n",
       "<style scoped>\n",
       "    .dataframe tbody tr th:only-of-type {\n",
       "        vertical-align: middle;\n",
       "    }\n",
       "\n",
       "    .dataframe tbody tr th {\n",
       "        vertical-align: top;\n",
       "    }\n",
       "\n",
       "    .dataframe thead th {\n",
       "        text-align: right;\n",
       "    }\n",
       "</style>\n",
       "<table border=\"1\" class=\"dataframe\">\n",
       "  <thead>\n",
       "    <tr style=\"text-align: right;\">\n",
       "      <th></th>\n",
       "      <th>MTU (CET/CEST)</th>\n",
       "      <th>Day-ahead Price [EUR/MWh]</th>\n",
       "      <th>Currency</th>\n",
       "      <th>BZN|NO3</th>\n",
       "    </tr>\n",
       "  </thead>\n",
       "  <tbody>\n",
       "    <tr>\n",
       "      <th>0</th>\n",
       "      <td>01.01.2022 00:00 - 01.01.2022 01:00</td>\n",
       "      <td>46.60</td>\n",
       "      <td>EUR</td>\n",
       "      <td>NaN</td>\n",
       "    </tr>\n",
       "    <tr>\n",
       "      <th>1</th>\n",
       "      <td>01.01.2022 01:00 - 01.01.2022 02:00</td>\n",
       "      <td>41.33</td>\n",
       "      <td>EUR</td>\n",
       "      <td>NaN</td>\n",
       "    </tr>\n",
       "    <tr>\n",
       "      <th>2</th>\n",
       "      <td>01.01.2022 02:00 - 01.01.2022 03:00</td>\n",
       "      <td>42.18</td>\n",
       "      <td>EUR</td>\n",
       "      <td>NaN</td>\n",
       "    </tr>\n",
       "    <tr>\n",
       "      <th>3</th>\n",
       "      <td>01.01.2022 03:00 - 01.01.2022 04:00</td>\n",
       "      <td>44.37</td>\n",
       "      <td>EUR</td>\n",
       "      <td>NaN</td>\n",
       "    </tr>\n",
       "    <tr>\n",
       "      <th>4</th>\n",
       "      <td>01.01.2022 04:00 - 01.01.2022 05:00</td>\n",
       "      <td>37.67</td>\n",
       "      <td>EUR</td>\n",
       "      <td>NaN</td>\n",
       "    </tr>\n",
       "  </tbody>\n",
       "</table>\n",
       "</div>"
      ],
      "text/plain": [
       "                        MTU (CET/CEST)  Day-ahead Price [EUR/MWh] Currency  \\\n",
       "0  01.01.2022 00:00 - 01.01.2022 01:00                      46.60      EUR   \n",
       "1  01.01.2022 01:00 - 01.01.2022 02:00                      41.33      EUR   \n",
       "2  01.01.2022 02:00 - 01.01.2022 03:00                      42.18      EUR   \n",
       "3  01.01.2022 03:00 - 01.01.2022 04:00                      44.37      EUR   \n",
       "4  01.01.2022 04:00 - 01.01.2022 05:00                      37.67      EUR   \n",
       "\n",
       "   BZN|NO3  \n",
       "0      NaN  \n",
       "1      NaN  \n",
       "2      NaN  \n",
       "3      NaN  \n",
       "4      NaN  "
      ]
     },
     "execution_count": 5,
     "metadata": {},
     "output_type": "execute_result"
    }
   ],
   "source": [
    "prices_no3.head()"
   ]
  },
  {
   "cell_type": "code",
   "execution_count": 6,
   "id": "2eadd2b7",
   "metadata": {},
   "outputs": [
    {
     "data": {
      "text/html": [
       "<div>\n",
       "<style scoped>\n",
       "    .dataframe tbody tr th:only-of-type {\n",
       "        vertical-align: middle;\n",
       "    }\n",
       "\n",
       "    .dataframe tbody tr th {\n",
       "        vertical-align: top;\n",
       "    }\n",
       "\n",
       "    .dataframe thead th {\n",
       "        text-align: right;\n",
       "    }\n",
       "</style>\n",
       "<table border=\"1\" class=\"dataframe\">\n",
       "  <thead>\n",
       "    <tr style=\"text-align: right;\">\n",
       "      <th></th>\n",
       "      <th>MTU (CET/CEST)</th>\n",
       "      <th>Day-ahead Price [EUR/MWh]</th>\n",
       "      <th>Currency</th>\n",
       "      <th>BZN|NO5</th>\n",
       "    </tr>\n",
       "  </thead>\n",
       "  <tbody>\n",
       "    <tr>\n",
       "      <th>0</th>\n",
       "      <td>01.01.2022 00:00 - 01.01.2022 01:00</td>\n",
       "      <td>132.89</td>\n",
       "      <td>EUR</td>\n",
       "      <td>NaN</td>\n",
       "    </tr>\n",
       "    <tr>\n",
       "      <th>1</th>\n",
       "      <td>01.01.2022 01:00 - 01.01.2022 02:00</td>\n",
       "      <td>129.30</td>\n",
       "      <td>EUR</td>\n",
       "      <td>NaN</td>\n",
       "    </tr>\n",
       "    <tr>\n",
       "      <th>2</th>\n",
       "      <td>01.01.2022 02:00 - 01.01.2022 03:00</td>\n",
       "      <td>132.08</td>\n",
       "      <td>EUR</td>\n",
       "      <td>NaN</td>\n",
       "    </tr>\n",
       "    <tr>\n",
       "      <th>3</th>\n",
       "      <td>01.01.2022 03:00 - 01.01.2022 04:00</td>\n",
       "      <td>111.44</td>\n",
       "      <td>EUR</td>\n",
       "      <td>NaN</td>\n",
       "    </tr>\n",
       "    <tr>\n",
       "      <th>4</th>\n",
       "      <td>01.01.2022 04:00 - 01.01.2022 05:00</td>\n",
       "      <td>112.35</td>\n",
       "      <td>EUR</td>\n",
       "      <td>NaN</td>\n",
       "    </tr>\n",
       "  </tbody>\n",
       "</table>\n",
       "</div>"
      ],
      "text/plain": [
       "                        MTU (CET/CEST)  Day-ahead Price [EUR/MWh] Currency  \\\n",
       "0  01.01.2022 00:00 - 01.01.2022 01:00                     132.89      EUR   \n",
       "1  01.01.2022 01:00 - 01.01.2022 02:00                     129.30      EUR   \n",
       "2  01.01.2022 02:00 - 01.01.2022 03:00                     132.08      EUR   \n",
       "3  01.01.2022 03:00 - 01.01.2022 04:00                     111.44      EUR   \n",
       "4  01.01.2022 04:00 - 01.01.2022 05:00                     112.35      EUR   \n",
       "\n",
       "   BZN|NO5  \n",
       "0      NaN  \n",
       "1      NaN  \n",
       "2      NaN  \n",
       "3      NaN  \n",
       "4      NaN  "
      ]
     },
     "execution_count": 6,
     "metadata": {},
     "output_type": "execute_result"
    }
   ],
   "source": [
    "prices_no5.head()"
   ]
  },
  {
   "cell_type": "code",
   "execution_count": 7,
   "id": "fde8bc05",
   "metadata": {},
   "outputs": [
    {
     "data": {
      "text/html": [
       "<div>\n",
       "<style scoped>\n",
       "    .dataframe tbody tr th:only-of-type {\n",
       "        vertical-align: middle;\n",
       "    }\n",
       "\n",
       "    .dataframe tbody tr th {\n",
       "        vertical-align: top;\n",
       "    }\n",
       "\n",
       "    .dataframe thead th {\n",
       "        text-align: right;\n",
       "    }\n",
       "</style>\n",
       "<table border=\"1\" class=\"dataframe\">\n",
       "  <thead>\n",
       "    <tr style=\"text-align: right;\">\n",
       "      <th></th>\n",
       "      <th>MTU (CET/CEST)</th>\n",
       "      <th>Day-ahead Price [EUR/MWh]</th>\n",
       "      <th>Currency</th>\n",
       "      <th>BZN|SE3</th>\n",
       "    </tr>\n",
       "  </thead>\n",
       "  <tbody>\n",
       "    <tr>\n",
       "      <th>0</th>\n",
       "      <td>01.01.2022 00:00 - 01.01.2022 01:00</td>\n",
       "      <td>46.60</td>\n",
       "      <td>EUR</td>\n",
       "      <td>NaN</td>\n",
       "    </tr>\n",
       "    <tr>\n",
       "      <th>1</th>\n",
       "      <td>01.01.2022 01:00 - 01.01.2022 02:00</td>\n",
       "      <td>41.33</td>\n",
       "      <td>EUR</td>\n",
       "      <td>NaN</td>\n",
       "    </tr>\n",
       "    <tr>\n",
       "      <th>2</th>\n",
       "      <td>01.01.2022 02:00 - 01.01.2022 03:00</td>\n",
       "      <td>42.18</td>\n",
       "      <td>EUR</td>\n",
       "      <td>NaN</td>\n",
       "    </tr>\n",
       "    <tr>\n",
       "      <th>3</th>\n",
       "      <td>01.01.2022 03:00 - 01.01.2022 04:00</td>\n",
       "      <td>44.37</td>\n",
       "      <td>EUR</td>\n",
       "      <td>NaN</td>\n",
       "    </tr>\n",
       "    <tr>\n",
       "      <th>4</th>\n",
       "      <td>01.01.2022 04:00 - 01.01.2022 05:00</td>\n",
       "      <td>37.67</td>\n",
       "      <td>EUR</td>\n",
       "      <td>NaN</td>\n",
       "    </tr>\n",
       "  </tbody>\n",
       "</table>\n",
       "</div>"
      ],
      "text/plain": [
       "                        MTU (CET/CEST)  Day-ahead Price [EUR/MWh] Currency  \\\n",
       "0  01.01.2022 00:00 - 01.01.2022 01:00                      46.60      EUR   \n",
       "1  01.01.2022 01:00 - 01.01.2022 02:00                      41.33      EUR   \n",
       "2  01.01.2022 02:00 - 01.01.2022 03:00                      42.18      EUR   \n",
       "3  01.01.2022 03:00 - 01.01.2022 04:00                      44.37      EUR   \n",
       "4  01.01.2022 04:00 - 01.01.2022 05:00                      37.67      EUR   \n",
       "\n",
       "   BZN|SE3  \n",
       "0      NaN  \n",
       "1      NaN  \n",
       "2      NaN  \n",
       "3      NaN  \n",
       "4      NaN  "
      ]
     },
     "execution_count": 7,
     "metadata": {},
     "output_type": "execute_result"
    }
   ],
   "source": [
    "prices_se3.head()"
   ]
  },
  {
   "cell_type": "markdown",
   "id": "7f1563b5",
   "metadata": {},
   "source": [
    "### preperation for concatenation of the price data from the different zones:\n",
    "The common column values we will merge the data based on is the date time column \"MTU (CET/CEST)\". The column currency is redundant since the column that holds price already includes it in the column name. The currency column can therefore be dropped. The datasets have a colum name for which zone the data is from, but does not include any data for each entry. This information can be added to the column name for price and the column for zone can be dropped."
   ]
  },
  {
   "cell_type": "code",
   "execution_count": 8,
   "id": "6cf508c2",
   "metadata": {},
   "outputs": [],
   "source": [
    "# renaming price columns\n",
    "prices_no1 = prices_no1.rename(columns={'Day-ahead Price [EUR/MWh]': 'Day-ahead Price [EUR/MWh] BZN|NO1'})\n",
    "prices_no2 = prices_no2.rename(columns={'Day-ahead Price [EUR/MWh]': 'Day-ahead Price [EUR/MWh] BZN|NO2'})\n",
    "prices_no3 = prices_no3.rename(columns={'Day-ahead Price [EUR/MWh]': 'Day-ahead Price [EUR/MWh] BZN|NO3'})\n",
    "prices_no5 = prices_no5.rename(columns={'Day-ahead Price [EUR/MWh]': 'Day-ahead Price [EUR/MWh] BZN|NO5'})\n",
    "prices_se3 = prices_se3.rename(columns={'Day-ahead Price [EUR/MWh]': 'Day-ahead Price [EUR/MWh] BZN|SE3'})"
   ]
  },
  {
   "cell_type": "code",
   "execution_count": 9,
   "id": "100401f5",
   "metadata": {},
   "outputs": [],
   "source": [
    "# dropping redundant columns\n",
    "prices_no1= prices_no1.drop(['Currency', 'BZN|NO1'], axis=1)\n",
    "prices_no2= prices_no2.drop(['Currency', 'BZN|NO2'], axis=1)\n",
    "prices_no3= prices_no3.drop(['Currency', 'BZN|NO3'], axis=1)\n",
    "prices_no5= prices_no5.drop(['Currency', 'BZN|NO5'], axis=1)\n",
    "prices_se3= prices_se3.drop(['Currency', 'BZN|SE3'], axis=1)"
   ]
  },
  {
   "cell_type": "code",
   "execution_count": 10,
   "id": "2c86fa7b",
   "metadata": {},
   "outputs": [
    {
     "data": {
      "text/html": [
       "<div>\n",
       "<style scoped>\n",
       "    .dataframe tbody tr th:only-of-type {\n",
       "        vertical-align: middle;\n",
       "    }\n",
       "\n",
       "    .dataframe tbody tr th {\n",
       "        vertical-align: top;\n",
       "    }\n",
       "\n",
       "    .dataframe thead th {\n",
       "        text-align: right;\n",
       "    }\n",
       "</style>\n",
       "<table border=\"1\" class=\"dataframe\">\n",
       "  <thead>\n",
       "    <tr style=\"text-align: right;\">\n",
       "      <th></th>\n",
       "      <th>MTU (CET/CEST)</th>\n",
       "      <th>Day-ahead Price [EUR/MWh] BZN|NO1</th>\n",
       "      <th>Day-ahead Price [EUR/MWh] BZN|NO2</th>\n",
       "      <th>Day-ahead Price [EUR/MWh] BZN|NO3</th>\n",
       "      <th>Day-ahead Price [EUR/MWh] BZN|NO5</th>\n",
       "      <th>Day-ahead Price [EUR/MWh] BZN|SE3</th>\n",
       "    </tr>\n",
       "  </thead>\n",
       "  <tbody>\n",
       "    <tr>\n",
       "      <th>0</th>\n",
       "      <td>01.01.2022 00:00 - 01.01.2022 01:00</td>\n",
       "      <td>132.89</td>\n",
       "      <td>132.89</td>\n",
       "      <td>46.60</td>\n",
       "      <td>132.89</td>\n",
       "      <td>46.60</td>\n",
       "    </tr>\n",
       "    <tr>\n",
       "      <th>1</th>\n",
       "      <td>01.01.2022 01:00 - 01.01.2022 02:00</td>\n",
       "      <td>129.30</td>\n",
       "      <td>129.30</td>\n",
       "      <td>41.33</td>\n",
       "      <td>129.30</td>\n",
       "      <td>41.33</td>\n",
       "    </tr>\n",
       "    <tr>\n",
       "      <th>2</th>\n",
       "      <td>01.01.2022 02:00 - 01.01.2022 03:00</td>\n",
       "      <td>132.08</td>\n",
       "      <td>132.08</td>\n",
       "      <td>42.18</td>\n",
       "      <td>132.08</td>\n",
       "      <td>42.18</td>\n",
       "    </tr>\n",
       "    <tr>\n",
       "      <th>3</th>\n",
       "      <td>01.01.2022 03:00 - 01.01.2022 04:00</td>\n",
       "      <td>111.44</td>\n",
       "      <td>111.44</td>\n",
       "      <td>44.37</td>\n",
       "      <td>111.44</td>\n",
       "      <td>44.37</td>\n",
       "    </tr>\n",
       "    <tr>\n",
       "      <th>4</th>\n",
       "      <td>01.01.2022 04:00 - 01.01.2022 05:00</td>\n",
       "      <td>112.35</td>\n",
       "      <td>112.35</td>\n",
       "      <td>37.67</td>\n",
       "      <td>112.35</td>\n",
       "      <td>37.67</td>\n",
       "    </tr>\n",
       "  </tbody>\n",
       "</table>\n",
       "</div>"
      ],
      "text/plain": [
       "                        MTU (CET/CEST)  Day-ahead Price [EUR/MWh] BZN|NO1  \\\n",
       "0  01.01.2022 00:00 - 01.01.2022 01:00                             132.89   \n",
       "1  01.01.2022 01:00 - 01.01.2022 02:00                             129.30   \n",
       "2  01.01.2022 02:00 - 01.01.2022 03:00                             132.08   \n",
       "3  01.01.2022 03:00 - 01.01.2022 04:00                             111.44   \n",
       "4  01.01.2022 04:00 - 01.01.2022 05:00                             112.35   \n",
       "\n",
       "   Day-ahead Price [EUR/MWh] BZN|NO2  Day-ahead Price [EUR/MWh] BZN|NO3  \\\n",
       "0                             132.89                              46.60   \n",
       "1                             129.30                              41.33   \n",
       "2                             132.08                              42.18   \n",
       "3                             111.44                              44.37   \n",
       "4                             112.35                              37.67   \n",
       "\n",
       "   Day-ahead Price [EUR/MWh] BZN|NO5  Day-ahead Price [EUR/MWh] BZN|SE3  \n",
       "0                             132.89                              46.60  \n",
       "1                             129.30                              41.33  \n",
       "2                             132.08                              42.18  \n",
       "3                             111.44                              44.37  \n",
       "4                             112.35                              37.67  "
      ]
     },
     "execution_count": 10,
     "metadata": {},
     "output_type": "execute_result"
    }
   ],
   "source": [
    "# merging the price datahttp://localhost:8888/notebooks/OneDrive/Desktop/Git/Time-series-energy-price-prediction-bidding-zone-N01/code/data%20aggreagation.ipynb# into one dataframe for prices in all zones\n",
    "price_data_frames = [prices_no1, prices_no2, prices_no3, prices_no5, prices_se3]\n",
    "prices = reduce(lambda left, right: pd.merge(left,right, on=['MTU (CET/CEST)']), price_data_frames)\n",
    "\n",
    "# prices = pd.concat([prices_no1, prices_no2, prices_no3, prices_no5, prices_se3]) # concatinating the dataframes\n",
    "\n",
    "prices.head()"
   ]
  },
  {
   "cell_type": "markdown",
   "id": "626e3a5d",
   "metadata": {},
   "source": []
  },
  {
   "cell_type": "code",
   "execution_count": null,
   "id": "d03102ad",
   "metadata": {},
   "outputs": [],
   "source": []
  },
  {
   "cell_type": "code",
   "execution_count": null,
   "id": "c31cfb95",
   "metadata": {},
   "outputs": [],
   "source": []
  },
  {
   "cell_type": "code",
   "execution_count": 18,
   "id": "ea1b8688",
   "metadata": {},
   "outputs": [],
   "source": [
    "# TODO: handle missing values: NB! Bytt til det endelige datasettet, itte det for prices!!!!!!!!!"
   ]
  },
  {
   "cell_type": "code",
   "execution_count": 20,
   "id": "09b0b273",
   "metadata": {},
   "outputs": [
    {
     "data": {
      "text/plain": [
       "MTU (CET/CEST)                       0\n",
       "Day-ahead Price [EUR/MWh] BZN|NO1    1\n",
       "Day-ahead Price [EUR/MWh] BZN|NO2    1\n",
       "Day-ahead Price [EUR/MWh] BZN|NO3    1\n",
       "Day-ahead Price [EUR/MWh] BZN|NO5    1\n",
       "Day-ahead Price [EUR/MWh] BZN|SE3    1\n",
       "dtype: int64"
      ]
     },
     "execution_count": 20,
     "metadata": {},
     "output_type": "execute_result"
    }
   ],
   "source": [
    "# checking data for missing values, if any\n",
    "prices.isna().sum()"
   ]
  },
  {
   "cell_type": "code",
   "execution_count": 17,
   "id": "023f143c",
   "metadata": {},
   "outputs": [],
   "source": [
    "# checking which row is missing values\n",
    "null_data = prices[prices.isnull().any(axis=1)]"
   ]
  },
  {
   "cell_type": "code",
   "execution_count": 16,
   "id": "8ce0219a",
   "metadata": {},
   "outputs": [
    {
     "data": {
      "text/html": [
       "<div>\n",
       "<style scoped>\n",
       "    .dataframe tbody tr th:only-of-type {\n",
       "        vertical-align: middle;\n",
       "    }\n",
       "\n",
       "    .dataframe tbody tr th {\n",
       "        vertical-align: top;\n",
       "    }\n",
       "\n",
       "    .dataframe thead th {\n",
       "        text-align: right;\n",
       "    }\n",
       "</style>\n",
       "<table border=\"1\" class=\"dataframe\">\n",
       "  <thead>\n",
       "    <tr style=\"text-align: right;\">\n",
       "      <th></th>\n",
       "      <th>MTU (CET/CEST)</th>\n",
       "      <th>Day-ahead Price [EUR/MWh] BZN|NO1</th>\n",
       "      <th>Day-ahead Price [EUR/MWh] BZN|NO2</th>\n",
       "      <th>Day-ahead Price [EUR/MWh] BZN|NO3</th>\n",
       "      <th>Day-ahead Price [EUR/MWh] BZN|NO5</th>\n",
       "      <th>Day-ahead Price [EUR/MWh] BZN|SE3</th>\n",
       "    </tr>\n",
       "  </thead>\n",
       "  <tbody>\n",
       "    <tr>\n",
       "      <th>2042</th>\n",
       "      <td>27.03.2022 02:00 - 27.03.2022 03:00</td>\n",
       "      <td>NaN</td>\n",
       "      <td>NaN</td>\n",
       "      <td>NaN</td>\n",
       "      <td>NaN</td>\n",
       "      <td>NaN</td>\n",
       "    </tr>\n",
       "  </tbody>\n",
       "</table>\n",
       "</div>"
      ],
      "text/plain": [
       "                           MTU (CET/CEST)  Day-ahead Price [EUR/MWh] BZN|NO1  \\\n",
       "2042  27.03.2022 02:00 - 27.03.2022 03:00                                NaN   \n",
       "\n",
       "      Day-ahead Price [EUR/MWh] BZN|NO2  Day-ahead Price [EUR/MWh] BZN|NO3  \\\n",
       "2042                                NaN                                NaN   \n",
       "\n",
       "      Day-ahead Price [EUR/MWh] BZN|NO5  Day-ahead Price [EUR/MWh] BZN|SE3  \n",
       "2042                                NaN                                NaN  "
      ]
     },
     "execution_count": 16,
     "metadata": {},
     "output_type": "execute_result"
    }
   ],
   "source": [
    "null_data"
   ]
  },
  {
   "cell_type": "markdown",
   "id": "47f67aeb",
   "metadata": {},
   "source": [
    "This row is created as a result of the move from winter time to summer time"
   ]
  },
  {
   "cell_type": "code",
   "execution_count": null,
   "id": "554672e2",
   "metadata": {},
   "outputs": [],
   "source": []
  }
 ],
 "metadata": {
  "kernelspec": {
   "display_name": "Python 3",
   "language": "python",
   "name": "python3"
  },
  "language_info": {
   "codemirror_mode": {
    "name": "ipython",
    "version": 3
   },
   "file_extension": ".py",
   "mimetype": "text/x-python",
   "name": "python",
   "nbconvert_exporter": "python",
   "pygments_lexer": "ipython3",
   "version": "3.8.8"
  }
 },
 "nbformat": 4,
 "nbformat_minor": 5
}
