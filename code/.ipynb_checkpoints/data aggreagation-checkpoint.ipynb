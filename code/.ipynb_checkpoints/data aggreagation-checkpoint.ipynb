{
 "cells": [
  {
   "cell_type": "markdown",
   "metadata": {
    "dotnet_interactive": {
     "language": "csharp"
    },
    "polyglot_notebook": {
     "kernelName": "csharp"
    }
   },
   "source": [
    "## Data aggregation of energy market prices in bidding zone N01 (Norway Østlandet) and neighbouring zones for the year of 2022"
   ]
  },
  {
   "cell_type": "markdown",
   "metadata": {
    "dotnet_interactive": {
     "language": "csharp"
    },
    "polyglot_notebook": {
     "kernelName": "csharp"
    }
   },
   "source": [
    "### Dependencies"
   ]
  },
  {
   "cell_type": "code",
   "execution_count": 41,
   "metadata": {
    "dotnet_interactive": {
     "language": "csharp"
    },
    "polyglot_notebook": {
     "kernelName": "csharp"
    },
    "vscode": {
     "languageId": "polyglot-notebook"
    }
   },
   "outputs": [
    {
     "ename": "Error",
     "evalue": "(1,3): error CS1024: Preprocessor directive expected\r\n(2,15): error CS1002: ; expected\r\n(2,15): error CS1525: Invalid expression term 'as'\r\n(2,21): error CS1040: Preprocessor directives must appear as the first non-whitespace character on a line\r\n(2,20): error CS1002: ; expected\r\n(4,23): error CS1003: Syntax error, 'in' expected\r\n(4,30): error CS1040: Preprocessor directives must appear as the first non-whitespace character on a line\r\n(4,57): error CS0742: A query body must end with a select clause or a group clause",
     "output_type": "error",
     "traceback": [
      "(1,3): error CS1024: Preprocessor directive expected\r\n",
      "(2,15): error CS1002: ; expected\r\n",
      "(2,15): error CS1525: Invalid expression term 'as'\r\n",
      "(2,21): error CS1040: Preprocessor directives must appear as the first non-whitespace character on a line\r\n",
      "(2,20): error CS1002: ; expected\r\n",
      "(4,23): error CS1003: Syntax error, 'in' expected\r\n",
      "(4,30): error CS1040: Preprocessor directives must appear as the first non-whitespace character on a line\r\n",
      "(4,57): error CS0742: A query body must end with a select clause or a group clause"
     ]
    }
   ],
   "source": [
    "# importing dependencies to aggregate dataset\n",
    "import pandas as pd # data processing, CSV file I/O (e.g. pd.read_csv)\n",
    "\n",
    "from functools import reduce # used to merge the dataset"
   ]
  },
  {
   "cell_type": "markdown",
   "metadata": {
    "dotnet_interactive": {
     "language": "csharp"
    },
    "polyglot_notebook": {
     "kernelName": "csharp"
    }
   },
   "source": [
    "### Aggregation of pricing data\n",
    "Pricing data is of spot (day-ahead) market prices in the currency Euro per MWh"
   ]
  },
  {
   "cell_type": "markdown",
   "metadata": {
    "dotnet_interactive": {
     "language": "csharp"
    },
    "polyglot_notebook": {
     "kernelName": "csharp"
    }
   },
   "source": [
    "Importing price data from each zone"
   ]
  },
  {
   "cell_type": "code",
   "execution_count": 3,
   "metadata": {
    "dotnet_interactive": {
     "language": "csharp"
    },
    "polyglot_notebook": {
     "kernelName": "csharp"
    },
    "vscode": {
     "languageId": "polyglot-notebook"
    }
   },
   "outputs": [
    {
     "ename": "Error",
     "evalue": "(1,98): error CS1002: ; expected\r\n(2,98): error CS1002: ; expected\r\n(3,98): error CS1002: ; expected\r\n(4,98): error CS1002: ; expected",
     "output_type": "error",
     "traceback": [
      "(1,98): error CS1002: ; expected\r\n",
      "(2,98): error CS1002: ; expected\r\n",
      "(3,98): error CS1002: ; expected\r\n",
      "(4,98): error CS1002: ; expected"
     ]
    }
   ],
   "source": [
    "prices_no1 = pd.read_csv(\"../datasets/prices/NO1 Day-ahead Prices_202201010000-202301010000.csv\")\n",
    "prices_no2 = pd.read_csv(\"../datasets/prices/NO2 Day-ahead Prices_202201010000-202301010000.csv\")\n",
    "prices_no3 = pd.read_csv(\"../datasets/prices/NO3 Day-ahead Prices_202201010000-202301010000.csv\")\n",
    "prices_no5 = pd.read_csv(\"../datasets/prices/NO5 Day-ahead Prices_202201010000-202301010000.csv\")\n",
    "prices_se3 = pd.read_csv(\"../datasets/prices/SE3 Day-ahead Prices_202201010000-202301010000.csv\")"
   ]
  },
  {
   "cell_type": "markdown",
   "metadata": {
    "dotnet_interactive": {
     "language": "csharp"
    },
    "polyglot_notebook": {
     "kernelName": "csharp"
    }
   },
   "source": [
    "Printing out first rows of each dataset to see the structure"
   ]
  },
  {
   "cell_type": "code",
   "execution_count": 4,
   "metadata": {
    "dotnet_interactive": {
     "language": "csharp"
    },
    "polyglot_notebook": {
     "kernelName": "csharp"
    },
    "vscode": {
     "languageId": "polyglot-notebook"
    }
   },
   "outputs": [
    {
     "ename": "Error",
     "evalue": "(1,1): error CS0103: The name 'prices_no1' does not exist in the current context",
     "output_type": "error",
     "traceback": [
      "(1,1): error CS0103: The name 'prices_no1' does not exist in the current context"
     ]
    }
   ],
   "source": [
    "prices_no1.head()"
   ]
  },
  {
   "cell_type": "code",
   "execution_count": 5,
   "metadata": {
    "dotnet_interactive": {
     "language": "csharp"
    },
    "polyglot_notebook": {
     "kernelName": "csharp"
    },
    "vscode": {
     "languageId": "polyglot-notebook"
    }
   },
   "outputs": [
    {
     "ename": "Error",
     "evalue": "(1,1): error CS0103: The name 'prices_no2' does not exist in the current context",
     "output_type": "error",
     "traceback": [
      "(1,1): error CS0103: The name 'prices_no2' does not exist in the current context"
     ]
    }
   ],
   "source": [
    "prices_no2.head()"
   ]
  },
  {
   "cell_type": "code",
   "execution_count": 6,
   "metadata": {
    "dotnet_interactive": {
     "language": "csharp"
    },
    "polyglot_notebook": {
     "kernelName": "csharp"
    },
    "vscode": {
     "languageId": "polyglot-notebook"
    }
   },
   "outputs": [
    {
     "ename": "Error",
     "evalue": "(1,1): error CS0103: The name 'prices_no3' does not exist in the current context",
     "output_type": "error",
     "traceback": [
      "(1,1): error CS0103: The name 'prices_no3' does not exist in the current context"
     ]
    }
   ],
   "source": [
    "prices_no3.head()"
   ]
  },
  {
   "cell_type": "code",
   "execution_count": 7,
   "metadata": {
    "dotnet_interactive": {
     "language": "csharp"
    },
    "polyglot_notebook": {
     "kernelName": "csharp"
    },
    "vscode": {
     "languageId": "polyglot-notebook"
    }
   },
   "outputs": [
    {
     "ename": "Error",
     "evalue": "(1,1): error CS0103: The name 'prices_no5' does not exist in the current context",
     "output_type": "error",
     "traceback": [
      "(1,1): error CS0103: The name 'prices_no5' does not exist in the current context"
     ]
    }
   ],
   "source": [
    "prices_no5.head()"
   ]
  },
  {
   "cell_type": "code",
   "execution_count": 8,
   "metadata": {
    "dotnet_interactive": {
     "language": "csharp"
    },
    "polyglot_notebook": {
     "kernelName": "csharp"
    },
    "vscode": {
     "languageId": "polyglot-notebook"
    }
   },
   "outputs": [
    {
     "ename": "Error",
     "evalue": "(1,1): error CS0103: The name 'prices_se3' does not exist in the current context",
     "output_type": "error",
     "traceback": [
      "(1,1): error CS0103: The name 'prices_se3' does not exist in the current context"
     ]
    }
   ],
   "source": [
    "prices_se3.head()"
   ]
  },
  {
   "cell_type": "markdown",
   "metadata": {
    "dotnet_interactive": {
     "language": "csharp"
    },
    "polyglot_notebook": {
     "kernelName": "csharp"
    }
   },
   "source": [
    "#### preperation for merging of the price data from the different zones:\n",
    "The common column we will merge the data based on is the date time column \"MTU (CET/CEST)\". The column currency is redundant since the column that holds price already includes it in the column name. The currency column can therefore be dropped. The datasets have a colum name for which zone the data is from, but does not include any data for each entry. This information can be added to the column name for price and the column for zone can be dropped."
   ]
  },
  {
   "cell_type": "code",
   "execution_count": 9,
   "metadata": {
    "dotnet_interactive": {
     "language": "csharp"
    },
    "polyglot_notebook": {
     "kernelName": "csharp"
    },
    "vscode": {
     "languageId": "polyglot-notebook"
    }
   },
   "outputs": [
    {
     "ename": "Error",
     "evalue": "(1,3): error CS1024: Preprocessor directive expected\r\n(2,40): error CS1525: Invalid expression term '{'\r\n(2,40): error CS1026: ) expected\r\n(2,40): error CS1002: ; expected\r\n(2,41): error CS1012: Too many characters in character literal\r\n(2,68): error CS1002: ; expected\r\n(2,68): error CS1513: } expected\r\n(2,70): error CS1012: Too many characters in character literal\r\n(2,105): error CS1002: ; expected\r\n(2,106): error CS7017: Member definition, statement, or end-of-file expected\r\n(3,40): error CS1525: Invalid expression term '{'\r\n(3,40): error CS1026: ) expected\r\n(3,40): error CS1002: ; expected\r\n(3,41): error CS1012: Too many characters in character literal\r\n(3,68): error CS1002: ; expected\r\n(3,68): error CS1513: } expected\r\n(3,70): error CS1012: Too many characters in character literal\r\n(3,105): error CS1002: ; expected\r\n(3,106): error CS7017: Member definition, statement, or end-of-file expected\r\n(4,40): error CS1525: Invalid expression term '{'\r\n(4,40): error CS1026: ) expected\r\n(4,40): error CS1002: ; expected\r\n(4,41): error CS1012: Too many characters in character literal\r\n(4,68): error CS1002: ; expected\r\n(4,68): error CS1513: } expected\r\n(4,70): error CS1012: Too many characters in character literal\r\n(4,105): error CS1002: ; expected\r\n(4,106): error CS7017: Member definition, statement, or end-of-file expected\r\n(5,40): error CS1525: Invalid expression term '{'\r\n(5,40): error CS1026: ) expected\r\n(5,40): error CS1002: ; expected\r\n(5,41): error CS1012: Too many characters in character literal\r\n(5,68): error CS1002: ; expected\r\n(5,68): error CS1513: } expected\r\n(5,70): error CS1012: Too many characters in character literal\r\n(5,105): error CS1002: ; expected\r\n(5,106): error CS7017: Member definition, statement, or end-of-file expected\r\n(6,40): error CS1525: Invalid expression term '{'\r\n(6,40): error CS1026: ) expected\r\n(6,40): error CS1002: ; expected\r\n(6,41): error CS1012: Too many characters in character literal\r\n(6,68): error CS1002: ; expected\r\n(6,68): error CS1513: } expected\r\n(6,70): error CS1012: Too many characters in character literal\r\n(6,105): error CS1002: ; expected\r\n(6,106): error CS7017: Member definition, statement, or end-of-file expected",
     "output_type": "error",
     "traceback": [
      "(1,3): error CS1024: Preprocessor directive expected\r\n",
      "(2,40): error CS1525: Invalid expression term '{'\r\n",
      "(2,40): error CS1026: ) expected\r\n",
      "(2,40): error CS1002: ; expected\r\n",
      "(2,41): error CS1012: Too many characters in character literal\r\n",
      "(2,68): error CS1002: ; expected\r\n",
      "(2,68): error CS1513: } expected\r\n",
      "(2,70): error CS1012: Too many characters in character literal\r\n",
      "(2,105): error CS1002: ; expected\r\n",
      "(2,106): error CS7017: Member definition, statement, or end-of-file expected\r\n",
      "(3,40): error CS1525: Invalid expression term '{'\r\n",
      "(3,40): error CS1026: ) expected\r\n",
      "(3,40): error CS1002: ; expected\r\n",
      "(3,41): error CS1012: Too many characters in character literal\r\n",
      "(3,68): error CS1002: ; expected\r\n",
      "(3,68): error CS1513: } expected\r\n",
      "(3,70): error CS1012: Too many characters in character literal\r\n",
      "(3,105): error CS1002: ; expected\r\n",
      "(3,106): error CS7017: Member definition, statement, or end-of-file expected\r\n",
      "(4,40): error CS1525: Invalid expression term '{'\r\n",
      "(4,40): error CS1026: ) expected\r\n",
      "(4,40): error CS1002: ; expected\r\n",
      "(4,41): error CS1012: Too many characters in character literal\r\n",
      "(4,68): error CS1002: ; expected\r\n",
      "(4,68): error CS1513: } expected\r\n",
      "(4,70): error CS1012: Too many characters in character literal\r\n",
      "(4,105): error CS1002: ; expected\r\n",
      "(4,106): error CS7017: Member definition, statement, or end-of-file expected\r\n",
      "(5,40): error CS1525: Invalid expression term '{'\r\n",
      "(5,40): error CS1026: ) expected\r\n",
      "(5,40): error CS1002: ; expected\r\n",
      "(5,41): error CS1012: Too many characters in character literal\r\n",
      "(5,68): error CS1002: ; expected\r\n",
      "(5,68): error CS1513: } expected\r\n",
      "(5,70): error CS1012: Too many characters in character literal\r\n",
      "(5,105): error CS1002: ; expected\r\n",
      "(5,106): error CS7017: Member definition, statement, or end-of-file expected\r\n",
      "(6,40): error CS1525: Invalid expression term '{'\r\n",
      "(6,40): error CS1026: ) expected\r\n",
      "(6,40): error CS1002: ; expected\r\n",
      "(6,41): error CS1012: Too many characters in character literal\r\n",
      "(6,68): error CS1002: ; expected\r\n",
      "(6,68): error CS1513: } expected\r\n",
      "(6,70): error CS1012: Too many characters in character literal\r\n",
      "(6,105): error CS1002: ; expected\r\n",
      "(6,106): error CS7017: Member definition, statement, or end-of-file expected"
     ]
    }
   ],
   "source": [
    "# renaming price columns\n",
    "prices_no1 = prices_no1.rename(columns={'Day-ahead Price [EUR/MWh]': 'Day-ahead Price [EUR/MWh] BZN|NO1'})\n",
    "prices_no2 = prices_no2.rename(columns={'Day-ahead Price [EUR/MWh]': 'Day-ahead Price [EUR/MWh] BZN|NO2'})\n",
    "prices_no3 = prices_no3.rename(columns={'Day-ahead Price [EUR/MWh]': 'Day-ahead Price [EUR/MWh] BZN|NO3'})\n",
    "prices_no5 = prices_no5.rename(columns={'Day-ahead Price [EUR/MWh]': 'Day-ahead Price [EUR/MWh] BZN|NO5'})\n",
    "prices_se3 = prices_se3.rename(columns={'Day-ahead Price [EUR/MWh]': 'Day-ahead Price [EUR/MWh] BZN|SE3'})"
   ]
  },
  {
   "cell_type": "code",
   "execution_count": 10,
   "metadata": {
    "dotnet_interactive": {
     "language": "csharp"
    },
    "polyglot_notebook": {
     "kernelName": "csharp"
    },
    "vscode": {
     "languageId": "polyglot-notebook"
    }
   },
   "outputs": [
    {
     "ename": "Error",
     "evalue": "(1,3): error CS1024: Preprocessor directive expected\r\n(2,29): error CS1026: ) expected\r\n(2,30): error CS1012: Too many characters in character literal\r\n(2,42): error CS1012: Too many characters in character literal\r\n(2,52): error CS1002: ; expected\r\n(2,52): error CS7017: Member definition, statement, or end-of-file expected\r\n(2,60): error CS1002: ; expected\r\n(2,60): error CS7017: Member definition, statement, or end-of-file expected\r\n(3,29): error CS1026: ) expected\r\n(3,30): error CS1012: Too many characters in character literal\r\n(3,42): error CS1012: Too many characters in character literal\r\n(3,52): error CS1002: ; expected\r\n(3,52): error CS7017: Member definition, statement, or end-of-file expected\r\n(3,60): error CS1002: ; expected\r\n(3,60): error CS7017: Member definition, statement, or end-of-file expected\r\n(4,29): error CS1026: ) expected\r\n(4,30): error CS1012: Too many characters in character literal\r\n(4,42): error CS1012: Too many characters in character literal\r\n(4,52): error CS1002: ; expected\r\n(4,52): error CS7017: Member definition, statement, or end-of-file expected\r\n(4,60): error CS1002: ; expected\r\n(4,60): error CS7017: Member definition, statement, or end-of-file expected\r\n(5,29): error CS1026: ) expected\r\n(5,30): error CS1012: Too many characters in character literal\r\n(5,42): error CS1012: Too many characters in character literal\r\n(5,52): error CS1002: ; expected\r\n(5,52): error CS7017: Member definition, statement, or end-of-file expected\r\n(5,60): error CS1002: ; expected\r\n(5,60): error CS7017: Member definition, statement, or end-of-file expected\r\n(6,29): error CS1026: ) expected\r\n(6,30): error CS1012: Too many characters in character literal\r\n(6,42): error CS1012: Too many characters in character literal\r\n(6,52): error CS1002: ; expected\r\n(6,52): error CS7017: Member definition, statement, or end-of-file expected\r\n(6,60): error CS1002: ; expected\r\n(6,60): error CS7017: Member definition, statement, or end-of-file expected",
     "output_type": "error",
     "traceback": [
      "(1,3): error CS1024: Preprocessor directive expected\r\n",
      "(2,29): error CS1026: ) expected\r\n",
      "(2,30): error CS1012: Too many characters in character literal\r\n",
      "(2,42): error CS1012: Too many characters in character literal\r\n",
      "(2,52): error CS1002: ; expected\r\n",
      "(2,52): error CS7017: Member definition, statement, or end-of-file expected\r\n",
      "(2,60): error CS1002: ; expected\r\n",
      "(2,60): error CS7017: Member definition, statement, or end-of-file expected\r\n",
      "(3,29): error CS1026: ) expected\r\n",
      "(3,30): error CS1012: Too many characters in character literal\r\n",
      "(3,42): error CS1012: Too many characters in character literal\r\n",
      "(3,52): error CS1002: ; expected\r\n",
      "(3,52): error CS7017: Member definition, statement, or end-of-file expected\r\n",
      "(3,60): error CS1002: ; expected\r\n",
      "(3,60): error CS7017: Member definition, statement, or end-of-file expected\r\n",
      "(4,29): error CS1026: ) expected\r\n",
      "(4,30): error CS1012: Too many characters in character literal\r\n",
      "(4,42): error CS1012: Too many characters in character literal\r\n",
      "(4,52): error CS1002: ; expected\r\n",
      "(4,52): error CS7017: Member definition, statement, or end-of-file expected\r\n",
      "(4,60): error CS1002: ; expected\r\n",
      "(4,60): error CS7017: Member definition, statement, or end-of-file expected\r\n",
      "(5,29): error CS1026: ) expected\r\n",
      "(5,30): error CS1012: Too many characters in character literal\r\n",
      "(5,42): error CS1012: Too many characters in character literal\r\n",
      "(5,52): error CS1002: ; expected\r\n",
      "(5,52): error CS7017: Member definition, statement, or end-of-file expected\r\n",
      "(5,60): error CS1002: ; expected\r\n",
      "(5,60): error CS7017: Member definition, statement, or end-of-file expected\r\n",
      "(6,29): error CS1026: ) expected\r\n",
      "(6,30): error CS1012: Too many characters in character literal\r\n",
      "(6,42): error CS1012: Too many characters in character literal\r\n",
      "(6,52): error CS1002: ; expected\r\n",
      "(6,52): error CS7017: Member definition, statement, or end-of-file expected\r\n",
      "(6,60): error CS1002: ; expected\r\n",
      "(6,60): error CS7017: Member definition, statement, or end-of-file expected"
     ]
    }
   ],
   "source": [
    "# dropping redundant columns\n",
    "prices_no1= prices_no1.drop(['Currency', 'BZN|NO1'], axis=1)\n",
    "prices_no2= prices_no2.drop(['Currency', 'BZN|NO2'], axis=1)\n",
    "prices_no3= prices_no3.drop(['Currency', 'BZN|NO3'], axis=1)\n",
    "prices_no5= prices_no5.drop(['Currency', 'BZN|NO5'], axis=1)\n",
    "prices_se3= prices_se3.drop(['Currency', 'BZN|SE3'], axis=1)"
   ]
  },
  {
   "cell_type": "code",
   "execution_count": 11,
   "metadata": {
    "dotnet_interactive": {
     "language": "csharp"
    },
    "polyglot_notebook": {
     "kernelName": "csharp"
    },
    "vscode": {
     "languageId": "polyglot-notebook"
    }
   },
   "outputs": [
    {
     "ename": "Error",
     "evalue": "(1,3): error CS1024: Preprocessor directive expected\r\n(2,21): error CS1525: Invalid expression term '['\r\n(2,81): error CS1002: ; expected\r\n(3,24): error CS1003: Syntax error, ',' expected\r\n(3,61): error CS1525: Invalid expression term '['\r\n(3,62): error CS1012: Too many characters in character literal\r\n(3,100): error CS1002: ; expected",
     "output_type": "error",
     "traceback": [
      "(1,3): error CS1024: Preprocessor directive expected\r\n",
      "(2,21): error CS1525: Invalid expression term '['\r\n",
      "(2,81): error CS1002: ; expected\r\n",
      "(3,24): error CS1003: Syntax error, ',' expected\r\n",
      "(3,61): error CS1525: Invalid expression term '['\r\n",
      "(3,62): error CS1012: Too many characters in character literal\r\n",
      "(3,100): error CS1002: ; expected"
     ]
    }
   ],
   "source": [
    "# merging the price data into one dataframe on the date time column 'MTU (CET/CEST)'\n",
    "price_data_frames = [prices_no1, prices_no2, prices_no3, prices_no5, prices_se3]\n",
    "prices = reduce(lambda left, right: pd.merge(left,right, on=['MTU (CET/CEST)']), price_data_frames)\n",
    "\n",
    "prices.head()"
   ]
  },
  {
   "cell_type": "markdown",
   "metadata": {
    "dotnet_interactive": {
     "language": "csharp"
    },
    "polyglot_notebook": {
     "kernelName": "csharp"
    }
   },
   "source": [
    "### Aggregation of load data\n",
    "The load data contains data about the power consumption in each zone"
   ]
  },
  {
   "cell_type": "markdown",
   "metadata": {
    "dotnet_interactive": {
     "language": "csharp"
    },
    "polyglot_notebook": {
     "kernelName": "csharp"
    }
   },
   "source": [
    "Importing load data from each zone"
   ]
  },
  {
   "cell_type": "code",
   "execution_count": 12,
   "metadata": {
    "dotnet_interactive": {
     "language": "csharp"
    },
    "polyglot_notebook": {
     "kernelName": "csharp"
    },
    "vscode": {
     "languageId": "polyglot-notebook"
    }
   },
   "outputs": [
    {
     "ename": "Error",
     "evalue": "(1,109): error CS1002: ; expected\r\n(2,109): error CS1002: ; expected\r\n(3,109): error CS1002: ; expected\r\n(4,109): error CS1002: ; expected",
     "output_type": "error",
     "traceback": [
      "(1,109): error CS1002: ; expected\r\n",
      "(2,109): error CS1002: ; expected\r\n",
      "(3,109): error CS1002: ; expected\r\n",
      "(4,109): error CS1002: ; expected"
     ]
    }
   ],
   "source": [
    "load_no1 = pd.read_csv(\"../datasets/load/NO1 Total Load - Day Ahead _ Actual_202201010000-202301010000.csv\")\n",
    "load_no2 = pd.read_csv(\"../datasets/load/NO2 Total Load - Day Ahead _ Actual_202201010000-202301010000.csv\")\n",
    "load_no3 = pd.read_csv(\"../datasets/load/NO3 Total Load - Day Ahead _ Actual_202201010000-202301010000.csv\")\n",
    "load_no5 = pd.read_csv(\"../datasets/load/NO5 Total Load - Day Ahead _ Actual_202201010000-202301010000.csv\")\n",
    "load_se3 = pd.read_csv(\"../datasets/load/SE3 Total Load - Day Ahead _ Actual_202201010000-202301010000.csv\")"
   ]
  },
  {
   "cell_type": "markdown",
   "metadata": {
    "dotnet_interactive": {
     "language": "csharp"
    },
    "polyglot_notebook": {
     "kernelName": "csharp"
    }
   },
   "source": [
    "Printing out first rows of each dataset to see the structure"
   ]
  },
  {
   "cell_type": "code",
   "execution_count": 13,
   "metadata": {
    "dotnet_interactive": {
     "language": "csharp"
    },
    "polyglot_notebook": {
     "kernelName": "csharp"
    },
    "vscode": {
     "languageId": "polyglot-notebook"
    }
   },
   "outputs": [
    {
     "ename": "Error",
     "evalue": "(1,1): error CS0103: The name 'load_no1' does not exist in the current context",
     "output_type": "error",
     "traceback": [
      "(1,1): error CS0103: The name 'load_no1' does not exist in the current context"
     ]
    }
   ],
   "source": [
    "load_no1.head()"
   ]
  },
  {
   "cell_type": "code",
   "execution_count": 14,
   "metadata": {
    "dotnet_interactive": {
     "language": "csharp"
    },
    "polyglot_notebook": {
     "kernelName": "csharp"
    },
    "vscode": {
     "languageId": "polyglot-notebook"
    }
   },
   "outputs": [
    {
     "ename": "Error",
     "evalue": "(1,1): error CS0103: The name 'load_no2' does not exist in the current context",
     "output_type": "error",
     "traceback": [
      "(1,1): error CS0103: The name 'load_no2' does not exist in the current context"
     ]
    }
   ],
   "source": [
    "load_no2.head()"
   ]
  },
  {
   "cell_type": "code",
   "execution_count": 15,
   "metadata": {
    "dotnet_interactive": {
     "language": "csharp"
    },
    "polyglot_notebook": {
     "kernelName": "csharp"
    },
    "vscode": {
     "languageId": "polyglot-notebook"
    }
   },
   "outputs": [
    {
     "ename": "Error",
     "evalue": "(1,1): error CS0103: The name 'load_no3' does not exist in the current context",
     "output_type": "error",
     "traceback": [
      "(1,1): error CS0103: The name 'load_no3' does not exist in the current context"
     ]
    }
   ],
   "source": [
    "load_no3.head()"
   ]
  },
  {
   "cell_type": "code",
   "execution_count": 16,
   "metadata": {
    "dotnet_interactive": {
     "language": "csharp"
    },
    "polyglot_notebook": {
     "kernelName": "csharp"
    },
    "vscode": {
     "languageId": "polyglot-notebook"
    }
   },
   "outputs": [
    {
     "ename": "Error",
     "evalue": "(1,1): error CS0103: The name 'load_no5' does not exist in the current context",
     "output_type": "error",
     "traceback": [
      "(1,1): error CS0103: The name 'load_no5' does not exist in the current context"
     ]
    }
   ],
   "source": [
    "load_no5.head()"
   ]
  },
  {
   "cell_type": "code",
   "execution_count": 17,
   "metadata": {
    "dotnet_interactive": {
     "language": "csharp"
    },
    "polyglot_notebook": {
     "kernelName": "csharp"
    },
    "vscode": {
     "languageId": "polyglot-notebook"
    }
   },
   "outputs": [
    {
     "ename": "Error",
     "evalue": "(1,1): error CS0103: The name 'load_se3' does not exist in the current context",
     "output_type": "error",
     "traceback": [
      "(1,1): error CS0103: The name 'load_se3' does not exist in the current context"
     ]
    }
   ],
   "source": [
    "load_se3.head()"
   ]
  },
  {
   "cell_type": "markdown",
   "metadata": {
    "dotnet_interactive": {
     "language": "csharp"
    },
    "polyglot_notebook": {
     "kernelName": "csharp"
    }
   },
   "source": [
    "#### preperation for merging of the load data from the different zones:\n",
    "The common values we will merge the data based on is the date time column \"Time (CET/CEST)\", however this column is named \"MTU (CET/CEST)\" in the prices dataset. The time column will be renamed to \"MTU (CET/CEST)\" so that the datasets can be merged. The column \"Day-ahead Total Load Forecast\" is redundant since we have the actual total load, so the forecast column will be dropped."
   ]
  },
  {
   "cell_type": "code",
   "execution_count": 18,
   "metadata": {
    "dotnet_interactive": {
     "language": "csharp"
    },
    "polyglot_notebook": {
     "kernelName": "csharp"
    },
    "vscode": {
     "languageId": "polyglot-notebook"
    }
   },
   "outputs": [
    {
     "ename": "Error",
     "evalue": "(1,3): error CS1024: Preprocessor directive expected\r\n(2,26): error CS1026: ) expected\r\n(2,27): error CS1012: Too many characters in character literal\r\n(2,74): error CS1002: ; expected\r\n(2,74): error CS7017: Member definition, statement, or end-of-file expected\r\n(2,82): error CS1002: ; expected\r\n(2,82): error CS7017: Member definition, statement, or end-of-file expected\r\n(3,26): error CS1026: ) expected\r\n(3,27): error CS1012: Too many characters in character literal\r\n(3,74): error CS1002: ; expected\r\n(3,74): error CS7017: Member definition, statement, or end-of-file expected\r\n(3,82): error CS1002: ; expected\r\n(3,82): error CS7017: Member definition, statement, or end-of-file expected\r\n(4,26): error CS1026: ) expected\r\n(4,27): error CS1012: Too many characters in character literal\r\n(4,74): error CS1002: ; expected\r\n(4,74): error CS7017: Member definition, statement, or end-of-file expected\r\n(4,82): error CS1002: ; expected\r\n(4,82): error CS7017: Member definition, statement, or end-of-file expected\r\n(5,26): error CS1026: ) expected\r\n(5,27): error CS1012: Too many characters in character literal\r\n(5,74): error CS1002: ; expected\r\n(5,74): error CS7017: Member definition, statement, or end-of-file expected\r\n(5,82): error CS1002: ; expected\r\n(5,82): error CS7017: Member definition, statement, or end-of-file expected\r\n(6,26): error CS1026: ) expected\r\n(6,27): error CS1012: Too many characters in character literal\r\n(6,74): error CS1002: ; expected\r\n(6,74): error CS7017: Member definition, statement, or end-of-file expected\r\n(6,82): error CS1002: ; expected\r\n(6,82): error CS7017: Member definition, statement, or end-of-file expected",
     "output_type": "error",
     "traceback": [
      "(1,3): error CS1024: Preprocessor directive expected\r\n",
      "(2,26): error CS1026: ) expected\r\n",
      "(2,27): error CS1012: Too many characters in character literal\r\n",
      "(2,74): error CS1002: ; expected\r\n",
      "(2,74): error CS7017: Member definition, statement, or end-of-file expected\r\n",
      "(2,82): error CS1002: ; expected\r\n",
      "(2,82): error CS7017: Member definition, statement, or end-of-file expected\r\n",
      "(3,26): error CS1026: ) expected\r\n",
      "(3,27): error CS1012: Too many characters in character literal\r\n",
      "(3,74): error CS1002: ; expected\r\n",
      "(3,74): error CS7017: Member definition, statement, or end-of-file expected\r\n",
      "(3,82): error CS1002: ; expected\r\n",
      "(3,82): error CS7017: Member definition, statement, or end-of-file expected\r\n",
      "(4,26): error CS1026: ) expected\r\n",
      "(4,27): error CS1012: Too many characters in character literal\r\n",
      "(4,74): error CS1002: ; expected\r\n",
      "(4,74): error CS7017: Member definition, statement, or end-of-file expected\r\n",
      "(4,82): error CS1002: ; expected\r\n",
      "(4,82): error CS7017: Member definition, statement, or end-of-file expected\r\n",
      "(5,26): error CS1026: ) expected\r\n",
      "(5,27): error CS1012: Too many characters in character literal\r\n",
      "(5,74): error CS1002: ; expected\r\n",
      "(5,74): error CS7017: Member definition, statement, or end-of-file expected\r\n",
      "(5,82): error CS1002: ; expected\r\n",
      "(5,82): error CS7017: Member definition, statement, or end-of-file expected\r\n",
      "(6,26): error CS1026: ) expected\r\n",
      "(6,27): error CS1012: Too many characters in character literal\r\n",
      "(6,74): error CS1002: ; expected\r\n",
      "(6,74): error CS7017: Member definition, statement, or end-of-file expected\r\n",
      "(6,82): error CS1002: ; expected\r\n",
      "(6,82): error CS7017: Member definition, statement, or end-of-file expected"
     ]
    }
   ],
   "source": [
    "# dropping redundant columns\n",
    "load_no1 = load_no1.drop(['Day-ahead Total Load Forecast [MW] - BZN|NO1'], axis=1)\n",
    "load_no2 = load_no2.drop(['Day-ahead Total Load Forecast [MW] - BZN|NO2'], axis=1)\n",
    "load_no3 = load_no3.drop(['Day-ahead Total Load Forecast [MW] - BZN|NO3'], axis=1)\n",
    "load_no5 = load_no5.drop(['Day-ahead Total Load Forecast [MW] - BZN|NO5'], axis=1)\n",
    "load_se3 = load_se3.drop(['Day-ahead Total Load Forecast [MW] - BZN|SE3'], axis=1)"
   ]
  },
  {
   "cell_type": "code",
   "execution_count": 19,
   "metadata": {
    "dotnet_interactive": {
     "language": "csharp"
    },
    "polyglot_notebook": {
     "kernelName": "csharp"
    },
    "vscode": {
     "languageId": "polyglot-notebook"
    }
   },
   "outputs": [
    {
     "ename": "Error",
     "evalue": "(1,3): error CS1024: Preprocessor directive expected\r\n(2,36): error CS1525: Invalid expression term '{'\r\n(2,36): error CS1026: ) expected\r\n(2,36): error CS1002: ; expected\r\n(2,37): error CS1012: Too many characters in character literal\r\n(2,54): error CS1002: ; expected\r\n(2,54): error CS1513: } expected\r\n(2,56): error CS1012: Too many characters in character literal\r\n(2,72): error CS1002: ; expected\r\n(2,73): error CS7017: Member definition, statement, or end-of-file expected\r\n(3,36): error CS1525: Invalid expression term '{'\r\n(3,36): error CS1026: ) expected\r\n(3,36): error CS1002: ; expected\r\n(3,37): error CS1012: Too many characters in character literal\r\n(3,54): error CS1002: ; expected\r\n(3,54): error CS1513: } expected\r\n(3,56): error CS1012: Too many characters in character literal\r\n(3,72): error CS1002: ; expected\r\n(3,73): error CS7017: Member definition, statement, or end-of-file expected\r\n(4,36): error CS1525: Invalid expression term '{'\r\n(4,36): error CS1026: ) expected\r\n(4,36): error CS1002: ; expected\r\n(4,37): error CS1012: Too many characters in character literal\r\n(4,54): error CS1002: ; expected\r\n(4,54): error CS1513: } expected\r\n(4,56): error CS1012: Too many characters in character literal\r\n(4,72): error CS1002: ; expected\r\n(4,73): error CS7017: Member definition, statement, or end-of-file expected\r\n(5,36): error CS1525: Invalid expression term '{'\r\n(5,36): error CS1026: ) expected\r\n(5,36): error CS1002: ; expected\r\n(5,37): error CS1012: Too many characters in character literal\r\n(5,54): error CS1002: ; expected\r\n(5,54): error CS1513: } expected\r\n(5,56): error CS1012: Too many characters in character literal\r\n(5,72): error CS1002: ; expected\r\n(5,73): error CS7017: Member definition, statement, or end-of-file expected\r\n(6,36): error CS1525: Invalid expression term '{'\r\n(6,36): error CS1026: ) expected\r\n(6,36): error CS1002: ; expected\r\n(6,37): error CS1012: Too many characters in character literal\r\n(6,54): error CS1002: ; expected\r\n(6,54): error CS1513: } expected\r\n(6,56): error CS1012: Too many characters in character literal\r\n(6,72): error CS1002: ; expected\r\n(6,73): error CS7017: Member definition, statement, or end-of-file expected",
     "output_type": "error",
     "traceback": [
      "(1,3): error CS1024: Preprocessor directive expected\r\n",
      "(2,36): error CS1525: Invalid expression term '{'\r\n",
      "(2,36): error CS1026: ) expected\r\n",
      "(2,36): error CS1002: ; expected\r\n",
      "(2,37): error CS1012: Too many characters in character literal\r\n",
      "(2,54): error CS1002: ; expected\r\n",
      "(2,54): error CS1513: } expected\r\n",
      "(2,56): error CS1012: Too many characters in character literal\r\n",
      "(2,72): error CS1002: ; expected\r\n",
      "(2,73): error CS7017: Member definition, statement, or end-of-file expected\r\n",
      "(3,36): error CS1525: Invalid expression term '{'\r\n",
      "(3,36): error CS1026: ) expected\r\n",
      "(3,36): error CS1002: ; expected\r\n",
      "(3,37): error CS1012: Too many characters in character literal\r\n",
      "(3,54): error CS1002: ; expected\r\n",
      "(3,54): error CS1513: } expected\r\n",
      "(3,56): error CS1012: Too many characters in character literal\r\n",
      "(3,72): error CS1002: ; expected\r\n",
      "(3,73): error CS7017: Member definition, statement, or end-of-file expected\r\n",
      "(4,36): error CS1525: Invalid expression term '{'\r\n",
      "(4,36): error CS1026: ) expected\r\n",
      "(4,36): error CS1002: ; expected\r\n",
      "(4,37): error CS1012: Too many characters in character literal\r\n",
      "(4,54): error CS1002: ; expected\r\n",
      "(4,54): error CS1513: } expected\r\n",
      "(4,56): error CS1012: Too many characters in character literal\r\n",
      "(4,72): error CS1002: ; expected\r\n",
      "(4,73): error CS7017: Member definition, statement, or end-of-file expected\r\n",
      "(5,36): error CS1525: Invalid expression term '{'\r\n",
      "(5,36): error CS1026: ) expected\r\n",
      "(5,36): error CS1002: ; expected\r\n",
      "(5,37): error CS1012: Too many characters in character literal\r\n",
      "(5,54): error CS1002: ; expected\r\n",
      "(5,54): error CS1513: } expected\r\n",
      "(5,56): error CS1012: Too many characters in character literal\r\n",
      "(5,72): error CS1002: ; expected\r\n",
      "(5,73): error CS7017: Member definition, statement, or end-of-file expected\r\n",
      "(6,36): error CS1525: Invalid expression term '{'\r\n",
      "(6,36): error CS1026: ) expected\r\n",
      "(6,36): error CS1002: ; expected\r\n",
      "(6,37): error CS1012: Too many characters in character literal\r\n",
      "(6,54): error CS1002: ; expected\r\n",
      "(6,54): error CS1513: } expected\r\n",
      "(6,56): error CS1012: Too many characters in character literal\r\n",
      "(6,72): error CS1002: ; expected\r\n",
      "(6,73): error CS7017: Member definition, statement, or end-of-file expected"
     ]
    }
   ],
   "source": [
    "# renaming time columns\n",
    "load_no1 = load_no1.rename(columns={'Time (CET/CEST)': 'MTU (CET/CEST)'})\n",
    "load_no2 = load_no2.rename(columns={'Time (CET/CEST)': 'MTU (CET/CEST)'})\n",
    "load_no3 = load_no3.rename(columns={'Time (CET/CEST)': 'MTU (CET/CEST)'})\n",
    "load_no5 = load_no5.rename(columns={'Time (CET/CEST)': 'MTU (CET/CEST)'})\n",
    "load_se3 = load_se3.rename(columns={'Time (CET/CEST)': 'MTU (CET/CEST)'})"
   ]
  },
  {
   "cell_type": "code",
   "execution_count": 20,
   "metadata": {
    "dotnet_interactive": {
     "language": "csharp"
    },
    "polyglot_notebook": {
     "kernelName": "csharp"
    },
    "vscode": {
     "languageId": "polyglot-notebook"
    }
   },
   "outputs": [
    {
     "ename": "Error",
     "evalue": "(1,3): error CS1024: Preprocessor directive expected\r\n(2,20): error CS1525: Invalid expression term '['\r\n(2,70): error CS1002: ; expected\r\n(3,23): error CS1003: Syntax error, ',' expected\r\n(3,60): error CS1525: Invalid expression term '['\r\n(3,61): error CS1012: Too many characters in character literal\r\n(3,98): error CS1002: ; expected",
     "output_type": "error",
     "traceback": [
      "(1,3): error CS1024: Preprocessor directive expected\r\n",
      "(2,20): error CS1525: Invalid expression term '['\r\n",
      "(2,70): error CS1002: ; expected\r\n",
      "(3,23): error CS1003: Syntax error, ',' expected\r\n",
      "(3,60): error CS1525: Invalid expression term '['\r\n",
      "(3,61): error CS1012: Too many characters in character literal\r\n",
      "(3,98): error CS1002: ; expected"
     ]
    }
   ],
   "source": [
    "# merging the load data into one dataframe on the date time column 'MTU (CET/CEST)'\n",
    "load_data_frames = [load_no1, load_no2, load_no3, load_no5, load_se3]\n",
    "loads = reduce(lambda left, right: pd.merge(left,right, on=['MTU (CET/CEST)']), load_data_frames)\n",
    "\n",
    "loads.head()"
   ]
  },
  {
   "cell_type": "code",
   "execution_count": 21,
   "metadata": {
    "dotnet_interactive": {
     "language": "csharp"
    },
    "polyglot_notebook": {
     "kernelName": "csharp"
    },
    "vscode": {
     "languageId": "polyglot-notebook"
    }
   },
   "outputs": [],
   "source": []
  },
  {
   "cell_type": "code",
   "execution_count": 22,
   "metadata": {
    "dotnet_interactive": {
     "language": "csharp"
    },
    "polyglot_notebook": {
     "kernelName": "csharp"
    },
    "vscode": {
     "languageId": "polyglot-notebook"
    }
   },
   "outputs": [],
   "source": []
  },
  {
   "cell_type": "code",
   "execution_count": 23,
   "metadata": {
    "dotnet_interactive": {
     "language": "csharp"
    },
    "polyglot_notebook": {
     "kernelName": "csharp"
    },
    "vscode": {
     "languageId": "polyglot-notebook"
    }
   },
   "outputs": [],
   "source": []
  },
  {
   "cell_type": "code",
   "execution_count": 24,
   "metadata": {
    "dotnet_interactive": {
     "language": "csharp"
    },
    "polyglot_notebook": {
     "kernelName": "csharp"
    },
    "vscode": {
     "languageId": "polyglot-notebook"
    }
   },
   "outputs": [],
   "source": []
  },
  {
   "cell_type": "code",
   "execution_count": 25,
   "metadata": {
    "dotnet_interactive": {
     "language": "csharp"
    },
    "polyglot_notebook": {
     "kernelName": "csharp"
    },
    "vscode": {
     "languageId": "polyglot-notebook"
    }
   },
   "outputs": [
    {
     "ename": "Error",
     "evalue": "(1,3): error CS1024: Preprocessor directive expected",
     "output_type": "error",
     "traceback": [
      "(1,3): error CS1024: Preprocessor directive expected"
     ]
    }
   ],
   "source": [
    "# TODO: handle missing values: NB! Bytt til det endelige datasettet, itte det for prices!!!!!!!!!"
   ]
  },
  {
   "cell_type": "code",
   "execution_count": 26,
   "metadata": {
    "dotnet_interactive": {
     "language": "csharp"
    },
    "polyglot_notebook": {
     "kernelName": "csharp"
    },
    "vscode": {
     "languageId": "polyglot-notebook"
    }
   },
   "outputs": [
    {
     "ename": "Error",
     "evalue": "(1,3): error CS1024: Preprocessor directive expected",
     "output_type": "error",
     "traceback": [
      "(1,3): error CS1024: Preprocessor directive expected"
     ]
    }
   ],
   "source": [
    "# checking data for missing values, if any\n",
    "prices.isna().sum()"
   ]
  },
  {
   "cell_type": "code",
   "execution_count": 27,
   "metadata": {
    "dotnet_interactive": {
     "language": "csharp"
    },
    "polyglot_notebook": {
     "kernelName": "csharp"
    },
    "vscode": {
     "languageId": "polyglot-notebook"
    }
   },
   "outputs": [
    {
     "ename": "Error",
     "evalue": "(1,3): error CS1024: Preprocessor directive expected",
     "output_type": "error",
     "traceback": [
      "(1,3): error CS1024: Preprocessor directive expected"
     ]
    }
   ],
   "source": [
    "# checking which row is missing values\n",
    "null_data = prices[prices.isnull().any(axis=1)]"
   ]
  },
  {
   "cell_type": "code",
   "execution_count": 28,
   "metadata": {
    "dotnet_interactive": {
     "language": "csharp"
    },
    "polyglot_notebook": {
     "kernelName": "csharp"
    },
    "vscode": {
     "languageId": "polyglot-notebook"
    }
   },
   "outputs": [
    {
     "ename": "Error",
     "evalue": "(1,1): error CS0103: The name 'null_data' does not exist in the current context",
     "output_type": "error",
     "traceback": [
      "(1,1): error CS0103: The name 'null_data' does not exist in the current context"
     ]
    }
   ],
   "source": [
    "null_data"
   ]
  },
  {
   "cell_type": "markdown",
   "metadata": {
    "dotnet_interactive": {
     "language": "csharp"
    },
    "polyglot_notebook": {
     "kernelName": "csharp"
    }
   },
   "source": [
    "This row is created as a result of the move from winter time to summer time"
   ]
  },
  {
   "cell_type": "code",
   "execution_count": 29,
   "metadata": {
    "dotnet_interactive": {
     "language": "csharp"
    },
    "polyglot_notebook": {
     "kernelName": "csharp"
    },
    "vscode": {
     "languageId": "polyglot-notebook"
    }
   },
   "outputs": [],
   "source": []
  },
  {
   "cell_type": "markdown",
   "metadata": {
    "dotnet_interactive": {
     "language": "csharp"
    },
    "polyglot_notebook": {
     "kernelName": "csharp"
    }
   },
   "source": [
    "### Aggregation of energy generation data"
   ]
  },
  {
   "cell_type": "code",
   "execution_count": 30,
   "metadata": {
    "dotnet_interactive": {
     "language": "csharp"
    },
    "polyglot_notebook": {
     "kernelName": "csharp"
    },
    "vscode": {
     "languageId": "polyglot-notebook"
    }
   },
   "outputs": [
    {
     "ename": "Error",
     "evalue": "(1,160): error CS1002: ; expected\r\n(2,160): error CS1002: ; expected\r\n(3,160): error CS1002: ; expected\r\n(4,160): error CS1002: ; expected",
     "output_type": "error",
     "traceback": [
      "(1,160): error CS1002: ; expected\r\n",
      "(2,160): error CS1002: ; expected\r\n",
      "(3,160): error CS1002: ; expected\r\n",
      "(4,160): error CS1002: ; expected"
     ]
    }
   ],
   "source": [
    "actual_generation_no1 = pd.read_csv(\"../datasets/wind_solar_fossil_biomass_and_others/NO1 Actual Generation per Production Type_202201010000-202301010000.csv\")\n",
    "actual_generation_no2 = pd.read_csv(\"../datasets/wind_solar_fossil_biomass_and_others/NO2 Actual Generation per Production Type_202201010000-202301010000.csv\")\n",
    "actual_generation_no3 = pd.read_csv(\"../datasets/wind_solar_fossil_biomass_and_others/NO3 Actual Generation per Production Type_202201010000-202301010000.csv\")\n",
    "actual_generation_no5 = pd.read_csv(\"../datasets/wind_solar_fossil_biomass_and_others/NO5 Actual Generation per Production Type_202201010000-202301010000.csv\")\n",
    "actual_generation_se3 = pd.read_csv(\"../datasets/wind_solar_fossil_biomass_and_others/SE3 Actual Generation per Production Type_202201010000-202301010000.csv\")"
   ]
  },
  {
   "cell_type": "code",
   "execution_count": 31,
   "metadata": {
    "dotnet_interactive": {
     "language": "csharp"
    },
    "polyglot_notebook": {
     "kernelName": "csharp"
    },
    "vscode": {
     "languageId": "polyglot-notebook"
    }
   },
   "outputs": [
    {
     "ename": "Error",
     "evalue": "(1,1): error CS0103: The name 'actual_generation_no1' does not exist in the current context",
     "output_type": "error",
     "traceback": [
      "(1,1): error CS0103: The name 'actual_generation_no1' does not exist in the current context"
     ]
    }
   ],
   "source": [
    "actual_generation_no1.head()"
   ]
  },
  {
   "cell_type": "code",
   "execution_count": 32,
   "metadata": {
    "dotnet_interactive": {
     "language": "csharp"
    },
    "polyglot_notebook": {
     "kernelName": "csharp"
    },
    "vscode": {
     "languageId": "polyglot-notebook"
    }
   },
   "outputs": [
    {
     "ename": "Error",
     "evalue": "(1,33): error CS1525: Invalid expression term '['\r\n(1,34): error CS1012: Too many characters in character literal\r\n(1,41): error CS1012: Too many characters in character literal\r\n(1,58): error CS1012: Too many characters in character literal\r\n(1,79): error CS1012: Too many characters in character literal\r\n(1,118): error CS1012: Too many characters in character literal\r\n(1,155): error CS1012: Too many characters in character literal\r\n(1,179): error CS1012: Too many characters in character literal\r\n(1,209): error CS1012: Too many characters in character literal\r\n(1,233): error CS1012: Too many characters in character literal\r\n(1,263): error CS1012: Too many characters in character literal\r\n(1,288): error CS1012: Too many characters in character literal\r\n(1,312): error CS1012: Too many characters in character literal\r\n(1,356): error CS1012: Too many characters in character literal\r\n(1,402): error CS1012: Too many characters in character literal\r\n(1,447): error CS1012: Too many characters in character literal\r\n(1,482): error CS1012: Too many characters in character literal\r\n(1,502): error CS1012: Too many characters in character literal\r\n(1,523): error CS1012: Too many characters in character literal\r\n(1,542): error CS1012: Too many characters in character literal\r\n(1,571): error CS1012: Too many characters in character literal\r\n(1,590): error CS1012: Too many characters in character literal\r\n(1,609): error CS1012: Too many characters in character literal\r\n(1,636): error CS1012: Too many characters in character literal\r\n(1,661): error CS1002: ; expected\r\n(2,33): error CS1525: Invalid expression term '['\r\n(2,34): error CS1012: Too many characters in character literal\r\n(2,41): error CS1012: Too many characters in character literal\r\n(2,58): error CS1012: Too many characters in character literal\r\n(2,79): error CS1012: Too many characters in character literal\r\n(2,118): error CS1012: Too many characters in character literal\r\n(2,155): error CS1012: Too many characters in character literal\r\n(2,179): error CS1012: Too many characters in character literal\r\n(2,209): error CS1012: Too many characters in character literal\r\n(2,233): error CS1012: Too many characters in character literal\r\n(2,263): error CS1012: Too many characters in character literal\r\n(2,288): error CS1012: Too many characters in character literal\r\n(2,312): error CS1012: Too many characters in character literal\r\n(2,356): error CS1012: Too many characters in character literal\r\n(2,402): error CS1012: Too many characters in character literal\r\n(2,447): error CS1012: Too many characters in character literal\r\n(2,482): error CS1012: Too many characters in character literal\r\n(2,502): error CS1012: Too many characters in character literal\r\n(2,523): error CS1012: Too many characters in character literal\r\n(2,542): error CS1012: Too many characters in character literal\r\n(2,571): error CS1012: Too many characters in character literal\r\n(2,590): error CS1012: Too many characters in character literal\r\n(2,609): error CS1012: Too many characters in character literal\r\n(2,636): error CS1012: Too many characters in character literal\r\n(2,661): error CS1002: ; expected\r\n(3,33): error CS1525: Invalid expression term '['\r\n(3,34): error CS1012: Too many characters in character literal\r\n(3,41): error CS1012: Too many characters in character literal\r\n(3,58): error CS1012: Too many characters in character literal\r\n(3,79): error CS1012: Too many characters in character literal\r\n(3,118): error CS1012: Too many characters in character literal\r\n(3,155): error CS1012: Too many characters in character literal\r\n(3,179): error CS1012: Too many characters in character literal\r\n(3,209): error CS1012: Too many characters in character literal\r\n(3,233): error CS1012: Too many characters in character literal\r\n(3,263): error CS1012: Too many characters in character literal\r\n(3,288): error CS1012: Too many characters in character literal\r\n(3,312): error CS1012: Too many characters in character literal\r\n(3,356): error CS1012: Too many characters in character literal\r\n(3,402): error CS1012: Too many characters in character literal\r\n(3,447): error CS1012: Too many characters in character literal\r\n(3,482): error CS1012: Too many characters in character literal\r\n(3,502): error CS1012: Too many characters in character literal\r\n(3,523): error CS1012: Too many characters in character literal\r\n(3,542): error CS1012: Too many characters in character literal\r\n(3,571): error CS1012: Too many characters in character literal\r\n(3,590): error CS1012: Too many characters in character literal\r\n(3,609): error CS1012: Too many characters in character literal\r\n(3,636): error CS1012: Too many characters in character literal\r\n(3,661): error CS1002: ; expected\r\n(4,33): error CS1525: Invalid expression term '['\r\n(4,34): error CS1012: Too many characters in character literal\r\n(4,41): error CS1012: Too many characters in character literal\r\n(4,58): error CS1012: Too many characters in character literal\r\n(4,79): error CS1012: Too many characters in character literal\r\n(4,118): error CS1012: Too many characters in character literal\r\n(4,155): error CS1012: Too many characters in character literal\r\n(4,179): error CS1012: Too many characters in character literal\r\n(4,209): error CS1012: Too many characters in character literal\r\n(4,233): error CS1012: Too many characters in character literal\r\n(4,263): error CS1012: Too many characters in character literal\r\n(4,288): error CS1012: Too many characters in character literal\r\n(4,312): error CS1012: Too many characters in character literal\r\n(4,356): error CS1012: Too many characters in character literal\r\n(4,402): error CS1012: Too many characters in character literal\r\n(4,447): error CS1012: Too many characters in character literal\r\n(4,482): error CS1012: Too many characters in character literal\r\n(4,502): error CS1012: Too many characters in character literal\r\n(4,523): error CS1012: Too many characters in character literal\r\n(4,542): error CS1012: Too many characters in character literal\r\n(4,571): error CS1012: Too many characters in character literal\r\n(4,590): error CS1012: Too many characters in character literal\r\n(4,609): error CS1012: Too many characters in character literal\r\n(4,636): error CS1012: Too many characters in character literal\r\n(4,661): error CS1002: ; expected\r\n(5,33): error CS1525: Invalid expression term '['\r\n(5,34): error CS1012: Too many characters in character literal\r\n(5,41): error CS1012: Too many characters in character literal\r\n(5,58): error CS1012: Too many characters in character literal\r\n(5,79): error CS1012: Too many characters in character literal\r\n(5,118): error CS1012: Too many characters in character literal\r\n(5,155): error CS1012: Too many characters in character literal\r\n(5,179): error CS1012: Too many characters in character literal\r\n(5,209): error CS1012: Too many characters in character literal\r\n(5,233): error CS1012: Too many characters in character literal\r\n(5,263): error CS1012: Too many characters in character literal\r\n(5,288): error CS1012: Too many characters in character literal\r\n(5,312): error CS1012: Too many characters in character literal\r\n(5,356): error CS1012: Too many characters in character literal\r\n(5,402): error CS1012: Too many characters in character literal\r\n(5,447): error CS1012: Too many characters in character literal\r\n(5,482): error CS1012: Too many characters in character literal\r\n(5,502): error CS1012: Too many characters in character literal\r\n(5,523): error CS1012: Too many characters in character literal\r\n(5,542): error CS1012: Too many characters in character literal\r\n(5,571): error CS1012: Too many characters in character literal\r\n(5,590): error CS1012: Too many characters in character literal\r\n(5,609): error CS1012: Too many characters in character literal\r\n(5,636): error CS1012: Too many characters in character literal\r\n(5,661): error CS1002: ; expected",
     "output_type": "error",
     "traceback": [
      "(1,33): error CS1525: Invalid expression term '['\r\n",
      "(1,34): error CS1012: Too many characters in character literal\r\n",
      "(1,41): error CS1012: Too many characters in character literal\r\n",
      "(1,58): error CS1012: Too many characters in character literal\r\n",
      "(1,79): error CS1012: Too many characters in character literal\r\n",
      "(1,118): error CS1012: Too many characters in character literal\r\n",
      "(1,155): error CS1012: Too many characters in character literal\r\n",
      "(1,179): error CS1012: Too many characters in character literal\r\n",
      "(1,209): error CS1012: Too many characters in character literal\r\n",
      "(1,233): error CS1012: Too many characters in character literal\r\n",
      "(1,263): error CS1012: Too many characters in character literal\r\n",
      "(1,288): error CS1012: Too many characters in character literal\r\n",
      "(1,312): error CS1012: Too many characters in character literal\r\n",
      "(1,356): error CS1012: Too many characters in character literal\r\n",
      "(1,402): error CS1012: Too many characters in character literal\r\n",
      "(1,447): error CS1012: Too many characters in character literal\r\n",
      "(1,482): error CS1012: Too many characters in character literal\r\n",
      "(1,502): error CS1012: Too many characters in character literal\r\n",
      "(1,523): error CS1012: Too many characters in character literal\r\n",
      "(1,542): error CS1012: Too many characters in character literal\r\n",
      "(1,571): error CS1012: Too many characters in character literal\r\n",
      "(1,590): error CS1012: Too many characters in character literal\r\n",
      "(1,609): error CS1012: Too many characters in character literal\r\n",
      "(1,636): error CS1012: Too many characters in character literal\r\n",
      "(1,661): error CS1002: ; expected\r\n",
      "(2,33): error CS1525: Invalid expression term '['\r\n",
      "(2,34): error CS1012: Too many characters in character literal\r\n",
      "(2,41): error CS1012: Too many characters in character literal\r\n",
      "(2,58): error CS1012: Too many characters in character literal\r\n",
      "(2,79): error CS1012: Too many characters in character literal\r\n",
      "(2,118): error CS1012: Too many characters in character literal\r\n",
      "(2,155): error CS1012: Too many characters in character literal\r\n",
      "(2,179): error CS1012: Too many characters in character literal\r\n",
      "(2,209): error CS1012: Too many characters in character literal\r\n",
      "(2,233): error CS1012: Too many characters in character literal\r\n",
      "(2,263): error CS1012: Too many characters in character literal\r\n",
      "(2,288): error CS1012: Too many characters in character literal\r\n",
      "(2,312): error CS1012: Too many characters in character literal\r\n",
      "(2,356): error CS1012: Too many characters in character literal\r\n",
      "(2,402): error CS1012: Too many characters in character literal\r\n",
      "(2,447): error CS1012: Too many characters in character literal\r\n",
      "(2,482): error CS1012: Too many characters in character literal\r\n",
      "(2,502): error CS1012: Too many characters in character literal\r\n",
      "(2,523): error CS1012: Too many characters in character literal\r\n",
      "(2,542): error CS1012: Too many characters in character literal\r\n",
      "(2,571): error CS1012: Too many characters in character literal\r\n",
      "(2,590): error CS1012: Too many characters in character literal\r\n",
      "(2,609): error CS1012: Too many characters in character literal\r\n",
      "(2,636): error CS1012: Too many characters in character literal\r\n",
      "(2,661): error CS1002: ; expected\r\n",
      "(3,33): error CS1525: Invalid expression term '['\r\n",
      "(3,34): error CS1012: Too many characters in character literal\r\n",
      "(3,41): error CS1012: Too many characters in character literal\r\n",
      "(3,58): error CS1012: Too many characters in character literal\r\n",
      "(3,79): error CS1012: Too many characters in character literal\r\n",
      "(3,118): error CS1012: Too many characters in character literal\r\n",
      "(3,155): error CS1012: Too many characters in character literal\r\n",
      "(3,179): error CS1012: Too many characters in character literal\r\n",
      "(3,209): error CS1012: Too many characters in character literal\r\n",
      "(3,233): error CS1012: Too many characters in character literal\r\n",
      "(3,263): error CS1012: Too many characters in character literal\r\n",
      "(3,288): error CS1012: Too many characters in character literal\r\n",
      "(3,312): error CS1012: Too many characters in character literal\r\n",
      "(3,356): error CS1012: Too many characters in character literal\r\n",
      "(3,402): error CS1012: Too many characters in character literal\r\n",
      "(3,447): error CS1012: Too many characters in character literal\r\n",
      "(3,482): error CS1012: Too many characters in character literal\r\n",
      "(3,502): error CS1012: Too many characters in character literal\r\n",
      "(3,523): error CS1012: Too many characters in character literal\r\n",
      "(3,542): error CS1012: Too many characters in character literal\r\n",
      "(3,571): error CS1012: Too many characters in character literal\r\n",
      "(3,590): error CS1012: Too many characters in character literal\r\n",
      "(3,609): error CS1012: Too many characters in character literal\r\n",
      "(3,636): error CS1012: Too many characters in character literal\r\n",
      "(3,661): error CS1002: ; expected\r\n",
      "(4,33): error CS1525: Invalid expression term '['\r\n",
      "(4,34): error CS1012: Too many characters in character literal\r\n",
      "(4,41): error CS1012: Too many characters in character literal\r\n",
      "(4,58): error CS1012: Too many characters in character literal\r\n",
      "(4,79): error CS1012: Too many characters in character literal\r\n",
      "(4,118): error CS1012: Too many characters in character literal\r\n",
      "(4,155): error CS1012: Too many characters in character literal\r\n",
      "(4,179): error CS1012: Too many characters in character literal\r\n",
      "(4,209): error CS1012: Too many characters in character literal\r\n",
      "(4,233): error CS1012: Too many characters in character literal\r\n",
      "(4,263): error CS1012: Too many characters in character literal\r\n",
      "(4,288): error CS1012: Too many characters in character literal\r\n",
      "(4,312): error CS1012: Too many characters in character literal\r\n",
      "(4,356): error CS1012: Too many characters in character literal\r\n",
      "(4,402): error CS1012: Too many characters in character literal\r\n",
      "(4,447): error CS1012: Too many characters in character literal\r\n",
      "(4,482): error CS1012: Too many characters in character literal\r\n",
      "(4,502): error CS1012: Too many characters in character literal\r\n",
      "(4,523): error CS1012: Too many characters in character literal\r\n",
      "(4,542): error CS1012: Too many characters in character literal\r\n",
      "(4,571): error CS1012: Too many characters in character literal\r\n",
      "(4,590): error CS1012: Too many characters in character literal\r\n",
      "(4,609): error CS1012: Too many characters in character literal\r\n",
      "(4,636): error CS1012: Too many characters in character literal\r\n",
      "(4,661): error CS1002: ; expected\r\n",
      "(5,33): error CS1525: Invalid expression term '['\r\n",
      "(5,34): error CS1012: Too many characters in character literal\r\n",
      "(5,41): error CS1012: Too many characters in character literal\r\n",
      "(5,58): error CS1012: Too many characters in character literal\r\n",
      "(5,79): error CS1012: Too many characters in character literal\r\n",
      "(5,118): error CS1012: Too many characters in character literal\r\n",
      "(5,155): error CS1012: Too many characters in character literal\r\n",
      "(5,179): error CS1012: Too many characters in character literal\r\n",
      "(5,209): error CS1012: Too many characters in character literal\r\n",
      "(5,233): error CS1012: Too many characters in character literal\r\n",
      "(5,263): error CS1012: Too many characters in character literal\r\n",
      "(5,288): error CS1012: Too many characters in character literal\r\n",
      "(5,312): error CS1012: Too many characters in character literal\r\n",
      "(5,356): error CS1012: Too many characters in character literal\r\n",
      "(5,402): error CS1012: Too many characters in character literal\r\n",
      "(5,447): error CS1012: Too many characters in character literal\r\n",
      "(5,482): error CS1012: Too many characters in character literal\r\n",
      "(5,502): error CS1012: Too many characters in character literal\r\n",
      "(5,523): error CS1012: Too many characters in character literal\r\n",
      "(5,542): error CS1012: Too many characters in character literal\r\n",
      "(5,571): error CS1012: Too many characters in character literal\r\n",
      "(5,590): error CS1012: Too many characters in character literal\r\n",
      "(5,609): error CS1012: Too many characters in character literal\r\n",
      "(5,636): error CS1012: Too many characters in character literal\r\n",
      "(5,661): error CS1002: ; expected"
     ]
    }
   ],
   "source": [
    "actual_generation_no1.columns = ['Area','MTU (CET/CEST)','Biomass - BZN|NO1', 'Fossil Brown coal/Lignite - BZN|NO1', 'Fossil Coal-derived gas - BZN|NO1', 'Fossil Gas - BZN|NO1', 'Fossil Hard coal - BZN|NO1', 'Fossil Oil - BZN|NO1', 'Fossil Oil shale - BZN|NO1', 'Fossil Peat - BZN|NO1', 'Geothermal - BZN|NO1', 'Hydro Pumped Storage Aggregated- BZN|NO1', 'Hydro Pumped Storage Consumption - BZN|NO1', 'Hydro Run-of-river and poundage - BZN|NO1', 'Hydro Water Reservoir - BZN|NO1', 'Marine - BZN|NO1', 'Nuclear - BZN|NO1', 'Other - BZN|NO1', 'Other renewable - BZN|NO1', 'Solar - BZN|NO1', 'Waste - BZN|NO1', 'Wind Offshore - BZN|NO1', 'Wind Onshore - BZN|NO1']\n",
    "actual_generation_no2.columns = ['Area','MTU (CET/CEST)','Biomass - BZN|NO2', 'Fossil Brown coal/Lignite - BZN|NO2', 'Fossil Coal-derived gas - BZN|NO2', 'Fossil Gas - BZN|NO2', 'Fossil Hard coal - BZN|NO2', 'Fossil Oil - BZN|NO2', 'Fossil Oil shale - BZN|NO2', 'Fossil Peat - BZN|NO2', 'Geothermal - BZN|NO2', 'Hydro Pumped Storage Aggregated- BZN|NO2', 'Hydro Pumped Storage Consumption - BZN|NO2', 'Hydro Run-of-river and poundage - BZN|NO1', 'Hydro Water Reservoir - BZN|NO2', 'Marine - BZN|NO2', 'Nuclear - BZN|NO2', 'Other - BZN|NO2', 'Other renewable - BZN|NO2', 'Solar - BZN|NO2', 'Waste - BZN|NO2', 'Wind Offshore - BZN|NO2', 'Wind Onshore - BZN|NO2']\n",
    "actual_generation_no3.columns = ['Area','MTU (CET/CEST)','Biomass - BZN|NO3', 'Fossil Brown coal/Lignite - BZN|NO3', 'Fossil Coal-derived gas - BZN|NO3', 'Fossil Gas - BZN|NO3', 'Fossil Hard coal - BZN|NO3', 'Fossil Oil - BZN|NO3', 'Fossil Oil shale - BZN|NO3', 'Fossil Peat - BZN|NO3', 'Geothermal - BZN|NO3', 'Hydro Pumped Storage Aggregated- BZN|NO3', 'Hydro Pumped Storage Consumption - BZN|NO3', 'Hydro Run-of-river and poundage - BZN|NO3', 'Hydro Water Reservoir - BZN|NO3', 'Marine - BZN|NO3', 'Nuclear - BZN|NO3', 'Other - BZN|NO3', 'Other renewable - BZN|NO3', 'Solar - BZN|NO3', 'Waste - BZN|NO3', 'Wind Offshore - BZN|NO3', 'Wind Onshore - BZN|NO3']\n",
    "actual_generation_no5.columns = ['Area','MTU (CET/CEST)','Biomass - BZN|NO5', 'Fossil Brown coal/Lignite - BZN|NO5', 'Fossil Coal-derived gas - BZN|NO5', 'Fossil Gas - BZN|NO5', 'Fossil Hard coal - BZN|NO5', 'Fossil Oil - BZN|NO5', 'Fossil Oil shale - BZN|NO5', 'Fossil Peat - BZN|NO5', 'Geothermal - BZN|NO5', 'Hydro Pumped Storage Aggregated- BZN|NO5', 'Hydro Pumped Storage Consumption - BZN|NO5', 'Hydro Run-of-river and poundage - BZN|NO5', 'Hydro Water Reservoir - BZN|NO5', 'Marine - BZN|NO5', 'Nuclear - BZN|NO5', 'Other - BZN|NO5', 'Other renewable - BZN|NO5', 'Solar - BZN|NO5', 'Waste - BZN|NO5', 'Wind Offshore - BZN|NO5', 'Wind Onshore - BZN|NO5']\n",
    "actual_generation_se3.columns = ['Area','MTU (CET/CEST)','Biomass - BZN|SE3', 'Fossil Brown coal/Lignite - BZN|SE3', 'Fossil Coal-derived gas - BZN|SE3', 'Fossil Gas - BZN|SE3', 'Fossil Hard coal - BZN|SE3', 'Fossil Oil - BZN|SE3', 'Fossil Oil shale - BZN|SE3', 'Fossil Peat - BZN|SE3', 'Geothermal - BZN|SE3', 'Hydro Pumped Storage Aggregated- BZN|SE3', 'Hydro Pumped Storage Consumption - BZN|SE3', 'Hydro Run-of-river and poundage - BZN|SE3', 'Hydro Water Reservoir - BZN|SE3', 'Marine - BZN|SE3', 'Nuclear - BZN|SE3', 'Other - BZN|SE3', 'Other renewable - BZN|SE3', 'Solar - BZN|SE3', 'Waste - BZN|SE3', 'Wind Offshore - BZN|SE3', 'Wind Onshore - BZN|SE3']\n",
    "actual_generation_no1.head()"
   ]
  },
  {
   "cell_type": "code",
   "execution_count": 33,
   "metadata": {
    "dotnet_interactive": {
     "language": "csharp"
    },
    "polyglot_notebook": {
     "kernelName": "csharp"
    },
    "vscode": {
     "languageId": "polyglot-notebook"
    }
   },
   "outputs": [
    {
     "ename": "Error",
     "evalue": "(1,3): error CS1024: Preprocessor directive expected\r\n(2,52): error CS1026: ) expected\r\n(2,53): error CS1012: Too many characters in character literal\r\n(2,60): error CS1002: ; expected\r\n(2,60): error CS7017: Member definition, statement, or end-of-file expected\r\n(2,68): error CS1002: ; expected\r\n(2,68): error CS7017: Member definition, statement, or end-of-file expected\r\n(3,52): error CS1026: ) expected\r\n(3,53): error CS1012: Too many characters in character literal\r\n(3,60): error CS1002: ; expected\r\n(3,60): error CS7017: Member definition, statement, or end-of-file expected\r\n(3,68): error CS1002: ; expected\r\n(3,68): error CS7017: Member definition, statement, or end-of-file expected\r\n(4,52): error CS1026: ) expected\r\n(4,53): error CS1012: Too many characters in character literal\r\n(4,60): error CS1002: ; expected\r\n(4,60): error CS7017: Member definition, statement, or end-of-file expected\r\n(4,68): error CS1002: ; expected\r\n(4,68): error CS7017: Member definition, statement, or end-of-file expected\r\n(5,52): error CS1026: ) expected\r\n(5,53): error CS1012: Too many characters in character literal\r\n(5,60): error CS1002: ; expected\r\n(5,60): error CS7017: Member definition, statement, or end-of-file expected\r\n(5,68): error CS1002: ; expected\r\n(5,68): error CS7017: Member definition, statement, or end-of-file expected\r\n(6,52): error CS1026: ) expected\r\n(6,53): error CS1012: Too many characters in character literal\r\n(6,60): error CS1002: ; expected\r\n(6,60): error CS7017: Member definition, statement, or end-of-file expected\r\n(6,68): error CS1002: ; expected\r\n(6,68): error CS7017: Member definition, statement, or end-of-file expected",
     "output_type": "error",
     "traceback": [
      "(1,3): error CS1024: Preprocessor directive expected\r\n",
      "(2,52): error CS1026: ) expected\r\n",
      "(2,53): error CS1012: Too many characters in character literal\r\n",
      "(2,60): error CS1002: ; expected\r\n",
      "(2,60): error CS7017: Member definition, statement, or end-of-file expected\r\n",
      "(2,68): error CS1002: ; expected\r\n",
      "(2,68): error CS7017: Member definition, statement, or end-of-file expected\r\n",
      "(3,52): error CS1026: ) expected\r\n",
      "(3,53): error CS1012: Too many characters in character literal\r\n",
      "(3,60): error CS1002: ; expected\r\n",
      "(3,60): error CS7017: Member definition, statement, or end-of-file expected\r\n",
      "(3,68): error CS1002: ; expected\r\n",
      "(3,68): error CS7017: Member definition, statement, or end-of-file expected\r\n",
      "(4,52): error CS1026: ) expected\r\n",
      "(4,53): error CS1012: Too many characters in character literal\r\n",
      "(4,60): error CS1002: ; expected\r\n",
      "(4,60): error CS7017: Member definition, statement, or end-of-file expected\r\n",
      "(4,68): error CS1002: ; expected\r\n",
      "(4,68): error CS7017: Member definition, statement, or end-of-file expected\r\n",
      "(5,52): error CS1026: ) expected\r\n",
      "(5,53): error CS1012: Too many characters in character literal\r\n",
      "(5,60): error CS1002: ; expected\r\n",
      "(5,60): error CS7017: Member definition, statement, or end-of-file expected\r\n",
      "(5,68): error CS1002: ; expected\r\n",
      "(5,68): error CS7017: Member definition, statement, or end-of-file expected\r\n",
      "(6,52): error CS1026: ) expected\r\n",
      "(6,53): error CS1012: Too many characters in character literal\r\n",
      "(6,60): error CS1002: ; expected\r\n",
      "(6,60): error CS7017: Member definition, statement, or end-of-file expected\r\n",
      "(6,68): error CS1002: ; expected\r\n",
      "(6,68): error CS7017: Member definition, statement, or end-of-file expected"
     ]
    }
   ],
   "source": [
    "# Dropping area because we keep them as separate columns\n",
    "actual_generation_no1 = actual_generation_no1.drop(['Area'], axis=1)\n",
    "actual_generation_no2 = actual_generation_no2.drop(['Area'], axis=1)\n",
    "actual_generation_no3 = actual_generation_no3.drop(['Area'], axis=1)\n",
    "actual_generation_no5 = actual_generation_no5.drop(['Area'], axis=1)\n",
    "actual_generation_se3 = actual_generation_se3.drop(['Area'], axis=1)\n",
    "actual_generation_no1.head()"
   ]
  },
  {
   "cell_type": "code",
   "execution_count": 34,
   "metadata": {
    "dotnet_interactive": {
     "language": "csharp"
    },
    "polyglot_notebook": {
     "kernelName": "csharp"
    },
    "vscode": {
     "languageId": "polyglot-notebook"
    }
   },
   "outputs": [
    {
     "ename": "Error",
     "evalue": "(1,32): error CS1525: Invalid expression term '['\r\n(1,147): error CS1002: ; expected\r\n(2,35): error CS1003: Syntax error, ',' expected\r\n(2,72): error CS1525: Invalid expression term '['\r\n(2,73): error CS1012: Too many characters in character literal\r\n(2,122): error CS1002: ; expected",
     "output_type": "error",
     "traceback": [
      "(1,32): error CS1525: Invalid expression term '['\r\n",
      "(1,147): error CS1002: ; expected\r\n",
      "(2,35): error CS1003: Syntax error, ',' expected\r\n",
      "(2,72): error CS1525: Invalid expression term '['\r\n",
      "(2,73): error CS1012: Too many characters in character literal\r\n",
      "(2,122): error CS1002: ; expected"
     ]
    }
   ],
   "source": [
    "actual_generation_dataframes = [actual_generation_no1, actual_generation_no2, actual_generation_no3, actual_generation_no5, actual_generation_se3]\n",
    "actual_generation = reduce(lambda left, right: pd.merge(left,right, on=['MTU (CET/CEST)']), actual_generation_dataframes)\n",
    "\n",
    "actual_generation.head()"
   ]
  },
  {
   "cell_type": "code",
   "execution_count": 35,
   "metadata": {
    "dotnet_interactive": {
     "language": "csharp"
    },
    "polyglot_notebook": {
     "kernelName": "csharp"
    },
    "vscode": {
     "languageId": "polyglot-notebook"
    }
   },
   "outputs": [],
   "source": []
  },
  {
   "attachments": {},
   "cell_type": "markdown",
   "metadata": {
    "dotnet_interactive": {
     "language": "csharp"
    },
    "polyglot_notebook": {
     "kernelName": "csharp"
    }
   },
   "source": [
    "### Aggregation of Water Reservoirs and Hydro Storage Plants"
   ]
  },
  {
   "cell_type": "code",
   "execution_count": 36,
   "metadata": {
    "dotnet_interactive": {
     "language": "csharp"
    },
    "polyglot_notebook": {
     "kernelName": "csharp"
    },
    "vscode": {
     "languageId": "polyglot-notebook"
    }
   },
   "outputs": [],
   "source": [
    "stored_energy_value_no1 = \n",
    "stored_energy_value_no2 =\n",
    "stored_energy_value_no3 =\n",
    "stored_energy_value_no5 =\n",
    "stored_energy_value_se3 =\n"
   ]
  }
 ],
 "metadata": {
  "kernelspec": {
   "display_name": ".NET (C#)",
   "language": "C#",
   "name": ".net-csharp"
  },
  "polyglot_notebook": {
   "kernelInfo": {
    "defaultKernelName": "csharp",
    "items": [
     {
      "aliases": [
       "c#",
       "C#"
      ],
      "languageName": "C#",
      "name": "csharp"
     },
     {
      "aliases": [
       "frontend"
      ],
      "languageName": null,
      "name": "vscode"
     }
    ]
   }
  }
 },
 "nbformat": 4,
 "nbformat_minor": 2
}
