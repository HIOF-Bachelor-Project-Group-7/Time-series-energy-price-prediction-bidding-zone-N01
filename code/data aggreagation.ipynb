{
 "cells": [
  {
   "cell_type": "markdown",
   "id": "5b87d25b",
   "metadata": {
    "pycharm": {
     "name": "#%% md\n"
    }
   },
   "source": [
    "## Data aggregation of energy market prices in bidding zone N01 (Norway Østlandet) and neighbouring zones for the year of 2022"
   ]
  },
  {
   "cell_type": "markdown",
   "id": "2eb69a78",
   "metadata": {
    "pycharm": {
     "name": "#%% md\n"
    }
   },
   "source": [
    "### dependencies"
   ]
  },
  {
   "cell_type": "code",
   "execution_count": 87,
   "id": "5d5de126",
   "metadata": {
    "pycharm": {
     "name": "#%%\n"
    }
   },
   "outputs": [],
   "source": [
    "# importing dependencies to aggregate dataset\n",
    "import pandas as pd # data processing, CSV file I/O (e.g. pd.read_csv)\n",
    "\n",
    "from functools import reduce # used to merge the dataset"
   ]
  },
  {
   "cell_type": "markdown",
   "id": "21a8d1fd",
   "metadata": {
    "pycharm": {
     "name": "#%% md\n"
    }
   },
   "source": [
    "### importing price data from each zone"
   ]
  },
  {
   "cell_type": "code",
   "execution_count": 88,
   "id": "9bd79e8c",
   "metadata": {
    "pycharm": {
     "name": "#%%\n"
    }
   },
   "outputs": [],
   "source": [
    "prices_no1 = pd.read_csv(\"../datasets/prices/NO1 Day-ahead Prices_202201010000-202301010000.csv\")\n",
    "prices_no2 = pd.read_csv(\"../datasets/prices/NO2 Day-ahead Prices_202201010000-202301010000.csv\")\n",
    "prices_no3 = pd.read_csv(\"../datasets/prices/NO3 Day-ahead Prices_202201010000-202301010000.csv\")\n",
    "prices_no5 = pd.read_csv(\"../datasets/prices/NO5 Day-ahead Prices_202201010000-202301010000.csv\")\n",
    "prices_se3 = pd.read_csv(\"../datasets/prices/SE3 Day-ahead Prices_202201010000-202301010000.csv\")"
   ]
  },
  {
   "cell_type": "markdown",
   "id": "3067050c",
   "metadata": {
    "pycharm": {
     "name": "#%% md\n"
    }
   },
   "source": [
    "Printing out first rows of each dataset to see the structure"
   ]
  },
  {
   "cell_type": "code",
   "execution_count": 89,
   "id": "e6202e1c",
   "metadata": {
    "pycharm": {
     "name": "#%%\n"
    }
   },
   "outputs": [
    {
     "data": {
      "text/plain": "                        MTU (CET/CEST)  Day-ahead Price [EUR/MWh] Currency  \\\n0  01.01.2022 00:00 - 01.01.2022 01:00                     132.89      EUR   \n1  01.01.2022 01:00 - 01.01.2022 02:00                     129.30      EUR   \n2  01.01.2022 02:00 - 01.01.2022 03:00                     132.08      EUR   \n3  01.01.2022 03:00 - 01.01.2022 04:00                     111.44      EUR   \n4  01.01.2022 04:00 - 01.01.2022 05:00                     112.35      EUR   \n\n   BZN|NO1  \n0      NaN  \n1      NaN  \n2      NaN  \n3      NaN  \n4      NaN  ",
      "text/html": "<div>\n<style scoped>\n    .dataframe tbody tr th:only-of-type {\n        vertical-align: middle;\n    }\n\n    .dataframe tbody tr th {\n        vertical-align: top;\n    }\n\n    .dataframe thead th {\n        text-align: right;\n    }\n</style>\n<table border=\"1\" class=\"dataframe\">\n  <thead>\n    <tr style=\"text-align: right;\">\n      <th></th>\n      <th>MTU (CET/CEST)</th>\n      <th>Day-ahead Price [EUR/MWh]</th>\n      <th>Currency</th>\n      <th>BZN|NO1</th>\n    </tr>\n  </thead>\n  <tbody>\n    <tr>\n      <th>0</th>\n      <td>01.01.2022 00:00 - 01.01.2022 01:00</td>\n      <td>132.89</td>\n      <td>EUR</td>\n      <td>NaN</td>\n    </tr>\n    <tr>\n      <th>1</th>\n      <td>01.01.2022 01:00 - 01.01.2022 02:00</td>\n      <td>129.30</td>\n      <td>EUR</td>\n      <td>NaN</td>\n    </tr>\n    <tr>\n      <th>2</th>\n      <td>01.01.2022 02:00 - 01.01.2022 03:00</td>\n      <td>132.08</td>\n      <td>EUR</td>\n      <td>NaN</td>\n    </tr>\n    <tr>\n      <th>3</th>\n      <td>01.01.2022 03:00 - 01.01.2022 04:00</td>\n      <td>111.44</td>\n      <td>EUR</td>\n      <td>NaN</td>\n    </tr>\n    <tr>\n      <th>4</th>\n      <td>01.01.2022 04:00 - 01.01.2022 05:00</td>\n      <td>112.35</td>\n      <td>EUR</td>\n      <td>NaN</td>\n    </tr>\n  </tbody>\n</table>\n</div>"
     },
     "execution_count": 89,
     "metadata": {},
     "output_type": "execute_result"
    }
   ],
   "source": [
    "prices_no1.head()"
   ]
  },
  {
   "cell_type": "code",
   "execution_count": 90,
   "id": "5edabdc5",
   "metadata": {
    "pycharm": {
     "name": "#%%\n"
    }
   },
   "outputs": [
    {
     "data": {
      "text/plain": "                        MTU (CET/CEST)  Day-ahead Price [EUR/MWh] Currency  \\\n0  01.01.2022 00:00 - 01.01.2022 01:00                     132.89      EUR   \n1  01.01.2022 01:00 - 01.01.2022 02:00                     129.30      EUR   \n2  01.01.2022 02:00 - 01.01.2022 03:00                     132.08      EUR   \n3  01.01.2022 03:00 - 01.01.2022 04:00                     111.44      EUR   \n4  01.01.2022 04:00 - 01.01.2022 05:00                     112.35      EUR   \n\n   BZN|NO2  \n0      NaN  \n1      NaN  \n2      NaN  \n3      NaN  \n4      NaN  ",
      "text/html": "<div>\n<style scoped>\n    .dataframe tbody tr th:only-of-type {\n        vertical-align: middle;\n    }\n\n    .dataframe tbody tr th {\n        vertical-align: top;\n    }\n\n    .dataframe thead th {\n        text-align: right;\n    }\n</style>\n<table border=\"1\" class=\"dataframe\">\n  <thead>\n    <tr style=\"text-align: right;\">\n      <th></th>\n      <th>MTU (CET/CEST)</th>\n      <th>Day-ahead Price [EUR/MWh]</th>\n      <th>Currency</th>\n      <th>BZN|NO2</th>\n    </tr>\n  </thead>\n  <tbody>\n    <tr>\n      <th>0</th>\n      <td>01.01.2022 00:00 - 01.01.2022 01:00</td>\n      <td>132.89</td>\n      <td>EUR</td>\n      <td>NaN</td>\n    </tr>\n    <tr>\n      <th>1</th>\n      <td>01.01.2022 01:00 - 01.01.2022 02:00</td>\n      <td>129.30</td>\n      <td>EUR</td>\n      <td>NaN</td>\n    </tr>\n    <tr>\n      <th>2</th>\n      <td>01.01.2022 02:00 - 01.01.2022 03:00</td>\n      <td>132.08</td>\n      <td>EUR</td>\n      <td>NaN</td>\n    </tr>\n    <tr>\n      <th>3</th>\n      <td>01.01.2022 03:00 - 01.01.2022 04:00</td>\n      <td>111.44</td>\n      <td>EUR</td>\n      <td>NaN</td>\n    </tr>\n    <tr>\n      <th>4</th>\n      <td>01.01.2022 04:00 - 01.01.2022 05:00</td>\n      <td>112.35</td>\n      <td>EUR</td>\n      <td>NaN</td>\n    </tr>\n  </tbody>\n</table>\n</div>"
     },
     "execution_count": 90,
     "metadata": {},
     "output_type": "execute_result"
    }
   ],
   "source": [
    "prices_no2.head()"
   ]
  },
  {
   "cell_type": "code",
   "execution_count": 91,
   "id": "371621b2",
   "metadata": {
    "pycharm": {
     "name": "#%%\n"
    }
   },
   "outputs": [
    {
     "data": {
      "text/plain": "                        MTU (CET/CEST)  Day-ahead Price [EUR/MWh] Currency  \\\n0  01.01.2022 00:00 - 01.01.2022 01:00                      46.60      EUR   \n1  01.01.2022 01:00 - 01.01.2022 02:00                      41.33      EUR   \n2  01.01.2022 02:00 - 01.01.2022 03:00                      42.18      EUR   \n3  01.01.2022 03:00 - 01.01.2022 04:00                      44.37      EUR   \n4  01.01.2022 04:00 - 01.01.2022 05:00                      37.67      EUR   \n\n   BZN|NO3  \n0      NaN  \n1      NaN  \n2      NaN  \n3      NaN  \n4      NaN  ",
      "text/html": "<div>\n<style scoped>\n    .dataframe tbody tr th:only-of-type {\n        vertical-align: middle;\n    }\n\n    .dataframe tbody tr th {\n        vertical-align: top;\n    }\n\n    .dataframe thead th {\n        text-align: right;\n    }\n</style>\n<table border=\"1\" class=\"dataframe\">\n  <thead>\n    <tr style=\"text-align: right;\">\n      <th></th>\n      <th>MTU (CET/CEST)</th>\n      <th>Day-ahead Price [EUR/MWh]</th>\n      <th>Currency</th>\n      <th>BZN|NO3</th>\n    </tr>\n  </thead>\n  <tbody>\n    <tr>\n      <th>0</th>\n      <td>01.01.2022 00:00 - 01.01.2022 01:00</td>\n      <td>46.60</td>\n      <td>EUR</td>\n      <td>NaN</td>\n    </tr>\n    <tr>\n      <th>1</th>\n      <td>01.01.2022 01:00 - 01.01.2022 02:00</td>\n      <td>41.33</td>\n      <td>EUR</td>\n      <td>NaN</td>\n    </tr>\n    <tr>\n      <th>2</th>\n      <td>01.01.2022 02:00 - 01.01.2022 03:00</td>\n      <td>42.18</td>\n      <td>EUR</td>\n      <td>NaN</td>\n    </tr>\n    <tr>\n      <th>3</th>\n      <td>01.01.2022 03:00 - 01.01.2022 04:00</td>\n      <td>44.37</td>\n      <td>EUR</td>\n      <td>NaN</td>\n    </tr>\n    <tr>\n      <th>4</th>\n      <td>01.01.2022 04:00 - 01.01.2022 05:00</td>\n      <td>37.67</td>\n      <td>EUR</td>\n      <td>NaN</td>\n    </tr>\n  </tbody>\n</table>\n</div>"
     },
     "execution_count": 91,
     "metadata": {},
     "output_type": "execute_result"
    }
   ],
   "source": [
    "prices_no3.head()"
   ]
  },
  {
   "cell_type": "code",
   "execution_count": 92,
   "id": "cb4f2009",
   "metadata": {
    "pycharm": {
     "name": "#%%\n"
    }
   },
   "outputs": [
    {
     "data": {
      "text/plain": "                        MTU (CET/CEST)  Day-ahead Price [EUR/MWh] Currency  \\\n0  01.01.2022 00:00 - 01.01.2022 01:00                     132.89      EUR   \n1  01.01.2022 01:00 - 01.01.2022 02:00                     129.30      EUR   \n2  01.01.2022 02:00 - 01.01.2022 03:00                     132.08      EUR   \n3  01.01.2022 03:00 - 01.01.2022 04:00                     111.44      EUR   \n4  01.01.2022 04:00 - 01.01.2022 05:00                     112.35      EUR   \n\n   BZN|NO5  \n0      NaN  \n1      NaN  \n2      NaN  \n3      NaN  \n4      NaN  ",
      "text/html": "<div>\n<style scoped>\n    .dataframe tbody tr th:only-of-type {\n        vertical-align: middle;\n    }\n\n    .dataframe tbody tr th {\n        vertical-align: top;\n    }\n\n    .dataframe thead th {\n        text-align: right;\n    }\n</style>\n<table border=\"1\" class=\"dataframe\">\n  <thead>\n    <tr style=\"text-align: right;\">\n      <th></th>\n      <th>MTU (CET/CEST)</th>\n      <th>Day-ahead Price [EUR/MWh]</th>\n      <th>Currency</th>\n      <th>BZN|NO5</th>\n    </tr>\n  </thead>\n  <tbody>\n    <tr>\n      <th>0</th>\n      <td>01.01.2022 00:00 - 01.01.2022 01:00</td>\n      <td>132.89</td>\n      <td>EUR</td>\n      <td>NaN</td>\n    </tr>\n    <tr>\n      <th>1</th>\n      <td>01.01.2022 01:00 - 01.01.2022 02:00</td>\n      <td>129.30</td>\n      <td>EUR</td>\n      <td>NaN</td>\n    </tr>\n    <tr>\n      <th>2</th>\n      <td>01.01.2022 02:00 - 01.01.2022 03:00</td>\n      <td>132.08</td>\n      <td>EUR</td>\n      <td>NaN</td>\n    </tr>\n    <tr>\n      <th>3</th>\n      <td>01.01.2022 03:00 - 01.01.2022 04:00</td>\n      <td>111.44</td>\n      <td>EUR</td>\n      <td>NaN</td>\n    </tr>\n    <tr>\n      <th>4</th>\n      <td>01.01.2022 04:00 - 01.01.2022 05:00</td>\n      <td>112.35</td>\n      <td>EUR</td>\n      <td>NaN</td>\n    </tr>\n  </tbody>\n</table>\n</div>"
     },
     "execution_count": 92,
     "metadata": {},
     "output_type": "execute_result"
    }
   ],
   "source": [
    "prices_no5.head()"
   ]
  },
  {
   "cell_type": "code",
   "execution_count": 93,
   "id": "aa7002e3",
   "metadata": {
    "pycharm": {
     "name": "#%%\n"
    }
   },
   "outputs": [
    {
     "data": {
      "text/plain": "                        MTU (CET/CEST)  Day-ahead Price [EUR/MWh] Currency  \\\n0  01.01.2022 00:00 - 01.01.2022 01:00                      46.60      EUR   \n1  01.01.2022 01:00 - 01.01.2022 02:00                      41.33      EUR   \n2  01.01.2022 02:00 - 01.01.2022 03:00                      42.18      EUR   \n3  01.01.2022 03:00 - 01.01.2022 04:00                      44.37      EUR   \n4  01.01.2022 04:00 - 01.01.2022 05:00                      37.67      EUR   \n\n   BZN|SE3  \n0      NaN  \n1      NaN  \n2      NaN  \n3      NaN  \n4      NaN  ",
      "text/html": "<div>\n<style scoped>\n    .dataframe tbody tr th:only-of-type {\n        vertical-align: middle;\n    }\n\n    .dataframe tbody tr th {\n        vertical-align: top;\n    }\n\n    .dataframe thead th {\n        text-align: right;\n    }\n</style>\n<table border=\"1\" class=\"dataframe\">\n  <thead>\n    <tr style=\"text-align: right;\">\n      <th></th>\n      <th>MTU (CET/CEST)</th>\n      <th>Day-ahead Price [EUR/MWh]</th>\n      <th>Currency</th>\n      <th>BZN|SE3</th>\n    </tr>\n  </thead>\n  <tbody>\n    <tr>\n      <th>0</th>\n      <td>01.01.2022 00:00 - 01.01.2022 01:00</td>\n      <td>46.60</td>\n      <td>EUR</td>\n      <td>NaN</td>\n    </tr>\n    <tr>\n      <th>1</th>\n      <td>01.01.2022 01:00 - 01.01.2022 02:00</td>\n      <td>41.33</td>\n      <td>EUR</td>\n      <td>NaN</td>\n    </tr>\n    <tr>\n      <th>2</th>\n      <td>01.01.2022 02:00 - 01.01.2022 03:00</td>\n      <td>42.18</td>\n      <td>EUR</td>\n      <td>NaN</td>\n    </tr>\n    <tr>\n      <th>3</th>\n      <td>01.01.2022 03:00 - 01.01.2022 04:00</td>\n      <td>44.37</td>\n      <td>EUR</td>\n      <td>NaN</td>\n    </tr>\n    <tr>\n      <th>4</th>\n      <td>01.01.2022 04:00 - 01.01.2022 05:00</td>\n      <td>37.67</td>\n      <td>EUR</td>\n      <td>NaN</td>\n    </tr>\n  </tbody>\n</table>\n</div>"
     },
     "execution_count": 93,
     "metadata": {},
     "output_type": "execute_result"
    }
   ],
   "source": [
    "prices_se3.head()"
   ]
  },
  {
   "cell_type": "markdown",
   "id": "e0619832",
   "metadata": {
    "pycharm": {
     "name": "#%% md\n"
    }
   },
   "source": [
    "### preperation for concatenation of the price data from the different zones:\n",
    "The common column values we will merge the data based on is the date time column \"MTU (CET/CEST)\". The column currency is redundant since the column that holds price already includes it in the column name. The currency column can therefore be dropped. The datasets have a colum name for which zone the data is from, but does not include any data for each entry. This information can be added to the column name for price and the column for zone can be dropped."
   ]
  },
  {
   "cell_type": "code",
   "execution_count": 94,
   "id": "762e0fbd",
   "metadata": {
    "pycharm": {
     "name": "#%%\n"
    }
   },
   "outputs": [],
   "source": [
    "# renaming price columns\n",
    "prices_no1 = prices_no1.rename(columns={'Day-ahead Price [EUR/MWh]': 'Day-ahead Price [EUR/MWh] BZN|NO1'})\n",
    "prices_no2 = prices_no2.rename(columns={'Day-ahead Price [EUR/MWh]': 'Day-ahead Price [EUR/MWh] BZN|NO2'})\n",
    "prices_no3 = prices_no3.rename(columns={'Day-ahead Price [EUR/MWh]': 'Day-ahead Price [EUR/MWh] BZN|NO3'})\n",
    "prices_no5 = prices_no5.rename(columns={'Day-ahead Price [EUR/MWh]': 'Day-ahead Price [EUR/MWh] BZN|NO5'})\n",
    "prices_se3 = prices_se3.rename(columns={'Day-ahead Price [EUR/MWh]': 'Day-ahead Price [EUR/MWh] BZN|SE3'})"
   ]
  },
  {
   "cell_type": "code",
   "execution_count": 95,
   "id": "0804485e",
   "metadata": {
    "pycharm": {
     "name": "#%%\n"
    }
   },
   "outputs": [],
   "source": [
    "# dropping redundant columns\n",
    "prices_no1= prices_no1.drop(['Currency', 'BZN|NO1'], axis=1)\n",
    "prices_no2= prices_no2.drop(['Currency', 'BZN|NO2'], axis=1)\n",
    "prices_no3= prices_no3.drop(['Currency', 'BZN|NO3'], axis=1)\n",
    "prices_no5= prices_no5.drop(['Currency', 'BZN|NO5'], axis=1)\n",
    "prices_se3= prices_se3.drop(['Currency', 'BZN|SE3'], axis=1)"
   ]
  },
  {
   "cell_type": "code",
   "execution_count": 96,
   "id": "abc1b34b",
   "metadata": {
    "pycharm": {
     "name": "#%%\n"
    }
   },
   "outputs": [
    {
     "data": {
      "text/plain": "                        MTU (CET/CEST)  Day-ahead Price [EUR/MWh] BZN|NO1  \\\n0  01.01.2022 00:00 - 01.01.2022 01:00                             132.89   \n1  01.01.2022 01:00 - 01.01.2022 02:00                             129.30   \n2  01.01.2022 02:00 - 01.01.2022 03:00                             132.08   \n3  01.01.2022 03:00 - 01.01.2022 04:00                             111.44   \n4  01.01.2022 04:00 - 01.01.2022 05:00                             112.35   \n\n   Day-ahead Price [EUR/MWh] BZN|NO2  Day-ahead Price [EUR/MWh] BZN|NO3  \\\n0                             132.89                              46.60   \n1                             129.30                              41.33   \n2                             132.08                              42.18   \n3                             111.44                              44.37   \n4                             112.35                              37.67   \n\n   Day-ahead Price [EUR/MWh] BZN|NO5  Day-ahead Price [EUR/MWh] BZN|SE3  \n0                             132.89                              46.60  \n1                             129.30                              41.33  \n2                             132.08                              42.18  \n3                             111.44                              44.37  \n4                             112.35                              37.67  ",
      "text/html": "<div>\n<style scoped>\n    .dataframe tbody tr th:only-of-type {\n        vertical-align: middle;\n    }\n\n    .dataframe tbody tr th {\n        vertical-align: top;\n    }\n\n    .dataframe thead th {\n        text-align: right;\n    }\n</style>\n<table border=\"1\" class=\"dataframe\">\n  <thead>\n    <tr style=\"text-align: right;\">\n      <th></th>\n      <th>MTU (CET/CEST)</th>\n      <th>Day-ahead Price [EUR/MWh] BZN|NO1</th>\n      <th>Day-ahead Price [EUR/MWh] BZN|NO2</th>\n      <th>Day-ahead Price [EUR/MWh] BZN|NO3</th>\n      <th>Day-ahead Price [EUR/MWh] BZN|NO5</th>\n      <th>Day-ahead Price [EUR/MWh] BZN|SE3</th>\n    </tr>\n  </thead>\n  <tbody>\n    <tr>\n      <th>0</th>\n      <td>01.01.2022 00:00 - 01.01.2022 01:00</td>\n      <td>132.89</td>\n      <td>132.89</td>\n      <td>46.60</td>\n      <td>132.89</td>\n      <td>46.60</td>\n    </tr>\n    <tr>\n      <th>1</th>\n      <td>01.01.2022 01:00 - 01.01.2022 02:00</td>\n      <td>129.30</td>\n      <td>129.30</td>\n      <td>41.33</td>\n      <td>129.30</td>\n      <td>41.33</td>\n    </tr>\n    <tr>\n      <th>2</th>\n      <td>01.01.2022 02:00 - 01.01.2022 03:00</td>\n      <td>132.08</td>\n      <td>132.08</td>\n      <td>42.18</td>\n      <td>132.08</td>\n      <td>42.18</td>\n    </tr>\n    <tr>\n      <th>3</th>\n      <td>01.01.2022 03:00 - 01.01.2022 04:00</td>\n      <td>111.44</td>\n      <td>111.44</td>\n      <td>44.37</td>\n      <td>111.44</td>\n      <td>44.37</td>\n    </tr>\n    <tr>\n      <th>4</th>\n      <td>01.01.2022 04:00 - 01.01.2022 05:00</td>\n      <td>112.35</td>\n      <td>112.35</td>\n      <td>37.67</td>\n      <td>112.35</td>\n      <td>37.67</td>\n    </tr>\n  </tbody>\n</table>\n</div>"
     },
     "execution_count": 96,
     "metadata": {},
     "output_type": "execute_result"
    }
   ],
   "source": [
    "# merging the price data into one dataframe\n",
    "price_data_frames = [prices_no1, prices_no2, prices_no3, prices_no5, prices_se3]\n",
    "prices = reduce(lambda left, right: pd.merge(left,right, on=['MTU (CET/CEST)']), price_data_frames)\n",
    "\n",
    "prices.head()"
   ]
  },
  {
   "cell_type": "code",
   "execution_count": 96,
   "id": "79c3da13",
   "metadata": {
    "pycharm": {
     "name": "#%%\n"
    }
   },
   "outputs": [],
   "source": []
  },
  {
   "cell_type": "code",
   "execution_count": 96,
   "id": "5b143c46",
   "metadata": {
    "pycharm": {
     "name": "#%%\n"
    }
   },
   "outputs": [],
   "source": []
  },
  {
   "cell_type": "code",
   "execution_count": 97,
   "id": "1edba4eb",
   "metadata": {
    "pycharm": {
     "name": "#%%\n"
    }
   },
   "outputs": [],
   "source": [
    "# TODO: handle missing values: NB! Bytt til det endelige datasettet, itte det for prices!!!!!!!!!"
   ]
  },
  {
   "cell_type": "code",
   "execution_count": 98,
   "id": "fc80739e",
   "metadata": {
    "pycharm": {
     "name": "#%%\n"
    }
   },
   "outputs": [
    {
     "data": {
      "text/plain": "MTU (CET/CEST)                       0\nDay-ahead Price [EUR/MWh] BZN|NO1    1\nDay-ahead Price [EUR/MWh] BZN|NO2    1\nDay-ahead Price [EUR/MWh] BZN|NO3    1\nDay-ahead Price [EUR/MWh] BZN|NO5    1\nDay-ahead Price [EUR/MWh] BZN|SE3    1\ndtype: int64"
     },
     "execution_count": 98,
     "metadata": {},
     "output_type": "execute_result"
    }
   ],
   "source": [
    "# checking data for missing values, if any\n",
    "prices.isna().sum()"
   ]
  },
  {
   "cell_type": "code",
   "execution_count": 99,
   "id": "b018eef4",
   "metadata": {
    "pycharm": {
     "name": "#%%\n"
    }
   },
   "outputs": [],
   "source": [
    "# checking which row is missing values\n",
    "null_data = prices[prices.isnull().any(axis=1)]"
   ]
  },
  {
   "cell_type": "code",
   "execution_count": 100,
   "id": "7ba9f2e5",
   "metadata": {
    "pycharm": {
     "name": "#%%\n"
    }
   },
   "outputs": [
    {
     "data": {
      "text/plain": "                           MTU (CET/CEST)  Day-ahead Price [EUR/MWh] BZN|NO1  \\\n2042  27.03.2022 02:00 - 27.03.2022 03:00                                NaN   \n\n      Day-ahead Price [EUR/MWh] BZN|NO2  Day-ahead Price [EUR/MWh] BZN|NO3  \\\n2042                                NaN                                NaN   \n\n      Day-ahead Price [EUR/MWh] BZN|NO5  Day-ahead Price [EUR/MWh] BZN|SE3  \n2042                                NaN                                NaN  ",
      "text/html": "<div>\n<style scoped>\n    .dataframe tbody tr th:only-of-type {\n        vertical-align: middle;\n    }\n\n    .dataframe tbody tr th {\n        vertical-align: top;\n    }\n\n    .dataframe thead th {\n        text-align: right;\n    }\n</style>\n<table border=\"1\" class=\"dataframe\">\n  <thead>\n    <tr style=\"text-align: right;\">\n      <th></th>\n      <th>MTU (CET/CEST)</th>\n      <th>Day-ahead Price [EUR/MWh] BZN|NO1</th>\n      <th>Day-ahead Price [EUR/MWh] BZN|NO2</th>\n      <th>Day-ahead Price [EUR/MWh] BZN|NO3</th>\n      <th>Day-ahead Price [EUR/MWh] BZN|NO5</th>\n      <th>Day-ahead Price [EUR/MWh] BZN|SE3</th>\n    </tr>\n  </thead>\n  <tbody>\n    <tr>\n      <th>2042</th>\n      <td>27.03.2022 02:00 - 27.03.2022 03:00</td>\n      <td>NaN</td>\n      <td>NaN</td>\n      <td>NaN</td>\n      <td>NaN</td>\n      <td>NaN</td>\n    </tr>\n  </tbody>\n</table>\n</div>"
     },
     "execution_count": 100,
     "metadata": {},
     "output_type": "execute_result"
    }
   ],
   "source": [
    "null_data"
   ]
  },
  {
   "cell_type": "markdown",
   "id": "18069c90",
   "metadata": {
    "pycharm": {
     "name": "#%% md\n"
    }
   },
   "source": [
    "This row is created as a result of the move from winter time to summer time"
   ]
  },
  {
   "cell_type": "code",
   "execution_count": 101,
   "id": "509ea6e9",
   "metadata": {
    "pycharm": {
     "name": "#%%\n"
    }
   },
   "outputs": [],
   "source": [
    "actual_generation_no1 = pd.read_csv(\"../datasets/wind_solar_fossil_biomass_and_others/NO1 Actual Generation per Production Type_202201010000-202301010000.csv\")\n",
    "actual_generation_no2 = pd.read_csv(\"../datasets/wind_solar_fossil_biomass_and_others/NO2 Actual Generation per Production Type_202201010000-202301010000.csv\")\n",
    "actual_generation_no3 = pd.read_csv(\"../datasets/wind_solar_fossil_biomass_and_others/NO3 Actual Generation per Production Type_202201010000-202301010000.csv\")\n",
    "actual_generation_no5 = pd.read_csv(\"../datasets/wind_solar_fossil_biomass_and_others/NO5 Actual Generation per Production Type_202201010000-202301010000.csv\")\n",
    "actual_generation_se3 = pd.read_csv(\"../datasets/wind_solar_fossil_biomass_and_others/SE3 Actual Generation per Production Type_202201010000-202301010000.csv\")"
   ]
  },
  {
   "cell_type": "code",
   "execution_count": 102,
   "id": "f5669380",
   "metadata": {
    "pycharm": {
     "name": "#%%\n"
    }
   },
   "outputs": [
    {
     "data": {
      "text/plain": "      Area                                             MTU  \\\n0  BZN|NO1  01.01.2022 00:00 - 01.01.2022 01:00 (CET/CEST)   \n1  BZN|NO1  01.01.2022 01:00 - 01.01.2022 02:00 (CET/CEST)   \n2  BZN|NO1  01.01.2022 02:00 - 01.01.2022 03:00 (CET/CEST)   \n3  BZN|NO1  01.01.2022 03:00 - 01.01.2022 04:00 (CET/CEST)   \n4  BZN|NO1  01.01.2022 04:00 - 01.01.2022 05:00 (CET/CEST)   \n\n   Biomass  - Actual Aggregated [MW]  \\\n0                                0.0   \n1                                0.0   \n2                                0.0   \n3                                0.0   \n4                                0.0   \n\n  Fossil Brown coal/Lignite  - Actual Aggregated [MW]  \\\n0                                                n/e    \n1                                                n/e    \n2                                                n/e    \n3                                                n/e    \n4                                                n/e    \n\n  Fossil Coal-derived gas  - Actual Aggregated [MW]  \\\n0                                               n/e   \n1                                               n/e   \n2                                               n/e   \n3                                               n/e   \n4                                               n/e   \n\n   Fossil Gas  - Actual Aggregated [MW]  \\\n0                                   0.0   \n1                                   0.0   \n2                                   0.0   \n3                                   0.0   \n4                                   0.0   \n\n  Fossil Hard coal  - Actual Aggregated [MW]  \\\n0                                        n/e   \n1                                        n/e   \n2                                        n/e   \n3                                        n/e   \n4                                        n/e   \n\n  Fossil Oil  - Actual Aggregated [MW]  \\\n0                                  n/e   \n1                                  n/e   \n2                                  n/e   \n3                                  n/e   \n4                                  n/e   \n\n  Fossil Oil shale  - Actual Aggregated [MW]  \\\n0                                        n/e   \n1                                        n/e   \n2                                        n/e   \n3                                        n/e   \n4                                        n/e   \n\n  Fossil Peat  - Actual Aggregated [MW]  ...  \\\n0                                   n/e  ...   \n1                                   n/e  ...   \n2                                   n/e  ...   \n3                                   n/e  ...   \n4                                   n/e  ...   \n\n  Hydro Run-of-river and poundage  - Actual Aggregated [MW]  \\\n0                                              899.0          \n1                                              878.0          \n2                                              897.0          \n3                                              885.0          \n4                                              890.0          \n\n  Hydro Water Reservoir  - Actual Aggregated [MW]  \\\n0                                           353.0   \n1                                           321.0   \n2                                           330.0   \n3                                           275.0   \n4                                           269.0   \n\n  Marine  - Actual Aggregated [MW]  Nuclear  - Actual Aggregated [MW]  \\\n0                              n/e                                n/e   \n1                              n/e                                n/e   \n2                              n/e                                n/e   \n3                              n/e                                n/e   \n4                              n/e                                n/e   \n\n   Other  - Actual Aggregated [MW] Other renewable  - Actual Aggregated [MW]  \\\n0                              n/e                                       n/e   \n1                              n/e                                       n/e   \n2                              n/e                                       n/e   \n3                              n/e                                       n/e   \n4                              n/e                                       n/e   \n\n  Solar  - Actual Aggregated [MW] Waste  - Actual Aggregated [MW]  \\\n0                             n/e                             9.0   \n1                             n/e                             8.0   \n2                             n/e                             8.0   \n3                             n/e                             8.0   \n4                             n/e                             8.0   \n\n  Wind Offshore  - Actual Aggregated [MW]  \\\n0                                     n/e   \n1                                     n/e   \n2                                     n/e   \n3                                     n/e   \n4                                     n/e   \n\n  Wind Onshore  - Actual Aggregated [MW]  \n0                                  139.0  \n1                                  172.0  \n2                                  151.0  \n3                                  160.0  \n4                                  148.0  \n\n[5 rows x 23 columns]",
      "text/html": "<div>\n<style scoped>\n    .dataframe tbody tr th:only-of-type {\n        vertical-align: middle;\n    }\n\n    .dataframe tbody tr th {\n        vertical-align: top;\n    }\n\n    .dataframe thead th {\n        text-align: right;\n    }\n</style>\n<table border=\"1\" class=\"dataframe\">\n  <thead>\n    <tr style=\"text-align: right;\">\n      <th></th>\n      <th>Area</th>\n      <th>MTU</th>\n      <th>Biomass  - Actual Aggregated [MW]</th>\n      <th>Fossil Brown coal/Lignite  - Actual Aggregated [MW]</th>\n      <th>Fossil Coal-derived gas  - Actual Aggregated [MW]</th>\n      <th>Fossil Gas  - Actual Aggregated [MW]</th>\n      <th>Fossil Hard coal  - Actual Aggregated [MW]</th>\n      <th>Fossil Oil  - Actual Aggregated [MW]</th>\n      <th>Fossil Oil shale  - Actual Aggregated [MW]</th>\n      <th>Fossil Peat  - Actual Aggregated [MW]</th>\n      <th>...</th>\n      <th>Hydro Run-of-river and poundage  - Actual Aggregated [MW]</th>\n      <th>Hydro Water Reservoir  - Actual Aggregated [MW]</th>\n      <th>Marine  - Actual Aggregated [MW]</th>\n      <th>Nuclear  - Actual Aggregated [MW]</th>\n      <th>Other  - Actual Aggregated [MW]</th>\n      <th>Other renewable  - Actual Aggregated [MW]</th>\n      <th>Solar  - Actual Aggregated [MW]</th>\n      <th>Waste  - Actual Aggregated [MW]</th>\n      <th>Wind Offshore  - Actual Aggregated [MW]</th>\n      <th>Wind Onshore  - Actual Aggregated [MW]</th>\n    </tr>\n  </thead>\n  <tbody>\n    <tr>\n      <th>0</th>\n      <td>BZN|NO1</td>\n      <td>01.01.2022 00:00 - 01.01.2022 01:00 (CET/CEST)</td>\n      <td>0.0</td>\n      <td>n/e</td>\n      <td>n/e</td>\n      <td>0.0</td>\n      <td>n/e</td>\n      <td>n/e</td>\n      <td>n/e</td>\n      <td>n/e</td>\n      <td>...</td>\n      <td>899.0</td>\n      <td>353.0</td>\n      <td>n/e</td>\n      <td>n/e</td>\n      <td>n/e</td>\n      <td>n/e</td>\n      <td>n/e</td>\n      <td>9.0</td>\n      <td>n/e</td>\n      <td>139.0</td>\n    </tr>\n    <tr>\n      <th>1</th>\n      <td>BZN|NO1</td>\n      <td>01.01.2022 01:00 - 01.01.2022 02:00 (CET/CEST)</td>\n      <td>0.0</td>\n      <td>n/e</td>\n      <td>n/e</td>\n      <td>0.0</td>\n      <td>n/e</td>\n      <td>n/e</td>\n      <td>n/e</td>\n      <td>n/e</td>\n      <td>...</td>\n      <td>878.0</td>\n      <td>321.0</td>\n      <td>n/e</td>\n      <td>n/e</td>\n      <td>n/e</td>\n      <td>n/e</td>\n      <td>n/e</td>\n      <td>8.0</td>\n      <td>n/e</td>\n      <td>172.0</td>\n    </tr>\n    <tr>\n      <th>2</th>\n      <td>BZN|NO1</td>\n      <td>01.01.2022 02:00 - 01.01.2022 03:00 (CET/CEST)</td>\n      <td>0.0</td>\n      <td>n/e</td>\n      <td>n/e</td>\n      <td>0.0</td>\n      <td>n/e</td>\n      <td>n/e</td>\n      <td>n/e</td>\n      <td>n/e</td>\n      <td>...</td>\n      <td>897.0</td>\n      <td>330.0</td>\n      <td>n/e</td>\n      <td>n/e</td>\n      <td>n/e</td>\n      <td>n/e</td>\n      <td>n/e</td>\n      <td>8.0</td>\n      <td>n/e</td>\n      <td>151.0</td>\n    </tr>\n    <tr>\n      <th>3</th>\n      <td>BZN|NO1</td>\n      <td>01.01.2022 03:00 - 01.01.2022 04:00 (CET/CEST)</td>\n      <td>0.0</td>\n      <td>n/e</td>\n      <td>n/e</td>\n      <td>0.0</td>\n      <td>n/e</td>\n      <td>n/e</td>\n      <td>n/e</td>\n      <td>n/e</td>\n      <td>...</td>\n      <td>885.0</td>\n      <td>275.0</td>\n      <td>n/e</td>\n      <td>n/e</td>\n      <td>n/e</td>\n      <td>n/e</td>\n      <td>n/e</td>\n      <td>8.0</td>\n      <td>n/e</td>\n      <td>160.0</td>\n    </tr>\n    <tr>\n      <th>4</th>\n      <td>BZN|NO1</td>\n      <td>01.01.2022 04:00 - 01.01.2022 05:00 (CET/CEST)</td>\n      <td>0.0</td>\n      <td>n/e</td>\n      <td>n/e</td>\n      <td>0.0</td>\n      <td>n/e</td>\n      <td>n/e</td>\n      <td>n/e</td>\n      <td>n/e</td>\n      <td>...</td>\n      <td>890.0</td>\n      <td>269.0</td>\n      <td>n/e</td>\n      <td>n/e</td>\n      <td>n/e</td>\n      <td>n/e</td>\n      <td>n/e</td>\n      <td>8.0</td>\n      <td>n/e</td>\n      <td>148.0</td>\n    </tr>\n  </tbody>\n</table>\n<p>5 rows × 23 columns</p>\n</div>"
     },
     "execution_count": 102,
     "metadata": {},
     "output_type": "execute_result"
    }
   ],
   "source": [
    "actual_generation_no1.head()"
   ]
  },
  {
   "cell_type": "code",
   "execution_count": 103,
   "outputs": [
    {
     "data": {
      "text/plain": "      Area                                  MTU (CET/CEST)  Biomass - BZN|NO1  \\\n0  BZN|NO1  01.01.2022 00:00 - 01.01.2022 01:00 (CET/CEST)                0.0   \n1  BZN|NO1  01.01.2022 01:00 - 01.01.2022 02:00 (CET/CEST)                0.0   \n2  BZN|NO1  01.01.2022 02:00 - 01.01.2022 03:00 (CET/CEST)                0.0   \n3  BZN|NO1  01.01.2022 03:00 - 01.01.2022 04:00 (CET/CEST)                0.0   \n4  BZN|NO1  01.01.2022 04:00 - 01.01.2022 05:00 (CET/CEST)                0.0   \n\n  Fossil Brown coal/Lignite - BZN|NO1 Fossil Coal-derived gas - BZN|NO1  \\\n0                                 n/e                               n/e   \n1                                 n/e                               n/e   \n2                                 n/e                               n/e   \n3                                 n/e                               n/e   \n4                                 n/e                               n/e   \n\n   Fossil Gas - BZN|NO1 Fossil Hard coal - BZN|NO1 Fossil Oil - BZN|NO1  \\\n0                   0.0                        n/e                  n/e   \n1                   0.0                        n/e                  n/e   \n2                   0.0                        n/e                  n/e   \n3                   0.0                        n/e                  n/e   \n4                   0.0                        n/e                  n/e   \n\n  Fossil Oil shale - BZN|NO1 Fossil Peat - BZN|NO1  ...  \\\n0                        n/e                   n/e  ...   \n1                        n/e                   n/e  ...   \n2                        n/e                   n/e  ...   \n3                        n/e                   n/e  ...   \n4                        n/e                   n/e  ...   \n\n  Hydro Run-of-river and poundage - BZN|NO1 Hydro Water Reservoir - BZN|NO1  \\\n0                                     899.0                           353.0   \n1                                     878.0                           321.0   \n2                                     897.0                           330.0   \n3                                     885.0                           275.0   \n4                                     890.0                           269.0   \n\n  Marine - BZN|NO1  Nuclear - BZN|NO1  Other - BZN|NO1  \\\n0              n/e                n/e              n/e   \n1              n/e                n/e              n/e   \n2              n/e                n/e              n/e   \n3              n/e                n/e              n/e   \n4              n/e                n/e              n/e   \n\n  Other renewable - BZN|NO1 Solar - BZN|NO1 Waste - BZN|NO1  \\\n0                       n/e             n/e             9.0   \n1                       n/e             n/e             8.0   \n2                       n/e             n/e             8.0   \n3                       n/e             n/e             8.0   \n4                       n/e             n/e             8.0   \n\n  Wind Offshore - BZN|NO1 Wind Onshore - BZN|NO1  \n0                     n/e                  139.0  \n1                     n/e                  172.0  \n2                     n/e                  151.0  \n3                     n/e                  160.0  \n4                     n/e                  148.0  \n\n[5 rows x 23 columns]",
      "text/html": "<div>\n<style scoped>\n    .dataframe tbody tr th:only-of-type {\n        vertical-align: middle;\n    }\n\n    .dataframe tbody tr th {\n        vertical-align: top;\n    }\n\n    .dataframe thead th {\n        text-align: right;\n    }\n</style>\n<table border=\"1\" class=\"dataframe\">\n  <thead>\n    <tr style=\"text-align: right;\">\n      <th></th>\n      <th>Area</th>\n      <th>MTU (CET/CEST)</th>\n      <th>Biomass - BZN|NO1</th>\n      <th>Fossil Brown coal/Lignite - BZN|NO1</th>\n      <th>Fossil Coal-derived gas - BZN|NO1</th>\n      <th>Fossil Gas - BZN|NO1</th>\n      <th>Fossil Hard coal - BZN|NO1</th>\n      <th>Fossil Oil - BZN|NO1</th>\n      <th>Fossil Oil shale - BZN|NO1</th>\n      <th>Fossil Peat - BZN|NO1</th>\n      <th>...</th>\n      <th>Hydro Run-of-river and poundage - BZN|NO1</th>\n      <th>Hydro Water Reservoir - BZN|NO1</th>\n      <th>Marine - BZN|NO1</th>\n      <th>Nuclear - BZN|NO1</th>\n      <th>Other - BZN|NO1</th>\n      <th>Other renewable - BZN|NO1</th>\n      <th>Solar - BZN|NO1</th>\n      <th>Waste - BZN|NO1</th>\n      <th>Wind Offshore - BZN|NO1</th>\n      <th>Wind Onshore - BZN|NO1</th>\n    </tr>\n  </thead>\n  <tbody>\n    <tr>\n      <th>0</th>\n      <td>BZN|NO1</td>\n      <td>01.01.2022 00:00 - 01.01.2022 01:00 (CET/CEST)</td>\n      <td>0.0</td>\n      <td>n/e</td>\n      <td>n/e</td>\n      <td>0.0</td>\n      <td>n/e</td>\n      <td>n/e</td>\n      <td>n/e</td>\n      <td>n/e</td>\n      <td>...</td>\n      <td>899.0</td>\n      <td>353.0</td>\n      <td>n/e</td>\n      <td>n/e</td>\n      <td>n/e</td>\n      <td>n/e</td>\n      <td>n/e</td>\n      <td>9.0</td>\n      <td>n/e</td>\n      <td>139.0</td>\n    </tr>\n    <tr>\n      <th>1</th>\n      <td>BZN|NO1</td>\n      <td>01.01.2022 01:00 - 01.01.2022 02:00 (CET/CEST)</td>\n      <td>0.0</td>\n      <td>n/e</td>\n      <td>n/e</td>\n      <td>0.0</td>\n      <td>n/e</td>\n      <td>n/e</td>\n      <td>n/e</td>\n      <td>n/e</td>\n      <td>...</td>\n      <td>878.0</td>\n      <td>321.0</td>\n      <td>n/e</td>\n      <td>n/e</td>\n      <td>n/e</td>\n      <td>n/e</td>\n      <td>n/e</td>\n      <td>8.0</td>\n      <td>n/e</td>\n      <td>172.0</td>\n    </tr>\n    <tr>\n      <th>2</th>\n      <td>BZN|NO1</td>\n      <td>01.01.2022 02:00 - 01.01.2022 03:00 (CET/CEST)</td>\n      <td>0.0</td>\n      <td>n/e</td>\n      <td>n/e</td>\n      <td>0.0</td>\n      <td>n/e</td>\n      <td>n/e</td>\n      <td>n/e</td>\n      <td>n/e</td>\n      <td>...</td>\n      <td>897.0</td>\n      <td>330.0</td>\n      <td>n/e</td>\n      <td>n/e</td>\n      <td>n/e</td>\n      <td>n/e</td>\n      <td>n/e</td>\n      <td>8.0</td>\n      <td>n/e</td>\n      <td>151.0</td>\n    </tr>\n    <tr>\n      <th>3</th>\n      <td>BZN|NO1</td>\n      <td>01.01.2022 03:00 - 01.01.2022 04:00 (CET/CEST)</td>\n      <td>0.0</td>\n      <td>n/e</td>\n      <td>n/e</td>\n      <td>0.0</td>\n      <td>n/e</td>\n      <td>n/e</td>\n      <td>n/e</td>\n      <td>n/e</td>\n      <td>...</td>\n      <td>885.0</td>\n      <td>275.0</td>\n      <td>n/e</td>\n      <td>n/e</td>\n      <td>n/e</td>\n      <td>n/e</td>\n      <td>n/e</td>\n      <td>8.0</td>\n      <td>n/e</td>\n      <td>160.0</td>\n    </tr>\n    <tr>\n      <th>4</th>\n      <td>BZN|NO1</td>\n      <td>01.01.2022 04:00 - 01.01.2022 05:00 (CET/CEST)</td>\n      <td>0.0</td>\n      <td>n/e</td>\n      <td>n/e</td>\n      <td>0.0</td>\n      <td>n/e</td>\n      <td>n/e</td>\n      <td>n/e</td>\n      <td>n/e</td>\n      <td>...</td>\n      <td>890.0</td>\n      <td>269.0</td>\n      <td>n/e</td>\n      <td>n/e</td>\n      <td>n/e</td>\n      <td>n/e</td>\n      <td>n/e</td>\n      <td>8.0</td>\n      <td>n/e</td>\n      <td>148.0</td>\n    </tr>\n  </tbody>\n</table>\n<p>5 rows × 23 columns</p>\n</div>"
     },
     "execution_count": 103,
     "metadata": {},
     "output_type": "execute_result"
    }
   ],
   "source": [
    "actual_generation_no1.columns = ['Area','MTU (CET/CEST)','Biomass - BZN|NO1', 'Fossil Brown coal/Lignite - BZN|NO1', 'Fossil Coal-derived gas - BZN|NO1', 'Fossil Gas - BZN|NO1', 'Fossil Hard coal - BZN|NO1', 'Fossil Oil - BZN|NO1', 'Fossil Oil shale - BZN|NO1', 'Fossil Peat - BZN|NO1', 'Geothermal - BZN|NO1', 'Hydro Pumped Storage Aggregated- BZN|NO1', 'Hydro Pumped Storage Consumption - BZN|NO1', 'Hydro Run-of-river and poundage - BZN|NO1', 'Hydro Water Reservoir - BZN|NO1', 'Marine - BZN|NO1', 'Nuclear - BZN|NO1', 'Other - BZN|NO1', 'Other renewable - BZN|NO1', 'Solar - BZN|NO1', 'Waste - BZN|NO1', 'Wind Offshore - BZN|NO1', 'Wind Onshore - BZN|NO1']\n",
    "actual_generation_no2.columns = ['Area','MTU (CET/CEST)','Biomass - BZN|NO2', 'Fossil Brown coal/Lignite - BZN|NO2', 'Fossil Coal-derived gas - BZN|NO2', 'Fossil Gas - BZN|NO2', 'Fossil Hard coal - BZN|NO2', 'Fossil Oil - BZN|NO2', 'Fossil Oil shale - BZN|NO2', 'Fossil Peat - BZN|NO2', 'Geothermal - BZN|NO2', 'Hydro Pumped Storage Aggregated- BZN|NO2', 'Hydro Pumped Storage Consumption - BZN|NO2', 'Hydro Run-of-river and poundage - BZN|NO1', 'Hydro Water Reservoir - BZN|NO2', 'Marine - BZN|NO2', 'Nuclear - BZN|NO2', 'Other - BZN|NO2', 'Other renewable - BZN|NO2', 'Solar - BZN|NO2', 'Waste - BZN|NO2', 'Wind Offshore - BZN|NO2', 'Wind Onshore - BZN|NO2']\n",
    "actual_generation_no3.columns = ['Area','MTU (CET/CEST)','Biomass - BZN|NO3', 'Fossil Brown coal/Lignite - BZN|NO3', 'Fossil Coal-derived gas - BZN|NO3', 'Fossil Gas - BZN|NO3', 'Fossil Hard coal - BZN|NO3', 'Fossil Oil - BZN|NO3', 'Fossil Oil shale - BZN|NO3', 'Fossil Peat - BZN|NO3', 'Geothermal - BZN|NO3', 'Hydro Pumped Storage Aggregated- BZN|NO3', 'Hydro Pumped Storage Consumption - BZN|NO3', 'Hydro Run-of-river and poundage - BZN|NO3', 'Hydro Water Reservoir - BZN|NO3', 'Marine - BZN|NO3', 'Nuclear - BZN|NO3', 'Other - BZN|NO3', 'Other renewable - BZN|NO3', 'Solar - BZN|NO3', 'Waste - BZN|NO3', 'Wind Offshore - BZN|NO3', 'Wind Onshore - BZN|NO3']\n",
    "actual_generation_no5.columns = ['Area','MTU (CET/CEST)','Biomass - BZN|NO5', 'Fossil Brown coal/Lignite - BZN|NO5', 'Fossil Coal-derived gas - BZN|NO5', 'Fossil Gas - BZN|NO5', 'Fossil Hard coal - BZN|NO5', 'Fossil Oil - BZN|NO5', 'Fossil Oil shale - BZN|NO5', 'Fossil Peat - BZN|NO5', 'Geothermal - BZN|NO5', 'Hydro Pumped Storage Aggregated- BZN|NO5', 'Hydro Pumped Storage Consumption - BZN|NO5', 'Hydro Run-of-river and poundage - BZN|NO5', 'Hydro Water Reservoir - BZN|NO5', 'Marine - BZN|NO5', 'Nuclear - BZN|NO5', 'Other - BZN|NO5', 'Other renewable - BZN|NO5', 'Solar - BZN|NO5', 'Waste - BZN|NO5', 'Wind Offshore - BZN|NO5', 'Wind Onshore - BZN|NO5']\n",
    "actual_generation_se3.columns = ['Area','MTU (CET/CEST)','Biomass - BZN|SE3', 'Fossil Brown coal/Lignite - BZN|SE3', 'Fossil Coal-derived gas - BZN|SE3', 'Fossil Gas - BZN|SE3', 'Fossil Hard coal - BZN|SE3', 'Fossil Oil - BZN|SE3', 'Fossil Oil shale - BZN|SE3', 'Fossil Peat - BZN|SE3', 'Geothermal - BZN|SE3', 'Hydro Pumped Storage Aggregated- BZN|SE3', 'Hydro Pumped Storage Consumption - BZN|SE3', 'Hydro Run-of-river and poundage - BZN|SE3', 'Hydro Water Reservoir - BZN|SE3', 'Marine - BZN|SE3', 'Nuclear - BZN|SE3', 'Other - BZN|SE3', 'Other renewable - BZN|SE3', 'Solar - BZN|SE3', 'Waste - BZN|SE3', 'Wind Offshore - BZN|SE3', 'Wind Onshore - BZN|SE3']\n",
    "actual_generation_no1.head()"
   ],
   "metadata": {
    "collapsed": false,
    "pycharm": {
     "name": "#%%\n"
    }
   }
  },
  {
   "cell_type": "code",
   "execution_count": 104,
   "outputs": [
    {
     "data": {
      "text/plain": "                                   MTU (CET/CEST)  Biomass - BZN|NO1  \\\n0  01.01.2022 00:00 - 01.01.2022 01:00 (CET/CEST)                0.0   \n1  01.01.2022 01:00 - 01.01.2022 02:00 (CET/CEST)                0.0   \n2  01.01.2022 02:00 - 01.01.2022 03:00 (CET/CEST)                0.0   \n3  01.01.2022 03:00 - 01.01.2022 04:00 (CET/CEST)                0.0   \n4  01.01.2022 04:00 - 01.01.2022 05:00 (CET/CEST)                0.0   \n\n  Fossil Brown coal/Lignite - BZN|NO1 Fossil Coal-derived gas - BZN|NO1  \\\n0                                 n/e                               n/e   \n1                                 n/e                               n/e   \n2                                 n/e                               n/e   \n3                                 n/e                               n/e   \n4                                 n/e                               n/e   \n\n   Fossil Gas - BZN|NO1 Fossil Hard coal - BZN|NO1 Fossil Oil - BZN|NO1  \\\n0                   0.0                        n/e                  n/e   \n1                   0.0                        n/e                  n/e   \n2                   0.0                        n/e                  n/e   \n3                   0.0                        n/e                  n/e   \n4                   0.0                        n/e                  n/e   \n\n  Fossil Oil shale - BZN|NO1 Fossil Peat - BZN|NO1 Geothermal - BZN|NO1  ...  \\\n0                        n/e                   n/e                  n/e  ...   \n1                        n/e                   n/e                  n/e  ...   \n2                        n/e                   n/e                  n/e  ...   \n3                        n/e                   n/e                  n/e  ...   \n4                        n/e                   n/e                  n/e  ...   \n\n  Hydro Run-of-river and poundage - BZN|NO1 Hydro Water Reservoir - BZN|NO1  \\\n0                                     899.0                           353.0   \n1                                     878.0                           321.0   \n2                                     897.0                           330.0   \n3                                     885.0                           275.0   \n4                                     890.0                           269.0   \n\n   Marine - BZN|NO1  Nuclear - BZN|NO1 Other - BZN|NO1  \\\n0               n/e                n/e             n/e   \n1               n/e                n/e             n/e   \n2               n/e                n/e             n/e   \n3               n/e                n/e             n/e   \n4               n/e                n/e             n/e   \n\n  Other renewable - BZN|NO1 Solar - BZN|NO1 Waste - BZN|NO1  \\\n0                       n/e             n/e             9.0   \n1                       n/e             n/e             8.0   \n2                       n/e             n/e             8.0   \n3                       n/e             n/e             8.0   \n4                       n/e             n/e             8.0   \n\n  Wind Offshore - BZN|NO1  Wind Onshore - BZN|NO1  \n0                     n/e                   139.0  \n1                     n/e                   172.0  \n2                     n/e                   151.0  \n3                     n/e                   160.0  \n4                     n/e                   148.0  \n\n[5 rows x 22 columns]",
      "text/html": "<div>\n<style scoped>\n    .dataframe tbody tr th:only-of-type {\n        vertical-align: middle;\n    }\n\n    .dataframe tbody tr th {\n        vertical-align: top;\n    }\n\n    .dataframe thead th {\n        text-align: right;\n    }\n</style>\n<table border=\"1\" class=\"dataframe\">\n  <thead>\n    <tr style=\"text-align: right;\">\n      <th></th>\n      <th>MTU (CET/CEST)</th>\n      <th>Biomass - BZN|NO1</th>\n      <th>Fossil Brown coal/Lignite - BZN|NO1</th>\n      <th>Fossil Coal-derived gas - BZN|NO1</th>\n      <th>Fossil Gas - BZN|NO1</th>\n      <th>Fossil Hard coal - BZN|NO1</th>\n      <th>Fossil Oil - BZN|NO1</th>\n      <th>Fossil Oil shale - BZN|NO1</th>\n      <th>Fossil Peat - BZN|NO1</th>\n      <th>Geothermal - BZN|NO1</th>\n      <th>...</th>\n      <th>Hydro Run-of-river and poundage - BZN|NO1</th>\n      <th>Hydro Water Reservoir - BZN|NO1</th>\n      <th>Marine - BZN|NO1</th>\n      <th>Nuclear - BZN|NO1</th>\n      <th>Other - BZN|NO1</th>\n      <th>Other renewable - BZN|NO1</th>\n      <th>Solar - BZN|NO1</th>\n      <th>Waste - BZN|NO1</th>\n      <th>Wind Offshore - BZN|NO1</th>\n      <th>Wind Onshore - BZN|NO1</th>\n    </tr>\n  </thead>\n  <tbody>\n    <tr>\n      <th>0</th>\n      <td>01.01.2022 00:00 - 01.01.2022 01:00 (CET/CEST)</td>\n      <td>0.0</td>\n      <td>n/e</td>\n      <td>n/e</td>\n      <td>0.0</td>\n      <td>n/e</td>\n      <td>n/e</td>\n      <td>n/e</td>\n      <td>n/e</td>\n      <td>n/e</td>\n      <td>...</td>\n      <td>899.0</td>\n      <td>353.0</td>\n      <td>n/e</td>\n      <td>n/e</td>\n      <td>n/e</td>\n      <td>n/e</td>\n      <td>n/e</td>\n      <td>9.0</td>\n      <td>n/e</td>\n      <td>139.0</td>\n    </tr>\n    <tr>\n      <th>1</th>\n      <td>01.01.2022 01:00 - 01.01.2022 02:00 (CET/CEST)</td>\n      <td>0.0</td>\n      <td>n/e</td>\n      <td>n/e</td>\n      <td>0.0</td>\n      <td>n/e</td>\n      <td>n/e</td>\n      <td>n/e</td>\n      <td>n/e</td>\n      <td>n/e</td>\n      <td>...</td>\n      <td>878.0</td>\n      <td>321.0</td>\n      <td>n/e</td>\n      <td>n/e</td>\n      <td>n/e</td>\n      <td>n/e</td>\n      <td>n/e</td>\n      <td>8.0</td>\n      <td>n/e</td>\n      <td>172.0</td>\n    </tr>\n    <tr>\n      <th>2</th>\n      <td>01.01.2022 02:00 - 01.01.2022 03:00 (CET/CEST)</td>\n      <td>0.0</td>\n      <td>n/e</td>\n      <td>n/e</td>\n      <td>0.0</td>\n      <td>n/e</td>\n      <td>n/e</td>\n      <td>n/e</td>\n      <td>n/e</td>\n      <td>n/e</td>\n      <td>...</td>\n      <td>897.0</td>\n      <td>330.0</td>\n      <td>n/e</td>\n      <td>n/e</td>\n      <td>n/e</td>\n      <td>n/e</td>\n      <td>n/e</td>\n      <td>8.0</td>\n      <td>n/e</td>\n      <td>151.0</td>\n    </tr>\n    <tr>\n      <th>3</th>\n      <td>01.01.2022 03:00 - 01.01.2022 04:00 (CET/CEST)</td>\n      <td>0.0</td>\n      <td>n/e</td>\n      <td>n/e</td>\n      <td>0.0</td>\n      <td>n/e</td>\n      <td>n/e</td>\n      <td>n/e</td>\n      <td>n/e</td>\n      <td>n/e</td>\n      <td>...</td>\n      <td>885.0</td>\n      <td>275.0</td>\n      <td>n/e</td>\n      <td>n/e</td>\n      <td>n/e</td>\n      <td>n/e</td>\n      <td>n/e</td>\n      <td>8.0</td>\n      <td>n/e</td>\n      <td>160.0</td>\n    </tr>\n    <tr>\n      <th>4</th>\n      <td>01.01.2022 04:00 - 01.01.2022 05:00 (CET/CEST)</td>\n      <td>0.0</td>\n      <td>n/e</td>\n      <td>n/e</td>\n      <td>0.0</td>\n      <td>n/e</td>\n      <td>n/e</td>\n      <td>n/e</td>\n      <td>n/e</td>\n      <td>n/e</td>\n      <td>...</td>\n      <td>890.0</td>\n      <td>269.0</td>\n      <td>n/e</td>\n      <td>n/e</td>\n      <td>n/e</td>\n      <td>n/e</td>\n      <td>n/e</td>\n      <td>8.0</td>\n      <td>n/e</td>\n      <td>148.0</td>\n    </tr>\n  </tbody>\n</table>\n<p>5 rows × 22 columns</p>\n</div>"
     },
     "execution_count": 104,
     "metadata": {},
     "output_type": "execute_result"
    }
   ],
   "source": [
    "# Dropping area because we keep them as separate columns\n",
    "actual_generation_no1 = actual_generation_no1.drop(['Area'], axis=1)\n",
    "actual_generation_no2 = actual_generation_no2.drop(['Area'], axis=1)\n",
    "actual_generation_no3 = actual_generation_no3.drop(['Area'], axis=1)\n",
    "actual_generation_no5 = actual_generation_no5.drop(['Area'], axis=1)\n",
    "actual_generation_se3 = actual_generation_se3.drop(['Area'], axis=1)\n",
    "actual_generation_no1.head()"
   ],
   "metadata": {
    "collapsed": false,
    "pycharm": {
     "name": "#%%\n"
    }
   }
  },
  {
   "cell_type": "code",
   "execution_count": 105,
   "outputs": [
    {
     "data": {
      "text/plain": "                                   MTU (CET/CEST)  Biomass - BZN|NO1  \\\n0  01.01.2022 00:00 - 01.01.2022 01:00 (CET/CEST)                0.0   \n1  01.01.2022 01:00 - 01.01.2022 02:00 (CET/CEST)                0.0   \n2  01.01.2022 02:00 - 01.01.2022 03:00 (CET/CEST)                0.0   \n3  01.01.2022 03:00 - 01.01.2022 04:00 (CET/CEST)                0.0   \n4  01.01.2022 04:00 - 01.01.2022 05:00 (CET/CEST)                0.0   \n\n  Fossil Brown coal/Lignite - BZN|NO1 Fossil Coal-derived gas - BZN|NO1  \\\n0                                 n/e                               n/e   \n1                                 n/e                               n/e   \n2                                 n/e                               n/e   \n3                                 n/e                               n/e   \n4                                 n/e                               n/e   \n\n   Fossil Gas - BZN|NO1 Fossil Hard coal - BZN|NO1 Fossil Oil - BZN|NO1  \\\n0                   0.0                        n/e                  n/e   \n1                   0.0                        n/e                  n/e   \n2                   0.0                        n/e                  n/e   \n3                   0.0                        n/e                  n/e   \n4                   0.0                        n/e                  n/e   \n\n  Fossil Oil shale - BZN|NO1 Fossil Peat - BZN|NO1 Geothermal - BZN|NO1  ...  \\\n0                        n/e                   n/e                  n/e  ...   \n1                        n/e                   n/e                  n/e  ...   \n2                        n/e                   n/e                  n/e  ...   \n3                        n/e                   n/e                  n/e  ...   \n4                        n/e                   n/e                  n/e  ...   \n\n  Hydro Run-of-river and poundage - BZN|SE3 Hydro Water Reservoir - BZN|SE3  \\\n0                                       n/e                           824.0   \n1                                       n/e                           818.0   \n2                                       n/e                           818.0   \n3                                       n/e                           838.0   \n4                                       n/e                           842.0   \n\n   Marine - BZN|SE3  Nuclear - BZN|SE3 Other - BZN|SE3  \\\n0                 0             5841.0           892.0   \n1                 0             5842.0           851.0   \n2                 0             5839.0           858.0   \n3                 0             5839.0           859.0   \n4                 0             5840.0           856.0   \n\n  Other renewable - BZN|SE3 Solar - BZN|SE3 Waste - BZN|SE3  \\\n0                       n/e             0.0             n/e   \n1                       n/e             0.0             n/e   \n2                       n/e             0.0             n/e   \n3                       n/e             0.0             n/e   \n4                       n/e             0.0             n/e   \n\n  Wind Offshore - BZN|SE3  Wind Onshore - BZN|SE3  \n0                     n/e                  1062.0  \n1                     n/e                   999.0  \n2                     n/e                   958.0  \n3                     n/e                   888.0  \n4                     n/e                   788.0  \n\n[5 rows x 106 columns]",
      "text/html": "<div>\n<style scoped>\n    .dataframe tbody tr th:only-of-type {\n        vertical-align: middle;\n    }\n\n    .dataframe tbody tr th {\n        vertical-align: top;\n    }\n\n    .dataframe thead th {\n        text-align: right;\n    }\n</style>\n<table border=\"1\" class=\"dataframe\">\n  <thead>\n    <tr style=\"text-align: right;\">\n      <th></th>\n      <th>MTU (CET/CEST)</th>\n      <th>Biomass - BZN|NO1</th>\n      <th>Fossil Brown coal/Lignite - BZN|NO1</th>\n      <th>Fossil Coal-derived gas - BZN|NO1</th>\n      <th>Fossil Gas - BZN|NO1</th>\n      <th>Fossil Hard coal - BZN|NO1</th>\n      <th>Fossil Oil - BZN|NO1</th>\n      <th>Fossil Oil shale - BZN|NO1</th>\n      <th>Fossil Peat - BZN|NO1</th>\n      <th>Geothermal - BZN|NO1</th>\n      <th>...</th>\n      <th>Hydro Run-of-river and poundage - BZN|SE3</th>\n      <th>Hydro Water Reservoir - BZN|SE3</th>\n      <th>Marine - BZN|SE3</th>\n      <th>Nuclear - BZN|SE3</th>\n      <th>Other - BZN|SE3</th>\n      <th>Other renewable - BZN|SE3</th>\n      <th>Solar - BZN|SE3</th>\n      <th>Waste - BZN|SE3</th>\n      <th>Wind Offshore - BZN|SE3</th>\n      <th>Wind Onshore - BZN|SE3</th>\n    </tr>\n  </thead>\n  <tbody>\n    <tr>\n      <th>0</th>\n      <td>01.01.2022 00:00 - 01.01.2022 01:00 (CET/CEST)</td>\n      <td>0.0</td>\n      <td>n/e</td>\n      <td>n/e</td>\n      <td>0.0</td>\n      <td>n/e</td>\n      <td>n/e</td>\n      <td>n/e</td>\n      <td>n/e</td>\n      <td>n/e</td>\n      <td>...</td>\n      <td>n/e</td>\n      <td>824.0</td>\n      <td>0</td>\n      <td>5841.0</td>\n      <td>892.0</td>\n      <td>n/e</td>\n      <td>0.0</td>\n      <td>n/e</td>\n      <td>n/e</td>\n      <td>1062.0</td>\n    </tr>\n    <tr>\n      <th>1</th>\n      <td>01.01.2022 01:00 - 01.01.2022 02:00 (CET/CEST)</td>\n      <td>0.0</td>\n      <td>n/e</td>\n      <td>n/e</td>\n      <td>0.0</td>\n      <td>n/e</td>\n      <td>n/e</td>\n      <td>n/e</td>\n      <td>n/e</td>\n      <td>n/e</td>\n      <td>...</td>\n      <td>n/e</td>\n      <td>818.0</td>\n      <td>0</td>\n      <td>5842.0</td>\n      <td>851.0</td>\n      <td>n/e</td>\n      <td>0.0</td>\n      <td>n/e</td>\n      <td>n/e</td>\n      <td>999.0</td>\n    </tr>\n    <tr>\n      <th>2</th>\n      <td>01.01.2022 02:00 - 01.01.2022 03:00 (CET/CEST)</td>\n      <td>0.0</td>\n      <td>n/e</td>\n      <td>n/e</td>\n      <td>0.0</td>\n      <td>n/e</td>\n      <td>n/e</td>\n      <td>n/e</td>\n      <td>n/e</td>\n      <td>n/e</td>\n      <td>...</td>\n      <td>n/e</td>\n      <td>818.0</td>\n      <td>0</td>\n      <td>5839.0</td>\n      <td>858.0</td>\n      <td>n/e</td>\n      <td>0.0</td>\n      <td>n/e</td>\n      <td>n/e</td>\n      <td>958.0</td>\n    </tr>\n    <tr>\n      <th>3</th>\n      <td>01.01.2022 03:00 - 01.01.2022 04:00 (CET/CEST)</td>\n      <td>0.0</td>\n      <td>n/e</td>\n      <td>n/e</td>\n      <td>0.0</td>\n      <td>n/e</td>\n      <td>n/e</td>\n      <td>n/e</td>\n      <td>n/e</td>\n      <td>n/e</td>\n      <td>...</td>\n      <td>n/e</td>\n      <td>838.0</td>\n      <td>0</td>\n      <td>5839.0</td>\n      <td>859.0</td>\n      <td>n/e</td>\n      <td>0.0</td>\n      <td>n/e</td>\n      <td>n/e</td>\n      <td>888.0</td>\n    </tr>\n    <tr>\n      <th>4</th>\n      <td>01.01.2022 04:00 - 01.01.2022 05:00 (CET/CEST)</td>\n      <td>0.0</td>\n      <td>n/e</td>\n      <td>n/e</td>\n      <td>0.0</td>\n      <td>n/e</td>\n      <td>n/e</td>\n      <td>n/e</td>\n      <td>n/e</td>\n      <td>n/e</td>\n      <td>...</td>\n      <td>n/e</td>\n      <td>842.0</td>\n      <td>0</td>\n      <td>5840.0</td>\n      <td>856.0</td>\n      <td>n/e</td>\n      <td>0.0</td>\n      <td>n/e</td>\n      <td>n/e</td>\n      <td>788.0</td>\n    </tr>\n  </tbody>\n</table>\n<p>5 rows × 106 columns</p>\n</div>"
     },
     "execution_count": 105,
     "metadata": {},
     "output_type": "execute_result"
    }
   ],
   "source": [
    "actual_generation_dataframes = [actual_generation_no1, actual_generation_no2, actual_generation_no3, actual_generation_no5, actual_generation_se3]\n",
    "actual_generation = reduce(lambda left, right: pd.merge(left,right, on=['MTU (CET/CEST)']), actual_generation_dataframes)\n",
    "\n",
    "actual_generation.head()"
   ],
   "metadata": {
    "collapsed": false,
    "pycharm": {
     "name": "#%%\n"
    }
   }
  },
  {
   "cell_type": "code",
   "execution_count": null,
   "outputs": [],
   "source": [],
   "metadata": {
    "collapsed": false,
    "pycharm": {
     "name": "#%%\n"
    }
   }
  }
 ],
 "metadata": {
  "kernelspec": {
   "display_name": "Python 3 (ipykernel)",
   "language": "python",
   "name": "python3"
  },
  "language_info": {
   "codemirror_mode": {
    "name": "ipython",
    "version": 3
   },
   "file_extension": ".py",
   "mimetype": "text/x-python",
   "name": "python",
   "nbconvert_exporter": "python",
   "pygments_lexer": "ipython3",
   "version": "3.8.5"
  }
 },
 "nbformat": 4,
 "nbformat_minor": 5
}