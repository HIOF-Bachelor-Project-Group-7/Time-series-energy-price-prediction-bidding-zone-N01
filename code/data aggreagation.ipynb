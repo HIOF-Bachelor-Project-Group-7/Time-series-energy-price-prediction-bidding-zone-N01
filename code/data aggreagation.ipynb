{
 "cells": [
  {
   "cell_type": "markdown",
   "id": "5b87d25b",
   "metadata": {},
   "source": [
    "## Data aggregation of energy market prices in bidding zone N01 (Norway Østlandet) and neighbouring zones for the year of 2022"
   ]
  },
  {
   "cell_type": "markdown",
   "id": "2eb69a78",
   "metadata": {},
   "source": [
    "### Dependencies"
   ]
  },
  {
   "cell_type": "code",
   "execution_count": 121,
   "id": "5d5de126",
   "metadata": {},
   "outputs": [],
   "source": [
    "# importing dependencies to aggregate dataset\n",
    "import pandas as pd # data processing, CSV file I/O (e.g. pd.read_csv)\n",
    "\n",
    "from functools import reduce # used to merge the dataset"
   ]
  },
  {
   "cell_type": "markdown",
   "id": "21a8d1fd",
   "metadata": {},
   "source": [
    "### Aggregation of pricing data\n",
    "Pricing data is of spot (day-ahead) market prices in the currency Euro per MWh"
   ]
  },
  {
   "cell_type": "markdown",
   "id": "2af9f605",
   "metadata": {},
   "source": [
    "Importing price data from each zone"
   ]
  },
  {
   "cell_type": "code",
   "execution_count": 122,
   "id": "9bd79e8c",
   "metadata": {},
   "outputs": [],
   "source": [
    "prices_no1 = pd.read_csv(\"../datasets/prices/NO1 Day-ahead Prices_202201010000-202301010000.csv\")\n",
    "prices_no2 = pd.read_csv(\"../datasets/prices/NO2 Day-ahead Prices_202201010000-202301010000.csv\")\n",
    "prices_no3 = pd.read_csv(\"../datasets/prices/NO3 Day-ahead Prices_202201010000-202301010000.csv\")\n",
    "prices_no5 = pd.read_csv(\"../datasets/prices/NO5 Day-ahead Prices_202201010000-202301010000.csv\")\n",
    "prices_se3 = pd.read_csv(\"../datasets/prices/SE3 Day-ahead Prices_202201010000-202301010000.csv\")"
   ]
  },
  {
   "cell_type": "markdown",
   "id": "3067050c",
   "metadata": {},
   "source": [
    "Printing out first rows of each dataset to see the structure"
   ]
  },
  {
   "cell_type": "code",
   "execution_count": 123,
   "id": "e6202e1c",
   "metadata": {},
   "outputs": [
    {
     "data": {
      "text/plain": "                        MTU (CET/CEST)  Day-ahead Price [EUR/MWh] Currency  \\\n0  01.01.2022 00:00 - 01.01.2022 01:00                     132.89      EUR   \n1  01.01.2022 01:00 - 01.01.2022 02:00                     129.30      EUR   \n2  01.01.2022 02:00 - 01.01.2022 03:00                     132.08      EUR   \n3  01.01.2022 03:00 - 01.01.2022 04:00                     111.44      EUR   \n4  01.01.2022 04:00 - 01.01.2022 05:00                     112.35      EUR   \n\n   BZN|NO1  \n0      NaN  \n1      NaN  \n2      NaN  \n3      NaN  \n4      NaN  ",
      "text/html": "<div>\n<style scoped>\n    .dataframe tbody tr th:only-of-type {\n        vertical-align: middle;\n    }\n\n    .dataframe tbody tr th {\n        vertical-align: top;\n    }\n\n    .dataframe thead th {\n        text-align: right;\n    }\n</style>\n<table border=\"1\" class=\"dataframe\">\n  <thead>\n    <tr style=\"text-align: right;\">\n      <th></th>\n      <th>MTU (CET/CEST)</th>\n      <th>Day-ahead Price [EUR/MWh]</th>\n      <th>Currency</th>\n      <th>BZN|NO1</th>\n    </tr>\n  </thead>\n  <tbody>\n    <tr>\n      <th>0</th>\n      <td>01.01.2022 00:00 - 01.01.2022 01:00</td>\n      <td>132.89</td>\n      <td>EUR</td>\n      <td>NaN</td>\n    </tr>\n    <tr>\n      <th>1</th>\n      <td>01.01.2022 01:00 - 01.01.2022 02:00</td>\n      <td>129.30</td>\n      <td>EUR</td>\n      <td>NaN</td>\n    </tr>\n    <tr>\n      <th>2</th>\n      <td>01.01.2022 02:00 - 01.01.2022 03:00</td>\n      <td>132.08</td>\n      <td>EUR</td>\n      <td>NaN</td>\n    </tr>\n    <tr>\n      <th>3</th>\n      <td>01.01.2022 03:00 - 01.01.2022 04:00</td>\n      <td>111.44</td>\n      <td>EUR</td>\n      <td>NaN</td>\n    </tr>\n    <tr>\n      <th>4</th>\n      <td>01.01.2022 04:00 - 01.01.2022 05:00</td>\n      <td>112.35</td>\n      <td>EUR</td>\n      <td>NaN</td>\n    </tr>\n  </tbody>\n</table>\n</div>"
     },
     "execution_count": 123,
     "metadata": {},
     "output_type": "execute_result"
    }
   ],
   "source": [
    "prices_no1.head()"
   ]
  },
  {
   "cell_type": "code",
   "execution_count": 124,
   "id": "5edabdc5",
   "metadata": {},
   "outputs": [
    {
     "data": {
      "text/plain": "                        MTU (CET/CEST)  Day-ahead Price [EUR/MWh] Currency  \\\n0  01.01.2022 00:00 - 01.01.2022 01:00                     132.89      EUR   \n1  01.01.2022 01:00 - 01.01.2022 02:00                     129.30      EUR   \n2  01.01.2022 02:00 - 01.01.2022 03:00                     132.08      EUR   \n3  01.01.2022 03:00 - 01.01.2022 04:00                     111.44      EUR   \n4  01.01.2022 04:00 - 01.01.2022 05:00                     112.35      EUR   \n\n   BZN|NO2  \n0      NaN  \n1      NaN  \n2      NaN  \n3      NaN  \n4      NaN  ",
      "text/html": "<div>\n<style scoped>\n    .dataframe tbody tr th:only-of-type {\n        vertical-align: middle;\n    }\n\n    .dataframe tbody tr th {\n        vertical-align: top;\n    }\n\n    .dataframe thead th {\n        text-align: right;\n    }\n</style>\n<table border=\"1\" class=\"dataframe\">\n  <thead>\n    <tr style=\"text-align: right;\">\n      <th></th>\n      <th>MTU (CET/CEST)</th>\n      <th>Day-ahead Price [EUR/MWh]</th>\n      <th>Currency</th>\n      <th>BZN|NO2</th>\n    </tr>\n  </thead>\n  <tbody>\n    <tr>\n      <th>0</th>\n      <td>01.01.2022 00:00 - 01.01.2022 01:00</td>\n      <td>132.89</td>\n      <td>EUR</td>\n      <td>NaN</td>\n    </tr>\n    <tr>\n      <th>1</th>\n      <td>01.01.2022 01:00 - 01.01.2022 02:00</td>\n      <td>129.30</td>\n      <td>EUR</td>\n      <td>NaN</td>\n    </tr>\n    <tr>\n      <th>2</th>\n      <td>01.01.2022 02:00 - 01.01.2022 03:00</td>\n      <td>132.08</td>\n      <td>EUR</td>\n      <td>NaN</td>\n    </tr>\n    <tr>\n      <th>3</th>\n      <td>01.01.2022 03:00 - 01.01.2022 04:00</td>\n      <td>111.44</td>\n      <td>EUR</td>\n      <td>NaN</td>\n    </tr>\n    <tr>\n      <th>4</th>\n      <td>01.01.2022 04:00 - 01.01.2022 05:00</td>\n      <td>112.35</td>\n      <td>EUR</td>\n      <td>NaN</td>\n    </tr>\n  </tbody>\n</table>\n</div>"
     },
     "execution_count": 124,
     "metadata": {},
     "output_type": "execute_result"
    }
   ],
   "source": [
    "prices_no2.head()"
   ]
  },
  {
   "cell_type": "code",
   "execution_count": 125,
   "id": "371621b2",
   "metadata": {},
   "outputs": [
    {
     "data": {
      "text/plain": "                        MTU (CET/CEST)  Day-ahead Price [EUR/MWh] Currency  \\\n0  01.01.2022 00:00 - 01.01.2022 01:00                      46.60      EUR   \n1  01.01.2022 01:00 - 01.01.2022 02:00                      41.33      EUR   \n2  01.01.2022 02:00 - 01.01.2022 03:00                      42.18      EUR   \n3  01.01.2022 03:00 - 01.01.2022 04:00                      44.37      EUR   \n4  01.01.2022 04:00 - 01.01.2022 05:00                      37.67      EUR   \n\n   BZN|NO3  \n0      NaN  \n1      NaN  \n2      NaN  \n3      NaN  \n4      NaN  ",
      "text/html": "<div>\n<style scoped>\n    .dataframe tbody tr th:only-of-type {\n        vertical-align: middle;\n    }\n\n    .dataframe tbody tr th {\n        vertical-align: top;\n    }\n\n    .dataframe thead th {\n        text-align: right;\n    }\n</style>\n<table border=\"1\" class=\"dataframe\">\n  <thead>\n    <tr style=\"text-align: right;\">\n      <th></th>\n      <th>MTU (CET/CEST)</th>\n      <th>Day-ahead Price [EUR/MWh]</th>\n      <th>Currency</th>\n      <th>BZN|NO3</th>\n    </tr>\n  </thead>\n  <tbody>\n    <tr>\n      <th>0</th>\n      <td>01.01.2022 00:00 - 01.01.2022 01:00</td>\n      <td>46.60</td>\n      <td>EUR</td>\n      <td>NaN</td>\n    </tr>\n    <tr>\n      <th>1</th>\n      <td>01.01.2022 01:00 - 01.01.2022 02:00</td>\n      <td>41.33</td>\n      <td>EUR</td>\n      <td>NaN</td>\n    </tr>\n    <tr>\n      <th>2</th>\n      <td>01.01.2022 02:00 - 01.01.2022 03:00</td>\n      <td>42.18</td>\n      <td>EUR</td>\n      <td>NaN</td>\n    </tr>\n    <tr>\n      <th>3</th>\n      <td>01.01.2022 03:00 - 01.01.2022 04:00</td>\n      <td>44.37</td>\n      <td>EUR</td>\n      <td>NaN</td>\n    </tr>\n    <tr>\n      <th>4</th>\n      <td>01.01.2022 04:00 - 01.01.2022 05:00</td>\n      <td>37.67</td>\n      <td>EUR</td>\n      <td>NaN</td>\n    </tr>\n  </tbody>\n</table>\n</div>"
     },
     "execution_count": 125,
     "metadata": {},
     "output_type": "execute_result"
    }
   ],
   "source": [
    "prices_no3.head()"
   ]
  },
  {
   "cell_type": "code",
   "execution_count": 126,
   "id": "cb4f2009",
   "metadata": {},
   "outputs": [
    {
     "data": {
      "text/plain": "                        MTU (CET/CEST)  Day-ahead Price [EUR/MWh] Currency  \\\n0  01.01.2022 00:00 - 01.01.2022 01:00                     132.89      EUR   \n1  01.01.2022 01:00 - 01.01.2022 02:00                     129.30      EUR   \n2  01.01.2022 02:00 - 01.01.2022 03:00                     132.08      EUR   \n3  01.01.2022 03:00 - 01.01.2022 04:00                     111.44      EUR   \n4  01.01.2022 04:00 - 01.01.2022 05:00                     112.35      EUR   \n\n   BZN|NO5  \n0      NaN  \n1      NaN  \n2      NaN  \n3      NaN  \n4      NaN  ",
      "text/html": "<div>\n<style scoped>\n    .dataframe tbody tr th:only-of-type {\n        vertical-align: middle;\n    }\n\n    .dataframe tbody tr th {\n        vertical-align: top;\n    }\n\n    .dataframe thead th {\n        text-align: right;\n    }\n</style>\n<table border=\"1\" class=\"dataframe\">\n  <thead>\n    <tr style=\"text-align: right;\">\n      <th></th>\n      <th>MTU (CET/CEST)</th>\n      <th>Day-ahead Price [EUR/MWh]</th>\n      <th>Currency</th>\n      <th>BZN|NO5</th>\n    </tr>\n  </thead>\n  <tbody>\n    <tr>\n      <th>0</th>\n      <td>01.01.2022 00:00 - 01.01.2022 01:00</td>\n      <td>132.89</td>\n      <td>EUR</td>\n      <td>NaN</td>\n    </tr>\n    <tr>\n      <th>1</th>\n      <td>01.01.2022 01:00 - 01.01.2022 02:00</td>\n      <td>129.30</td>\n      <td>EUR</td>\n      <td>NaN</td>\n    </tr>\n    <tr>\n      <th>2</th>\n      <td>01.01.2022 02:00 - 01.01.2022 03:00</td>\n      <td>132.08</td>\n      <td>EUR</td>\n      <td>NaN</td>\n    </tr>\n    <tr>\n      <th>3</th>\n      <td>01.01.2022 03:00 - 01.01.2022 04:00</td>\n      <td>111.44</td>\n      <td>EUR</td>\n      <td>NaN</td>\n    </tr>\n    <tr>\n      <th>4</th>\n      <td>01.01.2022 04:00 - 01.01.2022 05:00</td>\n      <td>112.35</td>\n      <td>EUR</td>\n      <td>NaN</td>\n    </tr>\n  </tbody>\n</table>\n</div>"
     },
     "execution_count": 126,
     "metadata": {},
     "output_type": "execute_result"
    }
   ],
   "source": [
    "prices_no5.head()"
   ]
  },
  {
   "cell_type": "code",
   "execution_count": 127,
   "id": "aa7002e3",
   "metadata": {},
   "outputs": [
    {
     "data": {
      "text/plain": "                        MTU (CET/CEST)  Day-ahead Price [EUR/MWh] Currency  \\\n0  01.01.2022 00:00 - 01.01.2022 01:00                      46.60      EUR   \n1  01.01.2022 01:00 - 01.01.2022 02:00                      41.33      EUR   \n2  01.01.2022 02:00 - 01.01.2022 03:00                      42.18      EUR   \n3  01.01.2022 03:00 - 01.01.2022 04:00                      44.37      EUR   \n4  01.01.2022 04:00 - 01.01.2022 05:00                      37.67      EUR   \n\n   BZN|SE3  \n0      NaN  \n1      NaN  \n2      NaN  \n3      NaN  \n4      NaN  ",
      "text/html": "<div>\n<style scoped>\n    .dataframe tbody tr th:only-of-type {\n        vertical-align: middle;\n    }\n\n    .dataframe tbody tr th {\n        vertical-align: top;\n    }\n\n    .dataframe thead th {\n        text-align: right;\n    }\n</style>\n<table border=\"1\" class=\"dataframe\">\n  <thead>\n    <tr style=\"text-align: right;\">\n      <th></th>\n      <th>MTU (CET/CEST)</th>\n      <th>Day-ahead Price [EUR/MWh]</th>\n      <th>Currency</th>\n      <th>BZN|SE3</th>\n    </tr>\n  </thead>\n  <tbody>\n    <tr>\n      <th>0</th>\n      <td>01.01.2022 00:00 - 01.01.2022 01:00</td>\n      <td>46.60</td>\n      <td>EUR</td>\n      <td>NaN</td>\n    </tr>\n    <tr>\n      <th>1</th>\n      <td>01.01.2022 01:00 - 01.01.2022 02:00</td>\n      <td>41.33</td>\n      <td>EUR</td>\n      <td>NaN</td>\n    </tr>\n    <tr>\n      <th>2</th>\n      <td>01.01.2022 02:00 - 01.01.2022 03:00</td>\n      <td>42.18</td>\n      <td>EUR</td>\n      <td>NaN</td>\n    </tr>\n    <tr>\n      <th>3</th>\n      <td>01.01.2022 03:00 - 01.01.2022 04:00</td>\n      <td>44.37</td>\n      <td>EUR</td>\n      <td>NaN</td>\n    </tr>\n    <tr>\n      <th>4</th>\n      <td>01.01.2022 04:00 - 01.01.2022 05:00</td>\n      <td>37.67</td>\n      <td>EUR</td>\n      <td>NaN</td>\n    </tr>\n  </tbody>\n</table>\n</div>"
     },
     "execution_count": 127,
     "metadata": {},
     "output_type": "execute_result"
    }
   ],
   "source": [
    "prices_se3.head()"
   ]
  },
  {
   "cell_type": "markdown",
   "source": [
    "#### preperation for merging of the price data from the different zones:\n",
    "The common column we will merge the data based on is the date time column \"MTU (CET/CEST)\". The column currency is redundant since the column that holds price already includes it in the column name. The currency column can therefore be dropped. The datasets have a colum name for which zone the data is from, but does not include any data for each entry. This information can be added to the column name for price and the column for zone can be dropped."
   ],
   "metadata": {
    "collapsed": false
   }
  },
  {
   "cell_type": "code",
   "execution_count": null,
   "outputs": [],
   "source": [
    "# renaming price columns\n",
    "prices_no1 = prices_no1.rename(columns={'Day-ahead Price [EUR/MWh]': 'Day-ahead Price [EUR/MWh] BZN|NO1'})\n",
    "prices_no2 = prices_no2.rename(columns={'Day-ahead Price [EUR/MWh]': 'Day-ahead Price [EUR/MWh] BZN|NO2'})\n",
    "prices_no3 = prices_no3.rename(columns={'Day-ahead Price [EUR/MWh]': 'Day-ahead Price [EUR/MWh] BZN|NO3'})\n",
    "prices_no5 = prices_no5.rename(columns={'Day-ahead Price [EUR/MWh]': 'Day-ahead Price [EUR/MWh] BZN|NO5'})\n",
    "prices_se3 = prices_se3.rename(columns={'Day-ahead Price [EUR/MWh]': 'Day-ahead Price [EUR/MWh] BZN|SE3'})"
   ],
   "metadata": {
    "collapsed": false
   }
  },
  {
   "cell_type": "code",
   "execution_count": null,
   "outputs": [],
   "source": [
    "# dropping redundant columns\n",
    "prices_no1= prices_no1.drop(['Currency', 'BZN|NO1'], axis=1)\n",
    "prices_no2= prices_no2.drop(['Currency', 'BZN|NO2'], axis=1)\n",
    "prices_no3= prices_no3.drop(['Currency', 'BZN|NO3'], axis=1)\n",
    "prices_no5= prices_no5.drop(['Currency', 'BZN|NO5'], axis=1)\n",
    "prices_se3= prices_se3.drop(['Currency', 'BZN|SE3'], axis=1)"
   ],
   "metadata": {
    "collapsed": false
   }
  },
  {
   "cell_type": "code",
   "execution_count": null,
   "outputs": [],
   "source": [
    "# merging the price data into one dataframe on the date time column 'MTU (CET/CEST)'\n",
    "price_data_frames = [prices_no1, prices_no2, prices_no3, prices_no5, prices_se3]\n",
    "prices = reduce(lambda left, right: pd.merge(left,right, on=['MTU (CET/CEST)']), price_data_frames)\n",
    "\n",
    "prices.head()"
   ],
   "metadata": {
    "collapsed": false
   }
  },
  {
   "cell_type": "markdown",
   "source": [
    "### Aggregation of load data\n",
    "The load data contains data about the power consumption in each zone"
   ],
   "metadata": {
    "collapsed": false
   }
  },
  {
   "cell_type": "markdown",
   "source": [
    "Importing load data from each zone"
   ],
   "metadata": {
    "collapsed": false
   }
  },
  {
   "cell_type": "code",
   "execution_count": null,
   "outputs": [],
   "source": [
    "load_no1 = pd.read_csv(\"../datasets/load/NO1 Total Load - Day Ahead _ Actual_202201010000-202301010000.csv\")\n",
    "load_no2 = pd.read_csv(\"../datasets/load/NO2 Total Load - Day Ahead _ Actual_202201010000-202301010000.csv\")\n",
    "load_no3 = pd.read_csv(\"../datasets/load/NO3 Total Load - Day Ahead _ Actual_202201010000-202301010000.csv\")\n",
    "load_no5 = pd.read_csv(\"../datasets/load/NO5 Total Load - Day Ahead _ Actual_202201010000-202301010000.csv\")\n",
    "load_se3 = pd.read_csv(\"../datasets/load/SE3 Total Load - Day Ahead _ Actual_202201010000-202301010000.csv\")"
   ],
   "metadata": {
    "collapsed": false
   }
  },
  {
   "cell_type": "markdown",
   "source": [
    "Printing out first rows of each dataset to see the structure"
   ],
   "metadata": {
    "collapsed": false
   }
  },
  {
   "cell_type": "code",
   "execution_count": null,
   "outputs": [],
   "source": [
    "load_no1.head()"
   ],
   "metadata": {
    "collapsed": false
   }
  },
  {
   "cell_type": "code",
   "execution_count": null,
   "outputs": [],
   "source": [
    "load_no2.head()"
   ],
   "metadata": {
    "collapsed": false
   }
  },
  {
   "cell_type": "code",
   "execution_count": null,
   "outputs": [],
   "source": [
    "load_no3.head()"
   ],
   "metadata": {
    "collapsed": false
   }
  },
  {
   "cell_type": "code",
   "execution_count": null,
   "outputs": [],
   "source": [
    "load_no5.head()"
   ],
   "metadata": {
    "collapsed": false
   }
  },
  {
   "cell_type": "code",
   "execution_count": null,
   "outputs": [],
   "source": [
    "load_se3.head()"
   ],
   "metadata": {
    "collapsed": false
   }
  },
  {
   "cell_type": "markdown",
   "source": [
    "#### preperation for merging of the load data from the different zones:\n",
    "The common values we will merge the data based on is the date time column \"Time (CET/CEST)\", however this column is named \"MTU (CET/CEST)\" in the prices dataset. The time column will be renamed to \"MTU (CET/CEST)\" so that the datasets can be merged. The column \"Day-ahead Total Load Forecast\" is redundant since we have the actual total load, so the forecast column will be dropped."
   ],
   "metadata": {
    "collapsed": false
   }
  },
  {
   "cell_type": "code",
   "execution_count": null,
   "outputs": [],
   "source": [
    "# dropping redundant columns\n",
    "load_no1 = load_no1.drop(['Day-ahead Total Load Forecast [MW] - BZN|NO1'], axis=1)\n",
    "load_no2 = load_no2.drop(['Day-ahead Total Load Forecast [MW] - BZN|NO2'], axis=1)\n",
    "load_no3 = load_no3.drop(['Day-ahead Total Load Forecast [MW] - BZN|NO3'], axis=1)\n",
    "load_no5 = load_no5.drop(['Day-ahead Total Load Forecast [MW] - BZN|NO5'], axis=1)\n",
    "load_se3 = load_se3.drop(['Day-ahead Total Load Forecast [MW] - BZN|SE3'], axis=1)"
   ],
   "metadata": {
    "collapsed": false
   }
  },
  {
   "cell_type": "code",
   "execution_count": null,
   "outputs": [],
   "source": [
    "# renaming time columns\n",
    "load_no1 = load_no1.rename(columns={'Time (CET/CEST)': 'MTU (CET/CEST)'})\n",
    "load_no2 = load_no2.rename(columns={'Time (CET/CEST)': 'MTU (CET/CEST)'})\n",
    "load_no3 = load_no3.rename(columns={'Time (CET/CEST)': 'MTU (CET/CEST)'})\n",
    "load_no5 = load_no5.rename(columns={'Time (CET/CEST)': 'MTU (CET/CEST)'})\n",
    "load_se3 = load_se3.rename(columns={'Time (CET/CEST)': 'MTU (CET/CEST)'})"
   ],
   "metadata": {
    "collapsed": false
   }
  },
  {
   "cell_type": "code",
   "execution_count": null,
   "outputs": [],
   "source": [
    "# merging the load data into one dataframe on the date time column 'MTU (CET/CEST)'\n",
    "load_data_frames = [load_no1, load_no2, load_no3, load_no5, load_se3]\n",
    "loads = reduce(lambda left, right: pd.merge(left,right, on=['MTU (CET/CEST)']), load_data_frames)\n",
    "\n",
    "loads.head()"
   ],
   "metadata": {
    "collapsed": false
   }
  },
  {
   "cell_type": "code",
   "execution_count": null,
   "outputs": [],
   "source": [],
   "metadata": {
    "collapsed": false
   }
  },
  {
   "cell_type": "code",
   "execution_count": null,
   "outputs": [],
   "source": [
    "# TODO: handle missing values: NB! Bytt til det endelige datasettet, itte det for prices!!!!!!!!!"
   ],
   "metadata": {
    "collapsed": false
   }
  },
  {
   "cell_type": "code",
   "execution_count": null,
   "outputs": [],
   "source": [
    "# checking data for missing values, if any\n",
    "prices.isna().sum()"
   ],
   "metadata": {
    "collapsed": false
   }
  },
  {
   "cell_type": "code",
   "execution_count": null,
   "outputs": [],
   "source": [
    "# checking which row is missing values\n",
    "null_data = prices[prices.isnull().any(axis=1)]"
   ],
   "metadata": {
    "collapsed": false
   }
  },
  {
   "cell_type": "code",
   "execution_count": null,
   "outputs": [],
   "source": [
    "null_data"
   ],
   "metadata": {
    "collapsed": false
   }
  },
  {
   "cell_type": "markdown",
   "source": [
    "This row is created as a result of the move from winter time to summer time"
   ],
   "metadata": {
    "collapsed": false
   }
  },
  {
   "cell_type": "code",
   "execution_count": null,
   "outputs": [],
   "source": [],
   "metadata": {
    "collapsed": false
   }
  },
  {
   "cell_type": "markdown",
   "source": [
    "### Aggregation of energy generation data"
   ],
   "metadata": {
    "collapsed": false
   }
  },
  {
   "cell_type": "code",
   "execution_count": null,
   "outputs": [],
   "source": [
    "actual_generation_no1 = pd.read_csv(\"../datasets/wind_solar_fossil_biomass_and_others/NO1 Actual Generation per Production Type_202201010000-202301010000.csv\")\n",
    "actual_generation_no2 = pd.read_csv(\"../datasets/wind_solar_fossil_biomass_and_others/NO2 Actual Generation per Production Type_202201010000-202301010000.csv\")\n",
    "actual_generation_no3 = pd.read_csv(\"../datasets/wind_solar_fossil_biomass_and_others/NO3 Actual Generation per Production Type_202201010000-202301010000.csv\")\n",
    "actual_generation_no5 = pd.read_csv(\"../datasets/wind_solar_fossil_biomass_and_others/NO5 Actual Generation per Production Type_202201010000-202301010000.csv\")\n",
    "actual_generation_se3 = pd.read_csv(\"../datasets/wind_solar_fossil_biomass_and_others/SE3 Actual Generation per Production Type_202201010000-202301010000.csv\")"
   ],
   "metadata": {
    "collapsed": false
   }
  },
  {
   "cell_type": "code",
   "execution_count": null,
   "outputs": [],
   "source": [
    "actual_generation_no1.head()"
   ],
   "metadata": {
    "collapsed": false
   }
  },
  {
   "cell_type": "code",
   "execution_count": null,
   "outputs": [],
   "source": [
    "actual_generation_no1.columns = ['Area','MTU (CET/CEST)','Biomass - BZN|NO1', 'Fossil Brown coal/Lignite - BZN|NO1', 'Fossil Coal-derived gas - BZN|NO1', 'Fossil Gas - BZN|NO1', 'Fossil Hard coal - BZN|NO1', 'Fossil Oil - BZN|NO1', 'Fossil Oil shale - BZN|NO1', 'Fossil Peat - BZN|NO1', 'Geothermal - BZN|NO1', 'Hydro Pumped Storage Aggregated- BZN|NO1', 'Hydro Pumped Storage Consumption - BZN|NO1', 'Hydro Run-of-river and poundage - BZN|NO1', 'Hydro Water Reservoir - BZN|NO1', 'Marine - BZN|NO1', 'Nuclear - BZN|NO1', 'Other - BZN|NO1', 'Other renewable - BZN|NO1', 'Solar - BZN|NO1', 'Waste - BZN|NO1', 'Wind Offshore - BZN|NO1', 'Wind Onshore - BZN|NO1']\n",
    "actual_generation_no2.columns = ['Area','MTU (CET/CEST)','Biomass - BZN|NO2', 'Fossil Brown coal/Lignite - BZN|NO2', 'Fossil Coal-derived gas - BZN|NO2', 'Fossil Gas - BZN|NO2', 'Fossil Hard coal - BZN|NO2', 'Fossil Oil - BZN|NO2', 'Fossil Oil shale - BZN|NO2', 'Fossil Peat - BZN|NO2', 'Geothermal - BZN|NO2', 'Hydro Pumped Storage Aggregated- BZN|NO2', 'Hydro Pumped Storage Consumption - BZN|NO2', 'Hydro Run-of-river and poundage - BZN|NO1', 'Hydro Water Reservoir - BZN|NO2', 'Marine - BZN|NO2', 'Nuclear - BZN|NO2', 'Other - BZN|NO2', 'Other renewable - BZN|NO2', 'Solar - BZN|NO2', 'Waste - BZN|NO2', 'Wind Offshore - BZN|NO2', 'Wind Onshore - BZN|NO2']\n",
    "actual_generation_no3.columns = ['Area','MTU (CET/CEST)','Biomass - BZN|NO3', 'Fossil Brown coal/Lignite - BZN|NO3', 'Fossil Coal-derived gas - BZN|NO3', 'Fossil Gas - BZN|NO3', 'Fossil Hard coal - BZN|NO3', 'Fossil Oil - BZN|NO3', 'Fossil Oil shale - BZN|NO3', 'Fossil Peat - BZN|NO3', 'Geothermal - BZN|NO3', 'Hydro Pumped Storage Aggregated- BZN|NO3', 'Hydro Pumped Storage Consumption - BZN|NO3', 'Hydro Run-of-river and poundage - BZN|NO3', 'Hydro Water Reservoir - BZN|NO3', 'Marine - BZN|NO3', 'Nuclear - BZN|NO3', 'Other - BZN|NO3', 'Other renewable - BZN|NO3', 'Solar - BZN|NO3', 'Waste - BZN|NO3', 'Wind Offshore - BZN|NO3', 'Wind Onshore - BZN|NO3']\n",
    "actual_generation_no5.columns = ['Area','MTU (CET/CEST)','Biomass - BZN|NO5', 'Fossil Brown coal/Lignite - BZN|NO5', 'Fossil Coal-derived gas - BZN|NO5', 'Fossil Gas - BZN|NO5', 'Fossil Hard coal - BZN|NO5', 'Fossil Oil - BZN|NO5', 'Fossil Oil shale - BZN|NO5', 'Fossil Peat - BZN|NO5', 'Geothermal - BZN|NO5', 'Hydro Pumped Storage Aggregated- BZN|NO5', 'Hydro Pumped Storage Consumption - BZN|NO5', 'Hydro Run-of-river and poundage - BZN|NO5', 'Hydro Water Reservoir - BZN|NO5', 'Marine - BZN|NO5', 'Nuclear - BZN|NO5', 'Other - BZN|NO5', 'Other renewable - BZN|NO5', 'Solar - BZN|NO5', 'Waste - BZN|NO5', 'Wind Offshore - BZN|NO5', 'Wind Onshore - BZN|NO5']\n",
    "actual_generation_se3.columns = ['Area','MTU (CET/CEST)','Biomass - BZN|SE3', 'Fossil Brown coal/Lignite - BZN|SE3', 'Fossil Coal-derived gas - BZN|SE3', 'Fossil Gas - BZN|SE3', 'Fossil Hard coal - BZN|SE3', 'Fossil Oil - BZN|SE3', 'Fossil Oil shale - BZN|SE3', 'Fossil Peat - BZN|SE3', 'Geothermal - BZN|SE3', 'Hydro Pumped Storage Aggregated- BZN|SE3', 'Hydro Pumped Storage Consumption - BZN|SE3', 'Hydro Run-of-river and poundage - BZN|SE3', 'Hydro Water Reservoir - BZN|SE3', 'Marine - BZN|SE3', 'Nuclear - BZN|SE3', 'Other - BZN|SE3', 'Other renewable - BZN|SE3', 'Solar - BZN|SE3', 'Waste - BZN|SE3', 'Wind Offshore - BZN|SE3', 'Wind Onshore - BZN|SE3']\n",
    "actual_generation_no1.head()"
   ],
   "metadata": {
    "collapsed": false
   }
  },
  {
   "cell_type": "code",
   "execution_count": null,
   "outputs": [],
   "source": [
    "# Dropping area because we keep them as separate columns\n",
    "actual_generation_no1 = actual_generation_no1.drop(['Area'], axis=1)\n",
    "actual_generation_no2 = actual_generation_no2.drop(['Area'], axis=1)\n",
    "actual_generation_no3 = actual_generation_no3.drop(['Area'], axis=1)\n",
    "actual_generation_no5 = actual_generation_no5.drop(['Area'], axis=1)\n",
    "actual_generation_se3 = actual_generation_se3.drop(['Area'], axis=1)\n",
    "actual_generation_no1.head()"
   ],
   "metadata": {
    "collapsed": false
   }
  },
  {
   "cell_type": "code",
   "execution_count": null,
   "outputs": [],
   "source": [
    "actual_generation_dataframes = [actual_generation_no1, actual_generation_no2, actual_generation_no3, actual_generation_no5, actual_generation_se3]\n",
    "actual_generation = reduce(lambda left, right: pd.merge(left,right, on=['MTU (CET/CEST)']), actual_generation_dataframes)\n",
    "\n",
    "actual_generation.head()"
   ],
   "metadata": {
    "collapsed": false
   }
  },
  {
   "cell_type": "markdown",
   "source": [
    "### Data Aggregation for import and export\n"
   ],
   "metadata": {
    "collapsed": false
   }
  },
  {
   "cell_type": "markdown",
   "source": [
    "We want to concatenate data for cross border physical flow between NO1 and neighbouring zones(NO2,NO3,NO5,SE3)."
   ],
   "metadata": {
    "collapsed": false
   }
  },
  {
   "cell_type": "code",
   "execution_count": null,
   "outputs": [],
   "source": [
    "NO1_NO2_import_export = pd.read_csv(\"../datasets/import_and_export/NO1-NO2 Import export Cross-Border Physical Flow_202201010000-202301010000.csv\")\n",
    "NO1_NO3_import_export = pd.read_csv(\"../datasets/import_and_export/NO1-NO3 Import export Cross-Border Physical Flow_202201010000-202301010000.csv\")\n",
    "NO1_NO5_import_export = pd.read_csv(\"../datasets/import_and_export/NO1-NO5 Import export Cross-Border Physical Flow_202201010000-202301010000.csv\")\n",
    "NO1_SE3_import_export = pd.read_csv(\"../datasets/import_and_export/NO1-SE3 Import export Cross-Border Physical Flow_202201010000-202301010000.csv\")\n",
    "NO1_NO2_import_export.head()"
   ],
   "metadata": {
    "collapsed": false
   }
  },
  {
   "cell_type": "markdown",
   "source": [
    "NO1_NO2_import_export.head()\n",
    "In other data files the time unite is MTU (CET/CEST), this is not teh case for import and export data. To be consistent Time (CET/CEST) is changed to MTU (CET/CEST). To make it clear that 'BZN|NO2 > BZN|NO1 [MW]' shows the cross border physical flow , CBF is used as an abbreviation."
   ],
   "metadata": {
    "collapsed": false
   }
  },
  {
   "cell_type": "code",
   "execution_count": 150,
   "outputs": [],
   "source": [
    "NO1_NO2_import_export.rename(columns = {'Time (CET/CEST)':'MTU (CET/CEST)', 'BZN|NO2 > BZN|NO1 [MW]' : 'CBF BZN|NO2 > BZN|NO1 [MW]', 'BZN|NO1 > BZN|NO2 [MW]' : 'CBF BZN|NO1 > BZN|NO2 [MW]'}, inplace = True)\n",
    "NO1_NO3_import_export.rename(columns = {'Time (CET/CEST)':'MTU (CET/CEST)', 'BZN|NO3 > BZN|NO1 [MW]' : 'CBF BZN|NO3 > BZN|NO1 [MW]', 'BZN|NO1 > BZN|NO3 [MW]' : 'CBF BZN|NO1 > BZN|NO3 [MW]'}, inplace = True)\n",
    "NO1_NO5_import_export.rename(columns = {'Time (CET/CEST)':'MTU (CET/CEST)', 'BZN|NO5 > BZN|NO1 [MW]' : 'CBF BZN|NO5 > BZN|NO1 [MW]', 'BZN|NO1 > BZN|NO5 [MW]' : 'CBF BZN|NO1 > BZN|NO5 [MW]'}, inplace = True)\n",
    "NO1_SE3_import_export.rename(columns = {'Time (CET/CEST)':'MTU (CET/CEST)', 'BZN|SE3 > BZN|NO1 [MW]' : 'CBF BZN|SE3 > BZN|NO1 [MW]', 'BZN|NO1 > BZN|SE3 [MW]' : 'CBF BZN|NO1 > BZN|SE3 [MW]'}, inplace = True)"
   ],
   "metadata": {
    "collapsed": false
   }
  },
  {
   "cell_type": "code",
   "execution_count": 151,
   "outputs": [
    {
     "data": {
      "text/plain": "                        MTU (CET/CEST)  CBF BZN|NO2 > BZN|NO1 [MW]  \\\n0  01.01.2022 00:00 - 01.01.2022 01:00                      1300.0   \n1  01.01.2022 01:00 - 01.01.2022 02:00                      1242.0   \n2  01.01.2022 02:00 - 01.01.2022 03:00                      1222.0   \n3  01.01.2022 03:00 - 01.01.2022 04:00                      1679.0   \n4  01.01.2022 04:00 - 01.01.2022 05:00                      1668.0   \n\n   CBF BZN|NO1 > BZN|NO2 [MW]  \n0                         0.0  \n1                         0.0  \n2                         0.0  \n3                         0.0  \n4                         0.0  ",
      "text/html": "<div>\n<style scoped>\n    .dataframe tbody tr th:only-of-type {\n        vertical-align: middle;\n    }\n\n    .dataframe tbody tr th {\n        vertical-align: top;\n    }\n\n    .dataframe thead th {\n        text-align: right;\n    }\n</style>\n<table border=\"1\" class=\"dataframe\">\n  <thead>\n    <tr style=\"text-align: right;\">\n      <th></th>\n      <th>MTU (CET/CEST)</th>\n      <th>CBF BZN|NO2 &gt; BZN|NO1 [MW]</th>\n      <th>CBF BZN|NO1 &gt; BZN|NO2 [MW]</th>\n    </tr>\n  </thead>\n  <tbody>\n    <tr>\n      <th>0</th>\n      <td>01.01.2022 00:00 - 01.01.2022 01:00</td>\n      <td>1300.0</td>\n      <td>0.0</td>\n    </tr>\n    <tr>\n      <th>1</th>\n      <td>01.01.2022 01:00 - 01.01.2022 02:00</td>\n      <td>1242.0</td>\n      <td>0.0</td>\n    </tr>\n    <tr>\n      <th>2</th>\n      <td>01.01.2022 02:00 - 01.01.2022 03:00</td>\n      <td>1222.0</td>\n      <td>0.0</td>\n    </tr>\n    <tr>\n      <th>3</th>\n      <td>01.01.2022 03:00 - 01.01.2022 04:00</td>\n      <td>1679.0</td>\n      <td>0.0</td>\n    </tr>\n    <tr>\n      <th>4</th>\n      <td>01.01.2022 04:00 - 01.01.2022 05:00</td>\n      <td>1668.0</td>\n      <td>0.0</td>\n    </tr>\n  </tbody>\n</table>\n</div>"
     },
     "execution_count": 151,
     "metadata": {},
     "output_type": "execute_result"
    }
   ],
   "source": [
    "NO1_NO2_import_export.head()"
   ],
   "metadata": {
    "collapsed": false
   }
  },
  {
   "cell_type": "markdown",
   "source": [
    "Concatenating all dataframes for import and export\n"
   ],
   "metadata": {
    "collapsed": false
   }
  },
  {
   "cell_type": "code",
   "execution_count": 152,
   "outputs": [
    {
     "data": {
      "text/plain": "                        MTU (CET/CEST)  CBF BZN|NO2 > BZN|NO1 [MW]  \\\n0  01.01.2022 00:00 - 01.01.2022 01:00                      1300.0   \n1  01.01.2022 01:00 - 01.01.2022 02:00                      1242.0   \n2  01.01.2022 02:00 - 01.01.2022 03:00                      1222.0   \n3  01.01.2022 03:00 - 01.01.2022 04:00                      1679.0   \n4  01.01.2022 04:00 - 01.01.2022 05:00                      1668.0   \n\n   CBF BZN|NO1 > BZN|NO2 [MW]  CBF BZN|NO3 > BZN|NO1 [MW]  \\\n0                         0.0                       384.0   \n1                         0.0                       371.0   \n2                         0.0                       383.0   \n3                         0.0                       362.0   \n4                         0.0                       324.0   \n\n   CBF BZN|NO1 > BZN|NO3 [MW]  CBF BZN|NO5 > BZN|NO1 [MW]  \\\n0                         0.0                       568.0   \n1                         0.0                       594.0   \n2                         0.0                       676.0   \n3                         0.0                       436.0   \n4                         0.0                       345.0   \n\n   CBF BZN|NO1 > BZN|NO5 [MW]  CBF BZN|SE3 > BZN|NO1 [MW]  \\\n0                         0.0                      1038.0   \n1                         0.0                      1065.0   \n2                         0.0                       927.0   \n3                         0.0                       748.0   \n4                         0.0                       918.0   \n\n   CBF BZN|NO1 > BZN|SE3 [MW]  \n0                         0.0  \n1                         0.0  \n2                         0.0  \n3                         0.0  \n4                         0.0  ",
      "text/html": "<div>\n<style scoped>\n    .dataframe tbody tr th:only-of-type {\n        vertical-align: middle;\n    }\n\n    .dataframe tbody tr th {\n        vertical-align: top;\n    }\n\n    .dataframe thead th {\n        text-align: right;\n    }\n</style>\n<table border=\"1\" class=\"dataframe\">\n  <thead>\n    <tr style=\"text-align: right;\">\n      <th></th>\n      <th>MTU (CET/CEST)</th>\n      <th>CBF BZN|NO2 &gt; BZN|NO1 [MW]</th>\n      <th>CBF BZN|NO1 &gt; BZN|NO2 [MW]</th>\n      <th>CBF BZN|NO3 &gt; BZN|NO1 [MW]</th>\n      <th>CBF BZN|NO1 &gt; BZN|NO3 [MW]</th>\n      <th>CBF BZN|NO5 &gt; BZN|NO1 [MW]</th>\n      <th>CBF BZN|NO1 &gt; BZN|NO5 [MW]</th>\n      <th>CBF BZN|SE3 &gt; BZN|NO1 [MW]</th>\n      <th>CBF BZN|NO1 &gt; BZN|SE3 [MW]</th>\n    </tr>\n  </thead>\n  <tbody>\n    <tr>\n      <th>0</th>\n      <td>01.01.2022 00:00 - 01.01.2022 01:00</td>\n      <td>1300.0</td>\n      <td>0.0</td>\n      <td>384.0</td>\n      <td>0.0</td>\n      <td>568.0</td>\n      <td>0.0</td>\n      <td>1038.0</td>\n      <td>0.0</td>\n    </tr>\n    <tr>\n      <th>1</th>\n      <td>01.01.2022 01:00 - 01.01.2022 02:00</td>\n      <td>1242.0</td>\n      <td>0.0</td>\n      <td>371.0</td>\n      <td>0.0</td>\n      <td>594.0</td>\n      <td>0.0</td>\n      <td>1065.0</td>\n      <td>0.0</td>\n    </tr>\n    <tr>\n      <th>2</th>\n      <td>01.01.2022 02:00 - 01.01.2022 03:00</td>\n      <td>1222.0</td>\n      <td>0.0</td>\n      <td>383.0</td>\n      <td>0.0</td>\n      <td>676.0</td>\n      <td>0.0</td>\n      <td>927.0</td>\n      <td>0.0</td>\n    </tr>\n    <tr>\n      <th>3</th>\n      <td>01.01.2022 03:00 - 01.01.2022 04:00</td>\n      <td>1679.0</td>\n      <td>0.0</td>\n      <td>362.0</td>\n      <td>0.0</td>\n      <td>436.0</td>\n      <td>0.0</td>\n      <td>748.0</td>\n      <td>0.0</td>\n    </tr>\n    <tr>\n      <th>4</th>\n      <td>01.01.2022 04:00 - 01.01.2022 05:00</td>\n      <td>1668.0</td>\n      <td>0.0</td>\n      <td>324.0</td>\n      <td>0.0</td>\n      <td>345.0</td>\n      <td>0.0</td>\n      <td>918.0</td>\n      <td>0.0</td>\n    </tr>\n  </tbody>\n</table>\n</div>"
     },
     "execution_count": 152,
     "metadata": {},
     "output_type": "execute_result"
    }
   ],
   "source": [
    "import_export_dfs_NO1_neighbours = [NO1_NO2_import_export, NO1_NO3_import_export, NO1_NO5_import_export, NO1_SE3_import_export]\n",
    "import_export_NO1_neighbours = reduce(lambda left, right: pd.merge(left,right, on=['MTU (CET/CEST)']), import_export_dfs_NO1_neighbours)\n",
    "\n",
    "import_export_NO1_neighbours.head()"
   ],
   "metadata": {
    "collapsed": false
   }
  },
  {
   "cell_type": "markdown",
   "source": [],
   "metadata": {
    "collapsed": false
   }
  }
 ],
 "metadata": {
  "kernelspec": {
   "display_name": "Python 3 (ipykernel)",
   "language": "python",
   "name": "python3"
  },
  "language_info": {
   "codemirror_mode": {
    "name": "ipython",
    "version": 3
   },
   "file_extension": ".py",
   "mimetype": "text/x-python",
   "name": "python",
   "nbconvert_exporter": "python",
   "pygments_lexer": "ipython3",
   "version": "3.9.7"
  }
 },
 "nbformat": 4,
 "nbformat_minor": 5
}
