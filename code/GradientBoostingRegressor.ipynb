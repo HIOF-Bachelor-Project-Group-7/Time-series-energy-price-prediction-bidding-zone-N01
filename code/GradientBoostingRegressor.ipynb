{
 "cells": [
  {
   "cell_type": "code",
   "execution_count": 11,
   "metadata": {
    "collapsed": true,
    "ExecuteTime": {
     "end_time": "2023-05-01T19:19:50.531187700Z",
     "start_time": "2023-05-01T19:19:50.499782300Z"
    }
   },
   "outputs": [],
   "source": [
    "import pandas as pd\n",
    "from matplotlib import pyplot as plt\n",
    "from sklearn.ensemble import GradientBoostingRegressor\n",
    "from sklearn.model_selection import GridSearchCV, train_test_split\n",
    "from sklearn.metrics import mean_squared_error, mean_absolute_error, mean_absolute_percentage_error\n",
    "import math"
   ]
  },
  {
   "cell_type": "code",
   "execution_count": 12,
   "outputs": [],
   "source": [
    "# Load the data\n",
    "data = pd.read_csv('../datasets/complete_data/df.csv')\n",
    "\n",
    "# Change column names to match naming convention\n",
    "data = data.rename(columns={'start MTU (UTC)': 'ds', 'Day-ahead Price [EUR/MWh] BZN|NO1': 'y'})\n",
    "\n",
    "data['ds'] = pd.to_datetime(data['ds'])\n",
    "data.set_index('ds', inplace=True)"
   ],
   "metadata": {
    "collapsed": false,
    "ExecuteTime": {
     "end_time": "2023-05-01T19:19:50.558943500Z",
     "start_time": "2023-05-01T19:19:50.503281500Z"
    }
   }
  },
  {
   "cell_type": "code",
   "execution_count": 13,
   "outputs": [],
   "source": [
    "# Split the data into training and testing sets\n",
    "train, test = train_test_split(data, test_size=0.2, random_state=0)"
   ],
   "metadata": {
    "collapsed": false,
    "ExecuteTime": {
     "end_time": "2023-05-01T19:19:50.558943500Z",
     "start_time": "2023-05-01T19:19:50.544800200Z"
    }
   }
  },
  {
   "cell_type": "code",
   "execution_count": 14,
   "outputs": [],
   "source": [
    "# Lagged features\n",
    "def create_lagged_dataset(df):\n",
    "    # creating a copy of the dataframe\n",
    "    lagged_df = df.copy()\n",
    "\n",
    "    # Adding lagged features for target variable\n",
    "    lagged_df['y'] = lagged_df['y'].shift(-1)\n",
    "\n",
    "    # Dropping the last row containing NaN values\n",
    "    lagged_df.dropna(inplace=True)\n",
    "\n",
    "    # Creating a dataframe with lagged features with 24 steps for each of the original features\n",
    "    lagged_df = pd.concat([lagged_df.shift(i) for i in range(24)], axis=1)\n",
    "\n",
    "    # Removing the NaN rows that have been created in the beginning of the dataset\n",
    "    lagged_df.dropna(inplace=True)\n",
    "\n",
    "    return lagged_df"
   ],
   "metadata": {
    "collapsed": false,
    "ExecuteTime": {
     "end_time": "2023-05-01T19:19:50.558943500Z",
     "start_time": "2023-05-01T19:19:50.550151100Z"
    }
   }
  },
  {
   "cell_type": "code",
   "execution_count": 15,
   "outputs": [
    {
     "name": "stdout",
     "output_type": "stream",
     "text": [
      "Training set shape:   (6984, 840) (6984, 24)\n",
      "Testing set shape:    (1728, 840) (1728, 24)\n"
     ]
    }
   ],
   "source": [
    "# Create lagged dataset\n",
    "lagged_train = create_lagged_dataset(train)\n",
    "lagged_test = create_lagged_dataset(test)\n",
    "\n",
    "# Split the training and testing sets into X_train , y_train , X_test , and y_test\n",
    "X_train = lagged_train.drop(['y'], axis=1)\n",
    "y_train = lagged_train['y']\n",
    "\n",
    "X_test = lagged_test.drop(['y'], axis=1)\n",
    "y_test = lagged_test['y']\n",
    "\n",
    "# Print the shape of the training, validation and testing datasets\n",
    "print(\"Training set shape:  \", X_train.shape, y_train.shape)\n",
    "print(\"Testing set shape:   \", X_test.shape, y_test.shape)"
   ],
   "metadata": {
    "collapsed": false,
    "ExecuteTime": {
     "end_time": "2023-05-01T19:19:50.645792900Z",
     "start_time": "2023-05-01T19:19:50.558943500Z"
    }
   }
  },
  {
   "cell_type": "code",
   "execution_count": 16,
   "outputs": [
    {
     "ename": "ValueError",
     "evalue": "\nAll the 135 fits failed.\nIt is very likely that your model is misconfigured.\nYou can try to debug the error by setting error_score='raise'.\n\nBelow are more details about the failures:\n--------------------------------------------------------------------------------\n108 fits failed with the following error:\nTraceback (most recent call last):\n  File \"D:\\Skole\\6. Semester\\Bachelor\\Time-series-energy-price-prediction-bidding-zone-N01\\venv\\Lib\\site-packages\\sklearn\\model_selection\\_validation.py\", line 686, in _fit_and_score\n    estimator.fit(X_train, y_train, **fit_params)\n  File \"D:\\Skole\\6. Semester\\Bachelor\\Time-series-energy-price-prediction-bidding-zone-N01\\venv\\Lib\\site-packages\\sklearn\\ensemble\\_gb.py\", line 437, in fit\n    y = column_or_1d(y, warn=True)\n        ^^^^^^^^^^^^^^^^^^^^^^^^^^\n  File \"D:\\Skole\\6. Semester\\Bachelor\\Time-series-energy-price-prediction-bidding-zone-N01\\venv\\Lib\\site-packages\\sklearn\\utils\\validation.py\", line 1202, in column_or_1d\n    raise ValueError(\nValueError: y should be a 1d array, got an array of shape (5587, 24) instead.\n\n--------------------------------------------------------------------------------\n27 fits failed with the following error:\nTraceback (most recent call last):\n  File \"D:\\Skole\\6. Semester\\Bachelor\\Time-series-energy-price-prediction-bidding-zone-N01\\venv\\Lib\\site-packages\\sklearn\\model_selection\\_validation.py\", line 686, in _fit_and_score\n    estimator.fit(X_train, y_train, **fit_params)\n  File \"D:\\Skole\\6. Semester\\Bachelor\\Time-series-energy-price-prediction-bidding-zone-N01\\venv\\Lib\\site-packages\\sklearn\\ensemble\\_gb.py\", line 437, in fit\n    y = column_or_1d(y, warn=True)\n        ^^^^^^^^^^^^^^^^^^^^^^^^^^\n  File \"D:\\Skole\\6. Semester\\Bachelor\\Time-series-energy-price-prediction-bidding-zone-N01\\venv\\Lib\\site-packages\\sklearn\\utils\\validation.py\", line 1202, in column_or_1d\n    raise ValueError(\nValueError: y should be a 1d array, got an array of shape (5588, 24) instead.\n",
     "output_type": "error",
     "traceback": [
      "\u001B[1;31m---------------------------------------------------------------------------\u001B[0m",
      "\u001B[1;31mValueError\u001B[0m                                Traceback (most recent call last)",
      "Cell \u001B[1;32mIn[16], line 15\u001B[0m\n\u001B[0;32m     12\u001B[0m grid_search \u001B[38;5;241m=\u001B[39m GridSearchCV(model, param_grid\u001B[38;5;241m=\u001B[39mparam_grid, cv\u001B[38;5;241m=\u001B[39m\u001B[38;5;241m5\u001B[39m, scoring\u001B[38;5;241m=\u001B[39m\u001B[38;5;124m'\u001B[39m\u001B[38;5;124mneg_mean_squared_error\u001B[39m\u001B[38;5;124m'\u001B[39m)\n\u001B[0;32m     14\u001B[0m \u001B[38;5;66;03m# Fit the GridSearchCV object to the training data\u001B[39;00m\n\u001B[1;32m---> 15\u001B[0m \u001B[43mgrid_search\u001B[49m\u001B[38;5;241;43m.\u001B[39;49m\u001B[43mfit\u001B[49m\u001B[43m(\u001B[49m\u001B[43mX_train\u001B[49m\u001B[43m,\u001B[49m\u001B[43m \u001B[49m\u001B[43my_train\u001B[49m\u001B[43m)\u001B[49m\n\u001B[0;32m     17\u001B[0m \u001B[38;5;66;03m# Get the best hyperparameters\u001B[39;00m\n\u001B[0;32m     18\u001B[0m best_params \u001B[38;5;241m=\u001B[39m grid_search\u001B[38;5;241m.\u001B[39mbest_params_\n",
      "File \u001B[1;32mD:\\Skole\\6. Semester\\Bachelor\\Time-series-energy-price-prediction-bidding-zone-N01\\venv\\Lib\\site-packages\\sklearn\\model_selection\\_search.py:874\u001B[0m, in \u001B[0;36mBaseSearchCV.fit\u001B[1;34m(self, X, y, groups, **fit_params)\u001B[0m\n\u001B[0;32m    868\u001B[0m     results \u001B[38;5;241m=\u001B[39m \u001B[38;5;28mself\u001B[39m\u001B[38;5;241m.\u001B[39m_format_results(\n\u001B[0;32m    869\u001B[0m         all_candidate_params, n_splits, all_out, all_more_results\n\u001B[0;32m    870\u001B[0m     )\n\u001B[0;32m    872\u001B[0m     \u001B[38;5;28;01mreturn\u001B[39;00m results\n\u001B[1;32m--> 874\u001B[0m \u001B[38;5;28;43mself\u001B[39;49m\u001B[38;5;241;43m.\u001B[39;49m\u001B[43m_run_search\u001B[49m\u001B[43m(\u001B[49m\u001B[43mevaluate_candidates\u001B[49m\u001B[43m)\u001B[49m\n\u001B[0;32m    876\u001B[0m \u001B[38;5;66;03m# multimetric is determined here because in the case of a callable\u001B[39;00m\n\u001B[0;32m    877\u001B[0m \u001B[38;5;66;03m# self.scoring the return type is only known after calling\u001B[39;00m\n\u001B[0;32m    878\u001B[0m first_test_score \u001B[38;5;241m=\u001B[39m all_out[\u001B[38;5;241m0\u001B[39m][\u001B[38;5;124m\"\u001B[39m\u001B[38;5;124mtest_scores\u001B[39m\u001B[38;5;124m\"\u001B[39m]\n",
      "File \u001B[1;32mD:\\Skole\\6. Semester\\Bachelor\\Time-series-energy-price-prediction-bidding-zone-N01\\venv\\Lib\\site-packages\\sklearn\\model_selection\\_search.py:1388\u001B[0m, in \u001B[0;36mGridSearchCV._run_search\u001B[1;34m(self, evaluate_candidates)\u001B[0m\n\u001B[0;32m   1386\u001B[0m \u001B[38;5;28;01mdef\u001B[39;00m \u001B[38;5;21m_run_search\u001B[39m(\u001B[38;5;28mself\u001B[39m, evaluate_candidates):\n\u001B[0;32m   1387\u001B[0m \u001B[38;5;250m    \u001B[39m\u001B[38;5;124;03m\"\"\"Search all candidates in param_grid\"\"\"\u001B[39;00m\n\u001B[1;32m-> 1388\u001B[0m     \u001B[43mevaluate_candidates\u001B[49m\u001B[43m(\u001B[49m\u001B[43mParameterGrid\u001B[49m\u001B[43m(\u001B[49m\u001B[38;5;28;43mself\u001B[39;49m\u001B[38;5;241;43m.\u001B[39;49m\u001B[43mparam_grid\u001B[49m\u001B[43m)\u001B[49m\u001B[43m)\u001B[49m\n",
      "File \u001B[1;32mD:\\Skole\\6. Semester\\Bachelor\\Time-series-energy-price-prediction-bidding-zone-N01\\venv\\Lib\\site-packages\\sklearn\\model_selection\\_search.py:851\u001B[0m, in \u001B[0;36mBaseSearchCV.fit.<locals>.evaluate_candidates\u001B[1;34m(candidate_params, cv, more_results)\u001B[0m\n\u001B[0;32m    844\u001B[0m \u001B[38;5;28;01melif\u001B[39;00m \u001B[38;5;28mlen\u001B[39m(out) \u001B[38;5;241m!=\u001B[39m n_candidates \u001B[38;5;241m*\u001B[39m n_splits:\n\u001B[0;32m    845\u001B[0m     \u001B[38;5;28;01mraise\u001B[39;00m \u001B[38;5;167;01mValueError\u001B[39;00m(\n\u001B[0;32m    846\u001B[0m         \u001B[38;5;124m\"\u001B[39m\u001B[38;5;124mcv.split and cv.get_n_splits returned \u001B[39m\u001B[38;5;124m\"\u001B[39m\n\u001B[0;32m    847\u001B[0m         \u001B[38;5;124m\"\u001B[39m\u001B[38;5;124minconsistent results. Expected \u001B[39m\u001B[38;5;132;01m{}\u001B[39;00m\u001B[38;5;124m \u001B[39m\u001B[38;5;124m\"\u001B[39m\n\u001B[0;32m    848\u001B[0m         \u001B[38;5;124m\"\u001B[39m\u001B[38;5;124msplits, got \u001B[39m\u001B[38;5;132;01m{}\u001B[39;00m\u001B[38;5;124m\"\u001B[39m\u001B[38;5;241m.\u001B[39mformat(n_splits, \u001B[38;5;28mlen\u001B[39m(out) \u001B[38;5;241m/\u001B[39m\u001B[38;5;241m/\u001B[39m n_candidates)\n\u001B[0;32m    849\u001B[0m     )\n\u001B[1;32m--> 851\u001B[0m \u001B[43m_warn_or_raise_about_fit_failures\u001B[49m\u001B[43m(\u001B[49m\u001B[43mout\u001B[49m\u001B[43m,\u001B[49m\u001B[43m \u001B[49m\u001B[38;5;28;43mself\u001B[39;49m\u001B[38;5;241;43m.\u001B[39;49m\u001B[43merror_score\u001B[49m\u001B[43m)\u001B[49m\n\u001B[0;32m    853\u001B[0m \u001B[38;5;66;03m# For callable self.scoring, the return type is only know after\u001B[39;00m\n\u001B[0;32m    854\u001B[0m \u001B[38;5;66;03m# calling. If the return type is a dictionary, the error scores\u001B[39;00m\n\u001B[0;32m    855\u001B[0m \u001B[38;5;66;03m# can now be inserted with the correct key. The type checking\u001B[39;00m\n\u001B[0;32m    856\u001B[0m \u001B[38;5;66;03m# of out will be done in `_insert_error_scores`.\u001B[39;00m\n\u001B[0;32m    857\u001B[0m \u001B[38;5;28;01mif\u001B[39;00m \u001B[38;5;28mcallable\u001B[39m(\u001B[38;5;28mself\u001B[39m\u001B[38;5;241m.\u001B[39mscoring):\n",
      "File \u001B[1;32mD:\\Skole\\6. Semester\\Bachelor\\Time-series-energy-price-prediction-bidding-zone-N01\\venv\\Lib\\site-packages\\sklearn\\model_selection\\_validation.py:367\u001B[0m, in \u001B[0;36m_warn_or_raise_about_fit_failures\u001B[1;34m(results, error_score)\u001B[0m\n\u001B[0;32m    360\u001B[0m \u001B[38;5;28;01mif\u001B[39;00m num_failed_fits \u001B[38;5;241m==\u001B[39m num_fits:\n\u001B[0;32m    361\u001B[0m     all_fits_failed_message \u001B[38;5;241m=\u001B[39m (\n\u001B[0;32m    362\u001B[0m         \u001B[38;5;124mf\u001B[39m\u001B[38;5;124m\"\u001B[39m\u001B[38;5;130;01m\\n\u001B[39;00m\u001B[38;5;124mAll the \u001B[39m\u001B[38;5;132;01m{\u001B[39;00mnum_fits\u001B[38;5;132;01m}\u001B[39;00m\u001B[38;5;124m fits failed.\u001B[39m\u001B[38;5;130;01m\\n\u001B[39;00m\u001B[38;5;124m\"\u001B[39m\n\u001B[0;32m    363\u001B[0m         \u001B[38;5;124m\"\u001B[39m\u001B[38;5;124mIt is very likely that your model is misconfigured.\u001B[39m\u001B[38;5;130;01m\\n\u001B[39;00m\u001B[38;5;124m\"\u001B[39m\n\u001B[0;32m    364\u001B[0m         \u001B[38;5;124m\"\u001B[39m\u001B[38;5;124mYou can try to debug the error by setting error_score=\u001B[39m\u001B[38;5;124m'\u001B[39m\u001B[38;5;124mraise\u001B[39m\u001B[38;5;124m'\u001B[39m\u001B[38;5;124m.\u001B[39m\u001B[38;5;130;01m\\n\u001B[39;00m\u001B[38;5;130;01m\\n\u001B[39;00m\u001B[38;5;124m\"\u001B[39m\n\u001B[0;32m    365\u001B[0m         \u001B[38;5;124mf\u001B[39m\u001B[38;5;124m\"\u001B[39m\u001B[38;5;124mBelow are more details about the failures:\u001B[39m\u001B[38;5;130;01m\\n\u001B[39;00m\u001B[38;5;132;01m{\u001B[39;00mfit_errors_summary\u001B[38;5;132;01m}\u001B[39;00m\u001B[38;5;124m\"\u001B[39m\n\u001B[0;32m    366\u001B[0m     )\n\u001B[1;32m--> 367\u001B[0m     \u001B[38;5;28;01mraise\u001B[39;00m \u001B[38;5;167;01mValueError\u001B[39;00m(all_fits_failed_message)\n\u001B[0;32m    369\u001B[0m \u001B[38;5;28;01melse\u001B[39;00m:\n\u001B[0;32m    370\u001B[0m     some_fits_failed_message \u001B[38;5;241m=\u001B[39m (\n\u001B[0;32m    371\u001B[0m         \u001B[38;5;124mf\u001B[39m\u001B[38;5;124m\"\u001B[39m\u001B[38;5;130;01m\\n\u001B[39;00m\u001B[38;5;132;01m{\u001B[39;00mnum_failed_fits\u001B[38;5;132;01m}\u001B[39;00m\u001B[38;5;124m fits failed out of a total of \u001B[39m\u001B[38;5;132;01m{\u001B[39;00mnum_fits\u001B[38;5;132;01m}\u001B[39;00m\u001B[38;5;124m.\u001B[39m\u001B[38;5;130;01m\\n\u001B[39;00m\u001B[38;5;124m\"\u001B[39m\n\u001B[0;32m    372\u001B[0m         \u001B[38;5;124m\"\u001B[39m\u001B[38;5;124mThe score on these train-test partitions for these parameters\u001B[39m\u001B[38;5;124m\"\u001B[39m\n\u001B[1;32m   (...)\u001B[0m\n\u001B[0;32m    376\u001B[0m         \u001B[38;5;124mf\u001B[39m\u001B[38;5;124m\"\u001B[39m\u001B[38;5;124mBelow are more details about the failures:\u001B[39m\u001B[38;5;130;01m\\n\u001B[39;00m\u001B[38;5;132;01m{\u001B[39;00mfit_errors_summary\u001B[38;5;132;01m}\u001B[39;00m\u001B[38;5;124m\"\u001B[39m\n\u001B[0;32m    377\u001B[0m     )\n",
      "\u001B[1;31mValueError\u001B[0m: \nAll the 135 fits failed.\nIt is very likely that your model is misconfigured.\nYou can try to debug the error by setting error_score='raise'.\n\nBelow are more details about the failures:\n--------------------------------------------------------------------------------\n108 fits failed with the following error:\nTraceback (most recent call last):\n  File \"D:\\Skole\\6. Semester\\Bachelor\\Time-series-energy-price-prediction-bidding-zone-N01\\venv\\Lib\\site-packages\\sklearn\\model_selection\\_validation.py\", line 686, in _fit_and_score\n    estimator.fit(X_train, y_train, **fit_params)\n  File \"D:\\Skole\\6. Semester\\Bachelor\\Time-series-energy-price-prediction-bidding-zone-N01\\venv\\Lib\\site-packages\\sklearn\\ensemble\\_gb.py\", line 437, in fit\n    y = column_or_1d(y, warn=True)\n        ^^^^^^^^^^^^^^^^^^^^^^^^^^\n  File \"D:\\Skole\\6. Semester\\Bachelor\\Time-series-energy-price-prediction-bidding-zone-N01\\venv\\Lib\\site-packages\\sklearn\\utils\\validation.py\", line 1202, in column_or_1d\n    raise ValueError(\nValueError: y should be a 1d array, got an array of shape (5587, 24) instead.\n\n--------------------------------------------------------------------------------\n27 fits failed with the following error:\nTraceback (most recent call last):\n  File \"D:\\Skole\\6. Semester\\Bachelor\\Time-series-energy-price-prediction-bidding-zone-N01\\venv\\Lib\\site-packages\\sklearn\\model_selection\\_validation.py\", line 686, in _fit_and_score\n    estimator.fit(X_train, y_train, **fit_params)\n  File \"D:\\Skole\\6. Semester\\Bachelor\\Time-series-energy-price-prediction-bidding-zone-N01\\venv\\Lib\\site-packages\\sklearn\\ensemble\\_gb.py\", line 437, in fit\n    y = column_or_1d(y, warn=True)\n        ^^^^^^^^^^^^^^^^^^^^^^^^^^\n  File \"D:\\Skole\\6. Semester\\Bachelor\\Time-series-energy-price-prediction-bidding-zone-N01\\venv\\Lib\\site-packages\\sklearn\\utils\\validation.py\", line 1202, in column_or_1d\n    raise ValueError(\nValueError: y should be a 1d array, got an array of shape (5588, 24) instead.\n"
     ]
    }
   ],
   "source": [
    "# Define the parameter grid for GridSearchCV\n",
    "param_grid = {\n",
    "    'n_estimators': [50, 100, 150],\n",
    "    'max_depth': [3, 5, 7],\n",
    "    'learning_rate': [0.05, 0.1, 0.2]\n",
    "}\n",
    "\n",
    "# Create an instance of the GradientBoostingRegressor class\n",
    "model = GradientBoostingRegressor()\n",
    "\n",
    "# Create an instance of the GridSearchCV class\n",
    "grid_search = GridSearchCV(model, param_grid=param_grid, cv=5, scoring='neg_mean_squared_error')\n",
    "\n",
    "# Fit the GridSearchCV object to the training data\n",
    "grid_search.fit(X_train, y_train)\n",
    "\n",
    "# Get the best hyperparameters\n",
    "best_params = grid_search.best_params_\n",
    "print(best_params)"
   ],
   "metadata": {
    "collapsed": false,
    "ExecuteTime": {
     "end_time": "2023-05-01T19:19:56.464980100Z",
     "start_time": "2023-05-01T19:19:50.647779Z"
    }
   }
  },
  {
   "cell_type": "code",
   "execution_count": null,
   "outputs": [],
   "source": [
    "# Train the model using the best hyperparameters\n",
    "model = GradientBoostingRegressor(**best_params)\n",
    "model.fit(X_train, y_train)"
   ],
   "metadata": {
    "collapsed": false
   }
  },
  {
   "cell_type": "code",
   "execution_count": null,
   "outputs": [],
   "source": [
    "# Make a prediction on the testing set\n",
    "predicted_values = model.predict(X_test)\n",
    "\n",
    "# Calculate the mean absolute error (MAE) between the predicted and actual values\n",
    "mae = mean_absolute_error(y_test, predicted_values)\n",
    "print(\"Mean absolute error:            \", mae)\n",
    "\n",
    "# Calculate the mean absolute percentage error (MAE) between the predicted and actual values\n",
    "mape = mean_absolute_percentage_error(y_test, predicted_values)\n",
    "print(\"Mean absolute percentage error: \", mape)\n",
    "\n",
    "# Calculating the mean squared error (MSE) between the predicted and actual values\n",
    "mse = mean_squared_error(y_test, predicted_values)\n",
    "print(\"Mean squared error:             \", mse)\n",
    "\n",
    "# Calculating the root mean squared error (RMSE) between the predicted and actual values\n",
    "rmse = math.sqrt(mse)\n",
    "print(\"Rood mean squared error:        \", rmse)"
   ],
   "metadata": {
    "collapsed": false
   }
  },
  {
   "cell_type": "code",
   "execution_count": null,
   "outputs": [],
   "source": [
    "# Get feature importance\n",
    "importance = model.feature_importances_\n",
    "\n",
    "# Create a dictionary of feature names and importance scores\n",
    "feature_importance = dict(zip(X_train.columns, importance))\n",
    "\n",
    "# Print the feature importance scores in descending order\n",
    "for feature, importance in sorted(feature_importance.items(), key=lambda x: x[1], reverse=True):\n",
    "    print(\"{}: {:.2f}%\".format(feature, importance*100))"
   ],
   "metadata": {
    "collapsed": false
   }
  },
  {
   "cell_type": "code",
   "execution_count": null,
   "outputs": [],
   "source": [
    "# Plot the predicted values against the actual values\n",
    "plt.plot(y_test, predicted_values, 'o')\n",
    "plt.xlabel('Actual values')\n",
    "plt.ylabel('Predicted values')\n",
    "plt.show()"
   ],
   "metadata": {
    "collapsed": false
   }
  }
 ],
 "metadata": {
  "kernelspec": {
   "display_name": "Python 3",
   "language": "python",
   "name": "python3"
  },
  "language_info": {
   "codemirror_mode": {
    "name": "ipython",
    "version": 2
   },
   "file_extension": ".py",
   "mimetype": "text/x-python",
   "name": "python",
   "nbconvert_exporter": "python",
   "pygments_lexer": "ipython2",
   "version": "2.7.6"
  }
 },
 "nbformat": 4,
 "nbformat_minor": 0
}
