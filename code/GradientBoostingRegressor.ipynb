{
 "cells": [
  {
   "cell_type": "code",
   "execution_count": 4,
   "metadata": {
    "collapsed": true
   },
   "outputs": [],
   "source": [
    "import pandas as pd\n",
    "from matplotlib import pyplot as plt\n",
    "from sklearn.ensemble import GradientBoostingRegressor\n",
    "from sklearn.model_selection import GridSearchCV, train_test_split\n",
    "from sklearn.metrics import mean_squared_error, mean_absolute_error, mean_absolute_percentage_error\n",
    "import math"
   ]
  },
  {
   "cell_type": "code",
   "execution_count": 5,
   "outputs": [],
   "source": [
    "# Load the data\n",
    "data = pd.read_csv('../datasets/complete_data/df.csv')\n",
    "\n",
    "# Change column names to match naming convention\n",
    "data = data.rename(columns={'start MTU (UTC)': 'ds', 'Day-ahead Price [EUR/MWh] BZN|NO1': 'y'})\n",
    "\n",
    "# Split the data into training and testing sets\n",
    "X = data.drop(['y', 'ds'], axis=1)\n",
    "y = data['y']\n",
    "X_train, X_test, y_train, y_test = train_test_split(X, y, test_size=0.2, random_state=0)\n",
    "\n",
    "# Define the parameter grid for GridSearchCV\n",
    "param_grid = {\n",
    "    'n_estimators': [50, 100, 150],\n",
    "    'max_depth': [3, 5, 7],\n",
    "    'learning_rate': [0.05, 0.1, 0.2]\n",
    "}"
   ],
   "metadata": {
    "collapsed": false
   }
  },
  {
   "cell_type": "code",
   "execution_count": 6,
   "outputs": [],
   "source": [
    "# Create an instance of the GradientBoostingRegressor class\n",
    "model = GradientBoostingRegressor()\n",
    "\n",
    "# Create an instance of the GridSearchCV class\n",
    "grid_search = GridSearchCV(model, param_grid=param_grid, cv=5, scoring='neg_mean_squared_error')\n",
    "\n",
    "# Fit the GridSearchCV object to the training data\n",
    "grid_search.fit(X_train, y_train)\n",
    "\n",
    "# Get the best hyperparameters\n",
    "best_params = grid_search.best_params_\n",
    "print(best_params)"
   ],
   "metadata": {
    "collapsed": false
   }
  },
  {
   "cell_type": "code",
   "execution_count": 7,
   "outputs": [
    {
     "data": {
      "text/plain": "GradientBoostingRegressor(learning_rate=0.2, max_depth=5, n_estimators=150)",
      "text/html": "<style>#sk-container-id-1 {color: black;background-color: white;}#sk-container-id-1 pre{padding: 0;}#sk-container-id-1 div.sk-toggleable {background-color: white;}#sk-container-id-1 label.sk-toggleable__label {cursor: pointer;display: block;width: 100%;margin-bottom: 0;padding: 0.3em;box-sizing: border-box;text-align: center;}#sk-container-id-1 label.sk-toggleable__label-arrow:before {content: \"▸\";float: left;margin-right: 0.25em;color: #696969;}#sk-container-id-1 label.sk-toggleable__label-arrow:hover:before {color: black;}#sk-container-id-1 div.sk-estimator:hover label.sk-toggleable__label-arrow:before {color: black;}#sk-container-id-1 div.sk-toggleable__content {max-height: 0;max-width: 0;overflow: hidden;text-align: left;background-color: #f0f8ff;}#sk-container-id-1 div.sk-toggleable__content pre {margin: 0.2em;color: black;border-radius: 0.25em;background-color: #f0f8ff;}#sk-container-id-1 input.sk-toggleable__control:checked~div.sk-toggleable__content {max-height: 200px;max-width: 100%;overflow: auto;}#sk-container-id-1 input.sk-toggleable__control:checked~label.sk-toggleable__label-arrow:before {content: \"▾\";}#sk-container-id-1 div.sk-estimator input.sk-toggleable__control:checked~label.sk-toggleable__label {background-color: #d4ebff;}#sk-container-id-1 div.sk-label input.sk-toggleable__control:checked~label.sk-toggleable__label {background-color: #d4ebff;}#sk-container-id-1 input.sk-hidden--visually {border: 0;clip: rect(1px 1px 1px 1px);clip: rect(1px, 1px, 1px, 1px);height: 1px;margin: -1px;overflow: hidden;padding: 0;position: absolute;width: 1px;}#sk-container-id-1 div.sk-estimator {font-family: monospace;background-color: #f0f8ff;border: 1px dotted black;border-radius: 0.25em;box-sizing: border-box;margin-bottom: 0.5em;}#sk-container-id-1 div.sk-estimator:hover {background-color: #d4ebff;}#sk-container-id-1 div.sk-parallel-item::after {content: \"\";width: 100%;border-bottom: 1px solid gray;flex-grow: 1;}#sk-container-id-1 div.sk-label:hover label.sk-toggleable__label {background-color: #d4ebff;}#sk-container-id-1 div.sk-serial::before {content: \"\";position: absolute;border-left: 1px solid gray;box-sizing: border-box;top: 0;bottom: 0;left: 50%;z-index: 0;}#sk-container-id-1 div.sk-serial {display: flex;flex-direction: column;align-items: center;background-color: white;padding-right: 0.2em;padding-left: 0.2em;position: relative;}#sk-container-id-1 div.sk-item {position: relative;z-index: 1;}#sk-container-id-1 div.sk-parallel {display: flex;align-items: stretch;justify-content: center;background-color: white;position: relative;}#sk-container-id-1 div.sk-item::before, #sk-container-id-1 div.sk-parallel-item::before {content: \"\";position: absolute;border-left: 1px solid gray;box-sizing: border-box;top: 0;bottom: 0;left: 50%;z-index: -1;}#sk-container-id-1 div.sk-parallel-item {display: flex;flex-direction: column;z-index: 1;position: relative;background-color: white;}#sk-container-id-1 div.sk-parallel-item:first-child::after {align-self: flex-end;width: 50%;}#sk-container-id-1 div.sk-parallel-item:last-child::after {align-self: flex-start;width: 50%;}#sk-container-id-1 div.sk-parallel-item:only-child::after {width: 0;}#sk-container-id-1 div.sk-dashed-wrapped {border: 1px dashed gray;margin: 0 0.4em 0.5em 0.4em;box-sizing: border-box;padding-bottom: 0.4em;background-color: white;}#sk-container-id-1 div.sk-label label {font-family: monospace;font-weight: bold;display: inline-block;line-height: 1.2em;}#sk-container-id-1 div.sk-label-container {text-align: center;}#sk-container-id-1 div.sk-container {/* jupyter's `normalize.less` sets `[hidden] { display: none; }` but bootstrap.min.css set `[hidden] { display: none !important; }` so we also need the `!important` here to be able to override the default hidden behavior on the sphinx rendered scikit-learn.org. See: https://github.com/scikit-learn/scikit-learn/issues/21755 */display: inline-block !important;position: relative;}#sk-container-id-1 div.sk-text-repr-fallback {display: none;}</style><div id=\"sk-container-id-1\" class=\"sk-top-container\"><div class=\"sk-text-repr-fallback\"><pre>GradientBoostingRegressor(learning_rate=0.2, max_depth=5, n_estimators=150)</pre><b>In a Jupyter environment, please rerun this cell to show the HTML representation or trust the notebook. <br />On GitHub, the HTML representation is unable to render, please try loading this page with nbviewer.org.</b></div><div class=\"sk-container\" hidden><div class=\"sk-item\"><div class=\"sk-estimator sk-toggleable\"><input class=\"sk-toggleable__control sk-hidden--visually\" id=\"sk-estimator-id-1\" type=\"checkbox\" checked><label for=\"sk-estimator-id-1\" class=\"sk-toggleable__label sk-toggleable__label-arrow\">GradientBoostingRegressor</label><div class=\"sk-toggleable__content\"><pre>GradientBoostingRegressor(learning_rate=0.2, max_depth=5, n_estimators=150)</pre></div></div></div></div></div>"
     },
     "execution_count": 7,
     "metadata": {},
     "output_type": "execute_result"
    }
   ],
   "source": [
    "# Train the model using the best hyperparameters\n",
    "model = GradientBoostingRegressor(**best_params)\n",
    "model.fit(X_train, y_train)"
   ],
   "metadata": {
    "collapsed": false
   }
  },
  {
   "cell_type": "code",
   "execution_count": 8,
   "outputs": [
    {
     "name": "stdout",
     "output_type": "stream",
     "text": [
      "Mean absolute error:             1.0431643260838601\n",
      "Mean absolute percentage error:  0.008799413568678712\n",
      "Mean squared error:              8.510767696815819\n",
      "Rood mean squared error:         2.9173220077351454\n"
     ]
    }
   ],
   "source": [
    "# Make a prediction on the testing set\n",
    "predicted_values = model.predict(X_test)\n",
    "\n",
    "# Calculate the mean absolute error (MAE) between the predicted and actual values\n",
    "mae = mean_absolute_error(y_test, predicted_values)\n",
    "print(\"Mean absolute error:            \", mae)\n",
    "\n",
    "# Calculate the mean absolute percentage error (MAE) between the predicted and actual values\n",
    "mape = mean_absolute_percentage_error(y_test, predicted_values)\n",
    "print(\"Mean absolute percentage error: \", mape)\n",
    "\n",
    "# Calculating the mean squared error (MSE) between the predicted and actual values\n",
    "mse = mean_squared_error(y_test, predicted_values)\n",
    "print(\"Mean squared error:             \", mse)\n",
    "\n",
    "# Calculating the root mean squared error (RMSE) between the predicted and actual values\n",
    "rmse = math.sqrt(mse)\n",
    "print(\"Rood mean squared error:        \", rmse)"
   ],
   "metadata": {
    "collapsed": false
   }
  },
  {
   "cell_type": "code",
   "execution_count": 9,
   "outputs": [
    {
     "name": "stdout",
     "output_type": "stream",
     "text": [
      "Day-ahead Price [EUR/MWh] BZN|NO5: 99.74%\n",
      "Waste - BZN|NO2: 0.05%\n",
      "Day-ahead Price [EUR/MWh] BZN|SE3: 0.04%\n",
      "Other - BZN|SE3: 0.03%\n",
      "Hydro Run-of-river and poundage - BZN|NO3: 0.02%\n",
      "Wind Onshore - BZN|NO3: 0.02%\n",
      "Hydro Run-of-river and poundage - BZN|NO1: 0.01%\n",
      "Hydro Run-of-river and poundage - BZN|NO5: 0.01%\n",
      "Hydro Pumped Storage Aggregated- BZN|NO2: 0.01%\n",
      "Hydro Water Reservoir - BZN|NO3: 0.01%\n",
      "Hydro Water Reservoir - BZN|SE3: 0.01%\n",
      "Hydro Water Reservoir - BZN|NO1: 0.01%\n",
      "Fossil Gas - BZN|NO5: 0.01%\n",
      "Solar - BZN|SE3: 0.01%\n",
      "Actual Total Load [MW] - BZN|NO5: 0.01%\n",
      "Hydro Water Reservoir - BZN|NO2: 0.00%\n",
      "Actual Total Load [MW] - BZN|SE3: 0.00%\n",
      "Wind Onshore - BZN|SE3: 0.00%\n",
      "CBF BZN|NO5 > BZN|NO1 [MW]: 0.00%\n",
      "CBF BZN|NO2 > BZN|NO1 [MW]: 0.00%\n",
      "Stored Energy Value Water Reservoirs and Hydro Storage Plants [MWh] - BZN|SE3: 0.00%\n",
      "Wind Onshore - BZN|NO1: 0.00%\n",
      "Day-ahead Price [EUR/MWh] BZN|NO3: 0.00%\n",
      "CBF BZN|NO3 > BZN|NO1 [MW]: 0.00%\n",
      "Wind Onshore - BZN|NO2: 0.00%\n",
      "Nuclear - BZN|SE3: 0.00%\n",
      "CBF BZN|NO1 > BZN|NO5 [MW]: 0.00%\n",
      "Waste - BZN|NO5: 0.00%\n",
      "Hydro Run-of-river and poundage - BZN|NO2: 0.00%\n",
      "Hydro Pumped Storage Aggregated- BZN|NO5: 0.00%\n",
      "CBF BZN|NO1 > BZN|SE3 [MW]: 0.00%\n",
      "Other renewable - BZN|NO3: 0.00%\n",
      "CBF BZN|NO1 > BZN|NO2 [MW]: 0.00%\n",
      "CBF BZN|SE3 > BZN|NO1 [MW]: 0.00%\n",
      "Waste - BZN|NO3: 0.00%\n",
      "Stored Energy Value Water Reservoirs and Hydro Storage Plants [MWh] - BZN|NO5: 0.00%\n",
      "CBF BZN|NO1 > BZN|NO3 [MW]: 0.00%\n",
      "Hydro Pumped Storage Aggregated- BZN|NO3: 0.00%\n"
     ]
    }
   ],
   "source": [
    "# Get feature importance\n",
    "importance = model.feature_importances_\n",
    "\n",
    "# Create a dictionary of feature names and importance scores\n",
    "feature_importance = dict(zip(X.columns, importance))\n",
    "\n",
    "# Print the feature importance scores in descending order\n",
    "for feature, importance in sorted(feature_importance.items(), key=lambda x: x[1], reverse=True):\n",
    "    print(\"{}: {:.2f}%\".format(feature, importance*100))"
   ],
   "metadata": {
    "collapsed": false
   }
  },
  {
   "cell_type": "code",
   "execution_count": null,
   "outputs": [],
   "source": [
    "# Plot the predicted values against the actual values\n",
    "plt.plot(y_test, predicted_values, 'o')\n",
    "plt.xlabel('Actual values')\n",
    "plt.ylabel('Predicted values')\n",
    "plt.show()"
   ],
   "metadata": {
    "collapsed": false
   }
  }
 ],
 "metadata": {
  "kernelspec": {
   "display_name": "Python 3",
   "language": "python",
   "name": "python3"
  },
  "language_info": {
   "codemirror_mode": {
    "name": "ipython",
    "version": 2
   },
   "file_extension": ".py",
   "mimetype": "text/x-python",
   "name": "python",
   "nbconvert_exporter": "python",
   "pygments_lexer": "ipython2",
   "version": "2.7.6"
  }
 },
 "nbformat": 4,
 "nbformat_minor": 0
}
