{
 "cells": [
  {
   "cell_type": "code",
   "execution_count": 78,
   "metadata": {
    "collapsed": true
   },
   "outputs": [],
   "source": [
    "import pandas as pd\n",
    "import re\n",
    "import matplotlib.pyplot as plt\n",
    "import seaborn as sns\n",
    "import xgboost as xgb\n",
    "from sklearn.model_selection import TimeSeriesSplit, train_test_split\n",
    "from sklearn.model_selection import RandomizedSearchCV\n",
    "import numpy as np\n",
    "from skimage.metrics import mean_squared_error\n",
    "from sklearn.metrics import mean_absolute_error\n",
    "import time\n",
    "color_pal = sns.color_palette()\n",
    "plt.style.use('fivethirtyeight')\n",
    "\n",
    "# set the max columns to none\n",
    "pd.set_option('display.max_columns', None)"
   ]
  },
  {
   "cell_type": "markdown",
   "metadata": {},
   "source": [
    "# 1. Load data"
   ]
  },
  {
   "cell_type": "code",
   "execution_count": 79,
   "metadata": {},
   "outputs": [
    {
     "data": {
      "text/plain": "          start MTU (UTC)  Day-ahead Price [EUR/MWh] BZN|NO1  \\\n0     2022-01-01 00:00:00                             129.30   \n1     2022-01-01 01:00:00                             132.08   \n2     2022-01-01 02:00:00                             111.44   \n3     2022-01-01 03:00:00                             112.35   \n4     2022-01-01 04:00:00                             113.90   \n...                   ...                                ...   \n8755  2022-12-31 19:00:00                             123.61   \n8756  2022-12-31 20:00:00                             121.09   \n8757  2022-12-31 21:00:00                             120.00   \n8758  2022-12-31 22:00:00                             119.98   \n8759  2022-12-31 23:00:00                             119.32   \n\n      Day-ahead Price [EUR/MWh] BZN|NO3  Day-ahead Price [EUR/MWh] BZN|NO5  \\\n0                                 41.33                             129.30   \n1                                 42.18                             132.08   \n2                                 44.37                             111.44   \n3                                 37.67                             112.35   \n4                                 39.70                             113.90   \n...                                 ...                                ...   \n8755                              23.82                             123.61   \n8756                              23.93                             121.09   \n8757                              23.75                             120.00   \n8758                              23.56                             119.98   \n8759                              23.35                             119.32   \n\n      Day-ahead Price [EUR/MWh] BZN|SE3  Actual Total Load [MW] - BZN|NO5  \\\n0                                 41.33                       1991.000000   \n1                                 42.18                       1992.666667   \n2                                 44.37                       1994.333333   \n3                                 37.67                       1996.000000   \n4                                 39.70                       1985.500000   \n...                                 ...                               ...   \n8755                              11.57                       2128.000000   \n8756                              14.89                       2089.000000   \n8757                               9.94                       2037.000000   \n8758                               4.84                       1991.000000   \n8759                               2.01                       2009.000000   \n\n      Hydro Run-of-river and poundage - BZN|NO1  \\\n0                                         878.0   \n1                                         897.0   \n2                                         885.0   \n3                                         890.0   \n4                                         892.0   \n...                                         ...   \n8755                                      992.0   \n8756                                      980.0   \n8757                                      980.0   \n8758                                      989.0   \n8759                                     1006.0   \n\n      Hydro Water Reservoir - BZN|NO1  Wind Onshore - BZN|NO1  \\\n0                               321.0                   172.0   \n1                               330.0                   151.0   \n2                               275.0                   160.0   \n3                               269.0                   148.0   \n4                               300.0                   147.0   \n...                               ...                     ...   \n8755                            621.0                    74.0   \n8756                            610.0                    70.5   \n8757                            588.0                    67.0   \n8758                            585.0                    69.0   \n8759                            583.0                    74.0   \n\n      Hydro Pumped Storage Aggregated- BZN|NO2  \\\n0                                          1.0   \n1                                          1.0   \n2                                          1.0   \n3                                          1.0   \n4                                          1.0   \n...                                        ...   \n8755                                       1.0   \n8756                                       1.0   \n8757                                       1.0   \n8758                                       0.0   \n8759                                       0.0   \n\n      Hydro Run-of-river and poundage - BZN|NO2  \\\n0                                         629.0   \n1                                         627.0   \n2                                         624.0   \n3                                         624.0   \n4                                         605.0   \n...                                         ...   \n8755                                      823.0   \n8756                                      828.0   \n8757                                      814.0   \n8758                                      814.0   \n8759                                      761.0   \n\n      Hydro Water Reservoir - BZN|NO2  Waste - BZN|NO2  \\\n0                         2153.333333              5.0   \n1                         2012.000000              4.0   \n2                         1999.555556              4.0   \n3                         1987.111111              4.0   \n4                         1974.666667              4.0   \n...                               ...              ...   \n8755                      2399.000000             13.0   \n8756                      2265.000000             13.0   \n8757                      2265.000000             13.0   \n8758                      2098.000000             13.0   \n8759                      1910.000000             13.0   \n\n      Wind Onshore - BZN|NO2  Hydro Pumped Storage Aggregated- BZN|NO3  \\\n0                      244.0                                      40.0   \n1                      115.0                                      42.0   \n2                       55.0                                      45.0   \n3                       61.0                                      34.0   \n4                       88.0                                      38.0   \n...                      ...                                       ...   \n8755                   443.0                                      34.0   \n8756                   443.0                                      35.0   \n8757                   443.0                                      35.0   \n8758                   443.0                                      35.0   \n8759                   443.0                                      45.0   \n\n      Hydro Run-of-river and poundage - BZN|NO3  \\\n0                                         389.0   \n1                                         390.0   \n2                                         405.0   \n3                                         393.0   \n4                                         398.0   \n...                                         ...   \n8755                                      187.0   \n8756                                      187.0   \n8757                                      182.0   \n8758                                      183.0   \n8759                                      183.0   \n\n      Hydro Water Reservoir - BZN|NO3  Other renewable - BZN|NO3  \\\n0                              2166.0                       12.0   \n1                              2187.0                       12.0   \n2                              2183.0                       12.0   \n3                              2076.0                       12.0   \n4                              2098.0                       11.0   \n...                               ...                        ...   \n8755                            987.0                       23.0   \n8756                            997.0                       23.0   \n8757                            868.0                       23.0   \n8758                            814.0                       23.0   \n8759                            820.0                       23.0   \n\n      Wind Onshore - BZN|NO3  Fossil Gas - BZN|NO5  \\\n0                      219.0                  82.0   \n1                      170.0                  82.0   \n2                      126.0                  82.0   \n3                       81.0                  82.0   \n4                       45.0                  82.0   \n...                      ...                   ...   \n8755                  1576.0                   7.0   \n8756                  1548.0                   7.0   \n8757                  1525.0                   7.0   \n8758                  1498.0                   7.0   \n8759                  1540.0                   7.0   \n\n      Hydro Pumped Storage Aggregated- BZN|NO5  \\\n0                                         66.0   \n1                                         66.0   \n2                                         65.0   \n3                                         65.0   \n4                                         65.0   \n...                                        ...   \n8755                                      24.0   \n8756                                      25.0   \n8757                                      25.0   \n8758                                      25.0   \n8759                                      29.0   \n\n      Hydro Run-of-river and poundage - BZN|NO5  Waste - BZN|NO5  \\\n0                                         227.0             19.0   \n1                                         216.0             20.0   \n2                                         215.0             20.0   \n3                                         209.0             20.0   \n4                                         210.0             19.0   \n...                                         ...              ...   \n8755                                      148.0             14.0   \n8756                                      135.0             14.0   \n8757                                      127.0             14.0   \n8758                                      137.0             14.0   \n8759                                      131.0             14.0   \n\n      Hydro Water Reservoir - BZN|SE3  Nuclear - BZN|SE3  Solar - BZN|SE3  \\\n0                               818.0             5842.0              0.0   \n1                               818.0             5839.0              0.0   \n2                               838.0             5839.0              0.0   \n3                               842.0             5840.0              0.0   \n4                               841.0             5839.0              0.0   \n...                               ...                ...              ...   \n8755                            627.0             5796.0              0.0   \n8756                            573.0             5797.0              0.0   \n8757                            544.0             5797.0              0.0   \n8758                            539.0             5796.0              0.0   \n8759                            516.0             5799.0              0.0   \n\n      Wind Onshore - BZN|SE3  CBF BZN|NO2 > BZN|NO1 [MW]  \\\n0                      999.0                      1242.0   \n1                      958.0                      1222.0   \n2                      888.0                      1679.0   \n3                      788.0                      1668.0   \n4                      734.0                      1697.0   \n...                      ...                         ...   \n8755                  1499.0                       621.0   \n8756                  1282.0                       595.0   \n8757                  1168.0                       608.0   \n8758                  1033.0                       504.0   \n8759                   877.0                       956.0   \n\n      CBF BZN|NO1 > BZN|NO2 [MW]  CBF BZN|NO3 > BZN|NO1 [MW]  \\\n0                            0.0                       371.0   \n1                            0.0                       383.0   \n2                            0.0                       362.0   \n3                            0.0                       324.0   \n4                            0.0                       339.0   \n...                          ...                         ...   \n8755                         0.0                       146.0   \n8756                         0.0                       124.0   \n8757                         0.0                        91.0   \n8758                         0.0                        90.0   \n8759                         0.0                        83.0   \n\n      CBF BZN|NO1 > BZN|NO3 [MW]  CBF BZN|NO5 > BZN|NO1 [MW]  \\\n0                            0.0                       594.0   \n1                            0.0                       676.0   \n2                            0.0                       436.0   \n3                            0.0                       345.0   \n4                            0.0                       412.0   \n...                          ...                         ...   \n8755                         0.0                        43.0   \n8756                         0.0                        24.0   \n8757                         0.0                        41.0   \n8758                         0.0                         0.0   \n8759                         0.0                         0.0   \n\n      CBF BZN|NO1 > BZN|NO5 [MW]  CBF BZN|SE3 > BZN|NO1 [MW]  \\\n0                            0.0                      1065.0   \n1                            0.0                       927.0   \n2                            0.0                       748.0   \n3                            0.0                       918.0   \n4                            0.0                       826.0   \n...                          ...                         ...   \n8755                         0.0                      2083.0   \n8756                         0.0                      2097.0   \n8757                         0.0                      2007.0   \n8758                        29.0                      2119.0   \n8759                        12.0                      1612.0   \n\n      CBF BZN|NO1 > BZN|SE3 [MW]  \\\n0                            0.0   \n1                            0.0   \n2                            0.0   \n3                            0.0   \n4                            0.0   \n...                          ...   \n8755                         0.0   \n8756                         0.0   \n8757                         0.0   \n8758                         0.0   \n8759                         0.0   \n\n      Stored Energy Value Water Reservoirs and Hydro Storage Plants [MWh] - BZN|NO3  \\\n0                                             5688093.0                               \n1                                             5688093.0                               \n2                                             5688093.0                               \n3                                             5688093.0                               \n4                                             5688093.0                               \n...                                                 ...                               \n8755                                          5038234.0                               \n8756                                          5038234.0                               \n8757                                          5038234.0                               \n8758                                          5038234.0                               \n8759                                          5038234.0                               \n\n      Stored Energy Value Water Reservoirs and Hydro Storage Plants [MWh] - BZN|SE3  \n0                                             1656000.0                              \n1                                             1656000.0                              \n2                                             1656000.0                              \n3                                             1656000.0                              \n4                                             1656000.0                              \n...                                                 ...                              \n8755                                          1579000.0                              \n8756                                          1579000.0                              \n8757                                          1579000.0                              \n8758                                          1579000.0                              \n8759                                          1579000.0                              \n\n[8760 rows x 37 columns]",
      "text/html": "<div>\n<style scoped>\n    .dataframe tbody tr th:only-of-type {\n        vertical-align: middle;\n    }\n\n    .dataframe tbody tr th {\n        vertical-align: top;\n    }\n\n    .dataframe thead th {\n        text-align: right;\n    }\n</style>\n<table border=\"1\" class=\"dataframe\">\n  <thead>\n    <tr style=\"text-align: right;\">\n      <th></th>\n      <th>start MTU (UTC)</th>\n      <th>Day-ahead Price [EUR/MWh] BZN|NO1</th>\n      <th>Day-ahead Price [EUR/MWh] BZN|NO3</th>\n      <th>Day-ahead Price [EUR/MWh] BZN|NO5</th>\n      <th>Day-ahead Price [EUR/MWh] BZN|SE3</th>\n      <th>Actual Total Load [MW] - BZN|NO5</th>\n      <th>Hydro Run-of-river and poundage - BZN|NO1</th>\n      <th>Hydro Water Reservoir - BZN|NO1</th>\n      <th>Wind Onshore - BZN|NO1</th>\n      <th>Hydro Pumped Storage Aggregated- BZN|NO2</th>\n      <th>Hydro Run-of-river and poundage - BZN|NO2</th>\n      <th>Hydro Water Reservoir - BZN|NO2</th>\n      <th>Waste - BZN|NO2</th>\n      <th>Wind Onshore - BZN|NO2</th>\n      <th>Hydro Pumped Storage Aggregated- BZN|NO3</th>\n      <th>Hydro Run-of-river and poundage - BZN|NO3</th>\n      <th>Hydro Water Reservoir - BZN|NO3</th>\n      <th>Other renewable - BZN|NO3</th>\n      <th>Wind Onshore - BZN|NO3</th>\n      <th>Fossil Gas - BZN|NO5</th>\n      <th>Hydro Pumped Storage Aggregated- BZN|NO5</th>\n      <th>Hydro Run-of-river and poundage - BZN|NO5</th>\n      <th>Waste - BZN|NO5</th>\n      <th>Hydro Water Reservoir - BZN|SE3</th>\n      <th>Nuclear - BZN|SE3</th>\n      <th>Solar - BZN|SE3</th>\n      <th>Wind Onshore - BZN|SE3</th>\n      <th>CBF BZN|NO2 &gt; BZN|NO1 [MW]</th>\n      <th>CBF BZN|NO1 &gt; BZN|NO2 [MW]</th>\n      <th>CBF BZN|NO3 &gt; BZN|NO1 [MW]</th>\n      <th>CBF BZN|NO1 &gt; BZN|NO3 [MW]</th>\n      <th>CBF BZN|NO5 &gt; BZN|NO1 [MW]</th>\n      <th>CBF BZN|NO1 &gt; BZN|NO5 [MW]</th>\n      <th>CBF BZN|SE3 &gt; BZN|NO1 [MW]</th>\n      <th>CBF BZN|NO1 &gt; BZN|SE3 [MW]</th>\n      <th>Stored Energy Value Water Reservoirs and Hydro Storage Plants [MWh] - BZN|NO3</th>\n      <th>Stored Energy Value Water Reservoirs and Hydro Storage Plants [MWh] - BZN|SE3</th>\n    </tr>\n  </thead>\n  <tbody>\n    <tr>\n      <th>0</th>\n      <td>2022-01-01 00:00:00</td>\n      <td>129.30</td>\n      <td>41.33</td>\n      <td>129.30</td>\n      <td>41.33</td>\n      <td>1991.000000</td>\n      <td>878.0</td>\n      <td>321.0</td>\n      <td>172.0</td>\n      <td>1.0</td>\n      <td>629.0</td>\n      <td>2153.333333</td>\n      <td>5.0</td>\n      <td>244.0</td>\n      <td>40.0</td>\n      <td>389.0</td>\n      <td>2166.0</td>\n      <td>12.0</td>\n      <td>219.0</td>\n      <td>82.0</td>\n      <td>66.0</td>\n      <td>227.0</td>\n      <td>19.0</td>\n      <td>818.0</td>\n      <td>5842.0</td>\n      <td>0.0</td>\n      <td>999.0</td>\n      <td>1242.0</td>\n      <td>0.0</td>\n      <td>371.0</td>\n      <td>0.0</td>\n      <td>594.0</td>\n      <td>0.0</td>\n      <td>1065.0</td>\n      <td>0.0</td>\n      <td>5688093.0</td>\n      <td>1656000.0</td>\n    </tr>\n    <tr>\n      <th>1</th>\n      <td>2022-01-01 01:00:00</td>\n      <td>132.08</td>\n      <td>42.18</td>\n      <td>132.08</td>\n      <td>42.18</td>\n      <td>1992.666667</td>\n      <td>897.0</td>\n      <td>330.0</td>\n      <td>151.0</td>\n      <td>1.0</td>\n      <td>627.0</td>\n      <td>2012.000000</td>\n      <td>4.0</td>\n      <td>115.0</td>\n      <td>42.0</td>\n      <td>390.0</td>\n      <td>2187.0</td>\n      <td>12.0</td>\n      <td>170.0</td>\n      <td>82.0</td>\n      <td>66.0</td>\n      <td>216.0</td>\n      <td>20.0</td>\n      <td>818.0</td>\n      <td>5839.0</td>\n      <td>0.0</td>\n      <td>958.0</td>\n      <td>1222.0</td>\n      <td>0.0</td>\n      <td>383.0</td>\n      <td>0.0</td>\n      <td>676.0</td>\n      <td>0.0</td>\n      <td>927.0</td>\n      <td>0.0</td>\n      <td>5688093.0</td>\n      <td>1656000.0</td>\n    </tr>\n    <tr>\n      <th>2</th>\n      <td>2022-01-01 02:00:00</td>\n      <td>111.44</td>\n      <td>44.37</td>\n      <td>111.44</td>\n      <td>44.37</td>\n      <td>1994.333333</td>\n      <td>885.0</td>\n      <td>275.0</td>\n      <td>160.0</td>\n      <td>1.0</td>\n      <td>624.0</td>\n      <td>1999.555556</td>\n      <td>4.0</td>\n      <td>55.0</td>\n      <td>45.0</td>\n      <td>405.0</td>\n      <td>2183.0</td>\n      <td>12.0</td>\n      <td>126.0</td>\n      <td>82.0</td>\n      <td>65.0</td>\n      <td>215.0</td>\n      <td>20.0</td>\n      <td>838.0</td>\n      <td>5839.0</td>\n      <td>0.0</td>\n      <td>888.0</td>\n      <td>1679.0</td>\n      <td>0.0</td>\n      <td>362.0</td>\n      <td>0.0</td>\n      <td>436.0</td>\n      <td>0.0</td>\n      <td>748.0</td>\n      <td>0.0</td>\n      <td>5688093.0</td>\n      <td>1656000.0</td>\n    </tr>\n    <tr>\n      <th>3</th>\n      <td>2022-01-01 03:00:00</td>\n      <td>112.35</td>\n      <td>37.67</td>\n      <td>112.35</td>\n      <td>37.67</td>\n      <td>1996.000000</td>\n      <td>890.0</td>\n      <td>269.0</td>\n      <td>148.0</td>\n      <td>1.0</td>\n      <td>624.0</td>\n      <td>1987.111111</td>\n      <td>4.0</td>\n      <td>61.0</td>\n      <td>34.0</td>\n      <td>393.0</td>\n      <td>2076.0</td>\n      <td>12.0</td>\n      <td>81.0</td>\n      <td>82.0</td>\n      <td>65.0</td>\n      <td>209.0</td>\n      <td>20.0</td>\n      <td>842.0</td>\n      <td>5840.0</td>\n      <td>0.0</td>\n      <td>788.0</td>\n      <td>1668.0</td>\n      <td>0.0</td>\n      <td>324.0</td>\n      <td>0.0</td>\n      <td>345.0</td>\n      <td>0.0</td>\n      <td>918.0</td>\n      <td>0.0</td>\n      <td>5688093.0</td>\n      <td>1656000.0</td>\n    </tr>\n    <tr>\n      <th>4</th>\n      <td>2022-01-01 04:00:00</td>\n      <td>113.90</td>\n      <td>39.70</td>\n      <td>113.90</td>\n      <td>39.70</td>\n      <td>1985.500000</td>\n      <td>892.0</td>\n      <td>300.0</td>\n      <td>147.0</td>\n      <td>1.0</td>\n      <td>605.0</td>\n      <td>1974.666667</td>\n      <td>4.0</td>\n      <td>88.0</td>\n      <td>38.0</td>\n      <td>398.0</td>\n      <td>2098.0</td>\n      <td>11.0</td>\n      <td>45.0</td>\n      <td>82.0</td>\n      <td>65.0</td>\n      <td>210.0</td>\n      <td>19.0</td>\n      <td>841.0</td>\n      <td>5839.0</td>\n      <td>0.0</td>\n      <td>734.0</td>\n      <td>1697.0</td>\n      <td>0.0</td>\n      <td>339.0</td>\n      <td>0.0</td>\n      <td>412.0</td>\n      <td>0.0</td>\n      <td>826.0</td>\n      <td>0.0</td>\n      <td>5688093.0</td>\n      <td>1656000.0</td>\n    </tr>\n    <tr>\n      <th>...</th>\n      <td>...</td>\n      <td>...</td>\n      <td>...</td>\n      <td>...</td>\n      <td>...</td>\n      <td>...</td>\n      <td>...</td>\n      <td>...</td>\n      <td>...</td>\n      <td>...</td>\n      <td>...</td>\n      <td>...</td>\n      <td>...</td>\n      <td>...</td>\n      <td>...</td>\n      <td>...</td>\n      <td>...</td>\n      <td>...</td>\n      <td>...</td>\n      <td>...</td>\n      <td>...</td>\n      <td>...</td>\n      <td>...</td>\n      <td>...</td>\n      <td>...</td>\n      <td>...</td>\n      <td>...</td>\n      <td>...</td>\n      <td>...</td>\n      <td>...</td>\n      <td>...</td>\n      <td>...</td>\n      <td>...</td>\n      <td>...</td>\n      <td>...</td>\n      <td>...</td>\n      <td>...</td>\n    </tr>\n    <tr>\n      <th>8755</th>\n      <td>2022-12-31 19:00:00</td>\n      <td>123.61</td>\n      <td>23.82</td>\n      <td>123.61</td>\n      <td>11.57</td>\n      <td>2128.000000</td>\n      <td>992.0</td>\n      <td>621.0</td>\n      <td>74.0</td>\n      <td>1.0</td>\n      <td>823.0</td>\n      <td>2399.000000</td>\n      <td>13.0</td>\n      <td>443.0</td>\n      <td>34.0</td>\n      <td>187.0</td>\n      <td>987.0</td>\n      <td>23.0</td>\n      <td>1576.0</td>\n      <td>7.0</td>\n      <td>24.0</td>\n      <td>148.0</td>\n      <td>14.0</td>\n      <td>627.0</td>\n      <td>5796.0</td>\n      <td>0.0</td>\n      <td>1499.0</td>\n      <td>621.0</td>\n      <td>0.0</td>\n      <td>146.0</td>\n      <td>0.0</td>\n      <td>43.0</td>\n      <td>0.0</td>\n      <td>2083.0</td>\n      <td>0.0</td>\n      <td>5038234.0</td>\n      <td>1579000.0</td>\n    </tr>\n    <tr>\n      <th>8756</th>\n      <td>2022-12-31 20:00:00</td>\n      <td>121.09</td>\n      <td>23.93</td>\n      <td>121.09</td>\n      <td>14.89</td>\n      <td>2089.000000</td>\n      <td>980.0</td>\n      <td>610.0</td>\n      <td>70.5</td>\n      <td>1.0</td>\n      <td>828.0</td>\n      <td>2265.000000</td>\n      <td>13.0</td>\n      <td>443.0</td>\n      <td>35.0</td>\n      <td>187.0</td>\n      <td>997.0</td>\n      <td>23.0</td>\n      <td>1548.0</td>\n      <td>7.0</td>\n      <td>25.0</td>\n      <td>135.0</td>\n      <td>14.0</td>\n      <td>573.0</td>\n      <td>5797.0</td>\n      <td>0.0</td>\n      <td>1282.0</td>\n      <td>595.0</td>\n      <td>0.0</td>\n      <td>124.0</td>\n      <td>0.0</td>\n      <td>24.0</td>\n      <td>0.0</td>\n      <td>2097.0</td>\n      <td>0.0</td>\n      <td>5038234.0</td>\n      <td>1579000.0</td>\n    </tr>\n    <tr>\n      <th>8757</th>\n      <td>2022-12-31 21:00:00</td>\n      <td>120.00</td>\n      <td>23.75</td>\n      <td>120.00</td>\n      <td>9.94</td>\n      <td>2037.000000</td>\n      <td>980.0</td>\n      <td>588.0</td>\n      <td>67.0</td>\n      <td>1.0</td>\n      <td>814.0</td>\n      <td>2265.000000</td>\n      <td>13.0</td>\n      <td>443.0</td>\n      <td>35.0</td>\n      <td>182.0</td>\n      <td>868.0</td>\n      <td>23.0</td>\n      <td>1525.0</td>\n      <td>7.0</td>\n      <td>25.0</td>\n      <td>127.0</td>\n      <td>14.0</td>\n      <td>544.0</td>\n      <td>5797.0</td>\n      <td>0.0</td>\n      <td>1168.0</td>\n      <td>608.0</td>\n      <td>0.0</td>\n      <td>91.0</td>\n      <td>0.0</td>\n      <td>41.0</td>\n      <td>0.0</td>\n      <td>2007.0</td>\n      <td>0.0</td>\n      <td>5038234.0</td>\n      <td>1579000.0</td>\n    </tr>\n    <tr>\n      <th>8758</th>\n      <td>2022-12-31 22:00:00</td>\n      <td>119.98</td>\n      <td>23.56</td>\n      <td>119.98</td>\n      <td>4.84</td>\n      <td>1991.000000</td>\n      <td>989.0</td>\n      <td>585.0</td>\n      <td>69.0</td>\n      <td>0.0</td>\n      <td>814.0</td>\n      <td>2098.000000</td>\n      <td>13.0</td>\n      <td>443.0</td>\n      <td>35.0</td>\n      <td>183.0</td>\n      <td>814.0</td>\n      <td>23.0</td>\n      <td>1498.0</td>\n      <td>7.0</td>\n      <td>25.0</td>\n      <td>137.0</td>\n      <td>14.0</td>\n      <td>539.0</td>\n      <td>5796.0</td>\n      <td>0.0</td>\n      <td>1033.0</td>\n      <td>504.0</td>\n      <td>0.0</td>\n      <td>90.0</td>\n      <td>0.0</td>\n      <td>0.0</td>\n      <td>29.0</td>\n      <td>2119.0</td>\n      <td>0.0</td>\n      <td>5038234.0</td>\n      <td>1579000.0</td>\n    </tr>\n    <tr>\n      <th>8759</th>\n      <td>2022-12-31 23:00:00</td>\n      <td>119.32</td>\n      <td>23.35</td>\n      <td>119.32</td>\n      <td>2.01</td>\n      <td>2009.000000</td>\n      <td>1006.0</td>\n      <td>583.0</td>\n      <td>74.0</td>\n      <td>0.0</td>\n      <td>761.0</td>\n      <td>1910.000000</td>\n      <td>13.0</td>\n      <td>443.0</td>\n      <td>45.0</td>\n      <td>183.0</td>\n      <td>820.0</td>\n      <td>23.0</td>\n      <td>1540.0</td>\n      <td>7.0</td>\n      <td>29.0</td>\n      <td>131.0</td>\n      <td>14.0</td>\n      <td>516.0</td>\n      <td>5799.0</td>\n      <td>0.0</td>\n      <td>877.0</td>\n      <td>956.0</td>\n      <td>0.0</td>\n      <td>83.0</td>\n      <td>0.0</td>\n      <td>0.0</td>\n      <td>12.0</td>\n      <td>1612.0</td>\n      <td>0.0</td>\n      <td>5038234.0</td>\n      <td>1579000.0</td>\n    </tr>\n  </tbody>\n</table>\n<p>8760 rows × 37 columns</p>\n</div>"
     },
     "execution_count": 79,
     "metadata": {},
     "output_type": "execute_result"
    }
   ],
   "source": [
    "df = pd.read_csv('df.csv')\n",
    "df"
   ]
  },
  {
   "cell_type": "code",
   "execution_count": 80,
   "metadata": {},
   "outputs": [
    {
     "name": "stdout",
     "output_type": "stream",
     "text": [
      "<class 'pandas.core.frame.DataFrame'>\n",
      "RangeIndex: 8760 entries, 0 to 8759\n",
      "Data columns (total 37 columns):\n",
      " #   Column                                                                         Non-Null Count  Dtype  \n",
      "---  ------                                                                         --------------  -----  \n",
      " 0   start MTU (UTC)                                                                8760 non-null   object \n",
      " 1   Day-ahead Price [EUR/MWh] BZN|NO1                                              8760 non-null   float64\n",
      " 2   Day-ahead Price [EUR/MWh] BZN|NO3                                              8760 non-null   float64\n",
      " 3   Day-ahead Price [EUR/MWh] BZN|NO5                                              8760 non-null   float64\n",
      " 4   Day-ahead Price [EUR/MWh] BZN|SE3                                              8760 non-null   float64\n",
      " 5   Actual Total Load [MW] - BZN|NO5                                               8760 non-null   float64\n",
      " 6   Hydro Run-of-river and poundage - BZN|NO1                                      8760 non-null   float64\n",
      " 7   Hydro Water Reservoir - BZN|NO1                                                8760 non-null   float64\n",
      " 8   Wind Onshore - BZN|NO1                                                         8760 non-null   float64\n",
      " 9   Hydro Pumped Storage Aggregated- BZN|NO2                                       8760 non-null   float64\n",
      " 10  Hydro Run-of-river and poundage - BZN|NO2                                      8760 non-null   float64\n",
      " 11  Hydro Water Reservoir - BZN|NO2                                                8760 non-null   float64\n",
      " 12  Waste - BZN|NO2                                                                8760 non-null   float64\n",
      " 13  Wind Onshore - BZN|NO2                                                         8760 non-null   float64\n",
      " 14  Hydro Pumped Storage Aggregated- BZN|NO3                                       8760 non-null   float64\n",
      " 15  Hydro Run-of-river and poundage - BZN|NO3                                      8760 non-null   float64\n",
      " 16  Hydro Water Reservoir - BZN|NO3                                                8760 non-null   float64\n",
      " 17  Other renewable - BZN|NO3                                                      8760 non-null   float64\n",
      " 18  Wind Onshore - BZN|NO3                                                         8760 non-null   float64\n",
      " 19  Fossil Gas - BZN|NO5                                                           8760 non-null   float64\n",
      " 20  Hydro Pumped Storage Aggregated- BZN|NO5                                       8760 non-null   float64\n",
      " 21  Hydro Run-of-river and poundage - BZN|NO5                                      8760 non-null   float64\n",
      " 22  Waste - BZN|NO5                                                                8760 non-null   float64\n",
      " 23  Hydro Water Reservoir - BZN|SE3                                                8760 non-null   float64\n",
      " 24  Nuclear - BZN|SE3                                                              8760 non-null   float64\n",
      " 25  Solar - BZN|SE3                                                                8760 non-null   float64\n",
      " 26  Wind Onshore - BZN|SE3                                                         8760 non-null   float64\n",
      " 27  CBF BZN|NO2 > BZN|NO1 [MW]                                                     8760 non-null   float64\n",
      " 28  CBF BZN|NO1 > BZN|NO2 [MW]                                                     8760 non-null   float64\n",
      " 29  CBF BZN|NO3 > BZN|NO1 [MW]                                                     8760 non-null   float64\n",
      " 30  CBF BZN|NO1 > BZN|NO3 [MW]                                                     8760 non-null   float64\n",
      " 31  CBF BZN|NO5 > BZN|NO1 [MW]                                                     8760 non-null   float64\n",
      " 32  CBF BZN|NO1 > BZN|NO5 [MW]                                                     8760 non-null   float64\n",
      " 33  CBF BZN|SE3 > BZN|NO1 [MW]                                                     8760 non-null   float64\n",
      " 34  CBF BZN|NO1 > BZN|SE3 [MW]                                                     8760 non-null   float64\n",
      " 35  Stored Energy Value Water Reservoirs and Hydro Storage Plants [MWh] - BZN|NO3  8760 non-null   float64\n",
      " 36  Stored Energy Value Water Reservoirs and Hydro Storage Plants [MWh] - BZN|SE3  8760 non-null   float64\n",
      "dtypes: float64(36), object(1)\n",
      "memory usage: 2.5+ MB\n"
     ]
    }
   ],
   "source": [
    "df.info()"
   ]
  },
  {
   "cell_type": "markdown",
   "metadata": {},
   "source": [
    "# 2. Preprocessing"
   ]
  },
  {
   "cell_type": "markdown",
   "metadata": {},
   "source": [
    "#### 2.1 Indexing"
   ]
  },
  {
   "cell_type": "code",
   "execution_count": 81,
   "metadata": {},
   "outputs": [],
   "source": [
    "df = df.set_index('start MTU (UTC)')\n",
    "df.index = pd.to_datetime(df.index)\n",
    "df = df.sort_index()"
   ]
  },
  {
   "cell_type": "markdown",
   "metadata": {},
   "source": [
    "#### 2.2 Removing symbols from feature names\n",
    "We have to remove all symbols from feature names , otherwise get the following error :\n",
    "\n",
    "\"  ValueError: feature_names must be string, and may not contain [, ] or <  \""
   ]
  },
  {
   "cell_type": "code",
   "execution_count": 82,
   "metadata": {},
   "outputs": [],
   "source": [
    "regex = re.compile(r\"\\[|\\]|<\", re.IGNORECASE)\n",
    "df.columns = [regex.sub(\"_\", col) if any(x in str(col) for x in set(('[', ']', '<', '>'))) else col for col in df.columns.values]"
   ]
  },
  {
   "cell_type": "markdown",
   "metadata": {},
   "source": [
    "#### 2.4.1 Create hour feature"
   ]
  },
  {
   "cell_type": "code",
   "execution_count": 83,
   "metadata": {},
   "outputs": [
    {
     "data": {
      "text/plain": "                     Day-ahead Price _EUR/MWh_ BZN|NO1  \\\nstart MTU (UTC)                                          \n2022-01-01 00:00:00                             129.30   \n2022-01-01 01:00:00                             132.08   \n2022-01-01 02:00:00                             111.44   \n2022-01-01 03:00:00                             112.35   \n2022-01-01 04:00:00                             113.90   \n...                                                ...   \n2022-12-31 19:00:00                             123.61   \n2022-12-31 20:00:00                             121.09   \n2022-12-31 21:00:00                             120.00   \n2022-12-31 22:00:00                             119.98   \n2022-12-31 23:00:00                             119.32   \n\n                     Day-ahead Price _EUR/MWh_ BZN|NO3  \\\nstart MTU (UTC)                                          \n2022-01-01 00:00:00                              41.33   \n2022-01-01 01:00:00                              42.18   \n2022-01-01 02:00:00                              44.37   \n2022-01-01 03:00:00                              37.67   \n2022-01-01 04:00:00                              39.70   \n...                                                ...   \n2022-12-31 19:00:00                              23.82   \n2022-12-31 20:00:00                              23.93   \n2022-12-31 21:00:00                              23.75   \n2022-12-31 22:00:00                              23.56   \n2022-12-31 23:00:00                              23.35   \n\n                     Day-ahead Price _EUR/MWh_ BZN|NO5  \\\nstart MTU (UTC)                                          \n2022-01-01 00:00:00                             129.30   \n2022-01-01 01:00:00                             132.08   \n2022-01-01 02:00:00                             111.44   \n2022-01-01 03:00:00                             112.35   \n2022-01-01 04:00:00                             113.90   \n...                                                ...   \n2022-12-31 19:00:00                             123.61   \n2022-12-31 20:00:00                             121.09   \n2022-12-31 21:00:00                             120.00   \n2022-12-31 22:00:00                             119.98   \n2022-12-31 23:00:00                             119.32   \n\n                     Day-ahead Price _EUR/MWh_ BZN|SE3  \\\nstart MTU (UTC)                                          \n2022-01-01 00:00:00                              41.33   \n2022-01-01 01:00:00                              42.18   \n2022-01-01 02:00:00                              44.37   \n2022-01-01 03:00:00                              37.67   \n2022-01-01 04:00:00                              39.70   \n...                                                ...   \n2022-12-31 19:00:00                              11.57   \n2022-12-31 20:00:00                              14.89   \n2022-12-31 21:00:00                               9.94   \n2022-12-31 22:00:00                               4.84   \n2022-12-31 23:00:00                               2.01   \n\n                     Actual Total Load _MW_ - BZN|NO5  \\\nstart MTU (UTC)                                         \n2022-01-01 00:00:00                       1991.000000   \n2022-01-01 01:00:00                       1992.666667   \n2022-01-01 02:00:00                       1994.333333   \n2022-01-01 03:00:00                       1996.000000   \n2022-01-01 04:00:00                       1985.500000   \n...                                               ...   \n2022-12-31 19:00:00                       2128.000000   \n2022-12-31 20:00:00                       2089.000000   \n2022-12-31 21:00:00                       2037.000000   \n2022-12-31 22:00:00                       1991.000000   \n2022-12-31 23:00:00                       2009.000000   \n\n                     Hydro Run-of-river and poundage - BZN|NO1  \\\nstart MTU (UTC)                                                  \n2022-01-01 00:00:00                                      878.0   \n2022-01-01 01:00:00                                      897.0   \n2022-01-01 02:00:00                                      885.0   \n2022-01-01 03:00:00                                      890.0   \n2022-01-01 04:00:00                                      892.0   \n...                                                        ...   \n2022-12-31 19:00:00                                      992.0   \n2022-12-31 20:00:00                                      980.0   \n2022-12-31 21:00:00                                      980.0   \n2022-12-31 22:00:00                                      989.0   \n2022-12-31 23:00:00                                     1006.0   \n\n                     Hydro Water Reservoir - BZN|NO1  Wind Onshore - BZN|NO1  \\\nstart MTU (UTC)                                                                \n2022-01-01 00:00:00                            321.0                   172.0   \n2022-01-01 01:00:00                            330.0                   151.0   \n2022-01-01 02:00:00                            275.0                   160.0   \n2022-01-01 03:00:00                            269.0                   148.0   \n2022-01-01 04:00:00                            300.0                   147.0   \n...                                              ...                     ...   \n2022-12-31 19:00:00                            621.0                    74.0   \n2022-12-31 20:00:00                            610.0                    70.5   \n2022-12-31 21:00:00                            588.0                    67.0   \n2022-12-31 22:00:00                            585.0                    69.0   \n2022-12-31 23:00:00                            583.0                    74.0   \n\n                     Hydro Pumped Storage Aggregated- BZN|NO2  \\\nstart MTU (UTC)                                                 \n2022-01-01 00:00:00                                       1.0   \n2022-01-01 01:00:00                                       1.0   \n2022-01-01 02:00:00                                       1.0   \n2022-01-01 03:00:00                                       1.0   \n2022-01-01 04:00:00                                       1.0   \n...                                                       ...   \n2022-12-31 19:00:00                                       1.0   \n2022-12-31 20:00:00                                       1.0   \n2022-12-31 21:00:00                                       1.0   \n2022-12-31 22:00:00                                       0.0   \n2022-12-31 23:00:00                                       0.0   \n\n                     Hydro Run-of-river and poundage - BZN|NO2  \\\nstart MTU (UTC)                                                  \n2022-01-01 00:00:00                                      629.0   \n2022-01-01 01:00:00                                      627.0   \n2022-01-01 02:00:00                                      624.0   \n2022-01-01 03:00:00                                      624.0   \n2022-01-01 04:00:00                                      605.0   \n...                                                        ...   \n2022-12-31 19:00:00                                      823.0   \n2022-12-31 20:00:00                                      828.0   \n2022-12-31 21:00:00                                      814.0   \n2022-12-31 22:00:00                                      814.0   \n2022-12-31 23:00:00                                      761.0   \n\n                     Hydro Water Reservoir - BZN|NO2  Waste - BZN|NO2  \\\nstart MTU (UTC)                                                         \n2022-01-01 00:00:00                      2153.333333              5.0   \n2022-01-01 01:00:00                      2012.000000              4.0   \n2022-01-01 02:00:00                      1999.555556              4.0   \n2022-01-01 03:00:00                      1987.111111              4.0   \n2022-01-01 04:00:00                      1974.666667              4.0   \n...                                              ...              ...   \n2022-12-31 19:00:00                      2399.000000             13.0   \n2022-12-31 20:00:00                      2265.000000             13.0   \n2022-12-31 21:00:00                      2265.000000             13.0   \n2022-12-31 22:00:00                      2098.000000             13.0   \n2022-12-31 23:00:00                      1910.000000             13.0   \n\n                     Wind Onshore - BZN|NO2  \\\nstart MTU (UTC)                               \n2022-01-01 00:00:00                   244.0   \n2022-01-01 01:00:00                   115.0   \n2022-01-01 02:00:00                    55.0   \n2022-01-01 03:00:00                    61.0   \n2022-01-01 04:00:00                    88.0   \n...                                     ...   \n2022-12-31 19:00:00                   443.0   \n2022-12-31 20:00:00                   443.0   \n2022-12-31 21:00:00                   443.0   \n2022-12-31 22:00:00                   443.0   \n2022-12-31 23:00:00                   443.0   \n\n                     Hydro Pumped Storage Aggregated- BZN|NO3  \\\nstart MTU (UTC)                                                 \n2022-01-01 00:00:00                                      40.0   \n2022-01-01 01:00:00                                      42.0   \n2022-01-01 02:00:00                                      45.0   \n2022-01-01 03:00:00                                      34.0   \n2022-01-01 04:00:00                                      38.0   \n...                                                       ...   \n2022-12-31 19:00:00                                      34.0   \n2022-12-31 20:00:00                                      35.0   \n2022-12-31 21:00:00                                      35.0   \n2022-12-31 22:00:00                                      35.0   \n2022-12-31 23:00:00                                      45.0   \n\n                     Hydro Run-of-river and poundage - BZN|NO3  \\\nstart MTU (UTC)                                                  \n2022-01-01 00:00:00                                      389.0   \n2022-01-01 01:00:00                                      390.0   \n2022-01-01 02:00:00                                      405.0   \n2022-01-01 03:00:00                                      393.0   \n2022-01-01 04:00:00                                      398.0   \n...                                                        ...   \n2022-12-31 19:00:00                                      187.0   \n2022-12-31 20:00:00                                      187.0   \n2022-12-31 21:00:00                                      182.0   \n2022-12-31 22:00:00                                      183.0   \n2022-12-31 23:00:00                                      183.0   \n\n                     Hydro Water Reservoir - BZN|NO3  \\\nstart MTU (UTC)                                        \n2022-01-01 00:00:00                           2166.0   \n2022-01-01 01:00:00                           2187.0   \n2022-01-01 02:00:00                           2183.0   \n2022-01-01 03:00:00                           2076.0   \n2022-01-01 04:00:00                           2098.0   \n...                                              ...   \n2022-12-31 19:00:00                            987.0   \n2022-12-31 20:00:00                            997.0   \n2022-12-31 21:00:00                            868.0   \n2022-12-31 22:00:00                            814.0   \n2022-12-31 23:00:00                            820.0   \n\n                     Other renewable - BZN|NO3  Wind Onshore - BZN|NO3  \\\nstart MTU (UTC)                                                          \n2022-01-01 00:00:00                       12.0                   219.0   \n2022-01-01 01:00:00                       12.0                   170.0   \n2022-01-01 02:00:00                       12.0                   126.0   \n2022-01-01 03:00:00                       12.0                    81.0   \n2022-01-01 04:00:00                       11.0                    45.0   \n...                                        ...                     ...   \n2022-12-31 19:00:00                       23.0                  1576.0   \n2022-12-31 20:00:00                       23.0                  1548.0   \n2022-12-31 21:00:00                       23.0                  1525.0   \n2022-12-31 22:00:00                       23.0                  1498.0   \n2022-12-31 23:00:00                       23.0                  1540.0   \n\n                     Fossil Gas - BZN|NO5  \\\nstart MTU (UTC)                             \n2022-01-01 00:00:00                  82.0   \n2022-01-01 01:00:00                  82.0   \n2022-01-01 02:00:00                  82.0   \n2022-01-01 03:00:00                  82.0   \n2022-01-01 04:00:00                  82.0   \n...                                   ...   \n2022-12-31 19:00:00                   7.0   \n2022-12-31 20:00:00                   7.0   \n2022-12-31 21:00:00                   7.0   \n2022-12-31 22:00:00                   7.0   \n2022-12-31 23:00:00                   7.0   \n\n                     Hydro Pumped Storage Aggregated- BZN|NO5  \\\nstart MTU (UTC)                                                 \n2022-01-01 00:00:00                                      66.0   \n2022-01-01 01:00:00                                      66.0   \n2022-01-01 02:00:00                                      65.0   \n2022-01-01 03:00:00                                      65.0   \n2022-01-01 04:00:00                                      65.0   \n...                                                       ...   \n2022-12-31 19:00:00                                      24.0   \n2022-12-31 20:00:00                                      25.0   \n2022-12-31 21:00:00                                      25.0   \n2022-12-31 22:00:00                                      25.0   \n2022-12-31 23:00:00                                      29.0   \n\n                     Hydro Run-of-river and poundage - BZN|NO5  \\\nstart MTU (UTC)                                                  \n2022-01-01 00:00:00                                      227.0   \n2022-01-01 01:00:00                                      216.0   \n2022-01-01 02:00:00                                      215.0   \n2022-01-01 03:00:00                                      209.0   \n2022-01-01 04:00:00                                      210.0   \n...                                                        ...   \n2022-12-31 19:00:00                                      148.0   \n2022-12-31 20:00:00                                      135.0   \n2022-12-31 21:00:00                                      127.0   \n2022-12-31 22:00:00                                      137.0   \n2022-12-31 23:00:00                                      131.0   \n\n                     Waste - BZN|NO5  Hydro Water Reservoir - BZN|SE3  \\\nstart MTU (UTC)                                                         \n2022-01-01 00:00:00             19.0                            818.0   \n2022-01-01 01:00:00             20.0                            818.0   \n2022-01-01 02:00:00             20.0                            838.0   \n2022-01-01 03:00:00             20.0                            842.0   \n2022-01-01 04:00:00             19.0                            841.0   \n...                              ...                              ...   \n2022-12-31 19:00:00             14.0                            627.0   \n2022-12-31 20:00:00             14.0                            573.0   \n2022-12-31 21:00:00             14.0                            544.0   \n2022-12-31 22:00:00             14.0                            539.0   \n2022-12-31 23:00:00             14.0                            516.0   \n\n                     Nuclear - BZN|SE3  Solar - BZN|SE3  \\\nstart MTU (UTC)                                           \n2022-01-01 00:00:00             5842.0              0.0   \n2022-01-01 01:00:00             5839.0              0.0   \n2022-01-01 02:00:00             5839.0              0.0   \n2022-01-01 03:00:00             5840.0              0.0   \n2022-01-01 04:00:00             5839.0              0.0   \n...                                ...              ...   \n2022-12-31 19:00:00             5796.0              0.0   \n2022-12-31 20:00:00             5797.0              0.0   \n2022-12-31 21:00:00             5797.0              0.0   \n2022-12-31 22:00:00             5796.0              0.0   \n2022-12-31 23:00:00             5799.0              0.0   \n\n                     Wind Onshore - BZN|SE3  CBF BZN|NO2 > BZN|NO1 _MW_  \\\nstart MTU (UTC)                                                           \n2022-01-01 00:00:00                   999.0                      1242.0   \n2022-01-01 01:00:00                   958.0                      1222.0   \n2022-01-01 02:00:00                   888.0                      1679.0   \n2022-01-01 03:00:00                   788.0                      1668.0   \n2022-01-01 04:00:00                   734.0                      1697.0   \n...                                     ...                         ...   \n2022-12-31 19:00:00                  1499.0                       621.0   \n2022-12-31 20:00:00                  1282.0                       595.0   \n2022-12-31 21:00:00                  1168.0                       608.0   \n2022-12-31 22:00:00                  1033.0                       504.0   \n2022-12-31 23:00:00                   877.0                       956.0   \n\n                     CBF BZN|NO1 > BZN|NO2 _MW_  CBF BZN|NO3 > BZN|NO1 _MW_  \\\nstart MTU (UTC)                                                               \n2022-01-01 00:00:00                         0.0                       371.0   \n2022-01-01 01:00:00                         0.0                       383.0   \n2022-01-01 02:00:00                         0.0                       362.0   \n2022-01-01 03:00:00                         0.0                       324.0   \n2022-01-01 04:00:00                         0.0                       339.0   \n...                                         ...                         ...   \n2022-12-31 19:00:00                         0.0                       146.0   \n2022-12-31 20:00:00                         0.0                       124.0   \n2022-12-31 21:00:00                         0.0                        91.0   \n2022-12-31 22:00:00                         0.0                        90.0   \n2022-12-31 23:00:00                         0.0                        83.0   \n\n                     CBF BZN|NO1 > BZN|NO3 _MW_  CBF BZN|NO5 > BZN|NO1 _MW_  \\\nstart MTU (UTC)                                                               \n2022-01-01 00:00:00                         0.0                       594.0   \n2022-01-01 01:00:00                         0.0                       676.0   \n2022-01-01 02:00:00                         0.0                       436.0   \n2022-01-01 03:00:00                         0.0                       345.0   \n2022-01-01 04:00:00                         0.0                       412.0   \n...                                         ...                         ...   \n2022-12-31 19:00:00                         0.0                        43.0   \n2022-12-31 20:00:00                         0.0                        24.0   \n2022-12-31 21:00:00                         0.0                        41.0   \n2022-12-31 22:00:00                         0.0                         0.0   \n2022-12-31 23:00:00                         0.0                         0.0   \n\n                     CBF BZN|NO1 > BZN|NO5 _MW_  CBF BZN|SE3 > BZN|NO1 _MW_  \\\nstart MTU (UTC)                                                               \n2022-01-01 00:00:00                         0.0                      1065.0   \n2022-01-01 01:00:00                         0.0                       927.0   \n2022-01-01 02:00:00                         0.0                       748.0   \n2022-01-01 03:00:00                         0.0                       918.0   \n2022-01-01 04:00:00                         0.0                       826.0   \n...                                         ...                         ...   \n2022-12-31 19:00:00                         0.0                      2083.0   \n2022-12-31 20:00:00                         0.0                      2097.0   \n2022-12-31 21:00:00                         0.0                      2007.0   \n2022-12-31 22:00:00                        29.0                      2119.0   \n2022-12-31 23:00:00                        12.0                      1612.0   \n\n                     CBF BZN|NO1 > BZN|SE3 _MW_  \\\nstart MTU (UTC)                                   \n2022-01-01 00:00:00                         0.0   \n2022-01-01 01:00:00                         0.0   \n2022-01-01 02:00:00                         0.0   \n2022-01-01 03:00:00                         0.0   \n2022-01-01 04:00:00                         0.0   \n...                                         ...   \n2022-12-31 19:00:00                         0.0   \n2022-12-31 20:00:00                         0.0   \n2022-12-31 21:00:00                         0.0   \n2022-12-31 22:00:00                         0.0   \n2022-12-31 23:00:00                         0.0   \n\n                     Stored Energy Value Water Reservoirs and Hydro Storage Plants _MWh_ - BZN|NO3  \\\nstart MTU (UTC)                                                                                      \n2022-01-01 00:00:00                                          5688093.0                               \n2022-01-01 01:00:00                                          5688093.0                               \n2022-01-01 02:00:00                                          5688093.0                               \n2022-01-01 03:00:00                                          5688093.0                               \n2022-01-01 04:00:00                                          5688093.0                               \n...                                                                ...                               \n2022-12-31 19:00:00                                          5038234.0                               \n2022-12-31 20:00:00                                          5038234.0                               \n2022-12-31 21:00:00                                          5038234.0                               \n2022-12-31 22:00:00                                          5038234.0                               \n2022-12-31 23:00:00                                          5038234.0                               \n\n                     Stored Energy Value Water Reservoirs and Hydro Storage Plants _MWh_ - BZN|SE3  \\\nstart MTU (UTC)                                                                                      \n2022-01-01 00:00:00                                          1656000.0                               \n2022-01-01 01:00:00                                          1656000.0                               \n2022-01-01 02:00:00                                          1656000.0                               \n2022-01-01 03:00:00                                          1656000.0                               \n2022-01-01 04:00:00                                          1656000.0                               \n...                                                                ...                               \n2022-12-31 19:00:00                                          1579000.0                               \n2022-12-31 20:00:00                                          1579000.0                               \n2022-12-31 21:00:00                                          1579000.0                               \n2022-12-31 22:00:00                                          1579000.0                               \n2022-12-31 23:00:00                                          1579000.0                               \n\n                     hour  dayofweek  \nstart MTU (UTC)                       \n2022-01-01 00:00:00     0          5  \n2022-01-01 01:00:00     1          5  \n2022-01-01 02:00:00     2          5  \n2022-01-01 03:00:00     3          5  \n2022-01-01 04:00:00     4          5  \n...                   ...        ...  \n2022-12-31 19:00:00    19          5  \n2022-12-31 20:00:00    20          5  \n2022-12-31 21:00:00    21          5  \n2022-12-31 22:00:00    22          5  \n2022-12-31 23:00:00    23          5  \n\n[8760 rows x 38 columns]",
      "text/html": "<div>\n<style scoped>\n    .dataframe tbody tr th:only-of-type {\n        vertical-align: middle;\n    }\n\n    .dataframe tbody tr th {\n        vertical-align: top;\n    }\n\n    .dataframe thead th {\n        text-align: right;\n    }\n</style>\n<table border=\"1\" class=\"dataframe\">\n  <thead>\n    <tr style=\"text-align: right;\">\n      <th></th>\n      <th>Day-ahead Price _EUR/MWh_ BZN|NO1</th>\n      <th>Day-ahead Price _EUR/MWh_ BZN|NO3</th>\n      <th>Day-ahead Price _EUR/MWh_ BZN|NO5</th>\n      <th>Day-ahead Price _EUR/MWh_ BZN|SE3</th>\n      <th>Actual Total Load _MW_ - BZN|NO5</th>\n      <th>Hydro Run-of-river and poundage - BZN|NO1</th>\n      <th>Hydro Water Reservoir - BZN|NO1</th>\n      <th>Wind Onshore - BZN|NO1</th>\n      <th>Hydro Pumped Storage Aggregated- BZN|NO2</th>\n      <th>Hydro Run-of-river and poundage - BZN|NO2</th>\n      <th>Hydro Water Reservoir - BZN|NO2</th>\n      <th>Waste - BZN|NO2</th>\n      <th>Wind Onshore - BZN|NO2</th>\n      <th>Hydro Pumped Storage Aggregated- BZN|NO3</th>\n      <th>Hydro Run-of-river and poundage - BZN|NO3</th>\n      <th>Hydro Water Reservoir - BZN|NO3</th>\n      <th>Other renewable - BZN|NO3</th>\n      <th>Wind Onshore - BZN|NO3</th>\n      <th>Fossil Gas - BZN|NO5</th>\n      <th>Hydro Pumped Storage Aggregated- BZN|NO5</th>\n      <th>Hydro Run-of-river and poundage - BZN|NO5</th>\n      <th>Waste - BZN|NO5</th>\n      <th>Hydro Water Reservoir - BZN|SE3</th>\n      <th>Nuclear - BZN|SE3</th>\n      <th>Solar - BZN|SE3</th>\n      <th>Wind Onshore - BZN|SE3</th>\n      <th>CBF BZN|NO2 &gt; BZN|NO1 _MW_</th>\n      <th>CBF BZN|NO1 &gt; BZN|NO2 _MW_</th>\n      <th>CBF BZN|NO3 &gt; BZN|NO1 _MW_</th>\n      <th>CBF BZN|NO1 &gt; BZN|NO3 _MW_</th>\n      <th>CBF BZN|NO5 &gt; BZN|NO1 _MW_</th>\n      <th>CBF BZN|NO1 &gt; BZN|NO5 _MW_</th>\n      <th>CBF BZN|SE3 &gt; BZN|NO1 _MW_</th>\n      <th>CBF BZN|NO1 &gt; BZN|SE3 _MW_</th>\n      <th>Stored Energy Value Water Reservoirs and Hydro Storage Plants _MWh_ - BZN|NO3</th>\n      <th>Stored Energy Value Water Reservoirs and Hydro Storage Plants _MWh_ - BZN|SE3</th>\n      <th>hour</th>\n      <th>dayofweek</th>\n    </tr>\n    <tr>\n      <th>start MTU (UTC)</th>\n      <th></th>\n      <th></th>\n      <th></th>\n      <th></th>\n      <th></th>\n      <th></th>\n      <th></th>\n      <th></th>\n      <th></th>\n      <th></th>\n      <th></th>\n      <th></th>\n      <th></th>\n      <th></th>\n      <th></th>\n      <th></th>\n      <th></th>\n      <th></th>\n      <th></th>\n      <th></th>\n      <th></th>\n      <th></th>\n      <th></th>\n      <th></th>\n      <th></th>\n      <th></th>\n      <th></th>\n      <th></th>\n      <th></th>\n      <th></th>\n      <th></th>\n      <th></th>\n      <th></th>\n      <th></th>\n      <th></th>\n      <th></th>\n      <th></th>\n      <th></th>\n    </tr>\n  </thead>\n  <tbody>\n    <tr>\n      <th>2022-01-01 00:00:00</th>\n      <td>129.30</td>\n      <td>41.33</td>\n      <td>129.30</td>\n      <td>41.33</td>\n      <td>1991.000000</td>\n      <td>878.0</td>\n      <td>321.0</td>\n      <td>172.0</td>\n      <td>1.0</td>\n      <td>629.0</td>\n      <td>2153.333333</td>\n      <td>5.0</td>\n      <td>244.0</td>\n      <td>40.0</td>\n      <td>389.0</td>\n      <td>2166.0</td>\n      <td>12.0</td>\n      <td>219.0</td>\n      <td>82.0</td>\n      <td>66.0</td>\n      <td>227.0</td>\n      <td>19.0</td>\n      <td>818.0</td>\n      <td>5842.0</td>\n      <td>0.0</td>\n      <td>999.0</td>\n      <td>1242.0</td>\n      <td>0.0</td>\n      <td>371.0</td>\n      <td>0.0</td>\n      <td>594.0</td>\n      <td>0.0</td>\n      <td>1065.0</td>\n      <td>0.0</td>\n      <td>5688093.0</td>\n      <td>1656000.0</td>\n      <td>0</td>\n      <td>5</td>\n    </tr>\n    <tr>\n      <th>2022-01-01 01:00:00</th>\n      <td>132.08</td>\n      <td>42.18</td>\n      <td>132.08</td>\n      <td>42.18</td>\n      <td>1992.666667</td>\n      <td>897.0</td>\n      <td>330.0</td>\n      <td>151.0</td>\n      <td>1.0</td>\n      <td>627.0</td>\n      <td>2012.000000</td>\n      <td>4.0</td>\n      <td>115.0</td>\n      <td>42.0</td>\n      <td>390.0</td>\n      <td>2187.0</td>\n      <td>12.0</td>\n      <td>170.0</td>\n      <td>82.0</td>\n      <td>66.0</td>\n      <td>216.0</td>\n      <td>20.0</td>\n      <td>818.0</td>\n      <td>5839.0</td>\n      <td>0.0</td>\n      <td>958.0</td>\n      <td>1222.0</td>\n      <td>0.0</td>\n      <td>383.0</td>\n      <td>0.0</td>\n      <td>676.0</td>\n      <td>0.0</td>\n      <td>927.0</td>\n      <td>0.0</td>\n      <td>5688093.0</td>\n      <td>1656000.0</td>\n      <td>1</td>\n      <td>5</td>\n    </tr>\n    <tr>\n      <th>2022-01-01 02:00:00</th>\n      <td>111.44</td>\n      <td>44.37</td>\n      <td>111.44</td>\n      <td>44.37</td>\n      <td>1994.333333</td>\n      <td>885.0</td>\n      <td>275.0</td>\n      <td>160.0</td>\n      <td>1.0</td>\n      <td>624.0</td>\n      <td>1999.555556</td>\n      <td>4.0</td>\n      <td>55.0</td>\n      <td>45.0</td>\n      <td>405.0</td>\n      <td>2183.0</td>\n      <td>12.0</td>\n      <td>126.0</td>\n      <td>82.0</td>\n      <td>65.0</td>\n      <td>215.0</td>\n      <td>20.0</td>\n      <td>838.0</td>\n      <td>5839.0</td>\n      <td>0.0</td>\n      <td>888.0</td>\n      <td>1679.0</td>\n      <td>0.0</td>\n      <td>362.0</td>\n      <td>0.0</td>\n      <td>436.0</td>\n      <td>0.0</td>\n      <td>748.0</td>\n      <td>0.0</td>\n      <td>5688093.0</td>\n      <td>1656000.0</td>\n      <td>2</td>\n      <td>5</td>\n    </tr>\n    <tr>\n      <th>2022-01-01 03:00:00</th>\n      <td>112.35</td>\n      <td>37.67</td>\n      <td>112.35</td>\n      <td>37.67</td>\n      <td>1996.000000</td>\n      <td>890.0</td>\n      <td>269.0</td>\n      <td>148.0</td>\n      <td>1.0</td>\n      <td>624.0</td>\n      <td>1987.111111</td>\n      <td>4.0</td>\n      <td>61.0</td>\n      <td>34.0</td>\n      <td>393.0</td>\n      <td>2076.0</td>\n      <td>12.0</td>\n      <td>81.0</td>\n      <td>82.0</td>\n      <td>65.0</td>\n      <td>209.0</td>\n      <td>20.0</td>\n      <td>842.0</td>\n      <td>5840.0</td>\n      <td>0.0</td>\n      <td>788.0</td>\n      <td>1668.0</td>\n      <td>0.0</td>\n      <td>324.0</td>\n      <td>0.0</td>\n      <td>345.0</td>\n      <td>0.0</td>\n      <td>918.0</td>\n      <td>0.0</td>\n      <td>5688093.0</td>\n      <td>1656000.0</td>\n      <td>3</td>\n      <td>5</td>\n    </tr>\n    <tr>\n      <th>2022-01-01 04:00:00</th>\n      <td>113.90</td>\n      <td>39.70</td>\n      <td>113.90</td>\n      <td>39.70</td>\n      <td>1985.500000</td>\n      <td>892.0</td>\n      <td>300.0</td>\n      <td>147.0</td>\n      <td>1.0</td>\n      <td>605.0</td>\n      <td>1974.666667</td>\n      <td>4.0</td>\n      <td>88.0</td>\n      <td>38.0</td>\n      <td>398.0</td>\n      <td>2098.0</td>\n      <td>11.0</td>\n      <td>45.0</td>\n      <td>82.0</td>\n      <td>65.0</td>\n      <td>210.0</td>\n      <td>19.0</td>\n      <td>841.0</td>\n      <td>5839.0</td>\n      <td>0.0</td>\n      <td>734.0</td>\n      <td>1697.0</td>\n      <td>0.0</td>\n      <td>339.0</td>\n      <td>0.0</td>\n      <td>412.0</td>\n      <td>0.0</td>\n      <td>826.0</td>\n      <td>0.0</td>\n      <td>5688093.0</td>\n      <td>1656000.0</td>\n      <td>4</td>\n      <td>5</td>\n    </tr>\n    <tr>\n      <th>...</th>\n      <td>...</td>\n      <td>...</td>\n      <td>...</td>\n      <td>...</td>\n      <td>...</td>\n      <td>...</td>\n      <td>...</td>\n      <td>...</td>\n      <td>...</td>\n      <td>...</td>\n      <td>...</td>\n      <td>...</td>\n      <td>...</td>\n      <td>...</td>\n      <td>...</td>\n      <td>...</td>\n      <td>...</td>\n      <td>...</td>\n      <td>...</td>\n      <td>...</td>\n      <td>...</td>\n      <td>...</td>\n      <td>...</td>\n      <td>...</td>\n      <td>...</td>\n      <td>...</td>\n      <td>...</td>\n      <td>...</td>\n      <td>...</td>\n      <td>...</td>\n      <td>...</td>\n      <td>...</td>\n      <td>...</td>\n      <td>...</td>\n      <td>...</td>\n      <td>...</td>\n      <td>...</td>\n      <td>...</td>\n    </tr>\n    <tr>\n      <th>2022-12-31 19:00:00</th>\n      <td>123.61</td>\n      <td>23.82</td>\n      <td>123.61</td>\n      <td>11.57</td>\n      <td>2128.000000</td>\n      <td>992.0</td>\n      <td>621.0</td>\n      <td>74.0</td>\n      <td>1.0</td>\n      <td>823.0</td>\n      <td>2399.000000</td>\n      <td>13.0</td>\n      <td>443.0</td>\n      <td>34.0</td>\n      <td>187.0</td>\n      <td>987.0</td>\n      <td>23.0</td>\n      <td>1576.0</td>\n      <td>7.0</td>\n      <td>24.0</td>\n      <td>148.0</td>\n      <td>14.0</td>\n      <td>627.0</td>\n      <td>5796.0</td>\n      <td>0.0</td>\n      <td>1499.0</td>\n      <td>621.0</td>\n      <td>0.0</td>\n      <td>146.0</td>\n      <td>0.0</td>\n      <td>43.0</td>\n      <td>0.0</td>\n      <td>2083.0</td>\n      <td>0.0</td>\n      <td>5038234.0</td>\n      <td>1579000.0</td>\n      <td>19</td>\n      <td>5</td>\n    </tr>\n    <tr>\n      <th>2022-12-31 20:00:00</th>\n      <td>121.09</td>\n      <td>23.93</td>\n      <td>121.09</td>\n      <td>14.89</td>\n      <td>2089.000000</td>\n      <td>980.0</td>\n      <td>610.0</td>\n      <td>70.5</td>\n      <td>1.0</td>\n      <td>828.0</td>\n      <td>2265.000000</td>\n      <td>13.0</td>\n      <td>443.0</td>\n      <td>35.0</td>\n      <td>187.0</td>\n      <td>997.0</td>\n      <td>23.0</td>\n      <td>1548.0</td>\n      <td>7.0</td>\n      <td>25.0</td>\n      <td>135.0</td>\n      <td>14.0</td>\n      <td>573.0</td>\n      <td>5797.0</td>\n      <td>0.0</td>\n      <td>1282.0</td>\n      <td>595.0</td>\n      <td>0.0</td>\n      <td>124.0</td>\n      <td>0.0</td>\n      <td>24.0</td>\n      <td>0.0</td>\n      <td>2097.0</td>\n      <td>0.0</td>\n      <td>5038234.0</td>\n      <td>1579000.0</td>\n      <td>20</td>\n      <td>5</td>\n    </tr>\n    <tr>\n      <th>2022-12-31 21:00:00</th>\n      <td>120.00</td>\n      <td>23.75</td>\n      <td>120.00</td>\n      <td>9.94</td>\n      <td>2037.000000</td>\n      <td>980.0</td>\n      <td>588.0</td>\n      <td>67.0</td>\n      <td>1.0</td>\n      <td>814.0</td>\n      <td>2265.000000</td>\n      <td>13.0</td>\n      <td>443.0</td>\n      <td>35.0</td>\n      <td>182.0</td>\n      <td>868.0</td>\n      <td>23.0</td>\n      <td>1525.0</td>\n      <td>7.0</td>\n      <td>25.0</td>\n      <td>127.0</td>\n      <td>14.0</td>\n      <td>544.0</td>\n      <td>5797.0</td>\n      <td>0.0</td>\n      <td>1168.0</td>\n      <td>608.0</td>\n      <td>0.0</td>\n      <td>91.0</td>\n      <td>0.0</td>\n      <td>41.0</td>\n      <td>0.0</td>\n      <td>2007.0</td>\n      <td>0.0</td>\n      <td>5038234.0</td>\n      <td>1579000.0</td>\n      <td>21</td>\n      <td>5</td>\n    </tr>\n    <tr>\n      <th>2022-12-31 22:00:00</th>\n      <td>119.98</td>\n      <td>23.56</td>\n      <td>119.98</td>\n      <td>4.84</td>\n      <td>1991.000000</td>\n      <td>989.0</td>\n      <td>585.0</td>\n      <td>69.0</td>\n      <td>0.0</td>\n      <td>814.0</td>\n      <td>2098.000000</td>\n      <td>13.0</td>\n      <td>443.0</td>\n      <td>35.0</td>\n      <td>183.0</td>\n      <td>814.0</td>\n      <td>23.0</td>\n      <td>1498.0</td>\n      <td>7.0</td>\n      <td>25.0</td>\n      <td>137.0</td>\n      <td>14.0</td>\n      <td>539.0</td>\n      <td>5796.0</td>\n      <td>0.0</td>\n      <td>1033.0</td>\n      <td>504.0</td>\n      <td>0.0</td>\n      <td>90.0</td>\n      <td>0.0</td>\n      <td>0.0</td>\n      <td>29.0</td>\n      <td>2119.0</td>\n      <td>0.0</td>\n      <td>5038234.0</td>\n      <td>1579000.0</td>\n      <td>22</td>\n      <td>5</td>\n    </tr>\n    <tr>\n      <th>2022-12-31 23:00:00</th>\n      <td>119.32</td>\n      <td>23.35</td>\n      <td>119.32</td>\n      <td>2.01</td>\n      <td>2009.000000</td>\n      <td>1006.0</td>\n      <td>583.0</td>\n      <td>74.0</td>\n      <td>0.0</td>\n      <td>761.0</td>\n      <td>1910.000000</td>\n      <td>13.0</td>\n      <td>443.0</td>\n      <td>45.0</td>\n      <td>183.0</td>\n      <td>820.0</td>\n      <td>23.0</td>\n      <td>1540.0</td>\n      <td>7.0</td>\n      <td>29.0</td>\n      <td>131.0</td>\n      <td>14.0</td>\n      <td>516.0</td>\n      <td>5799.0</td>\n      <td>0.0</td>\n      <td>877.0</td>\n      <td>956.0</td>\n      <td>0.0</td>\n      <td>83.0</td>\n      <td>0.0</td>\n      <td>0.0</td>\n      <td>12.0</td>\n      <td>1612.0</td>\n      <td>0.0</td>\n      <td>5038234.0</td>\n      <td>1579000.0</td>\n      <td>23</td>\n      <td>5</td>\n    </tr>\n  </tbody>\n</table>\n<p>8760 rows × 38 columns</p>\n</div>"
     },
     "execution_count": 83,
     "metadata": {},
     "output_type": "execute_result"
    }
   ],
   "source": [
    "def create_features (df):\n",
    "    df['hour'] = df.index.hour\n",
    "    df['dayofweek'] = df.index.dayofweek\n",
    "    return df\n",
    "create_features(df)"
   ]
  },
  {
   "cell_type": "code",
   "execution_count": 84,
   "metadata": {},
   "outputs": [],
   "source": [
    "def create_lagged_features(dataframe, lag_hours):\n",
    "    # Initialize an empty list to store the lagged features\n",
    "    lagged_features = []\n",
    "\n",
    "    # Iterate over each column in the dataframe\n",
    "    for col in dataframe.columns:\n",
    "        # Generate lagged features for the current column\n",
    "        for i in range(1, lag_hours+1):\n",
    "            # Create the name of the lagged feature\n",
    "            col_name = '{}_lag_{}'.format(col, i)\n",
    "\n",
    "            # Shift the values of the current column and rename the series with\n",
    "            # the lagged feature name\n",
    "            lagged_features.append(dataframe[col].shift(i).rename(col_name))\n",
    "\n",
    "    # Concatenate the lagged features along the columns axis\n",
    "    lagged_features_df = pd.concat(lagged_features, axis=1)\n",
    "\n",
    "    # Concatenate the original dataframe with the lagged features dataframe, drop\n",
    "    # rows with missing values\n",
    "    new_dataframe = pd.concat([dataframe, lagged_features_df], axis=1).dropna()\n",
    "\n",
    "    # Return the new dataframe with lagged features\n",
    "    return new_dataframe\n"
   ]
  },
  {
   "cell_type": "markdown",
   "metadata": {},
   "source": [
    "#### Find feature names for all generated lagged FEATURES"
   ]
  },
  {
   "cell_type": "code",
   "execution_count": 85,
   "metadata": {},
   "outputs": [],
   "source": [
    "def get_lagged_feature_names(features, lag_hours):\n",
    "    lagged_features = []\n",
    "    for col in features:\n",
    "        for i in range(1, lag_hours+1):\n",
    "            col_name = '{}_lag_{}'.format(col, i)  # Generate lagged feature name\n",
    "            lagged_features.append(col_name)  # Add the lagged feature name to the list\n",
    "    return lagged_features\n",
    "\n",
    "def get_lagged_target_name(target, lag_hours):\n",
    "    lagged_target = []\n",
    "    for i in range(1, lag_hours+1):\n",
    "        col_name = '{}_lag_{}'.format(target, i)  # Generate lagged target name\n",
    "        lagged_target.append(col_name)  # Add the lagged target name to the list\n",
    "    return lagged_target\n"
   ]
  },
  {
   "cell_type": "code",
   "execution_count": 86,
   "metadata": {},
   "outputs": [],
   "source": [
    "TARGET = 'Day-ahead Price _EUR/MWh_ BZN|NO1'\n",
    "FEATURES = [\n",
    "    'Day-ahead Price _EUR/MWh_ BZN|NO3',\n",
    "    'Day-ahead Price _EUR/MWh_ BZN|NO5',\n",
    "    'Day-ahead Price _EUR/MWh_ BZN|SE3', 'Actual Total Load _MW_ - BZN|NO5',\n",
    "    'Hydro Run-of-river and poundage - BZN|NO1',\n",
    "    'Hydro Water Reservoir - BZN|NO1', 'Wind Onshore - BZN|NO1',\n",
    "    'Hydro Pumped Storage Aggregated- BZN|NO2',\n",
    "    'Hydro Run-of-river and poundage - BZN|NO2',\n",
    "    'Hydro Water Reservoir - BZN|NO2',\n",
    "    'Waste - BZN|NO2',\n",
    "    'Wind Onshore - BZN|NO2', 'Hydro Pumped Storage Aggregated- BZN|NO3',\n",
    "    'Hydro Run-of-river and poundage - BZN|NO3',\n",
    "    'Hydro Water Reservoir - BZN|NO3', 'Other renewable - BZN|NO3',\n",
    "    'Wind Onshore - BZN|NO3', 'Fossil Gas - BZN|NO5',\n",
    "    'Hydro Pumped Storage Aggregated- BZN|NO5',\n",
    "    'Hydro Run-of-river and poundage - BZN|NO5', 'Waste - BZN|NO5',\n",
    "    'Hydro Water Reservoir - BZN|SE3', 'Nuclear - BZN|SE3',\n",
    "    'Solar - BZN|SE3', 'Wind Onshore - BZN|SE3',\n",
    "    'CBF BZN|NO2 > BZN|NO1 _MW_', 'CBF BZN|NO1 > BZN|NO2 _MW_',\n",
    "    'CBF BZN|NO3 > BZN|NO1 _MW_', 'CBF BZN|NO1 > BZN|NO3 _MW_',\n",
    "    'CBF BZN|NO5 > BZN|NO1 _MW_', 'CBF BZN|NO1 > BZN|NO5 _MW_',\n",
    "    'CBF BZN|SE3 > BZN|NO1 _MW_', 'CBF BZN|NO1 > BZN|SE3 _MW_',\n",
    "    'Stored Energy Value Water Reservoirs and Hydro Storage Plants _MWh_ - BZN|NO3',\n",
    "    'Stored Energy Value Water Reservoirs and Hydro Storage Plants _MWh_ - BZN|SE3']"
   ]
  },
  {
   "cell_type": "code",
   "execution_count": 87,
   "metadata": {},
   "outputs": [
    {
     "data": {
      "text/plain": "71"
     },
     "execution_count": 87,
     "metadata": {},
     "output_type": "execute_result"
    }
   ],
   "source": [
    "df = create_lagged_features(df, 1)\n",
    "lagged_target_names  = get_lagged_target_name(TARGET, 1)\n",
    "lagged_feature_names = get_lagged_feature_names(FEATURES,1)\n",
    "all_lagged_feature_names = lagged_target_names + lagged_feature_names + FEATURES\n",
    "len(all_lagged_feature_names)"
   ]
  },
  {
   "cell_type": "markdown",
   "metadata": {},
   "source": [
    "# Training and testing using timeseries cross validation"
   ]
  },
  {
   "cell_type": "markdown",
   "metadata": {},
   "source": []
  },
  {
   "cell_type": "code",
   "execution_count": null,
   "metadata": {
    "pycharm": {
     "is_executing": true
    }
   },
   "outputs": [],
   "source": [
    "times_series = TimeSeriesSplit(n_splits=5, gap=0)\n",
    "\n",
    "fig, axs = plt.subplots(5, 1, figsize=(15, 15), sharex=True)\n",
    "\n",
    "fold = 0\n",
    "predictions = []\n",
    "\n",
    "# start timer\n",
    "start_time_training = time.time()\n",
    "for train_idx, val_idx in times_series.split(df):\n",
    "    train_data = df.iloc[train_idx]\n",
    "    test = df.iloc[val_idx]\n",
    "    val_data, test_data = train_test_split(test, test_size=0.5, shuffle=False)\n",
    "\n",
    "    # Train dataset\n",
    "    X_train = train_data[all_lagged_feature_names]\n",
    "    y_train = train_data[\"Day-ahead Price _EUR/MWh_ BZN|NO1\"]\n",
    "\n",
    "    # Validation set, used for eval_set() method in the XGBoost library\n",
    "    X_valid = val_data[all_lagged_feature_names]\n",
    "    y_valid = val_data[TARGET]\n",
    "\n",
    "    # Define the XGBoost regressor\n",
    "    default_reg = xgb.XGBRegressor(\n",
    "        learning_rate=0.1,\n",
    "        n_estimators=1000,\n",
    "        max_depth=5,\n",
    "        min_child_weight=1,\n",
    "        gamma=0.1,\n",
    "        subsample=0.8,\n",
    "        colsample_bytree=0.8,\n",
    "        nthread=4,\n",
    "        eval_metric='rmse',\n",
    "        seed=27\n",
    "    )\n",
    "\n",
    "    # Fit the model on the training data\n",
    "    model = default_reg.fit(\n",
    "        X_train, y_train,\n",
    "        eval_set=[(X_valid, y_valid)],\n",
    "        verbose=False\n",
    "    )\n",
    "\n",
    "    # Test dataset, used for predicting\n",
    "    X_test = test_data[all_lagged_feature_names]\n",
    "    y_test = test_data[TARGET]\n",
    "\n",
    "\n",
    "    train_data[TARGET].plot(ax=axs[fold],\n",
    "                       label='Training Set')\n",
    "\n",
    "    test[TARGET].plot(ax=axs[fold],\n",
    "                      label='Test Set')\n",
    "\n",
    "    val_data[TARGET].plot(ax=axs[fold],\n",
    "                          label='Validation Set',\n",
    "                          title=f'Data Train/Test Split Fold {fold}')\n",
    "\n",
    "    axs[fold].axvline(test.index.min(), color='black', ls='--')\n",
    "\n",
    "    fold += 1\n",
    "\n",
    "plt.legend(loc=\"best\")\n",
    "plt.show()\n",
    "\n",
    "end_time_training = time.time()\n",
    "#print the run time\n",
    "print(\"Runtime for training the model : {:.2f} seconds \".format(end_time_training - start_time_training))\n"
   ]
  },
  {
   "cell_type": "markdown",
   "source": [
    "### Evaluate the model on the training data."
   ],
   "metadata": {
    "collapsed": false
   }
  },
  {
   "cell_type": "code",
   "execution_count": null,
   "metadata": {
    "pycharm": {
     "is_executing": true
    }
   },
   "outputs": [],
   "source": [
    "from sklearn.metrics import mean_absolute_percentage_error\n",
    "# start timer\n",
    "start_time_testing= time.time()\n",
    "# Calculate metrics on training data\n",
    "y_train_pred = model.predict(X_train)\n",
    "mape = mean_absolute_percentage_error(y_train, y_train_pred)\n",
    "mae = mean_absolute_error(y_train, y_train_pred)\n",
    "mse = mean_squared_error(y_train, y_train_pred)\n",
    "rmse = np.sqrt(mse)\n",
    "\n",
    "print(\"RMSE:\", rmse)\n",
    "print(\"MAE:\", mae)\n",
    "print(\"MSE:\", mse)\n",
    "print(\"MAPE:\", mape*100)\n",
    "\n",
    "\n",
    "end_time_testing = time.time()\n",
    "#print the run time\n",
    "print(\"Runtime for predicting the test data: {:.2f} seconds \".format(end_time_testing - start_time_testing))"
   ]
  },
  {
   "cell_type": "markdown",
   "source": [
    "### Evaluate the model on the validation data."
   ],
   "metadata": {
    "collapsed": false
   }
  },
  {
   "cell_type": "code",
   "execution_count": null,
   "outputs": [],
   "source": [
    "from sklearn.metrics import mean_absolute_percentage_error\n",
    "# start timer\n",
    "start_time_testing= time.time()\n",
    "# Calculate metrics on training data\n",
    "y_valid_pred = model.predict(X_valid)\n",
    "mape = mean_absolute_percentage_error(y_valid, y_valid_pred)\n",
    "mae = mean_absolute_error(y_valid, y_valid_pred)\n",
    "mse = mean_squared_error(y_valid, y_valid_pred)\n",
    "rmse = np.sqrt(mse)\n",
    "\n",
    "print(\"RMSE:\", rmse)\n",
    "print(\"MAE:\", mae)\n",
    "print(\"MSE:\", mse)\n",
    "print(\"MAPE:\", mape*100)\n",
    "\n",
    "end_time_testing = time.time()\n",
    "#print the run time\n",
    "print(\"Runtime for predicting the test data: {:.2f} seconds \".format(end_time_testing - start_time_testing))"
   ],
   "metadata": {
    "collapsed": false,
    "pycharm": {
     "is_executing": true
    }
   }
  },
  {
   "cell_type": "markdown",
   "metadata": {},
   "source": [
    "### Predict the test data"
   ]
  },
  {
   "cell_type": "code",
   "execution_count": null,
   "metadata": {
    "pycharm": {
     "is_executing": true
    }
   },
   "outputs": [],
   "source": [
    "# Make predictions on the test data\n",
    "predictions.append(model.predict(X_test))\n",
    "\n",
    "# Flatten the predictions list\n",
    "predictions = [item for sublist in predictions for item in sublist]\n",
    "\n",
    "# Add the predicted values to the test_data DataFrame\n",
    "test_data['prediction_test'] = predictions"
   ]
  },
  {
   "cell_type": "markdown",
   "metadata": {},
   "source": [
    "### Evaluate the model on test data"
   ]
  },
  {
   "cell_type": "code",
   "execution_count": null,
   "metadata": {
    "pycharm": {
     "is_executing": true
    }
   },
   "outputs": [],
   "source": [
    "# Calculate evaluation metrics\n",
    "rmse = np.sqrt(mean_squared_error(y_test, test_data['prediction_test']))\n",
    "print(f'RMSE Score on test set: {rmse:0.2f}')\n",
    "\n",
    "# Calculate the mean absolute error (MAE) between the predicted and actual values\n",
    "mae_test_data = mean_absolute_error(y_test, test_data['prediction_test'])\n",
    "print(\"Mean absolute error on test set: \", mae_test_data)\n",
    "\n",
    "# Calculating the mean squared error (MSE) between the predicted and actual values\n",
    "mse_test_data = mean_squared_error(y_test, test_data['prediction_test'])\n",
    "print(\"Mean squared error on test set:\", mse_test_data)\n",
    "\n",
    "mape = mean_absolute_percentage_error(y_test, test_data['prediction_test'])\n",
    "print(\"Mean absolute error on test set: \", mae_test_data)"
   ]
  },
  {
   "cell_type": "markdown",
   "metadata": {},
   "source": [
    "### Plotting the predicted vs. actual values"
   ]
  },
  {
   "cell_type": "code",
   "execution_count": null,
   "metadata": {
    "pycharm": {
     "is_executing": true
    }
   },
   "outputs": [],
   "source": [
    "# Plotting predicted and real values\n",
    "plt.figure(figsize=(12, 6))\n",
    "plt.plot(test_data.index, test_data[TARGET], label='Real Values')\n",
    "plt.plot(test_data.index, predictions, label='Predicted Values')\n",
    "plt.xlabel('Time')\n",
    "plt.ylabel('Price')\n",
    "plt.title('Real vs Predicted prices')\n",
    "plt.legend()\n",
    "plt.show()\n"
   ]
  },
  {
   "cell_type": "code",
   "execution_count": null,
   "metadata": {
    "pycharm": {
     "is_executing": true
    }
   },
   "outputs": [],
   "source": [
    "df = df.merge(test_data[['prediction_test']], how='left', left_index=True, right_index=True)\n",
    "ax = df[['Day-ahead Price _EUR/MWh_ BZN|NO1']].plot(figsize=(15, 5))\n",
    "df['prediction_test'].plot(ax=ax, style='.')\n",
    "plt.legend(['Truth Data', 'prediction_test'])\n",
    "ax.set_title('Raw Data and Prediction')\n",
    "plt.show()"
   ]
  },
  {
   "cell_type": "code",
   "execution_count": null,
   "metadata": {
    "pycharm": {
     "is_executing": true
    }
   },
   "outputs": [],
   "source": [
    "## Showing predicted test data on a week\n",
    "ax = df.loc[(df.index > '2022-12-06') & (df.index < '2022-12-13')]['Day-ahead Price _EUR/MWh_ BZN|NO1'] \\\n",
    "    .plot(figsize=(15, 5), title='Week Of Testing  Data')\n",
    "df.loc[(df.index > '2022-12-06') & (df.index < '2022-12-13')]['prediction_test'] \\\n",
    "    .plot(style='.')\n",
    "plt.legend(['Truth Data','prediction_test'])\n",
    "plt.show()"
   ]
  },
  {
   "cell_type": "code",
   "execution_count": null,
   "metadata": {
    "pycharm": {
     "is_executing": true
    }
   },
   "outputs": [],
   "source": [
    "## Showing predicted test data on a week\n",
    "ax = df.loc[(df.index > '2022-12-01') & (df.index < '2022-12-30')]['Day-ahead Price _EUR/MWh_ BZN|NO1'] \\\n",
    "    .plot(figsize=(15, 5), title='Month Of Testing Data')\n",
    "df.loc[(df.index > '2022-12-01') & (df.index < '2022-12-30')]['prediction_test'] \\\n",
    "    .plot(style='.')\n",
    "plt.legend(['Truth Data','prediction_test'])\n",
    "plt.show()"
   ]
  },
  {
   "cell_type": "markdown",
   "metadata": {},
   "source": [
    "### Determine if the RMSE value is a good fit"
   ]
  },
  {
   "cell_type": "code",
   "execution_count": null,
   "metadata": {
    "pycharm": {
     "is_executing": true
    }
   },
   "outputs": [],
   "source": [
    "response_range_test_data = test['Day-ahead Price _EUR/MWh_ BZN|NO1'].max() - test['Day-ahead Price _EUR/MWh_ BZN|NO1'].min()\n",
    "\n",
    "if rmse < 0.1 * response_range_test_data:\n",
    "    print(\"The RMSE value of\", rmse, \"is a good fit for this time series regression model. When the response range is :\", response_range_test_data)\n",
    "else:\n",
    "    print(\"The RMSE value of\", rmse, \"indicates poor performance for this time series regression model. When the response range is :\", response_range_test_data)\n"
   ]
  },
  {
   "cell_type": "markdown",
   "metadata": {},
   "source": [
    "# Calculate Error\n",
    "- Look at the worst and best predicted days\n"
   ]
  },
  {
   "cell_type": "code",
   "execution_count": null,
   "metadata": {
    "pycharm": {
     "is_executing": true
    }
   },
   "outputs": [],
   "source": [
    "test_data['error'] = np.abs(test_data[TARGET] - test_data['prediction_test'])\n",
    "test_data['date'] = test_data.index.date\n",
    "test_data.groupby(['date'])['error'].mean().sort_values(ascending=False).head(10)"
   ]
  },
  {
   "cell_type": "markdown",
   "metadata": {},
   "source": [
    "### Simple regressor and parameters"
   ]
  },
  {
   "cell_type": "markdown",
   "metadata": {},
   "source": [
    "# 6. Hyperparameter tuning"
   ]
  },
  {
   "cell_type": "code",
   "execution_count": null,
   "metadata": {
    "pycharm": {
     "is_executing": true
    }
   },
   "outputs": [],
   "source": [
    "# Define the hyperparameter grid\n",
    "param_grid = {\n",
    "    'n_estimators': [100, 300, 500 , 700, 1000],  # Number of trees in the forest\n",
    "    'learning_rate': [0.1, 0.05, 0.01, 0.005, 0.001],  # Learning rate\n",
    "    'max_depth': [3, 4, 5, 6, 7],  # Maximum depth of each tree\n",
    "    'subsample': [0.7, 0.8, 0.9, 1.0],  # Subsample ratio of the training instances\n",
    "    \n",
    "     # Subsample ratio of columns when constructing each tree\n",
    "    'colsample_bytree': [0.7, 0.8, 0.9, 1.0],  \n",
    "   \n",
    "    \n",
    "    # Minimum loss reduction required to make a further partition on a leaf node\n",
    "    'gamma': [0, 0.05, 0.1, 0.15, 0.2],  \n",
    "    \n",
    "    'reg_alpha': [0, 0.05, 0.1, 0.3, 0.5],  # L1 regularization term on weights\n",
    "    \n",
    "    'reg_lambda': [0, 0.05, 0.1, 0.3, 0.5],  # L2 regularization term on weights\n",
    "    \n",
    "     # Minimum sum of instance weight (hessian) needed in a child\n",
    "    'min_child_weight': [1, 2, 3, 4, 5],  \n",
    "   \n",
    "    # Minimum loss reduction required to make a further partition on a leaf node of the tree.\n",
    "    'reg_gamma': [0, 0.1, 0.2, 0.3, 0.4], \n",
    "    \n",
    "}\n",
    "\n",
    "# Define the XGBoost regressor\n",
    "xgb_regressor = xgb.XGBRegressor()\n"
   ]
  },
  {
   "cell_type": "markdown",
   "metadata": {},
   "source": [
    "###  Random search"
   ]
  },
  {
   "cell_type": "code",
   "execution_count": null,
   "metadata": {
    "pycharm": {
     "is_executing": true
    }
   },
   "outputs": [],
   "source": [
    "# start timer\n",
    "start_time_random_serach = time.time()\n",
    "# Perform random search\n",
    "random_search = RandomizedSearchCV(\n",
    "    xgb_regressor,\n",
    "    param_distributions=param_grid,\n",
    "    n_iter=10,  # Number of parameter settings that are sampled\n",
    "    scoring='neg_mean_squared_error',  # Scoring metric for evaluation\n",
    "    cv=5,  # Number of cross-validation folds\n",
    "    verbose=1,\n",
    "    random_state=42\n",
    ")\n",
    "\n",
    "# Fit the model with random search\n",
    "random_search.fit(X_train, y_train)\n",
    "\n",
    "# Get the best hyperparameters\n",
    "best_params = random_search.best_params_\n",
    "print(\"Best hyperparameters:\", best_params)\n",
    "\n",
    "end_time_random_search = time.time()\n",
    "#print the run time\n",
    "print(\"Runtime for random search: {:.2f} seconds \".format(end_time_random_search - start_time_random_serach))\n"
   ]
  },
  {
   "cell_type": "markdown",
   "metadata": {},
   "source": [
    "### Test the model on the test data again after HyperparameterTuning"
   ]
  },
  {
   "cell_type": "code",
   "execution_count": null,
   "metadata": {
    "pycharm": {
     "is_executing": true
    }
   },
   "outputs": [],
   "source": [
    "# start timer\n",
    "start_time_training_tuned_model_ = time.time()\n",
    "# Define the XGBoost regressor\n",
    "best_reg = xgb.XGBRegressor(\n",
    "    learning_rate=0.1,\n",
    "    n_estimators=700,\n",
    "    max_depth= 6,\n",
    "    gamma = 0.1,\n",
    "    min_child_weight=4,\n",
    "    reg_alpha = 0.5,\n",
    "    subsample=0.8,\n",
    "    colsample_bytree=0.8,\n",
    "    eval_metric='rmse',\n",
    "    reg_lambda = 0.1,\n",
    ")\n",
    "\n",
    "# Append the train and validation data to the combined DataFrame, to train the tuned model.\n",
    "combined_train_val_data = pd.DataFrame()  # Create an empty DataFrame\n",
    "combined_train_val_data = combined_train_val_data.append(train_data)\n",
    "combined_train_val_data = combined_train_val_data.append(val_data)\n",
    "\n",
    "# Create X_combined_train_val_data and y_combined_train_val_data\n",
    "X_combined_train_val_data = combined_train_val_data[all_lagged_feature_names]\n",
    "y_combined_train_val_data = combined_train_val_data[TARGET]\n",
    "\n",
    "# Fit the model on the training data\n",
    "best_model = best_reg.fit(\n",
    "    X_combined_train_val_data, y_combined_train_val_data,\n",
    "    verbose= 100\n",
    ")\n",
    "print(best_model)\n",
    "\n",
    "# Calculate metrics on training data\n",
    "y_train_pred = best_model.predict(X_train)\n",
    "mape = mean_absolute_percentage_error(y_train, y_train_pred)\n",
    "mae = mean_absolute_error(y_train, y_train_pred)\n",
    "mse = mean_squared_error(y_train, y_train_pred)\n",
    "rmse = np.sqrt(mse)\n",
    "\n",
    "print(\"RMSE:\", rmse)\n",
    "print(\"MAE:\", mae)\n",
    "print(\"MSE:\", mse)\n",
    "print(\"MAPE:\", mape*100)\n",
    "\n",
    "end_time_training_tuned_model = time.time()\n",
    "#print the run time\n",
    "print(\"Runtime for training the tuned model on training + validation models combined: {:.2f} seconds\".format(end_time_training_tuned_model - start_time_training_tuned_model_))"
   ]
  },
  {
   "cell_type": "code",
   "execution_count": null,
   "metadata": {
    "pycharm": {
     "is_executing": true
    }
   },
   "outputs": [],
   "source": [
    "# start timer\n",
    "start_time_testing_tuned_model = time.time()\n",
    "predictions_after = [best_model.predict(X_test)]\n",
    "# Flatten the predictions list\n",
    "predictions_after = [item for sublist in predictions_after for item in sublist]\n",
    "# Add the predicted values to the test_data DataFrame\n",
    "test_data['prediction_test_after_tuning'] = predictions_after\n",
    "\n",
    "end_time_testing_tuned_model = time.time()\n",
    "#print the run time\n",
    "print(\"Runtime for testing the tuned model om testing data: {:.2f} seconds\".format(end_time_testing_tuned_model - start_time_testing_tuned_model))"
   ]
  },
  {
   "cell_type": "code",
   "execution_count": null,
   "metadata": {
    "pycharm": {
     "is_executing": true
    }
   },
   "outputs": [],
   "source": [
    "rmse_after_tuning = np.sqrt(mean_squared_error(test_data['Day-ahead Price _EUR/MWh_ BZN|NO1'], test_data['prediction_test_after_tuning']))\n",
    "print(f'RMSE Score on test set: {rmse_after_tuning:0.2f}')\n",
    "\n",
    "# Calculate the mean absolute error (MAE) between the predicted and actual values\n",
    "mae_after_tuning = mean_absolute_error(test_data['Day-ahead Price _EUR/MWh_ BZN|NO1'], test_data['prediction_test_after_tuning'])\n",
    "print(\"Mean absolute error on test set: \", mae_after_tuning)\n",
    "\n",
    "# Calculating the mean squared error (MSE) between the predicted and actual values\n",
    "mse_after_tuning = mean_squared_error(test_data['Day-ahead Price _EUR/MWh_ BZN|NO1'], test_data['prediction_test_after_tuning'])\n",
    "print(\"Mean squared error on test set:\", mse_after_tuning)\n",
    "mape = mean_absolute_percentage_error(test_data['Day-ahead Price _EUR/MWh_ BZN|NO1'], test_data['prediction_test'])\n",
    "print(\"Mean absolute error on test set: \", mae_test_data)"
   ]
  },
  {
   "cell_type": "code",
   "execution_count": null,
   "metadata": {
    "pycharm": {
     "is_executing": true
    }
   },
   "outputs": [],
   "source": [
    "df = df.merge(test_data[['prediction_test_after_tuning']], how='left', left_index=True, right_index=True)\n",
    "ax = df[['Day-ahead Price _EUR/MWh_ BZN|NO1']].plot(figsize=(15, 5))\n",
    "df['prediction_test_after_tuning'].plot(ax=ax, style='.')\n",
    "plt.legend(['Truth Data', 'prediction_test'])\n",
    "ax.set_title('Raw Data and Prediction')\n",
    "plt.show()"
   ]
  },
  {
   "cell_type": "code",
   "execution_count": null,
   "metadata": {
    "pycharm": {
     "is_executing": true
    }
   },
   "outputs": [],
   "source": [
    "# Plotting predicted and real values\n",
    "plt.figure(figsize=(12, 6))\n",
    "plt.plot(test_data.index, test_data[TARGET], label='Real Values')\n",
    "plt.plot(test_data.index, predictions_after, label='Predicted Values')\n",
    "plt.xlabel('Time')\n",
    "plt.ylabel('Price')\n",
    "plt.title('Real vs Predicted Values')\n",
    "plt.legend()\n",
    "plt.show()"
   ]
  },
  {
   "cell_type": "code",
   "execution_count": null,
   "metadata": {
    "pycharm": {
     "is_executing": true
    }
   },
   "outputs": [],
   "source": [
    "## Showing predicted test data on a week\n",
    "ax = test_data.loc[(test_data.index > '2022-12-06') & (test_data.index < '2022-12-13')]['Day-ahead Price _EUR/MWh_ BZN|NO1'] \\\n",
    "    .plot(figsize=(15, 5), title='Week Of Testing  Data')\n",
    "test_data.loc[(test_data.index > '2022-12-06') & (test_data.index < '2022-12-13')]['prediction_test_after_tuning'] \\\n",
    "    .plot(style='.')\n",
    "plt.legend(['Truth Data','prediction_test'])\n",
    "plt.show()"
   ]
  },
  {
   "cell_type": "code",
   "execution_count": null,
   "metadata": {
    "pycharm": {
     "is_executing": true
    }
   },
   "outputs": [],
   "source": [
    "## Showing predicted test data on a month\n",
    "ax = df.loc[(df.index > '2022-12-01') & (df.index < '2022-12-30')]['Day-ahead Price _EUR/MWh_ BZN|NO1'] \\\n",
    "    .plot(figsize=(15, 5), title='Month Of Testing Data')\n",
    "df.loc[(df.index > '2022-12-01') & (df.index < '2022-12-30')]['prediction_test_after_tuning'] \\\n",
    "    .plot(style='.')\n",
    "plt.legend(['Truth Data','prediction_test'])\n",
    "plt.show()"
   ]
  }
 ],
 "metadata": {
  "kernelspec": {
   "display_name": "Python 3 (ipykernel)",
   "language": "python",
   "name": "python3"
  },
  "language_info": {
   "codemirror_mode": {
    "name": "ipython",
    "version": 3
   },
   "file_extension": ".py",
   "mimetype": "text/x-python",
   "name": "python",
   "nbconvert_exporter": "python",
   "pygments_lexer": "ipython3",
   "version": "3.9.12"
  }
 },
 "nbformat": 4,
 "nbformat_minor": 1
}
