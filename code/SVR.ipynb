{
 "cells": [
  {
   "cell_type": "code",
   "execution_count": 2,
   "metadata": {
    "ExecuteTime": {
     "start_time": "2023-05-18T12:51:19.380052Z",
     "end_time": "2023-05-18T12:51:20.746775Z"
    },
    "collapsed": true
   },
   "outputs": [],
   "source": [
    "import numpy as np\n",
    "import pandas as pd\n",
    "from sklearn.svm import SVR\n",
    "from sklearn.model_selection import train_test_split, GridSearchCV\n",
    "from sklearn.metrics import mean_squared_error, mean_absolute_error, mean_absolute_percentage_error\n",
    "import matplotlib.pyplot as plt\n",
    "# Set random seed for reproducibility\n",
    "np.random.seed(0)"
   ]
  },
  {
   "cell_type": "markdown",
   "metadata": {},
   "source": [
    "# Loading in dataset"
   ]
  },
  {
   "cell_type": "code",
   "execution_count": 3,
   "metadata": {
    "ExecuteTime": {
     "start_time": "2023-05-18T12:51:22.642849Z",
     "end_time": "2023-05-18T12:51:22.686916Z"
    }
   },
   "outputs": [],
   "source": [
    "df = pd.read_csv('../datasets/complete_data/df.csv')"
   ]
  },
  {
   "cell_type": "code",
   "execution_count": 4,
   "metadata": {
    "ExecuteTime": {
     "start_time": "2023-05-18T12:51:22.979730Z",
     "end_time": "2023-05-18T12:51:23.000749Z"
    }
   },
   "outputs": [],
   "source": [
    "for i in range(1, 25): # 24 Lags\n",
    "    df[f'lag_{i}'] = df['Day-ahead Price [EUR/MWh] BZN|NO1'].shift(i)"
   ]
  },
  {
   "cell_type": "code",
   "execution_count": 5,
   "metadata": {
    "ExecuteTime": {
     "start_time": "2023-05-18T12:51:23.441038Z",
     "end_time": "2023-05-18T12:51:23.479075Z"
    }
   },
   "outputs": [],
   "source": [
    "df = df.dropna()\n",
    "features = [f'lag_{i}' for i in range(1, 25)]  # 24 Lags\n",
    "target = 'Day-ahead Price [EUR/MWh] BZN|NO1'\n",
    "\n",
    "# 80% for training, 10% for validation, 10% for testing\n",
    "train_size = int(len(df) * 0.8)\n",
    "val_size = int(len(df) * 0.1)\n",
    "train, validate, test = np.split(df.sample(frac=1), [train_size, train_size+val_size])\n",
    "\n",
    "X_train = train[features]\n",
    "y_train = train[target]\n",
    "X_val = validate[features]\n",
    "y_val = validate[target]\n",
    "X_test = test[features]\n",
    "y_test = test[target]"
   ]
  },
  {
   "cell_type": "code",
   "execution_count": 6,
   "metadata": {
    "ExecuteTime": {
     "start_time": "2023-05-18T12:51:23.840311Z",
     "end_time": "2023-05-18T12:51:40.171784Z"
    }
   },
   "outputs": [
    {
     "name": "stderr",
     "output_type": "stream",
     "text": [
      "C:\\ProgramData\\Anaconda3\\lib\\site-packages\\sklearn\\svm\\_base.py:284: ConvergenceWarning: Solver terminated early (max_iter=1000).  Consider pre-processing your data with StandardScaler or MinMaxScaler.\n",
      "  warnings.warn(\n"
     ]
    },
    {
     "data": {
      "text/plain": "GridSearchCV(estimator=SVR(max_iter=1000), n_jobs=-1,\n             param_grid={'C': [1.5, 10], 'epsilon': [0.1, 0.2, 0.5, 0.3],\n                         'gamma': [1e-07, 0.0001],\n                         'kernel': ['linear', 'poly', 'rbf']})"
     },
     "execution_count": 6,
     "metadata": {},
     "output_type": "execute_result"
    }
   ],
   "source": [
    "parameters = {'kernel': ['linear', 'poly', 'rbf'], 'C':[1.5, 10],'gamma': [1e-7, 1e-4],'epsilon':[0.1,0.2,0.5,0.3]}\n",
    "svr = SVR(max_iter=1000) # 'max_iter=' controls the amount of iterations.\n",
    "clf = GridSearchCV(svr, parameters, n_jobs=-1)\n",
    "clf.fit(X_train, y_train)"
   ]
  },
  {
   "cell_type": "code",
   "execution_count": 7,
   "metadata": {
    "ExecuteTime": {
     "start_time": "2023-05-18T12:51:41.800718Z",
     "end_time": "2023-05-18T12:51:41.814731Z"
    }
   },
   "outputs": [],
   "source": [
    "def mean_absolute_percentage_error(y_true, y_pred):\n",
    "    y_true, y_pred = np.array(y_true), np.array(y_pred)\n",
    "    return np.mean(np.abs((y_true - y_pred) / y_true)) * 100"
   ]
  },
  {
   "cell_type": "code",
   "execution_count": 8,
   "metadata": {
    "ExecuteTime": {
     "start_time": "2023-05-18T12:51:42.373039Z",
     "end_time": "2023-05-18T12:51:43.305976Z"
    }
   },
   "outputs": [
    {
     "name": "stdout",
     "output_type": "stream",
     "text": [
      "Training MAE:  31.079594443440058\n",
      "Training MSE:  1334.7892358204404\n",
      "Training RMSE:  36.53476749372357\n",
      "Training MAPE:  92.72593077984622\n"
     ]
    }
   ],
   "source": [
    "y_train_pred = clf.predict(X_train)\n",
    "\n",
    "mae = mean_absolute_error(y_train, y_train_pred)\n",
    "print('Training MAE: ', mae)\n",
    "\n",
    "mse = mean_squared_error(y_train, y_train_pred)\n",
    "print('Training MSE: ', mse)\n",
    "\n",
    "rmse = np.sqrt(mse)\n",
    "print('Training RMSE: ', rmse)\n",
    "\n",
    "mape = mean_absolute_percentage_error(y_train, y_train_pred)\n",
    "print('Training MAPE: ', mape)"
   ]
  },
  {
   "cell_type": "code",
   "execution_count": 9,
   "metadata": {
    "ExecuteTime": {
     "start_time": "2023-05-18T12:51:44.750860Z",
     "end_time": "2023-05-18T12:51:44.872474Z"
    }
   },
   "outputs": [
    {
     "name": "stdout",
     "output_type": "stream",
     "text": [
      "Validation MAE:  31.04644023145066\n",
      "Validation MSE:  1336.6663064682832\n",
      "Validation RMSE:  36.56044729579062\n",
      "Validation MAPE:  44.916447463985\n"
     ]
    }
   ],
   "source": [
    "y_val_pred = clf.predict(X_val)\n",
    "\n",
    "mae = mean_absolute_error(y_val, y_val_pred)\n",
    "print('Validation MAE: ', mae)\n",
    "\n",
    "mse = mean_squared_error(y_val, y_val_pred)\n",
    "print('Validation MSE: ', mse)\n",
    "\n",
    "rmse = np.sqrt(mse)\n",
    "print('Validation RMSE: ', rmse)\n",
    "\n",
    "mape = mean_absolute_percentage_error(y_val, y_val_pred)\n",
    "print('Validation MAPE: ', mape)"
   ]
  },
  {
   "cell_type": "code",
   "execution_count": 10,
   "metadata": {
    "ExecuteTime": {
     "start_time": "2023-05-18T12:51:45.805809Z",
     "end_time": "2023-05-18T12:51:45.914526Z"
    }
   },
   "outputs": [
    {
     "name": "stdout",
     "output_type": "stream",
     "text": [
      "Test MAE:  32.182616697886516\n",
      "Test MSE:  1417.0182072861178\n",
      "Test RMSE:  37.6433022898645\n",
      "Test MAPE:  84.96033930904906\n"
     ]
    }
   ],
   "source": [
    "y_test_pred = clf.predict(X_test)\n",
    "\n",
    "mae = mean_absolute_error(y_test, y_test_pred)\n",
    "print('Test MAE: ', mae)\n",
    "\n",
    "mse = mean_squared_error(y_test, y_test_pred)\n",
    "print('Test MSE: ', mse)\n",
    "\n",
    "rmse = np.sqrt(mse)\n",
    "print('Test RMSE: ', rmse)\n",
    "\n",
    "mape = mean_absolute_percentage_error(y_test, y_test_pred)\n",
    "print('Test MAPE: ', mape)"
   ]
  },
  {
   "cell_type": "code",
   "execution_count": 11,
   "metadata": {
    "ExecuteTime": {
     "start_time": "2023-05-18T12:51:47.791143Z",
     "end_time": "2023-05-18T12:51:47.849762Z"
    }
   },
   "outputs": [
    {
     "name": "stdout",
     "output_type": "stream",
     "text": [
      "Training Baseline MAE:  108.24721365401993\n",
      "Training Baseline MSE:  21993.19411973249\n",
      "Training Baseline RMSE:  148.30102534956558\n",
      "Training Baseline MAPE:  328.9059809155257\n",
      "Validation Baseline MAE:  114.14762802018834\n",
      "Validation Baseline MSE:  24585.645623725624\n",
      "Validation Baseline RMSE:  156.79810465603728\n",
      "Validation Baseline MAPE:  172.07996810656684\n",
      "Test Baseline MAE:  106.40514929060686\n",
      "Test Baseline MSE:  21340.436886882962\n",
      "Test Baseline RMSE:  146.08366399732367\n",
      "Test Baseline MAPE:  280.73046961636464\n"
     ]
    }
   ],
   "source": [
    "# Add a naive forecast to your train, validation, and test sets\n",
    "train['naive_forecast'] = train['Day-ahead Price [EUR/MWh] BZN|NO1'].shift(1)\n",
    "validate['naive_forecast'] = validate['Day-ahead Price [EUR/MWh] BZN|NO1'].shift(1)\n",
    "test['naive_forecast'] = test['Day-ahead Price [EUR/MWh] BZN|NO1'].shift(1)\n",
    "\n",
    "# Evaluate the baseline model on the training set\n",
    "y_train_naive = train['naive_forecast'].dropna()\n",
    "y_true_train = train['Day-ahead Price [EUR/MWh] BZN|NO1'][1:]  # Drop the first value to align with the naive forecast\n",
    "\n",
    "mae = mean_absolute_error(y_true_train, y_train_naive)\n",
    "print('Training Baseline MAE: ', mae)\n",
    "\n",
    "mse = mean_squared_error(y_true_train, y_train_naive)\n",
    "print('Training Baseline MSE: ', mse)\n",
    "\n",
    "rmse = np.sqrt(mse)\n",
    "print('Training Baseline RMSE: ', rmse)\n",
    "\n",
    "mape = mean_absolute_percentage_error(y_true_train, y_train_naive)\n",
    "print('Training Baseline MAPE: ', mape)\n",
    "\n",
    "# Evaluate the baseline model on the validation set\n",
    "y_val_naive = validate['naive_forecast'].dropna()\n",
    "y_true_val = validate['Day-ahead Price [EUR/MWh] BZN|NO1'][1:]\n",
    "\n",
    "mae = mean_absolute_error(y_true_val, y_val_naive)\n",
    "print('Validation Baseline MAE: ', mae)\n",
    "\n",
    "mse = mean_squared_error(y_true_val, y_val_naive)\n",
    "print('Validation Baseline MSE: ', mse)\n",
    "\n",
    "rmse = np.sqrt(mse)\n",
    "print('Validation Baseline RMSE: ', rmse)\n",
    "\n",
    "mape = mean_absolute_percentage_error(y_true_val, y_val_naive)\n",
    "print('Validation Baseline MAPE: ', mape)\n",
    "\n",
    "# Evaluate the baseline model on the test set\n",
    "y_test_naive = test['naive_forecast'].dropna()\n",
    "y_true_test = test['Day-ahead Price [EUR/MWh] BZN|NO1'][1:]\n",
    "\n",
    "mae = mean_absolute_error(y_true_test, y_test_naive)\n",
    "print('Test Baseline MAE: ', mae)\n",
    "\n",
    "mse = mean_squared_error(y_true_test, y_test_naive)\n",
    "print('Test Baseline MSE: ', mse)\n",
    "\n",
    "rmse = np.sqrt(mse)\n",
    "print('Test Baseline RMSE: ', rmse)\n",
    "\n",
    "mape = mean_absolute_percentage_error(y_true_test, y_test_naive)\n",
    "print('Test Baseline MAPE: ', mape)"
   ]
  },
  {
   "cell_type": "markdown",
   "source": [
    "# Mean of Actual vs mean of predicted Day-ahead Price [EUR/MWh] BZN|NO1"
   ],
   "metadata": {
    "collapsed": false
   }
  },
  {
   "cell_type": "code",
   "execution_count": 20,
   "outputs": [
    {
     "name": "stdout",
     "output_type": "stream",
     "text": [
      "<class 'pandas.core.frame.DataFrame'>\n",
      "Int64Index: 6988 entries, 2937 to 4175\n",
      "Data columns (total 62 columns):\n",
      " #   Column                                                                         Non-Null Count  Dtype  \n",
      "---  ------                                                                         --------------  -----  \n",
      " 0   start MTU (UTC)                                                                6988 non-null   object \n",
      " 1   Day-ahead Price [EUR/MWh] BZN|NO1                                              6988 non-null   float64\n",
      " 2   Day-ahead Price [EUR/MWh] BZN|NO3                                              6988 non-null   float64\n",
      " 3   Day-ahead Price [EUR/MWh] BZN|NO5                                              6988 non-null   float64\n",
      " 4   Day-ahead Price [EUR/MWh] BZN|SE3                                              6988 non-null   float64\n",
      " 5   Actual Total Load [MW] - BZN|NO5                                               6988 non-null   float64\n",
      " 6   Hydro Run-of-river and poundage - BZN|NO1                                      6988 non-null   float64\n",
      " 7   Hydro Water Reservoir - BZN|NO1                                                6988 non-null   float64\n",
      " 8   Wind Onshore - BZN|NO1                                                         6988 non-null   float64\n",
      " 9   Hydro Pumped Storage Aggregated- BZN|NO2                                       6988 non-null   float64\n",
      " 10  Hydro Run-of-river and poundage - BZN|NO2                                      6988 non-null   float64\n",
      " 11  Hydro Water Reservoir - BZN|NO2                                                6988 non-null   float64\n",
      " 12  Waste - BZN|NO2                                                                6988 non-null   float64\n",
      " 13  Wind Onshore - BZN|NO2                                                         6988 non-null   float64\n",
      " 14  Hydro Pumped Storage Aggregated- BZN|NO3                                       6988 non-null   float64\n",
      " 15  Hydro Run-of-river and poundage - BZN|NO3                                      6988 non-null   float64\n",
      " 16  Hydro Water Reservoir - BZN|NO3                                                6988 non-null   float64\n",
      " 17  Other renewable - BZN|NO3                                                      6988 non-null   float64\n",
      " 18  Wind Onshore - BZN|NO3                                                         6988 non-null   float64\n",
      " 19  Fossil Gas - BZN|NO5                                                           6988 non-null   float64\n",
      " 20  Hydro Pumped Storage Aggregated- BZN|NO5                                       6988 non-null   float64\n",
      " 21  Hydro Run-of-river and poundage - BZN|NO5                                      6988 non-null   float64\n",
      " 22  Waste - BZN|NO5                                                                6988 non-null   float64\n",
      " 23  Hydro Water Reservoir - BZN|SE3                                                6988 non-null   float64\n",
      " 24  Nuclear - BZN|SE3                                                              6988 non-null   float64\n",
      " 25  Solar - BZN|SE3                                                                6988 non-null   float64\n",
      " 26  Wind Onshore - BZN|SE3                                                         6988 non-null   float64\n",
      " 27  CBF BZN|NO2 > BZN|NO1 [MW]                                                     6988 non-null   float64\n",
      " 28  CBF BZN|NO1 > BZN|NO2 [MW]                                                     6988 non-null   float64\n",
      " 29  CBF BZN|NO3 > BZN|NO1 [MW]                                                     6988 non-null   float64\n",
      " 30  CBF BZN|NO1 > BZN|NO3 [MW]                                                     6988 non-null   float64\n",
      " 31  CBF BZN|NO5 > BZN|NO1 [MW]                                                     6988 non-null   float64\n",
      " 32  CBF BZN|NO1 > BZN|NO5 [MW]                                                     6988 non-null   float64\n",
      " 33  CBF BZN|SE3 > BZN|NO1 [MW]                                                     6988 non-null   float64\n",
      " 34  CBF BZN|NO1 > BZN|SE3 [MW]                                                     6988 non-null   float64\n",
      " 35  Stored Energy Value Water Reservoirs and Hydro Storage Plants [MWh] - BZN|NO3  6988 non-null   float64\n",
      " 36  Stored Energy Value Water Reservoirs and Hydro Storage Plants [MWh] - BZN|SE3  6988 non-null   float64\n",
      " 37  lag_1                                                                          6988 non-null   float64\n",
      " 38  lag_2                                                                          6988 non-null   float64\n",
      " 39  lag_3                                                                          6988 non-null   float64\n",
      " 40  lag_4                                                                          6988 non-null   float64\n",
      " 41  lag_5                                                                          6988 non-null   float64\n",
      " 42  lag_6                                                                          6988 non-null   float64\n",
      " 43  lag_7                                                                          6988 non-null   float64\n",
      " 44  lag_8                                                                          6988 non-null   float64\n",
      " 45  lag_9                                                                          6988 non-null   float64\n",
      " 46  lag_10                                                                         6988 non-null   float64\n",
      " 47  lag_11                                                                         6988 non-null   float64\n",
      " 48  lag_12                                                                         6988 non-null   float64\n",
      " 49  lag_13                                                                         6988 non-null   float64\n",
      " 50  lag_14                                                                         6988 non-null   float64\n",
      " 51  lag_15                                                                         6988 non-null   float64\n",
      " 52  lag_16                                                                         6988 non-null   float64\n",
      " 53  lag_17                                                                         6988 non-null   float64\n",
      " 54  lag_18                                                                         6988 non-null   float64\n",
      " 55  lag_19                                                                         6988 non-null   float64\n",
      " 56  lag_20                                                                         6988 non-null   float64\n",
      " 57  lag_21                                                                         6988 non-null   float64\n",
      " 58  lag_22                                                                         6988 non-null   float64\n",
      " 59  lag_23                                                                         6988 non-null   float64\n",
      " 60  lag_24                                                                         6988 non-null   float64\n",
      " 61  naive_forecast                                                                 6987 non-null   float64\n",
      "dtypes: float64(61), object(1)\n",
      "memory usage: 3.4+ MB\n"
     ]
    }
   ],
   "source": [
    "train.info()"
   ],
   "metadata": {
    "collapsed": false,
    "ExecuteTime": {
     "start_time": "2023-05-18T13:02:55.271958Z",
     "end_time": "2023-05-18T13:02:55.323004Z"
    }
   }
  },
  {
   "cell_type": "code",
   "execution_count": 21,
   "outputs": [],
   "source": [],
   "metadata": {
    "collapsed": false,
    "ExecuteTime": {
     "start_time": "2023-05-18T13:08:51.356505Z",
     "end_time": "2023-05-18T13:08:51.376511Z"
    }
   }
  },
  {
   "cell_type": "code",
   "execution_count": null,
   "outputs": [],
   "source": [],
   "metadata": {
    "collapsed": false
   }
  }
 ],
 "metadata": {
  "kernelspec": {
   "display_name": "Python 3 (ipykernel)",
   "language": "python",
   "name": "python3"
  },
  "language_info": {
   "codemirror_mode": {
    "name": "ipython",
    "version": 3
   },
   "file_extension": ".py",
   "mimetype": "text/x-python",
   "name": "python",
   "nbconvert_exporter": "python",
   "pygments_lexer": "ipython3",
   "version": "3.9.13"
  }
 },
 "nbformat": 4,
 "nbformat_minor": 1
}
